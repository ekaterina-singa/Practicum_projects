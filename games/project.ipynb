{
 "cells": [
  {
   "cell_type": "markdown",
   "metadata": {},
   "source": [
    "# Исследование компьютерных игр"
   ]
  },
  {
   "cell_type": "markdown",
   "metadata": {},
   "source": [
    "**Содержание** \n",
    "<a id=0> </a>\n",
    "\n",
    "[Введение](#1)  \n",
    "[Предобработка данных](#2)  \n",
    "[Исследование данных](#3)   \n",
    "[Портреты пользователей](#4)  \n",
    "[Проверка гипотез](#5)  \n",
    "[Вывод](#6)"
   ]
  },
  {
   "cell_type": "markdown",
   "metadata": {},
   "source": [
    "## Введение\n",
    "<a id=1> </a>"
   ]
  },
  {
   "cell_type": "markdown",
   "metadata": {},
   "source": [
    "Наш интернет-магазин занимается продажей компьютерных игр по всему миру. В данном исследовании мы будем работать с выборкой компьютерных игр на разных платформах с 1980 по 2016 годы. Данные собраны из открытых источников: доступны исторические данные о продажах игр, оценки пользователей и экспертов, жанры и платформы (например, Xbox или PlayStation). Нам нужно выявить определяющие успешность игры закономерности. Это позволит сделать ставку на потенциально популярный продукт и спланировать рекламные кампании.\n",
    "Наш магазин планирует кампанию на 2017-й. Нужно выявить закономерности и отработать принцип работы с данными, который будет так же актуален и для последующих лет."
   ]
  },
  {
   "cell_type": "code",
   "execution_count": 1,
   "metadata": {},
   "outputs": [],
   "source": [
    "# импортируем нужные библиотеки\n",
    "import pandas as pd\n",
    "import datetime\n",
    "import numpy as np\n",
    "\n",
    "import seaborn as sns\n",
    "import matplotlib.pyplot as plt\n",
    "\n",
    "from scipy import stats as st "
   ]
  },
  {
   "cell_type": "code",
   "execution_count": 2,
   "metadata": {
    "scrolled": true
   },
   "outputs": [
    {
     "data": {
      "text/html": [
       "<div>\n",
       "<style scoped>\n",
       "    .dataframe tbody tr th:only-of-type {\n",
       "        vertical-align: middle;\n",
       "    }\n",
       "\n",
       "    .dataframe tbody tr th {\n",
       "        vertical-align: top;\n",
       "    }\n",
       "\n",
       "    .dataframe thead th {\n",
       "        text-align: right;\n",
       "    }\n",
       "</style>\n",
       "<table border=\"1\" class=\"dataframe\">\n",
       "  <thead>\n",
       "    <tr style=\"text-align: right;\">\n",
       "      <th></th>\n",
       "      <th>Name</th>\n",
       "      <th>Platform</th>\n",
       "      <th>Year_of_Release</th>\n",
       "      <th>Genre</th>\n",
       "      <th>NA_sales</th>\n",
       "      <th>EU_sales</th>\n",
       "      <th>JP_sales</th>\n",
       "      <th>Other_sales</th>\n",
       "      <th>Critic_Score</th>\n",
       "      <th>User_Score</th>\n",
       "      <th>Rating</th>\n",
       "    </tr>\n",
       "  </thead>\n",
       "  <tbody>\n",
       "    <tr>\n",
       "      <th>0</th>\n",
       "      <td>Wii Sports</td>\n",
       "      <td>Wii</td>\n",
       "      <td>2006.0</td>\n",
       "      <td>Sports</td>\n",
       "      <td>41.36</td>\n",
       "      <td>28.96</td>\n",
       "      <td>3.77</td>\n",
       "      <td>8.45</td>\n",
       "      <td>76.0</td>\n",
       "      <td>8</td>\n",
       "      <td>E</td>\n",
       "    </tr>\n",
       "    <tr>\n",
       "      <th>1</th>\n",
       "      <td>Super Mario Bros.</td>\n",
       "      <td>NES</td>\n",
       "      <td>1985.0</td>\n",
       "      <td>Platform</td>\n",
       "      <td>29.08</td>\n",
       "      <td>3.58</td>\n",
       "      <td>6.81</td>\n",
       "      <td>0.77</td>\n",
       "      <td>NaN</td>\n",
       "      <td>NaN</td>\n",
       "      <td>NaN</td>\n",
       "    </tr>\n",
       "    <tr>\n",
       "      <th>2</th>\n",
       "      <td>Mario Kart Wii</td>\n",
       "      <td>Wii</td>\n",
       "      <td>2008.0</td>\n",
       "      <td>Racing</td>\n",
       "      <td>15.68</td>\n",
       "      <td>12.76</td>\n",
       "      <td>3.79</td>\n",
       "      <td>3.29</td>\n",
       "      <td>82.0</td>\n",
       "      <td>8.3</td>\n",
       "      <td>E</td>\n",
       "    </tr>\n",
       "    <tr>\n",
       "      <th>3</th>\n",
       "      <td>Wii Sports Resort</td>\n",
       "      <td>Wii</td>\n",
       "      <td>2009.0</td>\n",
       "      <td>Sports</td>\n",
       "      <td>15.61</td>\n",
       "      <td>10.93</td>\n",
       "      <td>3.28</td>\n",
       "      <td>2.95</td>\n",
       "      <td>80.0</td>\n",
       "      <td>8</td>\n",
       "      <td>E</td>\n",
       "    </tr>\n",
       "    <tr>\n",
       "      <th>4</th>\n",
       "      <td>Pokemon Red/Pokemon Blue</td>\n",
       "      <td>GB</td>\n",
       "      <td>1996.0</td>\n",
       "      <td>Role-Playing</td>\n",
       "      <td>11.27</td>\n",
       "      <td>8.89</td>\n",
       "      <td>10.22</td>\n",
       "      <td>1.00</td>\n",
       "      <td>NaN</td>\n",
       "      <td>NaN</td>\n",
       "      <td>NaN</td>\n",
       "    </tr>\n",
       "    <tr>\n",
       "      <th>...</th>\n",
       "      <td>...</td>\n",
       "      <td>...</td>\n",
       "      <td>...</td>\n",
       "      <td>...</td>\n",
       "      <td>...</td>\n",
       "      <td>...</td>\n",
       "      <td>...</td>\n",
       "      <td>...</td>\n",
       "      <td>...</td>\n",
       "      <td>...</td>\n",
       "      <td>...</td>\n",
       "    </tr>\n",
       "    <tr>\n",
       "      <th>16710</th>\n",
       "      <td>Samurai Warriors: Sanada Maru</td>\n",
       "      <td>PS3</td>\n",
       "      <td>2016.0</td>\n",
       "      <td>Action</td>\n",
       "      <td>0.00</td>\n",
       "      <td>0.00</td>\n",
       "      <td>0.01</td>\n",
       "      <td>0.00</td>\n",
       "      <td>NaN</td>\n",
       "      <td>NaN</td>\n",
       "      <td>NaN</td>\n",
       "    </tr>\n",
       "    <tr>\n",
       "      <th>16711</th>\n",
       "      <td>LMA Manager 2007</td>\n",
       "      <td>X360</td>\n",
       "      <td>2006.0</td>\n",
       "      <td>Sports</td>\n",
       "      <td>0.00</td>\n",
       "      <td>0.01</td>\n",
       "      <td>0.00</td>\n",
       "      <td>0.00</td>\n",
       "      <td>NaN</td>\n",
       "      <td>NaN</td>\n",
       "      <td>NaN</td>\n",
       "    </tr>\n",
       "    <tr>\n",
       "      <th>16712</th>\n",
       "      <td>Haitaka no Psychedelica</td>\n",
       "      <td>PSV</td>\n",
       "      <td>2016.0</td>\n",
       "      <td>Adventure</td>\n",
       "      <td>0.00</td>\n",
       "      <td>0.00</td>\n",
       "      <td>0.01</td>\n",
       "      <td>0.00</td>\n",
       "      <td>NaN</td>\n",
       "      <td>NaN</td>\n",
       "      <td>NaN</td>\n",
       "    </tr>\n",
       "    <tr>\n",
       "      <th>16713</th>\n",
       "      <td>Spirits &amp; Spells</td>\n",
       "      <td>GBA</td>\n",
       "      <td>2003.0</td>\n",
       "      <td>Platform</td>\n",
       "      <td>0.01</td>\n",
       "      <td>0.00</td>\n",
       "      <td>0.00</td>\n",
       "      <td>0.00</td>\n",
       "      <td>NaN</td>\n",
       "      <td>NaN</td>\n",
       "      <td>NaN</td>\n",
       "    </tr>\n",
       "    <tr>\n",
       "      <th>16714</th>\n",
       "      <td>Winning Post 8 2016</td>\n",
       "      <td>PSV</td>\n",
       "      <td>2016.0</td>\n",
       "      <td>Simulation</td>\n",
       "      <td>0.00</td>\n",
       "      <td>0.00</td>\n",
       "      <td>0.01</td>\n",
       "      <td>0.00</td>\n",
       "      <td>NaN</td>\n",
       "      <td>NaN</td>\n",
       "      <td>NaN</td>\n",
       "    </tr>\n",
       "  </tbody>\n",
       "</table>\n",
       "<p>16715 rows × 11 columns</p>\n",
       "</div>"
      ],
      "text/plain": [
       "                                Name Platform  Year_of_Release         Genre  \\\n",
       "0                         Wii Sports      Wii           2006.0        Sports   \n",
       "1                  Super Mario Bros.      NES           1985.0      Platform   \n",
       "2                     Mario Kart Wii      Wii           2008.0        Racing   \n",
       "3                  Wii Sports Resort      Wii           2009.0        Sports   \n",
       "4           Pokemon Red/Pokemon Blue       GB           1996.0  Role-Playing   \n",
       "...                              ...      ...              ...           ...   \n",
       "16710  Samurai Warriors: Sanada Maru      PS3           2016.0        Action   \n",
       "16711               LMA Manager 2007     X360           2006.0        Sports   \n",
       "16712        Haitaka no Psychedelica      PSV           2016.0     Adventure   \n",
       "16713               Spirits & Spells      GBA           2003.0      Platform   \n",
       "16714            Winning Post 8 2016      PSV           2016.0    Simulation   \n",
       "\n",
       "       NA_sales  EU_sales  JP_sales  Other_sales  Critic_Score User_Score  \\\n",
       "0         41.36     28.96      3.77         8.45          76.0          8   \n",
       "1         29.08      3.58      6.81         0.77           NaN        NaN   \n",
       "2         15.68     12.76      3.79         3.29          82.0        8.3   \n",
       "3         15.61     10.93      3.28         2.95          80.0          8   \n",
       "4         11.27      8.89     10.22         1.00           NaN        NaN   \n",
       "...         ...       ...       ...          ...           ...        ...   \n",
       "16710      0.00      0.00      0.01         0.00           NaN        NaN   \n",
       "16711      0.00      0.01      0.00         0.00           NaN        NaN   \n",
       "16712      0.00      0.00      0.01         0.00           NaN        NaN   \n",
       "16713      0.01      0.00      0.00         0.00           NaN        NaN   \n",
       "16714      0.00      0.00      0.01         0.00           NaN        NaN   \n",
       "\n",
       "      Rating  \n",
       "0          E  \n",
       "1        NaN  \n",
       "2          E  \n",
       "3          E  \n",
       "4        NaN  \n",
       "...      ...  \n",
       "16710    NaN  \n",
       "16711    NaN  \n",
       "16712    NaN  \n",
       "16713    NaN  \n",
       "16714    NaN  \n",
       "\n",
       "[16715 rows x 11 columns]"
      ]
     },
     "metadata": {},
     "output_type": "display_data"
    },
    {
     "name": "stdout",
     "output_type": "stream",
     "text": [
      "<class 'pandas.core.frame.DataFrame'>\n",
      "RangeIndex: 16715 entries, 0 to 16714\n",
      "Data columns (total 11 columns):\n",
      " #   Column           Non-Null Count  Dtype  \n",
      "---  ------           --------------  -----  \n",
      " 0   Name             16713 non-null  object \n",
      " 1   Platform         16715 non-null  object \n",
      " 2   Year_of_Release  16446 non-null  float64\n",
      " 3   Genre            16713 non-null  object \n",
      " 4   NA_sales         16715 non-null  float64\n",
      " 5   EU_sales         16715 non-null  float64\n",
      " 6   JP_sales         16715 non-null  float64\n",
      " 7   Other_sales      16715 non-null  float64\n",
      " 8   Critic_Score     8137 non-null   float64\n",
      " 9   User_Score       10014 non-null  object \n",
      " 10  Rating           9949 non-null   object \n",
      "dtypes: float64(6), object(5)\n",
      "memory usage: 1.4+ MB\n"
     ]
    }
   ],
   "source": [
    "try:\n",
    "    data = pd.read_csv('/datasets/games.csv') # откроем датасет\n",
    "except FileNotFoundError:\n",
    "    data = pd.read_csv('/Users/09e6y/Desktop/Катькис/Практикум/Проект 5 games/games.csv')\n",
    "display(data)\n",
    "data.info() # посмотрим на данные"
   ]
  },
  {
   "cell_type": "markdown",
   "metadata": {},
   "source": [
    "[Содержание](#0)"
   ]
  },
  {
   "cell_type": "markdown",
   "metadata": {},
   "source": [
    "## Поиск ошибок и предобработка данных\n",
    "<a id=2> </a>"
   ]
  },
  {
   "cell_type": "markdown",
   "metadata": {},
   "source": [
    "1. Нас не устраивают названия колонок - нужно привести их к более стандартному и общепринятому виду.\n",
    "0. Есть пропуски, часть из которых можно и нужно обработать.\n",
    "0. Год заменим на цельночисленное значение.\n",
    "0. Проверим наличие дубликатов.\n",
    "0. Посмотрим на колонку с возрастным рейтингом.\n"
   ]
  },
  {
   "cell_type": "code",
   "execution_count": 3,
   "metadata": {},
   "outputs": [
    {
     "data": {
      "text/html": [
       "<div>\n",
       "<style scoped>\n",
       "    .dataframe tbody tr th:only-of-type {\n",
       "        vertical-align: middle;\n",
       "    }\n",
       "\n",
       "    .dataframe tbody tr th {\n",
       "        vertical-align: top;\n",
       "    }\n",
       "\n",
       "    .dataframe thead th {\n",
       "        text-align: right;\n",
       "    }\n",
       "</style>\n",
       "<table border=\"1\" class=\"dataframe\">\n",
       "  <thead>\n",
       "    <tr style=\"text-align: right;\">\n",
       "      <th></th>\n",
       "      <th>name</th>\n",
       "      <th>platform</th>\n",
       "      <th>year_of_release</th>\n",
       "      <th>genre</th>\n",
       "      <th>na_sales</th>\n",
       "      <th>eu_sales</th>\n",
       "      <th>jp_sales</th>\n",
       "      <th>other_sales</th>\n",
       "      <th>critic_score</th>\n",
       "      <th>user_score</th>\n",
       "      <th>rating</th>\n",
       "    </tr>\n",
       "  </thead>\n",
       "  <tbody>\n",
       "    <tr>\n",
       "      <th>0</th>\n",
       "      <td>Wii Sports</td>\n",
       "      <td>Wii</td>\n",
       "      <td>2006.0</td>\n",
       "      <td>Sports</td>\n",
       "      <td>41.36</td>\n",
       "      <td>28.96</td>\n",
       "      <td>3.77</td>\n",
       "      <td>8.45</td>\n",
       "      <td>76.0</td>\n",
       "      <td>8</td>\n",
       "      <td>E</td>\n",
       "    </tr>\n",
       "    <tr>\n",
       "      <th>1</th>\n",
       "      <td>Super Mario Bros.</td>\n",
       "      <td>NES</td>\n",
       "      <td>1985.0</td>\n",
       "      <td>Platform</td>\n",
       "      <td>29.08</td>\n",
       "      <td>3.58</td>\n",
       "      <td>6.81</td>\n",
       "      <td>0.77</td>\n",
       "      <td>NaN</td>\n",
       "      <td>NaN</td>\n",
       "      <td>NaN</td>\n",
       "    </tr>\n",
       "    <tr>\n",
       "      <th>2</th>\n",
       "      <td>Mario Kart Wii</td>\n",
       "      <td>Wii</td>\n",
       "      <td>2008.0</td>\n",
       "      <td>Racing</td>\n",
       "      <td>15.68</td>\n",
       "      <td>12.76</td>\n",
       "      <td>3.79</td>\n",
       "      <td>3.29</td>\n",
       "      <td>82.0</td>\n",
       "      <td>8.3</td>\n",
       "      <td>E</td>\n",
       "    </tr>\n",
       "    <tr>\n",
       "      <th>3</th>\n",
       "      <td>Wii Sports Resort</td>\n",
       "      <td>Wii</td>\n",
       "      <td>2009.0</td>\n",
       "      <td>Sports</td>\n",
       "      <td>15.61</td>\n",
       "      <td>10.93</td>\n",
       "      <td>3.28</td>\n",
       "      <td>2.95</td>\n",
       "      <td>80.0</td>\n",
       "      <td>8</td>\n",
       "      <td>E</td>\n",
       "    </tr>\n",
       "    <tr>\n",
       "      <th>4</th>\n",
       "      <td>Pokemon Red/Pokemon Blue</td>\n",
       "      <td>GB</td>\n",
       "      <td>1996.0</td>\n",
       "      <td>Role-Playing</td>\n",
       "      <td>11.27</td>\n",
       "      <td>8.89</td>\n",
       "      <td>10.22</td>\n",
       "      <td>1.00</td>\n",
       "      <td>NaN</td>\n",
       "      <td>NaN</td>\n",
       "      <td>NaN</td>\n",
       "    </tr>\n",
       "    <tr>\n",
       "      <th>...</th>\n",
       "      <td>...</td>\n",
       "      <td>...</td>\n",
       "      <td>...</td>\n",
       "      <td>...</td>\n",
       "      <td>...</td>\n",
       "      <td>...</td>\n",
       "      <td>...</td>\n",
       "      <td>...</td>\n",
       "      <td>...</td>\n",
       "      <td>...</td>\n",
       "      <td>...</td>\n",
       "    </tr>\n",
       "    <tr>\n",
       "      <th>16710</th>\n",
       "      <td>Samurai Warriors: Sanada Maru</td>\n",
       "      <td>PS3</td>\n",
       "      <td>2016.0</td>\n",
       "      <td>Action</td>\n",
       "      <td>0.00</td>\n",
       "      <td>0.00</td>\n",
       "      <td>0.01</td>\n",
       "      <td>0.00</td>\n",
       "      <td>NaN</td>\n",
       "      <td>NaN</td>\n",
       "      <td>NaN</td>\n",
       "    </tr>\n",
       "    <tr>\n",
       "      <th>16711</th>\n",
       "      <td>LMA Manager 2007</td>\n",
       "      <td>X360</td>\n",
       "      <td>2006.0</td>\n",
       "      <td>Sports</td>\n",
       "      <td>0.00</td>\n",
       "      <td>0.01</td>\n",
       "      <td>0.00</td>\n",
       "      <td>0.00</td>\n",
       "      <td>NaN</td>\n",
       "      <td>NaN</td>\n",
       "      <td>NaN</td>\n",
       "    </tr>\n",
       "    <tr>\n",
       "      <th>16712</th>\n",
       "      <td>Haitaka no Psychedelica</td>\n",
       "      <td>PSV</td>\n",
       "      <td>2016.0</td>\n",
       "      <td>Adventure</td>\n",
       "      <td>0.00</td>\n",
       "      <td>0.00</td>\n",
       "      <td>0.01</td>\n",
       "      <td>0.00</td>\n",
       "      <td>NaN</td>\n",
       "      <td>NaN</td>\n",
       "      <td>NaN</td>\n",
       "    </tr>\n",
       "    <tr>\n",
       "      <th>16713</th>\n",
       "      <td>Spirits &amp; Spells</td>\n",
       "      <td>GBA</td>\n",
       "      <td>2003.0</td>\n",
       "      <td>Platform</td>\n",
       "      <td>0.01</td>\n",
       "      <td>0.00</td>\n",
       "      <td>0.00</td>\n",
       "      <td>0.00</td>\n",
       "      <td>NaN</td>\n",
       "      <td>NaN</td>\n",
       "      <td>NaN</td>\n",
       "    </tr>\n",
       "    <tr>\n",
       "      <th>16714</th>\n",
       "      <td>Winning Post 8 2016</td>\n",
       "      <td>PSV</td>\n",
       "      <td>2016.0</td>\n",
       "      <td>Simulation</td>\n",
       "      <td>0.00</td>\n",
       "      <td>0.00</td>\n",
       "      <td>0.01</td>\n",
       "      <td>0.00</td>\n",
       "      <td>NaN</td>\n",
       "      <td>NaN</td>\n",
       "      <td>NaN</td>\n",
       "    </tr>\n",
       "  </tbody>\n",
       "</table>\n",
       "<p>16715 rows × 11 columns</p>\n",
       "</div>"
      ],
      "text/plain": [
       "                                name platform  year_of_release         genre  \\\n",
       "0                         Wii Sports      Wii           2006.0        Sports   \n",
       "1                  Super Mario Bros.      NES           1985.0      Platform   \n",
       "2                     Mario Kart Wii      Wii           2008.0        Racing   \n",
       "3                  Wii Sports Resort      Wii           2009.0        Sports   \n",
       "4           Pokemon Red/Pokemon Blue       GB           1996.0  Role-Playing   \n",
       "...                              ...      ...              ...           ...   \n",
       "16710  Samurai Warriors: Sanada Maru      PS3           2016.0        Action   \n",
       "16711               LMA Manager 2007     X360           2006.0        Sports   \n",
       "16712        Haitaka no Psychedelica      PSV           2016.0     Adventure   \n",
       "16713               Spirits & Spells      GBA           2003.0      Platform   \n",
       "16714            Winning Post 8 2016      PSV           2016.0    Simulation   \n",
       "\n",
       "       na_sales  eu_sales  jp_sales  other_sales  critic_score user_score  \\\n",
       "0         41.36     28.96      3.77         8.45          76.0          8   \n",
       "1         29.08      3.58      6.81         0.77           NaN        NaN   \n",
       "2         15.68     12.76      3.79         3.29          82.0        8.3   \n",
       "3         15.61     10.93      3.28         2.95          80.0          8   \n",
       "4         11.27      8.89     10.22         1.00           NaN        NaN   \n",
       "...         ...       ...       ...          ...           ...        ...   \n",
       "16710      0.00      0.00      0.01         0.00           NaN        NaN   \n",
       "16711      0.00      0.01      0.00         0.00           NaN        NaN   \n",
       "16712      0.00      0.00      0.01         0.00           NaN        NaN   \n",
       "16713      0.01      0.00      0.00         0.00           NaN        NaN   \n",
       "16714      0.00      0.00      0.01         0.00           NaN        NaN   \n",
       "\n",
       "      rating  \n",
       "0          E  \n",
       "1        NaN  \n",
       "2          E  \n",
       "3          E  \n",
       "4        NaN  \n",
       "...      ...  \n",
       "16710    NaN  \n",
       "16711    NaN  \n",
       "16712    NaN  \n",
       "16713    NaN  \n",
       "16714    NaN  \n",
       "\n",
       "[16715 rows x 11 columns]"
      ]
     },
     "execution_count": 3,
     "metadata": {},
     "output_type": "execute_result"
    }
   ],
   "source": [
    "# поменяем названия колонок\n",
    "data.columns = data.columns.str.lower()\n",
    "data"
   ]
  },
  {
   "cell_type": "code",
   "execution_count": 4,
   "metadata": {
    "scrolled": false
   },
   "outputs": [
    {
     "data": {
      "text/plain": [
       "0"
      ]
     },
     "execution_count": 4,
     "metadata": {},
     "output_type": "execute_result"
    }
   ],
   "source": [
    "data.duplicated().sum() # проверим на наличие дубликатов"
   ]
  },
  {
   "cell_type": "code",
   "execution_count": 5,
   "metadata": {},
   "outputs": [
    {
     "data": {
      "text/plain": [
       "2"
      ]
     },
     "execution_count": 5,
     "metadata": {},
     "output_type": "execute_result"
    }
   ],
   "source": [
    "data.duplicated(subset=['name', 'platform', 'year_of_release']).sum()"
   ]
  },
  {
   "cell_type": "code",
   "execution_count": 6,
   "metadata": {},
   "outputs": [
    {
     "data": {
      "text/plain": [
       "0"
      ]
     },
     "execution_count": 6,
     "metadata": {},
     "output_type": "execute_result"
    }
   ],
   "source": [
    "data.drop_duplicates(subset=['name', 'platform', 'year_of_release'], inplace=True) # удалим дубликаты\n",
    "data.duplicated(subset=['name', 'platform', 'year_of_release']).sum()"
   ]
  },
  {
   "cell_type": "markdown",
   "metadata": {},
   "source": [
    "Посмотрим, что не так с колонкой 'user_score', почему тип данных определяется как object, для этого выведем уникальные значения."
   ]
  },
  {
   "cell_type": "code",
   "execution_count": 7,
   "metadata": {},
   "outputs": [
    {
     "data": {
      "text/plain": [
       "array(['8', nan, '8.3', '8.5', '6.6', '8.4', '8.6', '7.7', '6.3', '7.4',\n",
       "       '8.2', '9', '7.9', '8.1', '8.7', '7.1', '3.4', '5.3', '4.8', '3.2',\n",
       "       '8.9', '6.4', '7.8', '7.5', '2.6', '7.2', '9.2', '7', '7.3', '4.3',\n",
       "       '7.6', '5.7', '5', '9.1', '6.5', 'tbd', '8.8', '6.9', '9.4', '6.8',\n",
       "       '6.1', '6.7', '5.4', '4', '4.9', '4.5', '9.3', '6.2', '4.2', '6',\n",
       "       '3.7', '4.1', '5.8', '5.6', '5.5', '4.4', '4.6', '5.9', '3.9',\n",
       "       '3.1', '2.9', '5.2', '3.3', '4.7', '5.1', '3.5', '2.5', '1.9', '3',\n",
       "       '2.7', '2.2', '2', '9.5', '2.1', '3.6', '2.8', '1.8', '3.8', '0',\n",
       "       '1.6', '9.6', '2.4', '1.7', '1.1', '0.3', '1.5', '0.7', '1.2',\n",
       "       '2.3', '0.5', '1.3', '0.2', '0.6', '1.4', '0.9', '1', '9.7'],\n",
       "      dtype=object)"
      ]
     },
     "execution_count": 7,
     "metadata": {},
     "output_type": "execute_result"
    }
   ],
   "source": [
    "data['user_score'].unique()"
   ]
  },
  {
   "cell_type": "markdown",
   "metadata": {},
   "source": [
    "Из-за того что в данные, записанные в колонке 'user_score' вкралась запись 'tbd' тип данных в ней определяется как object. Эта запись означает 'to be decided' - стандартное в мире компьютерных игр обозначение пропусков в данных, которые появятся в будущем. Поскольку заменить их на 0 или, к примеру, медиану будет не корректным (речь идет о будущем, мы еще не знаем этих данных) - заменим их на привычное обозначение NaN, которое не помешает расчетам, и позже, при необходимости, удалим строки с пропусками. Пока что не хотелось бы избавляться от такого большого количества данных."
   ]
  },
  {
   "cell_type": "code",
   "execution_count": 8,
   "metadata": {},
   "outputs": [
    {
     "name": "stdout",
     "output_type": "stream",
     "text": [
      "<class 'pandas.core.frame.DataFrame'>\n",
      "Int64Index: 16713 entries, 0 to 16714\n",
      "Data columns (total 11 columns):\n",
      " #   Column           Non-Null Count  Dtype  \n",
      "---  ------           --------------  -----  \n",
      " 0   name             16712 non-null  object \n",
      " 1   platform         16713 non-null  object \n",
      " 2   year_of_release  16444 non-null  float64\n",
      " 3   genre            16712 non-null  object \n",
      " 4   na_sales         16713 non-null  float64\n",
      " 5   eu_sales         16713 non-null  float64\n",
      " 6   jp_sales         16713 non-null  float64\n",
      " 7   other_sales      16713 non-null  float64\n",
      " 8   critic_score     8136 non-null   float64\n",
      " 9   user_score       7589 non-null   float64\n",
      " 10  rating           9948 non-null   object \n",
      "dtypes: float64(7), object(4)\n",
      "memory usage: 1.5+ MB\n"
     ]
    }
   ],
   "source": [
    "data['user_score'] = pd.to_numeric(data['user_score'], errors='coerce')\n",
    "# приведем данные к формату float, 'tbd' автоматически заменится на NaN\n",
    "\n",
    "data.info()"
   ]
  },
  {
   "cell_type": "code",
   "execution_count": 9,
   "metadata": {
    "scrolled": true
   },
   "outputs": [
    {
     "data": {
      "text/plain": [
       "name                  1\n",
       "platform              0\n",
       "year_of_release     269\n",
       "genre                 1\n",
       "na_sales              0\n",
       "eu_sales              0\n",
       "jp_sales              0\n",
       "other_sales           0\n",
       "critic_score       8577\n",
       "user_score         9124\n",
       "rating             6765\n",
       "dtype: int64"
      ]
     },
     "execution_count": 9,
     "metadata": {},
     "output_type": "execute_result"
    }
   ],
   "source": [
    "data.isna().sum() # посчитаем пропуски"
   ]
  },
  {
   "cell_type": "markdown",
   "metadata": {},
   "source": [
    "Пропусков в столбце с названием игры и жанром - всего по 2, можем избавиться от них, не опасаясь искажения данных. Пропусков с годом релиза тоже очень мало - их не корректо будет заменить на среднее или медиану, потому что нет значения колонки, по которой можно было бы сделать такое сравнение, чтобы восстановить данные. \n",
    "\n",
    "Отдельно скажем, что предполагаемая причина пропусков, на наш взгляд, кроется в источнике этих данных - они собирались вручную по открытым источникам, поскольку некоторые игры вышли еще в прошлом веке - информацию о них не так-то просто найти."
   ]
  },
  {
   "cell_type": "code",
   "execution_count": 10,
   "metadata": {},
   "outputs": [],
   "source": [
    "data = data.dropna(subset=['name', 'year_of_release', 'genre']).reset_index(drop=True)"
   ]
  },
  {
   "cell_type": "code",
   "execution_count": 11,
   "metadata": {
    "scrolled": true
   },
   "outputs": [
    {
     "data": {
      "text/plain": [
       "name                  0\n",
       "platform              0\n",
       "year_of_release       0\n",
       "genre                 0\n",
       "na_sales              0\n",
       "eu_sales              0\n",
       "jp_sales              0\n",
       "other_sales           0\n",
       "critic_score       8461\n",
       "user_score         8981\n",
       "rating             6676\n",
       "dtype: int64"
      ]
     },
     "execution_count": 11,
     "metadata": {},
     "output_type": "execute_result"
    }
   ],
   "source": [
    "data.isna().sum() # посчитаем пропуски снова"
   ]
  },
  {
   "cell_type": "code",
   "execution_count": 12,
   "metadata": {},
   "outputs": [
    {
     "data": {
      "text/html": [
       "<div>\n",
       "<style scoped>\n",
       "    .dataframe tbody tr th:only-of-type {\n",
       "        vertical-align: middle;\n",
       "    }\n",
       "\n",
       "    .dataframe tbody tr th {\n",
       "        vertical-align: top;\n",
       "    }\n",
       "\n",
       "    .dataframe thead th {\n",
       "        text-align: right;\n",
       "    }\n",
       "</style>\n",
       "<table border=\"1\" class=\"dataframe\">\n",
       "  <thead>\n",
       "    <tr style=\"text-align: right;\">\n",
       "      <th></th>\n",
       "      <th>name</th>\n",
       "      <th>platform</th>\n",
       "      <th>year_of_release</th>\n",
       "      <th>genre</th>\n",
       "      <th>na_sales</th>\n",
       "      <th>eu_sales</th>\n",
       "      <th>jp_sales</th>\n",
       "      <th>other_sales</th>\n",
       "      <th>critic_score</th>\n",
       "      <th>user_score</th>\n",
       "      <th>rating</th>\n",
       "    </tr>\n",
       "  </thead>\n",
       "  <tbody>\n",
       "    <tr>\n",
       "      <th>0</th>\n",
       "      <td>Wii Sports</td>\n",
       "      <td>Wii</td>\n",
       "      <td>2006</td>\n",
       "      <td>Sports</td>\n",
       "      <td>41.36</td>\n",
       "      <td>28.96</td>\n",
       "      <td>3.77</td>\n",
       "      <td>8.45</td>\n",
       "      <td>76.0</td>\n",
       "      <td>8.0</td>\n",
       "      <td>E</td>\n",
       "    </tr>\n",
       "    <tr>\n",
       "      <th>1</th>\n",
       "      <td>Super Mario Bros.</td>\n",
       "      <td>NES</td>\n",
       "      <td>1985</td>\n",
       "      <td>Platform</td>\n",
       "      <td>29.08</td>\n",
       "      <td>3.58</td>\n",
       "      <td>6.81</td>\n",
       "      <td>0.77</td>\n",
       "      <td>NaN</td>\n",
       "      <td>NaN</td>\n",
       "      <td>NaN</td>\n",
       "    </tr>\n",
       "    <tr>\n",
       "      <th>2</th>\n",
       "      <td>Mario Kart Wii</td>\n",
       "      <td>Wii</td>\n",
       "      <td>2008</td>\n",
       "      <td>Racing</td>\n",
       "      <td>15.68</td>\n",
       "      <td>12.76</td>\n",
       "      <td>3.79</td>\n",
       "      <td>3.29</td>\n",
       "      <td>82.0</td>\n",
       "      <td>8.3</td>\n",
       "      <td>E</td>\n",
       "    </tr>\n",
       "    <tr>\n",
       "      <th>3</th>\n",
       "      <td>Wii Sports Resort</td>\n",
       "      <td>Wii</td>\n",
       "      <td>2009</td>\n",
       "      <td>Sports</td>\n",
       "      <td>15.61</td>\n",
       "      <td>10.93</td>\n",
       "      <td>3.28</td>\n",
       "      <td>2.95</td>\n",
       "      <td>80.0</td>\n",
       "      <td>8.0</td>\n",
       "      <td>E</td>\n",
       "    </tr>\n",
       "    <tr>\n",
       "      <th>4</th>\n",
       "      <td>Pokemon Red/Pokemon Blue</td>\n",
       "      <td>GB</td>\n",
       "      <td>1996</td>\n",
       "      <td>Role-Playing</td>\n",
       "      <td>11.27</td>\n",
       "      <td>8.89</td>\n",
       "      <td>10.22</td>\n",
       "      <td>1.00</td>\n",
       "      <td>NaN</td>\n",
       "      <td>NaN</td>\n",
       "      <td>NaN</td>\n",
       "    </tr>\n",
       "    <tr>\n",
       "      <th>...</th>\n",
       "      <td>...</td>\n",
       "      <td>...</td>\n",
       "      <td>...</td>\n",
       "      <td>...</td>\n",
       "      <td>...</td>\n",
       "      <td>...</td>\n",
       "      <td>...</td>\n",
       "      <td>...</td>\n",
       "      <td>...</td>\n",
       "      <td>...</td>\n",
       "      <td>...</td>\n",
       "    </tr>\n",
       "    <tr>\n",
       "      <th>16438</th>\n",
       "      <td>Samurai Warriors: Sanada Maru</td>\n",
       "      <td>PS3</td>\n",
       "      <td>2016</td>\n",
       "      <td>Action</td>\n",
       "      <td>0.00</td>\n",
       "      <td>0.00</td>\n",
       "      <td>0.01</td>\n",
       "      <td>0.00</td>\n",
       "      <td>NaN</td>\n",
       "      <td>NaN</td>\n",
       "      <td>NaN</td>\n",
       "    </tr>\n",
       "    <tr>\n",
       "      <th>16439</th>\n",
       "      <td>LMA Manager 2007</td>\n",
       "      <td>X360</td>\n",
       "      <td>2006</td>\n",
       "      <td>Sports</td>\n",
       "      <td>0.00</td>\n",
       "      <td>0.01</td>\n",
       "      <td>0.00</td>\n",
       "      <td>0.00</td>\n",
       "      <td>NaN</td>\n",
       "      <td>NaN</td>\n",
       "      <td>NaN</td>\n",
       "    </tr>\n",
       "    <tr>\n",
       "      <th>16440</th>\n",
       "      <td>Haitaka no Psychedelica</td>\n",
       "      <td>PSV</td>\n",
       "      <td>2016</td>\n",
       "      <td>Adventure</td>\n",
       "      <td>0.00</td>\n",
       "      <td>0.00</td>\n",
       "      <td>0.01</td>\n",
       "      <td>0.00</td>\n",
       "      <td>NaN</td>\n",
       "      <td>NaN</td>\n",
       "      <td>NaN</td>\n",
       "    </tr>\n",
       "    <tr>\n",
       "      <th>16441</th>\n",
       "      <td>Spirits &amp; Spells</td>\n",
       "      <td>GBA</td>\n",
       "      <td>2003</td>\n",
       "      <td>Platform</td>\n",
       "      <td>0.01</td>\n",
       "      <td>0.00</td>\n",
       "      <td>0.00</td>\n",
       "      <td>0.00</td>\n",
       "      <td>NaN</td>\n",
       "      <td>NaN</td>\n",
       "      <td>NaN</td>\n",
       "    </tr>\n",
       "    <tr>\n",
       "      <th>16442</th>\n",
       "      <td>Winning Post 8 2016</td>\n",
       "      <td>PSV</td>\n",
       "      <td>2016</td>\n",
       "      <td>Simulation</td>\n",
       "      <td>0.00</td>\n",
       "      <td>0.00</td>\n",
       "      <td>0.01</td>\n",
       "      <td>0.00</td>\n",
       "      <td>NaN</td>\n",
       "      <td>NaN</td>\n",
       "      <td>NaN</td>\n",
       "    </tr>\n",
       "  </tbody>\n",
       "</table>\n",
       "<p>16443 rows × 11 columns</p>\n",
       "</div>"
      ],
      "text/plain": [
       "                                name platform  year_of_release         genre  \\\n",
       "0                         Wii Sports      Wii             2006        Sports   \n",
       "1                  Super Mario Bros.      NES             1985      Platform   \n",
       "2                     Mario Kart Wii      Wii             2008        Racing   \n",
       "3                  Wii Sports Resort      Wii             2009        Sports   \n",
       "4           Pokemon Red/Pokemon Blue       GB             1996  Role-Playing   \n",
       "...                              ...      ...              ...           ...   \n",
       "16438  Samurai Warriors: Sanada Maru      PS3             2016        Action   \n",
       "16439               LMA Manager 2007     X360             2006        Sports   \n",
       "16440        Haitaka no Psychedelica      PSV             2016     Adventure   \n",
       "16441               Spirits & Spells      GBA             2003      Platform   \n",
       "16442            Winning Post 8 2016      PSV             2016    Simulation   \n",
       "\n",
       "       na_sales  eu_sales  jp_sales  other_sales  critic_score  user_score  \\\n",
       "0         41.36     28.96      3.77         8.45          76.0         8.0   \n",
       "1         29.08      3.58      6.81         0.77           NaN         NaN   \n",
       "2         15.68     12.76      3.79         3.29          82.0         8.3   \n",
       "3         15.61     10.93      3.28         2.95          80.0         8.0   \n",
       "4         11.27      8.89     10.22         1.00           NaN         NaN   \n",
       "...         ...       ...       ...          ...           ...         ...   \n",
       "16438      0.00      0.00      0.01         0.00           NaN         NaN   \n",
       "16439      0.00      0.01      0.00         0.00           NaN         NaN   \n",
       "16440      0.00      0.00      0.01         0.00           NaN         NaN   \n",
       "16441      0.01      0.00      0.00         0.00           NaN         NaN   \n",
       "16442      0.00      0.00      0.01         0.00           NaN         NaN   \n",
       "\n",
       "      rating  \n",
       "0          E  \n",
       "1        NaN  \n",
       "2          E  \n",
       "3          E  \n",
       "4        NaN  \n",
       "...      ...  \n",
       "16438    NaN  \n",
       "16439    NaN  \n",
       "16440    NaN  \n",
       "16441    NaN  \n",
       "16442    NaN  \n",
       "\n",
       "[16443 rows x 11 columns]"
      ]
     },
     "execution_count": 12,
     "metadata": {},
     "output_type": "execute_result"
    }
   ],
   "source": [
    "data['year_of_release'] = np.int64(data['year_of_release']) # сделаем год числьночисленным значением\n",
    "data"
   ]
  },
  {
   "cell_type": "markdown",
   "metadata": {},
   "source": [
    "Пропуски с рейтингом и оценками оставим как есть - заменять их на среднее или медиану не имеет смысла, рейтинг может быть каким угодно, такая замена не будет адекватной. Скорее всего, рейтинг отсутствует у старых игр - в эпоху до интернета и критиков было не так много и печалались рейтинги в специализированных журналах, например, возможно, история их не сохранила или человек, собиравший данные, не смог их найти. Так ли много пропусков в современных данных - можно проверить."
   ]
  },
  {
   "cell_type": "code",
   "execution_count": 13,
   "metadata": {},
   "outputs": [
    {
     "data": {
      "text/plain": [
       "name                  0\n",
       "platform              0\n",
       "year_of_release       0\n",
       "genre                 0\n",
       "na_sales              0\n",
       "eu_sales              0\n",
       "jp_sales              0\n",
       "other_sales           0\n",
       "critic_score       6376\n",
       "user_score         6856\n",
       "rating             4605\n",
       "dtype: int64"
      ]
     },
     "execution_count": 13,
     "metadata": {},
     "output_type": "execute_result"
    }
   ],
   "source": [
    "data.query('year_of_release > 2000').isna().sum()"
   ]
  },
  {
   "cell_type": "markdown",
   "metadata": {},
   "source": [
    "Наша теория отчасти права - чем новее игра, тем меньше пропусков во всех столбцах. Но даже если отфильтровать по последнему году - пропуски все равно кое-где есть. Возможно не все игры в датасете достаточно популярные, чтобы заслужить внимание."
   ]
  },
  {
   "cell_type": "markdown",
   "metadata": {},
   "source": [
    "Посмотрим на колонку с рейтингом ESRB. Это аббревиатура организации, которая занимается определением возростного рейтинга для компьютерных игр. "
   ]
  },
  {
   "cell_type": "code",
   "execution_count": 14,
   "metadata": {
    "scrolled": false
   },
   "outputs": [
    {
     "data": {
      "text/plain": [
       "array(['E', nan, 'M', 'T', 'E10+', 'K-A', 'AO', 'EC', 'RP'], dtype=object)"
      ]
     },
     "execution_count": 14,
     "metadata": {},
     "output_type": "execute_result"
    }
   ],
   "source": [
    "data['rating'].unique() # посмотрим на уникальные значения"
   ]
  },
  {
   "cell_type": "markdown",
   "metadata": {},
   "source": [
    "RP означает что рейтинга еще нет - продукт только был отправлен на оценку, но еще не получил ее. Для нас это аналогично значению NaN. Но Nan, который тоже тут есть нам помешает анализировать данные в дальнейшем, поэтому заменим его на unknown."
   ]
  },
  {
   "cell_type": "code",
   "execution_count": 15,
   "metadata": {},
   "outputs": [
    {
     "data": {
      "text/plain": [
       "name                  0\n",
       "platform              0\n",
       "year_of_release       0\n",
       "genre                 0\n",
       "na_sales              0\n",
       "eu_sales              0\n",
       "jp_sales              0\n",
       "other_sales           0\n",
       "critic_score       8461\n",
       "user_score         8981\n",
       "rating                0\n",
       "dtype: int64"
      ]
     },
     "execution_count": 15,
     "metadata": {},
     "output_type": "execute_result"
    }
   ],
   "source": [
    "data['rating'].fillna('unknown', inplace=True)\n",
    "data.isna().sum()"
   ]
  },
  {
   "cell_type": "markdown",
   "metadata": {},
   "source": [
    "Добавим колонку с суммарными продажами каждой игры."
   ]
  },
  {
   "cell_type": "code",
   "execution_count": 16,
   "metadata": {
    "scrolled": true
   },
   "outputs": [
    {
     "data": {
      "text/html": [
       "<div>\n",
       "<style scoped>\n",
       "    .dataframe tbody tr th:only-of-type {\n",
       "        vertical-align: middle;\n",
       "    }\n",
       "\n",
       "    .dataframe tbody tr th {\n",
       "        vertical-align: top;\n",
       "    }\n",
       "\n",
       "    .dataframe thead th {\n",
       "        text-align: right;\n",
       "    }\n",
       "</style>\n",
       "<table border=\"1\" class=\"dataframe\">\n",
       "  <thead>\n",
       "    <tr style=\"text-align: right;\">\n",
       "      <th></th>\n",
       "      <th>name</th>\n",
       "      <th>platform</th>\n",
       "      <th>year_of_release</th>\n",
       "      <th>genre</th>\n",
       "      <th>na_sales</th>\n",
       "      <th>eu_sales</th>\n",
       "      <th>jp_sales</th>\n",
       "      <th>other_sales</th>\n",
       "      <th>critic_score</th>\n",
       "      <th>user_score</th>\n",
       "      <th>rating</th>\n",
       "      <th>sum_sales</th>\n",
       "    </tr>\n",
       "  </thead>\n",
       "  <tbody>\n",
       "    <tr>\n",
       "      <th>0</th>\n",
       "      <td>Wii Sports</td>\n",
       "      <td>Wii</td>\n",
       "      <td>2006</td>\n",
       "      <td>Sports</td>\n",
       "      <td>41.36</td>\n",
       "      <td>28.96</td>\n",
       "      <td>3.77</td>\n",
       "      <td>8.45</td>\n",
       "      <td>76.0</td>\n",
       "      <td>8.0</td>\n",
       "      <td>E</td>\n",
       "      <td>82.54</td>\n",
       "    </tr>\n",
       "    <tr>\n",
       "      <th>1</th>\n",
       "      <td>Super Mario Bros.</td>\n",
       "      <td>NES</td>\n",
       "      <td>1985</td>\n",
       "      <td>Platform</td>\n",
       "      <td>29.08</td>\n",
       "      <td>3.58</td>\n",
       "      <td>6.81</td>\n",
       "      <td>0.77</td>\n",
       "      <td>NaN</td>\n",
       "      <td>NaN</td>\n",
       "      <td>unknown</td>\n",
       "      <td>40.24</td>\n",
       "    </tr>\n",
       "    <tr>\n",
       "      <th>2</th>\n",
       "      <td>Mario Kart Wii</td>\n",
       "      <td>Wii</td>\n",
       "      <td>2008</td>\n",
       "      <td>Racing</td>\n",
       "      <td>15.68</td>\n",
       "      <td>12.76</td>\n",
       "      <td>3.79</td>\n",
       "      <td>3.29</td>\n",
       "      <td>82.0</td>\n",
       "      <td>8.3</td>\n",
       "      <td>E</td>\n",
       "      <td>35.52</td>\n",
       "    </tr>\n",
       "    <tr>\n",
       "      <th>3</th>\n",
       "      <td>Wii Sports Resort</td>\n",
       "      <td>Wii</td>\n",
       "      <td>2009</td>\n",
       "      <td>Sports</td>\n",
       "      <td>15.61</td>\n",
       "      <td>10.93</td>\n",
       "      <td>3.28</td>\n",
       "      <td>2.95</td>\n",
       "      <td>80.0</td>\n",
       "      <td>8.0</td>\n",
       "      <td>E</td>\n",
       "      <td>32.77</td>\n",
       "    </tr>\n",
       "    <tr>\n",
       "      <th>4</th>\n",
       "      <td>Pokemon Red/Pokemon Blue</td>\n",
       "      <td>GB</td>\n",
       "      <td>1996</td>\n",
       "      <td>Role-Playing</td>\n",
       "      <td>11.27</td>\n",
       "      <td>8.89</td>\n",
       "      <td>10.22</td>\n",
       "      <td>1.00</td>\n",
       "      <td>NaN</td>\n",
       "      <td>NaN</td>\n",
       "      <td>unknown</td>\n",
       "      <td>31.38</td>\n",
       "    </tr>\n",
       "    <tr>\n",
       "      <th>...</th>\n",
       "      <td>...</td>\n",
       "      <td>...</td>\n",
       "      <td>...</td>\n",
       "      <td>...</td>\n",
       "      <td>...</td>\n",
       "      <td>...</td>\n",
       "      <td>...</td>\n",
       "      <td>...</td>\n",
       "      <td>...</td>\n",
       "      <td>...</td>\n",
       "      <td>...</td>\n",
       "      <td>...</td>\n",
       "    </tr>\n",
       "    <tr>\n",
       "      <th>16438</th>\n",
       "      <td>Samurai Warriors: Sanada Maru</td>\n",
       "      <td>PS3</td>\n",
       "      <td>2016</td>\n",
       "      <td>Action</td>\n",
       "      <td>0.00</td>\n",
       "      <td>0.00</td>\n",
       "      <td>0.01</td>\n",
       "      <td>0.00</td>\n",
       "      <td>NaN</td>\n",
       "      <td>NaN</td>\n",
       "      <td>unknown</td>\n",
       "      <td>0.01</td>\n",
       "    </tr>\n",
       "    <tr>\n",
       "      <th>16439</th>\n",
       "      <td>LMA Manager 2007</td>\n",
       "      <td>X360</td>\n",
       "      <td>2006</td>\n",
       "      <td>Sports</td>\n",
       "      <td>0.00</td>\n",
       "      <td>0.01</td>\n",
       "      <td>0.00</td>\n",
       "      <td>0.00</td>\n",
       "      <td>NaN</td>\n",
       "      <td>NaN</td>\n",
       "      <td>unknown</td>\n",
       "      <td>0.01</td>\n",
       "    </tr>\n",
       "    <tr>\n",
       "      <th>16440</th>\n",
       "      <td>Haitaka no Psychedelica</td>\n",
       "      <td>PSV</td>\n",
       "      <td>2016</td>\n",
       "      <td>Adventure</td>\n",
       "      <td>0.00</td>\n",
       "      <td>0.00</td>\n",
       "      <td>0.01</td>\n",
       "      <td>0.00</td>\n",
       "      <td>NaN</td>\n",
       "      <td>NaN</td>\n",
       "      <td>unknown</td>\n",
       "      <td>0.01</td>\n",
       "    </tr>\n",
       "    <tr>\n",
       "      <th>16441</th>\n",
       "      <td>Spirits &amp; Spells</td>\n",
       "      <td>GBA</td>\n",
       "      <td>2003</td>\n",
       "      <td>Platform</td>\n",
       "      <td>0.01</td>\n",
       "      <td>0.00</td>\n",
       "      <td>0.00</td>\n",
       "      <td>0.00</td>\n",
       "      <td>NaN</td>\n",
       "      <td>NaN</td>\n",
       "      <td>unknown</td>\n",
       "      <td>0.01</td>\n",
       "    </tr>\n",
       "    <tr>\n",
       "      <th>16442</th>\n",
       "      <td>Winning Post 8 2016</td>\n",
       "      <td>PSV</td>\n",
       "      <td>2016</td>\n",
       "      <td>Simulation</td>\n",
       "      <td>0.00</td>\n",
       "      <td>0.00</td>\n",
       "      <td>0.01</td>\n",
       "      <td>0.00</td>\n",
       "      <td>NaN</td>\n",
       "      <td>NaN</td>\n",
       "      <td>unknown</td>\n",
       "      <td>0.01</td>\n",
       "    </tr>\n",
       "  </tbody>\n",
       "</table>\n",
       "<p>16443 rows × 12 columns</p>\n",
       "</div>"
      ],
      "text/plain": [
       "                                name platform  year_of_release         genre  \\\n",
       "0                         Wii Sports      Wii             2006        Sports   \n",
       "1                  Super Mario Bros.      NES             1985      Platform   \n",
       "2                     Mario Kart Wii      Wii             2008        Racing   \n",
       "3                  Wii Sports Resort      Wii             2009        Sports   \n",
       "4           Pokemon Red/Pokemon Blue       GB             1996  Role-Playing   \n",
       "...                              ...      ...              ...           ...   \n",
       "16438  Samurai Warriors: Sanada Maru      PS3             2016        Action   \n",
       "16439               LMA Manager 2007     X360             2006        Sports   \n",
       "16440        Haitaka no Psychedelica      PSV             2016     Adventure   \n",
       "16441               Spirits & Spells      GBA             2003      Platform   \n",
       "16442            Winning Post 8 2016      PSV             2016    Simulation   \n",
       "\n",
       "       na_sales  eu_sales  jp_sales  other_sales  critic_score  user_score  \\\n",
       "0         41.36     28.96      3.77         8.45          76.0         8.0   \n",
       "1         29.08      3.58      6.81         0.77           NaN         NaN   \n",
       "2         15.68     12.76      3.79         3.29          82.0         8.3   \n",
       "3         15.61     10.93      3.28         2.95          80.0         8.0   \n",
       "4         11.27      8.89     10.22         1.00           NaN         NaN   \n",
       "...         ...       ...       ...          ...           ...         ...   \n",
       "16438      0.00      0.00      0.01         0.00           NaN         NaN   \n",
       "16439      0.00      0.01      0.00         0.00           NaN         NaN   \n",
       "16440      0.00      0.00      0.01         0.00           NaN         NaN   \n",
       "16441      0.01      0.00      0.00         0.00           NaN         NaN   \n",
       "16442      0.00      0.00      0.01         0.00           NaN         NaN   \n",
       "\n",
       "        rating  sum_sales  \n",
       "0            E      82.54  \n",
       "1      unknown      40.24  \n",
       "2            E      35.52  \n",
       "3            E      32.77  \n",
       "4      unknown      31.38  \n",
       "...        ...        ...  \n",
       "16438  unknown       0.01  \n",
       "16439  unknown       0.01  \n",
       "16440  unknown       0.01  \n",
       "16441  unknown       0.01  \n",
       "16442  unknown       0.01  \n",
       "\n",
       "[16443 rows x 12 columns]"
      ]
     },
     "execution_count": 16,
     "metadata": {},
     "output_type": "execute_result"
    }
   ],
   "source": [
    "# сложим вместе продажи по всем регионам и добавим их в новую колонку \n",
    "data['sum_sales'] = data['na_sales'] + data['eu_sales'] + data['jp_sales'] + data['other_sales']\n",
    "data"
   ]
  },
  {
   "cell_type": "markdown",
   "metadata": {},
   "source": [
    "Проверим еще один параметр. Нам известно что платформа DS вышла в 2004 году, проверим нет ли ошибок в данных о годе выхода игры или названии платформы."
   ]
  },
  {
   "cell_type": "code",
   "execution_count": 17,
   "metadata": {
    "scrolled": true
   },
   "outputs": [
    {
     "data": {
      "text/html": [
       "<div>\n",
       "<style scoped>\n",
       "    .dataframe tbody tr th:only-of-type {\n",
       "        vertical-align: middle;\n",
       "    }\n",
       "\n",
       "    .dataframe tbody tr th {\n",
       "        vertical-align: top;\n",
       "    }\n",
       "\n",
       "    .dataframe thead th {\n",
       "        text-align: right;\n",
       "    }\n",
       "</style>\n",
       "<table border=\"1\" class=\"dataframe\">\n",
       "  <thead>\n",
       "    <tr style=\"text-align: right;\">\n",
       "      <th></th>\n",
       "      <th>name</th>\n",
       "      <th>platform</th>\n",
       "      <th>year_of_release</th>\n",
       "      <th>genre</th>\n",
       "      <th>na_sales</th>\n",
       "      <th>eu_sales</th>\n",
       "      <th>jp_sales</th>\n",
       "      <th>other_sales</th>\n",
       "      <th>critic_score</th>\n",
       "      <th>user_score</th>\n",
       "      <th>rating</th>\n",
       "      <th>sum_sales</th>\n",
       "    </tr>\n",
       "  </thead>\n",
       "  <tbody>\n",
       "    <tr>\n",
       "      <th>15704</th>\n",
       "      <td>Strongest Tokyo University Shogi DS</td>\n",
       "      <td>DS</td>\n",
       "      <td>1985</td>\n",
       "      <td>Action</td>\n",
       "      <td>0.0</td>\n",
       "      <td>0.0</td>\n",
       "      <td>0.02</td>\n",
       "      <td>0.0</td>\n",
       "      <td>NaN</td>\n",
       "      <td>NaN</td>\n",
       "      <td>unknown</td>\n",
       "      <td>0.02</td>\n",
       "    </tr>\n",
       "  </tbody>\n",
       "</table>\n",
       "</div>"
      ],
      "text/plain": [
       "                                      name platform  year_of_release   genre  \\\n",
       "15704  Strongest Tokyo University Shogi DS       DS             1985  Action   \n",
       "\n",
       "       na_sales  eu_sales  jp_sales  other_sales  critic_score  user_score  \\\n",
       "15704       0.0       0.0      0.02          0.0           NaN         NaN   \n",
       "\n",
       "        rating  sum_sales  \n",
       "15704  unknown       0.02  "
      ]
     },
     "execution_count": 17,
     "metadata": {},
     "output_type": "execute_result"
    }
   ],
   "source": [
    "data.query('platform == \"DS\" and year_of_release < 2004') # отфильтруем данные"
   ]
  },
  {
   "cell_type": "markdown",
   "metadata": {},
   "source": [
    "Год выхода игры указан не верно. [Здесь](https://www.vgchartz.com/game/4399/strongest-tokyo-university-shogi-ds/) можно посмотреть правильный год - 2010. Заменим его на правильный."
   ]
  },
  {
   "cell_type": "code",
   "execution_count": 18,
   "metadata": {},
   "outputs": [],
   "source": [
    "data.loc[15704,'year_of_release'] = 2010"
   ]
  },
  {
   "cell_type": "markdown",
   "metadata": {},
   "source": [
    "Итак, мы сделали предварительную обработку данных, избавились от пропусков где это возможно, а оставшиеся - не помешают нам провести исследование. К сожалению, появление пропусков неизбежно, когда база данных заполняется по открытым источникам, здесь бывают и ошибки и человеческий фактор и просто невозможность найти какие-то данные вследствие их отдаленности во времени."
   ]
  },
  {
   "cell_type": "markdown",
   "metadata": {},
   "source": [
    "[Содержание](#0)"
   ]
  },
  {
   "cell_type": "markdown",
   "metadata": {},
   "source": [
    "## Исследование данных. Поиск закономерностей\n",
    "<a id=3> </a>"
   ]
  },
  {
   "cell_type": "markdown",
   "metadata": {},
   "source": [
    "Для начала посмотрим в какие годы сколько игр выпускалось. Для этого построим гистограмму."
   ]
  },
  {
   "cell_type": "code",
   "execution_count": 19,
   "metadata": {},
   "outputs": [
    {
     "data": {
      "text/html": [
       "<div>\n",
       "<style scoped>\n",
       "    .dataframe tbody tr th:only-of-type {\n",
       "        vertical-align: middle;\n",
       "    }\n",
       "\n",
       "    .dataframe tbody tr th {\n",
       "        vertical-align: top;\n",
       "    }\n",
       "\n",
       "    .dataframe thead th {\n",
       "        text-align: right;\n",
       "    }\n",
       "</style>\n",
       "<table border=\"1\" class=\"dataframe\">\n",
       "  <thead>\n",
       "    <tr style=\"text-align: right;\">\n",
       "      <th></th>\n",
       "      <th>year_of_release</th>\n",
       "      <th>name</th>\n",
       "    </tr>\n",
       "  </thead>\n",
       "  <tbody>\n",
       "    <tr>\n",
       "      <th>0</th>\n",
       "      <td>1980</td>\n",
       "      <td>9</td>\n",
       "    </tr>\n",
       "    <tr>\n",
       "      <th>1</th>\n",
       "      <td>1981</td>\n",
       "      <td>46</td>\n",
       "    </tr>\n",
       "    <tr>\n",
       "      <th>2</th>\n",
       "      <td>1982</td>\n",
       "      <td>36</td>\n",
       "    </tr>\n",
       "    <tr>\n",
       "      <th>3</th>\n",
       "      <td>1983</td>\n",
       "      <td>17</td>\n",
       "    </tr>\n",
       "    <tr>\n",
       "      <th>4</th>\n",
       "      <td>1984</td>\n",
       "      <td>14</td>\n",
       "    </tr>\n",
       "    <tr>\n",
       "      <th>5</th>\n",
       "      <td>1985</td>\n",
       "      <td>13</td>\n",
       "    </tr>\n",
       "    <tr>\n",
       "      <th>6</th>\n",
       "      <td>1986</td>\n",
       "      <td>21</td>\n",
       "    </tr>\n",
       "    <tr>\n",
       "      <th>7</th>\n",
       "      <td>1987</td>\n",
       "      <td>16</td>\n",
       "    </tr>\n",
       "    <tr>\n",
       "      <th>8</th>\n",
       "      <td>1988</td>\n",
       "      <td>15</td>\n",
       "    </tr>\n",
       "    <tr>\n",
       "      <th>9</th>\n",
       "      <td>1989</td>\n",
       "      <td>17</td>\n",
       "    </tr>\n",
       "    <tr>\n",
       "      <th>10</th>\n",
       "      <td>1990</td>\n",
       "      <td>16</td>\n",
       "    </tr>\n",
       "    <tr>\n",
       "      <th>11</th>\n",
       "      <td>1991</td>\n",
       "      <td>41</td>\n",
       "    </tr>\n",
       "    <tr>\n",
       "      <th>12</th>\n",
       "      <td>1992</td>\n",
       "      <td>43</td>\n",
       "    </tr>\n",
       "    <tr>\n",
       "      <th>13</th>\n",
       "      <td>1993</td>\n",
       "      <td>60</td>\n",
       "    </tr>\n",
       "    <tr>\n",
       "      <th>14</th>\n",
       "      <td>1994</td>\n",
       "      <td>121</td>\n",
       "    </tr>\n",
       "    <tr>\n",
       "      <th>15</th>\n",
       "      <td>1995</td>\n",
       "      <td>219</td>\n",
       "    </tr>\n",
       "    <tr>\n",
       "      <th>16</th>\n",
       "      <td>1996</td>\n",
       "      <td>263</td>\n",
       "    </tr>\n",
       "    <tr>\n",
       "      <th>17</th>\n",
       "      <td>1997</td>\n",
       "      <td>289</td>\n",
       "    </tr>\n",
       "    <tr>\n",
       "      <th>18</th>\n",
       "      <td>1998</td>\n",
       "      <td>379</td>\n",
       "    </tr>\n",
       "    <tr>\n",
       "      <th>19</th>\n",
       "      <td>1999</td>\n",
       "      <td>338</td>\n",
       "    </tr>\n",
       "    <tr>\n",
       "      <th>20</th>\n",
       "      <td>2000</td>\n",
       "      <td>350</td>\n",
       "    </tr>\n",
       "    <tr>\n",
       "      <th>21</th>\n",
       "      <td>2001</td>\n",
       "      <td>482</td>\n",
       "    </tr>\n",
       "    <tr>\n",
       "      <th>22</th>\n",
       "      <td>2002</td>\n",
       "      <td>829</td>\n",
       "    </tr>\n",
       "    <tr>\n",
       "      <th>23</th>\n",
       "      <td>2003</td>\n",
       "      <td>775</td>\n",
       "    </tr>\n",
       "    <tr>\n",
       "      <th>24</th>\n",
       "      <td>2004</td>\n",
       "      <td>762</td>\n",
       "    </tr>\n",
       "    <tr>\n",
       "      <th>25</th>\n",
       "      <td>2005</td>\n",
       "      <td>939</td>\n",
       "    </tr>\n",
       "    <tr>\n",
       "      <th>26</th>\n",
       "      <td>2006</td>\n",
       "      <td>1006</td>\n",
       "    </tr>\n",
       "    <tr>\n",
       "      <th>27</th>\n",
       "      <td>2007</td>\n",
       "      <td>1197</td>\n",
       "    </tr>\n",
       "    <tr>\n",
       "      <th>28</th>\n",
       "      <td>2008</td>\n",
       "      <td>1427</td>\n",
       "    </tr>\n",
       "    <tr>\n",
       "      <th>29</th>\n",
       "      <td>2009</td>\n",
       "      <td>1426</td>\n",
       "    </tr>\n",
       "    <tr>\n",
       "      <th>30</th>\n",
       "      <td>2010</td>\n",
       "      <td>1256</td>\n",
       "    </tr>\n",
       "    <tr>\n",
       "      <th>31</th>\n",
       "      <td>2011</td>\n",
       "      <td>1136</td>\n",
       "    </tr>\n",
       "    <tr>\n",
       "      <th>32</th>\n",
       "      <td>2012</td>\n",
       "      <td>652</td>\n",
       "    </tr>\n",
       "    <tr>\n",
       "      <th>33</th>\n",
       "      <td>2013</td>\n",
       "      <td>544</td>\n",
       "    </tr>\n",
       "    <tr>\n",
       "      <th>34</th>\n",
       "      <td>2014</td>\n",
       "      <td>581</td>\n",
       "    </tr>\n",
       "    <tr>\n",
       "      <th>35</th>\n",
       "      <td>2015</td>\n",
       "      <td>606</td>\n",
       "    </tr>\n",
       "    <tr>\n",
       "      <th>36</th>\n",
       "      <td>2016</td>\n",
       "      <td>502</td>\n",
       "    </tr>\n",
       "  </tbody>\n",
       "</table>\n",
       "</div>"
      ],
      "text/plain": [
       "    year_of_release  name\n",
       "0              1980     9\n",
       "1              1981    46\n",
       "2              1982    36\n",
       "3              1983    17\n",
       "4              1984    14\n",
       "5              1985    13\n",
       "6              1986    21\n",
       "7              1987    16\n",
       "8              1988    15\n",
       "9              1989    17\n",
       "10             1990    16\n",
       "11             1991    41\n",
       "12             1992    43\n",
       "13             1993    60\n",
       "14             1994   121\n",
       "15             1995   219\n",
       "16             1996   263\n",
       "17             1997   289\n",
       "18             1998   379\n",
       "19             1999   338\n",
       "20             2000   350\n",
       "21             2001   482\n",
       "22             2002   829\n",
       "23             2003   775\n",
       "24             2004   762\n",
       "25             2005   939\n",
       "26             2006  1006\n",
       "27             2007  1197\n",
       "28             2008  1427\n",
       "29             2009  1426\n",
       "30             2010  1256\n",
       "31             2011  1136\n",
       "32             2012   652\n",
       "33             2013   544\n",
       "34             2014   581\n",
       "35             2015   606\n",
       "36             2016   502"
      ]
     },
     "execution_count": 19,
     "metadata": {},
     "output_type": "execute_result"
    }
   ],
   "source": [
    "data_year = data.groupby('year_of_release')['name'].count().reset_index()\n",
    "data_year"
   ]
  },
  {
   "cell_type": "code",
   "execution_count": 20,
   "metadata": {
    "scrolled": false
   },
   "outputs": [
    {
     "data": {
      "image/png": "[encoded data removed]",
      "text/plain": [
       "<Figure size 432x288 with 1 Axes>"
      ]
     },
     "metadata": {
      "needs_background": "light"
     },
     "output_type": "display_data"
    }
   ],
   "source": [
    "sns.barplot(data=data_year, x='year_of_release', y='name').set_title('Распределение выхода игр по годам')\n",
    "plt.ylabel('')\n",
    "plt.xticks(rotation=90)\n",
    "plt.xlabel('');"
   ]
  },
  {
   "cell_type": "code",
   "execution_count": 49,
   "metadata": {},
   "outputs": [
    {
     "data": {
      "image/png": "[encoded data removed]",
      "text/plain": [
       "<Figure size 432x288 with 1 Axes>"
      ]
     },
     "metadata": {
      "needs_background": "light"
     },
     "output_type": "display_data"
    }
   ],
   "source": [
    "ax = sns.histplot(data=data, x='year_of_release', bins=37)\n",
    "ax.set_title('Распределение игр по годам')\n",
    "ax.set_xlabel('')\n",
    "ax.set_ylabel('Число игр');"
   ]
  },
  {
   "cell_type": "markdown",
   "metadata": {},
   "source": [
    "Больше всего игр из нашей выборки выходило с 2002 по 2011."
   ]
  },
  {
   "cell_type": "markdown",
   "metadata": {},
   "source": [
    "### Топ-10 игровых платформ"
   ]
  },
  {
   "cell_type": "markdown",
   "metadata": {},
   "source": [
    "Выявим топ платформ по продажам и запишем их в отдельный список, чтобы потом использовать как фильтр.\n"
   ]
  },
  {
   "cell_type": "code",
   "execution_count": 22,
   "metadata": {
    "scrolled": true
   },
   "outputs": [
    {
     "data": {
      "text/plain": [
       "0     PS2\n",
       "1    X360\n",
       "2     PS3\n",
       "3     Wii\n",
       "4      DS\n",
       "5      PS\n",
       "6     PS4\n",
       "7     GBA\n",
       "8     PSP\n",
       "9     3DS\n",
       "Name: platform, dtype: object"
      ]
     },
     "execution_count": 22,
     "metadata": {},
     "output_type": "execute_result"
    }
   ],
   "source": [
    "data_platform = data.groupby('platform')['sum_sales'].sum()\n",
    "\n",
    "data_platform = data_platform.sort_values(ascending=False).reset_index()\n",
    "top_10 = data_platform['platform'].head(10) # top-10 платформ по продажам\n",
    "\n",
    "\n",
    "top_10 # top-10 платформ по продажам\n"
   ]
  },
  {
   "cell_type": "code",
   "execution_count": 23,
   "metadata": {
    "scrolled": true
   },
   "outputs": [
    {
     "data": {
      "text/html": [
       "<div>\n",
       "<style scoped>\n",
       "    .dataframe tbody tr th:only-of-type {\n",
       "        vertical-align: middle;\n",
       "    }\n",
       "\n",
       "    .dataframe tbody tr th {\n",
       "        vertical-align: top;\n",
       "    }\n",
       "\n",
       "    .dataframe thead th {\n",
       "        text-align: right;\n",
       "    }\n",
       "</style>\n",
       "<table border=\"1\" class=\"dataframe\">\n",
       "  <thead>\n",
       "    <tr style=\"text-align: right;\">\n",
       "      <th></th>\n",
       "      <th>name</th>\n",
       "      <th>platform</th>\n",
       "      <th>year_of_release</th>\n",
       "      <th>genre</th>\n",
       "      <th>na_sales</th>\n",
       "      <th>eu_sales</th>\n",
       "      <th>jp_sales</th>\n",
       "      <th>other_sales</th>\n",
       "      <th>critic_score</th>\n",
       "      <th>user_score</th>\n",
       "      <th>rating</th>\n",
       "      <th>sum_sales</th>\n",
       "    </tr>\n",
       "  </thead>\n",
       "  <tbody>\n",
       "    <tr>\n",
       "      <th>0</th>\n",
       "      <td>Wii Sports</td>\n",
       "      <td>Wii</td>\n",
       "      <td>2006</td>\n",
       "      <td>Sports</td>\n",
       "      <td>41.36</td>\n",
       "      <td>28.96</td>\n",
       "      <td>3.77</td>\n",
       "      <td>8.45</td>\n",
       "      <td>76.0</td>\n",
       "      <td>8.0</td>\n",
       "      <td>E</td>\n",
       "      <td>82.54</td>\n",
       "    </tr>\n",
       "    <tr>\n",
       "      <th>2</th>\n",
       "      <td>Mario Kart Wii</td>\n",
       "      <td>Wii</td>\n",
       "      <td>2008</td>\n",
       "      <td>Racing</td>\n",
       "      <td>15.68</td>\n",
       "      <td>12.76</td>\n",
       "      <td>3.79</td>\n",
       "      <td>3.29</td>\n",
       "      <td>82.0</td>\n",
       "      <td>8.3</td>\n",
       "      <td>E</td>\n",
       "      <td>35.52</td>\n",
       "    </tr>\n",
       "    <tr>\n",
       "      <th>3</th>\n",
       "      <td>Wii Sports Resort</td>\n",
       "      <td>Wii</td>\n",
       "      <td>2009</td>\n",
       "      <td>Sports</td>\n",
       "      <td>15.61</td>\n",
       "      <td>10.93</td>\n",
       "      <td>3.28</td>\n",
       "      <td>2.95</td>\n",
       "      <td>80.0</td>\n",
       "      <td>8.0</td>\n",
       "      <td>E</td>\n",
       "      <td>32.77</td>\n",
       "    </tr>\n",
       "    <tr>\n",
       "      <th>6</th>\n",
       "      <td>New Super Mario Bros.</td>\n",
       "      <td>DS</td>\n",
       "      <td>2006</td>\n",
       "      <td>Platform</td>\n",
       "      <td>11.28</td>\n",
       "      <td>9.14</td>\n",
       "      <td>6.50</td>\n",
       "      <td>2.88</td>\n",
       "      <td>89.0</td>\n",
       "      <td>8.5</td>\n",
       "      <td>E</td>\n",
       "      <td>29.80</td>\n",
       "    </tr>\n",
       "    <tr>\n",
       "      <th>7</th>\n",
       "      <td>Wii Play</td>\n",
       "      <td>Wii</td>\n",
       "      <td>2006</td>\n",
       "      <td>Misc</td>\n",
       "      <td>13.96</td>\n",
       "      <td>9.18</td>\n",
       "      <td>2.93</td>\n",
       "      <td>2.84</td>\n",
       "      <td>58.0</td>\n",
       "      <td>6.6</td>\n",
       "      <td>E</td>\n",
       "      <td>28.91</td>\n",
       "    </tr>\n",
       "    <tr>\n",
       "      <th>...</th>\n",
       "      <td>...</td>\n",
       "      <td>...</td>\n",
       "      <td>...</td>\n",
       "      <td>...</td>\n",
       "      <td>...</td>\n",
       "      <td>...</td>\n",
       "      <td>...</td>\n",
       "      <td>...</td>\n",
       "      <td>...</td>\n",
       "      <td>...</td>\n",
       "      <td>...</td>\n",
       "      <td>...</td>\n",
       "    </tr>\n",
       "    <tr>\n",
       "      <th>16436</th>\n",
       "      <td>Woody Woodpecker in Crazy Castle 5</td>\n",
       "      <td>GBA</td>\n",
       "      <td>2002</td>\n",
       "      <td>Platform</td>\n",
       "      <td>0.01</td>\n",
       "      <td>0.00</td>\n",
       "      <td>0.00</td>\n",
       "      <td>0.00</td>\n",
       "      <td>NaN</td>\n",
       "      <td>NaN</td>\n",
       "      <td>unknown</td>\n",
       "      <td>0.01</td>\n",
       "    </tr>\n",
       "    <tr>\n",
       "      <th>16437</th>\n",
       "      <td>SCORE International Baja 1000: The Official Game</td>\n",
       "      <td>PS2</td>\n",
       "      <td>2008</td>\n",
       "      <td>Racing</td>\n",
       "      <td>0.00</td>\n",
       "      <td>0.00</td>\n",
       "      <td>0.00</td>\n",
       "      <td>0.00</td>\n",
       "      <td>NaN</td>\n",
       "      <td>NaN</td>\n",
       "      <td>unknown</td>\n",
       "      <td>0.00</td>\n",
       "    </tr>\n",
       "    <tr>\n",
       "      <th>16438</th>\n",
       "      <td>Samurai Warriors: Sanada Maru</td>\n",
       "      <td>PS3</td>\n",
       "      <td>2016</td>\n",
       "      <td>Action</td>\n",
       "      <td>0.00</td>\n",
       "      <td>0.00</td>\n",
       "      <td>0.01</td>\n",
       "      <td>0.00</td>\n",
       "      <td>NaN</td>\n",
       "      <td>NaN</td>\n",
       "      <td>unknown</td>\n",
       "      <td>0.01</td>\n",
       "    </tr>\n",
       "    <tr>\n",
       "      <th>16439</th>\n",
       "      <td>LMA Manager 2007</td>\n",
       "      <td>X360</td>\n",
       "      <td>2006</td>\n",
       "      <td>Sports</td>\n",
       "      <td>0.00</td>\n",
       "      <td>0.01</td>\n",
       "      <td>0.00</td>\n",
       "      <td>0.00</td>\n",
       "      <td>NaN</td>\n",
       "      <td>NaN</td>\n",
       "      <td>unknown</td>\n",
       "      <td>0.01</td>\n",
       "    </tr>\n",
       "    <tr>\n",
       "      <th>16441</th>\n",
       "      <td>Spirits &amp; Spells</td>\n",
       "      <td>GBA</td>\n",
       "      <td>2003</td>\n",
       "      <td>Platform</td>\n",
       "      <td>0.01</td>\n",
       "      <td>0.00</td>\n",
       "      <td>0.00</td>\n",
       "      <td>0.00</td>\n",
       "      <td>NaN</td>\n",
       "      <td>NaN</td>\n",
       "      <td>unknown</td>\n",
       "      <td>0.01</td>\n",
       "    </tr>\n",
       "  </tbody>\n",
       "</table>\n",
       "<p>12169 rows × 12 columns</p>\n",
       "</div>"
      ],
      "text/plain": [
       "                                                   name platform  \\\n",
       "0                                            Wii Sports      Wii   \n",
       "2                                        Mario Kart Wii      Wii   \n",
       "3                                     Wii Sports Resort      Wii   \n",
       "6                                 New Super Mario Bros.       DS   \n",
       "7                                              Wii Play      Wii   \n",
       "...                                                 ...      ...   \n",
       "16436                Woody Woodpecker in Crazy Castle 5      GBA   \n",
       "16437  SCORE International Baja 1000: The Official Game      PS2   \n",
       "16438                     Samurai Warriors: Sanada Maru      PS3   \n",
       "16439                                  LMA Manager 2007     X360   \n",
       "16441                                  Spirits & Spells      GBA   \n",
       "\n",
       "       year_of_release     genre  na_sales  eu_sales  jp_sales  other_sales  \\\n",
       "0                 2006    Sports     41.36     28.96      3.77         8.45   \n",
       "2                 2008    Racing     15.68     12.76      3.79         3.29   \n",
       "3                 2009    Sports     15.61     10.93      3.28         2.95   \n",
       "6                 2006  Platform     11.28      9.14      6.50         2.88   \n",
       "7                 2006      Misc     13.96      9.18      2.93         2.84   \n",
       "...                ...       ...       ...       ...       ...          ...   \n",
       "16436             2002  Platform      0.01      0.00      0.00         0.00   \n",
       "16437             2008    Racing      0.00      0.00      0.00         0.00   \n",
       "16438             2016    Action      0.00      0.00      0.01         0.00   \n",
       "16439             2006    Sports      0.00      0.01      0.00         0.00   \n",
       "16441             2003  Platform      0.01      0.00      0.00         0.00   \n",
       "\n",
       "       critic_score  user_score   rating  sum_sales  \n",
       "0              76.0         8.0        E      82.54  \n",
       "2              82.0         8.3        E      35.52  \n",
       "3              80.0         8.0        E      32.77  \n",
       "6              89.0         8.5        E      29.80  \n",
       "7              58.0         6.6        E      28.91  \n",
       "...             ...         ...      ...        ...  \n",
       "16436           NaN         NaN  unknown       0.01  \n",
       "16437           NaN         NaN  unknown       0.00  \n",
       "16438           NaN         NaN  unknown       0.01  \n",
       "16439           NaN         NaN  unknown       0.01  \n",
       "16441           NaN         NaN  unknown       0.01  \n",
       "\n",
       "[12169 rows x 12 columns]"
      ]
     },
     "execution_count": 23,
     "metadata": {},
     "output_type": "execute_result"
    }
   ],
   "source": [
    "data_top_10 = data[data['platform'].isin(top_10)] # отфильтруем таблицу по названию популярных платформ\n",
    "\n",
    "data_top_10"
   ]
  },
  {
   "cell_type": "markdown",
   "metadata": {},
   "source": [
    "### Срок жизни платформ"
   ]
  },
  {
   "cell_type": "markdown",
   "metadata": {},
   "source": [
    "Посмотрим срок жизни платформ по суммарным продажам игр для них."
   ]
  },
  {
   "cell_type": "code",
   "execution_count": 24,
   "metadata": {
    "scrolled": false
   },
   "outputs": [
    {
     "data": {
      "image/png": "[encoded data removed]",
      "text/plain": [
       "<Figure size 1008x576 with 1 Axes>"
      ]
     },
     "metadata": {
      "needs_background": "light"
     },
     "output_type": "display_data"
    }
   ],
   "source": [
    "plt.figure(figsize=(14, 8))\n",
    "sns.barplot(data=data_top_10, x='year_of_release', y='sum_sales', hue='platform', ci=None).set_title('Продажи для топ-10 платформ по годам');"
   ]
  },
  {
   "cell_type": "markdown",
   "metadata": {},
   "source": [
    "Сделаем срез, чтобы картина была чуть более наглядной."
   ]
  },
  {
   "cell_type": "code",
   "execution_count": 25,
   "metadata": {},
   "outputs": [
    {
     "data": {
      "image/png": "[encoded data removed]",
      "text/plain": [
       "<Figure size 1008x576 with 1 Axes>"
      ]
     },
     "metadata": {
      "needs_background": "light"
     },
     "output_type": "display_data"
    }
   ],
   "source": [
    "plt.figure(figsize=(14, 8))\n",
    "sns.barplot(data=data_top_10.query('year_of_release > 2003'), x='year_of_release', y='sum_sales', hue='platform', ci=None).set_title('Продажи для топ-10 платформ по годам');"
   ]
  },
  {
   "cell_type": "markdown",
   "metadata": {},
   "source": [
    "Для большинства топовых платформ продажи растут первые 1-2 года после выхода, а в течение 7-10 лет после этого происходит снижение продаж. Так же хорошо видно преемственность платфрм - когда выходит новая PlayStation - старая начинает идти на спад, но какое-то время они существуют все вместе, потому что игры для них совместимы с боле старой платформой. Например, в 2013 когда вышла PS4, PS3 еще была вполне актуальной, а вот игры для PS2 уже почти никто не покупал.\n",
    "А еще видим что самая популярная платформа wii от Nintendo, вышедшая в 2006 побила все рекорды продаж и с ней никто не может сравниться.\n",
    "\n",
    "Мы заранее отделили современные игры от старых, а если бы мы это не сделали -  сравнивать абсолютные числа продаж было бы не совсем корректно - ясно что рынок игр сейчас сильно больше чем в 80-е. Но мы можем посмотреть на развитие игровой индустрии в более ранний период - попробуем определить жизненный цикл платформ по динамике выпуска игр. Посмотрим на процент игр в год от общего числа игр, выпущенных для этой платформы. Таким образом мы проведем нормализацию данных."
   ]
  },
  {
   "cell_type": "code",
   "execution_count": 26,
   "metadata": {},
   "outputs": [
    {
     "data": {
      "image/png": "[encoded data removed]",
      "text/plain": [
       "<Figure size 1008x576 with 1 Axes>"
      ]
     },
     "metadata": {
      "needs_background": "light"
     },
     "output_type": "display_data"
    }
   ],
   "source": [
    "data_year = data_top_10.groupby(['year_of_release', 'platform'])['name'].count().reset_index()\n",
    "\n",
    "# сгруппируем по году и платформе и посчитаем количество игр на топ-10 платформ, выпущенных в конкретном году\n",
    "data_sales = data_top_10.groupby(['platform'])['name'].count().reset_index()\n",
    "\n",
    "# сгруппируем по платформе и посчитаем количество игр, всего выпущенных на конкретной платформе \n",
    "data_platform = data_year.merge(data_sales, on='platform') # объединим обе таблицы вместе\n",
    "\n",
    "data_platform['name_x'] /= data_platform['name_y'] * 100 # посчитаем % игр в конкретный год от общего числа игр, выпущенных для этой платформы\n",
    "#data_platform\n",
    "plt.figure(figsize=(14, 8))\n",
    "sns.lineplot(data=data_platform, x='year_of_release', y='name_x', hue='platform', ci=None).set_title('Популярность платформ по играм, выпущенным для них');\n"
   ]
  },
  {
   "cell_type": "markdown",
   "metadata": {},
   "source": [
    "По графику что средний срок жизни платформы - 5-10 лет, после чего игры для нее практически перестают выходить. Но особенно тут можно отметить PS4 - она вышла в 2013 и до 2016 была явно на подъеме, опережая все другие по количеству игр, для нее созданных."
   ]
  },
  {
   "cell_type": "markdown",
   "metadata": {},
   "source": [
    "На основе полученных данных актуальным периодом будем считать половину жизни платформы - 3 года. Это время когда любая из топовых платформ и игры для нее будут считаться актуальными. По этим данным можно будет сделать прогноз на будущий год. Исходя из этого - отрежем от наших рассчетов данные по платформам, выпущенным с 2014 по 2016 г. Потенциально мы должны будем увидеть, какие платформы сейчас на подъеме, а какие - уже выходят из оборота. Топ-10 тоже будет другим."
   ]
  },
  {
   "cell_type": "code",
   "execution_count": 27,
   "metadata": {
    "scrolled": false
   },
   "outputs": [
    {
     "data": {
      "text/html": [
       "<div>\n",
       "<style scoped>\n",
       "    .dataframe tbody tr th:only-of-type {\n",
       "        vertical-align: middle;\n",
       "    }\n",
       "\n",
       "    .dataframe tbody tr th {\n",
       "        vertical-align: top;\n",
       "    }\n",
       "\n",
       "    .dataframe thead th {\n",
       "        text-align: right;\n",
       "    }\n",
       "</style>\n",
       "<table border=\"1\" class=\"dataframe\">\n",
       "  <thead>\n",
       "    <tr style=\"text-align: right;\">\n",
       "      <th></th>\n",
       "      <th>name</th>\n",
       "      <th>platform</th>\n",
       "      <th>year_of_release</th>\n",
       "      <th>genre</th>\n",
       "      <th>na_sales</th>\n",
       "      <th>eu_sales</th>\n",
       "      <th>jp_sales</th>\n",
       "      <th>other_sales</th>\n",
       "      <th>critic_score</th>\n",
       "      <th>user_score</th>\n",
       "      <th>rating</th>\n",
       "      <th>sum_sales</th>\n",
       "    </tr>\n",
       "  </thead>\n",
       "  <tbody>\n",
       "    <tr>\n",
       "      <th>16</th>\n",
       "      <td>Grand Theft Auto V</td>\n",
       "      <td>PS3</td>\n",
       "      <td>2013</td>\n",
       "      <td>Action</td>\n",
       "      <td>7.02</td>\n",
       "      <td>9.09</td>\n",
       "      <td>0.98</td>\n",
       "      <td>3.96</td>\n",
       "      <td>97.0</td>\n",
       "      <td>8.2</td>\n",
       "      <td>M</td>\n",
       "      <td>21.05</td>\n",
       "    </tr>\n",
       "    <tr>\n",
       "      <th>23</th>\n",
       "      <td>Grand Theft Auto V</td>\n",
       "      <td>X360</td>\n",
       "      <td>2013</td>\n",
       "      <td>Action</td>\n",
       "      <td>9.66</td>\n",
       "      <td>5.14</td>\n",
       "      <td>0.06</td>\n",
       "      <td>1.41</td>\n",
       "      <td>97.0</td>\n",
       "      <td>8.1</td>\n",
       "      <td>M</td>\n",
       "      <td>16.27</td>\n",
       "    </tr>\n",
       "    <tr>\n",
       "      <th>31</th>\n",
       "      <td>Call of Duty: Black Ops 3</td>\n",
       "      <td>PS4</td>\n",
       "      <td>2015</td>\n",
       "      <td>Shooter</td>\n",
       "      <td>6.03</td>\n",
       "      <td>5.86</td>\n",
       "      <td>0.36</td>\n",
       "      <td>2.38</td>\n",
       "      <td>NaN</td>\n",
       "      <td>NaN</td>\n",
       "      <td>unknown</td>\n",
       "      <td>14.63</td>\n",
       "    </tr>\n",
       "    <tr>\n",
       "      <th>33</th>\n",
       "      <td>Pokemon X/Pokemon Y</td>\n",
       "      <td>3DS</td>\n",
       "      <td>2013</td>\n",
       "      <td>Role-Playing</td>\n",
       "      <td>5.28</td>\n",
       "      <td>4.19</td>\n",
       "      <td>4.35</td>\n",
       "      <td>0.78</td>\n",
       "      <td>NaN</td>\n",
       "      <td>NaN</td>\n",
       "      <td>unknown</td>\n",
       "      <td>14.60</td>\n",
       "    </tr>\n",
       "    <tr>\n",
       "      <th>42</th>\n",
       "      <td>Grand Theft Auto V</td>\n",
       "      <td>PS4</td>\n",
       "      <td>2014</td>\n",
       "      <td>Action</td>\n",
       "      <td>3.96</td>\n",
       "      <td>6.31</td>\n",
       "      <td>0.38</td>\n",
       "      <td>1.97</td>\n",
       "      <td>97.0</td>\n",
       "      <td>8.3</td>\n",
       "      <td>M</td>\n",
       "      <td>12.62</td>\n",
       "    </tr>\n",
       "    <tr>\n",
       "      <th>...</th>\n",
       "      <td>...</td>\n",
       "      <td>...</td>\n",
       "      <td>...</td>\n",
       "      <td>...</td>\n",
       "      <td>...</td>\n",
       "      <td>...</td>\n",
       "      <td>...</td>\n",
       "      <td>...</td>\n",
       "      <td>...</td>\n",
       "      <td>...</td>\n",
       "      <td>...</td>\n",
       "      <td>...</td>\n",
       "    </tr>\n",
       "    <tr>\n",
       "      <th>16431</th>\n",
       "      <td>Strawberry Nauts</td>\n",
       "      <td>PSV</td>\n",
       "      <td>2016</td>\n",
       "      <td>Adventure</td>\n",
       "      <td>0.00</td>\n",
       "      <td>0.00</td>\n",
       "      <td>0.01</td>\n",
       "      <td>0.00</td>\n",
       "      <td>NaN</td>\n",
       "      <td>NaN</td>\n",
       "      <td>unknown</td>\n",
       "      <td>0.01</td>\n",
       "    </tr>\n",
       "    <tr>\n",
       "      <th>16435</th>\n",
       "      <td>Aiyoku no Eustia</td>\n",
       "      <td>PSV</td>\n",
       "      <td>2014</td>\n",
       "      <td>Misc</td>\n",
       "      <td>0.00</td>\n",
       "      <td>0.00</td>\n",
       "      <td>0.01</td>\n",
       "      <td>0.00</td>\n",
       "      <td>NaN</td>\n",
       "      <td>NaN</td>\n",
       "      <td>unknown</td>\n",
       "      <td>0.01</td>\n",
       "    </tr>\n",
       "    <tr>\n",
       "      <th>16438</th>\n",
       "      <td>Samurai Warriors: Sanada Maru</td>\n",
       "      <td>PS3</td>\n",
       "      <td>2016</td>\n",
       "      <td>Action</td>\n",
       "      <td>0.00</td>\n",
       "      <td>0.00</td>\n",
       "      <td>0.01</td>\n",
       "      <td>0.00</td>\n",
       "      <td>NaN</td>\n",
       "      <td>NaN</td>\n",
       "      <td>unknown</td>\n",
       "      <td>0.01</td>\n",
       "    </tr>\n",
       "    <tr>\n",
       "      <th>16440</th>\n",
       "      <td>Haitaka no Psychedelica</td>\n",
       "      <td>PSV</td>\n",
       "      <td>2016</td>\n",
       "      <td>Adventure</td>\n",
       "      <td>0.00</td>\n",
       "      <td>0.00</td>\n",
       "      <td>0.01</td>\n",
       "      <td>0.00</td>\n",
       "      <td>NaN</td>\n",
       "      <td>NaN</td>\n",
       "      <td>unknown</td>\n",
       "      <td>0.01</td>\n",
       "    </tr>\n",
       "    <tr>\n",
       "      <th>16442</th>\n",
       "      <td>Winning Post 8 2016</td>\n",
       "      <td>PSV</td>\n",
       "      <td>2016</td>\n",
       "      <td>Simulation</td>\n",
       "      <td>0.00</td>\n",
       "      <td>0.00</td>\n",
       "      <td>0.01</td>\n",
       "      <td>0.00</td>\n",
       "      <td>NaN</td>\n",
       "      <td>NaN</td>\n",
       "      <td>unknown</td>\n",
       "      <td>0.01</td>\n",
       "    </tr>\n",
       "  </tbody>\n",
       "</table>\n",
       "<p>2233 rows × 12 columns</p>\n",
       "</div>"
      ],
      "text/plain": [
       "                                name platform  year_of_release         genre  \\\n",
       "16                Grand Theft Auto V      PS3             2013        Action   \n",
       "23                Grand Theft Auto V     X360             2013        Action   \n",
       "31         Call of Duty: Black Ops 3      PS4             2015       Shooter   \n",
       "33               Pokemon X/Pokemon Y      3DS             2013  Role-Playing   \n",
       "42                Grand Theft Auto V      PS4             2014        Action   \n",
       "...                              ...      ...              ...           ...   \n",
       "16431               Strawberry Nauts      PSV             2016     Adventure   \n",
       "16435               Aiyoku no Eustia      PSV             2014          Misc   \n",
       "16438  Samurai Warriors: Sanada Maru      PS3             2016        Action   \n",
       "16440        Haitaka no Psychedelica      PSV             2016     Adventure   \n",
       "16442            Winning Post 8 2016      PSV             2016    Simulation   \n",
       "\n",
       "       na_sales  eu_sales  jp_sales  other_sales  critic_score  user_score  \\\n",
       "16         7.02      9.09      0.98         3.96          97.0         8.2   \n",
       "23         9.66      5.14      0.06         1.41          97.0         8.1   \n",
       "31         6.03      5.86      0.36         2.38           NaN         NaN   \n",
       "33         5.28      4.19      4.35         0.78           NaN         NaN   \n",
       "42         3.96      6.31      0.38         1.97          97.0         8.3   \n",
       "...         ...       ...       ...          ...           ...         ...   \n",
       "16431      0.00      0.00      0.01         0.00           NaN         NaN   \n",
       "16435      0.00      0.00      0.01         0.00           NaN         NaN   \n",
       "16438      0.00      0.00      0.01         0.00           NaN         NaN   \n",
       "16440      0.00      0.00      0.01         0.00           NaN         NaN   \n",
       "16442      0.00      0.00      0.01         0.00           NaN         NaN   \n",
       "\n",
       "        rating  sum_sales  \n",
       "16           M      21.05  \n",
       "23           M      16.27  \n",
       "31     unknown      14.63  \n",
       "33     unknown      14.60  \n",
       "42           M      12.62  \n",
       "...        ...        ...  \n",
       "16431  unknown       0.01  \n",
       "16435  unknown       0.01  \n",
       "16438  unknown       0.01  \n",
       "16440  unknown       0.01  \n",
       "16442  unknown       0.01  \n",
       "\n",
       "[2233 rows x 12 columns]"
      ]
     },
     "execution_count": 27,
     "metadata": {},
     "output_type": "execute_result"
    }
   ],
   "source": [
    "data_new = data.query('year_of_release > 2012') # сделаем срез с 2014 по 2016\n",
    "data_new"
   ]
  },
  {
   "cell_type": "code",
   "execution_count": 28,
   "metadata": {},
   "outputs": [
    {
     "data": {
      "text/plain": [
       "0     PS4\n",
       "1     PS3\n",
       "2    XOne\n",
       "3     3DS\n",
       "4    X360\n",
       "5    WiiU\n",
       "6      PC\n",
       "7     PSV\n",
       "8     Wii\n",
       "9     PSP\n",
       "Name: platform, dtype: object"
      ]
     },
     "execution_count": 28,
     "metadata": {},
     "output_type": "execute_result"
    }
   ],
   "source": [
    "data_top_new = data_new.groupby('platform')['sum_sales'].sum().sort_values(ascending=False).reset_index()\n",
    "top_10 = data_top_new['platform'].head(10)\n",
    "\n",
    "\n",
    "data_new = data_new[data_new['platform'].isin(top_10)] # отфильтруем талицу по топ-10 платформ\n",
    "top_10"
   ]
  },
  {
   "cell_type": "markdown",
   "metadata": {},
   "source": [
    "А теперь построим график уже по новым данным."
   ]
  },
  {
   "cell_type": "code",
   "execution_count": 29,
   "metadata": {
    "scrolled": true
   },
   "outputs": [
    {
     "data": {
      "image/png": "[encoded data removed]",
      "text/plain": [
       "<Figure size 576x288 with 1 Axes>"
      ]
     },
     "metadata": {
      "needs_background": "light"
     },
     "output_type": "display_data"
    }
   ],
   "source": [
    "plt.figure(figsize=(8, 4))\n",
    "sns.lineplot(data=data_new, x='year_of_release', y = 'sum_sales', hue='platform', ci=None).set_title('Продажи топ-10 игр за последние 4 года (2013-2016)');\n",
    "plt.legend(bbox_to_anchor=(1.2, 1));"
   ]
  },
  {
   "cell_type": "markdown",
   "metadata": {},
   "source": [
    "Построим boxplot по распределению продаж по нашим платформам."
   ]
  },
  {
   "cell_type": "code",
   "execution_count": 30,
   "metadata": {
    "scrolled": true
   },
   "outputs": [
    {
     "data": {
      "image/png": "[encoded data removed]",
      "text/plain": [
       "<Figure size 432x288 with 1 Axes>"
      ]
     },
     "metadata": {
      "needs_background": "light"
     },
     "output_type": "display_data"
    }
   ],
   "source": [
    "sns.boxplot(x='platform', y='sum_sales', data=data_new, showfliers=False).set_title('Распределение продаж игр для популярных платформ'); # построим  ящик с усами и сразу отсечем выбросы"
   ]
  },
  {
   "cell_type": "code",
   "execution_count": 31,
   "metadata": {},
   "outputs": [
    {
     "data": {
      "image/png": "[encoded data removed]",
      "text/plain": [
       "<Figure size 432x288 with 1 Axes>"
      ]
     },
     "metadata": {
      "needs_background": "light"
     },
     "output_type": "display_data"
    }
   ],
   "source": [
    "sns.boxplot(x='platform', y='sum_sales', data=data_new).set_title('Распределение продаж игр для популярных платформ (+выбросы)'); # построим  ящик с усами и сразу отсечем выбросы"
   ]
  },
  {
   "cell_type": "code",
   "execution_count": 32,
   "metadata": {
    "scrolled": true
   },
   "outputs": [
    {
     "name": "stdout",
     "output_type": "stream",
     "text": [
      "Проанализировав 2 первых графика, выберем как потенциально прибыльные 5 платформ по продажам: \n"
     ]
    },
    {
     "data": {
      "text/plain": [
       "platform\n",
       "PS4     314.14\n",
       "PS3     181.43\n",
       "XOne    159.32\n",
       "3DS     143.25\n",
       "X360    136.80\n",
       "Name: sum_sales, dtype: float64"
      ]
     },
     "execution_count": 32,
     "metadata": {},
     "output_type": "execute_result"
    }
   ],
   "source": [
    "print('Проанализировав 2 первых графика, выберем как потенциально прибыльные 5 платформ по продажам: ')\n",
    "data_new.groupby('platform')['sum_sales'].sum().sort_values(ascending=False).head(5)"
   ]
  },
  {
   "cell_type": "markdown",
   "metadata": {},
   "source": [
    "Если посмотреть на выбросы - получается чем прибыльнее платформа - тем больше у нее выбросов. Можно предположить - что это бесцеллеры, которые делают продажи игр для каждой платформы, а еще, поскольку мы смотрим на сумму продаж, - на выборы могли повлиять продажи игры в конкретном регионе, где конкретная консоль или конкретная игра могли быть популярнее, чем в других.\n",
    "\n",
    "Построим сводную таблицу, чтобы узнать какая платформа сколько денег принесла."
   ]
  },
  {
   "cell_type": "code",
   "execution_count": 55,
   "metadata": {},
   "outputs": [
    {
     "data": {
      "text/html": [
       "<div>\n",
       "<style scoped>\n",
       "    .dataframe tbody tr th:only-of-type {\n",
       "        vertical-align: middle;\n",
       "    }\n",
       "\n",
       "    .dataframe tbody tr th {\n",
       "        vertical-align: top;\n",
       "    }\n",
       "\n",
       "    .dataframe thead th {\n",
       "        text-align: right;\n",
       "    }\n",
       "</style>\n",
       "<table border=\"1\" class=\"dataframe\">\n",
       "  <thead>\n",
       "    <tr style=\"text-align: right;\">\n",
       "      <th>year_of_release</th>\n",
       "      <th>2015</th>\n",
       "      <th>2016</th>\n",
       "    </tr>\n",
       "    <tr>\n",
       "      <th>platform</th>\n",
       "      <th></th>\n",
       "      <th></th>\n",
       "    </tr>\n",
       "  </thead>\n",
       "  <tbody>\n",
       "    <tr>\n",
       "      <th>PS4</th>\n",
       "      <td>118.90</td>\n",
       "      <td>69.25</td>\n",
       "    </tr>\n",
       "    <tr>\n",
       "      <th>XOne</th>\n",
       "      <td>60.14</td>\n",
       "      <td>26.15</td>\n",
       "    </tr>\n",
       "    <tr>\n",
       "      <th>3DS</th>\n",
       "      <td>27.78</td>\n",
       "      <td>15.14</td>\n",
       "    </tr>\n",
       "    <tr>\n",
       "      <th>PS3</th>\n",
       "      <td>16.82</td>\n",
       "      <td>3.60</td>\n",
       "    </tr>\n",
       "    <tr>\n",
       "      <th>WiiU</th>\n",
       "      <td>16.35</td>\n",
       "      <td>4.60</td>\n",
       "    </tr>\n",
       "    <tr>\n",
       "      <th>X360</th>\n",
       "      <td>11.96</td>\n",
       "      <td>1.52</td>\n",
       "    </tr>\n",
       "    <tr>\n",
       "      <th>PC</th>\n",
       "      <td>8.52</td>\n",
       "      <td>5.25</td>\n",
       "    </tr>\n",
       "    <tr>\n",
       "      <th>PSV</th>\n",
       "      <td>6.25</td>\n",
       "      <td>4.25</td>\n",
       "    </tr>\n",
       "    <tr>\n",
       "      <th>Wii</th>\n",
       "      <td>1.14</td>\n",
       "      <td>0.18</td>\n",
       "    </tr>\n",
       "    <tr>\n",
       "      <th>PSP</th>\n",
       "      <td>0.12</td>\n",
       "      <td>NaN</td>\n",
       "    </tr>\n",
       "  </tbody>\n",
       "</table>\n",
       "</div>"
      ],
      "text/plain": [
       "year_of_release    2015   2016\n",
       "platform                      \n",
       "PS4              118.90  69.25\n",
       "XOne              60.14  26.15\n",
       "3DS               27.78  15.14\n",
       "PS3               16.82   3.60\n",
       "WiiU              16.35   4.60\n",
       "X360              11.96   1.52\n",
       "PC                 8.52   5.25\n",
       "PSV                6.25   4.25\n",
       "Wii                1.14   0.18\n",
       "PSP                0.12    NaN"
      ]
     },
     "execution_count": 55,
     "metadata": {},
     "output_type": "execute_result"
    }
   ],
   "source": [
    "\n",
    "np.transpose(data_new.pivot_table(index='year_of_release', columns='platform', values='sum_sales', aggfunc='sum').loc[[2015, 2016]]).sort_values(by = 2015, ascending=False)\n"
   ]
  },
  {
   "cell_type": "markdown",
   "metadata": {},
   "source": [
    "Явные лидеры тут XOne, PS4 и 3DS. Что касается Wii и WiiU, но Wii можно и откинуть. Как видим, продажи там уже почти в нуле. \n"
   ]
  },
  {
   "cell_type": "markdown",
   "metadata": {},
   "source": [
    "Какие выводы можно сделать:\n",
    "- В лидерах за исследуемый период X360, PS3, PS4 и XboxOne - эти данные не совпадают с данными нашего топа, но выглядят правдоподобно - мы отсекли выбросы и аномальные значения\n",
    "- Видим что данные по всем платформам скошены вправо - в сторону бОльших значений, это значит что в среднем люди покупают более дорогие игры, но медианный покупатель - ориентирован на более дешевый сегмент."
   ]
  },
  {
   "cell_type": "markdown",
   "metadata": {},
   "source": [
    "### Корреляция с оценками критиков и пользователей"
   ]
  },
  {
   "cell_type": "markdown",
   "metadata": {},
   "source": [
    "Теперь посмотрим, как влияют на продажи внутри одной популярной платформы отзывы пользователей и критиков. Возьмем для примера самую популярную PS4."
   ]
  },
  {
   "cell_type": "code",
   "execution_count": 34,
   "metadata": {
    "scrolled": true
   },
   "outputs": [
    {
     "data": {
      "text/plain": [
       "0.406567902061781"
      ]
     },
     "execution_count": 34,
     "metadata": {},
     "output_type": "execute_result"
    },
    {
     "data": {
      "image/png": "[encoded data removed]",
      "text/plain": [
       "<Figure size 432x288 with 1 Axes>"
      ]
     },
     "metadata": {
      "needs_background": "light"
     },
     "output_type": "display_data"
    }
   ],
   "source": [
    "sns.scatterplot(data=data_new.query('platform == \"PS4\"'), x='sum_sales', y='critic_score').set_title('Корреляция оценок критиков и суммы продаж PS4');\n",
    "data_new.query('platform == \"PS4\"')['sum_sales'].corr(data_new.query('platform == \"PS4\"')['critic_score']) # посмотрим на коэффициент корреляции Пирсона"
   ]
  },
  {
   "cell_type": "code",
   "execution_count": 35,
   "metadata": {
    "scrolled": true
   },
   "outputs": [
    {
     "data": {
      "text/plain": [
       "-0.031957110204556424"
      ]
     },
     "execution_count": 35,
     "metadata": {},
     "output_type": "execute_result"
    },
    {
     "data": {
      "image/png": "[encoded data removed]",
      "text/plain": [
       "<Figure size 432x288 with 1 Axes>"
      ]
     },
     "metadata": {
      "needs_background": "light"
     },
     "output_type": "display_data"
    }
   ],
   "source": [
    "sns.scatterplot(data=data_new.query('platform == \"PS4\"'), x='sum_sales', y='user_score').set_title('Корреляция оценок пользователей и суммы продаж PS4');\n",
    "data_new.query('platform == \"PS4\"')['sum_sales'].corr(data_new.query('platform == \"PS4\"')['user_score']) # посмотрим на коэффициент корреляции Пирсона"
   ]
  },
  {
   "cell_type": "markdown",
   "metadata": {},
   "source": [
    "Корреляция продаж с оценками критиков - довольно слабая, а вот на оценки пользователей явно не стот смореть - корреляция слабая и даже в обратную сторону, но нельзя назвать это обратной корреляцией - она слишком ничтожна.\n"
   ]
  },
  {
   "cell_type": "markdown",
   "metadata": {},
   "source": [
    "Теперь возьмем менее популярную, но растущую в продажах 3DS."
   ]
  },
  {
   "cell_type": "code",
   "execution_count": 36,
   "metadata": {},
   "outputs": [
    {
     "data": {
      "text/plain": [
       "0.35705661422881035"
      ]
     },
     "execution_count": 36,
     "metadata": {},
     "output_type": "execute_result"
    },
    {
     "data": {
      "image/png": "[encoded data removed]",
      "text/plain": [
       "<Figure size 432x288 with 1 Axes>"
      ]
     },
     "metadata": {
      "needs_background": "light"
     },
     "output_type": "display_data"
    }
   ],
   "source": [
    "sns.scatterplot(data=data_new.query('platform == \"3DS\"'), x='sum_sales', y='critic_score').set_title('Корреляция оценок критиков и суммы продаж 3DS');\n",
    "data_new.query('platform == \"3DS\"')['sum_sales'].corr(data_new.query('platform == \"3DS\"')['critic_score']) # посмотрим на коэффициент корреляции Пирсона"
   ]
  },
  {
   "cell_type": "code",
   "execution_count": 37,
   "metadata": {},
   "outputs": [
    {
     "data": {
      "text/plain": [
       "0.24150411773563016"
      ]
     },
     "execution_count": 37,
     "metadata": {},
     "output_type": "execute_result"
    },
    {
     "data": {
      "image/png": "[encoded data removed]",
      "text/plain": [
       "<Figure size 432x288 with 1 Axes>"
      ]
     },
     "metadata": {
      "needs_background": "light"
     },
     "output_type": "display_data"
    }
   ],
   "source": [
    "sns.scatterplot(data=data_new.query('platform == \"3DS\"'), x='sum_sales', y='user_score').set_title('Корреляция оценок пользователей и суммы продаж 3DS');\n",
    "data_new.query('platform == \"3DS\"')['sum_sales'].corr(data_new.query('platform == \"3DS\"')['user_score']) # посмотрим на коэффициент корреляции Пирсона"
   ]
  },
  {
   "cell_type": "markdown",
   "metadata": {},
   "source": [
    "Сильно меньше данных и еще более слабая корреляция по обеим позициям.\n",
    "\n",
    "Если оценки критиков еще можно взять для прогнозов, то оценки юзеров - точно не подойдут.\n",
    "\n",
    "Но может быть с платформами от Nintendo дела обстоят иначе? Попробуем взять для анализа WiiU."
   ]
  },
  {
   "cell_type": "code",
   "execution_count": 38,
   "metadata": {
    "scrolled": false
   },
   "outputs": [
    {
     "data": {
      "text/plain": [
       "0.3764149065423912"
      ]
     },
     "execution_count": 38,
     "metadata": {},
     "output_type": "execute_result"
    },
    {
     "data": {
      "image/png": "[encoded data removed]",
      "text/plain": [
       "<Figure size 432x288 with 1 Axes>"
      ]
     },
     "metadata": {
      "needs_background": "light"
     },
     "output_type": "display_data"
    }
   ],
   "source": [
    "sns.scatterplot(data=data_new.query('platform == \"WiiU\"'), x='sum_sales', y='critic_score').set_title('Корреляция оценок критиков и суммы продаж WiiU');\n",
    "data_new.query('platform == \"WiiU\"')['sum_sales'].corr(data_new.query('platform == \"WiiU\"')['critic_score']) # посмотрим на коэффициент корреляции Пирсона"
   ]
  },
  {
   "cell_type": "code",
   "execution_count": 39,
   "metadata": {
    "scrolled": false
   },
   "outputs": [
    {
     "data": {
      "text/plain": [
       "0.4193304819266187"
      ]
     },
     "execution_count": 39,
     "metadata": {},
     "output_type": "execute_result"
    },
    {
     "data": {
      "image/png": "[encoded data removed]",
      "text/plain": [
       "<Figure size 432x288 with 1 Axes>"
      ]
     },
     "metadata": {
      "needs_background": "light"
     },
     "output_type": "display_data"
    }
   ],
   "source": [
    "sns.scatterplot(data=data_new.query('platform == \"WiiU\"'), x='sum_sales', y='user_score').set_title('Корреляция оценок пользователей и суммы продаж WiiU');\n",
    "data_new.query('platform == \"WiiU\"')['sum_sales'].corr(data_new.query('platform == \"WiiU\"')['user_score']) # посмотрим на коэффициент корреляции Пирсона"
   ]
  },
  {
   "cell_type": "markdown",
   "metadata": {},
   "source": [
    "А вот в Японии оценки юзеров имеют бОльшее значение, чем оценки критиков и почти заслуживают доверия. Но корреляция все равно очень слабая."
   ]
  },
  {
   "cell_type": "markdown",
   "metadata": {},
   "source": [
    "Теперь возьмем для сравнения какую-нибудь непопулярную платформу из прошлого и посмотрим, есть ли корреляция с оценками критиков или пользователей."
   ]
  },
  {
   "cell_type": "code",
   "execution_count": 40,
   "metadata": {},
   "outputs": [
    {
     "data": {
      "text/plain": [
       "0.38425219859841503"
      ]
     },
     "execution_count": 40,
     "metadata": {},
     "output_type": "execute_result"
    },
    {
     "data": {
      "image/png": "[encoded data removed]",
      "text/plain": [
       "<Figure size 432x288 with 1 Axes>"
      ]
     },
     "metadata": {
      "needs_background": "light"
     },
     "output_type": "display_data"
    }
   ],
   "source": [
    "sns.scatterplot(data=data.query('platform == \"XB\"'), x='sum_sales', y='critic_score').set_title('Корреляция оценок критиков и суммы продаж XB');\n",
    "data.query('platform == \"XB\"')['sum_sales'].corr(data.query('platform == \"XB\"')['critic_score']) # посмотрим на коэффициент корреляции Пирсона"
   ]
  },
  {
   "cell_type": "code",
   "execution_count": 41,
   "metadata": {
    "scrolled": true
   },
   "outputs": [
    {
     "data": {
      "text/plain": [
       "0.1748761718532454"
      ]
     },
     "execution_count": 41,
     "metadata": {},
     "output_type": "execute_result"
    },
    {
     "data": {
      "image/png": "[encoded data removed]",
      "text/plain": [
       "<Figure size 432x288 with 1 Axes>"
      ]
     },
     "metadata": {
      "needs_background": "light"
     },
     "output_type": "display_data"
    }
   ],
   "source": [
    "sns.scatterplot(data=data.query('platform == \"XB\"'), x='sum_sales', y='user_score').set_title('Корреляция оценок пользователей и суммы продаж XB');\n",
    "data.query('platform == \"XB\"')['sum_sales'].corr(data.query('platform == \"XB\"')['user_score']) # посмотрим на коэффициент корреляции Пирсона"
   ]
  },
  {
   "cell_type": "markdown",
   "metadata": {},
   "source": [
    "Корреляция примерно того же уровня - совсем маленькая с оценками пользователей, и более ощутимая - с оценками критиков.\n",
    "\n",
    "Получается оценки критиков можно использовать как критерий при выборе игр для нашего магазина. "
   ]
  },
  {
   "cell_type": "markdown",
   "metadata": {},
   "source": [
    "### Исследование жанров"
   ]
  },
  {
   "cell_type": "markdown",
   "metadata": {},
   "source": [
    "Посмотрим, какие жанры пользуются наибольшей популярностью."
   ]
  },
  {
   "cell_type": "code",
   "execution_count": 42,
   "metadata": {
    "scrolled": true
   },
   "outputs": [
    {
     "data": {
      "text/plain": [
       "genre\n",
       "Action          321.37\n",
       "Shooter         232.98\n",
       "Sports          150.62\n",
       "Role-Playing    145.89\n",
       "Misc             62.74\n",
       "Platform         41.94\n",
       "Racing           39.89\n",
       "Fighting         35.31\n",
       "Adventure        23.61\n",
       "Simulation       21.55\n",
       "Strategy         10.08\n",
       "Puzzle            3.17\n",
       "Name: sum_sales, dtype: float64"
      ]
     },
     "execution_count": 42,
     "metadata": {},
     "output_type": "execute_result"
    }
   ],
   "source": [
    "data_genre = data_new.groupby('genre')['sum_sales'].sum().sort_values(ascending=False) # сгруппируем жанры по числу продаж\n",
    "data_genre"
   ]
  },
  {
   "cell_type": "markdown",
   "metadata": {},
   "source": [
    "Возьмем из них топ-7 и нанесем жанры на диаграмму-пирог."
   ]
  },
  {
   "cell_type": "code",
   "execution_count": 57,
   "metadata": {},
   "outputs": [
    {
     "data": {
      "image/png": "[encoded data removed]",
      "text/plain": [
       "<Figure size 360x360 with 1 Axes>"
      ]
     },
     "metadata": {},
     "output_type": "display_data"
    }
   ],
   "source": [
    "data_genre = data_genre.head(7)\n",
    "data_genre.plot(kind='pie', y = 'sum_sales', figsize=(5,5), autopct='%1.1f%%')\n",
    "plt.tight_layout()\n",
    "plt.title('Распределение жанров по популярности')\n",
    "plt.ylabel('');"
   ]
  },
  {
   "cell_type": "markdown",
   "metadata": {},
   "source": [
    "БОльшую часть рынка покрыли 5 жанров: шутеры, экшен, РПГ, спортивные (под спортивными с большой вероятностию подразумевается Fifa, но это можно проверить) и аркады. Все остальные игры сильно уступают по продажам, но и у них есть своя аудитория."
   ]
  },
  {
   "cell_type": "markdown",
   "metadata": {},
   "source": [
    "Интересно посмотреть, какие жанры пользовались популярностью в прошлом, измелилось ли что-то за 30 лет развития игровой индустрии? "
   ]
  },
  {
   "cell_type": "code",
   "execution_count": 58,
   "metadata": {
    "scrolled": true
   },
   "outputs": [
    {
     "data": {
      "image/png": "[encoded data removed]",
      "text/plain": [
       "<Figure size 360x360 with 1 Axes>"
      ]
     },
     "metadata": {},
     "output_type": "display_data"
    }
   ],
   "source": [
    "data_genre = data.query('year_of_release <2001').groupby('genre')['sum_sales'].sum().sort_values(ascending=False) # сгруппируем жанры по числу продаж\n",
    "data_genre\n",
    "data_genre = data_genre.head(7)\n",
    "data_genre.plot(kind='pie', y = 'sum_sales', figsize=(5,5), autopct='%1.1f%%')\n",
    "plt.tight_layout()\n",
    "plt.title('Распределение жанров по популярности до 2000 года')\n",
    "plt.ylabel('');"
   ]
  },
  {
   "cell_type": "markdown",
   "metadata": {},
   "source": [
    "в 80-е и 90-е люди в основном играли в платформенные игры типа Super Mario и Princ of Persia. Были популярны так же РПГ, экшены, спортивные игры и гонки."
   ]
  },
  {
   "cell_type": "markdown",
   "metadata": {},
   "source": [
    "Теперь посмотрим будут ли такие же значения, если взять не суммарные, а средние и медианные значения."
   ]
  },
  {
   "cell_type": "code",
   "execution_count": 45,
   "metadata": {
    "scrolled": false
   },
   "outputs": [
    {
     "data": {
      "text/html": [
       "<div>\n",
       "<style scoped>\n",
       "    .dataframe tbody tr th:only-of-type {\n",
       "        vertical-align: middle;\n",
       "    }\n",
       "\n",
       "    .dataframe tbody tr th {\n",
       "        vertical-align: top;\n",
       "    }\n",
       "\n",
       "    .dataframe thead th {\n",
       "        text-align: right;\n",
       "    }\n",
       "</style>\n",
       "<table border=\"1\" class=\"dataframe\">\n",
       "  <thead>\n",
       "    <tr style=\"text-align: right;\">\n",
       "      <th></th>\n",
       "      <th>sum_sales</th>\n",
       "    </tr>\n",
       "    <tr>\n",
       "      <th>genre</th>\n",
       "      <th></th>\n",
       "    </tr>\n",
       "  </thead>\n",
       "  <tbody>\n",
       "    <tr>\n",
       "      <th>Shooter</th>\n",
       "      <td>1.245882</td>\n",
       "    </tr>\n",
       "    <tr>\n",
       "      <th>Sports</th>\n",
       "      <td>0.707136</td>\n",
       "    </tr>\n",
       "    <tr>\n",
       "      <th>Platform</th>\n",
       "      <td>0.582500</td>\n",
       "    </tr>\n",
       "    <tr>\n",
       "      <th>Role-Playing</th>\n",
       "      <td>0.499623</td>\n",
       "    </tr>\n",
       "    <tr>\n",
       "      <th>Racing</th>\n",
       "      <td>0.469294</td>\n",
       "    </tr>\n",
       "    <tr>\n",
       "      <th>Fighting</th>\n",
       "      <td>0.441375</td>\n",
       "    </tr>\n",
       "    <tr>\n",
       "      <th>Action</th>\n",
       "      <td>0.420641</td>\n",
       "    </tr>\n",
       "  </tbody>\n",
       "</table>\n",
       "</div>"
      ],
      "text/plain": [
       "              sum_sales\n",
       "genre                  \n",
       "Shooter        1.245882\n",
       "Sports         0.707136\n",
       "Platform       0.582500\n",
       "Role-Playing   0.499623\n",
       "Racing         0.469294\n",
       "Fighting       0.441375\n",
       "Action         0.420641"
      ]
     },
     "metadata": {},
     "output_type": "display_data"
    },
    {
     "data": {
      "text/html": [
       "<div>\n",
       "<style scoped>\n",
       "    .dataframe tbody tr th:only-of-type {\n",
       "        vertical-align: middle;\n",
       "    }\n",
       "\n",
       "    .dataframe tbody tr th {\n",
       "        vertical-align: top;\n",
       "    }\n",
       "\n",
       "    .dataframe thead th {\n",
       "        text-align: right;\n",
       "    }\n",
       "</style>\n",
       "<table border=\"1\" class=\"dataframe\">\n",
       "  <thead>\n",
       "    <tr style=\"text-align: right;\">\n",
       "      <th></th>\n",
       "      <th>sum_sales</th>\n",
       "    </tr>\n",
       "    <tr>\n",
       "      <th>genre</th>\n",
       "      <th></th>\n",
       "    </tr>\n",
       "  </thead>\n",
       "  <tbody>\n",
       "    <tr>\n",
       "      <th>Shooter</th>\n",
       "      <td>0.450</td>\n",
       "    </tr>\n",
       "    <tr>\n",
       "      <th>Sports</th>\n",
       "      <td>0.240</td>\n",
       "    </tr>\n",
       "    <tr>\n",
       "      <th>Platform</th>\n",
       "      <td>0.225</td>\n",
       "    </tr>\n",
       "    <tr>\n",
       "      <th>Role-Playing</th>\n",
       "      <td>0.125</td>\n",
       "    </tr>\n",
       "    <tr>\n",
       "      <th>Fighting</th>\n",
       "      <td>0.125</td>\n",
       "    </tr>\n",
       "    <tr>\n",
       "      <th>Racing</th>\n",
       "      <td>0.120</td>\n",
       "    </tr>\n",
       "    <tr>\n",
       "      <th>Action</th>\n",
       "      <td>0.110</td>\n",
       "    </tr>\n",
       "  </tbody>\n",
       "</table>\n",
       "</div>"
      ],
      "text/plain": [
       "              sum_sales\n",
       "genre                  \n",
       "Shooter           0.450\n",
       "Sports            0.240\n",
       "Platform          0.225\n",
       "Role-Playing      0.125\n",
       "Fighting          0.125\n",
       "Racing            0.120\n",
       "Action            0.110"
      ]
     },
     "execution_count": 45,
     "metadata": {},
     "output_type": "execute_result"
    }
   ],
   "source": [
    "data_genre_mean = (data_new.pivot_table(index='genre', values='sum_sales', aggfunc='mean')\n",
    "                  .sort_values(by='sum_sales',ascending=False)\n",
    "                  .head(7))\n",
    "data_genre_median = (data_new.pivot_table(index='genre', values='sum_sales', aggfunc='median')\n",
    "                  .sort_values(by='sum_sales',ascending=False)\n",
    "                  .head(7))\n",
    "display(data_genre_mean)\n",
    "data_genre_median"
   ]
  },
  {
   "cell_type": "code",
   "execution_count": 46,
   "metadata": {},
   "outputs": [
    {
     "data": {
      "image/png": "[encoded data removed]",
      "text/plain": [
       "<Figure size 360x360 with 1 Axes>"
      ]
     },
     "metadata": {},
     "output_type": "display_data"
    }
   ],
   "source": [
    "ax = data_genre_mean.plot(kind='pie', y = 'sum_sales', figsize=(5,5), autopct='%1.1f%%', legend = False)\n",
    "ax.set_ylabel('')\n",
    "plt.title('Распределение жанров по популярности (среднее значение)');"
   ]
  },
  {
   "cell_type": "code",
   "execution_count": 47,
   "metadata": {},
   "outputs": [
    {
     "data": {
      "image/png": "[encoded data removed]",
      "text/plain": [
       "<Figure size 360x360 with 1 Axes>"
      ]
     },
     "metadata": {},
     "output_type": "display_data"
    }
   ],
   "source": [
    "ax = data_genre_median.plot(kind='pie', y = 'sum_sales', figsize=(5,5), autopct='%1.1f%%', legend = False)\n",
    "ax.set_ylabel('')\n",
    "plt.title('Распределение жанров по популярности (среднее значение)');"
   ]
  },
  {
   "cell_type": "markdown",
   "metadata": {},
   "source": [
    "Получается что если посмотреть на среднее и медиану - шутеры выходят на первое место, а экшены если смотреть с этой стороны - составляют меньше 10%.  \n",
    "\n",
    "Значит предположение было верным - экшены выходят на первое место из-за продажи бесцеллеров, но средний покупательо больше любит шутеры и спортивные игры."
   ]
  },
  {
   "cell_type": "markdown",
   "metadata": {},
   "source": [
    "[Содержание](#0)"
   ]
  },
  {
   "cell_type": "markdown",
   "metadata": {},
   "source": [
    "## Портреты пользователей из разных регионов\n",
    "<a id=4> </a>"
   ]
  },
  {
   "cell_type": "markdown",
   "metadata": {},
   "source": [
    "В нашем дата-сете собраны данные о пользователях из разных стран - составим на основе этих данных характерный портрет пользователя для каждого региона."
   ]
  },
  {
   "cell_type": "markdown",
   "metadata": {},
   "source": [
    "### Продажи"
   ]
  },
  {
   "cell_type": "markdown",
   "metadata": {},
   "source": [
    "Посмотрим на продажи в Северной Америке."
   ]
  },
  {
   "cell_type": "code",
   "execution_count": 59,
   "metadata": {
    "scrolled": false
   },
   "outputs": [
    {
     "name": "stdout",
     "output_type": "stream",
     "text": [
      "top-5 для Северной Америки:\n",
      "0     PS4\n",
      "1    XOne\n",
      "2    X360\n",
      "3     PS3\n",
      "4     3DS\n",
      "Name: platform, dtype: object\n",
      "top-5 для Европы:\n",
      "0     PS4\n",
      "1     PS3\n",
      "2    XOne\n",
      "3    X360\n",
      "4     3DS\n",
      "Name: platform, dtype: object\n",
      "top-5 Японии:\n",
      "0     3DS\n",
      "1     PS3\n",
      "2     PSV\n",
      "3     PS4\n",
      "4    WiiU\n",
      "Name: platform, dtype: object\n"
     ]
    }
   ],
   "source": [
    "data_platform_NA = data_new.groupby('platform')['na_sales'].sum()\n",
    "data_platform_NA = data_platform_NA.sort_values(ascending=False).reset_index()\n",
    "top_5_NA = data_platform_NA['platform'].head(5) # top-5 для Северной Америки\n",
    "data_platform_EU = data_new.groupby('platform')['eu_sales'].sum()\n",
    "data_platform_EU = data_platform_EU.sort_values(ascending=False).reset_index()\n",
    "top_5_EU = data_platform_EU['platform'].head(5) # top-5 для Европы\n",
    "data_platform_JP =data_new.groupby('platform')['jp_sales'].sum()\n",
    "data_platform_JP = data_platform_JP.sort_values(ascending=False).reset_index()\n",
    "top_5_JP = data_platform_JP['platform'].head(5) # top-5 для Японии\n",
    "print('top-5 для Северной Америки:')\n",
    "print(top_5_NA)\n",
    "print('top-5 для Европы:')\n",
    "print(top_5_EU)\n",
    "print('top-5 Японии:')\n",
    "print(top_5_JP)"
   ]
  },
  {
   "cell_type": "markdown",
   "metadata": {},
   "source": [
    "Список популярных платформ - очень похожий на тот, что мы поличили по общим продажам, но есть региональные особенности:\n",
    "1. В Европе и Северной Америке первое место занимает PS4, а в Японии она лишь на 3 месте по популярности.\n",
    "0. В Европе и Америке одинаковый топ.\n",
    "0. В Японии самая популярная консоль - Nintendo (3DS).\n",
    "0. В Японии в топ3 - портативные приставки 3DS и PSV\n",
    "0. Wii популярна во всех регионах.\n",
    "0. В Японии PS3 популярнее PS4."
   ]
  },
  {
   "cell_type": "markdown",
   "metadata": {},
   "source": [
    "### Жанры"
   ]
  },
  {
   "cell_type": "markdown",
   "metadata": {},
   "source": [
    "Теперь посмотрим, какие жанры популярны в разных регионах."
   ]
  },
  {
   "cell_type": "code",
   "execution_count": 60,
   "metadata": {},
   "outputs": [],
   "source": [
    "data_top_5_NA = data_new[data_new['platform'].isin(top_5_NA)] # отфильтруем по топ_5 платформ\n",
    "data_genre_NA = data_top_5_NA.groupby('genre')['na_sales'].sum().sort_values(ascending=False)#  сгруппируем жанры по числу продаж\n",
    "top_genres_NA = data_genre_NA.head(5).reset_index() # сохраним топ-5 жанров\n",
    "data_top_5_EU = data_new[data_new['platform'].isin(top_5_EU)]\n",
    "data_genre_EU = data_top_5_EU.groupby('genre')['eu_sales'].sum().sort_values(ascending=False)# сгруппируем жанры по числу продаж\n",
    "top_genres_EU = data_genre_EU.head(5).reset_index()\n",
    "data_top_5_JP = data_new[data_new['platform'].isin(top_5_JP)]\n",
    "data_genre_JP = data_top_5_JP.groupby('genre')['jp_sales'].sum().sort_values(ascending=False)# сгруппируем жанры по числу продаж\n",
    "top_genres_JP = data_genre_JP.head(5).reset_index()"
   ]
  },
  {
   "cell_type": "markdown",
   "metadata": {},
   "source": [
    "Нарисуем 3 диаграммы для трех регионов."
   ]
  },
  {
   "cell_type": "code",
   "execution_count": 61,
   "metadata": {
    "scrolled": false
   },
   "outputs": [
    {
     "data": {
      "image/png": "[encoded data removed]",
      "text/plain": [
       "<Figure size 432x288 with 1 Axes>"
      ]
     },
     "metadata": {
      "needs_background": "light"
     },
     "output_type": "display_data"
    }
   ],
   "source": [
    "sns.barplot(x = 'genre', y = 'na_sales', data = top_genres_NA)\n",
    "\n",
    "plt.title('Распределение жанров по популярности. Северная Америка');"
   ]
  },
  {
   "cell_type": "code",
   "execution_count": 62,
   "metadata": {
    "scrolled": true
   },
   "outputs": [
    {
     "data": {
      "image/png": "[encoded data removed]",
      "text/plain": [
       "<Figure size 432x288 with 1 Axes>"
      ]
     },
     "metadata": {
      "needs_background": "light"
     },
     "output_type": "display_data"
    }
   ],
   "source": [
    "sns.barplot(x = 'genre', y = 'eu_sales', data = top_genres_EU)\n",
    "\n",
    "plt.title('Распределение жанров по популярности. Европа');"
   ]
  },
  {
   "cell_type": "code",
   "execution_count": 63,
   "metadata": {
    "scrolled": false
   },
   "outputs": [
    {
     "data": {
      "image/png": "[encoded data removed]",
      "text/plain": [
       "<Figure size 432x288 with 1 Axes>"
      ]
     },
     "metadata": {
      "needs_background": "light"
     },
     "output_type": "display_data"
    }
   ],
   "source": [
    "sns.barplot(x = 'genre', y = 'jp_sales', data = top_genres_JP)\n",
    "\n",
    "plt.title('Распределение жанров по популярности. Япония');"
   ]
  },
  {
   "cell_type": "markdown",
   "metadata": {},
   "source": [
    "В том что касается жанров юзеры из разных регионов отличаются довольно сильно, но европейцы похожи на жителей Северной Америки, а вот жители Японии отличаются довольно сильно.\n",
    "1. В Европе и Америке Экшены популярнее всего.\n",
    "0. В Японии на первом месте РПГ, при чем с большим отрывом.\n",
    "0. А вот в Японии шутеры не пользуются популярностью, а спортивные симуляторы лишь на 4 месте по популярности.\n",
    "0. В Японии, видимо в связи с популярностью Nintendo, многие играют в платформенные игры и аркады.\n"
   ]
  },
  {
   "cell_type": "markdown",
   "metadata": {},
   "source": [
    "### Рейтинг ESRB"
   ]
  },
  {
   "cell_type": "markdown",
   "metadata": {},
   "source": [
    "Поскольку рейтинг ESRB актуален только для Северной Америки, а в Европе и Японии действуют свои аналоги этого рейтинга, по хорошему он должен иметь наибольшее влияние в Америке, но проверим так же его влияние в других регионах."
   ]
  },
  {
   "cell_type": "code",
   "execution_count": 64,
   "metadata": {
    "scrolled": true
   },
   "outputs": [
    {
     "data": {
      "image/png": "[encoded data removed]",
      "text/plain": [
       "<Figure size 432x288 with 1 Axes>"
      ]
     },
     "metadata": {
      "needs_background": "light"
     },
     "output_type": "display_data"
    }
   ],
   "source": [
    "sns.barplot(data=data_new, x='rating', y='na_sales').set_title('Рейтинг ESRB и продажи в Северной Америке');"
   ]
  },
  {
   "cell_type": "code",
   "execution_count": 65,
   "metadata": {
    "scrolled": false
   },
   "outputs": [
    {
     "data": {
      "image/png": "[encoded data removed]",
      "text/plain": [
       "<Figure size 432x288 with 1 Axes>"
      ]
     },
     "metadata": {
      "needs_background": "light"
     },
     "output_type": "display_data"
    }
   ],
   "source": [
    "sns.barplot(data=data_new, x='rating', y='eu_sales').set_title('Рейтинг ESRB и продажи в Европе');"
   ]
  },
  {
   "cell_type": "code",
   "execution_count": 66,
   "metadata": {
    "scrolled": true
   },
   "outputs": [
    {
     "data": {
      "image/png": "[encoded data removed]",
      "text/plain": [
       "<Figure size 432x288 with 1 Axes>"
      ]
     },
     "metadata": {
      "needs_background": "light"
     },
     "output_type": "display_data"
    }
   ],
   "source": [
    "sns.barplot(data=data_new, x='rating', y='jp_sales').set_title('Рейтинг ESRB и продажи в Японии');"
   ]
  },
  {
   "cell_type": "markdown",
   "metadata": {},
   "source": [
    "Получается, рейтинг имеет значение для Европы и Северной Америки, а на продажи в Японии он влияет намного меньше - большинство значений попало в колонку unknown, значит в Японии покупаются игры в соответствии с каким-то другим критерием, чем рейтинг ESRB."
   ]
  },
  {
   "cell_type": "markdown",
   "metadata": {},
   "source": [
    "[Содержание](#0)"
   ]
  },
  {
   "cell_type": "markdown",
   "metadata": {},
   "source": [
    "## Проверка гипотез\n",
    "<a id=5> </a>"
   ]
  },
  {
   "cell_type": "markdown",
   "metadata": {},
   "source": [
    "Сформулируем 2 исследовательские гипотезы и проверим их."
   ]
  },
  {
   "cell_type": "markdown",
   "metadata": {},
   "source": [
    "### Гипотеза 1"
   ]
  },
  {
   "cell_type": "markdown",
   "metadata": {},
   "source": [
    "Средние пользовательские рейтинги платформ Xbox One и PC одинаковые. Здесь нулевой гипотезой будет - рейтинги пользователей для обеих платформ одинаковые, а альтернативной - рейтинги различаются. Гипотеза двусторонняя. Поскольку у нас нет уверенности, сильно ли отличаются пользователи разных платформ, мы введем дополнительный параметр в t-test."
   ]
  },
  {
   "cell_type": "code",
   "execution_count": null,
   "metadata": {},
   "outputs": [],
   "source": [
    "alpha = .05 # зададим уровень статистической значимости в 5%\n",
    "# если p-value окажется меньше него - отвергнем гипотезу\n",
    "platform1 = data_new.query('platform == \"PC\"')['user_score'] # сделаем срез по платформе\n",
    "platform2 = data_new.query('platform == \"XOne\"')['user_score']\n",
    "results = st.ttest_ind(\n",
    "    platform1, platform2, equal_var = False, nan_policy='omit') # не будем обращать внимание на значения NaN  \n",
    "if (results.pvalue) < alpha: \n",
    "    print(\"Отвергаем нулевую гипотезу\")\n",
    "else:\n",
    "    print(\"Не получилось отвергнуть нулевую гипотезу\") \n",
    "print('p-value =', results.pvalue)\n"
   ]
  },
  {
   "cell_type": "markdown",
   "metadata": {},
   "source": [
    "Рейтинги различаются, вероятность того что они одинаковые слишком мала, чтобы мы приняли эту гипотезу."
   ]
  },
  {
   "cell_type": "markdown",
   "metadata": {},
   "source": [
    " ### Гипотеза 2"
   ]
  },
  {
   "cell_type": "markdown",
   "metadata": {},
   "source": [
    "Средние пользовательские рейтинги жанров Action и Sports разные. Здесь нулевой гипотезой будет: рейтинги одинаковые, а альтернативной - рейтинги отличаются.\n"
   ]
  },
  {
   "cell_type": "code",
   "execution_count": null,
   "metadata": {},
   "outputs": [],
   "source": [
    "alpha = .05 # зададим уровень статистической значимости в 5%\n",
    "# если p-value окажется меньше него - отвергнем гипотезу\n",
    "Action = data_new.query('genre == \"Action\"')['user_score']\n",
    "Sports = data_new.query('genre == \"Sports\"')['user_score']\n",
    "results = st.ttest_ind(\n",
    "    Action, Sports, equal_var = False, nan_policy='omit')\n",
    "if (results.pvalue) < alpha: \n",
    "    print(\"Отвергаем нулевую гипотезу\")\n",
    "else:\n",
    "    print(\"Не получилось отвергнуть нулевую гипотезу\") \n",
    "print('p-value =', results.pvalue)\n"
   ]
  },
  {
   "cell_type": "markdown",
   "metadata": {},
   "source": [
    "Рейтинги игр в жанрах Action и Sports с большим процентом вероятности различаются."
   ]
  },
  {
   "cell_type": "markdown",
   "metadata": {},
   "source": [
    "[Содержание](#0)"
   ]
  },
  {
   "cell_type": "markdown",
   "metadata": {},
   "source": [
    "## Вывод\n",
    "<a id=6> </a>"
   ]
  },
  {
   "cell_type": "markdown",
   "metadata": {},
   "source": [
    "Мы рассмотрели выборку данных за 1985-2016 годы. Данные до 2000 года не очень репрезентативные в плане маркетинговой стратегии, но они могомают нарисовать общую картину развития игровой индустрии, и несмотря на развитие интернета и появление новых технологий - люди играют во все тот же набор игр почти в тех же жанрах что и раньше. Хотя их распределение немного изменилось.   \n",
    "Мы нормализовали данные для игр по разным платформам, чтобы посмотреть динамику их жизни и установили что средний срок жизни 1 платформы 7-10 лет. Исходя из этого мы проанализировали данные за 4 последних года.\n",
    "\n",
    "На чем же следует сделать акцент при выборе игр для магазина в будущем году? \n",
    "1. Пока не вышла новая модель PS, игр для PS4 будет выпускаться больше, а PS3 сойдет на нет.\n",
    "0. В магазинах в разных странах следует учесть региональные особенности.\n",
    "0. В Японии будут покупать все от Nintendo.\n",
    "0. В Америке и Европе возглавляют топ игровых консолей  PlayStation 4 и Xbox.\n",
    "0. В Японии главной игровой консолью будет 3DS.\n",
    "0. В Северной Америке и Европе можно испльзовать похожие рекламные кампании, но для Японского рынка придется сделать отдельную.\n",
    "0. Самыми популярными жанрами в Европе и Северной Америке будут экшены, шутеры и спортивные игры.\n",
    "0. В Японии следует сделать акцент в первую очередь на РПГ, но Экшены с ними почти на одном уровне.\n",
    "0. При выборе игр можно учитывать рейтинг критиков, но не рейтинг пользователей - он не коррелирует с реальными продажами игр.\n",
    "0. Можно смотреть на рейтинг ESRB в Северной Америке и Европе. В Японии есть свой аналог данного рейтинга, в дальнейшем можно добавить их в данные и так же испльзовать. В связи с нашими данными, сегмент игр для взрослых будет занимать бОльшую часть рынка, но о детях и подростках так же не следует забывать. Мы полагаем, эта аудитория будет только расти в будущие годы.\n",
    "\n",
    "Нашу стратегию можно применить к последующим временным периодам. То же исследование можно будет повторить через год или два, когда появятся новые данные и новые игровые консоли. Есть вероятность что распределение жанров, консолей и возрастных категорий может поменяться, но принципы анализа будут так же актуальны.\n"
   ]
  }
 ],
 "metadata": {
  "ExecuteTimeLog": [
   {
    "duration": 46,
    "start_time": "2022-07-01T13:58:23.862Z"
   },
   {
    "duration": 6,
    "start_time": "2022-07-01T13:58:30.401Z"
   },
   {
    "duration": 373,
    "start_time": "2022-07-01T13:58:39.201Z"
   },
   {
    "duration": 102,
    "start_time": "2022-07-01T13:59:26.062Z"
   },
   {
    "duration": 52,
    "start_time": "2022-07-01T13:59:44.763Z"
   },
   {
    "duration": 48,
    "start_time": "2022-07-02T11:30:12.713Z"
   },
   {
    "duration": 425,
    "start_time": "2022-07-02T11:30:17.806Z"
   },
   {
    "duration": 101,
    "start_time": "2022-07-02T11:30:18.233Z"
   },
   {
    "duration": 70,
    "start_time": "2022-07-02T11:30:29.804Z"
   },
   {
    "duration": 80,
    "start_time": "2022-07-02T11:41:34.650Z"
   },
   {
    "duration": 21,
    "start_time": "2022-07-02T11:41:45.587Z"
   },
   {
    "duration": 12,
    "start_time": "2022-07-02T11:50:28.011Z"
   },
   {
    "duration": 16,
    "start_time": "2022-07-02T11:50:42.455Z"
   },
   {
    "duration": 17,
    "start_time": "2022-07-02T11:51:51.800Z"
   },
   {
    "duration": 17,
    "start_time": "2022-07-02T11:51:58.623Z"
   },
   {
    "duration": 15,
    "start_time": "2022-07-02T11:52:18.427Z"
   },
   {
    "duration": 619,
    "start_time": "2022-07-02T11:53:26.086Z"
   },
   {
    "duration": 7,
    "start_time": "2022-07-02T11:58:17.526Z"
   },
   {
    "duration": 5,
    "start_time": "2022-07-02T11:59:50.900Z"
   },
   {
    "duration": 6,
    "start_time": "2022-07-02T12:07:03.879Z"
   },
   {
    "duration": 130,
    "start_time": "2022-07-02T12:14:30.090Z"
   },
   {
    "duration": 9,
    "start_time": "2022-07-02T12:14:48.401Z"
   },
   {
    "duration": 9,
    "start_time": "2022-07-02T12:14:55.927Z"
   },
   {
    "duration": 8,
    "start_time": "2022-07-02T12:18:03.910Z"
   },
   {
    "duration": 369,
    "start_time": "2022-07-02T12:18:10.261Z"
   },
   {
    "duration": 84,
    "start_time": "2022-07-02T12:18:10.633Z"
   },
   {
    "duration": 23,
    "start_time": "2022-07-02T12:18:10.719Z"
   },
   {
    "duration": 32,
    "start_time": "2022-07-02T12:18:10.744Z"
   },
   {
    "duration": 11,
    "start_time": "2022-07-02T12:18:10.778Z"
   },
   {
    "duration": 14,
    "start_time": "2022-07-02T12:18:10.790Z"
   },
   {
    "duration": 73,
    "start_time": "2022-07-02T12:18:42.196Z"
   },
   {
    "duration": 5,
    "start_time": "2022-07-02T12:19:09.896Z"
   },
   {
    "duration": 7,
    "start_time": "2022-07-02T12:19:23.104Z"
   },
   {
    "duration": 381,
    "start_time": "2022-07-02T12:19:52.591Z"
   },
   {
    "duration": 70,
    "start_time": "2022-07-02T12:19:52.974Z"
   },
   {
    "duration": 19,
    "start_time": "2022-07-02T12:19:53.045Z"
   },
   {
    "duration": 17,
    "start_time": "2022-07-02T12:19:53.066Z"
   },
   {
    "duration": 5,
    "start_time": "2022-07-02T12:19:53.085Z"
   },
   {
    "duration": 80,
    "start_time": "2022-07-02T12:19:53.091Z"
   },
   {
    "duration": 7,
    "start_time": "2022-07-02T12:20:09.017Z"
   },
   {
    "duration": 10,
    "start_time": "2022-07-02T12:21:03.489Z"
   },
   {
    "duration": 11,
    "start_time": "2022-07-02T12:21:14.068Z"
   },
   {
    "duration": 389,
    "start_time": "2022-07-02T12:21:31.171Z"
   },
   {
    "duration": 91,
    "start_time": "2022-07-02T12:21:31.562Z"
   },
   {
    "duration": 27,
    "start_time": "2022-07-02T12:21:31.655Z"
   },
   {
    "duration": 25,
    "start_time": "2022-07-02T12:21:31.684Z"
   },
   {
    "duration": 18,
    "start_time": "2022-07-02T12:21:31.710Z"
   },
   {
    "duration": 70,
    "start_time": "2022-07-02T12:21:31.729Z"
   },
   {
    "duration": 8,
    "start_time": "2022-07-02T12:24:08.752Z"
   },
   {
    "duration": 8,
    "start_time": "2022-07-02T12:24:29.571Z"
   },
   {
    "duration": 56,
    "start_time": "2022-07-02T12:28:12.951Z"
   },
   {
    "duration": 17,
    "start_time": "2022-07-02T12:28:33.295Z"
   },
   {
    "duration": 2,
    "start_time": "2022-07-02T12:29:00.298Z"
   },
   {
    "duration": 17,
    "start_time": "2022-07-02T12:29:06.960Z"
   },
   {
    "duration": 18,
    "start_time": "2022-07-02T12:29:15.661Z"
   },
   {
    "duration": 53,
    "start_time": "2022-07-02T12:29:20.900Z"
   },
   {
    "duration": 413,
    "start_time": "2022-07-02T12:30:56.396Z"
   },
   {
    "duration": 87,
    "start_time": "2022-07-02T12:30:56.811Z"
   },
   {
    "duration": 21,
    "start_time": "2022-07-02T12:30:56.900Z"
   },
   {
    "duration": 18,
    "start_time": "2022-07-02T12:30:56.923Z"
   },
   {
    "duration": 5,
    "start_time": "2022-07-02T12:30:56.943Z"
   },
   {
    "duration": 65,
    "start_time": "2022-07-02T12:30:56.950Z"
   },
   {
    "duration": 0,
    "start_time": "2022-07-02T12:30:57.026Z"
   },
   {
    "duration": 2,
    "start_time": "2022-07-02T12:31:15.834Z"
   },
   {
    "duration": 12,
    "start_time": "2022-07-02T12:31:19.904Z"
   },
   {
    "duration": 4,
    "start_time": "2022-07-02T12:31:48.268Z"
   },
   {
    "duration": 6,
    "start_time": "2022-07-02T12:31:57.306Z"
   },
   {
    "duration": 65,
    "start_time": "2022-07-02T12:32:37.208Z"
   },
   {
    "duration": 361,
    "start_time": "2022-07-02T12:32:57.669Z"
   },
   {
    "duration": 71,
    "start_time": "2022-07-02T12:32:58.032Z"
   },
   {
    "duration": 24,
    "start_time": "2022-07-02T12:32:58.104Z"
   },
   {
    "duration": 19,
    "start_time": "2022-07-02T12:32:58.130Z"
   },
   {
    "duration": 5,
    "start_time": "2022-07-02T12:32:58.152Z"
   },
   {
    "duration": 13,
    "start_time": "2022-07-02T12:32:58.158Z"
   },
   {
    "duration": 44,
    "start_time": "2022-07-02T12:32:58.172Z"
   },
   {
    "duration": 21,
    "start_time": "2022-07-02T12:33:06.980Z"
   },
   {
    "duration": 32,
    "start_time": "2022-07-02T12:33:21.191Z"
   },
   {
    "duration": 7,
    "start_time": "2022-07-02T12:37:18.761Z"
   },
   {
    "duration": 9,
    "start_time": "2022-07-02T12:37:25.999Z"
   },
   {
    "duration": 66,
    "start_time": "2022-07-02T12:38:34.847Z"
   },
   {
    "duration": 11,
    "start_time": "2022-07-02T12:38:52.142Z"
   },
   {
    "duration": 405,
    "start_time": "2022-07-02T12:39:52.417Z"
   },
   {
    "duration": 58,
    "start_time": "2022-07-02T12:39:52.825Z"
   },
   {
    "duration": 0,
    "start_time": "2022-07-02T12:39:52.885Z"
   },
   {
    "duration": 0,
    "start_time": "2022-07-02T12:39:52.886Z"
   },
   {
    "duration": 0,
    "start_time": "2022-07-02T12:39:52.887Z"
   },
   {
    "duration": 0,
    "start_time": "2022-07-02T12:39:52.888Z"
   },
   {
    "duration": 0,
    "start_time": "2022-07-02T12:39:52.889Z"
   },
   {
    "duration": 77,
    "start_time": "2022-07-02T12:40:02.897Z"
   },
   {
    "duration": 30,
    "start_time": "2022-07-02T12:40:06.741Z"
   },
   {
    "duration": 23,
    "start_time": "2022-07-02T12:40:09.696Z"
   },
   {
    "duration": 6,
    "start_time": "2022-07-02T12:40:11.097Z"
   },
   {
    "duration": 7,
    "start_time": "2022-07-02T12:40:13.137Z"
   },
   {
    "duration": 8,
    "start_time": "2022-07-02T12:40:15.198Z"
   },
   {
    "duration": 825,
    "start_time": "2022-07-02T12:46:23.299Z"
   },
   {
    "duration": 11,
    "start_time": "2022-07-02T12:47:10.233Z"
   },
   {
    "duration": 251,
    "start_time": "2022-07-02T12:47:24.682Z"
   },
   {
    "duration": 29,
    "start_time": "2022-07-02T12:48:22.583Z"
   },
   {
    "duration": 21,
    "start_time": "2022-07-02T13:09:35.797Z"
   },
   {
    "duration": 595,
    "start_time": "2022-07-02T13:11:46.452Z"
   },
   {
    "duration": 47,
    "start_time": "2022-07-02T13:12:48.287Z"
   },
   {
    "duration": 43,
    "start_time": "2022-07-02T13:13:27.807Z"
   },
   {
    "duration": 405,
    "start_time": "2022-07-02T13:13:57.634Z"
   },
   {
    "duration": 83,
    "start_time": "2022-07-02T13:13:58.044Z"
   },
   {
    "duration": 27,
    "start_time": "2022-07-02T13:13:58.130Z"
   },
   {
    "duration": 26,
    "start_time": "2022-07-02T13:13:58.159Z"
   },
   {
    "duration": 6,
    "start_time": "2022-07-02T13:13:58.186Z"
   },
   {
    "duration": 16,
    "start_time": "2022-07-02T13:13:58.194Z"
   },
   {
    "duration": 8,
    "start_time": "2022-07-02T13:13:58.228Z"
   },
   {
    "duration": 107,
    "start_time": "2022-07-02T13:13:58.238Z"
   },
   {
    "duration": 0,
    "start_time": "2022-07-02T13:13:58.349Z"
   },
   {
    "duration": 0,
    "start_time": "2022-07-02T13:13:58.350Z"
   },
   {
    "duration": 25,
    "start_time": "2022-07-02T13:14:23.757Z"
   },
   {
    "duration": 31,
    "start_time": "2022-07-02T13:14:29.461Z"
   },
   {
    "duration": 11,
    "start_time": "2022-07-02T13:14:39.263Z"
   },
   {
    "duration": 29,
    "start_time": "2022-07-02T13:14:48.261Z"
   },
   {
    "duration": 11,
    "start_time": "2022-07-02T13:16:09.206Z"
   },
   {
    "duration": 6,
    "start_time": "2022-07-02T13:16:51.014Z"
   },
   {
    "duration": 20,
    "start_time": "2022-07-02T13:16:59.703Z"
   },
   {
    "duration": 517,
    "start_time": "2022-07-02T13:17:31.213Z"
   },
   {
    "duration": 116,
    "start_time": "2022-07-02T13:17:31.733Z"
   },
   {
    "duration": 24,
    "start_time": "2022-07-02T13:17:31.852Z"
   },
   {
    "duration": 36,
    "start_time": "2022-07-02T13:17:31.879Z"
   },
   {
    "duration": 37,
    "start_time": "2022-07-02T13:17:31.916Z"
   },
   {
    "duration": 35,
    "start_time": "2022-07-02T13:17:31.954Z"
   },
   {
    "duration": 58,
    "start_time": "2022-07-02T13:17:31.991Z"
   },
   {
    "duration": 49,
    "start_time": "2022-07-02T13:17:32.050Z"
   },
   {
    "duration": 45,
    "start_time": "2022-07-02T13:17:32.100Z"
   },
   {
    "duration": 36,
    "start_time": "2022-07-02T13:17:32.148Z"
   },
   {
    "duration": 40,
    "start_time": "2022-07-02T13:17:32.186Z"
   },
   {
    "duration": 967,
    "start_time": "2022-07-02T13:21:40.250Z"
   },
   {
    "duration": 3,
    "start_time": "2022-07-02T13:21:52.309Z"
   },
   {
    "duration": 109,
    "start_time": "2022-07-02T13:24:36.357Z"
   },
   {
    "duration": 8,
    "start_time": "2022-07-02T13:24:44.391Z"
   },
   {
    "duration": 200,
    "start_time": "2022-07-02T13:24:58.538Z"
   },
   {
    "duration": 7060,
    "start_time": "2022-07-02T13:25:14.142Z"
   },
   {
    "duration": 1021,
    "start_time": "2022-07-02T13:25:24.494Z"
   },
   {
    "duration": 163,
    "start_time": "2022-07-02T13:25:31.136Z"
   },
   {
    "duration": 1392,
    "start_time": "2022-07-02T16:36:39.887Z"
   },
   {
    "duration": 112,
    "start_time": "2022-07-02T16:36:41.282Z"
   },
   {
    "duration": 23,
    "start_time": "2022-07-02T16:36:41.395Z"
   },
   {
    "duration": 31,
    "start_time": "2022-07-02T16:36:41.419Z"
   },
   {
    "duration": 29,
    "start_time": "2022-07-02T16:36:41.452Z"
   },
   {
    "duration": 20,
    "start_time": "2022-07-02T16:36:41.485Z"
   },
   {
    "duration": 27,
    "start_time": "2022-07-02T16:36:41.507Z"
   },
   {
    "duration": 26,
    "start_time": "2022-07-02T16:36:41.536Z"
   },
   {
    "duration": 34,
    "start_time": "2022-07-02T16:36:41.564Z"
   },
   {
    "duration": 36,
    "start_time": "2022-07-02T16:36:41.600Z"
   },
   {
    "duration": 44,
    "start_time": "2022-07-02T16:36:41.637Z"
   },
   {
    "duration": 193,
    "start_time": "2022-07-02T16:36:41.683Z"
   },
   {
    "duration": 7,
    "start_time": "2022-07-02T16:38:55.106Z"
   },
   {
    "duration": 5,
    "start_time": "2022-07-02T16:39:04.982Z"
   },
   {
    "duration": 5,
    "start_time": "2022-07-02T16:39:10.246Z"
   },
   {
    "duration": 5,
    "start_time": "2022-07-02T16:39:27.041Z"
   },
   {
    "duration": 1150,
    "start_time": "2022-07-02T16:39:49.312Z"
   },
   {
    "duration": 88,
    "start_time": "2022-07-02T16:39:50.947Z"
   },
   {
    "duration": 24,
    "start_time": "2022-07-02T16:39:55.357Z"
   },
   {
    "duration": 18,
    "start_time": "2022-07-02T16:39:58.445Z"
   },
   {
    "duration": 8,
    "start_time": "2022-07-02T16:40:00.742Z"
   },
   {
    "duration": 169,
    "start_time": "2022-07-02T16:42:59.843Z"
   },
   {
    "duration": 9,
    "start_time": "2022-07-02T16:43:16.151Z"
   },
   {
    "duration": 11,
    "start_time": "2022-07-02T16:43:42.440Z"
   },
   {
    "duration": 67,
    "start_time": "2022-07-02T16:44:14.983Z"
   },
   {
    "duration": 823,
    "start_time": "2022-07-02T16:45:18.726Z"
   },
   {
    "duration": 0,
    "start_time": "2022-07-02T16:46:52.796Z"
   },
   {
    "duration": 0,
    "start_time": "2022-07-02T16:46:52.797Z"
   },
   {
    "duration": 0,
    "start_time": "2022-07-02T16:46:52.798Z"
   },
   {
    "duration": 0,
    "start_time": "2022-07-02T16:46:52.800Z"
   },
   {
    "duration": 0,
    "start_time": "2022-07-02T16:46:52.801Z"
   },
   {
    "duration": 0,
    "start_time": "2022-07-02T16:46:52.802Z"
   },
   {
    "duration": 0,
    "start_time": "2022-07-02T16:46:52.803Z"
   },
   {
    "duration": 0,
    "start_time": "2022-07-02T16:46:52.804Z"
   },
   {
    "duration": 0,
    "start_time": "2022-07-02T16:46:52.805Z"
   },
   {
    "duration": 0,
    "start_time": "2022-07-02T16:46:52.806Z"
   },
   {
    "duration": 0,
    "start_time": "2022-07-02T16:46:52.807Z"
   },
   {
    "duration": 0,
    "start_time": "2022-07-02T16:46:52.808Z"
   },
   {
    "duration": 1183,
    "start_time": "2022-07-02T16:53:04.839Z"
   },
   {
    "duration": 82,
    "start_time": "2022-07-02T16:53:06.025Z"
   },
   {
    "duration": 3,
    "start_time": "2022-07-02T16:53:06.160Z"
   },
   {
    "duration": 79,
    "start_time": "2022-07-02T16:53:06.165Z"
   },
   {
    "duration": 25,
    "start_time": "2022-07-02T16:53:06.245Z"
   },
   {
    "duration": 28,
    "start_time": "2022-07-02T16:53:06.274Z"
   },
   {
    "duration": 5,
    "start_time": "2022-07-02T16:53:06.304Z"
   },
   {
    "duration": 117,
    "start_time": "2022-07-02T16:53:06.311Z"
   },
   {
    "duration": 0,
    "start_time": "2022-07-02T16:53:06.430Z"
   },
   {
    "duration": 0,
    "start_time": "2022-07-02T16:53:06.431Z"
   },
   {
    "duration": 0,
    "start_time": "2022-07-02T16:53:06.433Z"
   },
   {
    "duration": 0,
    "start_time": "2022-07-02T16:53:06.434Z"
   },
   {
    "duration": 0,
    "start_time": "2022-07-02T16:53:06.436Z"
   },
   {
    "duration": 0,
    "start_time": "2022-07-02T16:53:06.437Z"
   },
   {
    "duration": 17,
    "start_time": "2022-07-02T16:54:07.163Z"
   },
   {
    "duration": 3,
    "start_time": "2022-07-02T16:59:57.439Z"
   },
   {
    "duration": 71,
    "start_time": "2022-07-02T16:59:57.444Z"
   },
   {
    "duration": 21,
    "start_time": "2022-07-02T16:59:57.517Z"
   },
   {
    "duration": 34,
    "start_time": "2022-07-02T16:59:57.541Z"
   },
   {
    "duration": 10,
    "start_time": "2022-07-02T16:59:57.578Z"
   },
   {
    "duration": 20,
    "start_time": "2022-07-02T16:59:57.590Z"
   },
   {
    "duration": 14,
    "start_time": "2022-07-02T16:59:57.618Z"
   },
   {
    "duration": 5,
    "start_time": "2022-07-02T16:59:57.633Z"
   },
   {
    "duration": 42,
    "start_time": "2022-07-02T16:59:57.639Z"
   },
   {
    "duration": 157,
    "start_time": "2022-07-02T16:59:57.685Z"
   },
   {
    "duration": 231,
    "start_time": "2022-07-02T17:00:29.005Z"
   },
   {
    "duration": 1141,
    "start_time": "2022-07-02T17:04:00.797Z"
   },
   {
    "duration": 77,
    "start_time": "2022-07-02T17:04:01.940Z"
   },
   {
    "duration": 20,
    "start_time": "2022-07-02T17:04:02.019Z"
   },
   {
    "duration": 37,
    "start_time": "2022-07-02T17:04:02.040Z"
   },
   {
    "duration": 6,
    "start_time": "2022-07-02T17:04:02.089Z"
   },
   {
    "duration": 22,
    "start_time": "2022-07-02T17:04:02.097Z"
   },
   {
    "duration": 12,
    "start_time": "2022-07-02T17:04:02.121Z"
   },
   {
    "duration": 14,
    "start_time": "2022-07-02T17:04:02.135Z"
   },
   {
    "duration": 25,
    "start_time": "2022-07-02T17:04:02.151Z"
   },
   {
    "duration": 42,
    "start_time": "2022-07-02T17:04:02.178Z"
   },
   {
    "duration": 224,
    "start_time": "2022-07-02T17:04:02.222Z"
   },
   {
    "duration": 64,
    "start_time": "2022-07-02T17:04:02.448Z"
   },
   {
    "duration": 3,
    "start_time": "2022-07-02T17:14:03.184Z"
   },
   {
    "duration": 188,
    "start_time": "2022-07-02T17:14:16.163Z"
   },
   {
    "duration": 217,
    "start_time": "2022-07-02T17:15:12.663Z"
   },
   {
    "duration": 181,
    "start_time": "2022-07-02T17:15:22.249Z"
   },
   {
    "duration": 103,
    "start_time": "2022-07-02T17:22:46.043Z"
   },
   {
    "duration": 16,
    "start_time": "2022-07-02T17:23:05.433Z"
   },
   {
    "duration": 18,
    "start_time": "2022-07-02T17:23:21.508Z"
   },
   {
    "duration": 14,
    "start_time": "2022-07-02T17:23:41.383Z"
   },
   {
    "duration": 16,
    "start_time": "2022-07-02T17:25:04.583Z"
   },
   {
    "duration": 20,
    "start_time": "2022-07-02T17:25:21.352Z"
   },
   {
    "duration": 28,
    "start_time": "2022-07-02T17:25:44.751Z"
   },
   {
    "duration": 38,
    "start_time": "2022-07-02T17:25:57.243Z"
   },
   {
    "duration": 10,
    "start_time": "2022-07-02T17:26:47.921Z"
   },
   {
    "duration": 18,
    "start_time": "2022-07-02T17:27:40.624Z"
   },
   {
    "duration": 18,
    "start_time": "2022-07-02T17:27:46.290Z"
   },
   {
    "duration": 16,
    "start_time": "2022-07-02T17:27:57.260Z"
   },
   {
    "duration": 16,
    "start_time": "2022-07-02T17:28:26.083Z"
   },
   {
    "duration": 13,
    "start_time": "2022-07-02T17:28:47.325Z"
   },
   {
    "duration": 15,
    "start_time": "2022-07-02T17:28:56.783Z"
   },
   {
    "duration": 11,
    "start_time": "2022-07-02T17:29:20.867Z"
   },
   {
    "duration": 15,
    "start_time": "2022-07-02T17:29:24.955Z"
   },
   {
    "duration": 48,
    "start_time": "2022-07-02T17:30:37.297Z"
   },
   {
    "duration": 17,
    "start_time": "2022-07-02T17:30:48.596Z"
   },
   {
    "duration": 34,
    "start_time": "2022-07-02T17:31:48.902Z"
   },
   {
    "duration": 20,
    "start_time": "2022-07-02T17:33:23.737Z"
   },
   {
    "duration": 16,
    "start_time": "2022-07-02T17:33:59.745Z"
   },
   {
    "duration": 78,
    "start_time": "2022-07-02T17:39:23.982Z"
   },
   {
    "duration": 24,
    "start_time": "2022-07-02T17:39:29.955Z"
   },
   {
    "duration": 18,
    "start_time": "2022-07-02T17:40:45.241Z"
   },
   {
    "duration": 154,
    "start_time": "2022-07-02T17:41:06.851Z"
   },
   {
    "duration": 16,
    "start_time": "2022-07-02T17:41:59.128Z"
   },
   {
    "duration": 14,
    "start_time": "2022-07-02T17:42:14.646Z"
   },
   {
    "duration": 15,
    "start_time": "2022-07-02T17:43:26.979Z"
   },
   {
    "duration": 18,
    "start_time": "2022-07-02T17:43:36.666Z"
   },
   {
    "duration": 13,
    "start_time": "2022-07-02T17:46:20.711Z"
   },
   {
    "duration": 26,
    "start_time": "2022-07-02T17:47:35.652Z"
   },
   {
    "duration": 1304,
    "start_time": "2022-07-03T07:41:57.078Z"
   },
   {
    "duration": 124,
    "start_time": "2022-07-03T07:41:58.383Z"
   },
   {
    "duration": 25,
    "start_time": "2022-07-03T07:41:58.508Z"
   },
   {
    "duration": 31,
    "start_time": "2022-07-03T07:41:58.537Z"
   },
   {
    "duration": 6,
    "start_time": "2022-07-03T07:41:58.571Z"
   },
   {
    "duration": 27,
    "start_time": "2022-07-03T07:41:58.578Z"
   },
   {
    "duration": 11,
    "start_time": "2022-07-03T07:41:58.607Z"
   },
   {
    "duration": 42,
    "start_time": "2022-07-03T07:41:58.620Z"
   },
   {
    "duration": 11,
    "start_time": "2022-07-03T07:41:58.664Z"
   },
   {
    "duration": 35,
    "start_time": "2022-07-03T07:41:58.677Z"
   },
   {
    "duration": 206,
    "start_time": "2022-07-03T07:41:58.714Z"
   },
   {
    "duration": 29,
    "start_time": "2022-07-03T07:41:58.927Z"
   },
   {
    "duration": 123,
    "start_time": "2022-07-03T07:41:58.957Z"
   },
   {
    "duration": 5,
    "start_time": "2022-07-03T07:57:05.202Z"
   },
   {
    "duration": 1125,
    "start_time": "2022-07-03T08:00:49.846Z"
   },
   {
    "duration": 92,
    "start_time": "2022-07-03T08:02:39.294Z"
   },
   {
    "duration": 27,
    "start_time": "2022-07-03T08:02:48.727Z"
   },
   {
    "duration": 27,
    "start_time": "2022-07-03T08:03:35.849Z"
   },
   {
    "duration": 21,
    "start_time": "2022-07-03T08:03:48.982Z"
   },
   {
    "duration": 15,
    "start_time": "2022-07-03T08:04:54.002Z"
   },
   {
    "duration": 19,
    "start_time": "2022-07-03T08:05:16.890Z"
   },
   {
    "duration": 11,
    "start_time": "2022-07-03T08:34:09.083Z"
   },
   {
    "duration": 15,
    "start_time": "2022-07-03T08:34:50.199Z"
   },
   {
    "duration": 18,
    "start_time": "2022-07-03T08:38:05.936Z"
   },
   {
    "duration": 14,
    "start_time": "2022-07-03T08:38:15.548Z"
   },
   {
    "duration": 18,
    "start_time": "2022-07-03T08:39:53.387Z"
   },
   {
    "duration": 9,
    "start_time": "2022-07-03T08:46:30.702Z"
   },
   {
    "duration": 22,
    "start_time": "2022-07-03T08:47:10.025Z"
   },
   {
    "duration": 26,
    "start_time": "2022-07-03T08:47:13.739Z"
   },
   {
    "duration": 26,
    "start_time": "2022-07-03T08:47:27.487Z"
   },
   {
    "duration": 18,
    "start_time": "2022-07-03T08:47:48.510Z"
   },
   {
    "duration": 25,
    "start_time": "2022-07-03T08:47:55.987Z"
   },
   {
    "duration": 25,
    "start_time": "2022-07-03T08:49:19.947Z"
   },
   {
    "duration": 133,
    "start_time": "2022-07-03T08:53:12.548Z"
   },
   {
    "duration": 177,
    "start_time": "2022-07-03T08:53:46.936Z"
   },
   {
    "duration": 198,
    "start_time": "2022-07-03T08:53:55.992Z"
   },
   {
    "duration": 215,
    "start_time": "2022-07-03T08:54:32.133Z"
   },
   {
    "duration": 132,
    "start_time": "2022-07-03T08:54:52.153Z"
   },
   {
    "duration": 198,
    "start_time": "2022-07-03T08:54:59.225Z"
   },
   {
    "duration": 515,
    "start_time": "2022-07-03T08:56:12.717Z"
   },
   {
    "duration": 397,
    "start_time": "2022-07-03T08:56:43.746Z"
   },
   {
    "duration": 5,
    "start_time": "2022-07-03T09:01:47.648Z"
   },
   {
    "duration": 15,
    "start_time": "2022-07-03T09:02:08.582Z"
   },
   {
    "duration": 5,
    "start_time": "2022-07-03T09:02:19.320Z"
   },
   {
    "duration": 25,
    "start_time": "2022-07-03T09:02:33.912Z"
   },
   {
    "duration": 1220,
    "start_time": "2022-07-03T09:03:08.853Z"
   },
   {
    "duration": 89,
    "start_time": "2022-07-03T09:03:10.075Z"
   },
   {
    "duration": 27,
    "start_time": "2022-07-03T09:03:10.165Z"
   },
   {
    "duration": 30,
    "start_time": "2022-07-03T09:03:10.193Z"
   },
   {
    "duration": 6,
    "start_time": "2022-07-03T09:03:10.225Z"
   },
   {
    "duration": 61,
    "start_time": "2022-07-03T09:03:10.232Z"
   },
   {
    "duration": 15,
    "start_time": "2022-07-03T09:03:10.295Z"
   },
   {
    "duration": 57,
    "start_time": "2022-07-03T09:03:10.312Z"
   },
   {
    "duration": 17,
    "start_time": "2022-07-03T09:03:10.370Z"
   },
   {
    "duration": 9,
    "start_time": "2022-07-03T09:03:10.389Z"
   },
   {
    "duration": 51,
    "start_time": "2022-07-03T09:03:10.399Z"
   },
   {
    "duration": 241,
    "start_time": "2022-07-03T09:03:10.457Z"
   },
   {
    "duration": 16,
    "start_time": "2022-07-03T09:03:10.700Z"
   },
   {
    "duration": 43,
    "start_time": "2022-07-03T09:03:10.718Z"
   },
   {
    "duration": 460,
    "start_time": "2022-07-03T09:03:10.763Z"
   },
   {
    "duration": 41,
    "start_time": "2022-07-03T09:03:24.817Z"
   },
   {
    "duration": 21,
    "start_time": "2022-07-03T09:03:40.386Z"
   },
   {
    "duration": 23,
    "start_time": "2022-07-03T09:03:51.063Z"
   },
   {
    "duration": 1367,
    "start_time": "2022-07-03T09:05:54.518Z"
   },
   {
    "duration": 84,
    "start_time": "2022-07-03T09:05:55.888Z"
   },
   {
    "duration": 35,
    "start_time": "2022-07-03T09:05:55.974Z"
   },
   {
    "duration": 29,
    "start_time": "2022-07-03T09:05:56.032Z"
   },
   {
    "duration": 7,
    "start_time": "2022-07-03T09:05:56.064Z"
   },
   {
    "duration": 31,
    "start_time": "2022-07-03T09:05:56.074Z"
   },
   {
    "duration": 33,
    "start_time": "2022-07-03T09:05:56.107Z"
   },
   {
    "duration": 16,
    "start_time": "2022-07-03T09:05:56.142Z"
   },
   {
    "duration": 10,
    "start_time": "2022-07-03T09:05:56.161Z"
   },
   {
    "duration": 69,
    "start_time": "2022-07-03T09:05:56.173Z"
   },
   {
    "duration": 30,
    "start_time": "2022-07-03T09:05:56.244Z"
   },
   {
    "duration": 382,
    "start_time": "2022-07-03T09:05:56.276Z"
   },
   {
    "duration": 27,
    "start_time": "2022-07-03T09:05:56.662Z"
   },
   {
    "duration": 192,
    "start_time": "2022-07-03T09:05:56.692Z"
   },
   {
    "duration": 122,
    "start_time": "2022-07-03T09:05:56.887Z"
   },
   {
    "duration": 28,
    "start_time": "2022-07-03T09:06:27.927Z"
   },
   {
    "duration": 1137,
    "start_time": "2022-07-03T09:06:53.720Z"
   },
   {
    "duration": 73,
    "start_time": "2022-07-03T09:06:54.859Z"
   },
   {
    "duration": 24,
    "start_time": "2022-07-03T09:06:54.936Z"
   },
   {
    "duration": 30,
    "start_time": "2022-07-03T09:06:54.962Z"
   },
   {
    "duration": 17,
    "start_time": "2022-07-03T09:06:54.994Z"
   },
   {
    "duration": 37,
    "start_time": "2022-07-03T09:06:55.013Z"
   },
   {
    "duration": 9,
    "start_time": "2022-07-03T09:06:55.052Z"
   },
   {
    "duration": 13,
    "start_time": "2022-07-03T09:06:55.063Z"
   },
   {
    "duration": 14,
    "start_time": "2022-07-03T09:06:55.079Z"
   },
   {
    "duration": 56,
    "start_time": "2022-07-03T09:06:55.096Z"
   },
   {
    "duration": 32,
    "start_time": "2022-07-03T09:06:55.154Z"
   },
   {
    "duration": 305,
    "start_time": "2022-07-03T09:06:55.188Z"
   },
   {
    "duration": 20,
    "start_time": "2022-07-03T09:06:55.496Z"
   },
   {
    "duration": 29,
    "start_time": "2022-07-03T09:06:55.527Z"
   },
   {
    "duration": 578,
    "start_time": "2022-07-03T09:06:55.559Z"
   },
   {
    "duration": 1925,
    "start_time": "2022-07-03T10:50:56.267Z"
   },
   {
    "duration": 320,
    "start_time": "2022-07-03T10:50:58.198Z"
   },
   {
    "duration": 46,
    "start_time": "2022-07-03T10:50:58.520Z"
   },
   {
    "duration": 94,
    "start_time": "2022-07-03T10:50:58.569Z"
   },
   {
    "duration": 51,
    "start_time": "2022-07-03T10:50:58.680Z"
   },
   {
    "duration": 46,
    "start_time": "2022-07-03T10:50:58.733Z"
   },
   {
    "duration": 18,
    "start_time": "2022-07-03T10:50:58.783Z"
   },
   {
    "duration": 32,
    "start_time": "2022-07-03T10:50:58.808Z"
   },
   {
    "duration": 79,
    "start_time": "2022-07-03T10:50:58.846Z"
   },
   {
    "duration": 48,
    "start_time": "2022-07-03T10:50:58.941Z"
   },
   {
    "duration": 70,
    "start_time": "2022-07-03T10:50:58.998Z"
   },
   {
    "duration": 322,
    "start_time": "2022-07-03T10:50:59.073Z"
   },
   {
    "duration": 24,
    "start_time": "2022-07-03T10:50:59.400Z"
   },
   {
    "duration": 150,
    "start_time": "2022-07-03T10:50:59.429Z"
   },
   {
    "duration": 714,
    "start_time": "2022-07-03T10:50:59.584Z"
   },
   {
    "duration": 212,
    "start_time": "2022-07-03T11:04:10.660Z"
   },
   {
    "duration": 1833,
    "start_time": "2022-07-03T11:04:20.161Z"
   },
   {
    "duration": 2066,
    "start_time": "2022-07-03T11:05:50.498Z"
   },
   {
    "duration": 520,
    "start_time": "2022-07-03T11:08:35.995Z"
   },
   {
    "duration": 570,
    "start_time": "2022-07-03T11:09:20.245Z"
   },
   {
    "duration": 9,
    "start_time": "2022-07-03T11:10:39.006Z"
   },
   {
    "duration": 50,
    "start_time": "2022-07-03T11:10:58.117Z"
   },
   {
    "duration": 3002,
    "start_time": "2022-07-03T11:14:04.063Z"
   },
   {
    "duration": 6346,
    "start_time": "2022-07-03T11:15:12.555Z"
   },
   {
    "duration": 2958,
    "start_time": "2022-07-03T11:15:35.620Z"
   },
   {
    "duration": 3088,
    "start_time": "2022-07-03T11:16:20.747Z"
   },
   {
    "duration": 2870,
    "start_time": "2022-07-03T11:18:14.169Z"
   },
   {
    "duration": 3059,
    "start_time": "2022-07-03T11:18:27.392Z"
   },
   {
    "duration": 3839,
    "start_time": "2022-07-03T11:18:42.749Z"
   },
   {
    "duration": 51,
    "start_time": "2022-07-03T11:19:40.769Z"
   },
   {
    "duration": 540,
    "start_time": "2022-07-03T11:19:59.166Z"
   },
   {
    "duration": 482,
    "start_time": "2022-07-03T11:20:09.697Z"
   },
   {
    "duration": 483,
    "start_time": "2022-07-03T11:20:14.816Z"
   },
   {
    "duration": 442,
    "start_time": "2022-07-03T11:20:22.809Z"
   },
   {
    "duration": 643,
    "start_time": "2022-07-03T11:20:27.723Z"
   },
   {
    "duration": 2950,
    "start_time": "2022-07-03T11:20:37.617Z"
   },
   {
    "duration": 522,
    "start_time": "2022-07-03T11:20:50.581Z"
   },
   {
    "duration": 461,
    "start_time": "2022-07-03T11:24:29.160Z"
   },
   {
    "duration": 7,
    "start_time": "2022-07-03T11:29:33.957Z"
   },
   {
    "duration": 27,
    "start_time": "2022-07-03T11:30:29.157Z"
   },
   {
    "duration": 55,
    "start_time": "2022-07-03T11:32:45.330Z"
   },
   {
    "duration": 93,
    "start_time": "2022-07-03T11:32:56.810Z"
   },
   {
    "duration": 110,
    "start_time": "2022-07-03T11:33:22.442Z"
   },
   {
    "duration": 361,
    "start_time": "2022-07-03T11:40:42.942Z"
   },
   {
    "duration": 20,
    "start_time": "2022-07-03T12:01:02.045Z"
   },
   {
    "duration": 17,
    "start_time": "2022-07-03T12:02:20.492Z"
   },
   {
    "duration": 3109,
    "start_time": "2022-07-03T12:02:50.538Z"
   },
   {
    "duration": 1049,
    "start_time": "2022-07-03T12:03:03.975Z"
   },
   {
    "duration": 28594,
    "start_time": "2022-07-03T12:04:06.275Z"
   },
   {
    "duration": 226,
    "start_time": "2022-07-03T12:05:12.526Z"
   },
   {
    "duration": 77183,
    "start_time": "2022-07-03T12:05:18.301Z"
   },
   {
    "duration": 34,
    "start_time": "2022-07-03T12:16:46.797Z"
   },
   {
    "duration": 25,
    "start_time": "2022-07-03T12:17:07.838Z"
   },
   {
    "duration": 1687,
    "start_time": "2022-07-03T12:17:20.741Z"
   },
   {
    "duration": 170802,
    "start_time": "2022-07-03T12:18:03.501Z"
   },
   {
    "duration": 4517,
    "start_time": "2022-07-03T12:21:51.187Z"
   },
   {
    "duration": 1844,
    "start_time": "2022-07-03T12:22:11.775Z"
   },
   {
    "duration": 1770,
    "start_time": "2022-07-03T12:22:19.719Z"
   },
   {
    "duration": 6803,
    "start_time": "2022-07-03T12:23:20.999Z"
   },
   {
    "duration": 8103,
    "start_time": "2022-07-03T12:23:58.630Z"
   },
   {
    "duration": 6,
    "start_time": "2022-07-03T12:35:16.744Z"
   },
   {
    "duration": 1103,
    "start_time": "2022-07-03T12:35:19.528Z"
   },
   {
    "duration": 881,
    "start_time": "2022-07-03T12:40:24.019Z"
   },
   {
    "duration": 1049,
    "start_time": "2022-07-03T12:40:42.441Z"
   },
   {
    "duration": 908,
    "start_time": "2022-07-03T12:40:53.996Z"
   },
   {
    "duration": 695,
    "start_time": "2022-07-03T12:43:53.746Z"
   },
   {
    "duration": 527,
    "start_time": "2022-07-03T12:48:07.408Z"
   },
   {
    "duration": 529,
    "start_time": "2022-07-03T12:48:45.211Z"
   },
   {
    "duration": 432,
    "start_time": "2022-07-03T12:49:53.249Z"
   },
   {
    "duration": 12,
    "start_time": "2022-07-03T12:52:00.088Z"
   },
   {
    "duration": 11,
    "start_time": "2022-07-03T12:52:06.686Z"
   },
   {
    "duration": 78,
    "start_time": "2022-07-03T13:55:03.930Z"
   },
   {
    "duration": 1575,
    "start_time": "2022-07-03T13:55:23.150Z"
   },
   {
    "duration": 143,
    "start_time": "2022-07-03T13:55:24.727Z"
   },
   {
    "duration": 32,
    "start_time": "2022-07-03T13:55:24.872Z"
   },
   {
    "duration": 23,
    "start_time": "2022-07-03T13:55:24.905Z"
   },
   {
    "duration": 11,
    "start_time": "2022-07-03T13:55:24.930Z"
   },
   {
    "duration": 27,
    "start_time": "2022-07-03T13:55:24.943Z"
   },
   {
    "duration": 15,
    "start_time": "2022-07-03T13:55:24.972Z"
   },
   {
    "duration": 37,
    "start_time": "2022-07-03T13:55:24.989Z"
   },
   {
    "duration": 13,
    "start_time": "2022-07-03T13:55:25.028Z"
   },
   {
    "duration": 23,
    "start_time": "2022-07-03T13:55:25.044Z"
   },
   {
    "duration": 61,
    "start_time": "2022-07-03T13:55:25.070Z"
   },
   {
    "duration": 235,
    "start_time": "2022-07-03T13:55:25.133Z"
   },
   {
    "duration": 20,
    "start_time": "2022-07-03T13:55:25.370Z"
   },
   {
    "duration": 50,
    "start_time": "2022-07-03T13:55:25.392Z"
   },
   {
    "duration": 114,
    "start_time": "2022-07-03T13:55:25.444Z"
   },
   {
    "duration": 0,
    "start_time": "2022-07-03T13:55:25.560Z"
   },
   {
    "duration": 418,
    "start_time": "2022-07-03T13:55:44.308Z"
   },
   {
    "duration": 2207,
    "start_time": "2022-07-03T13:55:49.483Z"
   },
   {
    "duration": 323,
    "start_time": "2022-07-03T13:57:14.939Z"
   },
   {
    "duration": 374,
    "start_time": "2022-07-03T13:57:28.103Z"
   },
   {
    "duration": 429,
    "start_time": "2022-07-03T14:01:50.895Z"
   },
   {
    "duration": 3,
    "start_time": "2022-07-03T14:04:26.753Z"
   },
   {
    "duration": 236,
    "start_time": "2022-07-03T14:11:59.948Z"
   },
   {
    "duration": 247,
    "start_time": "2022-07-03T14:12:07.315Z"
   },
   {
    "duration": 186,
    "start_time": "2022-07-03T14:12:48.354Z"
   },
   {
    "duration": 23,
    "start_time": "2022-07-03T14:23:36.243Z"
   },
   {
    "duration": 170605,
    "start_time": "2022-07-03T14:24:08.102Z"
   },
   {
    "duration": 15,
    "start_time": "2022-07-03T14:27:52.809Z"
   },
   {
    "duration": 15,
    "start_time": "2022-07-03T14:28:05.216Z"
   },
   {
    "duration": 208225,
    "start_time": "2022-07-03T14:29:21.464Z"
   },
   {
    "duration": 1569,
    "start_time": "2022-07-04T11:14:44.669Z"
   },
   {
    "duration": 163,
    "start_time": "2022-07-04T11:14:46.241Z"
   },
   {
    "duration": 24,
    "start_time": "2022-07-04T11:14:46.405Z"
   },
   {
    "duration": 22,
    "start_time": "2022-07-04T11:14:46.431Z"
   },
   {
    "duration": 19,
    "start_time": "2022-07-04T11:14:46.454Z"
   },
   {
    "duration": 60,
    "start_time": "2022-07-04T11:14:46.475Z"
   },
   {
    "duration": 9,
    "start_time": "2022-07-04T11:14:46.537Z"
   },
   {
    "duration": 12,
    "start_time": "2022-07-04T11:14:46.547Z"
   },
   {
    "duration": 18,
    "start_time": "2022-07-04T11:14:46.561Z"
   },
   {
    "duration": 48,
    "start_time": "2022-07-04T11:14:46.584Z"
   },
   {
    "duration": 27,
    "start_time": "2022-07-04T11:14:46.634Z"
   },
   {
    "duration": 274,
    "start_time": "2022-07-04T11:14:46.663Z"
   },
   {
    "duration": 40,
    "start_time": "2022-07-04T11:14:46.939Z"
   },
   {
    "duration": 49,
    "start_time": "2022-07-04T11:14:46.983Z"
   },
   {
    "duration": 3,
    "start_time": "2022-07-04T11:16:50.249Z"
   },
   {
    "duration": 2528,
    "start_time": "2022-07-04T11:16:52.882Z"
   },
   {
    "duration": 239,
    "start_time": "2022-07-04T11:16:55.411Z"
   },
   {
    "duration": 85,
    "start_time": "2022-07-04T11:17:50.260Z"
   },
   {
    "duration": 19,
    "start_time": "2022-07-04T11:18:02.303Z"
   },
   {
    "duration": 28,
    "start_time": "2022-07-04T11:21:07.002Z"
   },
   {
    "duration": 33,
    "start_time": "2022-07-04T11:21:20.204Z"
   },
   {
    "duration": 12,
    "start_time": "2022-07-04T11:22:05.300Z"
   },
   {
    "duration": 18,
    "start_time": "2022-07-04T11:22:31.512Z"
   },
   {
    "duration": 20,
    "start_time": "2022-07-04T11:22:40.334Z"
   },
   {
    "duration": 27,
    "start_time": "2022-07-04T11:22:54.887Z"
   },
   {
    "duration": 23,
    "start_time": "2022-07-04T11:23:06.506Z"
   },
   {
    "duration": 32,
    "start_time": "2022-07-04T11:23:29.526Z"
   },
   {
    "duration": 47,
    "start_time": "2022-07-04T11:24:16.555Z"
   },
   {
    "duration": 27,
    "start_time": "2022-07-04T11:25:17.510Z"
   },
   {
    "duration": 43,
    "start_time": "2022-07-04T11:27:19.240Z"
   },
   {
    "duration": 12,
    "start_time": "2022-07-04T11:33:19.019Z"
   },
   {
    "duration": 2496,
    "start_time": "2022-07-04T11:33:56.908Z"
   },
   {
    "duration": 33,
    "start_time": "2022-07-04T11:42:36.241Z"
   },
   {
    "duration": 33,
    "start_time": "2022-07-04T11:47:41.807Z"
   },
   {
    "duration": 38,
    "start_time": "2022-07-04T11:47:53.216Z"
   },
   {
    "duration": 41,
    "start_time": "2022-07-04T11:47:56.347Z"
   },
   {
    "duration": 30,
    "start_time": "2022-07-04T11:48:02.419Z"
   },
   {
    "duration": 28,
    "start_time": "2022-07-04T11:48:16.736Z"
   },
   {
    "duration": 978,
    "start_time": "2022-07-04T11:48:45.017Z"
   },
   {
    "duration": 26,
    "start_time": "2022-07-04T11:51:33.965Z"
   },
   {
    "duration": 23,
    "start_time": "2022-07-04T11:56:58.342Z"
   },
   {
    "duration": 35,
    "start_time": "2022-07-04T11:57:06.087Z"
   },
   {
    "duration": 1381,
    "start_time": "2022-07-04T13:19:13.159Z"
   },
   {
    "duration": 118,
    "start_time": "2022-07-04T13:19:14.543Z"
   },
   {
    "duration": 23,
    "start_time": "2022-07-04T13:19:14.663Z"
   },
   {
    "duration": 40,
    "start_time": "2022-07-04T13:19:14.688Z"
   },
   {
    "duration": 9,
    "start_time": "2022-07-04T13:19:14.730Z"
   },
   {
    "duration": 26,
    "start_time": "2022-07-04T13:19:14.741Z"
   },
   {
    "duration": 10,
    "start_time": "2022-07-04T13:19:14.769Z"
   },
   {
    "duration": 14,
    "start_time": "2022-07-04T13:19:14.781Z"
   },
   {
    "duration": 38,
    "start_time": "2022-07-04T13:19:14.798Z"
   },
   {
    "duration": 26,
    "start_time": "2022-07-04T13:19:14.839Z"
   },
   {
    "duration": 26,
    "start_time": "2022-07-04T13:19:14.867Z"
   },
   {
    "duration": 246,
    "start_time": "2022-07-04T13:19:14.895Z"
   },
   {
    "duration": 18,
    "start_time": "2022-07-04T13:19:15.143Z"
   },
   {
    "duration": 24,
    "start_time": "2022-07-04T13:19:15.163Z"
   },
   {
    "duration": 2190,
    "start_time": "2022-07-04T13:19:15.188Z"
   },
   {
    "duration": 3,
    "start_time": "2022-07-04T13:19:17.380Z"
   },
   {
    "duration": 25,
    "start_time": "2022-07-04T13:19:17.385Z"
   },
   {
    "duration": 128,
    "start_time": "2022-07-04T13:20:23.652Z"
   },
   {
    "duration": 730,
    "start_time": "2022-07-04T13:20:31.306Z"
   },
   {
    "duration": 361,
    "start_time": "2022-07-04T13:27:00.740Z"
   },
   {
    "duration": 35,
    "start_time": "2022-07-04T13:27:28.144Z"
   },
   {
    "duration": 32,
    "start_time": "2022-07-04T13:27:47.500Z"
   },
   {
    "duration": 11,
    "start_time": "2022-07-04T13:28:32.693Z"
   },
   {
    "duration": 13,
    "start_time": "2022-07-04T13:28:35.219Z"
   },
   {
    "duration": 15,
    "start_time": "2022-07-04T13:30:38.813Z"
   },
   {
    "duration": 18,
    "start_time": "2022-07-04T13:31:06.520Z"
   },
   {
    "duration": 14,
    "start_time": "2022-07-04T13:31:18.801Z"
   },
   {
    "duration": 25,
    "start_time": "2022-07-04T13:32:52.250Z"
   },
   {
    "duration": 15,
    "start_time": "2022-07-04T13:32:58.970Z"
   },
   {
    "duration": 324,
    "start_time": "2022-07-04T13:34:12.188Z"
   },
   {
    "duration": 332,
    "start_time": "2022-07-04T13:36:25.600Z"
   },
   {
    "duration": 328,
    "start_time": "2022-07-04T13:36:34.804Z"
   },
   {
    "duration": 440,
    "start_time": "2022-07-04T13:36:42.021Z"
   },
   {
    "duration": 333,
    "start_time": "2022-07-04T13:41:51.413Z"
   },
   {
    "duration": 349,
    "start_time": "2022-07-04T13:41:57.044Z"
   },
   {
    "duration": 321,
    "start_time": "2022-07-04T13:43:59.895Z"
   },
   {
    "duration": 21,
    "start_time": "2022-07-04T13:44:41.816Z"
   },
   {
    "duration": 381,
    "start_time": "2022-07-04T14:05:29.955Z"
   },
   {
    "duration": 175,
    "start_time": "2022-07-04T14:20:09.543Z"
   },
   {
    "duration": 345,
    "start_time": "2022-07-04T14:20:23.402Z"
   },
   {
    "duration": 301,
    "start_time": "2022-07-04T14:20:40.608Z"
   },
   {
    "duration": 423,
    "start_time": "2022-07-04T14:21:20.496Z"
   },
   {
    "duration": 233,
    "start_time": "2022-07-04T14:21:38.035Z"
   },
   {
    "duration": 577,
    "start_time": "2022-07-04T14:21:51.604Z"
   },
   {
    "duration": 75,
    "start_time": "2022-07-04T14:23:21.438Z"
   },
   {
    "duration": 3,
    "start_time": "2022-07-04T14:23:53.264Z"
   },
   {
    "duration": 477,
    "start_time": "2022-07-04T14:25:19.061Z"
   },
   {
    "duration": 998,
    "start_time": "2022-07-04T14:25:41.487Z"
   },
   {
    "duration": 18,
    "start_time": "2022-07-04T14:46:57.616Z"
   },
   {
    "duration": 15,
    "start_time": "2022-07-04T14:47:33.489Z"
   },
   {
    "duration": 552,
    "start_time": "2022-07-04T14:47:59.108Z"
   },
   {
    "duration": 804,
    "start_time": "2022-07-04T15:09:23.709Z"
   },
   {
    "duration": 884,
    "start_time": "2022-07-04T15:09:46.950Z"
   },
   {
    "duration": 827,
    "start_time": "2022-07-04T15:10:14.966Z"
   },
   {
    "duration": 394,
    "start_time": "2022-07-04T15:10:52.918Z"
   },
   {
    "duration": 310,
    "start_time": "2022-07-04T15:11:07.455Z"
   },
   {
    "duration": 4293,
    "start_time": "2022-07-04T15:11:40.538Z"
   },
   {
    "duration": 474,
    "start_time": "2022-07-04T15:12:02.351Z"
   },
   {
    "duration": 292,
    "start_time": "2022-07-04T15:12:14.162Z"
   },
   {
    "duration": 295,
    "start_time": "2022-07-04T15:12:26.876Z"
   },
   {
    "duration": 270,
    "start_time": "2022-07-04T15:12:34.126Z"
   },
   {
    "duration": 786,
    "start_time": "2022-07-04T15:12:57.114Z"
   },
   {
    "duration": 919,
    "start_time": "2022-07-04T15:13:49.356Z"
   },
   {
    "duration": 757,
    "start_time": "2022-07-04T15:13:57.352Z"
   },
   {
    "duration": 284,
    "start_time": "2022-07-04T15:14:56.642Z"
   },
   {
    "duration": 526,
    "start_time": "2022-07-04T15:15:30.765Z"
   },
   {
    "duration": 249,
    "start_time": "2022-07-04T15:15:35.357Z"
   },
   {
    "duration": 297,
    "start_time": "2022-07-04T15:15:43.280Z"
   },
   {
    "duration": 318,
    "start_time": "2022-07-04T15:16:28.942Z"
   },
   {
    "duration": 411,
    "start_time": "2022-07-04T15:17:11.990Z"
   },
   {
    "duration": 438,
    "start_time": "2022-07-04T15:17:28.955Z"
   },
   {
    "duration": 283,
    "start_time": "2022-07-04T15:18:23.117Z"
   },
   {
    "duration": 300,
    "start_time": "2022-07-04T15:18:36.179Z"
   },
   {
    "duration": 375,
    "start_time": "2022-07-04T15:18:48.993Z"
   },
   {
    "duration": 347,
    "start_time": "2022-07-04T15:18:59.948Z"
   },
   {
    "duration": 513,
    "start_time": "2022-07-04T15:19:05.749Z"
   },
   {
    "duration": 355,
    "start_time": "2022-07-04T15:19:40.783Z"
   },
   {
    "duration": 344,
    "start_time": "2022-07-04T15:19:52.438Z"
   },
   {
    "duration": 18,
    "start_time": "2022-07-04T15:20:02.756Z"
   },
   {
    "duration": 364,
    "start_time": "2022-07-04T15:20:19.525Z"
   },
   {
    "duration": 1422,
    "start_time": "2022-07-04T15:20:42.951Z"
   },
   {
    "duration": 757,
    "start_time": "2022-07-04T15:20:57.021Z"
   },
   {
    "duration": 469,
    "start_time": "2022-07-04T15:21:53.452Z"
   },
   {
    "duration": 855,
    "start_time": "2022-07-04T15:22:05.589Z"
   },
   {
    "duration": 549,
    "start_time": "2022-07-04T15:22:28.382Z"
   },
   {
    "duration": 552,
    "start_time": "2022-07-04T15:24:09.329Z"
   },
   {
    "duration": 834,
    "start_time": "2022-07-04T15:24:40.205Z"
   },
   {
    "duration": 124,
    "start_time": "2022-07-04T15:26:12.555Z"
   },
   {
    "duration": 123,
    "start_time": "2022-07-04T15:26:26.114Z"
   },
   {
    "duration": 714,
    "start_time": "2022-07-04T15:27:55.057Z"
   },
   {
    "duration": 800,
    "start_time": "2022-07-04T15:28:06.259Z"
   },
   {
    "duration": 698,
    "start_time": "2022-07-04T15:28:33.871Z"
   },
   {
    "duration": 1156,
    "start_time": "2022-07-04T17:32:17.501Z"
   },
   {
    "duration": 76,
    "start_time": "2022-07-04T17:32:18.659Z"
   },
   {
    "duration": 22,
    "start_time": "2022-07-04T17:32:18.737Z"
   },
   {
    "duration": 17,
    "start_time": "2022-07-04T17:32:18.762Z"
   },
   {
    "duration": 5,
    "start_time": "2022-07-04T17:32:18.781Z"
   },
   {
    "duration": 47,
    "start_time": "2022-07-04T17:32:18.788Z"
   },
   {
    "duration": 8,
    "start_time": "2022-07-04T17:32:18.836Z"
   },
   {
    "duration": 20,
    "start_time": "2022-07-04T17:32:18.846Z"
   },
   {
    "duration": 8,
    "start_time": "2022-07-04T17:32:18.868Z"
   },
   {
    "duration": 24,
    "start_time": "2022-07-04T17:32:18.878Z"
   },
   {
    "duration": 36,
    "start_time": "2022-07-04T17:32:18.924Z"
   },
   {
    "duration": 277,
    "start_time": "2022-07-04T17:32:18.962Z"
   },
   {
    "duration": 16,
    "start_time": "2022-07-04T17:32:19.241Z"
   },
   {
    "duration": 31,
    "start_time": "2022-07-04T17:32:19.259Z"
   },
   {
    "duration": 3,
    "start_time": "2022-07-04T17:32:19.292Z"
   },
   {
    "duration": 816,
    "start_time": "2022-07-04T17:32:19.296Z"
   },
   {
    "duration": 298,
    "start_time": "2022-07-04T17:32:20.113Z"
   },
   {
    "duration": 82,
    "start_time": "2022-07-04T17:32:20.422Z"
   },
   {
    "duration": 27,
    "start_time": "2022-07-04T17:53:54.511Z"
   },
   {
    "duration": 985,
    "start_time": "2022-07-04T17:54:12.364Z"
   },
   {
    "duration": 655,
    "start_time": "2022-07-04T17:54:25.485Z"
   },
   {
    "duration": 94,
    "start_time": "2022-07-04T17:55:25.318Z"
   },
   {
    "duration": 28,
    "start_time": "2022-07-04T17:55:29.767Z"
   },
   {
    "duration": 487,
    "start_time": "2022-07-04T17:55:36.206Z"
   },
   {
    "duration": 390,
    "start_time": "2022-07-04T17:56:28.891Z"
   },
   {
    "duration": 323,
    "start_time": "2022-07-04T17:56:35.279Z"
   },
   {
    "duration": 331,
    "start_time": "2022-07-04T17:57:02.510Z"
   },
   {
    "duration": 322,
    "start_time": "2022-07-04T17:58:02.975Z"
   },
   {
    "duration": 425,
    "start_time": "2022-07-04T17:58:29.769Z"
   },
   {
    "duration": 334,
    "start_time": "2022-07-04T18:00:41.286Z"
   },
   {
    "duration": 28,
    "start_time": "2022-07-04T18:04:28.347Z"
   },
   {
    "duration": 349,
    "start_time": "2022-07-04T18:05:10.360Z"
   },
   {
    "duration": 279,
    "start_time": "2022-07-04T18:10:43.255Z"
   },
   {
    "duration": 44,
    "start_time": "2022-07-04T18:15:41.728Z"
   },
   {
    "duration": 36,
    "start_time": "2022-07-04T18:17:31.896Z"
   },
   {
    "duration": 22,
    "start_time": "2022-07-04T18:17:52.572Z"
   },
   {
    "duration": 32,
    "start_time": "2022-07-04T18:21:36.544Z"
   },
   {
    "duration": 27,
    "start_time": "2022-07-04T18:23:43.192Z"
   },
   {
    "duration": 27,
    "start_time": "2022-07-04T18:27:53.105Z"
   },
   {
    "duration": 1335,
    "start_time": "2022-07-05T04:58:44.884Z"
   },
   {
    "duration": 180,
    "start_time": "2022-07-05T04:58:46.222Z"
   },
   {
    "duration": 24,
    "start_time": "2022-07-05T04:58:46.404Z"
   },
   {
    "duration": 27,
    "start_time": "2022-07-05T04:58:46.431Z"
   },
   {
    "duration": 23,
    "start_time": "2022-07-05T04:58:46.466Z"
   },
   {
    "duration": 29,
    "start_time": "2022-07-05T04:58:46.492Z"
   },
   {
    "duration": 13,
    "start_time": "2022-07-05T04:58:46.524Z"
   },
   {
    "duration": 19,
    "start_time": "2022-07-05T04:58:46.539Z"
   },
   {
    "duration": 32,
    "start_time": "2022-07-05T04:58:46.560Z"
   },
   {
    "duration": 20,
    "start_time": "2022-07-05T04:58:46.596Z"
   },
   {
    "duration": 21,
    "start_time": "2022-07-05T04:58:46.618Z"
   },
   {
    "duration": 211,
    "start_time": "2022-07-05T04:58:46.641Z"
   },
   {
    "duration": 35,
    "start_time": "2022-07-05T04:58:46.853Z"
   },
   {
    "duration": 23,
    "start_time": "2022-07-05T04:58:46.890Z"
   },
   {
    "duration": 2,
    "start_time": "2022-07-05T04:58:46.914Z"
   },
   {
    "duration": 310,
    "start_time": "2022-07-05T04:58:46.917Z"
   },
   {
    "duration": 284,
    "start_time": "2022-07-05T04:58:47.229Z"
   },
   {
    "duration": 302,
    "start_time": "2022-07-05T05:01:15.276Z"
   },
   {
    "duration": 286,
    "start_time": "2022-07-05T05:02:48.710Z"
   },
   {
    "duration": 115,
    "start_time": "2022-07-05T05:41:35.340Z"
   },
   {
    "duration": 39,
    "start_time": "2022-07-05T05:42:08.284Z"
   },
   {
    "duration": 423,
    "start_time": "2022-07-05T05:43:10.508Z"
   },
   {
    "duration": 30,
    "start_time": "2022-07-05T05:46:40.716Z"
   },
   {
    "duration": 337,
    "start_time": "2022-07-05T05:47:49.949Z"
   },
   {
    "duration": 350,
    "start_time": "2022-07-05T05:48:00.630Z"
   },
   {
    "duration": 19,
    "start_time": "2022-07-05T05:48:11.906Z"
   },
   {
    "duration": 578,
    "start_time": "2022-07-05T05:49:53.403Z"
   },
   {
    "duration": 6,
    "start_time": "2022-07-05T05:59:32.204Z"
   },
   {
    "duration": 11,
    "start_time": "2022-07-05T06:02:15.087Z"
   },
   {
    "duration": 7,
    "start_time": "2022-07-05T06:02:30.622Z"
   },
   {
    "duration": 7,
    "start_time": "2022-07-05T06:02:57.918Z"
   },
   {
    "duration": 16,
    "start_time": "2022-07-05T06:05:03.753Z"
   },
   {
    "duration": 10,
    "start_time": "2022-07-05T06:05:18.757Z"
   },
   {
    "duration": 1252,
    "start_time": "2022-07-05T10:07:27.967Z"
   },
   {
    "duration": 122,
    "start_time": "2022-07-05T10:07:29.224Z"
   },
   {
    "duration": 19,
    "start_time": "2022-07-05T10:07:29.348Z"
   },
   {
    "duration": 24,
    "start_time": "2022-07-05T10:07:29.369Z"
   },
   {
    "duration": 4,
    "start_time": "2022-07-05T10:07:29.395Z"
   },
   {
    "duration": 42,
    "start_time": "2022-07-05T10:07:29.401Z"
   },
   {
    "duration": 9,
    "start_time": "2022-07-05T10:07:29.445Z"
   },
   {
    "duration": 13,
    "start_time": "2022-07-05T10:07:29.456Z"
   },
   {
    "duration": 9,
    "start_time": "2022-07-05T10:07:29.470Z"
   },
   {
    "duration": 21,
    "start_time": "2022-07-05T10:07:29.481Z"
   },
   {
    "duration": 25,
    "start_time": "2022-07-05T10:07:29.526Z"
   },
   {
    "duration": 201,
    "start_time": "2022-07-05T10:07:29.553Z"
   },
   {
    "duration": 27,
    "start_time": "2022-07-05T10:07:29.756Z"
   },
   {
    "duration": 22,
    "start_time": "2022-07-05T10:07:29.785Z"
   },
   {
    "duration": 15,
    "start_time": "2022-07-05T10:07:29.824Z"
   },
   {
    "duration": 306,
    "start_time": "2022-07-05T10:07:29.840Z"
   },
   {
    "duration": 310,
    "start_time": "2022-07-05T10:07:30.148Z"
   },
   {
    "duration": 23,
    "start_time": "2022-07-05T10:07:30.459Z"
   },
   {
    "duration": 306,
    "start_time": "2022-07-05T10:07:30.484Z"
   },
   {
    "duration": 282,
    "start_time": "2022-07-05T10:07:30.792Z"
   },
   {
    "duration": 6,
    "start_time": "2022-07-05T10:07:31.076Z"
   },
   {
    "duration": 100,
    "start_time": "2022-07-05T10:08:15.189Z"
   },
   {
    "duration": 67,
    "start_time": "2022-07-05T10:09:16.591Z"
   },
   {
    "duration": 151,
    "start_time": "2022-07-05T10:09:20.834Z"
   },
   {
    "duration": 154,
    "start_time": "2022-07-05T10:10:13.731Z"
   },
   {
    "duration": 9,
    "start_time": "2022-07-05T10:16:39.380Z"
   },
   {
    "duration": 8,
    "start_time": "2022-07-05T10:16:51.855Z"
   },
   {
    "duration": 8,
    "start_time": "2022-07-05T10:17:53.307Z"
   },
   {
    "duration": 14,
    "start_time": "2022-07-05T10:18:20.304Z"
   },
   {
    "duration": 15,
    "start_time": "2022-07-05T10:18:39.895Z"
   },
   {
    "duration": 9,
    "start_time": "2022-07-05T10:19:01.050Z"
   },
   {
    "duration": 18,
    "start_time": "2022-07-05T10:19:08.053Z"
   },
   {
    "duration": 19,
    "start_time": "2022-07-05T10:19:22.223Z"
   },
   {
    "duration": 21,
    "start_time": "2022-07-05T10:20:25.783Z"
   },
   {
    "duration": 19,
    "start_time": "2022-07-05T10:21:30.958Z"
   },
   {
    "duration": 22,
    "start_time": "2022-07-05T10:21:54.168Z"
   },
   {
    "duration": 19,
    "start_time": "2022-07-05T10:22:20.350Z"
   },
   {
    "duration": 20,
    "start_time": "2022-07-05T10:22:42.740Z"
   },
   {
    "duration": 300,
    "start_time": "2022-07-05T10:26:26.386Z"
   },
   {
    "duration": 1149,
    "start_time": "2022-07-05T10:26:38.068Z"
   },
   {
    "duration": 86,
    "start_time": "2022-07-05T10:26:39.219Z"
   },
   {
    "duration": 26,
    "start_time": "2022-07-05T10:26:39.307Z"
   },
   {
    "duration": 34,
    "start_time": "2022-07-05T10:26:39.336Z"
   },
   {
    "duration": 5,
    "start_time": "2022-07-05T10:26:39.372Z"
   },
   {
    "duration": 45,
    "start_time": "2022-07-05T10:26:39.378Z"
   },
   {
    "duration": 27,
    "start_time": "2022-07-05T10:26:39.428Z"
   },
   {
    "duration": 12,
    "start_time": "2022-07-05T10:26:39.457Z"
   },
   {
    "duration": 8,
    "start_time": "2022-07-05T10:26:39.471Z"
   },
   {
    "duration": 25,
    "start_time": "2022-07-05T10:26:39.481Z"
   },
   {
    "duration": 36,
    "start_time": "2022-07-05T10:26:39.508Z"
   },
   {
    "duration": 205,
    "start_time": "2022-07-05T10:26:39.546Z"
   },
   {
    "duration": 26,
    "start_time": "2022-07-05T10:26:39.753Z"
   },
   {
    "duration": 43,
    "start_time": "2022-07-05T10:26:39.781Z"
   },
   {
    "duration": 6,
    "start_time": "2022-07-05T10:26:39.825Z"
   },
   {
    "duration": 313,
    "start_time": "2022-07-05T10:26:39.834Z"
   },
   {
    "duration": 295,
    "start_time": "2022-07-05T10:26:40.149Z"
   },
   {
    "duration": 22,
    "start_time": "2022-07-05T10:26:40.446Z"
   },
   {
    "duration": 316,
    "start_time": "2022-07-05T10:26:40.470Z"
   },
   {
    "duration": 282,
    "start_time": "2022-07-05T10:26:40.787Z"
   },
   {
    "duration": 8,
    "start_time": "2022-07-05T10:26:41.070Z"
   },
   {
    "duration": 177,
    "start_time": "2022-07-05T10:26:41.079Z"
   },
   {
    "duration": 152,
    "start_time": "2022-07-05T10:28:31.742Z"
   },
   {
    "duration": 154,
    "start_time": "2022-07-05T10:29:13.556Z"
   },
   {
    "duration": 256,
    "start_time": "2022-07-05T10:33:31.943Z"
   },
   {
    "duration": 551,
    "start_time": "2022-07-05T10:39:00.529Z"
   },
   {
    "duration": 203,
    "start_time": "2022-07-05T10:39:07.413Z"
   },
   {
    "duration": 180,
    "start_time": "2022-07-05T10:39:18.211Z"
   },
   {
    "duration": 149,
    "start_time": "2022-07-05T10:39:36.965Z"
   },
   {
    "duration": 9,
    "start_time": "2022-07-05T10:49:21.709Z"
   },
   {
    "duration": 835,
    "start_time": "2022-07-05T10:49:28.736Z"
   },
   {
    "duration": 9,
    "start_time": "2022-07-05T10:49:43.284Z"
   },
   {
    "duration": 15,
    "start_time": "2022-07-05T10:50:16.081Z"
   },
   {
    "duration": 9,
    "start_time": "2022-07-05T10:50:36.193Z"
   },
   {
    "duration": 19,
    "start_time": "2022-07-05T10:50:40.940Z"
   },
   {
    "duration": 145,
    "start_time": "2022-07-05T10:50:52.989Z"
   },
   {
    "duration": 133,
    "start_time": "2022-07-05T10:50:58.253Z"
   },
   {
    "duration": 115,
    "start_time": "2022-07-05T10:52:10.120Z"
   },
   {
    "duration": 147,
    "start_time": "2022-07-05T10:52:52.345Z"
   },
   {
    "duration": 170,
    "start_time": "2022-07-05T10:56:50.567Z"
   },
   {
    "duration": 1325,
    "start_time": "2022-07-05T12:44:32.148Z"
   },
   {
    "duration": 119,
    "start_time": "2022-07-05T12:44:33.475Z"
   },
   {
    "duration": 22,
    "start_time": "2022-07-05T12:44:33.595Z"
   },
   {
    "duration": 26,
    "start_time": "2022-07-05T12:44:33.618Z"
   },
   {
    "duration": 20,
    "start_time": "2022-07-05T12:44:33.646Z"
   },
   {
    "duration": 19,
    "start_time": "2022-07-05T12:44:33.668Z"
   },
   {
    "duration": 9,
    "start_time": "2022-07-05T12:44:33.689Z"
   },
   {
    "duration": 13,
    "start_time": "2022-07-05T12:44:33.699Z"
   },
   {
    "duration": 19,
    "start_time": "2022-07-05T12:44:33.713Z"
   },
   {
    "duration": 46,
    "start_time": "2022-07-05T12:44:33.734Z"
   },
   {
    "duration": 24,
    "start_time": "2022-07-05T12:44:33.782Z"
   },
   {
    "duration": 203,
    "start_time": "2022-07-05T12:44:33.809Z"
   },
   {
    "duration": 35,
    "start_time": "2022-07-05T12:44:34.014Z"
   },
   {
    "duration": 39,
    "start_time": "2022-07-05T12:44:34.052Z"
   },
   {
    "duration": 2,
    "start_time": "2022-07-05T12:44:34.093Z"
   },
   {
    "duration": 365,
    "start_time": "2022-07-05T12:44:34.097Z"
   },
   {
    "duration": 338,
    "start_time": "2022-07-05T12:44:34.465Z"
   },
   {
    "duration": 42,
    "start_time": "2022-07-05T12:44:34.805Z"
   },
   {
    "duration": 329,
    "start_time": "2022-07-05T12:44:34.857Z"
   },
   {
    "duration": 293,
    "start_time": "2022-07-05T12:44:35.187Z"
   },
   {
    "duration": 7,
    "start_time": "2022-07-05T12:44:35.482Z"
   },
   {
    "duration": 200,
    "start_time": "2022-07-05T12:44:35.491Z"
   },
   {
    "duration": 112,
    "start_time": "2022-07-05T12:44:35.692Z"
   },
   {
    "duration": 26,
    "start_time": "2022-07-05T12:45:18.783Z"
   },
   {
    "duration": 14,
    "start_time": "2022-07-05T12:45:43.975Z"
   },
   {
    "duration": 6,
    "start_time": "2022-07-05T12:47:14.971Z"
   },
   {
    "duration": 11,
    "start_time": "2022-07-05T12:47:37.777Z"
   },
   {
    "duration": 142,
    "start_time": "2022-07-05T12:48:11.159Z"
   },
   {
    "duration": 15,
    "start_time": "2022-07-05T12:48:22.652Z"
   },
   {
    "duration": 19,
    "start_time": "2022-07-05T12:49:35.758Z"
   },
   {
    "duration": 14,
    "start_time": "2022-07-05T12:49:41.048Z"
   },
   {
    "duration": 22,
    "start_time": "2022-07-05T12:49:50.564Z"
   },
   {
    "duration": 22,
    "start_time": "2022-07-05T12:50:55.227Z"
   },
   {
    "duration": 25,
    "start_time": "2022-07-05T12:51:21.753Z"
   },
   {
    "duration": 12,
    "start_time": "2022-07-05T12:53:03.850Z"
   },
   {
    "duration": 4,
    "start_time": "2022-07-05T12:53:54.986Z"
   },
   {
    "duration": 487,
    "start_time": "2022-07-05T12:54:04.328Z"
   },
   {
    "duration": 8,
    "start_time": "2022-07-05T12:54:49.828Z"
   },
   {
    "duration": 4,
    "start_time": "2022-07-05T13:07:20.625Z"
   },
   {
    "duration": 13,
    "start_time": "2022-07-05T13:07:29.822Z"
   },
   {
    "duration": 140,
    "start_time": "2022-07-05T13:07:49.333Z"
   },
   {
    "duration": 12,
    "start_time": "2022-07-05T13:08:30.597Z"
   },
   {
    "duration": 3,
    "start_time": "2022-07-05T13:08:55.515Z"
   },
   {
    "duration": 1076,
    "start_time": "2022-07-05T13:09:31.382Z"
   },
   {
    "duration": 81,
    "start_time": "2022-07-05T13:09:32.459Z"
   },
   {
    "duration": 19,
    "start_time": "2022-07-05T13:09:32.544Z"
   },
   {
    "duration": 16,
    "start_time": "2022-07-05T13:09:32.565Z"
   },
   {
    "duration": 5,
    "start_time": "2022-07-05T13:09:32.582Z"
   },
   {
    "duration": 46,
    "start_time": "2022-07-05T13:09:32.589Z"
   },
   {
    "duration": 9,
    "start_time": "2022-07-05T13:09:32.637Z"
   },
   {
    "duration": 15,
    "start_time": "2022-07-05T13:09:32.647Z"
   },
   {
    "duration": 13,
    "start_time": "2022-07-05T13:09:32.664Z"
   },
   {
    "duration": 18,
    "start_time": "2022-07-05T13:09:32.678Z"
   },
   {
    "duration": 43,
    "start_time": "2022-07-05T13:09:32.698Z"
   },
   {
    "duration": 199,
    "start_time": "2022-07-05T13:09:32.743Z"
   },
   {
    "duration": 18,
    "start_time": "2022-07-05T13:09:32.944Z"
   },
   {
    "duration": 23,
    "start_time": "2022-07-05T13:09:32.964Z"
   },
   {
    "duration": 2,
    "start_time": "2022-07-05T13:09:32.989Z"
   },
   {
    "duration": 317,
    "start_time": "2022-07-05T13:09:32.992Z"
   },
   {
    "duration": 288,
    "start_time": "2022-07-05T13:09:33.311Z"
   },
   {
    "duration": 39,
    "start_time": "2022-07-05T13:09:33.601Z"
   },
   {
    "duration": 275,
    "start_time": "2022-07-05T13:09:33.642Z"
   },
   {
    "duration": 257,
    "start_time": "2022-07-05T13:09:33.919Z"
   },
   {
    "duration": 7,
    "start_time": "2022-07-05T13:09:34.177Z"
   },
   {
    "duration": 167,
    "start_time": "2022-07-05T13:09:34.186Z"
   },
   {
    "duration": 10,
    "start_time": "2022-07-05T13:09:34.356Z"
   },
   {
    "duration": 8,
    "start_time": "2022-07-05T13:09:34.368Z"
   },
   {
    "duration": 1056,
    "start_time": "2022-07-05T13:14:41.158Z"
   },
   {
    "duration": 1122,
    "start_time": "2022-07-05T13:15:11.079Z"
   },
   {
    "duration": 744,
    "start_time": "2022-07-05T13:18:16.518Z"
   },
   {
    "duration": 3,
    "start_time": "2022-07-05T13:27:32.927Z"
   },
   {
    "duration": 140,
    "start_time": "2022-07-05T13:43:36.602Z"
   },
   {
    "duration": 137,
    "start_time": "2022-07-05T13:44:05.045Z"
   },
   {
    "duration": 385,
    "start_time": "2022-07-05T13:45:32.000Z"
   },
   {
    "duration": 292,
    "start_time": "2022-07-05T13:47:38.722Z"
   },
   {
    "duration": 308,
    "start_time": "2022-07-05T13:49:59.901Z"
   },
   {
    "duration": 270,
    "start_time": "2022-07-05T13:51:14.709Z"
   },
   {
    "duration": 161,
    "start_time": "2022-07-05T13:59:10.545Z"
   },
   {
    "duration": 160,
    "start_time": "2022-07-05T14:00:48.785Z"
   },
   {
    "duration": 136,
    "start_time": "2022-07-05T14:02:20.402Z"
   },
   {
    "duration": 188,
    "start_time": "2022-07-05T14:08:27.110Z"
   },
   {
    "duration": 7,
    "start_time": "2022-07-05T14:24:35.845Z"
   },
   {
    "duration": 14,
    "start_time": "2022-07-05T14:33:11.870Z"
   },
   {
    "duration": 7,
    "start_time": "2022-07-05T14:33:25.578Z"
   },
   {
    "duration": 181,
    "start_time": "2022-07-05T14:35:11.400Z"
   },
   {
    "duration": 150,
    "start_time": "2022-07-05T14:35:29.961Z"
   },
   {
    "duration": 165,
    "start_time": "2022-07-05T14:45:20.293Z"
   },
   {
    "duration": 208,
    "start_time": "2022-07-05T14:46:45.474Z"
   },
   {
    "duration": 132,
    "start_time": "2022-07-05T14:47:28.639Z"
   },
   {
    "duration": 140,
    "start_time": "2022-07-05T14:55:47.351Z"
   },
   {
    "duration": 8,
    "start_time": "2022-07-05T14:58:48.573Z"
   },
   {
    "duration": 7,
    "start_time": "2022-07-05T14:59:22.389Z"
   },
   {
    "duration": 6,
    "start_time": "2022-07-05T15:00:36.204Z"
   },
   {
    "duration": 4,
    "start_time": "2022-07-05T15:11:38.078Z"
   },
   {
    "duration": 8,
    "start_time": "2022-07-05T15:11:46.990Z"
   },
   {
    "duration": 143,
    "start_time": "2022-07-05T15:12:07.705Z"
   },
   {
    "duration": 132,
    "start_time": "2022-07-05T15:12:18.814Z"
   },
   {
    "duration": 745,
    "start_time": "2022-07-05T15:18:51.452Z"
   },
   {
    "duration": 11,
    "start_time": "2022-07-05T15:19:09.254Z"
   },
   {
    "duration": 113,
    "start_time": "2022-07-05T15:19:12.973Z"
   },
   {
    "duration": 119,
    "start_time": "2022-07-05T15:19:28.253Z"
   },
   {
    "duration": 129,
    "start_time": "2022-07-05T15:19:43.056Z"
   },
   {
    "duration": 81,
    "start_time": "2022-07-05T15:19:56.417Z"
   },
   {
    "duration": 117,
    "start_time": "2022-07-05T15:20:47.675Z"
   },
   {
    "duration": 303,
    "start_time": "2022-07-05T15:22:31.452Z"
   },
   {
    "duration": 317,
    "start_time": "2022-07-05T15:23:45.537Z"
   },
   {
    "duration": 6,
    "start_time": "2022-07-05T15:24:42.577Z"
   },
   {
    "duration": 241,
    "start_time": "2022-07-05T15:24:49.621Z"
   },
   {
    "duration": 175,
    "start_time": "2022-07-05T15:25:36.120Z"
   },
   {
    "duration": 17,
    "start_time": "2022-07-05T15:25:45.526Z"
   },
   {
    "duration": 138,
    "start_time": "2022-07-05T15:26:40.048Z"
   },
   {
    "duration": 264,
    "start_time": "2022-07-05T15:26:44.033Z"
   },
   {
    "duration": 206,
    "start_time": "2022-07-05T15:27:52.940Z"
   },
   {
    "duration": 234,
    "start_time": "2022-07-05T15:28:48.144Z"
   },
   {
    "duration": 13,
    "start_time": "2022-07-05T15:39:37.272Z"
   },
   {
    "duration": 13,
    "start_time": "2022-07-05T15:40:49.639Z"
   },
   {
    "duration": 17,
    "start_time": "2022-07-05T15:42:07.124Z"
   },
   {
    "duration": 11,
    "start_time": "2022-07-05T15:42:18.376Z"
   },
   {
    "duration": 28,
    "start_time": "2022-07-05T15:45:28.297Z"
   },
   {
    "duration": 29,
    "start_time": "2022-07-05T15:46:53.139Z"
   },
   {
    "duration": 16,
    "start_time": "2022-07-05T15:59:31.293Z"
   },
   {
    "duration": 12,
    "start_time": "2022-07-05T16:03:08.480Z"
   },
   {
    "duration": 9,
    "start_time": "2022-07-05T16:03:24.375Z"
   },
   {
    "duration": 8,
    "start_time": "2022-07-05T16:04:10.475Z"
   },
   {
    "duration": 10,
    "start_time": "2022-07-05T16:08:05.311Z"
   },
   {
    "duration": 10,
    "start_time": "2022-07-05T16:08:26.522Z"
   },
   {
    "duration": 14,
    "start_time": "2022-07-05T16:11:28.176Z"
   },
   {
    "duration": 16,
    "start_time": "2022-07-05T16:13:09.996Z"
   },
   {
    "duration": 15,
    "start_time": "2022-07-05T16:13:47.294Z"
   },
   {
    "duration": 57,
    "start_time": "2022-07-05T16:15:50.154Z"
   },
   {
    "duration": 258,
    "start_time": "2022-07-05T16:15:56.184Z"
   },
   {
    "duration": 390,
    "start_time": "2022-07-05T16:16:36.985Z"
   },
   {
    "duration": 227,
    "start_time": "2022-07-05T16:16:56.509Z"
   },
   {
    "duration": 227,
    "start_time": "2022-07-05T16:17:00.827Z"
   },
   {
    "duration": 260,
    "start_time": "2022-07-05T16:17:31.797Z"
   },
   {
    "duration": 280,
    "start_time": "2022-07-05T16:18:17.366Z"
   },
   {
    "duration": 139,
    "start_time": "2022-07-05T16:18:24.500Z"
   },
   {
    "duration": 17,
    "start_time": "2022-07-05T16:18:29.397Z"
   },
   {
    "duration": 18,
    "start_time": "2022-07-05T16:18:37.249Z"
   },
   {
    "duration": 13,
    "start_time": "2022-07-05T16:18:53.494Z"
   },
   {
    "duration": 17,
    "start_time": "2022-07-05T16:19:08.730Z"
   },
   {
    "duration": 15,
    "start_time": "2022-07-05T16:19:18.478Z"
   },
   {
    "duration": 12,
    "start_time": "2022-07-05T16:19:25.256Z"
   },
   {
    "duration": 14,
    "start_time": "2022-07-05T16:19:41.200Z"
   },
   {
    "duration": 13,
    "start_time": "2022-07-05T16:20:32.224Z"
   },
   {
    "duration": 210,
    "start_time": "2022-07-05T16:21:04.257Z"
   },
   {
    "duration": 5,
    "start_time": "2022-07-05T16:22:04.050Z"
   },
   {
    "duration": 11,
    "start_time": "2022-07-05T16:22:17.509Z"
   },
   {
    "duration": 14,
    "start_time": "2022-07-05T16:23:04.619Z"
   },
   {
    "duration": 19,
    "start_time": "2022-07-05T16:23:34.533Z"
   },
   {
    "duration": 140,
    "start_time": "2022-07-05T16:23:37.571Z"
   },
   {
    "duration": 114,
    "start_time": "2022-07-05T16:25:08.513Z"
   },
   {
    "duration": 4,
    "start_time": "2022-07-05T16:26:09.418Z"
   },
   {
    "duration": 5,
    "start_time": "2022-07-05T16:27:32.659Z"
   },
   {
    "duration": 47,
    "start_time": "2022-07-05T16:27:37.168Z"
   },
   {
    "duration": 6,
    "start_time": "2022-07-05T16:27:41.327Z"
   },
   {
    "duration": 121,
    "start_time": "2022-07-05T16:30:15.466Z"
   },
   {
    "duration": 815,
    "start_time": "2022-07-05T16:42:37.824Z"
   },
   {
    "duration": 5,
    "start_time": "2022-07-05T16:42:50.243Z"
   },
   {
    "duration": 101,
    "start_time": "2022-07-05T17:09:48.514Z"
   },
   {
    "duration": 117,
    "start_time": "2022-07-05T17:09:58.623Z"
   },
   {
    "duration": 1547,
    "start_time": "2022-07-06T14:49:37.199Z"
   },
   {
    "duration": 257,
    "start_time": "2022-07-06T14:49:38.749Z"
   },
   {
    "duration": 35,
    "start_time": "2022-07-06T14:49:39.007Z"
   },
   {
    "duration": 17,
    "start_time": "2022-07-06T14:49:39.045Z"
   },
   {
    "duration": 6,
    "start_time": "2022-07-06T14:49:39.063Z"
   },
   {
    "duration": 54,
    "start_time": "2022-07-06T14:49:39.071Z"
   },
   {
    "duration": 20,
    "start_time": "2022-07-06T14:49:39.127Z"
   },
   {
    "duration": 18,
    "start_time": "2022-07-06T14:49:39.149Z"
   },
   {
    "duration": 11,
    "start_time": "2022-07-06T14:49:39.169Z"
   },
   {
    "duration": 46,
    "start_time": "2022-07-06T14:49:39.185Z"
   },
   {
    "duration": 35,
    "start_time": "2022-07-06T14:49:39.233Z"
   },
   {
    "duration": 6,
    "start_time": "2022-07-06T14:49:39.270Z"
   },
   {
    "duration": 187,
    "start_time": "2022-07-06T14:49:39.278Z"
   },
   {
    "duration": 267,
    "start_time": "2022-07-06T14:49:39.468Z"
   },
   {
    "duration": 19,
    "start_time": "2022-07-06T14:49:39.737Z"
   },
   {
    "duration": 53,
    "start_time": "2022-07-06T14:49:39.758Z"
   },
   {
    "duration": 5,
    "start_time": "2022-07-06T14:49:39.813Z"
   },
   {
    "duration": 312,
    "start_time": "2022-07-06T14:49:39.820Z"
   },
   {
    "duration": 303,
    "start_time": "2022-07-06T14:49:40.133Z"
   },
   {
    "duration": 33,
    "start_time": "2022-07-06T14:49:40.438Z"
   },
   {
    "duration": 304,
    "start_time": "2022-07-06T14:49:40.473Z"
   },
   {
    "duration": 297,
    "start_time": "2022-07-06T14:49:40.779Z"
   },
   {
    "duration": 6,
    "start_time": "2022-07-06T14:49:41.078Z"
   },
   {
    "duration": 190,
    "start_time": "2022-07-06T14:49:41.085Z"
   },
   {
    "duration": 10,
    "start_time": "2022-07-06T14:49:41.277Z"
   },
   {
    "duration": 16,
    "start_time": "2022-07-06T14:49:41.288Z"
   },
   {
    "duration": 159,
    "start_time": "2022-07-06T14:49:41.306Z"
   },
   {
    "duration": 175,
    "start_time": "2022-07-06T14:49:41.468Z"
   },
   {
    "duration": 230,
    "start_time": "2022-07-06T14:49:41.644Z"
   },
   {
    "duration": 145,
    "start_time": "2022-07-06T14:49:41.876Z"
   },
   {
    "duration": 156,
    "start_time": "2022-07-06T14:49:42.023Z"
   },
   {
    "duration": 141,
    "start_time": "2022-07-06T14:49:42.180Z"
   },
   {
    "duration": 7,
    "start_time": "2022-07-06T14:49:42.323Z"
   },
   {
    "duration": 294,
    "start_time": "2022-07-06T14:49:42.331Z"
   },
   {
    "duration": 21,
    "start_time": "2022-07-06T14:49:42.626Z"
   },
   {
    "duration": 16,
    "start_time": "2022-07-06T14:49:42.649Z"
   },
   {
    "duration": 152,
    "start_time": "2022-07-06T14:49:42.667Z"
   },
   {
    "duration": 124,
    "start_time": "2022-07-06T14:49:42.820Z"
   },
   {
    "duration": 175,
    "start_time": "2022-07-06T14:49:42.945Z"
   },
   {
    "duration": 99,
    "start_time": "2022-07-06T14:51:09.271Z"
   },
   {
    "duration": 11,
    "start_time": "2022-07-06T14:51:18.856Z"
   },
   {
    "duration": 5,
    "start_time": "2022-07-06T14:51:24.797Z"
   },
   {
    "duration": 11,
    "start_time": "2022-07-06T15:08:41.330Z"
   },
   {
    "duration": 176,
    "start_time": "2022-07-06T15:08:47.776Z"
   },
   {
    "duration": 210,
    "start_time": "2022-07-06T15:09:05.885Z"
   },
   {
    "duration": 4,
    "start_time": "2022-07-06T15:09:46.351Z"
   },
   {
    "duration": 112,
    "start_time": "2022-07-06T15:13:09.177Z"
   },
   {
    "duration": 4,
    "start_time": "2022-07-06T15:13:40.604Z"
   },
   {
    "duration": 260,
    "start_time": "2022-07-06T15:14:01.056Z"
   },
   {
    "duration": 207,
    "start_time": "2022-07-06T15:14:22.773Z"
   },
   {
    "duration": 148,
    "start_time": "2022-07-06T15:14:28.684Z"
   },
   {
    "duration": 107,
    "start_time": "2022-07-06T15:14:41.248Z"
   },
   {
    "duration": 139,
    "start_time": "2022-07-06T15:14:53.238Z"
   },
   {
    "duration": 4,
    "start_time": "2022-07-06T15:15:15.360Z"
   },
   {
    "duration": 164,
    "start_time": "2022-07-06T15:15:29.965Z"
   },
   {
    "duration": 323,
    "start_time": "2022-07-06T15:15:37.176Z"
   },
   {
    "duration": 176,
    "start_time": "2022-07-06T15:15:42.782Z"
   },
   {
    "duration": 1139,
    "start_time": "2022-07-06T15:15:53.946Z"
   },
   {
    "duration": 90,
    "start_time": "2022-07-06T15:15:55.087Z"
   },
   {
    "duration": 27,
    "start_time": "2022-07-06T15:15:55.179Z"
   },
   {
    "duration": 57,
    "start_time": "2022-07-06T15:15:55.209Z"
   },
   {
    "duration": 21,
    "start_time": "2022-07-06T15:15:55.267Z"
   },
   {
    "duration": 46,
    "start_time": "2022-07-06T15:15:55.290Z"
   },
   {
    "duration": 14,
    "start_time": "2022-07-06T15:15:55.337Z"
   },
   {
    "duration": 25,
    "start_time": "2022-07-06T15:15:55.352Z"
   },
   {
    "duration": 19,
    "start_time": "2022-07-06T15:15:55.379Z"
   },
   {
    "duration": 77,
    "start_time": "2022-07-06T15:15:55.400Z"
   },
   {
    "duration": 21,
    "start_time": "2022-07-06T15:15:55.479Z"
   },
   {
    "duration": 52,
    "start_time": "2022-07-06T15:15:55.501Z"
   },
   {
    "duration": 33,
    "start_time": "2022-07-06T15:15:55.555Z"
   },
   {
    "duration": 162,
    "start_time": "2022-07-06T15:15:55.590Z"
   },
   {
    "duration": 228,
    "start_time": "2022-07-06T15:15:55.755Z"
   },
   {
    "duration": 24,
    "start_time": "2022-07-06T15:15:55.984Z"
   },
   {
    "duration": 48,
    "start_time": "2022-07-06T15:15:56.009Z"
   },
   {
    "duration": 16,
    "start_time": "2022-07-06T15:15:56.059Z"
   },
   {
    "duration": 338,
    "start_time": "2022-07-06T15:15:56.076Z"
   },
   {
    "duration": 275,
    "start_time": "2022-07-06T15:15:56.417Z"
   },
   {
    "duration": 30,
    "start_time": "2022-07-06T15:15:56.693Z"
   },
   {
    "duration": 274,
    "start_time": "2022-07-06T15:15:56.725Z"
   },
   {
    "duration": 268,
    "start_time": "2022-07-06T15:15:57.000Z"
   },
   {
    "duration": 7,
    "start_time": "2022-07-06T15:15:57.269Z"
   },
   {
    "duration": 173,
    "start_time": "2022-07-06T15:15:57.277Z"
   },
   {
    "duration": 7,
    "start_time": "2022-07-06T15:15:57.452Z"
   },
   {
    "duration": 16,
    "start_time": "2022-07-06T15:15:57.461Z"
   },
   {
    "duration": 180,
    "start_time": "2022-07-06T15:15:57.480Z"
   },
   {
    "duration": 214,
    "start_time": "2022-07-06T15:15:57.663Z"
   },
   {
    "duration": 245,
    "start_time": "2022-07-06T15:15:57.880Z"
   },
   {
    "duration": 147,
    "start_time": "2022-07-06T15:15:58.127Z"
   },
   {
    "duration": 162,
    "start_time": "2022-07-06T15:15:58.276Z"
   },
   {
    "duration": 129,
    "start_time": "2022-07-06T15:15:58.439Z"
   },
   {
    "duration": 6,
    "start_time": "2022-07-06T15:15:58.569Z"
   },
   {
    "duration": 244,
    "start_time": "2022-07-06T15:15:58.577Z"
   },
   {
    "duration": 20,
    "start_time": "2022-07-06T15:15:58.823Z"
   },
   {
    "duration": 14,
    "start_time": "2022-07-06T15:15:58.845Z"
   },
   {
    "duration": 149,
    "start_time": "2022-07-06T15:15:58.861Z"
   },
   {
    "duration": 157,
    "start_time": "2022-07-06T15:15:59.011Z"
   },
   {
    "duration": 139,
    "start_time": "2022-07-06T15:15:59.169Z"
   },
   {
    "duration": 207,
    "start_time": "2022-07-06T15:15:59.310Z"
   },
   {
    "duration": 5,
    "start_time": "2022-07-06T15:17:40.029Z"
   },
   {
    "duration": 142,
    "start_time": "2022-07-06T15:18:00.400Z"
   },
   {
    "duration": 1273,
    "start_time": "2022-07-06T15:18:04.889Z"
   },
   {
    "duration": 92,
    "start_time": "2022-07-06T15:18:06.164Z"
   },
   {
    "duration": 19,
    "start_time": "2022-07-06T15:18:06.257Z"
   },
   {
    "duration": 17,
    "start_time": "2022-07-06T15:18:06.278Z"
   },
   {
    "duration": 10,
    "start_time": "2022-07-06T15:18:06.297Z"
   },
   {
    "duration": 47,
    "start_time": "2022-07-06T15:18:06.309Z"
   },
   {
    "duration": 7,
    "start_time": "2022-07-06T15:18:06.359Z"
   },
   {
    "duration": 11,
    "start_time": "2022-07-06T15:18:06.368Z"
   },
   {
    "duration": 8,
    "start_time": "2022-07-06T15:18:06.381Z"
   },
   {
    "duration": 33,
    "start_time": "2022-07-06T15:18:06.391Z"
   },
   {
    "duration": 29,
    "start_time": "2022-07-06T15:18:06.425Z"
   },
   {
    "duration": 10,
    "start_time": "2022-07-06T15:18:06.455Z"
   },
   {
    "duration": 6,
    "start_time": "2022-07-06T15:18:06.467Z"
   },
   {
    "duration": 159,
    "start_time": "2022-07-06T15:18:06.475Z"
   },
   {
    "duration": 213,
    "start_time": "2022-07-06T15:18:06.636Z"
   },
   {
    "duration": 19,
    "start_time": "2022-07-06T15:18:06.850Z"
   },
   {
    "duration": 22,
    "start_time": "2022-07-06T15:18:06.870Z"
   },
   {
    "duration": 13,
    "start_time": "2022-07-06T15:18:06.894Z"
   },
   {
    "duration": 327,
    "start_time": "2022-07-06T15:18:06.909Z"
   },
   {
    "duration": 338,
    "start_time": "2022-07-06T15:18:07.238Z"
   },
   {
    "duration": 42,
    "start_time": "2022-07-06T15:18:07.579Z"
   },
   {
    "duration": 339,
    "start_time": "2022-07-06T15:18:07.622Z"
   },
   {
    "duration": 297,
    "start_time": "2022-07-06T15:18:07.963Z"
   },
   {
    "duration": 6,
    "start_time": "2022-07-06T15:18:08.262Z"
   },
   {
    "duration": 162,
    "start_time": "2022-07-06T15:18:08.270Z"
   },
   {
    "duration": 7,
    "start_time": "2022-07-06T15:18:08.434Z"
   },
   {
    "duration": 11,
    "start_time": "2022-07-06T15:18:08.443Z"
   },
   {
    "duration": 162,
    "start_time": "2022-07-06T15:18:08.455Z"
   },
   {
    "duration": 174,
    "start_time": "2022-07-06T15:18:08.619Z"
   },
   {
    "duration": 250,
    "start_time": "2022-07-06T15:18:08.794Z"
   },
   {
    "duration": 140,
    "start_time": "2022-07-06T15:18:09.046Z"
   },
   {
    "duration": 171,
    "start_time": "2022-07-06T15:18:09.187Z"
   },
   {
    "duration": 137,
    "start_time": "2022-07-06T15:18:09.360Z"
   },
   {
    "duration": 15,
    "start_time": "2022-07-06T15:18:09.498Z"
   },
   {
    "duration": 243,
    "start_time": "2022-07-06T15:18:09.514Z"
   },
   {
    "duration": 28,
    "start_time": "2022-07-06T15:18:09.760Z"
   },
   {
    "duration": 33,
    "start_time": "2022-07-06T15:18:09.789Z"
   },
   {
    "duration": 148,
    "start_time": "2022-07-06T15:18:09.825Z"
   },
   {
    "duration": 131,
    "start_time": "2022-07-06T15:18:09.975Z"
   },
   {
    "duration": 131,
    "start_time": "2022-07-06T15:18:10.108Z"
   },
   {
    "duration": 4,
    "start_time": "2022-07-06T15:18:10.242Z"
   },
   {
    "duration": 216,
    "start_time": "2022-07-06T15:18:10.247Z"
   },
   {
    "duration": 216,
    "start_time": "2022-07-06T15:18:44.414Z"
   },
   {
    "duration": 92,
    "start_time": "2022-07-06T15:37:30.757Z"
   },
   {
    "duration": 7,
    "start_time": "2022-07-06T15:37:47.123Z"
   },
   {
    "duration": 6,
    "start_time": "2022-07-06T15:38:04.555Z"
   },
   {
    "duration": 7,
    "start_time": "2022-07-06T15:38:18.404Z"
   },
   {
    "duration": 7,
    "start_time": "2022-07-06T15:38:31.532Z"
   },
   {
    "duration": 7,
    "start_time": "2022-07-06T15:38:38.330Z"
   },
   {
    "duration": 23,
    "start_time": "2022-07-06T15:45:46.632Z"
   },
   {
    "duration": 4,
    "start_time": "2022-07-06T15:53:12.420Z"
   },
   {
    "duration": 9,
    "start_time": "2022-07-06T15:57:20.516Z"
   },
   {
    "duration": 13,
    "start_time": "2022-07-06T15:57:36.149Z"
   },
   {
    "duration": 18,
    "start_time": "2022-07-06T16:00:11.192Z"
   },
   {
    "duration": 268,
    "start_time": "2022-07-06T16:03:24.104Z"
   },
   {
    "duration": 73,
    "start_time": "2022-07-06T16:16:59.765Z"
   },
   {
    "duration": 570,
    "start_time": "2022-07-06T16:17:24.873Z"
   },
   {
    "duration": 490,
    "start_time": "2022-07-06T16:17:39.834Z"
   },
   {
    "duration": 175,
    "start_time": "2022-07-06T16:18:06.800Z"
   },
   {
    "duration": 137,
    "start_time": "2022-07-06T16:21:01.740Z"
   },
   {
    "duration": 507,
    "start_time": "2022-07-06T16:22:14.725Z"
   },
   {
    "duration": 171,
    "start_time": "2022-07-06T16:22:29.982Z"
   },
   {
    "duration": 464,
    "start_time": "2022-07-06T16:23:42.841Z"
   },
   {
    "duration": 11,
    "start_time": "2022-07-06T16:23:53.008Z"
   },
   {
    "duration": 8,
    "start_time": "2022-07-06T16:24:14.046Z"
   },
   {
    "duration": 8,
    "start_time": "2022-07-06T16:24:57.868Z"
   },
   {
    "duration": 631,
    "start_time": "2022-07-06T16:25:13.160Z"
   },
   {
    "duration": 617,
    "start_time": "2022-07-06T16:27:00.718Z"
   },
   {
    "duration": 78,
    "start_time": "2022-07-06T16:27:37.213Z"
   },
   {
    "duration": 603,
    "start_time": "2022-07-06T16:28:41.413Z"
   },
   {
    "duration": 81,
    "start_time": "2022-07-06T16:28:48.896Z"
   },
   {
    "duration": 88,
    "start_time": "2022-07-06T16:29:27.193Z"
   },
   {
    "duration": 648,
    "start_time": "2022-07-06T16:29:43.102Z"
   },
   {
    "duration": 11,
    "start_time": "2022-07-06T16:52:14.570Z"
   },
   {
    "duration": 9,
    "start_time": "2022-07-06T16:55:05.616Z"
   },
   {
    "duration": 9,
    "start_time": "2022-07-06T16:55:13.552Z"
   },
   {
    "duration": 11,
    "start_time": "2022-07-06T16:55:20.491Z"
   },
   {
    "duration": 2846,
    "start_time": "2022-07-06T16:55:32.892Z"
   },
   {
    "duration": 74,
    "start_time": "2022-07-06T16:56:02.290Z"
   },
   {
    "duration": 2739,
    "start_time": "2022-07-06T16:56:08.953Z"
   },
   {
    "duration": 2809,
    "start_time": "2022-07-06T16:56:13.206Z"
   },
   {
    "duration": 737,
    "start_time": "2022-07-06T16:57:28.046Z"
   },
   {
    "duration": 789,
    "start_time": "2022-07-06T16:59:52.321Z"
   },
   {
    "duration": 76,
    "start_time": "2022-07-06T17:00:49.291Z"
   },
   {
    "duration": 466,
    "start_time": "2022-07-06T17:01:06.988Z"
   },
   {
    "duration": 267,
    "start_time": "2022-07-06T17:07:30.507Z"
   },
   {
    "duration": 325,
    "start_time": "2022-07-06T17:07:47.195Z"
   },
   {
    "duration": 26,
    "start_time": "2022-07-06T17:11:39.753Z"
   },
   {
    "duration": 8,
    "start_time": "2022-07-06T17:14:25.516Z"
   },
   {
    "duration": 7,
    "start_time": "2022-07-06T17:14:56.019Z"
   },
   {
    "duration": 16,
    "start_time": "2022-07-06T17:15:17.997Z"
   },
   {
    "duration": 7,
    "start_time": "2022-07-06T17:15:24.043Z"
   },
   {
    "duration": 11,
    "start_time": "2022-07-06T17:16:21.894Z"
   },
   {
    "duration": 21,
    "start_time": "2022-07-06T17:23:12.040Z"
   },
   {
    "duration": 18,
    "start_time": "2022-07-06T17:23:24.716Z"
   },
   {
    "duration": 1061,
    "start_time": "2022-07-06T17:23:41.033Z"
   },
   {
    "duration": 78,
    "start_time": "2022-07-06T17:23:42.096Z"
   },
   {
    "duration": 19,
    "start_time": "2022-07-06T17:23:42.175Z"
   },
   {
    "duration": 23,
    "start_time": "2022-07-06T17:23:42.196Z"
   },
   {
    "duration": 5,
    "start_time": "2022-07-06T17:23:42.220Z"
   },
   {
    "duration": 32,
    "start_time": "2022-07-06T17:23:42.228Z"
   },
   {
    "duration": 9,
    "start_time": "2022-07-06T17:23:42.262Z"
   },
   {
    "duration": 17,
    "start_time": "2022-07-06T17:23:42.273Z"
   },
   {
    "duration": 9,
    "start_time": "2022-07-06T17:23:42.302Z"
   },
   {
    "duration": 18,
    "start_time": "2022-07-06T17:23:42.314Z"
   },
   {
    "duration": 5,
    "start_time": "2022-07-06T17:23:42.334Z"
   },
   {
    "duration": 138,
    "start_time": "2022-07-06T17:23:42.340Z"
   },
   {
    "duration": 31,
    "start_time": "2022-07-06T17:23:42.480Z"
   },
   {
    "duration": 174,
    "start_time": "2022-07-06T17:23:42.513Z"
   },
   {
    "duration": 15,
    "start_time": "2022-07-06T17:23:42.689Z"
   },
   {
    "duration": 23,
    "start_time": "2022-07-06T17:23:42.705Z"
   },
   {
    "duration": 768,
    "start_time": "2022-07-06T17:23:42.730Z"
   },
   {
    "duration": 461,
    "start_time": "2022-07-06T17:23:43.503Z"
   },
   {
    "duration": 319,
    "start_time": "2022-07-06T17:23:43.965Z"
   },
   {
    "duration": 32,
    "start_time": "2022-07-06T17:23:44.285Z"
   },
   {
    "duration": 11,
    "start_time": "2022-07-06T17:23:44.318Z"
   },
   {
    "duration": 104,
    "start_time": "2022-07-06T17:23:44.331Z"
   },
   {
    "duration": 0,
    "start_time": "2022-07-06T17:23:44.438Z"
   },
   {
    "duration": 0,
    "start_time": "2022-07-06T17:23:44.439Z"
   },
   {
    "duration": 0,
    "start_time": "2022-07-06T17:23:44.440Z"
   },
   {
    "duration": 0,
    "start_time": "2022-07-06T17:23:44.442Z"
   },
   {
    "duration": 0,
    "start_time": "2022-07-06T17:23:44.443Z"
   },
   {
    "duration": 0,
    "start_time": "2022-07-06T17:23:44.444Z"
   },
   {
    "duration": 0,
    "start_time": "2022-07-06T17:23:44.446Z"
   },
   {
    "duration": 0,
    "start_time": "2022-07-06T17:23:44.447Z"
   },
   {
    "duration": 0,
    "start_time": "2022-07-06T17:23:44.448Z"
   },
   {
    "duration": 0,
    "start_time": "2022-07-06T17:23:44.449Z"
   },
   {
    "duration": 0,
    "start_time": "2022-07-06T17:23:44.450Z"
   },
   {
    "duration": 0,
    "start_time": "2022-07-06T17:23:44.452Z"
   },
   {
    "duration": 0,
    "start_time": "2022-07-06T17:23:44.453Z"
   },
   {
    "duration": 0,
    "start_time": "2022-07-06T17:23:44.454Z"
   },
   {
    "duration": 0,
    "start_time": "2022-07-06T17:23:44.455Z"
   },
   {
    "duration": 0,
    "start_time": "2022-07-06T17:23:44.456Z"
   },
   {
    "duration": 0,
    "start_time": "2022-07-06T17:23:44.458Z"
   },
   {
    "duration": 0,
    "start_time": "2022-07-06T17:23:44.459Z"
   },
   {
    "duration": 0,
    "start_time": "2022-07-06T17:23:44.460Z"
   },
   {
    "duration": 0,
    "start_time": "2022-07-06T17:23:44.461Z"
   },
   {
    "duration": 0,
    "start_time": "2022-07-06T17:23:44.463Z"
   },
   {
    "duration": 0,
    "start_time": "2022-07-06T17:23:44.627Z"
   },
   {
    "duration": 8,
    "start_time": "2022-07-06T17:25:18.329Z"
   },
   {
    "duration": 7,
    "start_time": "2022-07-06T17:25:41.832Z"
   },
   {
    "duration": 10,
    "start_time": "2022-07-06T17:25:58.126Z"
   },
   {
    "duration": 8,
    "start_time": "2022-07-06T17:26:51.471Z"
   },
   {
    "duration": 1045,
    "start_time": "2022-07-06T17:26:59.551Z"
   },
   {
    "duration": 80,
    "start_time": "2022-07-06T17:27:00.597Z"
   },
   {
    "duration": 20,
    "start_time": "2022-07-06T17:27:00.678Z"
   },
   {
    "duration": 20,
    "start_time": "2022-07-06T17:27:00.700Z"
   },
   {
    "duration": 4,
    "start_time": "2022-07-06T17:27:00.722Z"
   },
   {
    "duration": 20,
    "start_time": "2022-07-06T17:27:00.728Z"
   },
   {
    "duration": 12,
    "start_time": "2022-07-06T17:27:00.750Z"
   },
   {
    "duration": 15,
    "start_time": "2022-07-06T17:27:00.764Z"
   },
   {
    "duration": 30,
    "start_time": "2022-07-06T17:27:00.781Z"
   },
   {
    "duration": 26,
    "start_time": "2022-07-06T17:27:00.815Z"
   },
   {
    "duration": 16,
    "start_time": "2022-07-06T17:27:00.842Z"
   },
   {
    "duration": 125,
    "start_time": "2022-07-06T17:27:00.860Z"
   },
   {
    "duration": 30,
    "start_time": "2022-07-06T17:27:00.987Z"
   },
   {
    "duration": 185,
    "start_time": "2022-07-06T17:27:01.018Z"
   },
   {
    "duration": 8,
    "start_time": "2022-07-06T17:27:01.205Z"
   },
   {
    "duration": 29,
    "start_time": "2022-07-06T17:27:01.214Z"
   },
   {
    "duration": 718,
    "start_time": "2022-07-06T17:27:01.244Z"
   },
   {
    "duration": 451,
    "start_time": "2022-07-06T17:27:01.964Z"
   },
   {
    "duration": 335,
    "start_time": "2022-07-06T17:27:02.417Z"
   },
   {
    "duration": 23,
    "start_time": "2022-07-06T17:27:02.754Z"
   },
   {
    "duration": 10,
    "start_time": "2022-07-06T17:27:02.779Z"
   },
   {
    "duration": 99,
    "start_time": "2022-07-06T17:27:02.790Z"
   },
   {
    "duration": 0,
    "start_time": "2022-07-06T17:27:02.891Z"
   },
   {
    "duration": 0,
    "start_time": "2022-07-06T17:27:02.892Z"
   },
   {
    "duration": 0,
    "start_time": "2022-07-06T17:27:02.893Z"
   },
   {
    "duration": 0,
    "start_time": "2022-07-06T17:27:02.894Z"
   },
   {
    "duration": 0,
    "start_time": "2022-07-06T17:27:02.895Z"
   },
   {
    "duration": 0,
    "start_time": "2022-07-06T17:27:02.902Z"
   },
   {
    "duration": 0,
    "start_time": "2022-07-06T17:27:02.903Z"
   },
   {
    "duration": 0,
    "start_time": "2022-07-06T17:27:02.903Z"
   },
   {
    "duration": 0,
    "start_time": "2022-07-06T17:27:02.904Z"
   },
   {
    "duration": 0,
    "start_time": "2022-07-06T17:27:02.905Z"
   },
   {
    "duration": 0,
    "start_time": "2022-07-06T17:27:02.906Z"
   },
   {
    "duration": 0,
    "start_time": "2022-07-06T17:27:02.907Z"
   },
   {
    "duration": 0,
    "start_time": "2022-07-06T17:27:02.908Z"
   },
   {
    "duration": 0,
    "start_time": "2022-07-06T17:27:02.909Z"
   },
   {
    "duration": 0,
    "start_time": "2022-07-06T17:27:02.910Z"
   },
   {
    "duration": 0,
    "start_time": "2022-07-06T17:27:02.911Z"
   },
   {
    "duration": 0,
    "start_time": "2022-07-06T17:27:02.912Z"
   },
   {
    "duration": 0,
    "start_time": "2022-07-06T17:27:03.018Z"
   },
   {
    "duration": 0,
    "start_time": "2022-07-06T17:27:03.019Z"
   },
   {
    "duration": 0,
    "start_time": "2022-07-06T17:27:03.021Z"
   },
   {
    "duration": 0,
    "start_time": "2022-07-06T17:27:03.022Z"
   },
   {
    "duration": 0,
    "start_time": "2022-07-06T17:27:03.024Z"
   },
   {
    "duration": 1101,
    "start_time": "2022-07-06T17:29:38.873Z"
   },
   {
    "duration": 76,
    "start_time": "2022-07-06T17:29:39.976Z"
   },
   {
    "duration": 32,
    "start_time": "2022-07-06T17:29:40.054Z"
   },
   {
    "duration": 23,
    "start_time": "2022-07-06T17:29:40.101Z"
   },
   {
    "duration": 6,
    "start_time": "2022-07-06T17:29:40.126Z"
   },
   {
    "duration": 18,
    "start_time": "2022-07-06T17:29:40.134Z"
   },
   {
    "duration": 11,
    "start_time": "2022-07-06T17:29:40.154Z"
   },
   {
    "duration": 45,
    "start_time": "2022-07-06T17:29:40.168Z"
   },
   {
    "duration": 11,
    "start_time": "2022-07-06T17:29:40.216Z"
   },
   {
    "duration": 25,
    "start_time": "2022-07-06T17:29:40.230Z"
   },
   {
    "duration": 6,
    "start_time": "2022-07-06T17:29:40.257Z"
   },
   {
    "duration": 144,
    "start_time": "2022-07-06T17:29:40.264Z"
   },
   {
    "duration": 22,
    "start_time": "2022-07-06T17:29:40.410Z"
   },
   {
    "duration": 203,
    "start_time": "2022-07-06T17:29:40.433Z"
   },
   {
    "duration": 12,
    "start_time": "2022-07-06T17:29:40.637Z"
   },
   {
    "duration": 29,
    "start_time": "2022-07-06T17:29:40.651Z"
   },
   {
    "duration": 741,
    "start_time": "2022-07-06T17:29:40.682Z"
   },
   {
    "duration": 490,
    "start_time": "2022-07-06T17:29:41.425Z"
   },
   {
    "duration": 331,
    "start_time": "2022-07-06T17:29:41.917Z"
   },
   {
    "duration": 23,
    "start_time": "2022-07-06T17:29:42.250Z"
   },
   {
    "duration": 7,
    "start_time": "2022-07-06T17:29:42.274Z"
   },
   {
    "duration": 94,
    "start_time": "2022-07-06T17:29:42.283Z"
   },
   {
    "duration": 0,
    "start_time": "2022-07-06T17:29:42.378Z"
   },
   {
    "duration": 0,
    "start_time": "2022-07-06T17:29:42.380Z"
   },
   {
    "duration": 0,
    "start_time": "2022-07-06T17:29:42.381Z"
   },
   {
    "duration": 0,
    "start_time": "2022-07-06T17:29:42.382Z"
   },
   {
    "duration": 0,
    "start_time": "2022-07-06T17:29:42.383Z"
   },
   {
    "duration": 0,
    "start_time": "2022-07-06T17:29:42.383Z"
   },
   {
    "duration": 0,
    "start_time": "2022-07-06T17:29:42.384Z"
   },
   {
    "duration": 0,
    "start_time": "2022-07-06T17:29:42.385Z"
   },
   {
    "duration": 0,
    "start_time": "2022-07-06T17:29:42.386Z"
   },
   {
    "duration": 0,
    "start_time": "2022-07-06T17:29:42.387Z"
   },
   {
    "duration": 0,
    "start_time": "2022-07-06T17:29:42.402Z"
   },
   {
    "duration": 0,
    "start_time": "2022-07-06T17:29:42.403Z"
   },
   {
    "duration": 0,
    "start_time": "2022-07-06T17:29:42.405Z"
   },
   {
    "duration": 0,
    "start_time": "2022-07-06T17:29:42.406Z"
   },
   {
    "duration": 0,
    "start_time": "2022-07-06T17:29:42.407Z"
   },
   {
    "duration": 0,
    "start_time": "2022-07-06T17:29:42.408Z"
   },
   {
    "duration": 0,
    "start_time": "2022-07-06T17:29:42.409Z"
   },
   {
    "duration": 0,
    "start_time": "2022-07-06T17:29:42.412Z"
   },
   {
    "duration": 0,
    "start_time": "2022-07-06T17:29:42.523Z"
   },
   {
    "duration": 0,
    "start_time": "2022-07-06T17:29:42.524Z"
   },
   {
    "duration": 0,
    "start_time": "2022-07-06T17:29:42.525Z"
   },
   {
    "duration": 0,
    "start_time": "2022-07-06T17:29:42.526Z"
   },
   {
    "duration": 12,
    "start_time": "2022-07-06T17:31:00.644Z"
   },
   {
    "duration": 9,
    "start_time": "2022-07-06T17:31:15.284Z"
   },
   {
    "duration": 1065,
    "start_time": "2022-07-06T17:31:21.619Z"
   },
   {
    "duration": 77,
    "start_time": "2022-07-06T17:31:22.686Z"
   },
   {
    "duration": 19,
    "start_time": "2022-07-06T17:31:22.765Z"
   },
   {
    "duration": 25,
    "start_time": "2022-07-06T17:31:22.787Z"
   },
   {
    "duration": 6,
    "start_time": "2022-07-06T17:31:22.813Z"
   },
   {
    "duration": 24,
    "start_time": "2022-07-06T17:31:22.821Z"
   },
   {
    "duration": 9,
    "start_time": "2022-07-06T17:31:22.847Z"
   },
   {
    "duration": 15,
    "start_time": "2022-07-06T17:31:22.858Z"
   },
   {
    "duration": 28,
    "start_time": "2022-07-06T17:31:22.875Z"
   },
   {
    "duration": 17,
    "start_time": "2022-07-06T17:31:22.905Z"
   },
   {
    "duration": 4,
    "start_time": "2022-07-06T17:31:22.923Z"
   },
   {
    "duration": 127,
    "start_time": "2022-07-06T17:31:22.929Z"
   },
   {
    "duration": 20,
    "start_time": "2022-07-06T17:31:23.059Z"
   },
   {
    "duration": 179,
    "start_time": "2022-07-06T17:31:23.081Z"
   },
   {
    "duration": 8,
    "start_time": "2022-07-06T17:31:23.261Z"
   },
   {
    "duration": 38,
    "start_time": "2022-07-06T17:31:23.271Z"
   },
   {
    "duration": 695,
    "start_time": "2022-07-06T17:31:23.310Z"
   },
   {
    "duration": 440,
    "start_time": "2022-07-06T17:31:24.007Z"
   },
   {
    "duration": 324,
    "start_time": "2022-07-06T17:31:24.448Z"
   },
   {
    "duration": 22,
    "start_time": "2022-07-06T17:31:24.774Z"
   },
   {
    "duration": 11,
    "start_time": "2022-07-06T17:31:24.798Z"
   },
   {
    "duration": 107,
    "start_time": "2022-07-06T17:31:24.811Z"
   },
   {
    "duration": 0,
    "start_time": "2022-07-06T17:31:24.920Z"
   },
   {
    "duration": 0,
    "start_time": "2022-07-06T17:31:24.922Z"
   },
   {
    "duration": 0,
    "start_time": "2022-07-06T17:31:24.923Z"
   },
   {
    "duration": 0,
    "start_time": "2022-07-06T17:31:24.924Z"
   },
   {
    "duration": 0,
    "start_time": "2022-07-06T17:31:24.925Z"
   },
   {
    "duration": 0,
    "start_time": "2022-07-06T17:31:24.926Z"
   },
   {
    "duration": 0,
    "start_time": "2022-07-06T17:31:24.927Z"
   },
   {
    "duration": 0,
    "start_time": "2022-07-06T17:31:24.928Z"
   },
   {
    "duration": 0,
    "start_time": "2022-07-06T17:31:24.929Z"
   },
   {
    "duration": 0,
    "start_time": "2022-07-06T17:31:24.929Z"
   },
   {
    "duration": 0,
    "start_time": "2022-07-06T17:31:24.930Z"
   },
   {
    "duration": 0,
    "start_time": "2022-07-06T17:31:24.931Z"
   },
   {
    "duration": 0,
    "start_time": "2022-07-06T17:31:24.932Z"
   },
   {
    "duration": 0,
    "start_time": "2022-07-06T17:31:24.933Z"
   },
   {
    "duration": 0,
    "start_time": "2022-07-06T17:31:24.933Z"
   },
   {
    "duration": 0,
    "start_time": "2022-07-06T17:31:24.934Z"
   },
   {
    "duration": 0,
    "start_time": "2022-07-06T17:31:24.935Z"
   },
   {
    "duration": 0,
    "start_time": "2022-07-06T17:31:25.048Z"
   },
   {
    "duration": 0,
    "start_time": "2022-07-06T17:31:25.050Z"
   },
   {
    "duration": 0,
    "start_time": "2022-07-06T17:31:25.050Z"
   },
   {
    "duration": 0,
    "start_time": "2022-07-06T17:31:25.052Z"
   },
   {
    "duration": 0,
    "start_time": "2022-07-06T17:31:25.053Z"
   },
   {
    "duration": 9,
    "start_time": "2022-07-06T17:33:05.237Z"
   },
   {
    "duration": 18,
    "start_time": "2022-07-06T17:33:15.042Z"
   },
   {
    "duration": 31,
    "start_time": "2022-07-06T17:35:16.415Z"
   },
   {
    "duration": 310,
    "start_time": "2022-07-06T17:35:46.913Z"
   },
   {
    "duration": 10,
    "start_time": "2022-07-06T17:38:02.992Z"
   },
   {
    "duration": 9,
    "start_time": "2022-07-06T17:38:48.090Z"
   },
   {
    "duration": 28,
    "start_time": "2022-07-06T17:39:31.720Z"
   },
   {
    "duration": 9,
    "start_time": "2022-07-06T17:39:40.654Z"
   },
   {
    "duration": 13,
    "start_time": "2022-07-06T17:40:00.742Z"
   },
   {
    "duration": 290,
    "start_time": "2022-07-06T17:40:12.399Z"
   },
   {
    "duration": 29,
    "start_time": "2022-07-06T17:41:37.648Z"
   },
   {
    "duration": 8,
    "start_time": "2022-07-06T17:41:49.844Z"
   },
   {
    "duration": 189,
    "start_time": "2022-07-06T17:49:58.977Z"
   },
   {
    "duration": 129,
    "start_time": "2022-07-06T18:12:06.135Z"
   },
   {
    "duration": 142,
    "start_time": "2022-07-06T18:13:12.291Z"
   },
   {
    "duration": 133,
    "start_time": "2022-07-06T18:13:35.248Z"
   },
   {
    "duration": 115,
    "start_time": "2022-07-06T18:14:37.177Z"
   },
   {
    "duration": 118,
    "start_time": "2022-07-06T18:15:01.027Z"
   },
   {
    "duration": 138,
    "start_time": "2022-07-06T18:15:39.454Z"
   },
   {
    "duration": 194,
    "start_time": "2022-07-06T18:15:43.666Z"
   },
   {
    "duration": 7,
    "start_time": "2022-07-06T18:16:08.335Z"
   },
   {
    "duration": 219,
    "start_time": "2022-07-06T18:16:20.086Z"
   },
   {
    "duration": 14,
    "start_time": "2022-07-06T18:19:46.486Z"
   },
   {
    "duration": 16,
    "start_time": "2022-07-06T18:22:44.827Z"
   },
   {
    "duration": 117,
    "start_time": "2022-07-06T18:22:48.267Z"
   },
   {
    "duration": 133,
    "start_time": "2022-07-06T18:22:53.397Z"
   },
   {
    "duration": 113,
    "start_time": "2022-07-06T18:22:56.820Z"
   },
   {
    "duration": 1279,
    "start_time": "2022-07-06T18:25:26.846Z"
   },
   {
    "duration": 4,
    "start_time": "2022-07-06T18:25:33.195Z"
   },
   {
    "duration": 5,
    "start_time": "2022-07-06T18:27:04.183Z"
   },
   {
    "duration": 5,
    "start_time": "2022-07-06T18:27:21.798Z"
   },
   {
    "duration": 12,
    "start_time": "2022-07-06T18:27:33.621Z"
   },
   {
    "duration": 178,
    "start_time": "2022-07-06T18:27:38.865Z"
   },
   {
    "duration": 7,
    "start_time": "2022-07-06T18:28:37.198Z"
   },
   {
    "duration": 9,
    "start_time": "2022-07-06T18:30:10.269Z"
   },
   {
    "duration": 9,
    "start_time": "2022-07-06T18:34:25.574Z"
   },
   {
    "duration": 3,
    "start_time": "2022-07-06T18:35:06.256Z"
   },
   {
    "duration": 8,
    "start_time": "2022-07-06T18:35:12.357Z"
   },
   {
    "duration": 8,
    "start_time": "2022-07-06T18:35:56.393Z"
   },
   {
    "duration": 9,
    "start_time": "2022-07-06T18:37:53.302Z"
   },
   {
    "duration": 8,
    "start_time": "2022-07-06T18:39:21.194Z"
   },
   {
    "duration": 11,
    "start_time": "2022-07-06T18:40:35.112Z"
   },
   {
    "duration": 8,
    "start_time": "2022-07-06T18:41:50.696Z"
   },
   {
    "duration": 9,
    "start_time": "2022-07-06T18:41:56.077Z"
   },
   {
    "duration": 10,
    "start_time": "2022-07-06T18:44:23.635Z"
   },
   {
    "duration": 19,
    "start_time": "2022-07-06T18:52:37.438Z"
   },
   {
    "duration": 1361,
    "start_time": "2022-07-07T03:27:37.614Z"
   },
   {
    "duration": 116,
    "start_time": "2022-07-07T03:27:38.980Z"
   },
   {
    "duration": 30,
    "start_time": "2022-07-07T03:27:39.098Z"
   },
   {
    "duration": 43,
    "start_time": "2022-07-07T03:27:39.130Z"
   },
   {
    "duration": 5,
    "start_time": "2022-07-07T03:27:39.175Z"
   },
   {
    "duration": 29,
    "start_time": "2022-07-07T03:27:39.182Z"
   },
   {
    "duration": 12,
    "start_time": "2022-07-07T03:27:39.213Z"
   },
   {
    "duration": 21,
    "start_time": "2022-07-07T03:27:39.226Z"
   },
   {
    "duration": 26,
    "start_time": "2022-07-07T03:27:39.249Z"
   },
   {
    "duration": 20,
    "start_time": "2022-07-07T03:27:39.279Z"
   },
   {
    "duration": 5,
    "start_time": "2022-07-07T03:27:39.300Z"
   },
   {
    "duration": 164,
    "start_time": "2022-07-07T03:27:39.307Z"
   },
   {
    "duration": 28,
    "start_time": "2022-07-07T03:27:39.473Z"
   },
   {
    "duration": 224,
    "start_time": "2022-07-07T03:27:39.502Z"
   },
   {
    "duration": 10,
    "start_time": "2022-07-07T03:27:39.728Z"
   },
   {
    "duration": 41,
    "start_time": "2022-07-07T03:27:39.739Z"
   },
   {
    "duration": 865,
    "start_time": "2022-07-07T03:27:39.782Z"
   },
   {
    "duration": 526,
    "start_time": "2022-07-07T03:27:40.648Z"
   },
   {
    "duration": 348,
    "start_time": "2022-07-07T03:27:41.176Z"
   },
   {
    "duration": 21,
    "start_time": "2022-07-07T03:27:41.526Z"
   },
   {
    "duration": 9,
    "start_time": "2022-07-07T03:27:41.549Z"
   },
   {
    "duration": 348,
    "start_time": "2022-07-07T03:27:41.559Z"
   },
   {
    "duration": 329,
    "start_time": "2022-07-07T03:27:41.909Z"
   },
   {
    "duration": 186,
    "start_time": "2022-07-07T03:27:42.240Z"
   },
   {
    "duration": 193,
    "start_time": "2022-07-07T03:27:42.428Z"
   },
   {
    "duration": 159,
    "start_time": "2022-07-07T03:27:42.623Z"
   },
   {
    "duration": 167,
    "start_time": "2022-07-07T03:27:42.784Z"
   },
   {
    "duration": 178,
    "start_time": "2022-07-07T03:27:42.955Z"
   },
   {
    "duration": 142,
    "start_time": "2022-07-07T03:27:43.135Z"
   },
   {
    "duration": 7,
    "start_time": "2022-07-07T03:27:43.279Z"
   },
   {
    "duration": 294,
    "start_time": "2022-07-07T03:27:43.288Z"
   },
   {
    "duration": 17,
    "start_time": "2022-07-07T03:27:43.583Z"
   },
   {
    "duration": 23,
    "start_time": "2022-07-07T03:27:43.601Z"
   },
   {
    "duration": 170,
    "start_time": "2022-07-07T03:27:43.626Z"
   },
   {
    "duration": 141,
    "start_time": "2022-07-07T03:27:43.798Z"
   },
   {
    "duration": 331,
    "start_time": "2022-07-07T03:27:43.941Z"
   },
   {
    "duration": 318,
    "start_time": "2022-07-07T03:27:44.274Z"
   },
   {
    "duration": 11,
    "start_time": "2022-07-07T03:27:44.594Z"
   },
   {
    "duration": 15,
    "start_time": "2022-07-07T03:27:44.607Z"
   },
   {
    "duration": 108,
    "start_time": "2022-07-07T03:38:41.799Z"
   },
   {
    "duration": 252,
    "start_time": "2022-07-07T03:38:50.544Z"
   },
   {
    "duration": 1139,
    "start_time": "2022-07-07T04:07:47.250Z"
   },
   {
    "duration": 91,
    "start_time": "2022-07-07T04:07:48.391Z"
   },
   {
    "duration": 19,
    "start_time": "2022-07-07T04:07:48.484Z"
   },
   {
    "duration": 18,
    "start_time": "2022-07-07T04:07:48.505Z"
   },
   {
    "duration": 5,
    "start_time": "2022-07-07T04:07:48.524Z"
   },
   {
    "duration": 49,
    "start_time": "2022-07-07T04:07:48.530Z"
   },
   {
    "duration": 11,
    "start_time": "2022-07-07T04:07:48.581Z"
   },
   {
    "duration": 18,
    "start_time": "2022-07-07T04:07:48.593Z"
   },
   {
    "duration": 8,
    "start_time": "2022-07-07T04:07:48.612Z"
   },
   {
    "duration": 46,
    "start_time": "2022-07-07T04:07:48.623Z"
   },
   {
    "duration": 6,
    "start_time": "2022-07-07T04:07:48.670Z"
   },
   {
    "duration": 140,
    "start_time": "2022-07-07T04:07:48.678Z"
   },
   {
    "duration": 21,
    "start_time": "2022-07-07T04:07:48.819Z"
   },
   {
    "duration": 212,
    "start_time": "2022-07-07T04:07:48.841Z"
   },
   {
    "duration": 13,
    "start_time": "2022-07-07T04:07:49.060Z"
   },
   {
    "duration": 33,
    "start_time": "2022-07-07T04:07:49.080Z"
   },
   {
    "duration": 804,
    "start_time": "2022-07-07T04:07:49.116Z"
   },
   {
    "duration": 498,
    "start_time": "2022-07-07T04:07:49.922Z"
   },
   {
    "duration": 354,
    "start_time": "2022-07-07T04:07:50.422Z"
   },
   {
    "duration": 22,
    "start_time": "2022-07-07T04:07:50.778Z"
   },
   {
    "duration": 9,
    "start_time": "2022-07-07T04:07:50.801Z"
   },
   {
    "duration": 326,
    "start_time": "2022-07-07T04:07:50.812Z"
   },
   {
    "duration": 307,
    "start_time": "2022-07-07T04:07:51.139Z"
   },
   {
    "duration": 166,
    "start_time": "2022-07-07T04:07:51.448Z"
   },
   {
    "duration": 166,
    "start_time": "2022-07-07T04:07:51.616Z"
   },
   {
    "duration": 134,
    "start_time": "2022-07-07T04:07:51.784Z"
   },
   {
    "duration": 144,
    "start_time": "2022-07-07T04:07:51.920Z"
   },
   {
    "duration": 162,
    "start_time": "2022-07-07T04:07:52.068Z"
   },
   {
    "duration": 145,
    "start_time": "2022-07-07T04:07:52.232Z"
   },
   {
    "duration": 8,
    "start_time": "2022-07-07T04:07:52.379Z"
   },
   {
    "duration": 208,
    "start_time": "2022-07-07T04:07:52.388Z"
   },
   {
    "duration": 292,
    "start_time": "2022-07-07T04:07:52.598Z"
   },
   {
    "duration": 14,
    "start_time": "2022-07-07T04:07:52.892Z"
   },
   {
    "duration": 17,
    "start_time": "2022-07-07T04:07:52.908Z"
   },
   {
    "duration": 159,
    "start_time": "2022-07-07T04:07:52.926Z"
   },
   {
    "duration": 198,
    "start_time": "2022-07-07T04:07:53.087Z"
   },
   {
    "duration": 139,
    "start_time": "2022-07-07T04:07:53.287Z"
   },
   {
    "duration": 210,
    "start_time": "2022-07-07T04:07:53.427Z"
   },
   {
    "duration": 10,
    "start_time": "2022-07-07T04:07:53.639Z"
   },
   {
    "duration": 27,
    "start_time": "2022-07-07T04:07:53.662Z"
   },
   {
    "duration": 1597,
    "start_time": "2022-07-07T15:49:54.259Z"
   },
   {
    "duration": 127,
    "start_time": "2022-07-07T15:49:55.858Z"
   },
   {
    "duration": 63,
    "start_time": "2022-07-07T15:49:55.987Z"
   },
   {
    "duration": 25,
    "start_time": "2022-07-07T15:49:56.053Z"
   },
   {
    "duration": 13,
    "start_time": "2022-07-07T15:49:56.081Z"
   },
   {
    "duration": 53,
    "start_time": "2022-07-07T15:49:56.095Z"
   },
   {
    "duration": 15,
    "start_time": "2022-07-07T15:49:56.151Z"
   },
   {
    "duration": 19,
    "start_time": "2022-07-07T15:49:56.168Z"
   },
   {
    "duration": 11,
    "start_time": "2022-07-07T15:49:56.190Z"
   },
   {
    "duration": 27,
    "start_time": "2022-07-07T15:49:56.203Z"
   },
   {
    "duration": 6,
    "start_time": "2022-07-07T15:49:56.232Z"
   },
   {
    "duration": 207,
    "start_time": "2022-07-07T15:49:56.240Z"
   },
   {
    "duration": 32,
    "start_time": "2022-07-07T15:49:56.449Z"
   },
   {
    "duration": 279,
    "start_time": "2022-07-07T15:49:56.483Z"
   },
   {
    "duration": 10,
    "start_time": "2022-07-07T15:49:56.764Z"
   },
   {
    "duration": 49,
    "start_time": "2022-07-07T15:49:56.776Z"
   },
   {
    "duration": 1066,
    "start_time": "2022-07-07T15:49:56.827Z"
   },
   {
    "duration": 754,
    "start_time": "2022-07-07T15:49:57.895Z"
   },
   {
    "duration": 537,
    "start_time": "2022-07-07T15:49:58.651Z"
   },
   {
    "duration": 40,
    "start_time": "2022-07-07T15:49:59.191Z"
   },
   {
    "duration": 27,
    "start_time": "2022-07-07T15:49:59.233Z"
   },
   {
    "duration": 477,
    "start_time": "2022-07-07T15:49:59.263Z"
   },
   {
    "duration": 414,
    "start_time": "2022-07-07T15:49:59.748Z"
   },
   {
    "duration": 259,
    "start_time": "2022-07-07T15:50:00.165Z"
   },
   {
    "duration": 242,
    "start_time": "2022-07-07T15:50:00.427Z"
   },
   {
    "duration": 221,
    "start_time": "2022-07-07T15:50:00.672Z"
   },
   {
    "duration": 224,
    "start_time": "2022-07-07T15:50:00.895Z"
   },
   {
    "duration": 283,
    "start_time": "2022-07-07T15:50:01.125Z"
   },
   {
    "duration": 212,
    "start_time": "2022-07-07T15:50:01.411Z"
   },
   {
    "duration": 10,
    "start_time": "2022-07-07T15:50:01.625Z"
   },
   {
    "duration": 358,
    "start_time": "2022-07-07T15:50:01.637Z"
   },
   {
    "duration": 266,
    "start_time": "2022-07-07T15:50:01.998Z"
   },
   {
    "duration": 19,
    "start_time": "2022-07-07T15:50:02.267Z"
   },
   {
    "duration": 41,
    "start_time": "2022-07-07T15:50:02.288Z"
   },
   {
    "duration": 228,
    "start_time": "2022-07-07T15:50:02.331Z"
   },
   {
    "duration": 330,
    "start_time": "2022-07-07T15:50:02.561Z"
   },
   {
    "duration": 218,
    "start_time": "2022-07-07T15:50:02.894Z"
   },
   {
    "duration": 278,
    "start_time": "2022-07-07T15:50:03.115Z"
   },
   {
    "duration": 13,
    "start_time": "2022-07-07T15:50:03.395Z"
   },
   {
    "duration": 27,
    "start_time": "2022-07-07T15:50:03.410Z"
   },
   {
    "duration": 4,
    "start_time": "2022-07-07T15:58:15.627Z"
   },
   {
    "duration": 108,
    "start_time": "2022-07-07T15:58:15.634Z"
   },
   {
    "duration": 27,
    "start_time": "2022-07-07T15:58:15.744Z"
   },
   {
    "duration": 22,
    "start_time": "2022-07-07T15:58:15.774Z"
   },
   {
    "duration": 20,
    "start_time": "2022-07-07T15:58:15.826Z"
   },
   {
    "duration": 24,
    "start_time": "2022-07-07T15:58:15.849Z"
   },
   {
    "duration": 15,
    "start_time": "2022-07-07T15:58:15.875Z"
   },
   {
    "duration": 31,
    "start_time": "2022-07-07T15:58:15.893Z"
   },
   {
    "duration": 11,
    "start_time": "2022-07-07T15:58:15.926Z"
   },
   {
    "duration": 36,
    "start_time": "2022-07-07T15:58:15.940Z"
   },
   {
    "duration": 6,
    "start_time": "2022-07-07T15:58:15.979Z"
   },
   {
    "duration": 184,
    "start_time": "2022-07-07T15:58:15.987Z"
   },
   {
    "duration": 30,
    "start_time": "2022-07-07T15:58:16.176Z"
   },
   {
    "duration": 274,
    "start_time": "2022-07-07T15:58:16.208Z"
   },
   {
    "duration": 221,
    "start_time": "2022-07-07T15:58:16.484Z"
   },
   {
    "duration": 223,
    "start_time": "2022-07-07T15:58:21.588Z"
   },
   {
    "duration": 243,
    "start_time": "2022-07-07T15:58:24.469Z"
   },
   {
    "duration": 226,
    "start_time": "2022-07-07T15:58:27.865Z"
   },
   {
    "duration": 7,
    "start_time": "2022-07-07T15:58:52.096Z"
   },
   {
    "duration": 1432,
    "start_time": "2022-07-07T16:08:46.801Z"
   },
   {
    "duration": 466,
    "start_time": "2022-07-07T16:08:50.883Z"
   },
   {
    "duration": 93,
    "start_time": "2022-07-08T02:51:08.752Z"
   },
   {
    "duration": 49,
    "start_time": "2022-07-08T02:53:58.985Z"
   },
   {
    "duration": 1374,
    "start_time": "2022-07-08T02:54:08.990Z"
   },
   {
    "duration": 107,
    "start_time": "2022-07-08T02:54:11.122Z"
   },
   {
    "duration": 22,
    "start_time": "2022-07-08T02:54:16.279Z"
   },
   {
    "duration": 16,
    "start_time": "2022-07-08T02:54:19.420Z"
   },
   {
    "duration": 67,
    "start_time": "2022-07-08T02:54:20.682Z"
   },
   {
    "duration": 114,
    "start_time": "2022-07-08T02:55:00.648Z"
   },
   {
    "duration": 11,
    "start_time": "2022-07-08T02:56:12.817Z"
   },
   {
    "duration": 62,
    "start_time": "2022-07-08T02:56:39.581Z"
   },
   {
    "duration": 50,
    "start_time": "2022-07-08T02:56:51.428Z"
   },
   {
    "duration": 12,
    "start_time": "2022-07-08T02:58:09.193Z"
   },
   {
    "duration": 18,
    "start_time": "2022-07-08T02:58:43.201Z"
   },
   {
    "duration": 9,
    "start_time": "2022-07-08T03:02:13.225Z"
   },
   {
    "duration": 10,
    "start_time": "2022-07-08T03:02:40.335Z"
   },
   {
    "duration": 12,
    "start_time": "2022-07-08T03:12:31.815Z"
   },
   {
    "duration": 15,
    "start_time": "2022-07-08T03:13:11.062Z"
   },
   {
    "duration": 12,
    "start_time": "2022-07-08T03:13:50.681Z"
   },
   {
    "duration": 11,
    "start_time": "2022-07-08T03:13:55.385Z"
   },
   {
    "duration": 12,
    "start_time": "2022-07-08T03:14:04.754Z"
   },
   {
    "duration": 9,
    "start_time": "2022-07-08T03:14:52.512Z"
   },
   {
    "duration": 9,
    "start_time": "2022-07-08T03:14:56.530Z"
   },
   {
    "duration": 13,
    "start_time": "2022-07-08T03:15:01.800Z"
   },
   {
    "duration": 17,
    "start_time": "2022-07-08T03:15:06.247Z"
   },
   {
    "duration": 6,
    "start_time": "2022-07-08T03:19:21.516Z"
   },
   {
    "duration": 11,
    "start_time": "2022-07-08T03:19:51.357Z"
   },
   {
    "duration": 21,
    "start_time": "2022-07-08T03:20:16.086Z"
   },
   {
    "duration": 11,
    "start_time": "2022-07-08T03:20:18.115Z"
   },
   {
    "duration": 15,
    "start_time": "2022-07-08T03:20:20.148Z"
   },
   {
    "duration": 12,
    "start_time": "2022-07-08T03:20:20.975Z"
   },
   {
    "duration": 29,
    "start_time": "2022-07-08T03:20:25.766Z"
   },
   {
    "duration": 15,
    "start_time": "2022-07-08T03:20:28.209Z"
   },
   {
    "duration": 6,
    "start_time": "2022-07-08T03:20:32.876Z"
   },
   {
    "duration": 11,
    "start_time": "2022-07-08T03:20:40.340Z"
   },
   {
    "duration": 1163,
    "start_time": "2022-07-08T12:04:45.708Z"
   },
   {
    "duration": 3,
    "start_time": "2022-07-08T12:04:46.921Z"
   },
   {
    "duration": 79,
    "start_time": "2022-07-08T12:04:46.928Z"
   },
   {
    "duration": 55,
    "start_time": "2022-07-08T12:04:47.010Z"
   },
   {
    "duration": 18,
    "start_time": "2022-07-08T12:04:47.067Z"
   },
   {
    "duration": 10,
    "start_time": "2022-07-08T12:04:47.087Z"
   },
   {
    "duration": 15,
    "start_time": "2022-07-08T12:04:47.099Z"
   },
   {
    "duration": 6,
    "start_time": "2022-07-08T12:04:47.115Z"
   },
   {
    "duration": 23,
    "start_time": "2022-07-08T12:04:47.160Z"
   },
   {
    "duration": 12,
    "start_time": "2022-07-08T12:04:47.185Z"
   },
   {
    "duration": 17,
    "start_time": "2022-07-08T12:04:47.199Z"
   },
   {
    "duration": 13,
    "start_time": "2022-07-08T12:04:47.219Z"
   },
   {
    "duration": 29,
    "start_time": "2022-07-08T12:04:47.262Z"
   },
   {
    "duration": 21,
    "start_time": "2022-07-08T12:04:47.293Z"
   },
   {
    "duration": 6,
    "start_time": "2022-07-08T12:04:47.316Z"
   },
   {
    "duration": 38,
    "start_time": "2022-07-08T12:04:47.324Z"
   },
   {
    "duration": 25,
    "start_time": "2022-07-08T12:04:47.364Z"
   },
   {
    "duration": 298835,
    "start_time": "2022-07-08T12:04:47.390Z"
   },
   {
    "duration": 13,
    "start_time": "2022-07-08T12:09:46.227Z"
   },
   {
    "duration": 30,
    "start_time": "2022-07-08T12:09:46.243Z"
   },
   {
    "duration": 953,
    "start_time": "2022-07-08T12:09:46.275Z"
   },
   {
    "duration": 513,
    "start_time": "2022-07-08T12:09:47.231Z"
   },
   {
    "duration": 364,
    "start_time": "2022-07-08T12:09:47.747Z"
   },
   {
    "duration": 24,
    "start_time": "2022-07-08T12:09:48.113Z"
   },
   {
    "duration": 24,
    "start_time": "2022-07-08T12:09:48.139Z"
   },
   {
    "duration": 328,
    "start_time": "2022-07-08T12:09:48.165Z"
   },
   {
    "duration": 239,
    "start_time": "2022-07-08T12:09:48.495Z"
   },
   {
    "duration": 241,
    "start_time": "2022-07-08T12:09:48.737Z"
   },
   {
    "duration": 198,
    "start_time": "2022-07-08T12:09:48.980Z"
   },
   {
    "duration": 165,
    "start_time": "2022-07-08T12:09:49.191Z"
   },
   {
    "duration": 161,
    "start_time": "2022-07-08T12:09:49.357Z"
   },
   {
    "duration": 186,
    "start_time": "2022-07-08T12:09:49.521Z"
   },
   {
    "duration": 153,
    "start_time": "2022-07-08T12:09:49.709Z"
   },
   {
    "duration": 7,
    "start_time": "2022-07-08T12:09:49.865Z"
   },
   {
    "duration": 217,
    "start_time": "2022-07-08T12:09:49.874Z"
   },
   {
    "duration": 203,
    "start_time": "2022-07-08T12:09:50.093Z"
   },
   {
    "duration": 16,
    "start_time": "2022-07-08T12:09:50.298Z"
   },
   {
    "duration": 62,
    "start_time": "2022-07-08T12:09:50.316Z"
   },
   {
    "duration": 158,
    "start_time": "2022-07-08T12:09:50.380Z"
   },
   {
    "duration": 129,
    "start_time": "2022-07-08T12:09:50.539Z"
   },
   {
    "duration": 163,
    "start_time": "2022-07-08T12:09:50.670Z"
   },
   {
    "duration": 113,
    "start_time": "2022-07-08T12:09:50.836Z"
   },
   {
    "duration": 0,
    "start_time": "2022-07-08T12:09:50.951Z"
   },
   {
    "duration": 0,
    "start_time": "2022-07-08T12:09:50.952Z"
   },
   {
    "duration": 14,
    "start_time": "2022-07-08T12:16:36.875Z"
   },
   {
    "duration": 9,
    "start_time": "2022-07-08T12:16:59.418Z"
   },
   {
    "duration": 8,
    "start_time": "2022-07-08T12:17:57.416Z"
   },
   {
    "duration": 8,
    "start_time": "2022-07-08T12:18:08.382Z"
   },
   {
    "duration": 6,
    "start_time": "2022-07-08T12:18:23.740Z"
   },
   {
    "duration": 16,
    "start_time": "2022-07-08T12:18:33.741Z"
   },
   {
    "duration": 12,
    "start_time": "2022-07-08T12:21:55.105Z"
   },
   {
    "duration": 194,
    "start_time": "2022-07-08T12:22:02.592Z"
   },
   {
    "duration": 192,
    "start_time": "2022-07-08T12:22:10.993Z"
   },
   {
    "duration": 193,
    "start_time": "2022-07-08T12:22:16.840Z"
   },
   {
    "duration": 210,
    "start_time": "2022-07-08T12:22:20.492Z"
   },
   {
    "duration": 177,
    "start_time": "2022-07-08T12:22:31.403Z"
   },
   {
    "duration": 367,
    "start_time": "2022-07-08T12:22:54.374Z"
   },
   {
    "duration": 201,
    "start_time": "2022-07-08T12:26:34.774Z"
   },
   {
    "duration": 217,
    "start_time": "2022-07-08T12:27:12.098Z"
   },
   {
    "duration": 200,
    "start_time": "2022-07-08T12:27:52.541Z"
   },
   {
    "duration": 192,
    "start_time": "2022-07-08T12:28:02.753Z"
   },
   {
    "duration": 10,
    "start_time": "2022-07-08T12:34:39.421Z"
   },
   {
    "duration": 26,
    "start_time": "2022-07-08T12:34:48.777Z"
   },
   {
    "duration": 22,
    "start_time": "2022-07-08T12:37:05.676Z"
   },
   {
    "duration": 22,
    "start_time": "2022-07-08T12:37:17.516Z"
   },
   {
    "duration": 23,
    "start_time": "2022-07-08T12:37:45.849Z"
   },
   {
    "duration": 9,
    "start_time": "2022-07-08T12:40:20.576Z"
   },
   {
    "duration": 29,
    "start_time": "2022-07-08T12:40:37.661Z"
   },
   {
    "duration": 33,
    "start_time": "2022-07-08T12:40:53.573Z"
   },
   {
    "duration": 11,
    "start_time": "2022-07-08T12:43:04.769Z"
   },
   {
    "duration": 1253,
    "start_time": "2022-07-08T12:43:37.998Z"
   },
   {
    "duration": 76,
    "start_time": "2022-07-08T12:43:39.253Z"
   },
   {
    "duration": 32,
    "start_time": "2022-07-08T12:43:39.331Z"
   },
   {
    "duration": 19,
    "start_time": "2022-07-08T12:43:39.365Z"
   },
   {
    "duration": 8,
    "start_time": "2022-07-08T12:43:39.386Z"
   },
   {
    "duration": 16,
    "start_time": "2022-07-08T12:43:39.396Z"
   },
   {
    "duration": 7,
    "start_time": "2022-07-08T12:43:39.414Z"
   },
   {
    "duration": 51,
    "start_time": "2022-07-08T12:43:39.423Z"
   },
   {
    "duration": 10,
    "start_time": "2022-07-08T12:43:39.475Z"
   },
   {
    "duration": 12,
    "start_time": "2022-07-08T12:43:39.489Z"
   },
   {
    "duration": 12,
    "start_time": "2022-07-08T12:43:39.502Z"
   },
   {
    "duration": 57,
    "start_time": "2022-07-08T12:43:39.516Z"
   },
   {
    "duration": 13,
    "start_time": "2022-07-08T12:43:39.575Z"
   },
   {
    "duration": 5,
    "start_time": "2022-07-08T12:43:39.589Z"
   },
   {
    "duration": 15,
    "start_time": "2022-07-08T12:43:39.596Z"
   },
   {
    "duration": 23,
    "start_time": "2022-07-08T12:43:39.612Z"
   },
   {
    "duration": 13,
    "start_time": "2022-07-08T12:43:39.661Z"
   },
   {
    "duration": 11,
    "start_time": "2022-07-08T12:43:39.676Z"
   },
   {
    "duration": 387,
    "start_time": "2022-07-08T12:43:39.689Z"
   },
   {
    "duration": 221,
    "start_time": "2022-07-08T12:43:40.078Z"
   },
   {
    "duration": 10,
    "start_time": "2022-07-08T12:43:40.301Z"
   },
   {
    "duration": 31,
    "start_time": "2022-07-08T12:43:40.313Z"
   },
   {
    "duration": 945,
    "start_time": "2022-07-08T12:43:40.360Z"
   },
   {
    "duration": 1065,
    "start_time": "2022-07-08T12:43:41.308Z"
   },
   {
    "duration": 87,
    "start_time": "2022-07-08T12:43:42.376Z"
   },
   {
    "duration": 35,
    "start_time": "2022-07-08T12:43:42.465Z"
   },
   {
    "duration": 286,
    "start_time": "2022-07-08T12:43:42.502Z"
   },
   {
    "duration": 970,
    "start_time": "2022-07-08T12:43:42.793Z"
   },
   {
    "duration": 246,
    "start_time": "2022-07-08T12:43:43.765Z"
   },
   {
    "duration": 173,
    "start_time": "2022-07-08T12:43:44.013Z"
   },
   {
    "duration": 224,
    "start_time": "2022-07-08T12:43:44.188Z"
   },
   {
    "duration": 161,
    "start_time": "2022-07-08T12:43:44.414Z"
   },
   {
    "duration": 166,
    "start_time": "2022-07-08T12:43:44.578Z"
   },
   {
    "duration": 209,
    "start_time": "2022-07-08T12:43:44.747Z"
   },
   {
    "duration": 205,
    "start_time": "2022-07-08T12:43:44.958Z"
   },
   {
    "duration": 10,
    "start_time": "2022-07-08T12:43:45.165Z"
   },
   {
    "duration": 239,
    "start_time": "2022-07-08T12:43:45.177Z"
   },
   {
    "duration": 271,
    "start_time": "2022-07-08T12:43:45.418Z"
   },
   {
    "duration": 22,
    "start_time": "2022-07-08T12:43:45.692Z"
   },
   {
    "duration": 152,
    "start_time": "2022-07-08T12:43:45.716Z"
   },
   {
    "duration": 176,
    "start_time": "2022-07-08T12:43:45.870Z"
   },
   {
    "duration": 198,
    "start_time": "2022-07-08T12:43:46.048Z"
   },
   {
    "duration": 206,
    "start_time": "2022-07-08T12:43:46.249Z"
   },
   {
    "duration": 126,
    "start_time": "2022-07-08T12:43:46.456Z"
   },
   {
    "duration": 0,
    "start_time": "2022-07-08T12:43:46.585Z"
   },
   {
    "duration": 0,
    "start_time": "2022-07-08T12:43:46.591Z"
   },
   {
    "duration": 19,
    "start_time": "2022-07-08T12:43:58.159Z"
   },
   {
    "duration": 37,
    "start_time": "2022-07-08T12:48:46.809Z"
   },
   {
    "duration": 31,
    "start_time": "2022-07-08T12:49:16.651Z"
   },
   {
    "duration": 10,
    "start_time": "2022-07-08T12:50:27.666Z"
   },
   {
    "duration": 35,
    "start_time": "2022-07-08T12:52:31.569Z"
   },
   {
    "duration": 24,
    "start_time": "2022-07-08T12:53:09.236Z"
   },
   {
    "duration": 36,
    "start_time": "2022-07-08T12:54:18.697Z"
   },
   {
    "duration": 16,
    "start_time": "2022-07-08T12:56:27.855Z"
   },
   {
    "duration": 16,
    "start_time": "2022-07-08T12:56:55.835Z"
   },
   {
    "duration": 46,
    "start_time": "2022-07-08T14:20:25.041Z"
   },
   {
    "duration": 64,
    "start_time": "2022-07-08T14:20:34.421Z"
   },
   {
    "duration": 9,
    "start_time": "2022-07-08T14:20:45.634Z"
   },
   {
    "duration": 4,
    "start_time": "2022-07-08T14:27:14.365Z"
   },
   {
    "duration": 12,
    "start_time": "2022-07-08T14:27:18.778Z"
   },
   {
    "duration": 444,
    "start_time": "2022-07-08T14:29:22.424Z"
   },
   {
    "duration": 1260,
    "start_time": "2022-07-08T14:30:54.135Z"
   },
   {
    "duration": 78,
    "start_time": "2022-07-08T14:30:55.397Z"
   },
   {
    "duration": 21,
    "start_time": "2022-07-08T14:30:55.477Z"
   },
   {
    "duration": 24,
    "start_time": "2022-07-08T14:30:55.500Z"
   },
   {
    "duration": 35,
    "start_time": "2022-07-08T14:30:55.526Z"
   },
   {
    "duration": 16,
    "start_time": "2022-07-08T14:30:55.563Z"
   },
   {
    "duration": 5,
    "start_time": "2022-07-08T14:30:55.581Z"
   },
   {
    "duration": 21,
    "start_time": "2022-07-08T14:30:55.588Z"
   },
   {
    "duration": 11,
    "start_time": "2022-07-08T14:30:55.611Z"
   },
   {
    "duration": 14,
    "start_time": "2022-07-08T14:30:55.662Z"
   },
   {
    "duration": 9,
    "start_time": "2022-07-08T14:30:55.677Z"
   },
   {
    "duration": 21,
    "start_time": "2022-07-08T14:30:55.688Z"
   },
   {
    "duration": 12,
    "start_time": "2022-07-08T14:30:55.711Z"
   },
   {
    "duration": 36,
    "start_time": "2022-07-08T14:30:55.727Z"
   },
   {
    "duration": 17,
    "start_time": "2022-07-08T14:30:55.765Z"
   },
   {
    "duration": 25,
    "start_time": "2022-07-08T14:30:55.784Z"
   },
   {
    "duration": 18,
    "start_time": "2022-07-08T14:30:55.810Z"
   },
   {
    "duration": 4,
    "start_time": "2022-07-08T14:30:55.861Z"
   },
   {
    "duration": 17,
    "start_time": "2022-07-08T14:30:55.867Z"
   },
   {
    "duration": 424,
    "start_time": "2022-07-08T14:30:55.885Z"
   },
   {
    "duration": 274,
    "start_time": "2022-07-08T14:30:56.312Z"
   },
   {
    "duration": 11,
    "start_time": "2022-07-08T14:30:56.589Z"
   },
   {
    "duration": 32,
    "start_time": "2022-07-08T14:30:56.601Z"
   },
   {
    "duration": 771,
    "start_time": "2022-07-08T14:30:56.635Z"
   },
   {
    "duration": 496,
    "start_time": "2022-07-08T14:30:57.408Z"
   },
   {
    "duration": 454,
    "start_time": "2022-07-08T14:30:57.906Z"
   },
   {
    "duration": 26,
    "start_time": "2022-07-08T14:30:58.362Z"
   },
   {
    "duration": 11,
    "start_time": "2022-07-08T14:30:58.390Z"
   },
   {
    "duration": 378,
    "start_time": "2022-07-08T14:30:58.403Z"
   },
   {
    "duration": 230,
    "start_time": "2022-07-08T14:30:58.782Z"
   },
   {
    "duration": 178,
    "start_time": "2022-07-08T14:30:59.014Z"
   },
   {
    "duration": 175,
    "start_time": "2022-07-08T14:30:59.195Z"
   },
   {
    "duration": 155,
    "start_time": "2022-07-08T14:30:59.372Z"
   },
   {
    "duration": 160,
    "start_time": "2022-07-08T14:30:59.529Z"
   },
   {
    "duration": 169,
    "start_time": "2022-07-08T14:30:59.691Z"
   },
   {
    "duration": 142,
    "start_time": "2022-07-08T14:30:59.863Z"
   },
   {
    "duration": 7,
    "start_time": "2022-07-08T14:31:00.007Z"
   },
   {
    "duration": 283,
    "start_time": "2022-07-08T14:31:00.016Z"
   },
   {
    "duration": 297,
    "start_time": "2022-07-08T14:31:00.302Z"
   },
   {
    "duration": 69,
    "start_time": "2022-07-08T14:31:00.601Z"
   },
   {
    "duration": 20,
    "start_time": "2022-07-08T14:31:00.674Z"
   },
   {
    "duration": 172,
    "start_time": "2022-07-08T14:31:00.696Z"
   },
   {
    "duration": 134,
    "start_time": "2022-07-08T14:31:00.870Z"
   },
   {
    "duration": 140,
    "start_time": "2022-07-08T14:31:01.007Z"
   },
   {
    "duration": 125,
    "start_time": "2022-07-08T14:31:01.149Z"
   },
   {
    "duration": 0,
    "start_time": "2022-07-08T14:31:01.275Z"
   },
   {
    "duration": 0,
    "start_time": "2022-07-08T14:31:01.277Z"
   },
   {
    "duration": 1156,
    "start_time": "2022-07-08T14:34:16.456Z"
   },
   {
    "duration": 78,
    "start_time": "2022-07-08T14:34:17.613Z"
   },
   {
    "duration": 20,
    "start_time": "2022-07-08T14:34:17.693Z"
   },
   {
    "duration": 41,
    "start_time": "2022-07-08T14:34:17.716Z"
   },
   {
    "duration": 12,
    "start_time": "2022-07-08T14:34:17.759Z"
   },
   {
    "duration": 23,
    "start_time": "2022-07-08T14:34:17.773Z"
   },
   {
    "duration": 7,
    "start_time": "2022-07-08T14:34:17.798Z"
   },
   {
    "duration": 31,
    "start_time": "2022-07-08T14:34:17.807Z"
   },
   {
    "duration": 14,
    "start_time": "2022-07-08T14:34:17.861Z"
   },
   {
    "duration": 12,
    "start_time": "2022-07-08T14:34:17.879Z"
   },
   {
    "duration": 10,
    "start_time": "2022-07-08T14:34:17.893Z"
   },
   {
    "duration": 21,
    "start_time": "2022-07-08T14:34:17.904Z"
   },
   {
    "duration": 51,
    "start_time": "2022-07-08T14:34:17.926Z"
   },
   {
    "duration": 7,
    "start_time": "2022-07-08T14:34:17.979Z"
   },
   {
    "duration": 14,
    "start_time": "2022-07-08T14:34:17.988Z"
   },
   {
    "duration": 32,
    "start_time": "2022-07-08T14:34:18.003Z"
   },
   {
    "duration": 42,
    "start_time": "2022-07-08T14:34:18.036Z"
   },
   {
    "duration": 3,
    "start_time": "2022-07-08T14:34:18.080Z"
   },
   {
    "duration": 13,
    "start_time": "2022-07-08T14:34:18.085Z"
   },
   {
    "duration": 373,
    "start_time": "2022-07-08T14:34:18.100Z"
   },
   {
    "duration": 198,
    "start_time": "2022-07-08T14:34:18.475Z"
   },
   {
    "duration": 12,
    "start_time": "2022-07-08T14:34:18.674Z"
   },
   {
    "duration": 42,
    "start_time": "2022-07-08T14:34:18.688Z"
   },
   {
    "duration": 842,
    "start_time": "2022-07-08T14:34:18.732Z"
   },
   {
    "duration": 532,
    "start_time": "2022-07-08T14:34:19.576Z"
   },
   {
    "duration": 450,
    "start_time": "2022-07-08T14:34:20.110Z"
   },
   {
    "duration": 33,
    "start_time": "2022-07-08T14:34:20.562Z"
   },
   {
    "duration": 10,
    "start_time": "2022-07-08T14:34:20.599Z"
   },
   {
    "duration": 346,
    "start_time": "2022-07-08T14:34:20.610Z"
   },
   {
    "duration": 220,
    "start_time": "2022-07-08T14:34:20.959Z"
   },
   {
    "duration": 168,
    "start_time": "2022-07-08T14:34:21.181Z"
   },
   {
    "duration": 164,
    "start_time": "2022-07-08T14:34:21.351Z"
   },
   {
    "duration": 145,
    "start_time": "2022-07-08T14:34:21.517Z"
   },
   {
    "duration": 150,
    "start_time": "2022-07-08T14:34:21.664Z"
   },
   {
    "duration": 169,
    "start_time": "2022-07-08T14:34:21.817Z"
   },
   {
    "duration": 195,
    "start_time": "2022-07-08T14:34:21.988Z"
   },
   {
    "duration": 7,
    "start_time": "2022-07-08T14:34:22.185Z"
   },
   {
    "duration": 367,
    "start_time": "2022-07-08T14:34:22.194Z"
   },
   {
    "duration": 639,
    "start_time": "2022-07-08T14:34:22.563Z"
   },
   {
    "duration": 69,
    "start_time": "2022-07-08T14:34:23.207Z"
   },
   {
    "duration": 20,
    "start_time": "2022-07-08T14:34:23.278Z"
   },
   {
    "duration": 289,
    "start_time": "2022-07-08T14:34:23.299Z"
   },
   {
    "duration": 298,
    "start_time": "2022-07-08T14:34:23.591Z"
   },
   {
    "duration": 284,
    "start_time": "2022-07-08T14:34:23.890Z"
   },
   {
    "duration": 145,
    "start_time": "2022-07-08T14:34:24.176Z"
   },
   {
    "duration": 0,
    "start_time": "2022-07-08T14:34:24.323Z"
   },
   {
    "duration": 0,
    "start_time": "2022-07-08T14:34:24.324Z"
   },
   {
    "duration": 34,
    "start_time": "2022-07-08T14:34:54.573Z"
   },
   {
    "duration": 11,
    "start_time": "2022-07-08T14:35:04.311Z"
   },
   {
    "duration": 417,
    "start_time": "2022-07-08T14:35:15.278Z"
   },
   {
    "duration": 25,
    "start_time": "2022-07-08T14:35:28.745Z"
   },
   {
    "duration": 14,
    "start_time": "2022-07-08T14:35:54.671Z"
   },
   {
    "duration": 308,
    "start_time": "2022-07-08T14:35:57.608Z"
   },
   {
    "duration": 34,
    "start_time": "2022-07-08T14:36:24.056Z"
   },
   {
    "duration": 11,
    "start_time": "2022-07-08T14:36:30.838Z"
   },
   {
    "duration": 343,
    "start_time": "2022-07-08T14:36:32.765Z"
   },
   {
    "duration": 335,
    "start_time": "2022-07-08T14:37:14.347Z"
   },
   {
    "duration": 329,
    "start_time": "2022-07-08T14:37:20.561Z"
   },
   {
    "duration": 462,
    "start_time": "2022-07-08T14:37:27.151Z"
   },
   {
    "duration": 330,
    "start_time": "2022-07-08T14:37:31.095Z"
   },
   {
    "duration": 340,
    "start_time": "2022-07-08T14:37:34.759Z"
   },
   {
    "duration": 340,
    "start_time": "2022-07-08T14:37:38.801Z"
   },
   {
    "duration": 10,
    "start_time": "2022-07-08T14:37:59.280Z"
   },
   {
    "duration": 355,
    "start_time": "2022-07-08T14:38:29.448Z"
   },
   {
    "duration": 415,
    "start_time": "2022-07-08T14:39:31.722Z"
   },
   {
    "duration": 36,
    "start_time": "2022-07-08T14:41:47.242Z"
   },
   {
    "duration": 18,
    "start_time": "2022-07-08T14:41:50.058Z"
   },
   {
    "duration": 324,
    "start_time": "2022-07-08T14:41:52.394Z"
   },
   {
    "duration": 336,
    "start_time": "2022-07-08T14:42:08.905Z"
   },
   {
    "duration": 331,
    "start_time": "2022-07-08T14:42:57.988Z"
   },
   {
    "duration": 218,
    "start_time": "2022-07-08T14:47:00.793Z"
   },
   {
    "duration": 244,
    "start_time": "2022-07-08T14:47:44.377Z"
   },
   {
    "duration": 6,
    "start_time": "2022-07-08T14:52:36.661Z"
   },
   {
    "duration": 7,
    "start_time": "2022-07-08T14:52:49.983Z"
   },
   {
    "duration": 8,
    "start_time": "2022-07-08T14:53:04.450Z"
   },
   {
    "duration": 9,
    "start_time": "2022-07-08T14:54:18.644Z"
   },
   {
    "duration": 7,
    "start_time": "2022-07-08T14:54:42.536Z"
   },
   {
    "duration": 10,
    "start_time": "2022-07-08T14:55:31.812Z"
   },
   {
    "duration": 12,
    "start_time": "2022-07-08T14:56:03.909Z"
   },
   {
    "duration": 10,
    "start_time": "2022-07-08T14:56:11.588Z"
   },
   {
    "duration": 255,
    "start_time": "2022-07-08T14:58:11.446Z"
   },
   {
    "duration": 359,
    "start_time": "2022-07-08T14:58:37.272Z"
   },
   {
    "duration": 244,
    "start_time": "2022-07-08T14:58:41.336Z"
   },
   {
    "duration": 235,
    "start_time": "2022-07-08T14:59:21.378Z"
   },
   {
    "duration": 231,
    "start_time": "2022-07-08T14:59:29.620Z"
   },
   {
    "duration": 9,
    "start_time": "2022-07-08T14:59:48.311Z"
   },
   {
    "duration": 156,
    "start_time": "2022-07-08T15:06:59.371Z"
   },
   {
    "duration": 244,
    "start_time": "2022-07-08T15:07:03.121Z"
   },
   {
    "duration": 226,
    "start_time": "2022-07-08T15:08:14.054Z"
   },
   {
    "duration": 161,
    "start_time": "2022-07-08T15:08:29.083Z"
   },
   {
    "duration": 175,
    "start_time": "2022-07-08T15:09:29.233Z"
   },
   {
    "duration": 156,
    "start_time": "2022-07-08T15:09:37.040Z"
   },
   {
    "duration": 201,
    "start_time": "2022-07-08T15:12:55.493Z"
   },
   {
    "duration": 227,
    "start_time": "2022-07-08T15:13:19.336Z"
   },
   {
    "duration": 213,
    "start_time": "2022-07-08T15:14:18.380Z"
   },
   {
    "duration": 379,
    "start_time": "2022-07-08T15:19:57.639Z"
   },
   {
    "duration": 287,
    "start_time": "2022-07-08T15:21:02.637Z"
   },
   {
    "duration": 1319,
    "start_time": "2022-07-08T15:21:38.665Z"
   },
   {
    "duration": 77,
    "start_time": "2022-07-08T15:21:39.986Z"
   },
   {
    "duration": 24,
    "start_time": "2022-07-08T15:21:40.066Z"
   },
   {
    "duration": 17,
    "start_time": "2022-07-08T15:21:40.093Z"
   },
   {
    "duration": 9,
    "start_time": "2022-07-08T15:21:40.112Z"
   },
   {
    "duration": 37,
    "start_time": "2022-07-08T15:21:40.123Z"
   },
   {
    "duration": 6,
    "start_time": "2022-07-08T15:21:40.162Z"
   },
   {
    "duration": 43,
    "start_time": "2022-07-08T15:21:40.169Z"
   },
   {
    "duration": 12,
    "start_time": "2022-07-08T15:21:40.214Z"
   },
   {
    "duration": 17,
    "start_time": "2022-07-08T15:21:40.229Z"
   },
   {
    "duration": 17,
    "start_time": "2022-07-08T15:21:40.248Z"
   },
   {
    "duration": 49,
    "start_time": "2022-07-08T15:21:40.267Z"
   },
   {
    "duration": 12,
    "start_time": "2022-07-08T15:21:40.318Z"
   },
   {
    "duration": 5,
    "start_time": "2022-07-08T15:21:40.332Z"
   },
   {
    "duration": 23,
    "start_time": "2022-07-08T15:21:40.339Z"
   },
   {
    "duration": 36,
    "start_time": "2022-07-08T15:21:40.364Z"
   },
   {
    "duration": 17,
    "start_time": "2022-07-08T15:21:40.402Z"
   },
   {
    "duration": 9,
    "start_time": "2022-07-08T15:21:40.421Z"
   },
   {
    "duration": 29,
    "start_time": "2022-07-08T15:21:40.433Z"
   },
   {
    "duration": 445,
    "start_time": "2022-07-08T15:21:40.465Z"
   },
   {
    "duration": 216,
    "start_time": "2022-07-08T15:21:40.912Z"
   },
   {
    "duration": 10,
    "start_time": "2022-07-08T15:21:41.130Z"
   },
   {
    "duration": 45,
    "start_time": "2022-07-08T15:21:41.142Z"
   },
   {
    "duration": 830,
    "start_time": "2022-07-08T15:21:41.189Z"
   },
   {
    "duration": 559,
    "start_time": "2022-07-08T15:21:42.021Z"
   },
   {
    "duration": 488,
    "start_time": "2022-07-08T15:21:42.585Z"
   },
   {
    "duration": 27,
    "start_time": "2022-07-08T15:21:43.076Z"
   },
   {
    "duration": 11,
    "start_time": "2022-07-08T15:21:43.108Z"
   },
   {
    "duration": 401,
    "start_time": "2022-07-08T15:21:43.121Z"
   },
   {
    "duration": 231,
    "start_time": "2022-07-08T15:21:43.524Z"
   },
   {
    "duration": 250,
    "start_time": "2022-07-08T15:21:43.761Z"
   },
   {
    "duration": 11,
    "start_time": "2022-07-08T15:21:44.015Z"
   },
   {
    "duration": 189,
    "start_time": "2022-07-08T15:21:44.028Z"
   },
   {
    "duration": 200,
    "start_time": "2022-07-08T15:21:44.219Z"
   },
   {
    "duration": 165,
    "start_time": "2022-07-08T15:21:44.421Z"
   },
   {
    "duration": 178,
    "start_time": "2022-07-08T15:21:44.588Z"
   },
   {
    "duration": 266,
    "start_time": "2022-07-08T15:21:44.768Z"
   },
   {
    "duration": 183,
    "start_time": "2022-07-08T15:21:45.036Z"
   },
   {
    "duration": 193,
    "start_time": "2022-07-08T15:21:45.220Z"
   },
   {
    "duration": 218,
    "start_time": "2022-07-08T15:21:45.414Z"
   },
   {
    "duration": 7,
    "start_time": "2022-07-08T15:21:45.634Z"
   },
   {
    "duration": 285,
    "start_time": "2022-07-08T15:21:45.643Z"
   },
   {
    "duration": 289,
    "start_time": "2022-07-08T15:21:45.930Z"
   },
   {
    "duration": 19,
    "start_time": "2022-07-08T15:21:46.221Z"
   },
   {
    "duration": 58,
    "start_time": "2022-07-08T15:21:46.242Z"
   },
   {
    "duration": 189,
    "start_time": "2022-07-08T15:21:46.302Z"
   },
   {
    "duration": 168,
    "start_time": "2022-07-08T15:21:46.493Z"
   },
   {
    "duration": 166,
    "start_time": "2022-07-08T15:21:46.663Z"
   },
   {
    "duration": 118,
    "start_time": "2022-07-08T15:21:46.831Z"
   },
   {
    "duration": 0,
    "start_time": "2022-07-08T15:21:46.951Z"
   },
   {
    "duration": 0,
    "start_time": "2022-07-08T15:21:46.963Z"
   },
   {
    "duration": 46,
    "start_time": "2022-07-08T15:25:14.887Z"
   },
   {
    "duration": 28,
    "start_time": "2022-07-08T15:25:24.912Z"
   },
   {
    "duration": 16,
    "start_time": "2022-07-08T15:26:49.277Z"
   },
   {
    "duration": 30,
    "start_time": "2022-07-08T15:26:53.766Z"
   },
   {
    "duration": 26,
    "start_time": "2022-07-08T15:29:12.074Z"
   },
   {
    "duration": 24,
    "start_time": "2022-07-08T15:30:01.049Z"
   },
   {
    "duration": 31,
    "start_time": "2022-07-08T15:31:29.114Z"
   },
   {
    "duration": 47,
    "start_time": "2022-07-08T15:33:38.104Z"
   },
   {
    "duration": 18,
    "start_time": "2022-07-08T15:33:44.737Z"
   },
   {
    "duration": 20,
    "start_time": "2022-07-08T15:34:12.633Z"
   },
   {
    "duration": 17,
    "start_time": "2022-07-08T15:34:30.473Z"
   },
   {
    "duration": 21,
    "start_time": "2022-07-08T15:35:00.808Z"
   },
   {
    "duration": 46,
    "start_time": "2022-07-08T15:35:31.851Z"
   },
   {
    "duration": 21,
    "start_time": "2022-07-08T15:35:44.916Z"
   },
   {
    "duration": 33,
    "start_time": "2022-07-08T15:36:17.549Z"
   },
   {
    "duration": 36,
    "start_time": "2022-07-08T15:36:58.866Z"
   },
   {
    "duration": 33,
    "start_time": "2022-07-08T15:37:36.524Z"
   },
   {
    "duration": 389,
    "start_time": "2022-07-08T15:38:58.365Z"
   },
   {
    "duration": 32,
    "start_time": "2022-07-08T15:39:26.783Z"
   },
   {
    "duration": 361,
    "start_time": "2022-07-08T15:39:31.652Z"
   },
   {
    "duration": 325,
    "start_time": "2022-07-08T15:40:12.193Z"
   },
   {
    "duration": 127,
    "start_time": "2022-07-08T15:40:32.393Z"
   },
   {
    "duration": 232,
    "start_time": "2022-07-08T15:41:21.767Z"
   },
   {
    "duration": 259,
    "start_time": "2022-07-08T15:41:30.459Z"
   },
   {
    "duration": 249,
    "start_time": "2022-07-08T15:41:43.774Z"
   },
   {
    "duration": 234,
    "start_time": "2022-07-08T15:41:51.156Z"
   },
   {
    "duration": 384,
    "start_time": "2022-07-08T15:42:37.814Z"
   },
   {
    "duration": 255,
    "start_time": "2022-07-08T15:43:45.285Z"
   },
   {
    "duration": 192,
    "start_time": "2022-07-08T15:44:44.341Z"
   },
   {
    "duration": 170,
    "start_time": "2022-07-08T15:45:44.020Z"
   },
   {
    "duration": 173,
    "start_time": "2022-07-08T15:46:04.660Z"
   },
   {
    "duration": 218,
    "start_time": "2022-07-08T15:46:23.478Z"
   },
   {
    "duration": 123,
    "start_time": "2022-07-08T15:47:23.679Z"
   },
   {
    "duration": 194,
    "start_time": "2022-07-08T15:48:04.587Z"
   },
   {
    "duration": 1226,
    "start_time": "2022-07-08T15:53:08.300Z"
   },
   {
    "duration": 84,
    "start_time": "2022-07-08T15:53:09.529Z"
   },
   {
    "duration": 23,
    "start_time": "2022-07-08T15:53:09.616Z"
   },
   {
    "duration": 38,
    "start_time": "2022-07-08T15:53:09.643Z"
   },
   {
    "duration": 9,
    "start_time": "2022-07-08T15:53:09.683Z"
   },
   {
    "duration": 16,
    "start_time": "2022-07-08T15:53:09.694Z"
   },
   {
    "duration": 5,
    "start_time": "2022-07-08T15:53:09.712Z"
   },
   {
    "duration": 61,
    "start_time": "2022-07-08T15:53:09.720Z"
   },
   {
    "duration": 9,
    "start_time": "2022-07-08T15:53:09.782Z"
   },
   {
    "duration": 16,
    "start_time": "2022-07-08T15:53:09.794Z"
   },
   {
    "duration": 9,
    "start_time": "2022-07-08T15:53:09.812Z"
   },
   {
    "duration": 50,
    "start_time": "2022-07-08T15:53:09.823Z"
   },
   {
    "duration": 15,
    "start_time": "2022-07-08T15:53:09.875Z"
   },
   {
    "duration": 6,
    "start_time": "2022-07-08T15:53:09.891Z"
   },
   {
    "duration": 13,
    "start_time": "2022-07-08T15:53:09.899Z"
   },
   {
    "duration": 26,
    "start_time": "2022-07-08T15:53:09.914Z"
   },
   {
    "duration": 21,
    "start_time": "2022-07-08T15:53:09.966Z"
   },
   {
    "duration": 4,
    "start_time": "2022-07-08T15:53:09.989Z"
   },
   {
    "duration": 13,
    "start_time": "2022-07-08T15:53:09.994Z"
   },
   {
    "duration": 419,
    "start_time": "2022-07-08T15:53:10.009Z"
   },
   {
    "duration": 216,
    "start_time": "2022-07-08T15:53:10.431Z"
   },
   {
    "duration": 23,
    "start_time": "2022-07-08T15:53:10.650Z"
   },
   {
    "duration": 34,
    "start_time": "2022-07-08T15:53:10.675Z"
   },
   {
    "duration": 864,
    "start_time": "2022-07-08T15:53:10.711Z"
   },
   {
    "duration": 597,
    "start_time": "2022-07-08T15:53:11.581Z"
   },
   {
    "duration": 462,
    "start_time": "2022-07-08T15:53:12.182Z"
   },
   {
    "duration": 36,
    "start_time": "2022-07-08T15:53:12.647Z"
   },
   {
    "duration": 13,
    "start_time": "2022-07-08T15:53:12.688Z"
   },
   {
    "duration": 376,
    "start_time": "2022-07-08T15:53:12.703Z"
   },
   {
    "duration": 239,
    "start_time": "2022-07-08T15:53:13.081Z"
   },
   {
    "duration": 251,
    "start_time": "2022-07-08T15:53:13.323Z"
   },
   {
    "duration": 8,
    "start_time": "2022-07-08T15:53:13.581Z"
   },
   {
    "duration": 187,
    "start_time": "2022-07-08T15:53:13.591Z"
   },
   {
    "duration": 195,
    "start_time": "2022-07-08T15:53:13.781Z"
   },
   {
    "duration": 157,
    "start_time": "2022-07-08T15:53:13.977Z"
   },
   {
    "duration": 245,
    "start_time": "2022-07-08T15:53:14.136Z"
   },
   {
    "duration": 316,
    "start_time": "2022-07-08T15:53:14.383Z"
   },
   {
    "duration": 204,
    "start_time": "2022-07-08T15:53:14.701Z"
   },
   {
    "duration": 244,
    "start_time": "2022-07-08T15:53:14.907Z"
   },
   {
    "duration": 187,
    "start_time": "2022-07-08T15:53:15.153Z"
   },
   {
    "duration": 8,
    "start_time": "2022-07-08T15:53:15.342Z"
   },
   {
    "duration": 320,
    "start_time": "2022-07-08T15:53:15.352Z"
   },
   {
    "duration": 344,
    "start_time": "2022-07-08T15:53:15.680Z"
   },
   {
    "duration": 53,
    "start_time": "2022-07-08T15:53:16.027Z"
   },
   {
    "duration": 144,
    "start_time": "2022-07-08T15:53:16.083Z"
   },
   {
    "duration": 173,
    "start_time": "2022-07-08T15:53:16.263Z"
   },
   {
    "duration": 37,
    "start_time": "2022-07-08T15:53:16.438Z"
   },
   {
    "duration": 38,
    "start_time": "2022-07-08T15:53:16.476Z"
   },
   {
    "duration": 186,
    "start_time": "2022-07-08T15:53:16.516Z"
   },
   {
    "duration": 175,
    "start_time": "2022-07-08T15:53:16.705Z"
   },
   {
    "duration": 164,
    "start_time": "2022-07-08T15:53:16.883Z"
   },
   {
    "duration": 128,
    "start_time": "2022-07-08T15:53:17.049Z"
   },
   {
    "duration": 0,
    "start_time": "2022-07-08T15:53:17.180Z"
   },
   {
    "duration": 0,
    "start_time": "2022-07-08T15:53:17.182Z"
   },
   {
    "duration": 19,
    "start_time": "2022-07-08T16:00:05.373Z"
   },
   {
    "duration": 231,
    "start_time": "2022-07-08T16:00:10.279Z"
   },
   {
    "duration": 145,
    "start_time": "2022-07-08T16:00:14.253Z"
   },
   {
    "duration": 145,
    "start_time": "2022-07-08T16:00:27.642Z"
   },
   {
    "duration": 290,
    "start_time": "2022-07-08T16:08:54.642Z"
   },
   {
    "duration": 216,
    "start_time": "2022-07-08T16:09:57.981Z"
   },
   {
    "duration": 246,
    "start_time": "2022-07-08T16:10:22.311Z"
   },
   {
    "duration": 260,
    "start_time": "2022-07-08T16:10:49.958Z"
   },
   {
    "duration": 13,
    "start_time": "2022-07-08T16:12:46.610Z"
   },
   {
    "duration": 11,
    "start_time": "2022-07-08T16:14:05.581Z"
   },
   {
    "duration": 1168,
    "start_time": "2022-07-08T16:23:27.538Z"
   },
   {
    "duration": 78,
    "start_time": "2022-07-08T16:23:28.709Z"
   },
   {
    "duration": 21,
    "start_time": "2022-07-08T16:23:28.789Z"
   },
   {
    "duration": 21,
    "start_time": "2022-07-08T16:23:28.812Z"
   },
   {
    "duration": 32,
    "start_time": "2022-07-08T16:23:28.834Z"
   },
   {
    "duration": 16,
    "start_time": "2022-07-08T16:23:28.876Z"
   },
   {
    "duration": 10,
    "start_time": "2022-07-08T16:23:28.894Z"
   },
   {
    "duration": 19,
    "start_time": "2022-07-08T16:23:28.905Z"
   },
   {
    "duration": 9,
    "start_time": "2022-07-08T16:23:28.926Z"
   },
   {
    "duration": 42,
    "start_time": "2022-07-08T16:23:28.937Z"
   },
   {
    "duration": 8,
    "start_time": "2022-07-08T16:23:28.981Z"
   },
   {
    "duration": 19,
    "start_time": "2022-07-08T16:23:28.991Z"
   },
   {
    "duration": 12,
    "start_time": "2022-07-08T16:23:29.011Z"
   },
   {
    "duration": 5,
    "start_time": "2022-07-08T16:23:29.024Z"
   },
   {
    "duration": 45,
    "start_time": "2022-07-08T16:23:29.031Z"
   },
   {
    "duration": 34,
    "start_time": "2022-07-08T16:23:29.079Z"
   },
   {
    "duration": 16,
    "start_time": "2022-07-08T16:23:29.114Z"
   },
   {
    "duration": 3,
    "start_time": "2022-07-08T16:23:29.131Z"
   },
   {
    "duration": 41,
    "start_time": "2022-07-08T16:23:29.136Z"
   },
   {
    "duration": 359,
    "start_time": "2022-07-08T16:23:29.178Z"
   },
   {
    "duration": 197,
    "start_time": "2022-07-08T16:23:29.539Z"
   },
   {
    "duration": 10,
    "start_time": "2022-07-08T16:23:29.737Z"
   },
   {
    "duration": 31,
    "start_time": "2022-07-08T16:23:29.748Z"
   },
   {
    "duration": 794,
    "start_time": "2022-07-08T16:23:29.781Z"
   },
   {
    "duration": 533,
    "start_time": "2022-07-08T16:23:30.577Z"
   },
   {
    "duration": 465,
    "start_time": "2022-07-08T16:23:31.111Z"
   },
   {
    "duration": 23,
    "start_time": "2022-07-08T16:23:31.578Z"
   },
   {
    "duration": 9,
    "start_time": "2022-07-08T16:23:31.605Z"
   },
   {
    "duration": 319,
    "start_time": "2022-07-08T16:23:31.616Z"
   },
   {
    "duration": 233,
    "start_time": "2022-07-08T16:23:31.937Z"
   },
   {
    "duration": 226,
    "start_time": "2022-07-08T16:23:32.171Z"
   },
   {
    "duration": 12,
    "start_time": "2022-07-08T16:23:32.398Z"
   },
   {
    "duration": 178,
    "start_time": "2022-07-08T16:23:32.412Z"
   },
   {
    "duration": 180,
    "start_time": "2022-07-08T16:23:32.592Z"
   },
   {
    "duration": 148,
    "start_time": "2022-07-08T16:23:32.776Z"
   },
   {
    "duration": 152,
    "start_time": "2022-07-08T16:23:32.925Z"
   },
   {
    "duration": 245,
    "start_time": "2022-07-08T16:23:33.079Z"
   },
   {
    "duration": 173,
    "start_time": "2022-07-08T16:23:33.326Z"
   },
   {
    "duration": 174,
    "start_time": "2022-07-08T16:23:33.501Z"
   },
   {
    "duration": 141,
    "start_time": "2022-07-08T16:23:33.677Z"
   },
   {
    "duration": 8,
    "start_time": "2022-07-08T16:23:33.819Z"
   },
   {
    "duration": 268,
    "start_time": "2022-07-08T16:23:33.829Z"
   },
   {
    "duration": 284,
    "start_time": "2022-07-08T16:23:34.098Z"
   },
   {
    "duration": 27,
    "start_time": "2022-07-08T16:23:34.384Z"
   },
   {
    "duration": 164,
    "start_time": "2022-07-08T16:23:34.413Z"
   },
   {
    "duration": 147,
    "start_time": "2022-07-08T16:23:34.579Z"
   },
   {
    "duration": 18,
    "start_time": "2022-07-08T16:23:34.728Z"
   },
   {
    "duration": 22,
    "start_time": "2022-07-08T16:23:34.761Z"
   },
   {
    "duration": 142,
    "start_time": "2022-07-08T16:23:34.785Z"
   },
   {
    "duration": 264,
    "start_time": "2022-07-08T16:23:34.928Z"
   },
   {
    "duration": 302,
    "start_time": "2022-07-08T16:23:35.194Z"
   },
   {
    "duration": 495,
    "start_time": "2022-07-08T16:23:35.498Z"
   },
   {
    "duration": 795,
    "start_time": "2022-07-08T16:23:35.994Z"
   },
   {
    "duration": 487,
    "start_time": "2022-07-08T16:23:36.791Z"
   },
   {
    "duration": 11,
    "start_time": "2022-07-08T16:23:37.280Z"
   },
   {
    "duration": 27,
    "start_time": "2022-07-08T16:23:37.293Z"
   },
   {
    "duration": 74,
    "start_time": "2022-07-09T11:50:53.911Z"
   },
   {
    "duration": 1133,
    "start_time": "2022-07-09T11:51:04.483Z"
   },
   {
    "duration": 105,
    "start_time": "2022-07-09T11:51:05.618Z"
   },
   {
    "duration": 23,
    "start_time": "2022-07-09T11:51:05.725Z"
   },
   {
    "duration": 19,
    "start_time": "2022-07-09T11:51:05.750Z"
   },
   {
    "duration": 7,
    "start_time": "2022-07-09T11:51:05.771Z"
   },
   {
    "duration": 15,
    "start_time": "2022-07-09T11:51:05.780Z"
   },
   {
    "duration": 5,
    "start_time": "2022-07-09T11:51:05.796Z"
   },
   {
    "duration": 21,
    "start_time": "2022-07-09T11:51:05.802Z"
   },
   {
    "duration": 10,
    "start_time": "2022-07-09T11:51:05.825Z"
   },
   {
    "duration": 21,
    "start_time": "2022-07-09T11:51:05.837Z"
   },
   {
    "duration": 10,
    "start_time": "2022-07-09T11:51:05.859Z"
   },
   {
    "duration": 22,
    "start_time": "2022-07-09T11:51:05.870Z"
   },
   {
    "duration": 11,
    "start_time": "2022-07-09T11:51:05.894Z"
   },
   {
    "duration": 5,
    "start_time": "2022-07-09T11:51:05.908Z"
   },
   {
    "duration": 29,
    "start_time": "2022-07-09T11:51:05.914Z"
   },
   {
    "duration": 33,
    "start_time": "2022-07-09T11:51:05.944Z"
   },
   {
    "duration": 16,
    "start_time": "2022-07-09T11:51:05.979Z"
   },
   {
    "duration": 3,
    "start_time": "2022-07-09T11:51:05.997Z"
   },
   {
    "duration": 19,
    "start_time": "2022-07-09T11:51:06.002Z"
   },
   {
    "duration": 528,
    "start_time": "2022-07-09T11:51:06.023Z"
   },
   {
    "duration": 200,
    "start_time": "2022-07-09T11:51:06.553Z"
   },
   {
    "duration": 9,
    "start_time": "2022-07-09T11:51:06.755Z"
   },
   {
    "duration": 27,
    "start_time": "2022-07-09T11:51:06.766Z"
   },
   {
    "duration": 867,
    "start_time": "2022-07-09T11:51:06.794Z"
   },
   {
    "duration": 516,
    "start_time": "2022-07-09T11:51:07.663Z"
   },
   {
    "duration": 466,
    "start_time": "2022-07-09T11:51:08.181Z"
   },
   {
    "duration": 23,
    "start_time": "2022-07-09T11:51:08.649Z"
   },
   {
    "duration": 10,
    "start_time": "2022-07-09T11:51:08.674Z"
   },
   {
    "duration": 427,
    "start_time": "2022-07-09T11:51:08.686Z"
   },
   {
    "duration": 233,
    "start_time": "2022-07-09T11:51:09.115Z"
   },
   {
    "duration": 239,
    "start_time": "2022-07-09T11:51:09.349Z"
   },
   {
    "duration": 8,
    "start_time": "2022-07-09T11:51:09.589Z"
   },
   {
    "duration": 22,
    "start_time": "2022-07-09T11:51:09.599Z"
   }
  ],
  "kernelspec": {
   "display_name": "Python 3 (ipykernel)",
   "language": "python",
   "name": "python3"
  },
  "language_info": {
   "codemirror_mode": {
    "name": "ipython",
    "version": 3
   },
   "file_extension": ".py",
   "mimetype": "text/x-python",
   "name": "python",
   "nbconvert_exporter": "python",
   "pygments_lexer": "ipython3",
   "version": "3.9.13"
  },
  "latex_envs": {
   "LaTeX_envs_menu_present": true,
   "autoclose": false,
   "autocomplete": true,
   "bibliofile": "biblio.bib",
   "cite_by": "apalike",
   "current_citInitial": 1,
   "eqLabelWithNumbers": true,
   "eqNumInitial": 1,
   "hotkeys": {
    "equation": "Ctrl-E",
    "itemize": "Ctrl-I"
   },
   "labels_anchors": false,
   "latex_user_defs": false,
   "report_style_numbering": false,
   "user_envs_cfg": false
  },
  "toc": {
   "base_numbering": 1,
   "nav_menu": {},
   "number_sections": true,
   "sideBar": true,
   "skip_h1_title": true,
   "title_cell": "Table of Contents",
   "title_sidebar": "Contents",
   "toc_cell": false,
   "toc_position": {
    "height": "calc(100% - 180px)",
    "left": "10px",
    "top": "150px",
    "width": "252.391px"
   },
   "toc_section_display": true,
   "toc_window_display": true
  }
 },
 "nbformat": 4,
 "nbformat_minor": 2
}
