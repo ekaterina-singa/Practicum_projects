{
 "cells": [
  {
   "cell_type": "markdown",
   "id": "7dccfd88",
   "metadata": {},
   "source": [
    "# Изучаем приложение по продаже продуктов питания"
   ]
  },
  {
   "cell_type": "markdown",
   "id": "705ea2f2",
   "metadata": {},
   "source": [
    "**Содержание**\n",
    "\n",
    "<a id=0> </a>\n",
    "[Введение](#1)  \n",
    "[Предобработка](#2)  \n",
    "[Изучение и проверка данных](#3)  \n",
    "[Воронка событий](#4)  \n",
    "[Результаты теста](#5)  \n",
    "[Вывод](#6)\n",
    "\n"
   ]
  },
  {
   "cell_type": "markdown",
   "id": "85e68af1",
   "metadata": {},
   "source": [
    "<a id=1> </a>\n",
    "## Введение"
   ]
  },
  {
   "cell_type": "markdown",
   "id": "62d8048d",
   "metadata": {},
   "source": [
    "Наш стартап занимается продажей продуктов питания. Дизайнеры предложить поменять шрифты во всем приложении, но поскольку не было уверенности в том, что это положительно повлияет на бизнес-метрики нашей компании, мы приняли решение провести небольшое (по времени) A/B-тестирование. Нам важно было понять, как ведут себя пользователи приложения и на каких шагах возникают трудности.  \n",
    "Мы провели А/А/В-тестирование: пользователей разбили на 3 группы: 2 контрольные со старыми шрифтами и одну экспериментальную — с новыми. то есть у нас было 2 контрольные группы, что имеет преимущества, т.к. мы можем проверить есть ли разница между двемя контрольными группами и таким образом понять, правильно ли мы произвели разделение пользователей на группы и как следствие - можем ли мы доверять результатам исследования.\n",
    "\n",
    "У нас уже есть его резуьтаты, в данном исследовании мы изучим их, построим воронку продаж и решим, стоит ли менять дизайн сайта."
   ]
  },
  {
   "cell_type": "code",
   "execution_count": 1,
   "id": "b1be00d8",
   "metadata": {},
   "outputs": [],
   "source": [
    "# импортируем библиотеки\n",
    "import pandas as pd\n",
    "import numpy as np\n",
    "import matplotlib.pyplot as plt\n",
    "import seaborn as sns\n",
    "\n",
    "from scipy import stats as st\n",
    "import numpy as np\n",
    "import math as mth"
   ]
  },
  {
   "cell_type": "code",
   "execution_count": 2,
   "id": "b936e46a",
   "metadata": {},
   "outputs": [],
   "source": [
    "# загрузим датасет\n",
    "try: \n",
    "    data = pd.read_csv('/Users/09e6y/Desktop/Катькис/Практикум/Проект 9 Второй сборный/logs_exp.csv', sep='\\t')\n",
    "except FileNotFoundError:\n",
    "    data = pd.read_csv('/datasets/logs_exp.csv', sep='\\t')"
   ]
  },
  {
   "cell_type": "code",
   "execution_count": 3,
   "id": "a9fc66d0",
   "metadata": {},
   "outputs": [
    {
     "data": {
      "text/html": [
       "<div>\n",
       "<style scoped>\n",
       "    .dataframe tbody tr th:only-of-type {\n",
       "        vertical-align: middle;\n",
       "    }\n",
       "\n",
       "    .dataframe tbody tr th {\n",
       "        vertical-align: top;\n",
       "    }\n",
       "\n",
       "    .dataframe thead th {\n",
       "        text-align: right;\n",
       "    }\n",
       "</style>\n",
       "<table border=\"1\" class=\"dataframe\">\n",
       "  <thead>\n",
       "    <tr style=\"text-align: right;\">\n",
       "      <th></th>\n",
       "      <th>EventName</th>\n",
       "      <th>DeviceIDHash</th>\n",
       "      <th>EventTimestamp</th>\n",
       "      <th>ExpId</th>\n",
       "    </tr>\n",
       "  </thead>\n",
       "  <tbody>\n",
       "    <tr>\n",
       "      <th>0</th>\n",
       "      <td>MainScreenAppear</td>\n",
       "      <td>4575588528974610257</td>\n",
       "      <td>1564029816</td>\n",
       "      <td>246</td>\n",
       "    </tr>\n",
       "    <tr>\n",
       "      <th>1</th>\n",
       "      <td>MainScreenAppear</td>\n",
       "      <td>7416695313311560658</td>\n",
       "      <td>1564053102</td>\n",
       "      <td>246</td>\n",
       "    </tr>\n",
       "    <tr>\n",
       "      <th>2</th>\n",
       "      <td>PaymentScreenSuccessful</td>\n",
       "      <td>3518123091307005509</td>\n",
       "      <td>1564054127</td>\n",
       "      <td>248</td>\n",
       "    </tr>\n",
       "    <tr>\n",
       "      <th>3</th>\n",
       "      <td>CartScreenAppear</td>\n",
       "      <td>3518123091307005509</td>\n",
       "      <td>1564054127</td>\n",
       "      <td>248</td>\n",
       "    </tr>\n",
       "    <tr>\n",
       "      <th>4</th>\n",
       "      <td>PaymentScreenSuccessful</td>\n",
       "      <td>6217807653094995999</td>\n",
       "      <td>1564055322</td>\n",
       "      <td>248</td>\n",
       "    </tr>\n",
       "    <tr>\n",
       "      <th>...</th>\n",
       "      <td>...</td>\n",
       "      <td>...</td>\n",
       "      <td>...</td>\n",
       "      <td>...</td>\n",
       "    </tr>\n",
       "    <tr>\n",
       "      <th>244121</th>\n",
       "      <td>MainScreenAppear</td>\n",
       "      <td>4599628364049201812</td>\n",
       "      <td>1565212345</td>\n",
       "      <td>247</td>\n",
       "    </tr>\n",
       "    <tr>\n",
       "      <th>244122</th>\n",
       "      <td>MainScreenAppear</td>\n",
       "      <td>5849806612437486590</td>\n",
       "      <td>1565212439</td>\n",
       "      <td>246</td>\n",
       "    </tr>\n",
       "    <tr>\n",
       "      <th>244123</th>\n",
       "      <td>MainScreenAppear</td>\n",
       "      <td>5746969938801999050</td>\n",
       "      <td>1565212483</td>\n",
       "      <td>246</td>\n",
       "    </tr>\n",
       "    <tr>\n",
       "      <th>244124</th>\n",
       "      <td>MainScreenAppear</td>\n",
       "      <td>5746969938801999050</td>\n",
       "      <td>1565212498</td>\n",
       "      <td>246</td>\n",
       "    </tr>\n",
       "    <tr>\n",
       "      <th>244125</th>\n",
       "      <td>OffersScreenAppear</td>\n",
       "      <td>5746969938801999050</td>\n",
       "      <td>1565212517</td>\n",
       "      <td>246</td>\n",
       "    </tr>\n",
       "  </tbody>\n",
       "</table>\n",
       "<p>244126 rows × 4 columns</p>\n",
       "</div>"
      ],
      "text/plain": [
       "                      EventName         DeviceIDHash  EventTimestamp  ExpId\n",
       "0              MainScreenAppear  4575588528974610257      1564029816    246\n",
       "1              MainScreenAppear  7416695313311560658      1564053102    246\n",
       "2       PaymentScreenSuccessful  3518123091307005509      1564054127    248\n",
       "3              CartScreenAppear  3518123091307005509      1564054127    248\n",
       "4       PaymentScreenSuccessful  6217807653094995999      1564055322    248\n",
       "...                         ...                  ...             ...    ...\n",
       "244121         MainScreenAppear  4599628364049201812      1565212345    247\n",
       "244122         MainScreenAppear  5849806612437486590      1565212439    246\n",
       "244123         MainScreenAppear  5746969938801999050      1565212483    246\n",
       "244124         MainScreenAppear  5746969938801999050      1565212498    246\n",
       "244125       OffersScreenAppear  5746969938801999050      1565212517    246\n",
       "\n",
       "[244126 rows x 4 columns]"
      ]
     },
     "execution_count": 3,
     "metadata": {},
     "output_type": "execute_result"
    }
   ],
   "source": [
    "data"
   ]
  },
  {
   "cell_type": "code",
   "execution_count": 4,
   "id": "0291795c",
   "metadata": {
    "scrolled": true
   },
   "outputs": [
    {
     "data": {
      "text/html": [
       "<div>\n",
       "<style scoped>\n",
       "    .dataframe tbody tr th:only-of-type {\n",
       "        vertical-align: middle;\n",
       "    }\n",
       "\n",
       "    .dataframe tbody tr th {\n",
       "        vertical-align: top;\n",
       "    }\n",
       "\n",
       "    .dataframe thead th {\n",
       "        text-align: right;\n",
       "    }\n",
       "</style>\n",
       "<table border=\"1\" class=\"dataframe\">\n",
       "  <thead>\n",
       "    <tr style=\"text-align: right;\">\n",
       "      <th></th>\n",
       "      <th>event_name</th>\n",
       "      <th>user_id</th>\n",
       "      <th>event_time</th>\n",
       "      <th>group</th>\n",
       "    </tr>\n",
       "  </thead>\n",
       "  <tbody>\n",
       "    <tr>\n",
       "      <th>0</th>\n",
       "      <td>MainScreenAppear</td>\n",
       "      <td>4575588528974610257</td>\n",
       "      <td>1564029816</td>\n",
       "      <td>246</td>\n",
       "    </tr>\n",
       "    <tr>\n",
       "      <th>1</th>\n",
       "      <td>MainScreenAppear</td>\n",
       "      <td>7416695313311560658</td>\n",
       "      <td>1564053102</td>\n",
       "      <td>246</td>\n",
       "    </tr>\n",
       "    <tr>\n",
       "      <th>2</th>\n",
       "      <td>PaymentScreenSuccessful</td>\n",
       "      <td>3518123091307005509</td>\n",
       "      <td>1564054127</td>\n",
       "      <td>248</td>\n",
       "    </tr>\n",
       "    <tr>\n",
       "      <th>3</th>\n",
       "      <td>CartScreenAppear</td>\n",
       "      <td>3518123091307005509</td>\n",
       "      <td>1564054127</td>\n",
       "      <td>248</td>\n",
       "    </tr>\n",
       "    <tr>\n",
       "      <th>4</th>\n",
       "      <td>PaymentScreenSuccessful</td>\n",
       "      <td>6217807653094995999</td>\n",
       "      <td>1564055322</td>\n",
       "      <td>248</td>\n",
       "    </tr>\n",
       "  </tbody>\n",
       "</table>\n",
       "</div>"
      ],
      "text/plain": [
       "                event_name              user_id  event_time  group\n",
       "0         MainScreenAppear  4575588528974610257  1564029816    246\n",
       "1         MainScreenAppear  7416695313311560658  1564053102    246\n",
       "2  PaymentScreenSuccessful  3518123091307005509  1564054127    248\n",
       "3         CartScreenAppear  3518123091307005509  1564054127    248\n",
       "4  PaymentScreenSuccessful  6217807653094995999  1564055322    248"
      ]
     },
     "execution_count": 4,
     "metadata": {},
     "output_type": "execute_result"
    }
   ],
   "source": [
    "data.columns=('event_name', 'user_id', 'event_time', 'group') # переименуем столбцы\n",
    "data.head()"
   ]
  },
  {
   "cell_type": "markdown",
   "id": "e71752c4",
   "metadata": {},
   "source": [
    "<a id=2> </a>\n",
    "## Предобработка"
   ]
  },
  {
   "cell_type": "markdown",
   "id": "e7ec3d33",
   "metadata": {},
   "source": [
    "Проверим на наличие ошибок и дубликатов."
   ]
  },
  {
   "cell_type": "code",
   "execution_count": 5,
   "id": "1612f20f",
   "metadata": {},
   "outputs": [
    {
     "name": "stdout",
     "output_type": "stream",
     "text": [
      "<class 'pandas.core.frame.DataFrame'>\n",
      "RangeIndex: 244126 entries, 0 to 244125\n",
      "Data columns (total 4 columns):\n",
      " #   Column      Non-Null Count   Dtype \n",
      "---  ------      --------------   ----- \n",
      " 0   event_name  244126 non-null  object\n",
      " 1   user_id     244126 non-null  int64 \n",
      " 2   event_time  244126 non-null  int64 \n",
      " 3   group       244126 non-null  int64 \n",
      "dtypes: int64(3), object(1)\n",
      "memory usage: 7.5+ MB\n"
     ]
    }
   ],
   "source": [
    "data.info()\n"
   ]
  },
  {
   "cell_type": "code",
   "execution_count": 6,
   "id": "9eb32c12",
   "metadata": {},
   "outputs": [
    {
     "data": {
      "text/plain": [
       "413"
      ]
     },
     "execution_count": 6,
     "metadata": {},
     "output_type": "execute_result"
    }
   ],
   "source": [
    "data.duplicated().sum() # посчитаем дубликаты"
   ]
  },
  {
   "cell_type": "code",
   "execution_count": 7,
   "id": "6d9fdefa",
   "metadata": {},
   "outputs": [
    {
     "data": {
      "text/plain": [
       "0"
      ]
     },
     "execution_count": 7,
     "metadata": {},
     "output_type": "execute_result"
    }
   ],
   "source": [
    "data = data.drop_duplicates().reset_index(drop=True) # удалим дубликаты\n",
    "data.duplicated().sum()"
   ]
  },
  {
   "cell_type": "markdown",
   "id": "5a98c864",
   "metadata": {},
   "source": [
    "Пропусков нет, все типы данных соответствуют заявленным.\n",
    "\n",
    "Добавим столбец даты-времени и отдельный - только с датой."
   ]
  },
  {
   "cell_type": "code",
   "execution_count": 8,
   "id": "f3951ed5",
   "metadata": {},
   "outputs": [
    {
     "data": {
      "text/html": [
       "<div>\n",
       "<style scoped>\n",
       "    .dataframe tbody tr th:only-of-type {\n",
       "        vertical-align: middle;\n",
       "    }\n",
       "\n",
       "    .dataframe tbody tr th {\n",
       "        vertical-align: top;\n",
       "    }\n",
       "\n",
       "    .dataframe thead th {\n",
       "        text-align: right;\n",
       "    }\n",
       "</style>\n",
       "<table border=\"1\" class=\"dataframe\">\n",
       "  <thead>\n",
       "    <tr style=\"text-align: right;\">\n",
       "      <th></th>\n",
       "      <th>event_name</th>\n",
       "      <th>user_id</th>\n",
       "      <th>event_time</th>\n",
       "      <th>group</th>\n",
       "      <th>date_time</th>\n",
       "      <th>date</th>\n",
       "    </tr>\n",
       "  </thead>\n",
       "  <tbody>\n",
       "    <tr>\n",
       "      <th>0</th>\n",
       "      <td>MainScreenAppear</td>\n",
       "      <td>4575588528974610257</td>\n",
       "      <td>1564029816</td>\n",
       "      <td>246</td>\n",
       "      <td>2019-07-25 04:43:36</td>\n",
       "      <td>2019-07-25</td>\n",
       "    </tr>\n",
       "    <tr>\n",
       "      <th>1</th>\n",
       "      <td>MainScreenAppear</td>\n",
       "      <td>7416695313311560658</td>\n",
       "      <td>1564053102</td>\n",
       "      <td>246</td>\n",
       "      <td>2019-07-25 11:11:42</td>\n",
       "      <td>2019-07-25</td>\n",
       "    </tr>\n",
       "    <tr>\n",
       "      <th>2</th>\n",
       "      <td>PaymentScreenSuccessful</td>\n",
       "      <td>3518123091307005509</td>\n",
       "      <td>1564054127</td>\n",
       "      <td>248</td>\n",
       "      <td>2019-07-25 11:28:47</td>\n",
       "      <td>2019-07-25</td>\n",
       "    </tr>\n",
       "    <tr>\n",
       "      <th>3</th>\n",
       "      <td>CartScreenAppear</td>\n",
       "      <td>3518123091307005509</td>\n",
       "      <td>1564054127</td>\n",
       "      <td>248</td>\n",
       "      <td>2019-07-25 11:28:47</td>\n",
       "      <td>2019-07-25</td>\n",
       "    </tr>\n",
       "    <tr>\n",
       "      <th>4</th>\n",
       "      <td>PaymentScreenSuccessful</td>\n",
       "      <td>6217807653094995999</td>\n",
       "      <td>1564055322</td>\n",
       "      <td>248</td>\n",
       "      <td>2019-07-25 11:48:42</td>\n",
       "      <td>2019-07-25</td>\n",
       "    </tr>\n",
       "    <tr>\n",
       "      <th>...</th>\n",
       "      <td>...</td>\n",
       "      <td>...</td>\n",
       "      <td>...</td>\n",
       "      <td>...</td>\n",
       "      <td>...</td>\n",
       "      <td>...</td>\n",
       "    </tr>\n",
       "    <tr>\n",
       "      <th>243708</th>\n",
       "      <td>MainScreenAppear</td>\n",
       "      <td>4599628364049201812</td>\n",
       "      <td>1565212345</td>\n",
       "      <td>247</td>\n",
       "      <td>2019-08-07 21:12:25</td>\n",
       "      <td>2019-08-07</td>\n",
       "    </tr>\n",
       "    <tr>\n",
       "      <th>243709</th>\n",
       "      <td>MainScreenAppear</td>\n",
       "      <td>5849806612437486590</td>\n",
       "      <td>1565212439</td>\n",
       "      <td>246</td>\n",
       "      <td>2019-08-07 21:13:59</td>\n",
       "      <td>2019-08-07</td>\n",
       "    </tr>\n",
       "    <tr>\n",
       "      <th>243710</th>\n",
       "      <td>MainScreenAppear</td>\n",
       "      <td>5746969938801999050</td>\n",
       "      <td>1565212483</td>\n",
       "      <td>246</td>\n",
       "      <td>2019-08-07 21:14:43</td>\n",
       "      <td>2019-08-07</td>\n",
       "    </tr>\n",
       "    <tr>\n",
       "      <th>243711</th>\n",
       "      <td>MainScreenAppear</td>\n",
       "      <td>5746969938801999050</td>\n",
       "      <td>1565212498</td>\n",
       "      <td>246</td>\n",
       "      <td>2019-08-07 21:14:58</td>\n",
       "      <td>2019-08-07</td>\n",
       "    </tr>\n",
       "    <tr>\n",
       "      <th>243712</th>\n",
       "      <td>OffersScreenAppear</td>\n",
       "      <td>5746969938801999050</td>\n",
       "      <td>1565212517</td>\n",
       "      <td>246</td>\n",
       "      <td>2019-08-07 21:15:17</td>\n",
       "      <td>2019-08-07</td>\n",
       "    </tr>\n",
       "  </tbody>\n",
       "</table>\n",
       "<p>243713 rows × 6 columns</p>\n",
       "</div>"
      ],
      "text/plain": [
       "                     event_name              user_id  event_time  group  \\\n",
       "0              MainScreenAppear  4575588528974610257  1564029816    246   \n",
       "1              MainScreenAppear  7416695313311560658  1564053102    246   \n",
       "2       PaymentScreenSuccessful  3518123091307005509  1564054127    248   \n",
       "3              CartScreenAppear  3518123091307005509  1564054127    248   \n",
       "4       PaymentScreenSuccessful  6217807653094995999  1564055322    248   \n",
       "...                         ...                  ...         ...    ...   \n",
       "243708         MainScreenAppear  4599628364049201812  1565212345    247   \n",
       "243709         MainScreenAppear  5849806612437486590  1565212439    246   \n",
       "243710         MainScreenAppear  5746969938801999050  1565212483    246   \n",
       "243711         MainScreenAppear  5746969938801999050  1565212498    246   \n",
       "243712       OffersScreenAppear  5746969938801999050  1565212517    246   \n",
       "\n",
       "                 date_time        date  \n",
       "0      2019-07-25 04:43:36  2019-07-25  \n",
       "1      2019-07-25 11:11:42  2019-07-25  \n",
       "2      2019-07-25 11:28:47  2019-07-25  \n",
       "3      2019-07-25 11:28:47  2019-07-25  \n",
       "4      2019-07-25 11:48:42  2019-07-25  \n",
       "...                    ...         ...  \n",
       "243708 2019-08-07 21:12:25  2019-08-07  \n",
       "243709 2019-08-07 21:13:59  2019-08-07  \n",
       "243710 2019-08-07 21:14:43  2019-08-07  \n",
       "243711 2019-08-07 21:14:58  2019-08-07  \n",
       "243712 2019-08-07 21:15:17  2019-08-07  \n",
       "\n",
       "[243713 rows x 6 columns]"
      ]
     },
     "execution_count": 8,
     "metadata": {},
     "output_type": "execute_result"
    }
   ],
   "source": [
    "data['date_time'] = pd.to_datetime(data['event_time'], unit='s')\n",
    "data['date'] = data['date_time'].dt.date\n",
    "data\n"
   ]
  },
  {
   "cell_type": "markdown",
   "id": "4080c54b",
   "metadata": {},
   "source": [
    "[Содержание](#0)"
   ]
  },
  {
   "cell_type": "markdown",
   "id": "da5cd681",
   "metadata": {},
   "source": [
    "<a id=3> </a>\n",
    "## Изучение и проверка данных"
   ]
  },
  {
   "cell_type": "markdown",
   "id": "532f2657",
   "metadata": {},
   "source": [
    "### Сколько всего событий в логе? "
   ]
  },
  {
   "cell_type": "code",
   "execution_count": 9,
   "id": "7cc02b09",
   "metadata": {},
   "outputs": [
    {
     "name": "stdout",
     "output_type": "stream",
     "text": [
      "В логе 243713 события\n"
     ]
    }
   ],
   "source": [
    "print('В логе', data['event_name'].count(), 'события')\n"
   ]
  },
  {
   "cell_type": "markdown",
   "id": "8e27d674",
   "metadata": {},
   "source": [
    "### Сколько всего пользователей в логе?"
   ]
  },
  {
   "cell_type": "code",
   "execution_count": 10,
   "id": "171e563b",
   "metadata": {},
   "outputs": [
    {
     "name": "stdout",
     "output_type": "stream",
     "text": [
      "В логе 7551 пользователь\n"
     ]
    }
   ],
   "source": [
    "print('В логе', data['user_id'].nunique(), 'пользователь')"
   ]
  },
  {
   "cell_type": "markdown",
   "id": "a1c1c685",
   "metadata": {},
   "source": [
    "### Сколько в среднем событий приходится на пользователя?"
   ]
  },
  {
   "cell_type": "code",
   "execution_count": 11,
   "id": "4c8a1f76",
   "metadata": {
    "scrolled": true
   },
   "outputs": [
    {
     "name": "stdout",
     "output_type": "stream",
     "text": [
      "В среднем на пользователя приходится 32.3 события\n"
     ]
    }
   ],
   "source": [
    "# посчитаем количество событий на пользователя и возьмем среднее\n",
    "event_mean = data.groupby('user_id', as_index=False).agg({'event_name': 'count'})\n",
    "print('В среднем на пользователя приходится', round(event_mean['event_name'].mean(), 1), 'события')"
   ]
  },
  {
   "cell_type": "markdown",
   "id": "a7f26755",
   "metadata": {},
   "source": [
    "Посмотрим, есть ли выбросы в наших даннах"
   ]
  },
  {
   "cell_type": "code",
   "execution_count": 12,
   "id": "cb7d29e3",
   "metadata": {},
   "outputs": [
    {
     "data": {
      "text/html": [
       "<div>\n",
       "<style scoped>\n",
       "    .dataframe tbody tr th:only-of-type {\n",
       "        vertical-align: middle;\n",
       "    }\n",
       "\n",
       "    .dataframe tbody tr th {\n",
       "        vertical-align: top;\n",
       "    }\n",
       "\n",
       "    .dataframe thead th {\n",
       "        text-align: right;\n",
       "    }\n",
       "</style>\n",
       "<table border=\"1\" class=\"dataframe\">\n",
       "  <thead>\n",
       "    <tr style=\"text-align: right;\">\n",
       "      <th></th>\n",
       "      <th>user_id</th>\n",
       "      <th>event_name</th>\n",
       "    </tr>\n",
       "  </thead>\n",
       "  <tbody>\n",
       "    <tr>\n",
       "      <th>0</th>\n",
       "      <td>6888746892508752</td>\n",
       "      <td>1</td>\n",
       "    </tr>\n",
       "    <tr>\n",
       "      <th>1</th>\n",
       "      <td>6909561520679493</td>\n",
       "      <td>5</td>\n",
       "    </tr>\n",
       "    <tr>\n",
       "      <th>2</th>\n",
       "      <td>6922444491712477</td>\n",
       "      <td>47</td>\n",
       "    </tr>\n",
       "    <tr>\n",
       "      <th>3</th>\n",
       "      <td>7435777799948366</td>\n",
       "      <td>6</td>\n",
       "    </tr>\n",
       "    <tr>\n",
       "      <th>4</th>\n",
       "      <td>7702139951469979</td>\n",
       "      <td>137</td>\n",
       "    </tr>\n",
       "    <tr>\n",
       "      <th>...</th>\n",
       "      <td>...</td>\n",
       "      <td>...</td>\n",
       "    </tr>\n",
       "    <tr>\n",
       "      <th>7546</th>\n",
       "      <td>9217594193087726423</td>\n",
       "      <td>9</td>\n",
       "    </tr>\n",
       "    <tr>\n",
       "      <th>7547</th>\n",
       "      <td>9219463515465815368</td>\n",
       "      <td>17</td>\n",
       "    </tr>\n",
       "    <tr>\n",
       "      <th>7548</th>\n",
       "      <td>9220879493065341500</td>\n",
       "      <td>7</td>\n",
       "    </tr>\n",
       "    <tr>\n",
       "      <th>7549</th>\n",
       "      <td>9221926045299980007</td>\n",
       "      <td>7</td>\n",
       "    </tr>\n",
       "    <tr>\n",
       "      <th>7550</th>\n",
       "      <td>9222603179720523844</td>\n",
       "      <td>59</td>\n",
       "    </tr>\n",
       "  </tbody>\n",
       "</table>\n",
       "<p>7551 rows × 2 columns</p>\n",
       "</div>"
      ],
      "text/plain": [
       "                  user_id  event_name\n",
       "0        6888746892508752           1\n",
       "1        6909561520679493           5\n",
       "2        6922444491712477          47\n",
       "3        7435777799948366           6\n",
       "4        7702139951469979         137\n",
       "...                   ...         ...\n",
       "7546  9217594193087726423           9\n",
       "7547  9219463515465815368          17\n",
       "7548  9220879493065341500           7\n",
       "7549  9221926045299980007           7\n",
       "7550  9222603179720523844          59\n",
       "\n",
       "[7551 rows x 2 columns]"
      ]
     },
     "execution_count": 12,
     "metadata": {},
     "output_type": "execute_result"
    }
   ],
   "source": [
    "event_mean"
   ]
  },
  {
   "cell_type": "code",
   "execution_count": 13,
   "id": "2cd7e8eb",
   "metadata": {
    "scrolled": false
   },
   "outputs": [
    {
     "data": {
      "text/html": [
       "<div>\n",
       "<style scoped>\n",
       "    .dataframe tbody tr th:only-of-type {\n",
       "        vertical-align: middle;\n",
       "    }\n",
       "\n",
       "    .dataframe tbody tr th {\n",
       "        vertical-align: top;\n",
       "    }\n",
       "\n",
       "    .dataframe thead th {\n",
       "        text-align: right;\n",
       "    }\n",
       "</style>\n",
       "<table border=\"1\" class=\"dataframe\">\n",
       "  <thead>\n",
       "    <tr style=\"text-align: right;\">\n",
       "      <th></th>\n",
       "      <th>user_id</th>\n",
       "      <th>event_name</th>\n",
       "    </tr>\n",
       "  </thead>\n",
       "  <tbody>\n",
       "    <tr>\n",
       "      <th>count</th>\n",
       "      <td>7.551000e+03</td>\n",
       "      <td>7551.000000</td>\n",
       "    </tr>\n",
       "    <tr>\n",
       "      <th>mean</th>\n",
       "      <td>4.677319e+18</td>\n",
       "      <td>32.275593</td>\n",
       "    </tr>\n",
       "    <tr>\n",
       "      <th>std</th>\n",
       "      <td>2.655343e+18</td>\n",
       "      <td>65.154219</td>\n",
       "    </tr>\n",
       "    <tr>\n",
       "      <th>min</th>\n",
       "      <td>6.888747e+15</td>\n",
       "      <td>1.000000</td>\n",
       "    </tr>\n",
       "    <tr>\n",
       "      <th>25%</th>\n",
       "      <td>2.397700e+18</td>\n",
       "      <td>9.000000</td>\n",
       "    </tr>\n",
       "    <tr>\n",
       "      <th>50%</th>\n",
       "      <td>4.688022e+18</td>\n",
       "      <td>20.000000</td>\n",
       "    </tr>\n",
       "    <tr>\n",
       "      <th>75%</th>\n",
       "      <td>7.007353e+18</td>\n",
       "      <td>37.000000</td>\n",
       "    </tr>\n",
       "    <tr>\n",
       "      <th>max</th>\n",
       "      <td>9.222603e+18</td>\n",
       "      <td>2307.000000</td>\n",
       "    </tr>\n",
       "  </tbody>\n",
       "</table>\n",
       "</div>"
      ],
      "text/plain": [
       "            user_id   event_name\n",
       "count  7.551000e+03  7551.000000\n",
       "mean   4.677319e+18    32.275593\n",
       "std    2.655343e+18    65.154219\n",
       "min    6.888747e+15     1.000000\n",
       "25%    2.397700e+18     9.000000\n",
       "50%    4.688022e+18    20.000000\n",
       "75%    7.007353e+18    37.000000\n",
       "max    9.222603e+18  2307.000000"
      ]
     },
     "execution_count": 13,
     "metadata": {},
     "output_type": "execute_result"
    }
   ],
   "source": [
    "event_mean.describe()"
   ]
  },
  {
   "cell_type": "code",
   "execution_count": 14,
   "id": "318878f0",
   "metadata": {
    "scrolled": true
   },
   "outputs": [
    {
     "data": {
      "image/png": "[encoded data removed]",
      "text/plain": [
       "<Figure size 720x720 with 2 Axes>"
      ]
     },
     "metadata": {
      "needs_background": "light"
     },
     "output_type": "display_data"
    }
   ],
   "source": [
    "fig, ax = plt.subplots(2,1, figsize=(10, 10)) # нарисуем фигуру из 2 сабплотов\n",
    "fig.suptitle('Распределение количества событий')\n",
    "\n",
    "# в первую область положим данные, включающие выбросы\n",
    "sns.boxplot(ax=ax[0], data = event_mean, x = 'event_name') \n",
    "ax[0].set_title('включая выбросы')\n",
    "ax[0].set_xlabel('Количество событий')\n",
    "\n",
    "# из второй области выбросы исключим\n",
    "ax[1].set_title('без выбросов')\n",
    "sns.boxplot(ax=ax[1], data = event_mean, x = 'event_name',  showfliers=False) \n",
    "ax[1].set_xlabel('Количество событий');"
   ]
  },
  {
   "cell_type": "markdown",
   "id": "b21a3c86",
   "metadata": {},
   "source": [
    "Посмотрим так же какой процент данных - выборосы."
   ]
  },
  {
   "cell_type": "code",
   "execution_count": 15,
   "id": "45cf1248",
   "metadata": {},
   "outputs": [
    {
     "name": "stdout",
     "output_type": "stream",
     "text": [
      "[ 89.  200.5]\n"
     ]
    }
   ],
   "source": [
    "print(np.percentile(event_mean['event_name'], [95, 99]))"
   ]
  },
  {
   "cell_type": "markdown",
   "id": "a2e17aa7",
   "metadata": {},
   "source": [
    "Процент выбросов не такой уж и большой - не более 5% пользователей совершили более 89 действий. Проверим, сколько данных мы потеряем, если исключим их."
   ]
  },
  {
   "cell_type": "code",
   "execution_count": 16,
   "id": "f4155143",
   "metadata": {
    "scrolled": true
   },
   "outputs": [
    {
     "data": {
      "text/plain": [
       "(243713, 6)"
      ]
     },
     "metadata": {},
     "output_type": "display_data"
    },
    {
     "data": {
      "text/plain": [
       "event_name    70.878862\n",
       "user_id       70.878862\n",
       "event_time    70.878862\n",
       "group         70.878862\n",
       "date_time     70.878862\n",
       "date          70.878862\n",
       "dtype: float64"
      ]
     },
     "execution_count": 16,
     "metadata": {},
     "output_type": "execute_result"
    }
   ],
   "source": [
    "# сначала отсечем из таблицы всех лишних юзеров\n",
    "event_mean = event_mean.query('event_name <= 89')\n",
    "# соберем уникальные id в список\n",
    "id_list = event_mean['user_id'].unique()\n",
    "# отфильтруем датасет по этим id\n",
    "data_filtred = data[data['user_id'].isin(id_list)]\n",
    "display(data.shape)\n",
    "data_filtred.count()/data.count()*100"
   ]
  },
  {
   "cell_type": "markdown",
   "id": "04176bf6",
   "metadata": {},
   "source": [
    "При такой обработке мы потеряем около 30% пользователей, а это не очень хорошо. Поэтому лучше спросим о выбросах коллег, отвечающих за сбор данных."
   ]
  },
  {
   "cell_type": "code",
   "execution_count": 17,
   "id": "c3c03fe0",
   "metadata": {
    "scrolled": true
   },
   "outputs": [
    {
     "data": {
      "text/html": [
       "<div>\n",
       "<style scoped>\n",
       "    .dataframe tbody tr th:only-of-type {\n",
       "        vertical-align: middle;\n",
       "    }\n",
       "\n",
       "    .dataframe tbody tr th {\n",
       "        vertical-align: top;\n",
       "    }\n",
       "\n",
       "    .dataframe thead th {\n",
       "        text-align: right;\n",
       "    }\n",
       "</style>\n",
       "<table border=\"1\" class=\"dataframe\">\n",
       "  <thead>\n",
       "    <tr style=\"text-align: right;\">\n",
       "      <th></th>\n",
       "      <th>user_id</th>\n",
       "      <th>event_name</th>\n",
       "    </tr>\n",
       "  </thead>\n",
       "  <tbody>\n",
       "    <tr>\n",
       "      <th>count</th>\n",
       "      <td>7.551000e+03</td>\n",
       "      <td>7551.000000</td>\n",
       "    </tr>\n",
       "    <tr>\n",
       "      <th>mean</th>\n",
       "      <td>4.677319e+18</td>\n",
       "      <td>32.275593</td>\n",
       "    </tr>\n",
       "    <tr>\n",
       "      <th>std</th>\n",
       "      <td>2.655343e+18</td>\n",
       "      <td>65.154219</td>\n",
       "    </tr>\n",
       "    <tr>\n",
       "      <th>min</th>\n",
       "      <td>6.888747e+15</td>\n",
       "      <td>1.000000</td>\n",
       "    </tr>\n",
       "    <tr>\n",
       "      <th>25%</th>\n",
       "      <td>2.397700e+18</td>\n",
       "      <td>9.000000</td>\n",
       "    </tr>\n",
       "    <tr>\n",
       "      <th>50%</th>\n",
       "      <td>4.688022e+18</td>\n",
       "      <td>20.000000</td>\n",
       "    </tr>\n",
       "    <tr>\n",
       "      <th>75%</th>\n",
       "      <td>7.007353e+18</td>\n",
       "      <td>37.000000</td>\n",
       "    </tr>\n",
       "    <tr>\n",
       "      <th>max</th>\n",
       "      <td>9.222603e+18</td>\n",
       "      <td>2307.000000</td>\n",
       "    </tr>\n",
       "  </tbody>\n",
       "</table>\n",
       "</div>"
      ],
      "text/plain": [
       "            user_id   event_name\n",
       "count  7.551000e+03  7551.000000\n",
       "mean   4.677319e+18    32.275593\n",
       "std    2.655343e+18    65.154219\n",
       "min    6.888747e+15     1.000000\n",
       "25%    2.397700e+18     9.000000\n",
       "50%    4.688022e+18    20.000000\n",
       "75%    7.007353e+18    37.000000\n",
       "max    9.222603e+18  2307.000000"
      ]
     },
     "execution_count": 17,
     "metadata": {},
     "output_type": "execute_result"
    }
   ],
   "source": [
    "# сделаем проверку\n",
    "event_mean = data.groupby('user_id', as_index=False).agg({'event_name': 'count'})\n",
    "event_mean.describe()"
   ]
  },
  {
   "cell_type": "markdown",
   "id": "51148fff",
   "metadata": {},
   "source": [
    "В среднем на пользователя приходится 32,2% событий, но медианное значение всего 20."
   ]
  },
  {
   "cell_type": "markdown",
   "id": "3d10ecd9",
   "metadata": {},
   "source": [
    "### Какой период времени содержится в наших данных?"
   ]
  },
  {
   "cell_type": "code",
   "execution_count": 18,
   "id": "fc3f6cc6",
   "metadata": {},
   "outputs": [
    {
     "data": {
      "text/plain": [
       "Timestamp('2019-07-25 04:43:36')"
      ]
     },
     "metadata": {},
     "output_type": "display_data"
    },
    {
     "data": {
      "text/plain": [
       "Timestamp('2019-08-07 21:15:17')"
      ]
     },
     "execution_count": 18,
     "metadata": {},
     "output_type": "execute_result"
    }
   ],
   "source": [
    "display(data['date_time'].min()) # минимальная дата\n",
    "data['date_time'].max() # максимальная дата"
   ]
  },
  {
   "cell_type": "markdown",
   "id": "290beba0",
   "metadata": {},
   "source": [
    "В нашем датасете данные с 25 июля по 7 августа 2019 года."
   ]
  },
  {
   "cell_type": "markdown",
   "id": "eb3f334d",
   "metadata": {},
   "source": [
    "Изучим пользовательскую активность за весь период."
   ]
  },
  {
   "cell_type": "code",
   "execution_count": 19,
   "id": "cafad4a8",
   "metadata": {},
   "outputs": [
    {
     "data": {
      "image/png": "[encoded data removed]",
      "text/plain": [
       "<Figure size 2250x750 with 1 Axes>"
      ]
     },
     "metadata": {
      "needs_background": "light"
     },
     "output_type": "display_data"
    }
   ],
   "source": [
    "# построим гистограмму распределения событий по дням\n",
    "fig, ax=plt.subplots(figsize=(15, 5), dpi=150)\n",
    "ax=sns.histplot(data=data, x='date_time')\n",
    "plt.title('Распределение событий по дате и времени')\n",
    "plt.xlabel('Дата и время')\n",
    "plt.ylabel('Количество событий');"
   ]
  },
  {
   "cell_type": "markdown",
   "id": "0884fa0e",
   "metadata": {},
   "source": [
    "Кажется до 1 августа вообще никакой антивности не было, но поскольку данные могут \"доехать\", мы сделаем срез с 5 утра 1.08.  \n",
    "Так же отметим, пики, выглядящие как нормальное распределение - бОльшая активность приходится на дневные часы. То есть по факту мы располагаем данными лишь за одну неделю августа с 1 по 7 число."
   ]
  },
  {
   "cell_type": "markdown",
   "id": "627a0914",
   "metadata": {},
   "source": [
    "Посмотрим, сколько событий мы отбросим."
   ]
  },
  {
   "cell_type": "code",
   "execution_count": 20,
   "id": "08afb305",
   "metadata": {
    "scrolled": true
   },
   "outputs": [
    {
     "name": "stdout",
     "output_type": "stream",
     "text": [
      "Отбрасываем 1.2 % событий\n"
     ]
    }
   ],
   "source": [
    "# посчитаем количество событий в срезе до 1 августа\n",
    "data_exclude = data.query('date_time < \"2019-08-01 00:00:00\"')['date_time'].count()\n",
    "# всего событий в датасете\n",
    "all_event = data['date_time'].count()\n",
    "print('Отбрасываем', round(data_exclude/all_event*100, 1), '% событий')\n"
   ]
  },
  {
   "cell_type": "code",
   "execution_count": 21,
   "id": "422b252d",
   "metadata": {},
   "outputs": [
    {
     "name": "stdout",
     "output_type": "stream",
     "text": [
      "Мы потеряем 17 уникальных пользователей\n"
     ]
    }
   ],
   "source": [
    "# посчитаем пользователей в изначальном датасете\n",
    "data_users = data.groupby('user_id')['user_id'].nunique().count()\n",
    "data = data[data['date_time'] >= '2019-08-01 00:00:00'] # сделаем срез\n",
    "# снова посчитаем пользователей\n",
    "data_users_new = data.groupby('user_id')['user_id'].nunique().count()\n",
    "lost_users = data_users - data_users_new\n",
    "print('Мы потеряем', lost_users, 'уникальных пользователей')\n"
   ]
  },
  {
   "cell_type": "markdown",
   "id": "3d0bb4fe",
   "metadata": {},
   "source": [
    "### Проверим наличие пользователей из всех трех групп"
   ]
  },
  {
   "cell_type": "code",
   "execution_count": 22,
   "id": "9e28286a",
   "metadata": {},
   "outputs": [
    {
     "data": {
      "text/plain": [
       "group\n",
       "246    79302\n",
       "247    77022\n",
       "248    84563\n",
       "Name: event_time, dtype: int64"
      ]
     },
     "execution_count": 22,
     "metadata": {},
     "output_type": "execute_result"
    }
   ],
   "source": [
    "groups = data.groupby('group')['event_time'].count()\n",
    "groups\n"
   ]
  },
  {
   "cell_type": "markdown",
   "id": "52608fd6",
   "metadata": {},
   "source": [
    "У нас есть данные из 3 групп, которые приблизительно равны.\n",
    "\n",
    "Мы очистили данные от выбросов, узнали что в среднем каждый пользователь совершил 32.2 события, посчитали сколько пользователей в наших данных и уточнили все ли группы на месте. Так же мы узнали тестируемый период времени: 1-7 августа 2019."
   ]
  },
  {
   "cell_type": "markdown",
   "id": "bbef622e",
   "metadata": {},
   "source": [
    "[Содержание](#0)"
   ]
  },
  {
   "cell_type": "markdown",
   "id": "9e70daa0",
   "metadata": {},
   "source": [
    "<a id=4> </a>\n",
    "## Воронка событий"
   ]
  },
  {
   "cell_type": "markdown",
   "id": "866ce803",
   "metadata": {},
   "source": [
    "Для начала разберемся, какие вообще события есть в наших данных, какова их частота и последовательность."
   ]
  },
  {
   "cell_type": "markdown",
   "id": "c4344da8",
   "metadata": {},
   "source": [
    "Посмотрим, сколько пользователей совершили каждое из событий.\n"
   ]
  },
  {
   "cell_type": "code",
   "execution_count": 23,
   "id": "4001c00c",
   "metadata": {},
   "outputs": [
    {
     "data": {
      "text/html": [
       "<div>\n",
       "<style scoped>\n",
       "    .dataframe tbody tr th:only-of-type {\n",
       "        vertical-align: middle;\n",
       "    }\n",
       "\n",
       "    .dataframe tbody tr th {\n",
       "        vertical-align: top;\n",
       "    }\n",
       "\n",
       "    .dataframe thead th {\n",
       "        text-align: right;\n",
       "    }\n",
       "</style>\n",
       "<table border=\"1\" class=\"dataframe\">\n",
       "  <thead>\n",
       "    <tr style=\"text-align: right;\">\n",
       "      <th></th>\n",
       "      <th>event_name</th>\n",
       "      <th>event_fr</th>\n",
       "    </tr>\n",
       "  </thead>\n",
       "  <tbody>\n",
       "    <tr>\n",
       "      <th>0</th>\n",
       "      <td>MainScreenAppear</td>\n",
       "      <td>117328</td>\n",
       "    </tr>\n",
       "    <tr>\n",
       "      <th>1</th>\n",
       "      <td>OffersScreenAppear</td>\n",
       "      <td>46333</td>\n",
       "    </tr>\n",
       "    <tr>\n",
       "      <th>2</th>\n",
       "      <td>CartScreenAppear</td>\n",
       "      <td>42303</td>\n",
       "    </tr>\n",
       "    <tr>\n",
       "      <th>3</th>\n",
       "      <td>PaymentScreenSuccessful</td>\n",
       "      <td>33918</td>\n",
       "    </tr>\n",
       "    <tr>\n",
       "      <th>4</th>\n",
       "      <td>Tutorial</td>\n",
       "      <td>1005</td>\n",
       "    </tr>\n",
       "  </tbody>\n",
       "</table>\n",
       "</div>"
      ],
      "text/plain": [
       "                event_name  event_fr\n",
       "0         MainScreenAppear    117328\n",
       "1       OffersScreenAppear     46333\n",
       "2         CartScreenAppear     42303\n",
       "3  PaymentScreenSuccessful     33918\n",
       "4                 Tutorial      1005"
      ]
     },
     "execution_count": 23,
     "metadata": {},
     "output_type": "execute_result"
    }
   ],
   "source": [
    "# сгруппируем по названию события\n",
    "event = data.groupby('event_name')\\\n",
    "    .agg({'date_time' : 'count'})\\\n",
    "    .sort_values(by='date_time', ascending=False)\\\n",
    "    .reset_index() # перезагрузим индексы\n",
    "event.columns=('event_name', 'event_fr') # переименуем колонки\n",
    "event\n"
   ]
  },
  {
   "cell_type": "markdown",
   "id": "ba4c5b8a",
   "metadata": {},
   "source": [
    "Чаще всего пользователи просматривали главный экран, а реже всего - выполняли Туториал. Все ожидаемо."
   ]
  },
  {
   "cell_type": "markdown",
   "id": "e1eeb068",
   "metadata": {},
   "source": [
    "Отсортируем события по числу пользователей. Посчитаем долю пользователей, с которыми хоть раз произошло данное событие."
   ]
  },
  {
   "cell_type": "code",
   "execution_count": 24,
   "id": "f3e961f0",
   "metadata": {
    "scrolled": true
   },
   "outputs": [
    {
     "data": {
      "text/html": [
       "<div>\n",
       "<style scoped>\n",
       "    .dataframe tbody tr th:only-of-type {\n",
       "        vertical-align: middle;\n",
       "    }\n",
       "\n",
       "    .dataframe tbody tr th {\n",
       "        vertical-align: top;\n",
       "    }\n",
       "\n",
       "    .dataframe thead th {\n",
       "        text-align: right;\n",
       "    }\n",
       "</style>\n",
       "<table border=\"1\" class=\"dataframe\">\n",
       "  <thead>\n",
       "    <tr style=\"text-align: right;\">\n",
       "      <th></th>\n",
       "      <th>event_name</th>\n",
       "      <th>sum_users</th>\n",
       "      <th>rate</th>\n",
       "      <th>total_rate</th>\n",
       "    </tr>\n",
       "  </thead>\n",
       "  <tbody>\n",
       "    <tr>\n",
       "      <th>0</th>\n",
       "      <td>MainScreenAppear</td>\n",
       "      <td>7419</td>\n",
       "      <td>100.0</td>\n",
       "      <td>98.0</td>\n",
       "    </tr>\n",
       "    <tr>\n",
       "      <th>1</th>\n",
       "      <td>OffersScreenAppear</td>\n",
       "      <td>4593</td>\n",
       "      <td>62.0</td>\n",
       "      <td>61.0</td>\n",
       "    </tr>\n",
       "    <tr>\n",
       "      <th>2</th>\n",
       "      <td>CartScreenAppear</td>\n",
       "      <td>3734</td>\n",
       "      <td>81.0</td>\n",
       "      <td>50.0</td>\n",
       "    </tr>\n",
       "    <tr>\n",
       "      <th>3</th>\n",
       "      <td>PaymentScreenSuccessful</td>\n",
       "      <td>3539</td>\n",
       "      <td>95.0</td>\n",
       "      <td>47.0</td>\n",
       "    </tr>\n",
       "  </tbody>\n",
       "</table>\n",
       "</div>"
      ],
      "text/plain": [
       "                event_name  sum_users   rate  total_rate\n",
       "0         MainScreenAppear       7419  100.0        98.0\n",
       "1       OffersScreenAppear       4593   62.0        61.0\n",
       "2         CartScreenAppear       3734   81.0        50.0\n",
       "3  PaymentScreenSuccessful       3539   95.0        47.0"
      ]
     },
     "execution_count": 24,
     "metadata": {},
     "output_type": "execute_result"
    }
   ],
   "source": [
    "# сгруппируем по кникальным пользователям\n",
    "event_user = data.groupby('event_name', as_index=False)['user_id'].nunique().sort_values(by='user_id', ascending=False).reset_index(drop=True)\n",
    "all_users = data['user_id'].nunique()\n",
    "event_user['rate'] = event_user['user_id']\n",
    "event_user['rate'] = event_user['rate'].shift(periods=1, fill_value=7408) # сдвинем колонку на 1, чтобы потом построчно получить долю\n",
    "event_user = event_user.drop(labels=[4], axis=0,)\n",
    "event_user['rate'] = round(event_user['user_id']/event_user['rate']*100)\n",
    "event_user.columns = ('event_name', 'sum_users', 'rate')\n",
    "# добавим колонку с долей от общего числа пользователей\n",
    "event_user['total_rate'] = round(event_user['sum_users']/all_users*100)\n",
    "event_user"
   ]
  },
  {
   "cell_type": "code",
   "execution_count": 25,
   "id": "2ba2b73d",
   "metadata": {},
   "outputs": [
    {
     "data": {
      "image/png": "[encoded data removed]",
      "text/plain": [
       "<Figure size 1000x300 with 1 Axes>"
      ]
     },
     "metadata": {
      "needs_background": "light"
     },
     "output_type": "display_data"
    }
   ],
   "source": [
    "fig, ax = plt.subplots(figsize=(10, 3), dpi=100)\n",
    "ax = sns.barplot(data=event_user, x='event_name', y='sum_users')\n",
    "plt.title('Воронка событий')\n",
    "plt.xlabel('Событие')\n",
    "plt.ylabel('Количество пользователей');"
   ]
  },
  {
   "cell_type": "markdown",
   "id": "0544748d",
   "metadata": {},
   "source": [
    "Мы получили воронку событий. Туториал из нее можно выбросить - он не обязательный и не влияет на последовательность.\n",
    "\n",
    "Больше всего теряется между первым и вторым шагом. Посмотрим какой процент доходит до оплаты."
   ]
  },
  {
   "cell_type": "code",
   "execution_count": 26,
   "id": "b736b9d4",
   "metadata": {},
   "outputs": [
    {
     "name": "stdout",
     "output_type": "stream",
     "text": [
      "От начала и до конца всю воронку проходит 48 % пользователей\n"
     ]
    }
   ],
   "source": [
    "print('От начала и до конца всю воронку проходит', round(event_user['sum_users'][3]/event_user['sum_users'][0]*100), '% пользователей')\n"
   ]
  },
  {
   "cell_type": "markdown",
   "id": "3da0d12e",
   "metadata": {},
   "source": [
    "Наша конверсия в покупку - 48%"
   ]
  },
  {
   "cell_type": "markdown",
   "id": "2bc20c3a",
   "metadata": {},
   "source": [
    "[Содержание](#0)"
   ]
  },
  {
   "cell_type": "markdown",
   "id": "024cfe6a",
   "metadata": {},
   "source": [
    "<a id=5> </a>\n",
    "## Результаты А/В-теста \n",
    "(который на самом деле А/А/В-тест)"
   ]
  },
  {
   "cell_type": "markdown",
   "id": "1f884c3f",
   "metadata": {},
   "source": [
    "Выше мы уже узнали, сколько участников в каждой из групп:"
   ]
  },
  {
   "cell_type": "code",
   "execution_count": 27,
   "id": "d40b1b45",
   "metadata": {
    "scrolled": false
   },
   "outputs": [
    {
     "data": {
      "text/plain": [
       "group\n",
       "246    79302\n",
       "247    77022\n",
       "248    84563\n",
       "Name: event_time, dtype: int64"
      ]
     },
     "execution_count": 27,
     "metadata": {},
     "output_type": "execute_result"
    }
   ],
   "source": [
    "groups"
   ]
  },
  {
   "cell_type": "markdown",
   "id": "4247d23b",
   "metadata": {},
   "source": [
    "Посмотрим так же, нет ли в наших данных пользователей, которые входили бы сразу в несколько групп."
   ]
  },
  {
   "cell_type": "code",
   "execution_count": 28,
   "id": "9b077f29",
   "metadata": {
    "scrolled": true
   },
   "outputs": [
    {
     "data": {
      "text/html": [
       "<div>\n",
       "<style scoped>\n",
       "    .dataframe tbody tr th:only-of-type {\n",
       "        vertical-align: middle;\n",
       "    }\n",
       "\n",
       "    .dataframe tbody tr th {\n",
       "        vertical-align: top;\n",
       "    }\n",
       "\n",
       "    .dataframe thead th {\n",
       "        text-align: right;\n",
       "    }\n",
       "</style>\n",
       "<table border=\"1\" class=\"dataframe\">\n",
       "  <thead>\n",
       "    <tr style=\"text-align: right;\">\n",
       "      <th></th>\n",
       "      <th>event_name</th>\n",
       "      <th>user_id</th>\n",
       "      <th>event_time</th>\n",
       "      <th>group</th>\n",
       "      <th>date_time</th>\n",
       "      <th>date</th>\n",
       "    </tr>\n",
       "  </thead>\n",
       "  <tbody>\n",
       "    <tr>\n",
       "      <th>2826</th>\n",
       "      <td>Tutorial</td>\n",
       "      <td>3737462046622621720</td>\n",
       "      <td>1564618048</td>\n",
       "      <td>246</td>\n",
       "      <td>2019-08-01 00:07:28</td>\n",
       "      <td>2019-08-01</td>\n",
       "    </tr>\n",
       "    <tr>\n",
       "      <th>2827</th>\n",
       "      <td>MainScreenAppear</td>\n",
       "      <td>3737462046622621720</td>\n",
       "      <td>1564618080</td>\n",
       "      <td>246</td>\n",
       "      <td>2019-08-01 00:08:00</td>\n",
       "      <td>2019-08-01</td>\n",
       "    </tr>\n",
       "    <tr>\n",
       "      <th>2828</th>\n",
       "      <td>MainScreenAppear</td>\n",
       "      <td>3737462046622621720</td>\n",
       "      <td>1564618135</td>\n",
       "      <td>246</td>\n",
       "      <td>2019-08-01 00:08:55</td>\n",
       "      <td>2019-08-01</td>\n",
       "    </tr>\n",
       "    <tr>\n",
       "      <th>2829</th>\n",
       "      <td>OffersScreenAppear</td>\n",
       "      <td>3737462046622621720</td>\n",
       "      <td>1564618138</td>\n",
       "      <td>246</td>\n",
       "      <td>2019-08-01 00:08:58</td>\n",
       "      <td>2019-08-01</td>\n",
       "    </tr>\n",
       "    <tr>\n",
       "      <th>2830</th>\n",
       "      <td>MainScreenAppear</td>\n",
       "      <td>1433840883824088890</td>\n",
       "      <td>1564618139</td>\n",
       "      <td>247</td>\n",
       "      <td>2019-08-01 00:08:59</td>\n",
       "      <td>2019-08-01</td>\n",
       "    </tr>\n",
       "  </tbody>\n",
       "</table>\n",
       "</div>"
      ],
      "text/plain": [
       "              event_name              user_id  event_time  group  \\\n",
       "2826            Tutorial  3737462046622621720  1564618048    246   \n",
       "2827    MainScreenAppear  3737462046622621720  1564618080    246   \n",
       "2828    MainScreenAppear  3737462046622621720  1564618135    246   \n",
       "2829  OffersScreenAppear  3737462046622621720  1564618138    246   \n",
       "2830    MainScreenAppear  1433840883824088890  1564618139    247   \n",
       "\n",
       "               date_time        date  \n",
       "2826 2019-08-01 00:07:28  2019-08-01  \n",
       "2827 2019-08-01 00:08:00  2019-08-01  \n",
       "2828 2019-08-01 00:08:55  2019-08-01  \n",
       "2829 2019-08-01 00:08:58  2019-08-01  \n",
       "2830 2019-08-01 00:08:59  2019-08-01  "
      ]
     },
     "execution_count": 28,
     "metadata": {},
     "output_type": "execute_result"
    }
   ],
   "source": [
    "data.head()\n"
   ]
  },
  {
   "cell_type": "code",
   "execution_count": 29,
   "id": "736d20df",
   "metadata": {},
   "outputs": [
    {
     "data": {
      "text/html": [
       "<div>\n",
       "<style scoped>\n",
       "    .dataframe tbody tr th:only-of-type {\n",
       "        vertical-align: middle;\n",
       "    }\n",
       "\n",
       "    .dataframe tbody tr th {\n",
       "        vertical-align: top;\n",
       "    }\n",
       "\n",
       "    .dataframe thead th {\n",
       "        text-align: right;\n",
       "    }\n",
       "</style>\n",
       "<table border=\"1\" class=\"dataframe\">\n",
       "  <thead>\n",
       "    <tr style=\"text-align: right;\">\n",
       "      <th></th>\n",
       "      <th>user_id</th>\n",
       "      <th>group</th>\n",
       "    </tr>\n",
       "  </thead>\n",
       "  <tbody>\n",
       "  </tbody>\n",
       "</table>\n",
       "</div>"
      ],
      "text/plain": [
       "Empty DataFrame\n",
       "Columns: [user_id, group]\n",
       "Index: []"
      ]
     },
     "execution_count": 29,
     "metadata": {},
     "output_type": "execute_result"
    }
   ],
   "source": [
    "data_group = data.groupby('user_id', as_index=False).agg({'group': 'nunique'})\n",
    "\n",
    "data_group.query('group > 1')\n"
   ]
  },
  {
   "cell_type": "markdown",
   "id": "a2cb1ea9",
   "metadata": {},
   "source": [
    "По формальному признаку группы разбиты правильно - нет ползователей, которые бы случайно попали в несколько групп сразу."
   ]
  },
  {
   "cell_type": "markdown",
   "id": "81a13284",
   "metadata": {},
   "source": [
    "### Проверяем статистическую разницу между группами"
   ]
  },
  {
   "cell_type": "markdown",
   "id": "71411fad",
   "metadata": {},
   "source": [
    "Группы 246 и 247 - контрольные. Давайте проверим, есть ли статистически значимая разница между этими группами.\n",
    "\n",
    "$H^0$ гипотеза - конверсия групп 246 и 247 не отличается, тогда $H^1$ гипотеза - конверсия групп 246 и 247 отличается статистически значимо. Для этого посмотрим сколько человек из каждой группы совершили каждое из событий."
   ]
  },
  {
   "cell_type": "code",
   "execution_count": 30,
   "id": "7bb590c8",
   "metadata": {},
   "outputs": [
    {
     "data": {
      "text/html": [
       "<div>\n",
       "<style scoped>\n",
       "    .dataframe tbody tr th:only-of-type {\n",
       "        vertical-align: middle;\n",
       "    }\n",
       "\n",
       "    .dataframe tbody tr th {\n",
       "        vertical-align: top;\n",
       "    }\n",
       "\n",
       "    .dataframe thead th {\n",
       "        text-align: right;\n",
       "    }\n",
       "</style>\n",
       "<table border=\"1\" class=\"dataframe\">\n",
       "  <thead>\n",
       "    <tr style=\"text-align: right;\">\n",
       "      <th></th>\n",
       "      <th>event_name</th>\n",
       "      <th>user_id</th>\n",
       "      <th>event_time</th>\n",
       "      <th>group</th>\n",
       "      <th>date_time</th>\n",
       "      <th>date</th>\n",
       "    </tr>\n",
       "  </thead>\n",
       "  <tbody>\n",
       "    <tr>\n",
       "      <th>2826</th>\n",
       "      <td>Tutorial</td>\n",
       "      <td>3737462046622621720</td>\n",
       "      <td>1564618048</td>\n",
       "      <td>246</td>\n",
       "      <td>2019-08-01 00:07:28</td>\n",
       "      <td>2019-08-01</td>\n",
       "    </tr>\n",
       "    <tr>\n",
       "      <th>2827</th>\n",
       "      <td>MainScreenAppear</td>\n",
       "      <td>3737462046622621720</td>\n",
       "      <td>1564618080</td>\n",
       "      <td>246</td>\n",
       "      <td>2019-08-01 00:08:00</td>\n",
       "      <td>2019-08-01</td>\n",
       "    </tr>\n",
       "    <tr>\n",
       "      <th>2828</th>\n",
       "      <td>MainScreenAppear</td>\n",
       "      <td>3737462046622621720</td>\n",
       "      <td>1564618135</td>\n",
       "      <td>246</td>\n",
       "      <td>2019-08-01 00:08:55</td>\n",
       "      <td>2019-08-01</td>\n",
       "    </tr>\n",
       "    <tr>\n",
       "      <th>2829</th>\n",
       "      <td>OffersScreenAppear</td>\n",
       "      <td>3737462046622621720</td>\n",
       "      <td>1564618138</td>\n",
       "      <td>246</td>\n",
       "      <td>2019-08-01 00:08:58</td>\n",
       "      <td>2019-08-01</td>\n",
       "    </tr>\n",
       "    <tr>\n",
       "      <th>2830</th>\n",
       "      <td>MainScreenAppear</td>\n",
       "      <td>1433840883824088890</td>\n",
       "      <td>1564618139</td>\n",
       "      <td>247</td>\n",
       "      <td>2019-08-01 00:08:59</td>\n",
       "      <td>2019-08-01</td>\n",
       "    </tr>\n",
       "  </tbody>\n",
       "</table>\n",
       "</div>"
      ],
      "text/plain": [
       "              event_name              user_id  event_time  group  \\\n",
       "2826            Tutorial  3737462046622621720  1564618048    246   \n",
       "2827    MainScreenAppear  3737462046622621720  1564618080    246   \n",
       "2828    MainScreenAppear  3737462046622621720  1564618135    246   \n",
       "2829  OffersScreenAppear  3737462046622621720  1564618138    246   \n",
       "2830    MainScreenAppear  1433840883824088890  1564618139    247   \n",
       "\n",
       "               date_time        date  \n",
       "2826 2019-08-01 00:07:28  2019-08-01  \n",
       "2827 2019-08-01 00:08:00  2019-08-01  \n",
       "2828 2019-08-01 00:08:55  2019-08-01  \n",
       "2829 2019-08-01 00:08:58  2019-08-01  \n",
       "2830 2019-08-01 00:08:59  2019-08-01  "
      ]
     },
     "execution_count": 30,
     "metadata": {},
     "output_type": "execute_result"
    }
   ],
   "source": [
    "data.head()"
   ]
  },
  {
   "cell_type": "code",
   "execution_count": 31,
   "id": "029cb84d",
   "metadata": {},
   "outputs": [
    {
     "data": {
      "text/html": [
       "<div>\n",
       "<style scoped>\n",
       "    .dataframe tbody tr th:only-of-type {\n",
       "        vertical-align: middle;\n",
       "    }\n",
       "\n",
       "    .dataframe tbody tr th {\n",
       "        vertical-align: top;\n",
       "    }\n",
       "\n",
       "    .dataframe thead th {\n",
       "        text-align: right;\n",
       "    }\n",
       "</style>\n",
       "<table border=\"1\" class=\"dataframe\">\n",
       "  <thead>\n",
       "    <tr style=\"text-align: right;\">\n",
       "      <th>group</th>\n",
       "      <th>event_name</th>\n",
       "      <th>246</th>\n",
       "      <th>247</th>\n",
       "      <th>248</th>\n",
       "    </tr>\n",
       "  </thead>\n",
       "  <tbody>\n",
       "    <tr>\n",
       "      <th>0</th>\n",
       "      <td>MainScreenAppear</td>\n",
       "      <td>2450</td>\n",
       "      <td>2476</td>\n",
       "      <td>2493</td>\n",
       "    </tr>\n",
       "    <tr>\n",
       "      <th>1</th>\n",
       "      <td>OffersScreenAppear</td>\n",
       "      <td>1542</td>\n",
       "      <td>1520</td>\n",
       "      <td>1531</td>\n",
       "    </tr>\n",
       "    <tr>\n",
       "      <th>2</th>\n",
       "      <td>CartScreenAppear</td>\n",
       "      <td>1266</td>\n",
       "      <td>1238</td>\n",
       "      <td>1230</td>\n",
       "    </tr>\n",
       "    <tr>\n",
       "      <th>3</th>\n",
       "      <td>PaymentScreenSuccessful</td>\n",
       "      <td>1200</td>\n",
       "      <td>1158</td>\n",
       "      <td>1181</td>\n",
       "    </tr>\n",
       "  </tbody>\n",
       "</table>\n",
       "</div>"
      ],
      "text/plain": [
       "group               event_name   246   247   248\n",
       "0             MainScreenAppear  2450  2476  2493\n",
       "1           OffersScreenAppear  1542  1520  1531\n",
       "2             CartScreenAppear  1266  1238  1230\n",
       "3      PaymentScreenSuccessful  1200  1158  1181"
      ]
     },
     "execution_count": 31,
     "metadata": {},
     "output_type": "execute_result"
    }
   ],
   "source": [
    "all_groups = data.pivot_table(index = 'event_name', columns='group', values='user_id', aggfunc=lambda x: len(x.unique()))\\\n",
    "    .reset_index()\\\n",
    "    .sort_values(by=246, ascending=False)\\\n",
    "    .reset_index(drop=True)\n",
    "all_groups = all_groups.drop(labels=[4], axis=0,) # удалим туториал\n",
    "all_groups"
   ]
  },
  {
   "cell_type": "markdown",
   "id": "a6699095",
   "metadata": {},
   "source": [
    "Посчитаем так же сколько всего было пользователей в каждой из групп. Это будет 100% "
   ]
  },
  {
   "cell_type": "code",
   "execution_count": 32,
   "id": "43f63bb8",
   "metadata": {
    "scrolled": true
   },
   "outputs": [
    {
     "data": {
      "text/html": [
       "<div>\n",
       "<style scoped>\n",
       "    .dataframe tbody tr th:only-of-type {\n",
       "        vertical-align: middle;\n",
       "    }\n",
       "\n",
       "    .dataframe tbody tr th {\n",
       "        vertical-align: top;\n",
       "    }\n",
       "\n",
       "    .dataframe thead th {\n",
       "        text-align: right;\n",
       "    }\n",
       "</style>\n",
       "<table border=\"1\" class=\"dataframe\">\n",
       "  <thead>\n",
       "    <tr style=\"text-align: right;\">\n",
       "      <th></th>\n",
       "      <th>group</th>\n",
       "      <th>user_id</th>\n",
       "    </tr>\n",
       "  </thead>\n",
       "  <tbody>\n",
       "    <tr>\n",
       "      <th>0</th>\n",
       "      <td>246</td>\n",
       "      <td>2484</td>\n",
       "    </tr>\n",
       "    <tr>\n",
       "      <th>1</th>\n",
       "      <td>247</td>\n",
       "      <td>2513</td>\n",
       "    </tr>\n",
       "    <tr>\n",
       "      <th>2</th>\n",
       "      <td>248</td>\n",
       "      <td>2537</td>\n",
       "    </tr>\n",
       "  </tbody>\n",
       "</table>\n",
       "</div>"
      ],
      "text/plain": [
       "   group  user_id\n",
       "0    246     2484\n",
       "1    247     2513\n",
       "2    248     2537"
      ]
     },
     "execution_count": 32,
     "metadata": {},
     "output_type": "execute_result"
    }
   ],
   "source": [
    "user_groups = pd.pivot_table(data, index='group', values='user_id', aggfunc=lambda x: len(x.unique())).reset_index()\n",
    "user_groups\n"
   ]
  },
  {
   "cell_type": "markdown",
   "id": "441f080c",
   "metadata": {},
   "source": [
    "Добравим первой строкой общее число пользователей из каждой группы, участвовавших в эксперименте."
   ]
  },
  {
   "cell_type": "code",
   "execution_count": 33,
   "id": "9801c977",
   "metadata": {},
   "outputs": [
    {
     "data": {
      "text/html": [
       "<div>\n",
       "<style scoped>\n",
       "    .dataframe tbody tr th:only-of-type {\n",
       "        vertical-align: middle;\n",
       "    }\n",
       "\n",
       "    .dataframe tbody tr th {\n",
       "        vertical-align: top;\n",
       "    }\n",
       "\n",
       "    .dataframe thead th {\n",
       "        text-align: right;\n",
       "    }\n",
       "</style>\n",
       "<table border=\"1\" class=\"dataframe\">\n",
       "  <thead>\n",
       "    <tr style=\"text-align: right;\">\n",
       "      <th></th>\n",
       "      <th>event_name</th>\n",
       "      <th>246</th>\n",
       "      <th>247</th>\n",
       "      <th>248</th>\n",
       "    </tr>\n",
       "  </thead>\n",
       "  <tbody>\n",
       "    <tr>\n",
       "      <th>0</th>\n",
       "      <td>AllUsers</td>\n",
       "      <td>2484</td>\n",
       "      <td>2513</td>\n",
       "      <td>2537</td>\n",
       "    </tr>\n",
       "    <tr>\n",
       "      <th>1</th>\n",
       "      <td>MainScreenAppear</td>\n",
       "      <td>2450</td>\n",
       "      <td>2476</td>\n",
       "      <td>2493</td>\n",
       "    </tr>\n",
       "    <tr>\n",
       "      <th>2</th>\n",
       "      <td>OffersScreenAppear</td>\n",
       "      <td>1542</td>\n",
       "      <td>1520</td>\n",
       "      <td>1531</td>\n",
       "    </tr>\n",
       "    <tr>\n",
       "      <th>3</th>\n",
       "      <td>CartScreenAppear</td>\n",
       "      <td>1266</td>\n",
       "      <td>1238</td>\n",
       "      <td>1230</td>\n",
       "    </tr>\n",
       "    <tr>\n",
       "      <th>4</th>\n",
       "      <td>PaymentScreenSuccessful</td>\n",
       "      <td>1200</td>\n",
       "      <td>1158</td>\n",
       "      <td>1181</td>\n",
       "    </tr>\n",
       "  </tbody>\n",
       "</table>\n",
       "</div>"
      ],
      "text/plain": [
       "                event_name   246   247   248\n",
       "0                 AllUsers  2484  2513  2537\n",
       "1         MainScreenAppear  2450  2476  2493\n",
       "2       OffersScreenAppear  1542  1520  1531\n",
       "3         CartScreenAppear  1266  1238  1230\n",
       "4  PaymentScreenSuccessful  1200  1158  1181"
      ]
     },
     "execution_count": 33,
     "metadata": {},
     "output_type": "execute_result"
    }
   ],
   "source": [
    "# создадим строку с пользователями\n",
    "new_row = pd.DataFrame({'event_name' : ['AllUsers'], 246: [user_groups['user_id'][0]], 247: [user_groups['user_id'][1]], 248: [user_groups['user_id'][2]]})\n",
    "# соединим два датафрейма\n",
    "all_groups = pd.concat([new_row, all_groups], ignore_index = True, axis = 0)\n",
    "all_groups\n"
   ]
  },
  {
   "cell_type": "markdown",
   "id": "0de62120",
   "metadata": {},
   "source": [
    "Посмотрим, какая доля пользователей из группы совершила это действие."
   ]
  },
  {
   "cell_type": "code",
   "execution_count": 34,
   "id": "76b9b6c9",
   "metadata": {
    "scrolled": false
   },
   "outputs": [
    {
     "name": "stdout",
     "output_type": "stream",
     "text": [
      "Доля пользователей из группы 246, увидевшая главный экран = 98.6 %\n",
      "Доля пользователей из группы 247, увидевшая главный экран = 98.5 %\n"
     ]
    }
   ],
   "source": [
    "print('Доля пользователей из группы 246, увидевшая главный экран =', round(all_groups[246][1]/all_groups[246][0]*100, 1), '%')\n",
    "print('Доля пользователей из группы 247, увидевшая главный экран =', round(all_groups[247][1]/all_groups[247][0]*100, 1), '%')\n"
   ]
  },
  {
   "cell_type": "markdown",
   "id": "49879422",
   "metadata": {},
   "source": [
    "Интересно, какое же событие произошло с этими пользователями, если они получили номер участия, но даже не посмотрели на главную страницу?"
   ]
  },
  {
   "cell_type": "markdown",
   "id": "ed5d2527",
   "metadata": {},
   "source": [
    "Главным по популярности тем не менее становится просмотр главной страницы. Проверим разницу конверсии в группах.  \n",
    "$H^0$ и $H^1$ останутся теми же."
   ]
  },
  {
   "cell_type": "code",
   "execution_count": 35,
   "id": "b7e8d637",
   "metadata": {},
   "outputs": [
    {
     "name": "stdout",
     "output_type": "stream",
     "text": [
      "p-значение:  0.7570597232046099\n",
      "Не получилось отвергнуть нулевую гипотезу, нет оснований считать доли разными.\n"
     ]
    }
   ],
   "source": [
    "# напишем функцию, которая будет проверять равернство групп\n",
    "\n",
    "def equal(successes, trials):\n",
    "    alpha = .05 # критический уровень статистической значимости\n",
    "  \n",
    "    # пропорция успехов в первой группе:\n",
    "    p1 = successes[0]/trials[0]\n",
    "    # пропорция успехов во второй группе:\n",
    "    p2 = successes[1]/trials[1]\n",
    "\n",
    "    # пропорция успехов в комбинированном датасете:\n",
    "    p_combined = (successes[0] + successes[1]) / (trials[0] + trials[1])\n",
    "    # разница пропорций в датасетах\n",
    "    difference = p1 - p2 \n",
    "\n",
    "    # считаем статистику в ст.отклонениях стандартного нормального распределения\n",
    "    z_value = difference / mth.sqrt(p_combined * (1 - p_combined) * (1/trials[0] + 1/trials[1]))\n",
    "\n",
    "    # задаем стандартное нормальное распределение (среднее 0, ст.отклонение 1)\n",
    "    distr = st.norm(0, 1)  \n",
    "\n",
    "    p_value = (1 - distr.cdf(abs(z_value))) * 2\n",
    "\n",
    "    print('p-значение: ', p_value)\n",
    "\n",
    "    if p_value < alpha:\n",
    "        print('Отвергаем нулевую гипотезу: между долями есть значимая разница.')\n",
    "    else:\n",
    "        print('Не получилось отвергнуть нулевую гипотезу, нет оснований считать доли разными.')\n",
    "        \n",
    "# применим нашу функцию, чтобы сравнить группы\n",
    " \n",
    "successes = np.array([all_groups[246][1], all_groups[247][1]])\n",
    "trials = np.array([all_groups[246][0], all_groups[247][0]])\n",
    "equal(successes, trials)\n"
   ]
  },
  {
   "cell_type": "markdown",
   "id": "48271d1f",
   "metadata": {},
   "source": [
    "Проверим так же все остальные события для наших контрольных групп"
   ]
  },
  {
   "cell_type": "markdown",
   "id": "2193f082",
   "metadata": {},
   "source": [
    "Является ли разница между группами статистически значимой?   \n",
    "$H^0$ и $H^1$ останутся теми же."
   ]
  },
  {
   "cell_type": "code",
   "execution_count": 36,
   "id": "44647fb4",
   "metadata": {},
   "outputs": [
    {
     "name": "stdout",
     "output_type": "stream",
     "text": [
      "MainScreenAppear\n",
      "p-значение:  0.7570597232046099\n",
      "Не получилось отвергнуть нулевую гипотезу, нет оснований считать доли разными.\n",
      "OffersScreenAppear\n",
      "p-значение:  0.2480954578522181\n",
      "Не получилось отвергнуть нулевую гипотезу, нет оснований считать доли разными.\n",
      "CartScreenAppear\n",
      "p-значение:  0.22883372237997213\n",
      "Не получилось отвергнуть нулевую гипотезу, нет оснований считать доли разными.\n",
      "PaymentScreenSuccessful\n",
      "p-значение:  0.11456679313141849\n",
      "Не получилось отвергнуть нулевую гипотезу, нет оснований считать доли разными.\n"
     ]
    }
   ],
   "source": [
    " # напишем цикл, который переберет все пары в таблице ири помощи той же функции\n",
    "indexes=( 1, 2, 3, 4)\n",
    "\n",
    "for i in indexes:\n",
    "    try:\n",
    "        print(all_groups['event_name'][i])\n",
    "        equal(np.array([all_groups[246][i], all_groups[247][i]]), np.array([all_groups[246][0], all_groups[247][0]]))\n",
    "        \n",
    "    except:\n",
    "        print() \n"
   ]
  },
  {
   "cell_type": "markdown",
   "id": "345c259c",
   "metadata": {},
   "source": [
    "Ни в одном из экспериментов конверсия статистически не отличается.\n",
    "\n",
    "Можно сделать вывод, что разбиение на группы работает корректно."
   ]
  },
  {
   "cell_type": "markdown",
   "id": "ea7d8a74",
   "metadata": {},
   "source": [
    "### Проверяем статистическую разницу контрольных групп с экспериментальной"
   ]
  },
  {
   "cell_type": "code",
   "execution_count": 37,
   "id": "6ac29760",
   "metadata": {
    "scrolled": true
   },
   "outputs": [
    {
     "data": {
      "text/html": [
       "<div>\n",
       "<style scoped>\n",
       "    .dataframe tbody tr th:only-of-type {\n",
       "        vertical-align: middle;\n",
       "    }\n",
       "\n",
       "    .dataframe tbody tr th {\n",
       "        vertical-align: top;\n",
       "    }\n",
       "\n",
       "    .dataframe thead th {\n",
       "        text-align: right;\n",
       "    }\n",
       "</style>\n",
       "<table border=\"1\" class=\"dataframe\">\n",
       "  <thead>\n",
       "    <tr style=\"text-align: right;\">\n",
       "      <th></th>\n",
       "      <th>event_name</th>\n",
       "      <th>246</th>\n",
       "      <th>247</th>\n",
       "      <th>248</th>\n",
       "    </tr>\n",
       "  </thead>\n",
       "  <tbody>\n",
       "    <tr>\n",
       "      <th>0</th>\n",
       "      <td>AllUsers</td>\n",
       "      <td>2484</td>\n",
       "      <td>2513</td>\n",
       "      <td>2537</td>\n",
       "    </tr>\n",
       "    <tr>\n",
       "      <th>1</th>\n",
       "      <td>MainScreenAppear</td>\n",
       "      <td>2450</td>\n",
       "      <td>2476</td>\n",
       "      <td>2493</td>\n",
       "    </tr>\n",
       "    <tr>\n",
       "      <th>2</th>\n",
       "      <td>OffersScreenAppear</td>\n",
       "      <td>1542</td>\n",
       "      <td>1520</td>\n",
       "      <td>1531</td>\n",
       "    </tr>\n",
       "    <tr>\n",
       "      <th>3</th>\n",
       "      <td>CartScreenAppear</td>\n",
       "      <td>1266</td>\n",
       "      <td>1238</td>\n",
       "      <td>1230</td>\n",
       "    </tr>\n",
       "    <tr>\n",
       "      <th>4</th>\n",
       "      <td>PaymentScreenSuccessful</td>\n",
       "      <td>1200</td>\n",
       "      <td>1158</td>\n",
       "      <td>1181</td>\n",
       "    </tr>\n",
       "  </tbody>\n",
       "</table>\n",
       "</div>"
      ],
      "text/plain": [
       "                event_name   246   247   248\n",
       "0                 AllUsers  2484  2513  2537\n",
       "1         MainScreenAppear  2450  2476  2493\n",
       "2       OffersScreenAppear  1542  1520  1531\n",
       "3         CartScreenAppear  1266  1238  1230\n",
       "4  PaymentScreenSuccessful  1200  1158  1181"
      ]
     },
     "execution_count": 37,
     "metadata": {},
     "output_type": "execute_result"
    }
   ],
   "source": [
    "all_groups\n"
   ]
  },
  {
   "cell_type": "markdown",
   "id": "9e8709e4",
   "metadata": {},
   "source": [
    "Применим нашу же функцию, только теперь сравнивать будем результаты контрольной группы - с экспериментальной.  \n",
    "$H^0$ - результаты контрольной группы 246 и экспериментальной 248 не отличаются  \n",
    "$H^1$ - результаты групп разные."
   ]
  },
  {
   "cell_type": "code",
   "execution_count": 38,
   "id": "690368c6",
   "metadata": {
    "scrolled": true
   },
   "outputs": [
    {
     "name": "stdout",
     "output_type": "stream",
     "text": [
      "MainScreenAppear\n",
      "p-значение:  0.2949721933554552\n",
      "Не получилось отвергнуть нулевую гипотезу, нет оснований считать доли разными.\n",
      "OffersScreenAppear\n",
      "p-значение:  0.20836205402738917\n",
      "Не получилось отвергнуть нулевую гипотезу, нет оснований считать доли разными.\n",
      "CartScreenAppear\n",
      "p-значение:  0.07842923237520116\n",
      "Не получилось отвергнуть нулевую гипотезу, нет оснований считать доли разными.\n",
      "PaymentScreenSuccessful\n",
      "p-значение:  0.2122553275697796\n",
      "Не получилось отвергнуть нулевую гипотезу, нет оснований считать доли разными.\n"
     ]
    }
   ],
   "source": [
    "indexes=(1, 2, 3, 4)\n",
    "for i in indexes:\n",
    "    try:\n",
    "        print(all_groups['event_name'][i])\n",
    "        equal(np.array([all_groups[246][i], all_groups[248][i]]), np.array([all_groups[246][0], all_groups[248][0]]))\n",
    "    except:\n",
    "        print()"
   ]
  },
  {
   "cell_type": "markdown",
   "id": "a2e0542a",
   "metadata": {},
   "source": [
    "Кажется контрольная группа не показала результата, конверсия не поменялась статистически значимо. Посмотрим на результаты второй контрольной группы.  \n",
    "$H^0$ - результаты контрольной группы 247 и экспериментальной 248 не отличаются  \n",
    "$H^1$ - результаты групп разные."
   ]
  },
  {
   "cell_type": "code",
   "execution_count": 39,
   "id": "98e84390",
   "metadata": {},
   "outputs": [
    {
     "name": "stdout",
     "output_type": "stream",
     "text": [
      "MainScreenAppear\n",
      "p-значение:  0.4587053616621515\n",
      "Не получилось отвергнуть нулевую гипотезу, нет оснований считать доли разными.\n",
      "OffersScreenAppear\n",
      "p-значение:  0.9197817830592261\n",
      "Не получилось отвергнуть нулевую гипотезу, нет оснований считать доли разными.\n",
      "CartScreenAppear\n",
      "p-значение:  0.5786197879539783\n",
      "Не получилось отвергнуть нулевую гипотезу, нет оснований считать доли разными.\n",
      "PaymentScreenSuccessful\n",
      "p-значение:  0.7373415053803964\n",
      "Не получилось отвергнуть нулевую гипотезу, нет оснований считать доли разными.\n"
     ]
    }
   ],
   "source": [
    "\n",
    "for i in indexes:\n",
    "    try:\n",
    "        print(all_groups['event_name'][i])\n",
    "        equal(np.array([all_groups[247][i], all_groups[248][i]]), np.array([all_groups[247][0], all_groups[248][0]]))\n",
    "    except:\n",
    "        print()"
   ]
  },
  {
   "cell_type": "code",
   "execution_count": 40,
   "id": "35b10e62",
   "metadata": {
    "scrolled": true
   },
   "outputs": [
    {
     "name": "stdout",
     "output_type": "stream",
     "text": [
      "Конверсия в группе 247 составляет 46.1 %\n"
     ]
    }
   ],
   "source": [
    "cr247 = round(all_groups[247][4]/all_groups[247][0]* 100, 1)\n",
    "print('Конверсия в группе 247 составляет',cr247 , '%' )\n"
   ]
  },
  {
   "cell_type": "code",
   "execution_count": 41,
   "id": "7a3f542d",
   "metadata": {
    "scrolled": true
   },
   "outputs": [
    {
     "name": "stdout",
     "output_type": "stream",
     "text": [
      "Конверсия в группе 248 составляет 46.6 %\n"
     ]
    }
   ],
   "source": [
    "cr247 = round(all_groups[248][4]/all_groups[248][0]* 100, 1)\n",
    "print('Конверсия в группе 248 составляет',cr247 , '%' )\n"
   ]
  },
  {
   "cell_type": "markdown",
   "id": "1ca22147",
   "metadata": {},
   "source": [
    "И по-прежнему эксперимент не дает надежного результата, позволяющего судить о том, что смена шрифта приводит к повышению конверсии на каком-либо этапе. Мы так же видим, что конверсия в группах 247 и 248 отличается лишь на 5/10%.\n",
    "\n",
    "Попробуем объединить контрольные группы и сделать сравнение с экспериментальной еще раз."
   ]
  },
  {
   "cell_type": "code",
   "execution_count": 42,
   "id": "af266f9b",
   "metadata": {},
   "outputs": [
    {
     "data": {
      "text/html": [
       "<div>\n",
       "<style scoped>\n",
       "    .dataframe tbody tr th:only-of-type {\n",
       "        vertical-align: middle;\n",
       "    }\n",
       "\n",
       "    .dataframe tbody tr th {\n",
       "        vertical-align: top;\n",
       "    }\n",
       "\n",
       "    .dataframe thead th {\n",
       "        text-align: right;\n",
       "    }\n",
       "</style>\n",
       "<table border=\"1\" class=\"dataframe\">\n",
       "  <thead>\n",
       "    <tr style=\"text-align: right;\">\n",
       "      <th></th>\n",
       "      <th>event_name</th>\n",
       "      <th>246</th>\n",
       "      <th>247</th>\n",
       "      <th>248</th>\n",
       "      <th>246-247</th>\n",
       "    </tr>\n",
       "  </thead>\n",
       "  <tbody>\n",
       "    <tr>\n",
       "      <th>0</th>\n",
       "      <td>AllUsers</td>\n",
       "      <td>2484</td>\n",
       "      <td>2513</td>\n",
       "      <td>2537</td>\n",
       "      <td>4997</td>\n",
       "    </tr>\n",
       "    <tr>\n",
       "      <th>1</th>\n",
       "      <td>MainScreenAppear</td>\n",
       "      <td>2450</td>\n",
       "      <td>2476</td>\n",
       "      <td>2493</td>\n",
       "      <td>4926</td>\n",
       "    </tr>\n",
       "    <tr>\n",
       "      <th>2</th>\n",
       "      <td>OffersScreenAppear</td>\n",
       "      <td>1542</td>\n",
       "      <td>1520</td>\n",
       "      <td>1531</td>\n",
       "      <td>3062</td>\n",
       "    </tr>\n",
       "    <tr>\n",
       "      <th>3</th>\n",
       "      <td>CartScreenAppear</td>\n",
       "      <td>1266</td>\n",
       "      <td>1238</td>\n",
       "      <td>1230</td>\n",
       "      <td>2504</td>\n",
       "    </tr>\n",
       "    <tr>\n",
       "      <th>4</th>\n",
       "      <td>PaymentScreenSuccessful</td>\n",
       "      <td>1200</td>\n",
       "      <td>1158</td>\n",
       "      <td>1181</td>\n",
       "      <td>2358</td>\n",
       "    </tr>\n",
       "  </tbody>\n",
       "</table>\n",
       "</div>"
      ],
      "text/plain": [
       "                event_name   246   247   248  246-247\n",
       "0                 AllUsers  2484  2513  2537     4997\n",
       "1         MainScreenAppear  2450  2476  2493     4926\n",
       "2       OffersScreenAppear  1542  1520  1531     3062\n",
       "3         CartScreenAppear  1266  1238  1230     2504\n",
       "4  PaymentScreenSuccessful  1200  1158  1181     2358"
      ]
     },
     "execution_count": 42,
     "metadata": {},
     "output_type": "execute_result"
    }
   ],
   "source": [
    "all_groups['246-247'] = all_groups[246]+all_groups[247]\n",
    "all_groups\n"
   ]
  },
  {
   "cell_type": "code",
   "execution_count": 43,
   "id": "ca471e48",
   "metadata": {},
   "outputs": [
    {
     "name": "stdout",
     "output_type": "stream",
     "text": [
      "MainScreenAppear\n",
      "p-значение:  0.29424526837179577\n",
      "Не получилось отвергнуть нулевую гипотезу, нет оснований считать доли разными.\n",
      "OffersScreenAppear\n",
      "p-значение:  0.43425549655188256\n",
      "Не получилось отвергнуть нулевую гипотезу, нет оснований считать доли разными.\n",
      "CartScreenAppear\n",
      "p-значение:  0.18175875284404386\n",
      "Не получилось отвергнуть нулевую гипотезу, нет оснований считать доли разными.\n",
      "PaymentScreenSuccessful\n",
      "p-значение:  0.6004294282308704\n",
      "Не получилось отвергнуть нулевую гипотезу, нет оснований считать доли разными.\n"
     ]
    }
   ],
   "source": [
    "for i in indexes:\n",
    "    try:\n",
    "        print(all_groups['event_name'][i])\n",
    "        equal(np.array([all_groups['246-247'][i], all_groups[248][i]]), np.array([all_groups['246-247'][0], all_groups[248][0]]))\n",
    "    except:\n",
    "        print()"
   ]
  },
  {
   "cell_type": "markdown",
   "id": "7bda9e1e",
   "metadata": {},
   "source": [
    "В общем картина не поменялась, между контрольной и экспериментальной группой все так же нет значимой разницы в отношении конверсии."
   ]
  },
  {
   "cell_type": "markdown",
   "id": "685c47ac",
   "metadata": {},
   "source": [
    "[Содержание](#0)"
   ]
  },
  {
   "cell_type": "markdown",
   "id": "fd5c3bed",
   "metadata": {},
   "source": [
    "\n",
    "## Можно ли доверять результатам эксперимента?"
   ]
  },
  {
   "cell_type": "markdown",
   "id": "705aabfc",
   "metadata": {},
   "source": [
    "Мы выбрали уровень статистической значимости 0.05 - это значит что каждый 20 эксперимент может дать ложный результат. В ходе исследования мы проделали 16 экспериментов, это означает, что выбранный нами уровень статистической значимости позволяет доверять результатам."
   ]
  },
  {
   "cell_type": "markdown",
   "id": "e5fefa51",
   "metadata": {},
   "source": [
    "<a id=6> </a>\n",
    "## Вывод"
   ]
  },
  {
   "cell_type": "markdown",
   "id": "43a4bea0",
   "metadata": {},
   "source": [
    "В нашем исследовании мы хотели проверить, повлияет ли изменение шрифта на поведение пользователей при помощи результатов A/B-тестирования.  \n",
    "Мы располагаем данными за 1 неделю: с 1 по 7 августа.  \n",
    "Мы проверили данные на наличие ошибок, убедились что разбиение на группы совершено корректно и ни один пользователей не попал случайно более, чем в 1 группу.  \n",
    "Воронка событий показала что больше всего пользователей отпадает после просмотра главного экрана. Конверсия пользователей в покупку составляет 48%.\n",
    "Далее мы сравнили результаты пользователей из двух контрольных групп между собой и, сравнив конверсию, убедились что между ними нет статистически значимой разницы. Но мы так же и не нашли значимой разницы между контрольными и экспериментальной группой.\n",
    "\n",
    "По результатам исследования, следует сделать вывод что смена шрифта никак не повлияла на поведение пользователей, поэтому не является целесообразным тратить средства на то, чтобы вводить какие-либо изменения на сайте.\n"
   ]
  }
 ],
 "metadata": {
  "ExecuteTimeLog": [
   {
    "duration": 1370,
    "start_time": "2022-09-14T16:31:14.254Z"
   },
   {
    "duration": 734,
    "start_time": "2022-09-14T16:31:15.626Z"
   },
   {
    "duration": 14,
    "start_time": "2022-09-14T16:31:16.362Z"
   },
   {
    "duration": 11,
    "start_time": "2022-09-14T16:31:16.378Z"
   },
   {
    "duration": 24,
    "start_time": "2022-09-14T16:31:16.391Z"
   },
   {
    "duration": 68,
    "start_time": "2022-09-14T16:31:16.417Z"
   },
   {
    "duration": 166,
    "start_time": "2022-09-14T16:31:16.494Z"
   },
   {
    "duration": 120,
    "start_time": "2022-09-14T16:31:16.663Z"
   },
   {
    "duration": 15,
    "start_time": "2022-09-14T16:31:16.785Z"
   },
   {
    "duration": 9,
    "start_time": "2022-09-14T16:31:16.803Z"
   },
   {
    "duration": 17,
    "start_time": "2022-09-14T16:31:16.814Z"
   },
   {
    "duration": 8,
    "start_time": "2022-09-14T16:31:16.834Z"
   },
   {
    "duration": 628,
    "start_time": "2022-09-14T16:31:16.844Z"
   },
   {
    "duration": 23,
    "start_time": "2022-09-14T16:31:17.474Z"
   },
   {
    "duration": 21,
    "start_time": "2022-09-14T16:31:17.499Z"
   },
   {
    "duration": 16,
    "start_time": "2022-09-14T16:31:17.522Z"
   },
   {
    "duration": 28,
    "start_time": "2022-09-14T16:31:17.541Z"
   },
   {
    "duration": 79,
    "start_time": "2022-09-14T16:31:17.571Z"
   },
   {
    "duration": 167,
    "start_time": "2022-09-14T16:31:17.652Z"
   },
   {
    "duration": 4,
    "start_time": "2022-09-14T16:31:17.820Z"
   },
   {
    "duration": 8,
    "start_time": "2022-09-14T16:31:17.826Z"
   },
   {
    "duration": 10,
    "start_time": "2022-09-14T16:31:17.836Z"
   },
   {
    "duration": 63,
    "start_time": "2022-09-14T16:31:17.848Z"
   },
   {
    "duration": 99,
    "start_time": "2022-09-14T16:31:17.914Z"
   },
   {
    "duration": 48,
    "start_time": "2022-09-14T16:31:18.015Z"
   },
   {
    "duration": 10,
    "start_time": "2022-09-14T16:31:18.065Z"
   },
   {
    "duration": 25,
    "start_time": "2022-09-14T16:31:18.076Z"
   },
   {
    "duration": 19,
    "start_time": "2022-09-14T16:31:18.105Z"
   },
   {
    "duration": 21,
    "start_time": "2022-09-14T16:31:18.126Z"
   },
   {
    "duration": 11,
    "start_time": "2022-09-14T16:31:18.149Z"
   },
   {
    "duration": 11,
    "start_time": "2022-09-14T16:31:18.162Z"
   },
   {
    "duration": 27,
    "start_time": "2022-09-14T16:31:18.174Z"
   },
   {
    "duration": 6,
    "start_time": "2022-09-14T16:31:18.202Z"
   },
   {
    "duration": 6,
    "start_time": "2022-09-14T16:31:18.211Z"
   },
   {
    "duration": 7,
    "start_time": "2022-09-14T16:31:18.219Z"
   },
   {
    "duration": 11,
    "start_time": "2022-09-14T16:31:18.227Z"
   },
   {
    "duration": 13,
    "start_time": "2022-09-14T16:31:18.240Z"
   },
   {
    "duration": 5,
    "start_time": "2022-09-14T16:37:54.716Z"
   },
   {
    "duration": 4,
    "start_time": "2022-09-14T16:38:12.553Z"
   },
   {
    "duration": 1063,
    "start_time": "2022-09-16T16:22:57.315Z"
   },
   {
    "duration": 153,
    "start_time": "2022-09-16T16:22:58.380Z"
   },
   {
    "duration": 13,
    "start_time": "2022-09-16T16:22:58.534Z"
   },
   {
    "duration": 15,
    "start_time": "2022-09-16T16:22:58.548Z"
   },
   {
    "duration": 24,
    "start_time": "2022-09-16T16:22:58.565Z"
   },
   {
    "duration": 56,
    "start_time": "2022-09-16T16:22:58.590Z"
   },
   {
    "duration": 125,
    "start_time": "2022-09-16T16:22:58.648Z"
   },
   {
    "duration": 77,
    "start_time": "2022-09-16T16:22:58.774Z"
   },
   {
    "duration": 10,
    "start_time": "2022-09-16T16:22:58.853Z"
   },
   {
    "duration": 21,
    "start_time": "2022-09-16T16:22:58.864Z"
   },
   {
    "duration": 23,
    "start_time": "2022-09-16T16:22:58.886Z"
   },
   {
    "duration": 7,
    "start_time": "2022-09-16T16:22:58.911Z"
   },
   {
    "duration": 23,
    "start_time": "2022-09-16T16:22:58.919Z"
   },
   {
    "duration": 198,
    "start_time": "2022-09-16T16:22:58.945Z"
   },
   {
    "duration": 4,
    "start_time": "2022-09-16T16:22:59.145Z"
   },
   {
    "duration": 42,
    "start_time": "2022-09-16T16:22:59.150Z"
   },
   {
    "duration": 24,
    "start_time": "2022-09-16T16:22:59.194Z"
   },
   {
    "duration": 6,
    "start_time": "2022-09-16T16:22:59.219Z"
   },
   {
    "duration": 469,
    "start_time": "2022-09-16T16:22:59.227Z"
   },
   {
    "duration": 7,
    "start_time": "2022-09-16T16:22:59.698Z"
   },
   {
    "duration": 8,
    "start_time": "2022-09-16T16:22:59.707Z"
   },
   {
    "duration": 12,
    "start_time": "2022-09-16T16:22:59.717Z"
   },
   {
    "duration": 14,
    "start_time": "2022-09-16T16:22:59.730Z"
   },
   {
    "duration": 19,
    "start_time": "2022-09-16T16:22:59.746Z"
   },
   {
    "duration": 69,
    "start_time": "2022-09-16T16:22:59.766Z"
   },
   {
    "duration": 154,
    "start_time": "2022-09-16T16:22:59.837Z"
   },
   {
    "duration": 3,
    "start_time": "2022-09-16T16:23:00.001Z"
   },
   {
    "duration": 20,
    "start_time": "2022-09-16T16:23:00.006Z"
   },
   {
    "duration": 14,
    "start_time": "2022-09-16T16:23:00.027Z"
   },
   {
    "duration": 45,
    "start_time": "2022-09-16T16:23:00.043Z"
   },
   {
    "duration": 8,
    "start_time": "2022-09-16T16:23:00.089Z"
   },
   {
    "duration": 56,
    "start_time": "2022-09-16T16:23:00.099Z"
   },
   {
    "duration": 26,
    "start_time": "2022-09-16T16:23:00.156Z"
   },
   {
    "duration": 24,
    "start_time": "2022-09-16T16:23:00.184Z"
   },
   {
    "duration": 27,
    "start_time": "2022-09-16T16:23:00.210Z"
   },
   {
    "duration": 93,
    "start_time": "2022-09-16T16:23:00.238Z"
   },
   {
    "duration": 67,
    "start_time": "2022-09-16T16:23:00.332Z"
   },
   {
    "duration": 22,
    "start_time": "2022-09-16T16:23:00.401Z"
   },
   {
    "duration": 33,
    "start_time": "2022-09-16T16:23:00.425Z"
   },
   {
    "duration": 23,
    "start_time": "2022-09-16T16:23:00.460Z"
   },
   {
    "duration": 12,
    "start_time": "2022-09-16T16:23:00.486Z"
   },
   {
    "duration": 12,
    "start_time": "2022-09-16T16:23:00.499Z"
   },
   {
    "duration": 24,
    "start_time": "2022-09-16T16:23:00.512Z"
   },
   {
    "duration": 18,
    "start_time": "2022-09-16T16:23:00.538Z"
   },
   {
    "duration": 13,
    "start_time": "2022-09-16T16:23:34.338Z"
   },
   {
    "duration": 4,
    "start_time": "2022-09-16T16:23:50.826Z"
   },
   {
    "duration": 12,
    "start_time": "2022-09-16T16:45:37.018Z"
   },
   {
    "duration": 11,
    "start_time": "2022-09-16T16:46:00.465Z"
   },
   {
    "duration": 7,
    "start_time": "2022-09-16T16:46:55.527Z"
   },
   {
    "duration": 1416,
    "start_time": "2022-09-17T17:34:41.287Z"
   },
   {
    "duration": 574,
    "start_time": "2022-09-17T17:34:42.706Z"
   },
   {
    "duration": 13,
    "start_time": "2022-09-17T17:34:43.281Z"
   },
   {
    "duration": 10,
    "start_time": "2022-09-17T17:34:43.296Z"
   },
   {
    "duration": 27,
    "start_time": "2022-09-17T17:34:43.307Z"
   },
   {
    "duration": 77,
    "start_time": "2022-09-17T17:34:43.335Z"
   },
   {
    "duration": 148,
    "start_time": "2022-09-17T17:34:43.414Z"
   },
   {
    "duration": 80,
    "start_time": "2022-09-17T17:34:43.567Z"
   },
   {
    "duration": 24,
    "start_time": "2022-09-17T17:34:43.649Z"
   },
   {
    "duration": 10,
    "start_time": "2022-09-17T17:34:43.676Z"
   },
   {
    "duration": 19,
    "start_time": "2022-09-17T17:34:43.687Z"
   },
   {
    "duration": 8,
    "start_time": "2022-09-17T17:34:43.707Z"
   },
   {
    "duration": 46,
    "start_time": "2022-09-17T17:34:43.717Z"
   },
   {
    "duration": 227,
    "start_time": "2022-09-17T17:34:43.764Z"
   },
   {
    "duration": 5,
    "start_time": "2022-09-17T17:34:43.992Z"
   },
   {
    "duration": 100,
    "start_time": "2022-09-17T17:34:43.998Z"
   },
   {
    "duration": 32,
    "start_time": "2022-09-17T17:34:44.100Z"
   },
   {
    "duration": 31,
    "start_time": "2022-09-17T17:34:44.134Z"
   },
   {
    "duration": 553,
    "start_time": "2022-09-17T17:34:44.167Z"
   },
   {
    "duration": 9,
    "start_time": "2022-09-17T17:34:44.722Z"
   },
   {
    "duration": 105,
    "start_time": "2022-09-17T17:34:44.748Z"
   },
   {
    "duration": 10,
    "start_time": "2022-09-17T17:34:44.862Z"
   },
   {
    "duration": 29,
    "start_time": "2022-09-17T17:34:44.874Z"
   },
   {
    "duration": 74,
    "start_time": "2022-09-17T17:34:44.905Z"
   },
   {
    "duration": 153,
    "start_time": "2022-09-17T17:34:44.981Z"
   },
   {
    "duration": 18,
    "start_time": "2022-09-17T17:34:45.135Z"
   },
   {
    "duration": 23,
    "start_time": "2022-09-17T17:34:45.155Z"
   },
   {
    "duration": 12,
    "start_time": "2022-09-17T17:34:45.181Z"
   },
   {
    "duration": 39,
    "start_time": "2022-09-17T17:34:45.194Z"
   },
   {
    "duration": 7,
    "start_time": "2022-09-17T17:34:45.235Z"
   },
   {
    "duration": 68,
    "start_time": "2022-09-17T17:34:45.244Z"
   },
   {
    "duration": 40,
    "start_time": "2022-09-17T17:34:45.314Z"
   },
   {
    "duration": 14,
    "start_time": "2022-09-17T17:34:45.355Z"
   },
   {
    "duration": 22,
    "start_time": "2022-09-17T17:34:45.370Z"
   },
   {
    "duration": 11,
    "start_time": "2022-09-17T17:34:45.394Z"
   },
   {
    "duration": 28,
    "start_time": "2022-09-17T17:34:45.406Z"
   },
   {
    "duration": 19,
    "start_time": "2022-09-17T17:34:45.436Z"
   },
   {
    "duration": 31,
    "start_time": "2022-09-17T17:34:45.457Z"
   },
   {
    "duration": 13,
    "start_time": "2022-09-17T17:34:45.489Z"
   },
   {
    "duration": 6,
    "start_time": "2022-09-17T17:34:45.503Z"
   },
   {
    "duration": 5,
    "start_time": "2022-09-17T17:34:45.511Z"
   },
   {
    "duration": 9,
    "start_time": "2022-09-17T17:34:45.517Z"
   },
   {
    "duration": 11,
    "start_time": "2022-09-17T17:34:45.528Z"
   }
  ],
  "kernelspec": {
   "display_name": "Python 3 (ipykernel)",
   "language": "python",
   "name": "python3"
  },
  "language_info": {
   "codemirror_mode": {
    "name": "ipython",
    "version": 3
   },
   "file_extension": ".py",
   "mimetype": "text/x-python",
   "name": "python",
   "nbconvert_exporter": "python",
   "pygments_lexer": "ipython3",
   "version": "3.9.13"
  },
  "latex_envs": {
   "LaTeX_envs_menu_present": true,
   "autoclose": false,
   "autocomplete": true,
   "bibliofile": "biblio.bib",
   "cite_by": "apalike",
   "current_citInitial": 1,
   "eqLabelWithNumbers": true,
   "eqNumInitial": 1,
   "hotkeys": {
    "equation": "Ctrl-E",
    "itemize": "Ctrl-I"
   },
   "labels_anchors": false,
   "latex_user_defs": false,
   "report_style_numbering": false,
   "user_envs_cfg": false
  },
  "toc": {
   "base_numbering": "1",
   "nav_menu": {},
   "number_sections": true,
   "sideBar": true,
   "skip_h1_title": true,
   "title_cell": "Table of Contents",
   "title_sidebar": "Contents",
   "toc_cell": false,
   "toc_position": {
    "height": "calc(100% - 180px)",
    "left": "10px",
    "top": "150px",
    "width": "283.797px"
   },
   "toc_section_display": true,
   "toc_window_display": true
  }
 },
 "nbformat": 4,
 "nbformat_minor": 5
}
