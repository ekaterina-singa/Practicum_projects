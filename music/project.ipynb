{
 "cells": [
  {
   "cell_type": "markdown",
   "metadata": {
    "id": "E0vqbgi9ay0H"
   },
   "source": [
    "# Проект Музыка больших городов\n"
   ]
  },
  {
   "cell_type": "markdown",
   "metadata": {},
   "source": [
    "**Содержание** \n",
    "<a id=0> </a>\n",
    "\n",
    "[Введение](#1)  \n",
    "[Обзор данных](#2)  \n",
    "[Предобработка данных](#3)  \n",
    "[Проверка гипотез](#4)  \n",
    "[Вывод](#5)\n"
   ]
  },
  {
   "cell_type": "markdown",
   "metadata": {},
   "source": [
    "## Введение\n",
    "<a id=1> </a>"
   ]
  },
  {
   "cell_type": "markdown",
   "metadata": {
    "id": "VUC88oWjTJw2"
   },
   "source": [
    "На данных Яндекс.Музыки будем сравнивать поведение пользователей двух столиц.\n",
    "\n",
    "**Цель исследования** — проверить три гипотезы:\n",
    "1. Активность пользователей зависит от дня недели. Причём в Москве и Петербурге это проявляется по-разному.\n",
    "2. В понедельник утром в Москве преобладают одни жанры, а в Петербурге — другие. Так же и вечером пятницы преобладают разные жанры — в зависимости от города. \n",
    "3. Москва и Петербург предпочитают разные жанры музыки. В Москве чаще слушают поп-музыку, в Петербурге — русский рэп.\n",
    "\n",
    "**Ход исследования**\n",
    "\n",
    " 1. Обзор данных.\n",
    " 2. Предобработка данных.\n",
    " 3. Проверка гипотез.\n",
    "\n"
   ]
  },
  {
   "cell_type": "markdown",
   "metadata": {
    "id": "Ml1hmfXC_Zcs"
   },
   "source": [
    "## Обзор данных\n",
    "<a id=2> </a>\n",
    "\n",
    "Составим первое представление о данных Яндекс.Музыки.\n",
    "\n",
    "\n"
   ]
  },
  {
   "cell_type": "code",
   "execution_count": 1,
   "metadata": {
    "id": "AXN7PHPN_Zcs"
   },
   "outputs": [],
   "source": [
    "import pandas as pd # импорт библиотеки pandas\n"
   ]
  },
  {
   "cell_type": "markdown",
   "metadata": {
    "id": "SG23P8tt_Zcs"
   },
   "source": [
    "Прочтем файл и посмотрим на данные.\n"
   ]
  },
  {
   "cell_type": "code",
   "execution_count": 2,
   "metadata": {
    "id": "fFVu7vqh_Zct"
   },
   "outputs": [],
   "source": [
    "try:\n",
    "    df = pd.read_csv('/datasets/yandex_music_project.csv')# чтение файла с данными и сохранение в df\n",
    "except FileNotFoundError:\n",
    "    df = pd.read_csv('/Users/09e6y/Desktop/Катькис/Практикум/Проект 1 music/yandex_music_project.csv')\n"
   ]
  },
  {
   "cell_type": "code",
   "execution_count": 3,
   "metadata": {
    "id": "oWTVX3gW_Zct"
   },
   "outputs": [
    {
     "data": {
      "text/html": [
       "<div>\n",
       "<style scoped>\n",
       "    .dataframe tbody tr th:only-of-type {\n",
       "        vertical-align: middle;\n",
       "    }\n",
       "\n",
       "    .dataframe tbody tr th {\n",
       "        vertical-align: top;\n",
       "    }\n",
       "\n",
       "    .dataframe thead th {\n",
       "        text-align: right;\n",
       "    }\n",
       "</style>\n",
       "<table border=\"1\" class=\"dataframe\">\n",
       "  <thead>\n",
       "    <tr style=\"text-align: right;\">\n",
       "      <th></th>\n",
       "      <th>userID</th>\n",
       "      <th>Track</th>\n",
       "      <th>artist</th>\n",
       "      <th>genre</th>\n",
       "      <th>City</th>\n",
       "      <th>time</th>\n",
       "      <th>Day</th>\n",
       "    </tr>\n",
       "  </thead>\n",
       "  <tbody>\n",
       "    <tr>\n",
       "      <th>0</th>\n",
       "      <td>FFB692EC</td>\n",
       "      <td>Kamigata To Boots</td>\n",
       "      <td>The Mass Missile</td>\n",
       "      <td>rock</td>\n",
       "      <td>Saint-Petersburg</td>\n",
       "      <td>20:28:33</td>\n",
       "      <td>Wednesday</td>\n",
       "    </tr>\n",
       "    <tr>\n",
       "      <th>1</th>\n",
       "      <td>55204538</td>\n",
       "      <td>Delayed Because of Accident</td>\n",
       "      <td>Andreas Rönnberg</td>\n",
       "      <td>rock</td>\n",
       "      <td>Moscow</td>\n",
       "      <td>14:07:09</td>\n",
       "      <td>Friday</td>\n",
       "    </tr>\n",
       "    <tr>\n",
       "      <th>2</th>\n",
       "      <td>20EC38</td>\n",
       "      <td>Funiculì funiculà</td>\n",
       "      <td>Mario Lanza</td>\n",
       "      <td>pop</td>\n",
       "      <td>Saint-Petersburg</td>\n",
       "      <td>20:58:07</td>\n",
       "      <td>Wednesday</td>\n",
       "    </tr>\n",
       "    <tr>\n",
       "      <th>3</th>\n",
       "      <td>A3DD03C9</td>\n",
       "      <td>Dragons in the Sunset</td>\n",
       "      <td>Fire + Ice</td>\n",
       "      <td>folk</td>\n",
       "      <td>Saint-Petersburg</td>\n",
       "      <td>08:37:09</td>\n",
       "      <td>Monday</td>\n",
       "    </tr>\n",
       "    <tr>\n",
       "      <th>4</th>\n",
       "      <td>E2DC1FAE</td>\n",
       "      <td>Soul People</td>\n",
       "      <td>Space Echo</td>\n",
       "      <td>dance</td>\n",
       "      <td>Moscow</td>\n",
       "      <td>08:34:34</td>\n",
       "      <td>Monday</td>\n",
       "    </tr>\n",
       "    <tr>\n",
       "      <th>5</th>\n",
       "      <td>842029A1</td>\n",
       "      <td>Преданная</td>\n",
       "      <td>IMPERVTOR</td>\n",
       "      <td>rusrap</td>\n",
       "      <td>Saint-Petersburg</td>\n",
       "      <td>13:09:41</td>\n",
       "      <td>Friday</td>\n",
       "    </tr>\n",
       "    <tr>\n",
       "      <th>6</th>\n",
       "      <td>4CB90AA5</td>\n",
       "      <td>True</td>\n",
       "      <td>Roman Messer</td>\n",
       "      <td>dance</td>\n",
       "      <td>Moscow</td>\n",
       "      <td>13:00:07</td>\n",
       "      <td>Wednesday</td>\n",
       "    </tr>\n",
       "    <tr>\n",
       "      <th>7</th>\n",
       "      <td>F03E1C1F</td>\n",
       "      <td>Feeling This Way</td>\n",
       "      <td>Polina Griffith</td>\n",
       "      <td>dance</td>\n",
       "      <td>Moscow</td>\n",
       "      <td>20:47:49</td>\n",
       "      <td>Wednesday</td>\n",
       "    </tr>\n",
       "    <tr>\n",
       "      <th>8</th>\n",
       "      <td>8FA1D3BE</td>\n",
       "      <td>И вновь продолжается бой</td>\n",
       "      <td>NaN</td>\n",
       "      <td>ruspop</td>\n",
       "      <td>Moscow</td>\n",
       "      <td>09:17:40</td>\n",
       "      <td>Friday</td>\n",
       "    </tr>\n",
       "    <tr>\n",
       "      <th>9</th>\n",
       "      <td>E772D5C0</td>\n",
       "      <td>Pessimist</td>\n",
       "      <td>NaN</td>\n",
       "      <td>dance</td>\n",
       "      <td>Saint-Petersburg</td>\n",
       "      <td>21:20:49</td>\n",
       "      <td>Wednesday</td>\n",
       "    </tr>\n",
       "  </tbody>\n",
       "</table>\n",
       "</div>"
      ],
      "text/plain": [
       "     userID                        Track            artist   genre  \\\n",
       "0  FFB692EC            Kamigata To Boots  The Mass Missile    rock   \n",
       "1  55204538  Delayed Because of Accident  Andreas Rönnberg    rock   \n",
       "2    20EC38            Funiculì funiculà       Mario Lanza     pop   \n",
       "3  A3DD03C9        Dragons in the Sunset        Fire + Ice    folk   \n",
       "4  E2DC1FAE                  Soul People        Space Echo   dance   \n",
       "5  842029A1                    Преданная         IMPERVTOR  rusrap   \n",
       "6  4CB90AA5                         True      Roman Messer   dance   \n",
       "7  F03E1C1F             Feeling This Way   Polina Griffith   dance   \n",
       "8  8FA1D3BE     И вновь продолжается бой               NaN  ruspop   \n",
       "9  E772D5C0                    Pessimist               NaN   dance   \n",
       "\n",
       "             City        time        Day  \n",
       "0  Saint-Petersburg  20:28:33  Wednesday  \n",
       "1            Moscow  14:07:09     Friday  \n",
       "2  Saint-Petersburg  20:58:07  Wednesday  \n",
       "3  Saint-Petersburg  08:37:09     Monday  \n",
       "4            Moscow  08:34:34     Monday  \n",
       "5  Saint-Petersburg  13:09:41     Friday  \n",
       "6            Moscow  13:00:07  Wednesday  \n",
       "7            Moscow  20:47:49  Wednesday  \n",
       "8            Moscow  09:17:40     Friday  \n",
       "9  Saint-Petersburg  21:20:49  Wednesday  "
      ]
     },
     "execution_count": 3,
     "metadata": {},
     "output_type": "execute_result"
    }
   ],
   "source": [
    "df.head(10)# получение первых 10 строк таблицы df\n"
   ]
  },
  {
   "cell_type": "code",
   "execution_count": 4,
   "metadata": {
    "id": "DSf2kIb-_Zct"
   },
   "outputs": [
    {
     "name": "stdout",
     "output_type": "stream",
     "text": [
      "<class 'pandas.core.frame.DataFrame'>\n",
      "RangeIndex: 65079 entries, 0 to 65078\n",
      "Data columns (total 7 columns):\n",
      " #   Column    Non-Null Count  Dtype \n",
      "---  ------    --------------  ----- \n",
      " 0     userID  65079 non-null  object\n",
      " 1   Track     63848 non-null  object\n",
      " 2   artist    57876 non-null  object\n",
      " 3   genre     63881 non-null  object\n",
      " 4     City    65079 non-null  object\n",
      " 5   time      65079 non-null  object\n",
      " 6   Day       65079 non-null  object\n",
      "dtypes: object(7)\n",
      "memory usage: 3.5+ MB\n"
     ]
    }
   ],
   "source": [
    "df.info()# получение общей информации о данных в таблице df\n"
   ]
  },
  {
   "cell_type": "markdown",
   "metadata": {
    "id": "TaQ2Iwbr_Zct"
   },
   "source": [
    "Итак, в таблице семь столбцов. Тип данных во всех столбцах — `object`.\n",
    "\n",
    "Согласно документации к данным:\n",
    "* `userID` — идентификатор пользователя;\n",
    "* `Track` — название трека;  \n",
    "* `artist` — имя исполнителя;\n",
    "* `genre` — название жанра;\n",
    "* `City` — город пользователя;\n",
    "* `time` — время начала прослушивания;\n",
    "* `Day` — день недели.\n",
    "\n",
    "В названиях колонок видны три нарушения стиля:\n",
    "1. Строчные буквы сочетаются с прописными.\n",
    "2. Встречаются пробелы.\n",
    "3. Вместо \"змеиного регистра\" название столбца записано слитно. \n",
    "\n",
    "\n",
    "\n",
    "Количество значений в столбцах различается. Значит, в данных есть пропущенные значения.\n"
   ]
  },
  {
   "cell_type": "markdown",
   "metadata": {
    "id": "MCB6-dXG_Zct"
   },
   "source": [
    "**Выводы**\n",
    "\n",
    "В каждой строке таблицы — данные о прослушанном треке. Часть колонок описывает саму композицию: название, исполнителя и жанр. Остальные данные рассказывают о пользователе: из какого он города, когда он слушал музыку. \n",
    "\n",
    "Предварительно можно утверждать, что, данных достаточно для проверки гипотез. Но встречаются пропуски в данных, а в названиях колонок — расхождения с хорошим стилем.\n",
    "\n",
    "Чтобы двигаться дальше, нужно устранить проблемы в данных."
   ]
  },
  {
   "cell_type": "markdown",
   "metadata": {},
   "source": [
    "[Содержание](#0)"
   ]
  },
  {
   "cell_type": "markdown",
   "metadata": {
    "id": "SjYF6Ub9_Zct"
   },
   "source": [
    "## Предобработка данных\n",
    "<a id=3> </a>\n"
   ]
  },
  {
   "cell_type": "markdown",
   "metadata": {
    "id": "dIaKXr29_Zct"
   },
   "source": [
    "### Стиль заголовков\n"
   ]
  },
  {
   "cell_type": "markdown",
   "metadata": {},
   "source": [
    "Выведем на экран названия столбцов:"
   ]
  },
  {
   "cell_type": "code",
   "execution_count": 5,
   "metadata": {
    "id": "oKOTdF_Q_Zct"
   },
   "outputs": [
    {
     "data": {
      "text/plain": [
       "Index(['  userID', 'Track', 'artist', 'genre', '  City  ', 'time', 'Day'], dtype='object')"
      ]
     },
     "execution_count": 5,
     "metadata": {},
     "output_type": "execute_result"
    }
   ],
   "source": [
    "df.columns# перечень названий столбцов таблицы df\n"
   ]
  },
  {
   "cell_type": "markdown",
   "metadata": {
    "id": "zj5534cv_Zct"
   },
   "source": [
    "Приведем названия в соответствие с хорошим стилем:\n",
    "* несколько слов в названии запишем в «змеином_регистре»,\n",
    "* все символы сделаем строчными,\n",
    "* устраним пробелы.\n",
    "\n",
    "Для этого переименуйте колонки так:\n",
    "* `'  userID'` → `'user_id'`;\n",
    "* `'Track'` → `'track'`;\n",
    "* `'  City  '` → `'city'`;\n",
    "* `'Day'` → `'day'`."
   ]
  },
  {
   "cell_type": "code",
   "execution_count": 6,
   "metadata": {
    "id": "ISlFqs5y_Zct"
   },
   "outputs": [
    {
     "data": {
      "text/plain": [
       "Index(['user_id', 'track', 'artist', 'genre', 'city', 'time', 'day'], dtype='object')"
      ]
     },
     "metadata": {},
     "output_type": "display_data"
    }
   ],
   "source": [
    "# переименование столбцов\n",
    "df = df.rename(columns = {'  userID': 'user_id', 'Track': 'track', '  City  ': 'city', 'Day': 'day'})\n",
    "display (df.columns)# проверка результатов - перечень названий столбцов\n",
    "\n"
   ]
  },
  {
   "cell_type": "markdown",
   "metadata": {},
   "source": [
    "### Пропуски значений"
   ]
  },
  {
   "cell_type": "markdown",
   "metadata": {
    "id": "5ISfbcfY_Zct"
   },
   "source": [
    "Посчитаем, сколько в таблице пропущенных значений.\n"
   ]
  },
  {
   "cell_type": "code",
   "execution_count": 7,
   "metadata": {
    "id": "RskX29qr_Zct"
   },
   "outputs": [
    {
     "data": {
      "text/plain": [
       "user_id       0\n",
       "track      1231\n",
       "artist     7203\n",
       "genre      1198\n",
       "city          0\n",
       "time          0\n",
       "day           0\n",
       "dtype: int64"
      ]
     },
     "execution_count": 7,
     "metadata": {},
     "output_type": "execute_result"
    }
   ],
   "source": [
    "df.isna().sum()# подсчёт пропусков\n"
   ]
  },
  {
   "cell_type": "markdown",
   "metadata": {
    "id": "qubhgnlO_Zct"
   },
   "source": [
    "Не все пропущенные значения влияют на исследование. Так в `track` и `artist` пропуски не важны для нашей работы. Достаточно заменить их явными обозначениями.\n",
    "\n",
    "Но пропуски в `genre` могут помешать сравнению музыкальных вкусов в Москве и Санкт-Петербурге. На практике было бы правильно установить причину пропусков и восстановить данные. Такой возможности нет в учебном проекте. Придётся:\n",
    "* заполнить и эти пропуски явными обозначениями,\n",
    "* оценить, насколько они повредят расчётам. \n"
   ]
  },
  {
   "cell_type": "code",
   "execution_count": 8,
   "metadata": {
    "id": "KplB5qWs_Zct"
   },
   "outputs": [
    {
     "data": {
      "text/plain": [
       "user_id    0\n",
       "track      0\n",
       "artist     0\n",
       "genre      0\n",
       "city       0\n",
       "time       0\n",
       "day        0\n",
       "dtype: int64"
      ]
     },
     "execution_count": 8,
     "metadata": {},
     "output_type": "execute_result"
    }
   ],
   "source": [
    "# Заменим пропущенные значения в столбцах `track`, `artist` и `genre` на строку `'unknown'`. \n",
    "columns_to_replace = ['track', 'artist', 'genre']\n",
    "for item in columns_to_replace:\n",
    "    df[item] = df[item].fillna('unknown')\n",
    "df.isna().sum()# подсчёт пропусков\n",
    "    "
   ]
  },
  {
   "cell_type": "markdown",
   "metadata": {
    "id": "BWKRtBJ3_Zct"
   },
   "source": [
    "### Дубликаты\n",
    "Проверим данные на наличие дубликатов."
   ]
  },
  {
   "cell_type": "code",
   "execution_count": 9,
   "metadata": {
    "id": "36eES_S0_Zct"
   },
   "outputs": [
    {
     "data": {
      "text/plain": [
       "3826"
      ]
     },
     "execution_count": 9,
     "metadata": {},
     "output_type": "execute_result"
    }
   ],
   "source": [
    "df.duplicated().sum()# подсчёт явных дубликатов\n"
   ]
  },
  {
   "cell_type": "markdown",
   "metadata": {
    "id": "Ot25h6XR_Zct"
   },
   "source": [
    "Удалим дубликаты.\n"
   ]
  },
  {
   "cell_type": "code",
   "execution_count": 10,
   "metadata": {
    "id": "exFHq6tt_Zct"
   },
   "outputs": [
    {
     "data": {
      "text/plain": [
       "0"
      ]
     },
     "execution_count": 10,
     "metadata": {},
     "output_type": "execute_result"
    }
   ],
   "source": [
    "# удаление явных дубликатов (с удалением старых индексов и формированием новых)\n",
    "df = df.drop_duplicates().reset_index(drop=True)\n",
    "# проверка на отсутствие дубликатов\n",
    "df.duplicated().sum()\n"
   ]
  },
  {
   "cell_type": "markdown",
   "metadata": {
    "id": "QlFBsxAr_Zct"
   },
   "source": [
    "Теперь следует избавиться от неявных дубликатов в колонке `genre`. Например, название одного и того же жанра может быть записано немного по-разному. Такие ошибки тоже повлияют на результат исследования.\n"
   ]
  },
  {
   "cell_type": "markdown",
   "metadata": {
    "id": "eSjWwsOh_Zct"
   },
   "source": [
    "Выведите на экран список уникальных названий жанров, отсортированный в алфавитном порядке. Для этого:\n",
    "* извлеките нужный столбец датафрейма, \n",
    "* примените к нему метод сортировки,\n",
    "* для отсортированного столбца вызовите метод, который вернёт уникальные значения из столбца."
   ]
  },
  {
   "cell_type": "code",
   "execution_count": 11,
   "metadata": {
    "id": "JIUcqzZN_Zct"
   },
   "outputs": [
    {
     "data": {
      "text/plain": [
       "array(['acid', 'acoustic', 'action', 'adult', 'africa', 'afrikaans',\n",
       "       'alternative', 'alternativepunk', 'ambient', 'americana',\n",
       "       'animated', 'anime', 'arabesk', 'arabic', 'arena',\n",
       "       'argentinetango', 'art', 'audiobook', 'author', 'avantgarde',\n",
       "       'axé', 'baile', 'balkan', 'beats', 'bigroom', 'black', 'bluegrass',\n",
       "       'blues', 'bollywood', 'bossa', 'brazilian', 'breakbeat', 'breaks',\n",
       "       'broadway', 'cantautori', 'cantopop', 'canzone', 'caribbean',\n",
       "       'caucasian', 'celtic', 'chamber', 'chanson', 'children', 'chill',\n",
       "       'chinese', 'choral', 'christian', 'christmas', 'classical',\n",
       "       'classicmetal', 'club', 'colombian', 'comedy', 'conjazz',\n",
       "       'contemporary', 'country', 'cuban', 'dance', 'dancehall',\n",
       "       'dancepop', 'dark', 'death', 'deep', 'deutschrock', 'deutschspr',\n",
       "       'dirty', 'disco', 'dnb', 'documentary', 'downbeat', 'downtempo',\n",
       "       'drum', 'dub', 'dubstep', 'eastern', 'easy', 'electronic',\n",
       "       'electropop', 'emo', 'entehno', 'epicmetal', 'estrada', 'ethnic',\n",
       "       'eurofolk', 'european', 'experimental', 'extrememetal', 'fado',\n",
       "       'fairytail', 'film', 'fitness', 'flamenco', 'folk', 'folklore',\n",
       "       'folkmetal', 'folkrock', 'folktronica', 'forró', 'frankreich',\n",
       "       'französisch', 'french', 'funk', 'future', 'gangsta', 'garage',\n",
       "       'german', 'ghazal', 'gitarre', 'glitch', 'gospel', 'gothic',\n",
       "       'grime', 'grunge', 'gypsy', 'handsup', \"hard'n'heavy\", 'hardcore',\n",
       "       'hardstyle', 'hardtechno', 'hip', 'hip-hop', 'hiphop',\n",
       "       'historisch', 'holiday', 'hop', 'horror', 'house', 'hymn', 'idm',\n",
       "       'independent', 'indian', 'indie', 'indipop', 'industrial',\n",
       "       'inspirational', 'instrumental', 'international', 'irish', 'jam',\n",
       "       'japanese', 'jazz', 'jewish', 'jpop', 'jungle', 'k-pop',\n",
       "       'karadeniz', 'karaoke', 'kayokyoku', 'korean', 'laiko', 'latin',\n",
       "       'latino', 'leftfield', 'local', 'lounge', 'loungeelectronic',\n",
       "       'lovers', 'malaysian', 'mandopop', 'marschmusik', 'meditative',\n",
       "       'mediterranean', 'melodic', 'metal', 'metalcore', 'mexican',\n",
       "       'middle', 'minimal', 'miscellaneous', 'modern', 'mood', 'mpb',\n",
       "       'muslim', 'native', 'neoklassik', 'neue', 'new', 'newage',\n",
       "       'newwave', 'nu', 'nujazz', 'numetal', 'oceania', 'old', 'opera',\n",
       "       'orchestral', 'other', 'piano', 'podcasts', 'pop', 'popdance',\n",
       "       'popelectronic', 'popeurodance', 'poprussian', 'post',\n",
       "       'posthardcore', 'postrock', 'power', 'progmetal', 'progressive',\n",
       "       'psychedelic', 'punjabi', 'punk', 'quebecois', 'ragga', 'ram',\n",
       "       'rancheras', 'rap', 'rave', 'reggae', 'reggaeton', 'regional',\n",
       "       'relax', 'religious', 'retro', 'rhythm', 'rnb', 'rnr', 'rock',\n",
       "       'rockabilly', 'rockalternative', 'rockindie', 'rockother',\n",
       "       'romance', 'roots', 'ruspop', 'rusrap', 'rusrock', 'russian',\n",
       "       'salsa', 'samba', 'scenic', 'schlager', 'self', 'sertanejo',\n",
       "       'shanson', 'shoegazing', 'showtunes', 'singer', 'ska', 'skarock',\n",
       "       'slow', 'smooth', 'soft', 'soul', 'soulful', 'sound', 'soundtrack',\n",
       "       'southern', 'specialty', 'speech', 'spiritual', 'sport',\n",
       "       'stonerrock', 'surf', 'swing', 'synthpop', 'synthrock',\n",
       "       'sängerportrait', 'tango', 'tanzorchester', 'taraftar', 'tatar',\n",
       "       'tech', 'techno', 'teen', 'thrash', 'top', 'traditional',\n",
       "       'tradjazz', 'trance', 'tribal', 'trip', 'triphop', 'tropical',\n",
       "       'türk', 'türkçe', 'ukrrock', 'unknown', 'urban', 'uzbek',\n",
       "       'variété', 'vi', 'videogame', 'vocal', 'western', 'world',\n",
       "       'worldbeat', 'ïîï', 'электроника'], dtype=object)"
      ]
     },
     "execution_count": 11,
     "metadata": {},
     "output_type": "execute_result"
    }
   ],
   "source": [
    "# Просмотр уникальных названий жанров\n",
    "df['genre'].sort_values().unique()\n"
   ]
  },
  {
   "cell_type": "markdown",
   "metadata": {
    "id": "qej-Qmuo_Zct"
   },
   "source": [
    "Например мы видим следующие неявные дубликаты:\n",
    "* *hip*,\n",
    "* *hop*,\n",
    "* *hip-hop*.\n",
    "\n",
    "Напишем функцию, которая исправит даши данные.\n"
   ]
  },
  {
   "cell_type": "code",
   "execution_count": 12,
   "metadata": {
    "id": "ErNDkmns_Zct"
   },
   "outputs": [],
   "source": [
    "# создаем функцию\n",
    "def replace_wrong_genres(wrong_genres, correct_genre):\n",
    "    for wrong_genre in wrong_genres:\n",
    "        df['genre'] = df['genre'].replace(wrong_genre, correct_genre)\n"
   ]
  },
  {
   "cell_type": "code",
   "execution_count": 13,
   "metadata": {
    "id": "YN5i2hpmSo09"
   },
   "outputs": [
    {
     "data": {
      "text/plain": [
       "array(['acid', 'acoustic', 'action', 'adult', 'africa', 'afrikaans',\n",
       "       'alternative', 'alternativepunk', 'ambient', 'americana',\n",
       "       'animated', 'anime', 'arabesk', 'arabic', 'arena',\n",
       "       'argentinetango', 'art', 'audiobook', 'author', 'avantgarde',\n",
       "       'axé', 'baile', 'balkan', 'beats', 'bigroom', 'black', 'bluegrass',\n",
       "       'blues', 'bollywood', 'bossa', 'brazilian', 'breakbeat', 'breaks',\n",
       "       'broadway', 'cantautori', 'cantopop', 'canzone', 'caribbean',\n",
       "       'caucasian', 'celtic', 'chamber', 'chanson', 'children', 'chill',\n",
       "       'chinese', 'choral', 'christian', 'christmas', 'classical',\n",
       "       'classicmetal', 'club', 'colombian', 'comedy', 'conjazz',\n",
       "       'contemporary', 'country', 'cuban', 'dance', 'dancehall',\n",
       "       'dancepop', 'dark', 'death', 'deep', 'deutschrock', 'deutschspr',\n",
       "       'dirty', 'disco', 'dnb', 'documentary', 'downbeat', 'downtempo',\n",
       "       'drum', 'dub', 'dubstep', 'eastern', 'easy', 'electronic',\n",
       "       'electropop', 'emo', 'entehno', 'epicmetal', 'estrada', 'ethnic',\n",
       "       'eurofolk', 'european', 'experimental', 'extrememetal', 'fado',\n",
       "       'fairytail', 'film', 'fitness', 'flamenco', 'folk', 'folklore',\n",
       "       'folkmetal', 'folkrock', 'folktronica', 'forró', 'frankreich',\n",
       "       'französisch', 'french', 'funk', 'future', 'gangsta', 'garage',\n",
       "       'german', 'ghazal', 'gitarre', 'glitch', 'gospel', 'gothic',\n",
       "       'grime', 'grunge', 'gypsy', 'handsup', \"hard'n'heavy\", 'hardcore',\n",
       "       'hardstyle', 'hardtechno', 'hiphop', 'historisch', 'holiday',\n",
       "       'horror', 'house', 'hymn', 'idm', 'independent', 'indian', 'indie',\n",
       "       'indipop', 'industrial', 'inspirational', 'instrumental',\n",
       "       'international', 'irish', 'jam', 'japanese', 'jazz', 'jewish',\n",
       "       'jpop', 'jungle', 'k-pop', 'karadeniz', 'karaoke', 'kayokyoku',\n",
       "       'korean', 'laiko', 'latin', 'latino', 'leftfield', 'local',\n",
       "       'lounge', 'loungeelectronic', 'lovers', 'malaysian', 'mandopop',\n",
       "       'marschmusik', 'meditative', 'mediterranean', 'melodic', 'metal',\n",
       "       'metalcore', 'mexican', 'middle', 'minimal', 'miscellaneous',\n",
       "       'modern', 'mood', 'mpb', 'muslim', 'native', 'neoklassik', 'neue',\n",
       "       'new', 'newage', 'newwave', 'nu', 'nujazz', 'numetal', 'oceania',\n",
       "       'old', 'opera', 'orchestral', 'other', 'piano', 'podcasts', 'pop',\n",
       "       'popdance', 'popelectronic', 'popeurodance', 'poprussian', 'post',\n",
       "       'posthardcore', 'postrock', 'power', 'progmetal', 'progressive',\n",
       "       'psychedelic', 'punjabi', 'punk', 'quebecois', 'ragga', 'ram',\n",
       "       'rancheras', 'rap', 'rave', 'reggae', 'reggaeton', 'regional',\n",
       "       'relax', 'religious', 'retro', 'rhythm', 'rnb', 'rnr', 'rock',\n",
       "       'rockabilly', 'rockalternative', 'rockindie', 'rockother',\n",
       "       'romance', 'roots', 'ruspop', 'rusrap', 'rusrock', 'russian',\n",
       "       'salsa', 'samba', 'scenic', 'schlager', 'self', 'sertanejo',\n",
       "       'shanson', 'shoegazing', 'showtunes', 'singer', 'ska', 'skarock',\n",
       "       'slow', 'smooth', 'soft', 'soul', 'soulful', 'sound', 'soundtrack',\n",
       "       'southern', 'specialty', 'speech', 'spiritual', 'sport',\n",
       "       'stonerrock', 'surf', 'swing', 'synthpop', 'synthrock',\n",
       "       'sängerportrait', 'tango', 'tanzorchester', 'taraftar', 'tatar',\n",
       "       'tech', 'techno', 'teen', 'thrash', 'top', 'traditional',\n",
       "       'tradjazz', 'trance', 'tribal', 'trip', 'triphop', 'tropical',\n",
       "       'türk', 'türkçe', 'ukrrock', 'unknown', 'urban', 'uzbek',\n",
       "       'variété', 'vi', 'videogame', 'vocal', 'western', 'world',\n",
       "       'worldbeat', 'ïîï', 'электроника'], dtype=object)"
      ]
     },
     "execution_count": 13,
     "metadata": {},
     "output_type": "execute_result"
    }
   ],
   "source": [
    "# Устранение неявных дубликатов\n",
    "duplicates = ['hip', 'hop', 'hip-hop']\n",
    "right_name = 'hiphop'\n",
    "replace_wrong_genres (duplicates, right_name)\n",
    "# Проверка\n",
    "df['genre'].sort_values().unique()\n",
    "\n"
   ]
  },
  {
   "cell_type": "markdown",
   "metadata": {
    "id": "jz6a9-7HQUDd"
   },
   "source": [
    "**Выводы**\n",
    "\n",
    "Предобработка обнаружила три проблемы в данных:\n",
    "\n",
    "- нарушения в стиле заголовков,\n",
    "- пропущенные значения,\n",
    "- дубликаты — явные и неявные.\n",
    "\n",
    "Мы исправили заголовки, чтобы упростить работу с таблицей. Без дубликатов исследование станет более точным.\n",
    "\n",
    "Пропущенные значения заменили на `'unknown'`. Ещё предстоит увидеть, не повредят ли исследованию пропуски в колонке `genre`.\n",
    "\n",
    "Теперь можно перейти к проверке гипотез. \n"
   ]
  },
  {
   "cell_type": "markdown",
   "metadata": {},
   "source": [
    "[Содержание](#0)"
   ]
  },
  {
   "cell_type": "markdown",
   "metadata": {
    "id": "WttZHXH0SqKk"
   },
   "source": [
    "## Проверка гипотез\n",
    "<a id=4> </a>\n"
   ]
  },
  {
   "cell_type": "markdown",
   "metadata": {
    "id": "Im936VVi_Zcu"
   },
   "source": [
    "### Сравним поведение пользователей двух столиц\n"
   ]
  },
  {
   "cell_type": "markdown",
   "metadata": {
    "id": "nwt_MuaL_Zcu"
   },
   "source": [
    "Первая гипотеза утверждает, что пользователи по-разному слушают музыку в Москве и Санкт-Петербурге. Проверьте это предположение по данным о трёх днях недели — понедельнике, среде и пятнице. Для этого:\n",
    "\n",
    "* Разделим пользователей Москвы и Санкт-Петербурга\n",
    "* Сравним, сколько треков послушала каждая группа пользователей в понедельник, среду и пятницу.\n"
   ]
  },
  {
   "cell_type": "markdown",
   "metadata": {
    "id": "8Dw_YMmT_Zcu"
   },
   "source": [
    "Для тренировки сначала выполним каждый из расчётов по отдельности. \n",
    "\n",
    "Оценим активность пользователей в каждом городе. Сгруппируем данные по городу и посчитаем прослушивания в каждой группе.\n",
    "\n"
   ]
  },
  {
   "cell_type": "code",
   "execution_count": 14,
   "metadata": {
    "id": "0_Qs96oh_Zcu"
   },
   "outputs": [
    {
     "data": {
      "text/plain": [
       "city\n",
       "Moscow              42741\n",
       "Saint-Petersburg    18512\n",
       "Name: city, dtype: int64"
      ]
     },
     "execution_count": 14,
     "metadata": {},
     "output_type": "execute_result"
    }
   ],
   "source": [
    "df.groupby('city')['city'].count()# Подсчёт прослушиваний в каждом городе\n"
   ]
  },
  {
   "cell_type": "markdown",
   "metadata": {
    "id": "dzli3w8o_Zcu"
   },
   "source": [
    "В Москве прослушиваний больше, чем в Петербурге. Из этого не следует, что московские пользователи чаще слушают музыку. Просто самих пользователей в Москве больше.\n",
    "\n",
    "Теперь сгруппируем данные по дню недели и подсчитаем прослушивания в понедельник, среду и пятницу.\n"
   ]
  },
  {
   "cell_type": "code",
   "execution_count": 15,
   "metadata": {
    "id": "uZMKjiJz_Zcu"
   },
   "outputs": [
    {
     "data": {
      "text/plain": [
       "day\n",
       "Friday       21840\n",
       "Monday       21354\n",
       "Wednesday    18059\n",
       "Name: day, dtype: int64"
      ]
     },
     "execution_count": 15,
     "metadata": {},
     "output_type": "execute_result"
    }
   ],
   "source": [
    "df.groupby('day')['day'].count()# Подсчёт прослушиваний в каждый из трёх дней\n"
   ]
  },
  {
   "cell_type": "markdown",
   "metadata": {
    "id": "cC2tNrlL_Zcu"
   },
   "source": [
    "В среднем пользователи из двух городов менее активны по средам. Но картина может измениться, если рассмотреть каждый город в отдельности."
   ]
  },
  {
   "cell_type": "markdown",
   "metadata": {
    "id": "POzs8bGa_Zcu"
   },
   "source": [
    "Мы выполнили группировку по городу и по дням недели. Теперь напишем функцию, которая объединит два эти расчёта.\n"
   ]
  },
  {
   "cell_type": "code",
   "execution_count": 16,
   "metadata": {
    "id": "Nz3GdQB1_Zcu"
   },
   "outputs": [],
   "source": [
    "# <создание функции number_tracks()>\n",
    "def number_tracks(day, city):# Объявляется функция с двумя параметрами: day, city.\n",
    "    track_list = df[df['day'] == day]\n",
    "    # В переменной track_list сохраняются те строки таблицы df, для которых \n",
    "# значение в столбце 'day' равно параметру day и одновременно значение\n",
    "    track_list = track_list[track_list['city'] == city]# в столбце 'city' равно параметру city (используйте последовательную фильтрацию\n",
    "# с помощью логической индексации).\n",
    "    track_list_count = track_list['user_id'].count()# В переменной track_list_count сохраняется число значений столбца 'user_id',\n",
    "# рассчитанное методом count() для таблицы track_list.\n",
    "    return track_list_count # Функция возвращает число - значение track_list_count.\n",
    "\n",
    "# Функция для подсчёта прослушиваний для конкретного города и дня.\n",
    "# С помощью последовательной фильтрации с логической индексацией она \n",
    "# сначала получит из исходной таблицы строки с нужным днём,\n",
    "# затем из результата отфильтрует строки с нужным городом,\n",
    "# методом count() посчитает количество значений в колонке user_id. \n",
    "# Это количество функция вернёт в качестве результата"
   ]
  },
  {
   "cell_type": "markdown",
   "metadata": {
    "id": "ytf7xFrFJQ2r"
   },
   "source": [
    "Теперь при помощи нашей функции получим данные для каждого города в каждый из трёх дней и объединим их в одну таблицу.\n"
   ]
  },
  {
   "cell_type": "code",
   "execution_count": 17,
   "metadata": {
    "id": "APAcLpOr_Zcu"
   },
   "outputs": [
    {
     "data": {
      "text/html": [
       "<div>\n",
       "<style scoped>\n",
       "    .dataframe tbody tr th:only-of-type {\n",
       "        vertical-align: middle;\n",
       "    }\n",
       "\n",
       "    .dataframe tbody tr th {\n",
       "        vertical-align: top;\n",
       "    }\n",
       "\n",
       "    .dataframe thead th {\n",
       "        text-align: right;\n",
       "    }\n",
       "</style>\n",
       "<table border=\"1\" class=\"dataframe\">\n",
       "  <thead>\n",
       "    <tr style=\"text-align: right;\">\n",
       "      <th></th>\n",
       "      <th>city</th>\n",
       "      <th>monday</th>\n",
       "      <th>wednesday</th>\n",
       "      <th>friday</th>\n",
       "    </tr>\n",
       "  </thead>\n",
       "  <tbody>\n",
       "    <tr>\n",
       "      <th>0</th>\n",
       "      <td>Moscow</td>\n",
       "      <td>15740</td>\n",
       "      <td>11056</td>\n",
       "      <td>15945</td>\n",
       "    </tr>\n",
       "    <tr>\n",
       "      <th>1</th>\n",
       "      <td>Saint-Petersburg</td>\n",
       "      <td>5614</td>\n",
       "      <td>7003</td>\n",
       "      <td>5895</td>\n",
       "    </tr>\n",
       "  </tbody>\n",
       "</table>\n",
       "</div>"
      ],
      "text/plain": [
       "               city  monday  wednesday  friday\n",
       "0            Moscow   15740      11056   15945\n",
       "1  Saint-Petersburg    5614       7003    5895"
      ]
     },
     "metadata": {},
     "output_type": "display_data"
    }
   ],
   "source": [
    "columns_names = ['city', 'monday', 'wednesday', 'friday']\n",
    "data = [\n",
    "    ['Moscow', number_tracks('Monday', 'Moscow'), number_tracks('Wednesday', 'Moscow'), number_tracks('Friday', 'Moscow')],\n",
    "    ['Saint-Petersburg', number_tracks('Monday', 'Saint-Petersburg'), number_tracks('Wednesday', 'Saint-Petersburg'), number_tracks('Friday', 'Saint-Petersburg')]\n",
    "]\n",
    "result = pd.DataFrame(data=data, columns=columns_names)\n",
    "display(result)# Таблица с результатами"
   ]
  },
  {
   "cell_type": "markdown",
   "metadata": {
    "id": "-EgPIHYu_Zcu"
   },
   "source": [
    "**Выводы**\n",
    "\n",
    "Данные показывают разницу поведения пользователей:\n",
    "\n",
    "- В Москве пик прослушиваний приходится на понедельник и пятницу, а в среду заметен спад.\n",
    "- В Петербурге, наоборот, больше слушают музыку по средам. Активность в понедельник и пятницу здесь почти в равной мере уступает среде.\n",
    "\n",
    "Значит, данные говорят в пользу первой гипотезы."
   ]
  },
  {
   "cell_type": "markdown",
   "metadata": {
    "id": "atZAxtq4_Zcu"
   },
   "source": [
    "### Музыка в начале и в конце недели"
   ]
  },
  {
   "cell_type": "markdown",
   "metadata": {
    "id": "eXrQqXFH_Zcu"
   },
   "source": [
    "Согласно второй гипотезе, утром в понедельник в Москве преобладают одни жанры, а в Петербурге — другие. Так же и вечером пятницы преобладают разные жанры — в зависимости от города."
   ]
  },
  {
   "cell_type": "markdown",
   "metadata": {
    "id": "S8UcW6Hw_Zcu"
   },
   "source": [
    "Сохраним таблицы с данными в две переменные:\n",
    "* по Москве — в `moscow_general`;\n",
    "* по Санкт-Петербургу — в `spb_general`.\n"
   ]
  },
  {
   "cell_type": "code",
   "execution_count": 18,
   "metadata": {
    "id": "qeaFfM_P_Zcu"
   },
   "outputs": [],
   "source": [
    "moscow_general = df[df['city'] == 'Moscow']# получение таблицы moscow_general из тех строк таблицы df, \n",
    "# для которых значение в столбце 'city' равно 'Moscow'\n"
   ]
  },
  {
   "cell_type": "code",
   "execution_count": 19,
   "metadata": {
    "id": "ORaVRKto_Zcu"
   },
   "outputs": [],
   "source": [
    "spb_general = df[df['city'] == 'Saint-Petersburg']\n",
    "# получение таблицы spb_general из тех строк таблицы df,\n",
    "# для которых значение в столбце 'city' равно 'Saint-Petersburg'\n"
   ]
  },
  {
   "cell_type": "markdown",
   "metadata": {
    "id": "MEJV-CX2_Zcu"
   },
   "source": [
    "Создадим функцию, которая должна вернуть информацию о топ-10 жанров тех треков, которые прослушивали в указанный день, в промежутке между двумя отметками времени.\n"
   ]
  },
  {
   "cell_type": "code",
   "execution_count": 20,
   "metadata": {
    "id": "laJT9BYl_Zcu"
   },
   "outputs": [],
   "source": [
    "def genre_weekday (table, day, time1, time2):# Объявление функции genre_weekday() с параметрами table, day, time1, time2,\n",
    "# которая возвращает информацию о самых популярных жанрах в указанный день в\n",
    "# заданное время:\n",
    "# 1) в переменную genre_df сохраняются те строки переданного датафрейма table, для\n",
    "#    которых одновременно:\n",
    "    genre_df = table[table['day'] == day]#    - значение в столбце day равно значению аргумента day\n",
    "    genre_df = genre_df[genre_df['time'] > time1]#    - значение в столбце time больше значения аргумента time1\n",
    "    genre_df = genre_df[genre_df['time'] < time2]#    - значение в столбце time меньше значения аргумента time2\n",
    "#    Используйте последовательную фильтрацию с помощью логической индексации.\n",
    "    genre_df_count = genre_df.groupby('genre')['genre'].count()# 2) сгруппировать датафрейм genre_df по столбцу genre, взять один из его\n",
    "#    столбцов и посчитать методом count() количество записей для каждого из\n",
    "#    присутствующих жанров, получившийся Series записать в переменную\n",
    "#    genre_df_count\n",
    "    genre_df_sorted = genre_df_count.sort_values(ascending=False)# 3) отсортировать genre_df_count по убыванию встречаемости и сохранить\n",
    "#    в переменную genre_df_sorted\n",
    "    return genre_df_sorted.head(10)# 4) вернуть Series из 10 первых значений genre_df_sorted, это будут топ-10\n",
    "#    популярных жанров (в указанный день, в заданное время)"
   ]
  },
  {
   "cell_type": "markdown",
   "metadata": {
    "id": "la2s2_PF_Zcu"
   },
   "source": [
    "Cравним результаты функции `genre_weekday()` для Москвы и Санкт-Петербурга в понедельник утром (с 7:00 до 11:00) и в пятницу вечером (с 17:00 до 23:00):\n"
   ]
  },
  {
   "cell_type": "code",
   "execution_count": 21,
   "metadata": {
    "id": "yz7itPUQ_Zcu"
   },
   "outputs": [
    {
     "data": {
      "text/plain": [
       "genre\n",
       "pop            781\n",
       "dance          549\n",
       "electronic     480\n",
       "rock           474\n",
       "hiphop         286\n",
       "ruspop         186\n",
       "world          181\n",
       "rusrap         175\n",
       "alternative    164\n",
       "unknown        161\n",
       "Name: genre, dtype: int64"
      ]
     },
     "execution_count": 21,
     "metadata": {},
     "output_type": "execute_result"
    }
   ],
   "source": [
    "genre_weekday(moscow_general, 'Monday', '07:00', '11:00')# вызов функции для утра понедельника в Москве\n",
    "# объекты, хранящие время, являются строками и сравниваются как строки\n"
   ]
  },
  {
   "cell_type": "code",
   "execution_count": 22,
   "metadata": {
    "id": "kwUcHPdy_Zcu"
   },
   "outputs": [
    {
     "data": {
      "text/plain": [
       "genre\n",
       "pop            218\n",
       "dance          182\n",
       "rock           162\n",
       "electronic     147\n",
       "hiphop          80\n",
       "ruspop          64\n",
       "alternative     58\n",
       "rusrap          55\n",
       "jazz            44\n",
       "classical       40\n",
       "Name: genre, dtype: int64"
      ]
     },
     "execution_count": 22,
     "metadata": {},
     "output_type": "execute_result"
    }
   ],
   "source": [
    "genre_weekday(spb_general, 'Monday', '07:00', '11:00') # вызов функции для утра понедельника в Петербурге \n"
   ]
  },
  {
   "cell_type": "code",
   "execution_count": 23,
   "metadata": {
    "id": "EzXVRE1o_Zcu"
   },
   "outputs": [
    {
     "data": {
      "text/plain": [
       "genre\n",
       "pop            713\n",
       "rock           517\n",
       "dance          495\n",
       "electronic     482\n",
       "hiphop         273\n",
       "world          208\n",
       "ruspop         170\n",
       "alternative    163\n",
       "classical      163\n",
       "rusrap         142\n",
       "Name: genre, dtype: int64"
      ]
     },
     "execution_count": 23,
     "metadata": {},
     "output_type": "execute_result"
    }
   ],
   "source": [
    "genre_weekday(moscow_general, 'Friday', '17:00', '23:00')# вызов функции для вечера пятницы в Москве\n"
   ]
  },
  {
   "cell_type": "code",
   "execution_count": 24,
   "metadata": {
    "id": "JZaEKu5v_Zcu"
   },
   "outputs": [
    {
     "data": {
      "text/plain": [
       "genre\n",
       "pop            256\n",
       "electronic     216\n",
       "rock           216\n",
       "dance          210\n",
       "hiphop          97\n",
       "alternative     63\n",
       "jazz            61\n",
       "classical       60\n",
       "rusrap          59\n",
       "world           54\n",
       "Name: genre, dtype: int64"
      ]
     },
     "execution_count": 24,
     "metadata": {},
     "output_type": "execute_result"
    }
   ],
   "source": [
    "genre_weekday(spb_general, 'Friday', '17:00', '23:00')# вызов функции для вечера пятницы в Петербурге\n"
   ]
  },
  {
   "cell_type": "markdown",
   "metadata": {
    "id": "wrCe4MNX_Zcu"
   },
   "source": [
    "**Выводы**\n",
    "\n",
    "Если сравнить топ-10 жанров в понедельник утром, можно сделать такие выводы:\n",
    "\n",
    "1. В Москве и Петербурге слушают похожую музыку. Единственное отличие — в московский рейтинг вошёл жанр “world”, а в петербургский — джаз и классика.\n",
    "\n",
    "2. В Москве пропущенных значений оказалось так много, что значение `'unknown'` заняло десятое место среди самых популярных жанров. Значит, пропущенные значения занимают существенную долю в данных и угрожают достоверности исследования.\n",
    "\n",
    "Вечер пятницы не меняет эту картину. Некоторые жанры поднимаются немного выше, другие спускаются, но в целом топ-10 остаётся тем же самым.\n",
    "\n",
    "Таким образом, вторая гипотеза подтвердилась лишь частично:\n",
    "* Пользователи слушают похожую музыку в начале недели и в конце.\n",
    "* Разница между Москвой и Петербургом не слишком выражена. В Москве чаще слушают русскую популярную музыку, в Петербурге — джаз.\n",
    "\n",
    "Однако пропуски в данных ставят под сомнение этот результат. В Москве их так много, что рейтинг топ-10 мог бы выглядеть иначе, если бы не утерянные  данные о жанрах."
   ]
  },
  {
   "cell_type": "markdown",
   "metadata": {
    "id": "JolODAqr_Zcu"
   },
   "source": [
    "### Жанровые предпочтения в Москве и Петербурге\n",
    "\n",
    "Гипотеза: Петербург — столица рэпа, музыку этого жанра там слушают чаще, чем в Москве.  А Москва — город контрастов, в котором, тем не менее, преобладает поп-музыка."
   ]
  },
  {
   "cell_type": "code",
   "execution_count": 25,
   "metadata": {
    "id": "r19lIPke_Zcu"
   },
   "outputs": [],
   "source": [
    "moscow_genres = moscow_general.groupby('genre')['genre'].count()# группировка таблицы moscow_general по столбцу 'genre', \n",
    "# подсчёт числа значений 'genre' в этой группировке методом count(), \n",
    "moscow_genres = moscow_genres.sort_values(ascending=False)\n",
    "# сортировка получившегося Series в порядке убывания и сохранение в moscow_genres"
   ]
  },
  {
   "cell_type": "markdown",
   "metadata": {
    "id": "6kMuomxTiIr8"
   },
   "source": [
    "Выведите на экран первые десять строк `moscow_genres`:"
   ]
  },
  {
   "cell_type": "code",
   "execution_count": 26,
   "metadata": {
    "id": "WhCSooF8_Zcv"
   },
   "outputs": [
    {
     "data": {
      "text/plain": [
       "genre\n",
       "pop            5892\n",
       "dance          4435\n",
       "rock           3965\n",
       "electronic     3786\n",
       "hiphop         2096\n",
       "classical      1616\n",
       "world          1432\n",
       "alternative    1379\n",
       "ruspop         1372\n",
       "rusrap         1161\n",
       "Name: genre, dtype: int64"
      ]
     },
     "metadata": {},
     "output_type": "display_data"
    }
   ],
   "source": [
    "display(moscow_genres.head(10))# просмотр первых 10 строк moscow_genres\n"
   ]
  },
  {
   "cell_type": "markdown",
   "metadata": {
    "id": "cnPG2vnN_Zcv"
   },
   "source": [
    "Теперь повторим то же и для Петербурга.\n"
   ]
  },
  {
   "cell_type": "code",
   "execution_count": 27,
   "metadata": {
    "id": "gluLIpE7_Zcv"
   },
   "outputs": [],
   "source": [
    "spb_genres = spb_general.groupby('genre')['genre'].count()# группировка таблицы spb_general по столбцу 'genre', \n",
    "# подсчёт числа значений 'genre' в этой группировке методом count(), \n",
    "spb_genres = spb_genres.sort_values(ascending=False)# сортировка получившегося Series в порядке убывания и сохранение в spb_genres"
   ]
  },
  {
   "cell_type": "markdown",
   "metadata": {
    "id": "5Doha_ODgyQ8"
   },
   "source": [
    "Выведите на экран первые десять строк `spb_genres`:"
   ]
  },
  {
   "cell_type": "code",
   "execution_count": 28,
   "metadata": {
    "id": "uaGJHjVU_Zcv"
   },
   "outputs": [
    {
     "data": {
      "text/plain": [
       "genre\n",
       "pop            2431\n",
       "dance          1932\n",
       "rock           1879\n",
       "electronic     1736\n",
       "hiphop          960\n",
       "alternative     649\n",
       "classical       646\n",
       "rusrap          564\n",
       "ruspop          538\n",
       "world           515\n",
       "Name: genre, dtype: int64"
      ]
     },
     "metadata": {},
     "output_type": "display_data"
    }
   ],
   "source": [
    "display(spb_genres.head(10))# просмотр первых 10 строк spb_genres\n"
   ]
  },
  {
   "cell_type": "markdown",
   "metadata": {
    "id": "RY51YJYu_Zcv"
   },
   "source": [
    "**Выводы**"
   ]
  },
  {
   "cell_type": "markdown",
   "metadata": {
    "id": "nVhnJEm__Zcv"
   },
   "source": [
    "Гипотеза частично подтвердилась:\n",
    "* Поп-музыка — самый популярный жанр в Москве, как и предполагала гипотеза. Более того, в топ-10 жанров встречается близкий жанр — русская популярная музыка.\n",
    "* Вопреки ожиданиям, рэп одинаково популярен в Москве и Петербурге. \n"
   ]
  },
  {
   "cell_type": "markdown",
   "metadata": {},
   "source": [
    "[Содержание](#0)"
   ]
  },
  {
   "cell_type": "markdown",
   "metadata": {
    "id": "ykKQ0N65_Zcv"
   },
   "source": [
    "## Итоги исследования\n",
    "<a id=5> </a>\n"
   ]
  },
  {
   "cell_type": "markdown",
   "metadata": {
    "id": "tjUwbHb3_Zcv"
   },
   "source": [
    "Вы проверили три гипотезы и установили:\n",
    "\n",
    "1. День недели по-разному влияет на активность пользователей в Москве и Петербурге. \n",
    "\n",
    "Первая гипотеза полностью подтвердилась.\n",
    "\n",
    "2. Музыкальные предпочтения не сильно меняются в течение недели — будь то Москва или Петербург. Небольшие различия заметны в начале недели, по понедельникам:\n",
    "* в Москве слушают музыку жанра “world”,\n",
    "* в Петербурге — джаз и классику.\n",
    "\n",
    "Таким образом, вторая гипотеза подтвердилась лишь отчасти. Этот результат мог оказаться иным, если бы не пропуски в данных.\n",
    "\n",
    "3. Во вкусах пользователей Москвы и Петербурга больше общего чем различий. Вопреки ожиданиям, предпочтения жанров в Петербурге напоминают московские.\n",
    "\n",
    "Третья гипотеза не подтвердилась. Если различия в предпочтениях и существуют, на основной массе пользователей они незаметны.\n",
    "\n",
    "**На практике исследования содержат проверки статистических гипотез.**\n",
    "Из данных одного сервиса не всегда можно сделать вывод о всех жителях города.\n",
    "Проверки статистических гипотез покажут, насколько они достоверны, исходя из имеющихся данных. \n",
    "С методами проверок гипотез вы ещё познакомитесь в следующих темах."
   ]
  }
 ],
 "metadata": {
  "ExecuteTimeLog": [
   {
    "duration": 413,
    "start_time": "2022-05-09T09:56:13.994Z"
   },
   {
    "duration": 156,
    "start_time": "2022-05-09T09:57:23.423Z"
   },
   {
    "duration": 29,
    "start_time": "2022-05-09T09:58:15.160Z"
   },
   {
    "duration": 167,
    "start_time": "2022-05-09T09:58:25.008Z"
   },
   {
    "duration": 30,
    "start_time": "2022-05-09T09:59:08.279Z"
   },
   {
    "duration": 9,
    "start_time": "2022-05-09T09:59:20.501Z"
   },
   {
    "duration": 11,
    "start_time": "2022-05-09T09:59:27.126Z"
   },
   {
    "duration": 9,
    "start_time": "2022-05-09T09:59:49.168Z"
   },
   {
    "duration": 4,
    "start_time": "2022-05-09T10:18:22.525Z"
   },
   {
    "duration": 171,
    "start_time": "2022-05-09T10:21:31.286Z"
   },
   {
    "duration": 8,
    "start_time": "2022-05-09T10:21:55.331Z"
   },
   {
    "duration": 12,
    "start_time": "2022-05-09T10:28:10.149Z"
   },
   {
    "duration": 4,
    "start_time": "2022-05-09T10:28:28.290Z"
   },
   {
    "duration": 26,
    "start_time": "2022-05-09T10:30:52.225Z"
   },
   {
    "duration": 22,
    "start_time": "2022-05-09T10:40:31.374Z"
   },
   {
    "duration": 26,
    "start_time": "2022-05-09T10:41:06.816Z"
   },
   {
    "duration": 70,
    "start_time": "2022-05-09T10:42:06.453Z"
   },
   {
    "duration": 74,
    "start_time": "2022-05-09T10:42:44.467Z"
   },
   {
    "duration": 64,
    "start_time": "2022-05-09T10:43:06.151Z"
   },
   {
    "duration": 6,
    "start_time": "2022-05-09T10:45:33.023Z"
   },
   {
    "duration": 8,
    "start_time": "2022-05-09T10:45:42.927Z"
   },
   {
    "duration": 7,
    "start_time": "2022-05-09T10:50:16.353Z"
   },
   {
    "duration": 7,
    "start_time": "2022-05-09T10:50:31.592Z"
   },
   {
    "duration": 8,
    "start_time": "2022-05-09T10:52:21.328Z"
   },
   {
    "duration": 9,
    "start_time": "2022-05-09T10:52:58.571Z"
   },
   {
    "duration": 7,
    "start_time": "2022-05-09T10:54:08.446Z"
   },
   {
    "duration": 6,
    "start_time": "2022-05-09T10:54:55.104Z"
   },
   {
    "duration": 3,
    "start_time": "2022-05-09T10:55:36.011Z"
   },
   {
    "duration": 7,
    "start_time": "2022-05-09T10:57:21.196Z"
   },
   {
    "duration": 8,
    "start_time": "2022-05-09T10:57:28.573Z"
   },
   {
    "duration": 41,
    "start_time": "2022-05-09T10:58:30.812Z"
   },
   {
    "duration": 39,
    "start_time": "2022-05-09T10:59:43.322Z"
   },
   {
    "duration": 34,
    "start_time": "2022-05-09T11:00:17.961Z"
   },
   {
    "duration": 32,
    "start_time": "2022-05-09T11:00:57.559Z"
   },
   {
    "duration": 36,
    "start_time": "2022-05-09T11:03:01.936Z"
   },
   {
    "duration": 38,
    "start_time": "2022-05-09T11:04:15.415Z"
   },
   {
    "duration": 33,
    "start_time": "2022-05-09T11:05:41.577Z"
   },
   {
    "duration": 36,
    "start_time": "2022-05-09T11:06:03.146Z"
   },
   {
    "duration": 36,
    "start_time": "2022-05-09T11:06:11.269Z"
   },
   {
    "duration": 37,
    "start_time": "2022-05-09T11:07:09.729Z"
   },
   {
    "duration": 37,
    "start_time": "2022-05-09T11:07:27.060Z"
   },
   {
    "duration": 35,
    "start_time": "2022-05-09T11:07:51.852Z"
   },
   {
    "duration": 8,
    "start_time": "2022-05-09T11:08:12.702Z"
   },
   {
    "duration": 8,
    "start_time": "2022-05-09T11:08:32.341Z"
   },
   {
    "duration": 10,
    "start_time": "2022-05-09T11:11:25.123Z"
   },
   {
    "duration": 50,
    "start_time": "2022-05-09T11:13:10.612Z"
   },
   {
    "duration": 7,
    "start_time": "2022-05-09T11:14:05.917Z"
   },
   {
    "duration": 461,
    "start_time": "2022-05-09T11:14:18.940Z"
   },
   {
    "duration": 170,
    "start_time": "2022-05-09T11:14:24.587Z"
   },
   {
    "duration": 20,
    "start_time": "2022-05-09T11:14:29.363Z"
   },
   {
    "duration": 9,
    "start_time": "2022-05-09T11:14:35.021Z"
   },
   {
    "duration": 4,
    "start_time": "2022-05-09T11:14:40.361Z"
   },
   {
    "duration": 12,
    "start_time": "2022-05-09T11:14:46.161Z"
   },
   {
    "duration": 5,
    "start_time": "2022-05-09T11:14:52.460Z"
   },
   {
    "duration": 26,
    "start_time": "2022-05-09T11:15:14.091Z"
   },
   {
    "duration": 21,
    "start_time": "2022-05-09T11:15:25.926Z"
   },
   {
    "duration": 27,
    "start_time": "2022-05-09T11:15:28.765Z"
   },
   {
    "duration": 71,
    "start_time": "2022-05-09T11:15:32.575Z"
   },
   {
    "duration": 77,
    "start_time": "2022-05-09T11:15:36.173Z"
   },
   {
    "duration": 64,
    "start_time": "2022-05-09T11:15:43.673Z"
   },
   {
    "duration": 41,
    "start_time": "2022-05-09T11:15:49.314Z"
   },
   {
    "duration": 59,
    "start_time": "2022-05-09T11:16:29.753Z"
   },
   {
    "duration": 160,
    "start_time": "2022-05-09T11:30:16.161Z"
   },
   {
    "duration": 165,
    "start_time": "2022-05-09T11:30:32.115Z"
   },
   {
    "duration": 69,
    "start_time": "2022-05-09T11:30:42.833Z"
   },
   {
    "duration": 74,
    "start_time": "2022-05-09T11:31:15.956Z"
   },
   {
    "duration": 70,
    "start_time": "2022-05-09T11:31:51.901Z"
   },
   {
    "duration": 44,
    "start_time": "2022-05-09T11:32:29.363Z"
   },
   {
    "duration": 172,
    "start_time": "2022-05-09T11:48:14.066Z"
   },
   {
    "duration": 9,
    "start_time": "2022-05-09T11:48:32.699Z"
   },
   {
    "duration": 2756,
    "start_time": "2022-05-09T11:48:56.168Z"
   },
   {
    "duration": 2708,
    "start_time": "2022-05-09T11:51:29.260Z"
   },
   {
    "duration": 2734,
    "start_time": "2022-05-09T11:51:57.253Z"
   },
   {
    "duration": 11,
    "start_time": "2022-05-09T11:54:28.005Z"
   },
   {
    "duration": 10,
    "start_time": "2022-05-09T11:55:27.025Z"
   },
   {
    "duration": 58,
    "start_time": "2022-05-09T11:56:37.130Z"
   },
   {
    "duration": 2738,
    "start_time": "2022-05-09T12:14:13.827Z"
   },
   {
    "duration": 2656,
    "start_time": "2022-05-09T12:15:14.995Z"
   },
   {
    "duration": 31,
    "start_time": "2022-05-09T12:16:42.065Z"
   },
   {
    "duration": 34,
    "start_time": "2022-05-09T12:17:34.127Z"
   },
   {
    "duration": 32,
    "start_time": "2022-05-09T12:18:02.815Z"
   },
   {
    "duration": 36,
    "start_time": "2022-05-09T12:18:30.770Z"
   },
   {
    "duration": 45,
    "start_time": "2022-05-09T12:19:45.605Z"
   },
   {
    "duration": 20,
    "start_time": "2022-05-09T12:20:17.884Z"
   },
   {
    "duration": 30,
    "start_time": "2022-05-09T12:20:34.205Z"
   },
   {
    "duration": 41,
    "start_time": "2022-05-09T12:24:40.321Z"
   },
   {
    "duration": 45,
    "start_time": "2022-05-09T12:25:09.316Z"
   },
   {
    "duration": 52,
    "start_time": "2022-05-09T12:29:38.287Z"
   },
   {
    "duration": 64,
    "start_time": "2022-05-09T12:30:01.028Z"
   },
   {
    "duration": 46,
    "start_time": "2022-05-09T12:34:33.712Z"
   },
   {
    "duration": 170,
    "start_time": "2022-05-09T12:48:59.698Z"
   },
   {
    "duration": 12,
    "start_time": "2022-05-09T12:49:27.540Z"
   },
   {
    "duration": 13,
    "start_time": "2022-05-09T12:50:01.854Z"
   },
   {
    "duration": 39,
    "start_time": "2022-05-09T12:52:30.673Z"
   },
   {
    "duration": 13,
    "start_time": "2022-05-09T14:06:47.123Z"
   },
   {
    "duration": 12,
    "start_time": "2022-05-09T14:07:36.355Z"
   },
   {
    "duration": 4,
    "start_time": "2022-05-09T14:21:03.178Z"
   },
   {
    "duration": 9,
    "start_time": "2022-05-09T14:21:41.667Z"
   },
   {
    "duration": 5,
    "start_time": "2022-05-09T14:21:54.783Z"
   },
   {
    "duration": 234,
    "start_time": "2022-05-09T14:22:29.889Z"
   },
   {
    "duration": 6,
    "start_time": "2022-05-09T14:22:37.154Z"
   },
   {
    "duration": 5,
    "start_time": "2022-05-09T14:23:10.377Z"
   },
   {
    "duration": 5,
    "start_time": "2022-05-09T14:24:00.745Z"
   },
   {
    "duration": 8,
    "start_time": "2022-05-09T14:24:20.429Z"
   },
   {
    "duration": 6,
    "start_time": "2022-05-09T14:24:35.018Z"
   },
   {
    "duration": 52,
    "start_time": "2022-05-09T14:27:06.896Z"
   },
   {
    "duration": 48,
    "start_time": "2022-05-09T14:29:21.995Z"
   },
   {
    "duration": 250,
    "start_time": "2022-05-09T14:31:46.965Z"
   },
   {
    "duration": 48,
    "start_time": "2022-05-09T14:32:06.270Z"
   },
   {
    "duration": 35,
    "start_time": "2022-05-09T14:32:19.671Z"
   },
   {
    "duration": 34,
    "start_time": "2022-05-09T14:32:54.915Z"
   },
   {
    "duration": 45,
    "start_time": "2022-05-09T14:32:56.967Z"
   },
   {
    "duration": 37,
    "start_time": "2022-05-09T14:34:03.494Z"
   },
   {
    "duration": 5,
    "start_time": "2022-05-09T14:35:27.335Z"
   },
   {
    "duration": 0,
    "start_time": "2022-05-09T14:35:37.258Z"
   },
   {
    "duration": 5020,
    "start_time": "2022-05-09T14:35:47.481Z"
   },
   {
    "duration": 0,
    "start_time": "2022-05-09T14:40:23.581Z"
   },
   {
    "duration": 4074,
    "start_time": "2022-05-09T14:40:24.228Z"
   },
   {
    "duration": 51,
    "start_time": "2022-05-09T14:41:02.063Z"
   },
   {
    "duration": 49,
    "start_time": "2022-05-09T14:41:13.450Z"
   },
   {
    "duration": 46,
    "start_time": "2022-05-09T14:41:25.909Z"
   },
   {
    "duration": 51,
    "start_time": "2022-05-09T14:42:06.296Z"
   },
   {
    "duration": 25,
    "start_time": "2022-05-09T14:46:01.843Z"
   },
   {
    "duration": 22,
    "start_time": "2022-05-09T14:46:10.157Z"
   },
   {
    "duration": 28,
    "start_time": "2022-05-09T14:47:10.885Z"
   },
   {
    "duration": 23,
    "start_time": "2022-05-09T14:47:18.498Z"
   },
   {
    "duration": 22,
    "start_time": "2022-05-09T14:47:22.507Z"
   },
   {
    "duration": 22,
    "start_time": "2022-05-09T14:47:25.893Z"
   },
   {
    "duration": 24,
    "start_time": "2022-05-09T14:51:58.665Z"
   },
   {
    "duration": 4,
    "start_time": "2022-05-09T14:52:34.548Z"
   },
   {
    "duration": 25,
    "start_time": "2022-05-09T14:52:38.694Z"
   },
   {
    "duration": 22,
    "start_time": "2022-05-09T14:52:40.872Z"
   },
   {
    "duration": 24,
    "start_time": "2022-05-09T14:52:43.758Z"
   },
   {
    "duration": 24,
    "start_time": "2022-05-09T15:05:24.965Z"
   },
   {
    "duration": 20,
    "start_time": "2022-05-09T15:05:29.309Z"
   },
   {
    "duration": 23,
    "start_time": "2022-05-09T15:05:32.781Z"
   },
   {
    "duration": 4,
    "start_time": "2022-05-09T15:12:19.680Z"
   },
   {
    "duration": 22,
    "start_time": "2022-05-09T15:12:23.383Z"
   },
   {
    "duration": 16,
    "start_time": "2022-05-09T15:12:27.286Z"
   },
   {
    "duration": 18,
    "start_time": "2022-05-09T15:12:30.806Z"
   },
   {
    "duration": 16,
    "start_time": "2022-05-09T15:12:33.680Z"
   },
   {
    "duration": 18,
    "start_time": "2022-05-09T15:13:48.851Z"
   },
   {
    "duration": 16,
    "start_time": "2022-05-09T15:13:51.818Z"
   },
   {
    "duration": 9,
    "start_time": "2022-05-09T15:17:17.839Z"
   },
   {
    "duration": 9,
    "start_time": "2022-05-09T15:20:14.077Z"
   },
   {
    "duration": 9,
    "start_time": "2022-05-09T15:25:32.353Z"
   },
   {
    "duration": 186,
    "start_time": "2022-05-09T15:30:23.968Z"
   },
   {
    "duration": 77,
    "start_time": "2022-05-09T15:30:40.503Z"
   },
   {
    "duration": 77,
    "start_time": "2022-05-09T15:34:23.543Z"
   },
   {
    "duration": 73,
    "start_time": "2022-05-09T15:46:50.263Z"
   },
   {
    "duration": 72,
    "start_time": "2022-05-09T15:47:50.575Z"
   },
   {
    "duration": 12,
    "start_time": "2022-05-09T15:50:10.014Z"
   },
   {
    "duration": 12,
    "start_time": "2022-05-09T15:50:25.912Z"
   },
   {
    "duration": 12,
    "start_time": "2022-05-09T15:50:46.275Z"
   },
   {
    "duration": 168,
    "start_time": "2022-05-09T15:51:23.698Z"
   },
   {
    "duration": 10,
    "start_time": "2022-05-09T15:51:34.094Z"
   },
   {
    "duration": 171,
    "start_time": "2022-05-09T16:06:36.092Z"
   },
   {
    "duration": 175,
    "start_time": "2022-05-09T16:06:56.079Z"
   },
   {
    "duration": 163,
    "start_time": "2022-05-09T16:07:47.801Z"
   },
   {
    "duration": 4,
    "start_time": "2022-05-09T16:07:57.383Z"
   },
   {
    "duration": 4,
    "start_time": "2022-05-09T16:09:31.903Z"
   },
   {
    "duration": 19,
    "start_time": "2022-05-09T16:11:49.451Z"
   },
   {
    "duration": 11,
    "start_time": "2022-05-09T16:15:39.917Z"
   },
   {
    "duration": 10,
    "start_time": "2022-05-09T16:16:28.250Z"
   },
   {
    "duration": 10,
    "start_time": "2022-05-09T16:16:39.003Z"
   },
   {
    "duration": 17,
    "start_time": "2022-05-09T16:16:43.845Z"
   },
   {
    "duration": 12,
    "start_time": "2022-05-09T16:16:46.777Z"
   },
   {
    "duration": 10,
    "start_time": "2022-05-09T16:16:53.129Z"
   },
   {
    "duration": 11,
    "start_time": "2022-05-09T16:17:31.694Z"
   },
   {
    "duration": 11,
    "start_time": "2022-05-09T16:18:22.912Z"
   },
   {
    "duration": 13,
    "start_time": "2022-05-09T16:19:10.001Z"
   },
   {
    "duration": 18,
    "start_time": "2022-05-09T16:19:13.025Z"
   },
   {
    "duration": 12,
    "start_time": "2022-05-09T16:19:15.077Z"
   },
   {
    "duration": 10,
    "start_time": "2022-05-09T16:19:29.092Z"
   },
   {
    "duration": 12,
    "start_time": "2022-05-09T16:20:58.691Z"
   },
   {
    "duration": 11,
    "start_time": "2022-05-09T17:29:40.636Z"
   },
   {
    "duration": 12,
    "start_time": "2022-05-09T18:39:52.122Z"
   },
   {
    "duration": 12,
    "start_time": "2022-05-09T18:40:00.004Z"
   },
   {
    "duration": 21,
    "start_time": "2022-05-09T18:44:41.622Z"
   },
   {
    "duration": 61,
    "start_time": "2022-05-10T04:52:46.030Z"
   },
   {
    "duration": 2,
    "start_time": "2022-05-10T04:53:47.461Z"
   },
   {
    "duration": 375,
    "start_time": "2022-05-10T04:54:10.167Z"
   },
   {
    "duration": 141,
    "start_time": "2022-05-10T04:54:10.547Z"
   },
   {
    "duration": 17,
    "start_time": "2022-05-10T04:54:10.690Z"
   },
   {
    "duration": 8,
    "start_time": "2022-05-10T04:54:10.709Z"
   },
   {
    "duration": 8,
    "start_time": "2022-05-10T04:54:10.718Z"
   },
   {
    "duration": 28,
    "start_time": "2022-05-10T04:54:10.727Z"
   },
   {
    "duration": 5,
    "start_time": "2022-05-10T04:54:10.756Z"
   },
   {
    "duration": 27,
    "start_time": "2022-05-10T04:54:10.763Z"
   },
   {
    "duration": 16,
    "start_time": "2022-05-10T04:54:10.792Z"
   },
   {
    "duration": 40,
    "start_time": "2022-05-10T04:54:10.811Z"
   },
   {
    "duration": 59,
    "start_time": "2022-05-10T04:54:10.853Z"
   },
   {
    "duration": 79,
    "start_time": "2022-05-10T04:54:10.913Z"
   },
   {
    "duration": 59,
    "start_time": "2022-05-10T04:54:10.994Z"
   },
   {
    "duration": 38,
    "start_time": "2022-05-10T04:54:11.055Z"
   },
   {
    "duration": 4,
    "start_time": "2022-05-10T04:54:11.094Z"
   },
   {
    "duration": 14,
    "start_time": "2022-05-10T04:54:11.100Z"
   },
   {
    "duration": 52,
    "start_time": "2022-05-10T04:54:11.116Z"
   },
   {
    "duration": 11,
    "start_time": "2022-05-10T04:54:11.169Z"
   },
   {
    "duration": 11,
    "start_time": "2022-05-10T04:54:11.181Z"
   },
   {
    "duration": 3,
    "start_time": "2022-05-10T04:54:11.193Z"
   },
   {
    "duration": 19,
    "start_time": "2022-05-10T04:54:11.198Z"
   },
   {
    "duration": 38,
    "start_time": "2022-05-10T04:54:11.218Z"
   },
   {
    "duration": 13,
    "start_time": "2022-05-10T04:54:11.258Z"
   },
   {
    "duration": 12,
    "start_time": "2022-05-10T04:54:11.273Z"
   },
   {
    "duration": 15,
    "start_time": "2022-05-10T04:54:11.286Z"
   },
   {
    "duration": 13,
    "start_time": "2022-05-10T04:54:11.303Z"
   },
   {
    "duration": 64,
    "start_time": "2022-05-10T04:54:11.348Z"
   },
   {
    "duration": 10,
    "start_time": "2022-05-10T04:54:11.415Z"
   },
   {
    "duration": 30,
    "start_time": "2022-05-10T04:54:11.426Z"
   },
   {
    "duration": 4,
    "start_time": "2022-05-10T04:54:11.457Z"
   },
   {
    "duration": 17,
    "start_time": "2022-05-10T04:54:11.462Z"
   },
   {
    "duration": 9,
    "start_time": "2022-05-10T04:54:11.480Z"
   },
   {
    "duration": 17,
    "start_time": "2022-05-10T04:54:11.490Z"
   },
   {
    "duration": 39,
    "start_time": "2022-05-10T04:54:11.509Z"
   },
   {
    "duration": 62,
    "start_time": "2022-05-10T04:54:11.550Z"
   },
   {
    "duration": 0,
    "start_time": "2022-05-10T04:54:11.613Z"
   },
   {
    "duration": 0,
    "start_time": "2022-05-10T04:54:11.614Z"
   },
   {
    "duration": 0,
    "start_time": "2022-05-10T04:54:11.615Z"
   },
   {
    "duration": 13,
    "start_time": "2022-05-10T04:54:45.392Z"
   },
   {
    "duration": 12,
    "start_time": "2022-05-10T04:54:54.259Z"
   },
   {
    "duration": 13,
    "start_time": "2022-05-10T04:55:12.447Z"
   },
   {
    "duration": 12,
    "start_time": "2022-05-10T04:55:28.886Z"
   },
   {
    "duration": 9,
    "start_time": "2022-05-10T04:56:28.229Z"
   },
   {
    "duration": 5,
    "start_time": "2022-05-10T04:57:17.146Z"
   },
   {
    "duration": 6,
    "start_time": "2022-05-10T04:58:28.967Z"
   },
   {
    "duration": 5,
    "start_time": "2022-05-10T04:58:47.052Z"
   },
   {
    "duration": 49,
    "start_time": "2022-05-10T12:51:45.998Z"
   },
   {
    "duration": 428,
    "start_time": "2022-05-10T12:52:09.645Z"
   },
   {
    "duration": 156,
    "start_time": "2022-05-10T12:52:10.075Z"
   },
   {
    "duration": 16,
    "start_time": "2022-05-10T12:52:10.233Z"
   },
   {
    "duration": 9,
    "start_time": "2022-05-10T12:52:10.251Z"
   },
   {
    "duration": 12,
    "start_time": "2022-05-10T12:52:10.262Z"
   },
   {
    "duration": 11,
    "start_time": "2022-05-10T12:52:10.275Z"
   },
   {
    "duration": 18,
    "start_time": "2022-05-10T12:52:10.288Z"
   },
   {
    "duration": 28,
    "start_time": "2022-05-10T12:52:10.307Z"
   },
   {
    "duration": 32,
    "start_time": "2022-05-10T12:52:10.336Z"
   },
   {
    "duration": 25,
    "start_time": "2022-05-10T12:52:10.372Z"
   },
   {
    "duration": 76,
    "start_time": "2022-05-10T12:52:10.399Z"
   },
   {
    "duration": 68,
    "start_time": "2022-05-10T12:52:10.477Z"
   },
   {
    "duration": 72,
    "start_time": "2022-05-10T12:52:10.547Z"
   },
   {
    "duration": 39,
    "start_time": "2022-05-10T12:52:10.621Z"
   },
   {
    "duration": 3,
    "start_time": "2022-05-10T12:52:10.674Z"
   },
   {
    "duration": 13,
    "start_time": "2022-05-10T12:52:10.678Z"
   },
   {
    "duration": 37,
    "start_time": "2022-05-10T12:52:10.693Z"
   },
   {
    "duration": 11,
    "start_time": "2022-05-10T12:52:10.732Z"
   },
   {
    "duration": 37,
    "start_time": "2022-05-10T12:52:10.745Z"
   },
   {
    "duration": 4,
    "start_time": "2022-05-10T12:52:10.783Z"
   },
   {
    "duration": 20,
    "start_time": "2022-05-10T12:52:10.788Z"
   },
   {
    "duration": 14,
    "start_time": "2022-05-10T12:52:10.810Z"
   },
   {
    "duration": 14,
    "start_time": "2022-05-10T12:52:10.826Z"
   },
   {
    "duration": 43,
    "start_time": "2022-05-10T12:52:10.842Z"
   },
   {
    "duration": 16,
    "start_time": "2022-05-10T12:52:10.886Z"
   },
   {
    "duration": 13,
    "start_time": "2022-05-10T12:52:10.903Z"
   },
   {
    "duration": 88,
    "start_time": "2022-05-10T12:52:10.918Z"
   },
   {
    "duration": 12,
    "start_time": "2022-05-10T12:52:11.009Z"
   },
   {
    "duration": 19,
    "start_time": "2022-05-10T12:52:11.022Z"
   },
   {
    "duration": 4,
    "start_time": "2022-05-10T12:52:11.043Z"
   },
   {
    "duration": 20,
    "start_time": "2022-05-10T12:52:11.073Z"
   },
   {
    "duration": 12,
    "start_time": "2022-05-10T12:52:11.095Z"
   },
   {
    "duration": 16,
    "start_time": "2022-05-10T12:52:11.109Z"
   },
   {
    "duration": 10,
    "start_time": "2022-05-10T12:52:11.126Z"
   },
   {
    "duration": 41,
    "start_time": "2022-05-10T12:52:11.138Z"
   },
   {
    "duration": 4,
    "start_time": "2022-05-10T12:52:11.181Z"
   },
   {
    "duration": 7,
    "start_time": "2022-05-10T12:52:11.187Z"
   },
   {
    "duration": 5,
    "start_time": "2022-05-10T12:52:11.195Z"
   },
   {
    "duration": 10,
    "start_time": "2022-05-10T13:05:00.236Z"
   },
   {
    "duration": 7,
    "start_time": "2022-05-10T13:07:18.091Z"
   },
   {
    "duration": 402,
    "start_time": "2022-05-10T13:07:30.638Z"
   },
   {
    "duration": 154,
    "start_time": "2022-05-10T13:07:31.042Z"
   },
   {
    "duration": 17,
    "start_time": "2022-05-10T13:07:31.198Z"
   },
   {
    "duration": 8,
    "start_time": "2022-05-10T13:07:31.217Z"
   },
   {
    "duration": 9,
    "start_time": "2022-05-10T13:07:31.226Z"
   },
   {
    "duration": 19,
    "start_time": "2022-05-10T13:07:31.237Z"
   },
   {
    "duration": 17,
    "start_time": "2022-05-10T13:07:31.257Z"
   },
   {
    "duration": 31,
    "start_time": "2022-05-10T13:07:31.276Z"
   },
   {
    "duration": 21,
    "start_time": "2022-05-10T13:07:31.309Z"
   },
   {
    "duration": 41,
    "start_time": "2022-05-10T13:07:31.333Z"
   },
   {
    "duration": 64,
    "start_time": "2022-05-10T13:07:31.376Z"
   },
   {
    "duration": 88,
    "start_time": "2022-05-10T13:07:31.442Z"
   },
   {
    "duration": 70,
    "start_time": "2022-05-10T13:07:31.531Z"
   },
   {
    "duration": 40,
    "start_time": "2022-05-10T13:07:31.603Z"
   },
   {
    "duration": 5,
    "start_time": "2022-05-10T13:07:31.644Z"
   },
   {
    "duration": 29,
    "start_time": "2022-05-10T13:07:31.650Z"
   },
   {
    "duration": 38,
    "start_time": "2022-05-10T13:07:31.680Z"
   },
   {
    "duration": 12,
    "start_time": "2022-05-10T13:07:31.719Z"
   },
   {
    "duration": 12,
    "start_time": "2022-05-10T13:07:31.732Z"
   },
   {
    "duration": 28,
    "start_time": "2022-05-10T13:07:31.746Z"
   },
   {
    "duration": 25,
    "start_time": "2022-05-10T13:07:31.776Z"
   },
   {
    "duration": 18,
    "start_time": "2022-05-10T13:07:31.803Z"
   },
   {
    "duration": 17,
    "start_time": "2022-05-10T13:07:31.822Z"
   },
   {
    "duration": 40,
    "start_time": "2022-05-10T13:07:31.841Z"
   },
   {
    "duration": 17,
    "start_time": "2022-05-10T13:07:31.883Z"
   },
   {
    "duration": 15,
    "start_time": "2022-05-10T13:07:31.902Z"
   },
   {
    "duration": 95,
    "start_time": "2022-05-10T13:07:31.919Z"
   },
   {
    "duration": 11,
    "start_time": "2022-05-10T13:07:32.017Z"
   },
   {
    "duration": 16,
    "start_time": "2022-05-10T13:07:32.030Z"
   },
   {
    "duration": 9,
    "start_time": "2022-05-10T13:07:32.048Z"
   },
   {
    "duration": 36,
    "start_time": "2022-05-10T13:07:32.058Z"
   },
   {
    "duration": 14,
    "start_time": "2022-05-10T13:07:32.096Z"
   },
   {
    "duration": 17,
    "start_time": "2022-05-10T13:07:32.112Z"
   },
   {
    "duration": 14,
    "start_time": "2022-05-10T13:07:32.130Z"
   },
   {
    "duration": 35,
    "start_time": "2022-05-10T13:07:32.145Z"
   },
   {
    "duration": 17,
    "start_time": "2022-05-10T13:07:32.182Z"
   },
   {
    "duration": 14,
    "start_time": "2022-05-10T13:07:32.200Z"
   },
   {
    "duration": 6,
    "start_time": "2022-05-10T13:07:32.216Z"
   },
   {
    "duration": 517,
    "start_time": "2022-05-10T18:08:28.799Z"
   },
   {
    "duration": 411,
    "start_time": "2022-05-10T18:08:29.319Z"
   },
   {
    "duration": 31,
    "start_time": "2022-05-10T18:08:29.732Z"
   },
   {
    "duration": 13,
    "start_time": "2022-05-10T18:08:29.766Z"
   },
   {
    "duration": 7,
    "start_time": "2022-05-10T18:08:29.782Z"
   },
   {
    "duration": 15,
    "start_time": "2022-05-10T18:08:29.791Z"
   },
   {
    "duration": 45,
    "start_time": "2022-05-10T18:08:29.808Z"
   },
   {
    "duration": 35,
    "start_time": "2022-05-10T18:08:29.855Z"
   },
   {
    "duration": 24,
    "start_time": "2022-05-10T18:08:29.892Z"
   },
   {
    "duration": 61,
    "start_time": "2022-05-10T18:08:29.918Z"
   },
   {
    "duration": 108,
    "start_time": "2022-05-10T18:08:29.982Z"
   },
   {
    "duration": 120,
    "start_time": "2022-05-10T18:08:30.093Z"
   },
   {
    "duration": 153,
    "start_time": "2022-05-10T18:08:30.215Z"
   },
   {
    "duration": 98,
    "start_time": "2022-05-10T18:08:30.377Z"
   },
   {
    "duration": 7,
    "start_time": "2022-05-10T18:08:30.479Z"
   },
   {
    "duration": 28,
    "start_time": "2022-05-10T18:08:30.489Z"
   },
   {
    "duration": 102,
    "start_time": "2022-05-10T18:08:30.520Z"
   },
   {
    "duration": 35,
    "start_time": "2022-05-10T18:08:30.625Z"
   },
   {
    "duration": 26,
    "start_time": "2022-05-10T18:08:30.663Z"
   },
   {
    "duration": 7,
    "start_time": "2022-05-10T18:08:30.693Z"
   },
   {
    "duration": 67,
    "start_time": "2022-05-10T18:08:30.703Z"
   },
   {
    "duration": 31,
    "start_time": "2022-05-10T18:08:30.773Z"
   },
   {
    "duration": 54,
    "start_time": "2022-05-10T18:08:30.807Z"
   },
   {
    "duration": 27,
    "start_time": "2022-05-10T18:08:30.864Z"
   },
   {
    "duration": 58,
    "start_time": "2022-05-10T18:08:30.894Z"
   },
   {
    "duration": 30,
    "start_time": "2022-05-10T18:08:30.954Z"
   },
   {
    "duration": 186,
    "start_time": "2022-05-10T18:08:30.987Z"
   },
   {
    "duration": 24,
    "start_time": "2022-05-10T18:08:31.176Z"
   },
   {
    "duration": 21,
    "start_time": "2022-05-10T18:08:31.203Z"
   },
   {
    "duration": 9,
    "start_time": "2022-05-10T18:08:31.251Z"
   },
   {
    "duration": 53,
    "start_time": "2022-05-10T18:08:31.264Z"
   },
   {
    "duration": 32,
    "start_time": "2022-05-10T18:08:31.320Z"
   },
   {
    "duration": 35,
    "start_time": "2022-05-10T18:08:31.355Z"
   },
   {
    "duration": 23,
    "start_time": "2022-05-10T18:08:31.394Z"
   },
   {
    "duration": 46,
    "start_time": "2022-05-10T18:08:31.421Z"
   },
   {
    "duration": 19,
    "start_time": "2022-05-10T18:08:31.471Z"
   },
   {
    "duration": 28,
    "start_time": "2022-05-10T18:08:31.492Z"
   },
   {
    "duration": 17,
    "start_time": "2022-05-10T18:08:31.522Z"
   },
   {
    "duration": 38,
    "start_time": "2022-05-10T18:14:25.494Z"
   },
   {
    "duration": 89,
    "start_time": "2022-05-10T18:22:55.764Z"
   },
   {
    "duration": 16,
    "start_time": "2022-05-10T18:27:24.876Z"
   },
   {
    "duration": 99,
    "start_time": "2022-05-10T18:27:34.613Z"
   },
   {
    "duration": 14,
    "start_time": "2022-05-10T18:27:35.097Z"
   },
   {
    "duration": 4,
    "start_time": "2022-05-10T18:27:42.202Z"
   },
   {
    "duration": 194,
    "start_time": "2022-05-10T18:27:42.961Z"
   },
   {
    "duration": 17,
    "start_time": "2022-05-10T18:27:43.858Z"
   },
   {
    "duration": 68,
    "start_time": "2022-05-10T18:27:44.841Z"
   },
   {
    "duration": 7,
    "start_time": "2022-05-10T18:27:48.693Z"
   },
   {
    "duration": 12,
    "start_time": "2022-05-10T18:27:50.012Z"
   },
   {
    "duration": 7,
    "start_time": "2022-05-10T18:27:51.349Z"
   },
   {
    "duration": 60,
    "start_time": "2022-05-10T18:27:52.383Z"
   },
   {
    "duration": 24,
    "start_time": "2022-05-10T18:27:53.479Z"
   },
   {
    "duration": 36,
    "start_time": "2022-05-10T18:27:54.239Z"
   },
   {
    "duration": 134,
    "start_time": "2022-05-10T18:27:54.914Z"
   },
   {
    "duration": 120,
    "start_time": "2022-05-10T18:27:56.482Z"
   },
   {
    "duration": 22,
    "start_time": "2022-05-10T18:27:56.958Z"
   },
   {
    "duration": 178,
    "start_time": "2022-05-10T18:28:20.184Z"
   },
   {
    "duration": 23,
    "start_time": "2022-05-10T18:28:20.714Z"
   },
   {
    "duration": 97,
    "start_time": "2022-05-10T18:28:37.896Z"
   },
   {
    "duration": 105,
    "start_time": "2022-05-10T18:28:57.973Z"
   },
   {
    "duration": 15,
    "start_time": "2022-05-10T18:29:08.426Z"
   },
   {
    "duration": 29,
    "start_time": "2022-05-10T18:29:35.801Z"
   },
   {
    "duration": 100,
    "start_time": "2022-05-10T18:29:45.784Z"
   },
   {
    "duration": 19,
    "start_time": "2022-05-10T18:29:49.692Z"
   },
   {
    "duration": 127,
    "start_time": "2022-05-10T18:42:02.885Z"
   },
   {
    "duration": 50,
    "start_time": "2022-05-11T04:03:18.459Z"
   },
   {
    "duration": 413,
    "start_time": "2022-05-11T04:03:47.057Z"
   },
   {
    "duration": 183,
    "start_time": "2022-05-11T04:03:47.472Z"
   },
   {
    "duration": 18,
    "start_time": "2022-05-11T04:03:47.657Z"
   },
   {
    "duration": 31,
    "start_time": "2022-05-11T04:03:47.677Z"
   },
   {
    "duration": 4,
    "start_time": "2022-05-11T04:03:47.710Z"
   },
   {
    "duration": 12,
    "start_time": "2022-05-11T04:03:47.734Z"
   },
   {
    "duration": 8,
    "start_time": "2022-05-11T04:03:47.748Z"
   },
   {
    "duration": 29,
    "start_time": "2022-05-11T04:03:47.757Z"
   },
   {
    "duration": 53,
    "start_time": "2022-05-11T04:03:47.788Z"
   },
   {
    "duration": 28,
    "start_time": "2022-05-11T04:03:47.844Z"
   },
   {
    "duration": 90,
    "start_time": "2022-05-11T04:03:47.873Z"
   },
   {
    "duration": 80,
    "start_time": "2022-05-11T04:03:47.965Z"
   },
   {
    "duration": 88,
    "start_time": "2022-05-11T04:03:48.046Z"
   },
   {
    "duration": 43,
    "start_time": "2022-05-11T04:03:48.136Z"
   },
   {
    "duration": 3,
    "start_time": "2022-05-11T04:03:48.181Z"
   },
   {
    "duration": 11,
    "start_time": "2022-05-11T04:03:48.186Z"
   },
   {
    "duration": 68,
    "start_time": "2022-05-11T04:03:48.199Z"
   },
   {
    "duration": 13,
    "start_time": "2022-05-11T04:03:48.269Z"
   },
   {
    "duration": 12,
    "start_time": "2022-05-11T04:03:48.284Z"
   },
   {
    "duration": 3,
    "start_time": "2022-05-11T04:03:48.298Z"
   },
   {
    "duration": 41,
    "start_time": "2022-05-11T04:03:48.303Z"
   },
   {
    "duration": 17,
    "start_time": "2022-05-11T04:03:48.346Z"
   },
   {
    "duration": 17,
    "start_time": "2022-05-11T04:03:48.365Z"
   },
   {
    "duration": 16,
    "start_time": "2022-05-11T04:03:48.384Z"
   },
   {
    "duration": 20,
    "start_time": "2022-05-11T04:03:48.434Z"
   },
   {
    "duration": 19,
    "start_time": "2022-05-11T04:03:48.455Z"
   },
   {
    "duration": 108,
    "start_time": "2022-05-11T04:03:48.476Z"
   },
   {
    "duration": 11,
    "start_time": "2022-05-11T04:03:48.588Z"
   },
   {
    "duration": 9,
    "start_time": "2022-05-11T04:03:48.601Z"
   },
   {
    "duration": 23,
    "start_time": "2022-05-11T04:03:48.612Z"
   },
   {
    "duration": 25,
    "start_time": "2022-05-11T04:03:48.637Z"
   },
   {
    "duration": 14,
    "start_time": "2022-05-11T04:03:48.664Z"
   },
   {
    "duration": 21,
    "start_time": "2022-05-11T04:03:48.680Z"
   },
   {
    "duration": 34,
    "start_time": "2022-05-11T04:03:48.703Z"
   },
   {
    "duration": 9,
    "start_time": "2022-05-11T04:03:48.739Z"
   },
   {
    "duration": 5,
    "start_time": "2022-05-11T04:03:48.750Z"
   },
   {
    "duration": 9,
    "start_time": "2022-05-11T04:03:48.757Z"
   },
   {
    "duration": 7,
    "start_time": "2022-05-11T04:03:48.768Z"
   },
   {
    "duration": 171,
    "start_time": "2022-05-11T04:11:57.602Z"
   },
   {
    "duration": 166,
    "start_time": "2022-05-11T04:16:38.169Z"
   },
   {
    "duration": 166,
    "start_time": "2022-05-11T04:18:03.825Z"
   },
   {
    "duration": 5,
    "start_time": "2022-05-11T04:19:35.288Z"
   },
   {
    "duration": 4,
    "start_time": "2022-05-11T04:19:57.721Z"
   },
   {
    "duration": 177,
    "start_time": "2022-05-11T04:20:36.535Z"
   },
   {
    "duration": 85,
    "start_time": "2022-05-11T04:24:16.473Z"
   },
   {
    "duration": 537,
    "start_time": "2022-05-11T16:14:49.965Z"
   },
   {
    "duration": 682,
    "start_time": "2022-05-11T16:14:50.504Z"
   },
   {
    "duration": 27,
    "start_time": "2022-05-11T16:14:51.189Z"
   },
   {
    "duration": 42,
    "start_time": "2022-05-11T16:14:51.220Z"
   },
   {
    "duration": 29,
    "start_time": "2022-05-11T16:14:51.265Z"
   },
   {
    "duration": 17,
    "start_time": "2022-05-11T16:14:51.297Z"
   },
   {
    "duration": 19,
    "start_time": "2022-05-11T16:14:51.317Z"
   },
   {
    "duration": 57,
    "start_time": "2022-05-11T16:14:51.338Z"
   },
   {
    "duration": 27,
    "start_time": "2022-05-11T16:14:51.397Z"
   },
   {
    "duration": 79,
    "start_time": "2022-05-11T16:14:51.430Z"
   },
   {
    "duration": 156,
    "start_time": "2022-05-11T16:14:51.512Z"
   },
   {
    "duration": 177,
    "start_time": "2022-05-11T16:14:51.671Z"
   },
   {
    "duration": 125,
    "start_time": "2022-05-11T16:14:51.851Z"
   },
   {
    "duration": 69,
    "start_time": "2022-05-11T16:14:51.979Z"
   },
   {
    "duration": 4,
    "start_time": "2022-05-11T16:14:52.050Z"
   },
   {
    "duration": 37,
    "start_time": "2022-05-11T16:14:52.056Z"
   },
   {
    "duration": 58,
    "start_time": "2022-05-11T16:14:52.097Z"
   },
   {
    "duration": 40,
    "start_time": "2022-05-11T16:14:52.158Z"
   },
   {
    "duration": 26,
    "start_time": "2022-05-11T16:14:52.201Z"
   },
   {
    "duration": 6,
    "start_time": "2022-05-11T16:14:52.230Z"
   },
   {
    "duration": 60,
    "start_time": "2022-05-11T16:14:52.238Z"
   },
   {
    "duration": 25,
    "start_time": "2022-05-11T16:14:52.301Z"
   },
   {
    "duration": 21,
    "start_time": "2022-05-11T16:14:52.328Z"
   },
   {
    "duration": 52,
    "start_time": "2022-05-11T16:14:52.351Z"
   },
   {
    "duration": 34,
    "start_time": "2022-05-11T16:14:52.406Z"
   },
   {
    "duration": 20,
    "start_time": "2022-05-11T16:14:52.442Z"
   },
   {
    "duration": 154,
    "start_time": "2022-05-11T16:14:52.465Z"
   },
   {
    "duration": 20,
    "start_time": "2022-05-11T16:14:52.623Z"
   },
   {
    "duration": 24,
    "start_time": "2022-05-11T16:14:52.645Z"
   },
   {
    "duration": 26,
    "start_time": "2022-05-11T16:14:52.672Z"
   },
   {
    "duration": 45,
    "start_time": "2022-05-11T16:14:52.701Z"
   },
   {
    "duration": 17,
    "start_time": "2022-05-11T16:14:52.749Z"
   },
   {
    "duration": 41,
    "start_time": "2022-05-11T16:14:52.769Z"
   },
   {
    "duration": 25,
    "start_time": "2022-05-11T16:14:52.812Z"
   },
   {
    "duration": 17,
    "start_time": "2022-05-11T16:14:52.839Z"
   },
   {
    "duration": 33,
    "start_time": "2022-05-11T16:14:52.858Z"
   },
   {
    "duration": 12,
    "start_time": "2022-05-11T16:14:52.894Z"
   },
   {
    "duration": 9,
    "start_time": "2022-05-11T16:14:52.908Z"
   },
   {
    "duration": 220,
    "start_time": "2022-05-11T16:18:50.097Z"
   }
  ],
  "colab": {
   "collapsed_sections": [
    "E0vqbgi9ay0H",
    "VUC88oWjTJw2"
   ],
   "name": "yandex_music_project.ipynb",
   "provenance": []
  },
  "kernelspec": {
   "display_name": "Python 3 (ipykernel)",
   "language": "python",
   "name": "python3"
  },
  "language_info": {
   "codemirror_mode": {
    "name": "ipython",
    "version": 3
   },
   "file_extension": ".py",
   "mimetype": "text/x-python",
   "name": "python",
   "nbconvert_exporter": "python",
   "pygments_lexer": "ipython3",
   "version": "3.9.13"
  },
  "latex_envs": {
   "LaTeX_envs_menu_present": true,
   "autoclose": false,
   "autocomplete": true,
   "bibliofile": "biblio.bib",
   "cite_by": "apalike",
   "current_citInitial": 1,
   "eqLabelWithNumbers": true,
   "eqNumInitial": 1,
   "hotkeys": {
    "equation": "Ctrl-E",
    "itemize": "Ctrl-I"
   },
   "labels_anchors": false,
   "latex_user_defs": false,
   "report_style_numbering": false,
   "user_envs_cfg": false
  },
  "toc": {
   "base_numbering": 1,
   "nav_menu": {},
   "number_sections": true,
   "sideBar": true,
   "skip_h1_title": true,
   "title_cell": "Table of Contents",
   "title_sidebar": "Contents",
   "toc_cell": false,
   "toc_position": {},
   "toc_section_display": true,
   "toc_window_display": true
  }
 },
 "nbformat": 4,
 "nbformat_minor": 1
}
