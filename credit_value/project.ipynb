{
 "cells": [
  {
   "cell_type": "markdown",
   "id": "8b282521",
   "metadata": {},
   "source": [
    "# Исследование надежности заемщиков\n"
   ]
  },
  {
   "cell_type": "markdown",
   "id": "7eabf2e9",
   "metadata": {},
   "source": [
    "**Содержание** \n",
    "<a id=0> </a>\n",
    "\n",
    "[Введение](#1)  \n",
    "[Предобработка данных](#2)  \n",
    "[Ответы на вопросы](#3)  \n",
    "[Вывод](#4)"
   ]
  },
  {
   "cell_type": "markdown",
   "id": "c989fd21",
   "metadata": {},
   "source": [
    "## Введение\n",
    "<a id=1> </a>"
   ]
  },
  {
   "cell_type": "markdown",
   "id": "4f825590",
   "metadata": {},
   "source": [
    "Мы проводим исследование для того, чтобы помочь банку выяснить, как влияет семейное положение и количество детей на способность клиента вовремя погасить кредит.\n",
    "\n",
    "Для решения данной задачи мы будем использовать данные о клиентах банка, предоставленные нам заказчиком. Для начала мы обработаем возможные ошибки в датасете, апотом будем изучать различные зависимости погашения долга в срок от семейного статуса, дохода и количества детей клиентов."
   ]
  },
  {
   "cell_type": "code",
   "execution_count": 1,
   "id": "44141d25",
   "metadata": {},
   "outputs": [],
   "source": [
    "#импортируем нужные библиотеки\n",
    "import pandas as pd \n",
    "import math "
   ]
  },
  {
   "cell_type": "code",
   "execution_count": 2,
   "id": "6cd11a9a",
   "metadata": {},
   "outputs": [
    {
     "data": {
      "text/html": [
       "<div>\n",
       "<style scoped>\n",
       "    .dataframe tbody tr th:only-of-type {\n",
       "        vertical-align: middle;\n",
       "    }\n",
       "\n",
       "    .dataframe tbody tr th {\n",
       "        vertical-align: top;\n",
       "    }\n",
       "\n",
       "    .dataframe thead th {\n",
       "        text-align: right;\n",
       "    }\n",
       "</style>\n",
       "<table border=\"1\" class=\"dataframe\">\n",
       "  <thead>\n",
       "    <tr style=\"text-align: right;\">\n",
       "      <th></th>\n",
       "      <th>children</th>\n",
       "      <th>days_employed</th>\n",
       "      <th>dob_years</th>\n",
       "      <th>education</th>\n",
       "      <th>education_id</th>\n",
       "      <th>family_status</th>\n",
       "      <th>family_status_id</th>\n",
       "      <th>gender</th>\n",
       "      <th>income_type</th>\n",
       "      <th>debt</th>\n",
       "      <th>total_income</th>\n",
       "      <th>purpose</th>\n",
       "    </tr>\n",
       "  </thead>\n",
       "  <tbody>\n",
       "    <tr>\n",
       "      <th>0</th>\n",
       "      <td>1</td>\n",
       "      <td>-8437.673028</td>\n",
       "      <td>42</td>\n",
       "      <td>высшее</td>\n",
       "      <td>0</td>\n",
       "      <td>женат / замужем</td>\n",
       "      <td>0</td>\n",
       "      <td>F</td>\n",
       "      <td>сотрудник</td>\n",
       "      <td>0</td>\n",
       "      <td>253875.639453</td>\n",
       "      <td>покупка жилья</td>\n",
       "    </tr>\n",
       "    <tr>\n",
       "      <th>1</th>\n",
       "      <td>1</td>\n",
       "      <td>-4024.803754</td>\n",
       "      <td>36</td>\n",
       "      <td>среднее</td>\n",
       "      <td>1</td>\n",
       "      <td>женат / замужем</td>\n",
       "      <td>0</td>\n",
       "      <td>F</td>\n",
       "      <td>сотрудник</td>\n",
       "      <td>0</td>\n",
       "      <td>112080.014102</td>\n",
       "      <td>приобретение автомобиля</td>\n",
       "    </tr>\n",
       "    <tr>\n",
       "      <th>2</th>\n",
       "      <td>0</td>\n",
       "      <td>-5623.422610</td>\n",
       "      <td>33</td>\n",
       "      <td>Среднее</td>\n",
       "      <td>1</td>\n",
       "      <td>женат / замужем</td>\n",
       "      <td>0</td>\n",
       "      <td>M</td>\n",
       "      <td>сотрудник</td>\n",
       "      <td>0</td>\n",
       "      <td>145885.952297</td>\n",
       "      <td>покупка жилья</td>\n",
       "    </tr>\n",
       "    <tr>\n",
       "      <th>3</th>\n",
       "      <td>3</td>\n",
       "      <td>-4124.747207</td>\n",
       "      <td>32</td>\n",
       "      <td>среднее</td>\n",
       "      <td>1</td>\n",
       "      <td>женат / замужем</td>\n",
       "      <td>0</td>\n",
       "      <td>M</td>\n",
       "      <td>сотрудник</td>\n",
       "      <td>0</td>\n",
       "      <td>267628.550329</td>\n",
       "      <td>дополнительное образование</td>\n",
       "    </tr>\n",
       "    <tr>\n",
       "      <th>4</th>\n",
       "      <td>0</td>\n",
       "      <td>340266.072047</td>\n",
       "      <td>53</td>\n",
       "      <td>среднее</td>\n",
       "      <td>1</td>\n",
       "      <td>гражданский брак</td>\n",
       "      <td>1</td>\n",
       "      <td>F</td>\n",
       "      <td>пенсионер</td>\n",
       "      <td>0</td>\n",
       "      <td>158616.077870</td>\n",
       "      <td>сыграть свадьбу</td>\n",
       "    </tr>\n",
       "    <tr>\n",
       "      <th>...</th>\n",
       "      <td>...</td>\n",
       "      <td>...</td>\n",
       "      <td>...</td>\n",
       "      <td>...</td>\n",
       "      <td>...</td>\n",
       "      <td>...</td>\n",
       "      <td>...</td>\n",
       "      <td>...</td>\n",
       "      <td>...</td>\n",
       "      <td>...</td>\n",
       "      <td>...</td>\n",
       "      <td>...</td>\n",
       "    </tr>\n",
       "    <tr>\n",
       "      <th>21520</th>\n",
       "      <td>1</td>\n",
       "      <td>-4529.316663</td>\n",
       "      <td>43</td>\n",
       "      <td>среднее</td>\n",
       "      <td>1</td>\n",
       "      <td>гражданский брак</td>\n",
       "      <td>1</td>\n",
       "      <td>F</td>\n",
       "      <td>компаньон</td>\n",
       "      <td>0</td>\n",
       "      <td>224791.862382</td>\n",
       "      <td>операции с жильем</td>\n",
       "    </tr>\n",
       "    <tr>\n",
       "      <th>21521</th>\n",
       "      <td>0</td>\n",
       "      <td>343937.404131</td>\n",
       "      <td>67</td>\n",
       "      <td>среднее</td>\n",
       "      <td>1</td>\n",
       "      <td>женат / замужем</td>\n",
       "      <td>0</td>\n",
       "      <td>F</td>\n",
       "      <td>пенсионер</td>\n",
       "      <td>0</td>\n",
       "      <td>155999.806512</td>\n",
       "      <td>сделка с автомобилем</td>\n",
       "    </tr>\n",
       "    <tr>\n",
       "      <th>21522</th>\n",
       "      <td>1</td>\n",
       "      <td>-2113.346888</td>\n",
       "      <td>38</td>\n",
       "      <td>среднее</td>\n",
       "      <td>1</td>\n",
       "      <td>гражданский брак</td>\n",
       "      <td>1</td>\n",
       "      <td>M</td>\n",
       "      <td>сотрудник</td>\n",
       "      <td>1</td>\n",
       "      <td>89672.561153</td>\n",
       "      <td>недвижимость</td>\n",
       "    </tr>\n",
       "    <tr>\n",
       "      <th>21523</th>\n",
       "      <td>3</td>\n",
       "      <td>-3112.481705</td>\n",
       "      <td>38</td>\n",
       "      <td>среднее</td>\n",
       "      <td>1</td>\n",
       "      <td>женат / замужем</td>\n",
       "      <td>0</td>\n",
       "      <td>M</td>\n",
       "      <td>сотрудник</td>\n",
       "      <td>1</td>\n",
       "      <td>244093.050500</td>\n",
       "      <td>на покупку своего автомобиля</td>\n",
       "    </tr>\n",
       "    <tr>\n",
       "      <th>21524</th>\n",
       "      <td>2</td>\n",
       "      <td>-1984.507589</td>\n",
       "      <td>40</td>\n",
       "      <td>среднее</td>\n",
       "      <td>1</td>\n",
       "      <td>женат / замужем</td>\n",
       "      <td>0</td>\n",
       "      <td>F</td>\n",
       "      <td>сотрудник</td>\n",
       "      <td>0</td>\n",
       "      <td>82047.418899</td>\n",
       "      <td>на покупку автомобиля</td>\n",
       "    </tr>\n",
       "  </tbody>\n",
       "</table>\n",
       "<p>21525 rows × 12 columns</p>\n",
       "</div>"
      ],
      "text/plain": [
       "       children  days_employed  dob_years education  education_id  \\\n",
       "0             1   -8437.673028         42    высшее             0   \n",
       "1             1   -4024.803754         36   среднее             1   \n",
       "2             0   -5623.422610         33   Среднее             1   \n",
       "3             3   -4124.747207         32   среднее             1   \n",
       "4             0  340266.072047         53   среднее             1   \n",
       "...         ...            ...        ...       ...           ...   \n",
       "21520         1   -4529.316663         43   среднее             1   \n",
       "21521         0  343937.404131         67   среднее             1   \n",
       "21522         1   -2113.346888         38   среднее             1   \n",
       "21523         3   -3112.481705         38   среднее             1   \n",
       "21524         2   -1984.507589         40   среднее             1   \n",
       "\n",
       "          family_status  family_status_id gender income_type  debt  \\\n",
       "0       женат / замужем                 0      F   сотрудник     0   \n",
       "1       женат / замужем                 0      F   сотрудник     0   \n",
       "2       женат / замужем                 0      M   сотрудник     0   \n",
       "3       женат / замужем                 0      M   сотрудник     0   \n",
       "4      гражданский брак                 1      F   пенсионер     0   \n",
       "...                 ...               ...    ...         ...   ...   \n",
       "21520  гражданский брак                 1      F   компаньон     0   \n",
       "21521   женат / замужем                 0      F   пенсионер     0   \n",
       "21522  гражданский брак                 1      M   сотрудник     1   \n",
       "21523   женат / замужем                 0      M   сотрудник     1   \n",
       "21524   женат / замужем                 0      F   сотрудник     0   \n",
       "\n",
       "        total_income                       purpose  \n",
       "0      253875.639453                 покупка жилья  \n",
       "1      112080.014102       приобретение автомобиля  \n",
       "2      145885.952297                 покупка жилья  \n",
       "3      267628.550329    дополнительное образование  \n",
       "4      158616.077870               сыграть свадьбу  \n",
       "...              ...                           ...  \n",
       "21520  224791.862382             операции с жильем  \n",
       "21521  155999.806512          сделка с автомобилем  \n",
       "21522   89672.561153                  недвижимость  \n",
       "21523  244093.050500  на покупку своего автомобиля  \n",
       "21524   82047.418899         на покупку автомобиля  \n",
       "\n",
       "[21525 rows x 12 columns]"
      ]
     },
     "execution_count": 2,
     "metadata": {},
     "output_type": "execute_result"
    }
   ],
   "source": [
    "try:\n",
    "    bank_clients = pd.read_csv('/datasets/data.csv')\n",
    "except FileNotFoundError:\n",
    "    bank_clients = pd.read_csv('/Users/09e6y/Desktop/Катькис/Практикум/Проект 2 credit value/dataset.csv')\n",
    "    \n",
    "bank_clients #прочтем датасет"
   ]
  },
  {
   "cell_type": "code",
   "execution_count": 3,
   "id": "62b57875",
   "metadata": {
    "scrolled": true
   },
   "outputs": [
    {
     "name": "stdout",
     "output_type": "stream",
     "text": [
      "<class 'pandas.core.frame.DataFrame'>\n",
      "RangeIndex: 21525 entries, 0 to 21524\n",
      "Data columns (total 12 columns):\n",
      " #   Column            Non-Null Count  Dtype  \n",
      "---  ------            --------------  -----  \n",
      " 0   children          21525 non-null  int64  \n",
      " 1   days_employed     19351 non-null  float64\n",
      " 2   dob_years         21525 non-null  int64  \n",
      " 3   education         21525 non-null  object \n",
      " 4   education_id      21525 non-null  int64  \n",
      " 5   family_status     21525 non-null  object \n",
      " 6   family_status_id  21525 non-null  int64  \n",
      " 7   gender            21525 non-null  object \n",
      " 8   income_type       21525 non-null  object \n",
      " 9   debt              21525 non-null  int64  \n",
      " 10  total_income      19351 non-null  float64\n",
      " 11  purpose           21525 non-null  object \n",
      "dtypes: float64(2), int64(5), object(5)\n",
      "memory usage: 2.0+ MB\n"
     ]
    }
   ],
   "source": [
    "bank_clients.info() # общая информация о датасете"
   ]
  },
  {
   "cell_type": "markdown",
   "id": "19c84f2a",
   "metadata": {},
   "source": [
    "## Предобработка данных\n",
    "<a id=2> </a>"
   ]
  },
  {
   "cell_type": "markdown",
   "id": "972fa5a3",
   "metadata": {},
   "source": [
    "\n",
    "1. В столбце с количеством рабочих дней встречаются отрицательные числа\n",
    "2. Есть пропуски в столбцах days_employed и total_income.\n"
   ]
  },
  {
   "cell_type": "markdown",
   "id": "a2fd9288",
   "metadata": {},
   "source": [
    "### Заполнение пропусков"
   ]
  },
  {
   "cell_type": "markdown",
   "id": "1dfd0119",
   "metadata": {},
   "source": [
    "Для подсчетов пропусков в колонке 'days_emoloyed' воспользуемся конструкцией try-except."
   ]
  },
  {
   "cell_type": "code",
   "execution_count": 4,
   "id": "2a7ae61d",
   "metadata": {},
   "outputs": [
    {
     "data": {
      "text/plain": [
       "2174"
      ]
     },
     "execution_count": 4,
     "metadata": {},
     "output_type": "execute_result"
    }
   ],
   "source": [
    "absence_count = 0 #создадим переменную-счетчик, в которую будем собирать пропуски\n",
    "\n",
    "for absence in bank_clients['days_employed']:\n",
    "    try:\n",
    "        bank_clients[bank_clients['days_employed'].isna].index() #эта ветка возвращает индекс элемента с пустым значением\n",
    "    except:\n",
    "        absence_count+=math.isnan(absence) #эта ветка добавит к счетчику 1 если найдет пропуск в исследуемом столбце\n",
    "absence_count #выведем результат на экран"
   ]
  },
  {
   "cell_type": "code",
   "execution_count": 5,
   "id": "1369e84e",
   "metadata": {},
   "outputs": [
    {
     "data": {
      "text/plain": [
       "2174"
      ]
     },
     "execution_count": 5,
     "metadata": {},
     "output_type": "execute_result"
    }
   ],
   "source": [
    "(bank_clients['total_income']).isna().sum() #подсчитаем пропуски в столбце total_income другим способом"
   ]
  },
  {
   "cell_type": "markdown",
   "id": "4a5dbd4d",
   "metadata": {},
   "source": [
    "Количество пропусков в обоих столбцах совпадает, возможно, это пропуски в данных одних и тех же клиентов. \n",
    "Кстати, мы можем это проверить, возможно эта информация будет полезна в будущем.\n",
    "Судя по всему, пропуск в данных связан с тем что эти клиенты - безработные, ведь данных нет в столбце с количеством рабочих дней и с общим доходом - а это не похоже на случайную ошибку.\n"
   ]
  },
  {
   "cell_type": "code",
   "execution_count": 6,
   "id": "23208aae",
   "metadata": {},
   "outputs": [
    {
     "name": "stdout",
     "output_type": "stream",
     "text": [
      "Пропуски в одних и тех же строках\n"
     ]
    }
   ],
   "source": [
    "d_e = bank_clients[bank_clients['days_employed'].isna()==True].index #соберем индексы пропущенных значений в 'days_employed'\n",
    "t_i = bank_clients[bank_clients['total_income'].isna()==True].index #соберем индексы пропущенных значений в 'total_income\n",
    "if d_e.all() == t_i.all(): #сравним полученные списки, и если они равны - распечатаем вывод\n",
    "    print('Пропуски в одних и тех же строках')"
   ]
  },
  {
   "cell_type": "markdown",
   "id": "a2c8e95e",
   "metadata": {},
   "source": [
    "Вычислим долю пропусков от общего числа значений."
   ]
  },
  {
   "cell_type": "code",
   "execution_count": 7,
   "id": "f1134f0b",
   "metadata": {},
   "outputs": [
    {
     "data": {
      "text/plain": [
       "children            0.000000\n",
       "days_employed       0.100999\n",
       "dob_years           0.000000\n",
       "education           0.000000\n",
       "education_id        0.000000\n",
       "family_status       0.000000\n",
       "family_status_id    0.000000\n",
       "gender              0.000000\n",
       "income_type         0.000000\n",
       "debt                0.000000\n",
       "total_income        0.100999\n",
       "purpose             0.000000\n",
       "dtype: float64"
      ]
     },
     "execution_count": 7,
     "metadata": {},
     "output_type": "execute_result"
    }
   ],
   "source": [
    "bank_clients.isna().mean()"
   ]
  },
  {
   "cell_type": "markdown",
   "id": "e9d5a04f",
   "metadata": {},
   "source": [
    "Получается, доля пропусков в интересующих нас столбцах составляет одну десятую часть - что может довольно существенно искажать данные, поэтому нам следует избавиться от этих пропусков. Данные для столбца total_income считать не обязательно, потому что количество пропусков в нем совпадает с количеством пропусков в столбце days_employed, а значит и доля пропусков будет такая же. "
   ]
  },
  {
   "cell_type": "markdown",
   "id": "8a93ea1c",
   "metadata": {},
   "source": [
    "### Проверка данных на аномалии и исправления."
   ]
  },
  {
   "cell_type": "code",
   "execution_count": 8,
   "id": "17680d0d",
   "metadata": {
    "scrolled": true
   },
   "outputs": [
    {
     "data": {
      "text/plain": [
       "children            0.0\n",
       "days_employed       0.0\n",
       "dob_years           0.0\n",
       "education           0.0\n",
       "education_id        0.0\n",
       "family_status       0.0\n",
       "family_status_id    0.0\n",
       "gender              0.0\n",
       "income_type         0.0\n",
       "debt                0.0\n",
       "total_income        0.0\n",
       "purpose             0.0\n",
       "dtype: float64"
      ]
     },
     "execution_count": 8,
     "metadata": {},
     "output_type": "execute_result"
    }
   ],
   "source": [
    "bank_clients['days_employed'] = abs(bank_clients['days_employed']) #избавимся от отрицательных значений \n",
    "#заполним пропуски медианными значениями в обоих столбцах\n",
    "bank_clients['days_employed'] = bank_clients['days_employed'].fillna(bank_clients['days_employed'].median()) \n",
    "bank_clients['total_income'] = bank_clients['total_income'].fillna(bank_clients['total_income'].median()) \n",
    "bank_clients.isna().mean() # выполним проверку"
   ]
  },
  {
   "cell_type": "markdown",
   "id": "4c973228",
   "metadata": {},
   "source": [
    "Стаж очевидно не может быть отрицательным значением, поэтому просто переводим все отрицательные значения в столбце days_employed в положительные.\n",
    "\n",
    "Мы заполнили пропуски медианным значением, что при работе с количественными переменными является более оптимальным, т.к. при использовании среднего значения мы получим искаженные в бОльшую сторону данные."
   ]
  },
  {
   "cell_type": "markdown",
   "id": "022fb088",
   "metadata": {},
   "source": [
    "### Изменение типов данных."
   ]
  },
  {
   "cell_type": "code",
   "execution_count": 9,
   "id": "a5fea3d9",
   "metadata": {},
   "outputs": [
    {
     "data": {
      "text/plain": [
       "0        253875\n",
       "1        112080\n",
       "2        145885\n",
       "3        267628\n",
       "4        158616\n",
       "          ...  \n",
       "21520    224791\n",
       "21521    155999\n",
       "21522     89672\n",
       "21523    244093\n",
       "21524     82047\n",
       "Name: total_income, Length: 21525, dtype: int64"
      ]
     },
     "execution_count": 9,
     "metadata": {},
     "output_type": "execute_result"
    }
   ],
   "source": [
    "bank_clients['total_income'] = bank_clients['total_income'].astype('int') #переведем данные в столбце total_income в цельночисленные\n",
    "bank_clients['total_income'] #проверим что все получилось"
   ]
  },
  {
   "cell_type": "markdown",
   "id": "208d10af",
   "metadata": {},
   "source": [
    "### Удаление дубликатов"
   ]
  },
  {
   "cell_type": "markdown",
   "id": "ab13cc0c",
   "metadata": {},
   "source": [
    "Проверим, встречаются ли в датасете стркоки-дубликаты."
   ]
  },
  {
   "cell_type": "code",
   "execution_count": 10,
   "id": "5900a1c5",
   "metadata": {},
   "outputs": [
    {
     "data": {
      "text/plain": [
       "54"
      ]
     },
     "execution_count": 10,
     "metadata": {},
     "output_type": "execute_result"
    }
   ],
   "source": [
    "bank_clients.duplicated().sum() #посчитаем количество полных дубликатов"
   ]
  },
  {
   "cell_type": "code",
   "execution_count": 11,
   "id": "3c05e6d8",
   "metadata": {
    "scrolled": true
   },
   "outputs": [
    {
     "name": "stdout",
     "output_type": "stream",
     "text": [
      "<class 'pandas.core.frame.DataFrame'>\n",
      "RangeIndex: 21471 entries, 0 to 21470\n",
      "Data columns (total 12 columns):\n",
      " #   Column            Non-Null Count  Dtype  \n",
      "---  ------            --------------  -----  \n",
      " 0   children          21471 non-null  int64  \n",
      " 1   days_employed     21471 non-null  float64\n",
      " 2   dob_years         21471 non-null  int64  \n",
      " 3   education         21471 non-null  object \n",
      " 4   education_id      21471 non-null  int64  \n",
      " 5   family_status     21471 non-null  object \n",
      " 6   family_status_id  21471 non-null  int64  \n",
      " 7   gender            21471 non-null  object \n",
      " 8   income_type       21471 non-null  object \n",
      " 9   debt              21471 non-null  int64  \n",
      " 10  total_income      21471 non-null  int64  \n",
      " 11  purpose           21471 non-null  object \n",
      "dtypes: float64(1), int64(6), object(5)\n",
      "memory usage: 2.0+ MB\n"
     ]
    }
   ],
   "source": [
    "bank_clients = bank_clients.drop_duplicates().reset_index(drop=True) #избавимся от дубликатов\n",
    "bank_clients.info() #убедимся что они удалены"
   ]
  },
  {
   "cell_type": "markdown",
   "id": "4cca8cfb",
   "metadata": {},
   "source": [
    "Теперь отыщем неявные дубликаты. Например, одни и те же значения могут быть записаны с заглавной или маленькой буквы."
   ]
  },
  {
   "cell_type": "code",
   "execution_count": 12,
   "id": "9adef0d3",
   "metadata": {},
   "outputs": [],
   "source": [
    "object_columns = ['education', 'family_status', 'gender', 'income_type', 'purpose'] #создадим список колонок, в которых лежит текстовый тип данных\n",
    "for item in object_columns:\n",
    "   bank_clients[item] = bank_clients[item].str.lower() #приведем текстовый тип данных к единому регистру\n",
    "    \n"
   ]
  },
  {
   "cell_type": "code",
   "execution_count": 13,
   "id": "6eb667ba",
   "metadata": {},
   "outputs": [
    {
     "data": {
      "text/plain": [
       "17"
      ]
     },
     "execution_count": 13,
     "metadata": {},
     "output_type": "execute_result"
    }
   ],
   "source": [
    "bank_clients.duplicated().sum() #вновь проверим количество дубликатов"
   ]
  },
  {
   "cell_type": "code",
   "execution_count": 14,
   "id": "016e9ef2",
   "metadata": {
    "scrolled": true
   },
   "outputs": [
    {
     "name": "stdout",
     "output_type": "stream",
     "text": [
      "<class 'pandas.core.frame.DataFrame'>\n",
      "RangeIndex: 21454 entries, 0 to 21453\n",
      "Data columns (total 12 columns):\n",
      " #   Column            Non-Null Count  Dtype  \n",
      "---  ------            --------------  -----  \n",
      " 0   children          21454 non-null  int64  \n",
      " 1   days_employed     21454 non-null  float64\n",
      " 2   dob_years         21454 non-null  int64  \n",
      " 3   education         21454 non-null  object \n",
      " 4   education_id      21454 non-null  int64  \n",
      " 5   family_status     21454 non-null  object \n",
      " 6   family_status_id  21454 non-null  int64  \n",
      " 7   gender            21454 non-null  object \n",
      " 8   income_type       21454 non-null  object \n",
      " 9   debt              21454 non-null  int64  \n",
      " 10  total_income      21454 non-null  int64  \n",
      " 11  purpose           21454 non-null  object \n",
      "dtypes: float64(1), int64(6), object(5)\n",
      "memory usage: 2.0+ MB\n"
     ]
    }
   ],
   "source": [
    "bank_clients = bank_clients.drop_duplicates().reset_index(drop=True) #избавимся от дубликатов\n",
    "bank_clients.info() #убедимся что они удалены"
   ]
  },
  {
   "cell_type": "markdown",
   "id": "4fc67d65",
   "metadata": {},
   "source": [
    "Проверим, не встречаются ли в датасете еще какие-то аномалии или дубликаты"
   ]
  },
  {
   "cell_type": "code",
   "execution_count": 15,
   "id": "2c551eed",
   "metadata": {},
   "outputs": [
    {
     "data": {
      "text/plain": [
       "array([ 1,  0,  3,  2, -1,  4, 20,  5])"
      ]
     },
     "metadata": {},
     "output_type": "display_data"
    },
    {
     "data": {
      "text/plain": [
       "array([8437.67302776, 4024.80375385, 5623.42261023, ..., 2113.3468877 ,\n",
       "       3112.4817052 , 1984.50758853])"
      ]
     },
     "metadata": {},
     "output_type": "display_data"
    },
    {
     "data": {
      "text/plain": [
       "array([42, 36, 33, 32, 53, 27, 43, 50, 35, 41, 40, 65, 54, 56, 26, 48, 24,\n",
       "       21, 57, 67, 28, 63, 62, 47, 34, 68, 25, 31, 30, 20, 49, 37, 45, 61,\n",
       "       64, 44, 52, 46, 23, 38, 39, 51,  0, 59, 29, 60, 55, 58, 71, 22, 73,\n",
       "       66, 69, 19, 72, 70, 74, 75])"
      ]
     },
     "metadata": {},
     "output_type": "display_data"
    },
    {
     "data": {
      "text/plain": [
       "array(['высшее', 'среднее', 'неоконченное высшее', 'начальное',\n",
       "       'ученая степень'], dtype=object)"
      ]
     },
     "metadata": {},
     "output_type": "display_data"
    },
    {
     "data": {
      "text/plain": [
       "array([0, 1, 2, 3, 4])"
      ]
     },
     "metadata": {},
     "output_type": "display_data"
    },
    {
     "data": {
      "text/plain": [
       "array(['женат / замужем', 'гражданский брак', 'вдовец / вдова',\n",
       "       'в разводе', 'не женат / не замужем'], dtype=object)"
      ]
     },
     "metadata": {},
     "output_type": "display_data"
    },
    {
     "data": {
      "text/plain": [
       "array([0, 1, 2, 3, 4])"
      ]
     },
     "metadata": {},
     "output_type": "display_data"
    },
    {
     "data": {
      "text/plain": [
       "array(['f', 'm', 'xna'], dtype=object)"
      ]
     },
     "metadata": {},
     "output_type": "display_data"
    },
    {
     "data": {
      "text/plain": [
       "array(['сотрудник', 'пенсионер', 'компаньон', 'госслужащий',\n",
       "       'безработный', 'предприниматель', 'студент', 'в декрете'],\n",
       "      dtype=object)"
      ]
     },
     "metadata": {},
     "output_type": "display_data"
    },
    {
     "data": {
      "text/plain": [
       "array([0, 1])"
      ]
     },
     "metadata": {},
     "output_type": "display_data"
    },
    {
     "data": {
      "text/plain": [
       "array([253875, 112080, 145885, ...,  89672, 244093,  82047])"
      ]
     },
     "metadata": {},
     "output_type": "display_data"
    },
    {
     "data": {
      "text/plain": [
       "array(['покупка жилья', 'приобретение автомобиля',\n",
       "       'дополнительное образование', 'сыграть свадьбу',\n",
       "       'операции с жильем', 'образование', 'на проведение свадьбы',\n",
       "       'покупка жилья для семьи', 'покупка недвижимости',\n",
       "       'покупка коммерческой недвижимости', 'покупка жилой недвижимости',\n",
       "       'строительство собственной недвижимости', 'недвижимость',\n",
       "       'строительство недвижимости', 'на покупку подержанного автомобиля',\n",
       "       'на покупку своего автомобиля',\n",
       "       'операции с коммерческой недвижимостью',\n",
       "       'строительство жилой недвижимости', 'жилье',\n",
       "       'операции со своей недвижимостью', 'автомобили',\n",
       "       'заняться образованием', 'сделка с подержанным автомобилем',\n",
       "       'получение образования', 'автомобиль', 'свадьба',\n",
       "       'получение дополнительного образования', 'покупка своего жилья',\n",
       "       'операции с недвижимостью', 'получение высшего образования',\n",
       "       'свой автомобиль', 'сделка с автомобилем',\n",
       "       'профильное образование', 'высшее образование',\n",
       "       'покупка жилья для сдачи', 'на покупку автомобиля', 'ремонт жилью',\n",
       "       'заняться высшим образованием'], dtype=object)"
      ]
     },
     "metadata": {},
     "output_type": "display_data"
    }
   ],
   "source": [
    "for item in bank_clients: \n",
    "    display(bank_clients[item].unique()) #соберем все уникальные значения"
   ]
  },
  {
   "cell_type": "markdown",
   "id": "da85b2e4",
   "metadata": {},
   "source": [
    "1. В колонке с количеством детей есть отрицательное значение и есть человек с 20 детьми (примем это тоже за аномалию)\n",
    "2. В колонке с полом есть аномалии - значение 'xna'.\n",
    "3. В колонке 'perpuse' есть дубликаты, например 'заняться высшим образованием' и 'высшее образование'. Так как в дальнейшем мы хотим заняться категоризацией целей кредита, возможно, стоит скорректировать этот список на данном этапе."
   ]
  },
  {
   "cell_type": "code",
   "execution_count": 16,
   "id": "e6604cb9",
   "metadata": {},
   "outputs": [
    {
     "data": {
      "text/plain": [
       "array([1, 0, 3, 2, 4, 5])"
      ]
     },
     "metadata": {},
     "output_type": "display_data"
    }
   ],
   "source": [
    "bank_clients['children'] = abs(bank_clients['children']) #избавимся от отрицательных значений\n",
    "bank_clients.loc[bank_clients['children'] == 20, 'children'] = 2 #поменяем количество детей с 20 на 2\n",
    "display(bank_clients['children'].unique()) #проверим результат"
   ]
  },
  {
   "cell_type": "code",
   "execution_count": 17,
   "id": "9ac244d2",
   "metadata": {
    "scrolled": false
   },
   "outputs": [
    {
     "data": {
      "text/html": [
       "<div>\n",
       "<style scoped>\n",
       "    .dataframe tbody tr th:only-of-type {\n",
       "        vertical-align: middle;\n",
       "    }\n",
       "\n",
       "    .dataframe tbody tr th {\n",
       "        vertical-align: top;\n",
       "    }\n",
       "\n",
       "    .dataframe thead th {\n",
       "        text-align: right;\n",
       "    }\n",
       "</style>\n",
       "<table border=\"1\" class=\"dataframe\">\n",
       "  <thead>\n",
       "    <tr style=\"text-align: right;\">\n",
       "      <th></th>\n",
       "      <th>children</th>\n",
       "      <th>days_employed</th>\n",
       "      <th>dob_years</th>\n",
       "      <th>education</th>\n",
       "      <th>education_id</th>\n",
       "      <th>family_status</th>\n",
       "      <th>family_status_id</th>\n",
       "      <th>gender</th>\n",
       "      <th>income_type</th>\n",
       "      <th>debt</th>\n",
       "      <th>total_income</th>\n",
       "      <th>purpose</th>\n",
       "    </tr>\n",
       "  </thead>\n",
       "  <tbody>\n",
       "    <tr>\n",
       "      <th>10684</th>\n",
       "      <td>0</td>\n",
       "      <td>2358.600502</td>\n",
       "      <td>24</td>\n",
       "      <td>неоконченное высшее</td>\n",
       "      <td>2</td>\n",
       "      <td>гражданский брак</td>\n",
       "      <td>1</td>\n",
       "      <td>xna</td>\n",
       "      <td>компаньон</td>\n",
       "      <td>0</td>\n",
       "      <td>203905</td>\n",
       "      <td>покупка недвижимости</td>\n",
       "    </tr>\n",
       "  </tbody>\n",
       "</table>\n",
       "</div>"
      ],
      "text/plain": [
       "       children  days_employed  dob_years            education  education_id  \\\n",
       "10684         0    2358.600502         24  неоконченное высшее             2   \n",
       "\n",
       "          family_status  family_status_id gender income_type  debt  \\\n",
       "10684  гражданский брак                 1    xna   компаньон     0   \n",
       "\n",
       "       total_income               purpose  \n",
       "10684        203905  покупка недвижимости  "
      ]
     },
     "execution_count": 17,
     "metadata": {},
     "output_type": "execute_result"
    }
   ],
   "source": [
    "bank_clients.loc[bank_clients['gender'] == 'xna'] #выявим строки с аномальным значением гендера"
   ]
  },
  {
   "cell_type": "markdown",
   "id": "73991a11",
   "metadata": {},
   "source": [
    "Такая строка всего 1, из датасета невозможно определить какого пола данный клиент банка, поэтому просто удалим данную строку."
   ]
  },
  {
   "cell_type": "code",
   "execution_count": 18,
   "id": "5eb674ae",
   "metadata": {},
   "outputs": [],
   "source": [
    "bank_clients.drop(labels=[10684],axis=0, inplace=True)\n"
   ]
  },
  {
   "cell_type": "markdown",
   "id": "7c16a39b",
   "metadata": {},
   "source": [
    "Займемся данными из колонки purpose."
   ]
  },
  {
   "cell_type": "code",
   "execution_count": 19,
   "id": "f7cce6e4",
   "metadata": {
    "scrolled": true
   },
   "outputs": [
    {
     "data": {
      "text/plain": [
       "array(['покупка жилья', 'приобретение автомобиля',\n",
       "       'дополнительное образование', 'сыграть свадьбу',\n",
       "       'операции с жильем', 'образование', 'на проведение свадьбы',\n",
       "       'покупка жилья для семьи', 'покупка недвижимости',\n",
       "       'покупка коммерческой недвижимости', 'покупка жилой недвижимости',\n",
       "       'строительство собственной недвижимости', 'недвижимость',\n",
       "       'строительство недвижимости', 'на покупку подержанного автомобиля',\n",
       "       'на покупку своего автомобиля',\n",
       "       'операции с коммерческой недвижимостью',\n",
       "       'строительство жилой недвижимости', 'жилье',\n",
       "       'операции со своей недвижимостью', 'автомобили',\n",
       "       'заняться образованием', 'сделка с подержанным автомобилем',\n",
       "       'получение образования', 'автомобиль', 'свадьба',\n",
       "       'получение дополнительного образования', 'покупка своего жилья',\n",
       "       'операции с недвижимостью', 'получение высшего образования',\n",
       "       'свой автомобиль', 'сделка с автомобилем',\n",
       "       'профильное образование', 'высшее образование',\n",
       "       'покупка жилья для сдачи', 'на покупку автомобиля', 'ремонт жилью',\n",
       "       'заняться высшим образованием'], dtype=object)"
      ]
     },
     "metadata": {},
     "output_type": "display_data"
    },
    {
     "data": {
      "text/plain": [
       "38"
      ]
     },
     "metadata": {},
     "output_type": "display_data"
    }
   ],
   "source": [
    "display(bank_clients['purpose'].unique()) #выведем на экран уникальные значения столбца 'purpose'\n",
    "display(len(bank_clients['purpose'].unique())) #посчитаем их"
   ]
  },
  {
   "cell_type": "code",
   "execution_count": 20,
   "id": "4aa80a6a",
   "metadata": {},
   "outputs": [
    {
     "data": {
      "text/plain": [
       "34"
      ]
     },
     "metadata": {},
     "output_type": "display_data"
    }
   ],
   "source": [
    "bank_clients['purpose'] = bank_clients['purpose'].replace('сыграть свадьбу', 'свадьба')\n",
    "bank_clients['purpose'] = bank_clients['purpose'].replace('на проведение свадьбы', 'свадьба')\n",
    "bank_clients['purpose'] = bank_clients['purpose'].replace('получение высшего образования', 'высшее образование')\n",
    "bank_clients['purpose'] = bank_clients['purpose'].replace('заняться высшим образованием', 'высшее образование')\n",
    "\n",
    "display(len(bank_clients['purpose'].unique()))\n"
   ]
  },
  {
   "cell_type": "markdown",
   "id": "3c636804",
   "metadata": {},
   "source": [
    "Теперь мы точно избавились от всех явных и неявных дубликатов и аномалий. Как видно из наших данных, причиной появления ошибок и дубликатов, как правило, является человеческий фактор. Возможно если бы человек выбирал цель кредита из предложенного списка и просто ставил галочку - мы получили бы более однородные данные. Но для дальнейшей работы мы можем использовать и такие. "
   ]
  },
  {
   "cell_type": "markdown",
   "id": "2efa9b8a",
   "metadata": {},
   "source": [
    "### Формирование дополнительных датафреймов словарей, декомпозиция исходного датафрейма"
   ]
  },
  {
   "cell_type": "markdown",
   "id": "e4ee43aa",
   "metadata": {},
   "source": [
    "Для начала разберемся, какому уровню образования какой идентификатор соответствует. "
   ]
  },
  {
   "cell_type": "code",
   "execution_count": 21,
   "id": "0210a907",
   "metadata": {},
   "outputs": [
    {
     "data": {
      "text/html": [
       "<div>\n",
       "<style scoped>\n",
       "    .dataframe tbody tr th:only-of-type {\n",
       "        vertical-align: middle;\n",
       "    }\n",
       "\n",
       "    .dataframe tbody tr th {\n",
       "        vertical-align: top;\n",
       "    }\n",
       "\n",
       "    .dataframe thead th {\n",
       "        text-align: right;\n",
       "    }\n",
       "</style>\n",
       "<table border=\"1\" class=\"dataframe\">\n",
       "  <thead>\n",
       "    <tr style=\"text-align: right;\">\n",
       "      <th></th>\n",
       "      <th>education_id</th>\n",
       "    </tr>\n",
       "    <tr>\n",
       "      <th>education</th>\n",
       "      <th></th>\n",
       "    </tr>\n",
       "  </thead>\n",
       "  <tbody>\n",
       "    <tr>\n",
       "      <th>высшее</th>\n",
       "      <td>0</td>\n",
       "    </tr>\n",
       "    <tr>\n",
       "      <th>среднее</th>\n",
       "      <td>1</td>\n",
       "    </tr>\n",
       "    <tr>\n",
       "      <th>неоконченное высшее</th>\n",
       "      <td>2</td>\n",
       "    </tr>\n",
       "    <tr>\n",
       "      <th>начальное</th>\n",
       "      <td>3</td>\n",
       "    </tr>\n",
       "    <tr>\n",
       "      <th>ученая степень</th>\n",
       "      <td>4</td>\n",
       "    </tr>\n",
       "  </tbody>\n",
       "</table>\n",
       "</div>"
      ],
      "text/plain": [
       "                     education_id\n",
       "education                        \n",
       "высшее                          0\n",
       "среднее                         1\n",
       "неоконченное высшее             2\n",
       "начальное                       3\n",
       "ученая степень                  4"
      ]
     },
     "execution_count": 21,
     "metadata": {},
     "output_type": "execute_result"
    }
   ],
   "source": [
    "bank_education = bank_clients.pivot_table(index=['education'],values=['education_id']) #построим сводную таблицу\n",
    "bank_education = bank_education.sort_values(by='education_id') #отсортируем данные\n",
    "bank_education #посмотрим на результат"
   ]
  },
  {
   "cell_type": "markdown",
   "id": "b5e2824e",
   "metadata": {},
   "source": [
    "Тоже самое проделаем с семейным положением."
   ]
  },
  {
   "cell_type": "code",
   "execution_count": 22,
   "id": "f1baf458",
   "metadata": {},
   "outputs": [
    {
     "data": {
      "text/html": [
       "<div>\n",
       "<style scoped>\n",
       "    .dataframe tbody tr th:only-of-type {\n",
       "        vertical-align: middle;\n",
       "    }\n",
       "\n",
       "    .dataframe tbody tr th {\n",
       "        vertical-align: top;\n",
       "    }\n",
       "\n",
       "    .dataframe thead th {\n",
       "        text-align: right;\n",
       "    }\n",
       "</style>\n",
       "<table border=\"1\" class=\"dataframe\">\n",
       "  <thead>\n",
       "    <tr style=\"text-align: right;\">\n",
       "      <th></th>\n",
       "      <th>family_status_id</th>\n",
       "    </tr>\n",
       "    <tr>\n",
       "      <th>family_status</th>\n",
       "      <th></th>\n",
       "    </tr>\n",
       "  </thead>\n",
       "  <tbody>\n",
       "    <tr>\n",
       "      <th>женат / замужем</th>\n",
       "      <td>0</td>\n",
       "    </tr>\n",
       "    <tr>\n",
       "      <th>гражданский брак</th>\n",
       "      <td>1</td>\n",
       "    </tr>\n",
       "    <tr>\n",
       "      <th>вдовец / вдова</th>\n",
       "      <td>2</td>\n",
       "    </tr>\n",
       "    <tr>\n",
       "      <th>в разводе</th>\n",
       "      <td>3</td>\n",
       "    </tr>\n",
       "    <tr>\n",
       "      <th>не женат / не замужем</th>\n",
       "      <td>4</td>\n",
       "    </tr>\n",
       "  </tbody>\n",
       "</table>\n",
       "</div>"
      ],
      "text/plain": [
       "                       family_status_id\n",
       "family_status                          \n",
       "женат / замужем                       0\n",
       "гражданский брак                      1\n",
       "вдовец / вдова                        2\n",
       "в разводе                             3\n",
       "не женат / не замужем                 4"
      ]
     },
     "execution_count": 22,
     "metadata": {},
     "output_type": "execute_result"
    }
   ],
   "source": [
    "bank_family_status = bank_clients.pivot_table(index=['family_status'],values=['family_status_id']) #построим сводную таблицу\n",
    "bank_family_status = bank_family_status.sort_values(by='family_status_id') #отсортируем данные\n",
    "bank_family_status #посмотрим на результат"
   ]
  },
  {
   "cell_type": "markdown",
   "id": "c41f6017",
   "metadata": {},
   "source": [
    "Теперь удалим из исходного датасета столбцы 'education' и 'family_status' и оставим только их идентификаторы."
   ]
  },
  {
   "cell_type": "code",
   "execution_count": 23,
   "id": "4b7a1503",
   "metadata": {},
   "outputs": [
    {
     "data": {
      "text/html": [
       "<div>\n",
       "<style scoped>\n",
       "    .dataframe tbody tr th:only-of-type {\n",
       "        vertical-align: middle;\n",
       "    }\n",
       "\n",
       "    .dataframe tbody tr th {\n",
       "        vertical-align: top;\n",
       "    }\n",
       "\n",
       "    .dataframe thead th {\n",
       "        text-align: right;\n",
       "    }\n",
       "</style>\n",
       "<table border=\"1\" class=\"dataframe\">\n",
       "  <thead>\n",
       "    <tr style=\"text-align: right;\">\n",
       "      <th></th>\n",
       "      <th>children</th>\n",
       "      <th>days_employed</th>\n",
       "      <th>dob_years</th>\n",
       "      <th>education_id</th>\n",
       "      <th>family_status_id</th>\n",
       "      <th>gender</th>\n",
       "      <th>income_type</th>\n",
       "      <th>debt</th>\n",
       "      <th>total_income</th>\n",
       "      <th>purpose</th>\n",
       "    </tr>\n",
       "  </thead>\n",
       "  <tbody>\n",
       "    <tr>\n",
       "      <th>0</th>\n",
       "      <td>1</td>\n",
       "      <td>8437.673028</td>\n",
       "      <td>42</td>\n",
       "      <td>0</td>\n",
       "      <td>0</td>\n",
       "      <td>f</td>\n",
       "      <td>сотрудник</td>\n",
       "      <td>0</td>\n",
       "      <td>253875</td>\n",
       "      <td>покупка жилья</td>\n",
       "    </tr>\n",
       "    <tr>\n",
       "      <th>1</th>\n",
       "      <td>1</td>\n",
       "      <td>4024.803754</td>\n",
       "      <td>36</td>\n",
       "      <td>1</td>\n",
       "      <td>0</td>\n",
       "      <td>f</td>\n",
       "      <td>сотрудник</td>\n",
       "      <td>0</td>\n",
       "      <td>112080</td>\n",
       "      <td>приобретение автомобиля</td>\n",
       "    </tr>\n",
       "    <tr>\n",
       "      <th>2</th>\n",
       "      <td>0</td>\n",
       "      <td>5623.422610</td>\n",
       "      <td>33</td>\n",
       "      <td>1</td>\n",
       "      <td>0</td>\n",
       "      <td>m</td>\n",
       "      <td>сотрудник</td>\n",
       "      <td>0</td>\n",
       "      <td>145885</td>\n",
       "      <td>покупка жилья</td>\n",
       "    </tr>\n",
       "    <tr>\n",
       "      <th>3</th>\n",
       "      <td>3</td>\n",
       "      <td>4124.747207</td>\n",
       "      <td>32</td>\n",
       "      <td>1</td>\n",
       "      <td>0</td>\n",
       "      <td>m</td>\n",
       "      <td>сотрудник</td>\n",
       "      <td>0</td>\n",
       "      <td>267628</td>\n",
       "      <td>дополнительное образование</td>\n",
       "    </tr>\n",
       "    <tr>\n",
       "      <th>4</th>\n",
       "      <td>0</td>\n",
       "      <td>340266.072047</td>\n",
       "      <td>53</td>\n",
       "      <td>1</td>\n",
       "      <td>1</td>\n",
       "      <td>f</td>\n",
       "      <td>пенсионер</td>\n",
       "      <td>0</td>\n",
       "      <td>158616</td>\n",
       "      <td>свадьба</td>\n",
       "    </tr>\n",
       "    <tr>\n",
       "      <th>5</th>\n",
       "      <td>0</td>\n",
       "      <td>926.185831</td>\n",
       "      <td>27</td>\n",
       "      <td>0</td>\n",
       "      <td>1</td>\n",
       "      <td>m</td>\n",
       "      <td>компаньон</td>\n",
       "      <td>0</td>\n",
       "      <td>255763</td>\n",
       "      <td>покупка жилья</td>\n",
       "    </tr>\n",
       "    <tr>\n",
       "      <th>6</th>\n",
       "      <td>0</td>\n",
       "      <td>2879.202052</td>\n",
       "      <td>43</td>\n",
       "      <td>0</td>\n",
       "      <td>0</td>\n",
       "      <td>f</td>\n",
       "      <td>компаньон</td>\n",
       "      <td>0</td>\n",
       "      <td>240525</td>\n",
       "      <td>операции с жильем</td>\n",
       "    </tr>\n",
       "    <tr>\n",
       "      <th>7</th>\n",
       "      <td>0</td>\n",
       "      <td>152.779569</td>\n",
       "      <td>50</td>\n",
       "      <td>1</td>\n",
       "      <td>0</td>\n",
       "      <td>m</td>\n",
       "      <td>сотрудник</td>\n",
       "      <td>0</td>\n",
       "      <td>135823</td>\n",
       "      <td>образование</td>\n",
       "    </tr>\n",
       "    <tr>\n",
       "      <th>8</th>\n",
       "      <td>2</td>\n",
       "      <td>6929.865299</td>\n",
       "      <td>35</td>\n",
       "      <td>0</td>\n",
       "      <td>1</td>\n",
       "      <td>f</td>\n",
       "      <td>сотрудник</td>\n",
       "      <td>0</td>\n",
       "      <td>95856</td>\n",
       "      <td>свадьба</td>\n",
       "    </tr>\n",
       "    <tr>\n",
       "      <th>9</th>\n",
       "      <td>0</td>\n",
       "      <td>2188.756445</td>\n",
       "      <td>41</td>\n",
       "      <td>1</td>\n",
       "      <td>0</td>\n",
       "      <td>m</td>\n",
       "      <td>сотрудник</td>\n",
       "      <td>0</td>\n",
       "      <td>144425</td>\n",
       "      <td>покупка жилья для семьи</td>\n",
       "    </tr>\n",
       "  </tbody>\n",
       "</table>\n",
       "</div>"
      ],
      "text/plain": [
       "   children  days_employed  dob_years  education_id  family_status_id gender  \\\n",
       "0         1    8437.673028         42             0                 0      f   \n",
       "1         1    4024.803754         36             1                 0      f   \n",
       "2         0    5623.422610         33             1                 0      m   \n",
       "3         3    4124.747207         32             1                 0      m   \n",
       "4         0  340266.072047         53             1                 1      f   \n",
       "5         0     926.185831         27             0                 1      m   \n",
       "6         0    2879.202052         43             0                 0      f   \n",
       "7         0     152.779569         50             1                 0      m   \n",
       "8         2    6929.865299         35             0                 1      f   \n",
       "9         0    2188.756445         41             1                 0      m   \n",
       "\n",
       "  income_type  debt  total_income                     purpose  \n",
       "0   сотрудник     0        253875               покупка жилья  \n",
       "1   сотрудник     0        112080     приобретение автомобиля  \n",
       "2   сотрудник     0        145885               покупка жилья  \n",
       "3   сотрудник     0        267628  дополнительное образование  \n",
       "4   пенсионер     0        158616                     свадьба  \n",
       "5   компаньон     0        255763               покупка жилья  \n",
       "6   компаньон     0        240525           операции с жильем  \n",
       "7   сотрудник     0        135823                 образование  \n",
       "8   сотрудник     0         95856                     свадьба  \n",
       "9   сотрудник     0        144425     покупка жилья для семьи  "
      ]
     },
     "execution_count": 23,
     "metadata": {},
     "output_type": "execute_result"
    }
   ],
   "source": [
    "bank_clients = bank_clients.drop(columns=['education', 'family_status']).reset_index(drop=True)#удалим столбцы, перезапустим нумерацию\n",
    "bank_clients.head(10) #выведем на экран верхние 10 строк"
   ]
  },
  {
   "cell_type": "markdown",
   "id": "39826b4b",
   "metadata": {},
   "source": [
    "### Категоризация дохода"
   ]
  },
  {
   "cell_type": "code",
   "execution_count": 24,
   "id": "7e7215b1",
   "metadata": {},
   "outputs": [
    {
     "data": {
      "text/plain": [
       "'C'"
      ]
     },
     "metadata": {},
     "output_type": "display_data"
    },
    {
     "data": {
      "text/plain": [
       "'B'"
      ]
     },
     "execution_count": 24,
     "metadata": {},
     "output_type": "execute_result"
    }
   ],
   "source": [
    "def categ_income(income): #напишем функцию, которая будет распределять клиентов по категориям в зависимости от их дохода\n",
    "    if 0 < income < 30000:\n",
    "        return 'E'\n",
    "    if 30001 < income < 50000:\n",
    "        return'D'\n",
    "    if 50001 < income < 200000:\n",
    "        return'C'\n",
    "    if 200001 < income < 1000000:\n",
    "        return'B'\n",
    "    return'A'\n",
    "display(categ_income(75000)) #проверим работоспособность функции\n",
    "categ_income (750000)"
   ]
  },
  {
   "cell_type": "code",
   "execution_count": 25,
   "id": "a664e318",
   "metadata": {},
   "outputs": [
    {
     "data": {
      "text/html": [
       "<div>\n",
       "<style scoped>\n",
       "    .dataframe tbody tr th:only-of-type {\n",
       "        vertical-align: middle;\n",
       "    }\n",
       "\n",
       "    .dataframe tbody tr th {\n",
       "        vertical-align: top;\n",
       "    }\n",
       "\n",
       "    .dataframe thead th {\n",
       "        text-align: right;\n",
       "    }\n",
       "</style>\n",
       "<table border=\"1\" class=\"dataframe\">\n",
       "  <thead>\n",
       "    <tr style=\"text-align: right;\">\n",
       "      <th></th>\n",
       "      <th>children</th>\n",
       "      <th>days_employed</th>\n",
       "      <th>dob_years</th>\n",
       "      <th>education_id</th>\n",
       "      <th>family_status_id</th>\n",
       "      <th>gender</th>\n",
       "      <th>income_type</th>\n",
       "      <th>debt</th>\n",
       "      <th>total_income</th>\n",
       "      <th>purpose</th>\n",
       "      <th>total_income_category</th>\n",
       "    </tr>\n",
       "  </thead>\n",
       "  <tbody>\n",
       "    <tr>\n",
       "      <th>0</th>\n",
       "      <td>1</td>\n",
       "      <td>8437.673028</td>\n",
       "      <td>42</td>\n",
       "      <td>0</td>\n",
       "      <td>0</td>\n",
       "      <td>f</td>\n",
       "      <td>сотрудник</td>\n",
       "      <td>0</td>\n",
       "      <td>253875</td>\n",
       "      <td>покупка жилья</td>\n",
       "      <td>B</td>\n",
       "    </tr>\n",
       "    <tr>\n",
       "      <th>1</th>\n",
       "      <td>1</td>\n",
       "      <td>4024.803754</td>\n",
       "      <td>36</td>\n",
       "      <td>1</td>\n",
       "      <td>0</td>\n",
       "      <td>f</td>\n",
       "      <td>сотрудник</td>\n",
       "      <td>0</td>\n",
       "      <td>112080</td>\n",
       "      <td>приобретение автомобиля</td>\n",
       "      <td>C</td>\n",
       "    </tr>\n",
       "    <tr>\n",
       "      <th>2</th>\n",
       "      <td>0</td>\n",
       "      <td>5623.422610</td>\n",
       "      <td>33</td>\n",
       "      <td>1</td>\n",
       "      <td>0</td>\n",
       "      <td>m</td>\n",
       "      <td>сотрудник</td>\n",
       "      <td>0</td>\n",
       "      <td>145885</td>\n",
       "      <td>покупка жилья</td>\n",
       "      <td>C</td>\n",
       "    </tr>\n",
       "    <tr>\n",
       "      <th>3</th>\n",
       "      <td>3</td>\n",
       "      <td>4124.747207</td>\n",
       "      <td>32</td>\n",
       "      <td>1</td>\n",
       "      <td>0</td>\n",
       "      <td>m</td>\n",
       "      <td>сотрудник</td>\n",
       "      <td>0</td>\n",
       "      <td>267628</td>\n",
       "      <td>дополнительное образование</td>\n",
       "      <td>B</td>\n",
       "    </tr>\n",
       "    <tr>\n",
       "      <th>4</th>\n",
       "      <td>0</td>\n",
       "      <td>340266.072047</td>\n",
       "      <td>53</td>\n",
       "      <td>1</td>\n",
       "      <td>1</td>\n",
       "      <td>f</td>\n",
       "      <td>пенсионер</td>\n",
       "      <td>0</td>\n",
       "      <td>158616</td>\n",
       "      <td>свадьба</td>\n",
       "      <td>C</td>\n",
       "    </tr>\n",
       "    <tr>\n",
       "      <th>5</th>\n",
       "      <td>0</td>\n",
       "      <td>926.185831</td>\n",
       "      <td>27</td>\n",
       "      <td>0</td>\n",
       "      <td>1</td>\n",
       "      <td>m</td>\n",
       "      <td>компаньон</td>\n",
       "      <td>0</td>\n",
       "      <td>255763</td>\n",
       "      <td>покупка жилья</td>\n",
       "      <td>B</td>\n",
       "    </tr>\n",
       "    <tr>\n",
       "      <th>6</th>\n",
       "      <td>0</td>\n",
       "      <td>2879.202052</td>\n",
       "      <td>43</td>\n",
       "      <td>0</td>\n",
       "      <td>0</td>\n",
       "      <td>f</td>\n",
       "      <td>компаньон</td>\n",
       "      <td>0</td>\n",
       "      <td>240525</td>\n",
       "      <td>операции с жильем</td>\n",
       "      <td>B</td>\n",
       "    </tr>\n",
       "    <tr>\n",
       "      <th>7</th>\n",
       "      <td>0</td>\n",
       "      <td>152.779569</td>\n",
       "      <td>50</td>\n",
       "      <td>1</td>\n",
       "      <td>0</td>\n",
       "      <td>m</td>\n",
       "      <td>сотрудник</td>\n",
       "      <td>0</td>\n",
       "      <td>135823</td>\n",
       "      <td>образование</td>\n",
       "      <td>C</td>\n",
       "    </tr>\n",
       "    <tr>\n",
       "      <th>8</th>\n",
       "      <td>2</td>\n",
       "      <td>6929.865299</td>\n",
       "      <td>35</td>\n",
       "      <td>0</td>\n",
       "      <td>1</td>\n",
       "      <td>f</td>\n",
       "      <td>сотрудник</td>\n",
       "      <td>0</td>\n",
       "      <td>95856</td>\n",
       "      <td>свадьба</td>\n",
       "      <td>C</td>\n",
       "    </tr>\n",
       "    <tr>\n",
       "      <th>9</th>\n",
       "      <td>0</td>\n",
       "      <td>2188.756445</td>\n",
       "      <td>41</td>\n",
       "      <td>1</td>\n",
       "      <td>0</td>\n",
       "      <td>m</td>\n",
       "      <td>сотрудник</td>\n",
       "      <td>0</td>\n",
       "      <td>144425</td>\n",
       "      <td>покупка жилья для семьи</td>\n",
       "      <td>C</td>\n",
       "    </tr>\n",
       "  </tbody>\n",
       "</table>\n",
       "</div>"
      ],
      "text/plain": [
       "   children  days_employed  dob_years  education_id  family_status_id gender  \\\n",
       "0         1    8437.673028         42             0                 0      f   \n",
       "1         1    4024.803754         36             1                 0      f   \n",
       "2         0    5623.422610         33             1                 0      m   \n",
       "3         3    4124.747207         32             1                 0      m   \n",
       "4         0  340266.072047         53             1                 1      f   \n",
       "5         0     926.185831         27             0                 1      m   \n",
       "6         0    2879.202052         43             0                 0      f   \n",
       "7         0     152.779569         50             1                 0      m   \n",
       "8         2    6929.865299         35             0                 1      f   \n",
       "9         0    2188.756445         41             1                 0      m   \n",
       "\n",
       "  income_type  debt  total_income                     purpose  \\\n",
       "0   сотрудник     0        253875               покупка жилья   \n",
       "1   сотрудник     0        112080     приобретение автомобиля   \n",
       "2   сотрудник     0        145885               покупка жилья   \n",
       "3   сотрудник     0        267628  дополнительное образование   \n",
       "4   пенсионер     0        158616                     свадьба   \n",
       "5   компаньон     0        255763               покупка жилья   \n",
       "6   компаньон     0        240525           операции с жильем   \n",
       "7   сотрудник     0        135823                 образование   \n",
       "8   сотрудник     0         95856                     свадьба   \n",
       "9   сотрудник     0        144425     покупка жилья для семьи   \n",
       "\n",
       "  total_income_category  \n",
       "0                     B  \n",
       "1                     C  \n",
       "2                     C  \n",
       "3                     B  \n",
       "4                     C  \n",
       "5                     B  \n",
       "6                     B  \n",
       "7                     C  \n",
       "8                     C  \n",
       "9                     C  "
      ]
     },
     "execution_count": 25,
     "metadata": {},
     "output_type": "execute_result"
    }
   ],
   "source": [
    "bank_clients['total_income_category'] = bank_clients['total_income'].apply(categ_income) #применим функцию к датафрейму и создадим новый столбец\n",
    "bank_clients.head(10) #посмотрим 10 верхних строк датафрейма, чтобы убедиться что все получилось"
   ]
  },
  {
   "cell_type": "markdown",
   "id": "53d20360",
   "metadata": {},
   "source": [
    "### Категоризация целей кредита"
   ]
  },
  {
   "cell_type": "markdown",
   "id": "aa2f906f",
   "metadata": {},
   "source": [
    "Разделим все кредиты на 4 группы в зависимости от целей кредита."
   ]
  },
  {
   "cell_type": "code",
   "execution_count": 26,
   "id": "acaa386a",
   "metadata": {},
   "outputs": [
    {
     "data": {
      "text/plain": [
       "'операции с недвижимостью'"
      ]
     },
     "metadata": {},
     "output_type": "display_data"
    },
    {
     "data": {
      "text/plain": [
       "'получение образования'"
      ]
     },
     "metadata": {},
     "output_type": "display_data"
    },
    {
     "data": {
      "text/plain": [
       "'проведение свадьбы'"
      ]
     },
     "execution_count": 26,
     "metadata": {},
     "output_type": "execute_result"
    }
   ],
   "source": [
    "def credit_purpose(purpose): #напишем функцию, которая разделит цели кредита на категории\n",
    "    if 'автомобил' in purpose:\n",
    "        return 'операции с автомобилем'\n",
    "    if ('жиль' in purpose)|('недвиж' in purpose):\n",
    "        return 'операции с недвижимостью'\n",
    "    if  'свадьб' in purpose:\n",
    "        return 'проведение свадьбы'\n",
    "    if 'образован' in purpose:\n",
    "        return 'получение образования'\n",
    "  \n",
    "display(credit_purpose ('покупка жилья')) #проверим работу функции\n",
    "display(credit_purpose('получение высшего образования'))\n",
    "credit_purpose('сыграть свадьбу')"
   ]
  },
  {
   "cell_type": "code",
   "execution_count": 27,
   "id": "67cabfb5",
   "metadata": {
    "scrolled": true
   },
   "outputs": [
    {
     "data": {
      "text/html": [
       "<div>\n",
       "<style scoped>\n",
       "    .dataframe tbody tr th:only-of-type {\n",
       "        vertical-align: middle;\n",
       "    }\n",
       "\n",
       "    .dataframe tbody tr th {\n",
       "        vertical-align: top;\n",
       "    }\n",
       "\n",
       "    .dataframe thead th {\n",
       "        text-align: right;\n",
       "    }\n",
       "</style>\n",
       "<table border=\"1\" class=\"dataframe\">\n",
       "  <thead>\n",
       "    <tr style=\"text-align: right;\">\n",
       "      <th></th>\n",
       "      <th>children</th>\n",
       "      <th>days_employed</th>\n",
       "      <th>dob_years</th>\n",
       "      <th>education_id</th>\n",
       "      <th>family_status_id</th>\n",
       "      <th>gender</th>\n",
       "      <th>income_type</th>\n",
       "      <th>debt</th>\n",
       "      <th>total_income</th>\n",
       "      <th>total_income_category</th>\n",
       "      <th>purpose_category</th>\n",
       "    </tr>\n",
       "  </thead>\n",
       "  <tbody>\n",
       "    <tr>\n",
       "      <th>0</th>\n",
       "      <td>1</td>\n",
       "      <td>8437.673028</td>\n",
       "      <td>42</td>\n",
       "      <td>0</td>\n",
       "      <td>0</td>\n",
       "      <td>f</td>\n",
       "      <td>сотрудник</td>\n",
       "      <td>0</td>\n",
       "      <td>253875</td>\n",
       "      <td>B</td>\n",
       "      <td>операции с недвижимостью</td>\n",
       "    </tr>\n",
       "    <tr>\n",
       "      <th>1</th>\n",
       "      <td>1</td>\n",
       "      <td>4024.803754</td>\n",
       "      <td>36</td>\n",
       "      <td>1</td>\n",
       "      <td>0</td>\n",
       "      <td>f</td>\n",
       "      <td>сотрудник</td>\n",
       "      <td>0</td>\n",
       "      <td>112080</td>\n",
       "      <td>C</td>\n",
       "      <td>операции с автомобилем</td>\n",
       "    </tr>\n",
       "    <tr>\n",
       "      <th>2</th>\n",
       "      <td>0</td>\n",
       "      <td>5623.422610</td>\n",
       "      <td>33</td>\n",
       "      <td>1</td>\n",
       "      <td>0</td>\n",
       "      <td>m</td>\n",
       "      <td>сотрудник</td>\n",
       "      <td>0</td>\n",
       "      <td>145885</td>\n",
       "      <td>C</td>\n",
       "      <td>операции с недвижимостью</td>\n",
       "    </tr>\n",
       "    <tr>\n",
       "      <th>3</th>\n",
       "      <td>3</td>\n",
       "      <td>4124.747207</td>\n",
       "      <td>32</td>\n",
       "      <td>1</td>\n",
       "      <td>0</td>\n",
       "      <td>m</td>\n",
       "      <td>сотрудник</td>\n",
       "      <td>0</td>\n",
       "      <td>267628</td>\n",
       "      <td>B</td>\n",
       "      <td>получение образования</td>\n",
       "    </tr>\n",
       "    <tr>\n",
       "      <th>4</th>\n",
       "      <td>0</td>\n",
       "      <td>340266.072047</td>\n",
       "      <td>53</td>\n",
       "      <td>1</td>\n",
       "      <td>1</td>\n",
       "      <td>f</td>\n",
       "      <td>пенсионер</td>\n",
       "      <td>0</td>\n",
       "      <td>158616</td>\n",
       "      <td>C</td>\n",
       "      <td>проведение свадьбы</td>\n",
       "    </tr>\n",
       "    <tr>\n",
       "      <th>5</th>\n",
       "      <td>0</td>\n",
       "      <td>926.185831</td>\n",
       "      <td>27</td>\n",
       "      <td>0</td>\n",
       "      <td>1</td>\n",
       "      <td>m</td>\n",
       "      <td>компаньон</td>\n",
       "      <td>0</td>\n",
       "      <td>255763</td>\n",
       "      <td>B</td>\n",
       "      <td>операции с недвижимостью</td>\n",
       "    </tr>\n",
       "    <tr>\n",
       "      <th>6</th>\n",
       "      <td>0</td>\n",
       "      <td>2879.202052</td>\n",
       "      <td>43</td>\n",
       "      <td>0</td>\n",
       "      <td>0</td>\n",
       "      <td>f</td>\n",
       "      <td>компаньон</td>\n",
       "      <td>0</td>\n",
       "      <td>240525</td>\n",
       "      <td>B</td>\n",
       "      <td>операции с недвижимостью</td>\n",
       "    </tr>\n",
       "    <tr>\n",
       "      <th>7</th>\n",
       "      <td>0</td>\n",
       "      <td>152.779569</td>\n",
       "      <td>50</td>\n",
       "      <td>1</td>\n",
       "      <td>0</td>\n",
       "      <td>m</td>\n",
       "      <td>сотрудник</td>\n",
       "      <td>0</td>\n",
       "      <td>135823</td>\n",
       "      <td>C</td>\n",
       "      <td>получение образования</td>\n",
       "    </tr>\n",
       "    <tr>\n",
       "      <th>8</th>\n",
       "      <td>2</td>\n",
       "      <td>6929.865299</td>\n",
       "      <td>35</td>\n",
       "      <td>0</td>\n",
       "      <td>1</td>\n",
       "      <td>f</td>\n",
       "      <td>сотрудник</td>\n",
       "      <td>0</td>\n",
       "      <td>95856</td>\n",
       "      <td>C</td>\n",
       "      <td>проведение свадьбы</td>\n",
       "    </tr>\n",
       "    <tr>\n",
       "      <th>9</th>\n",
       "      <td>0</td>\n",
       "      <td>2188.756445</td>\n",
       "      <td>41</td>\n",
       "      <td>1</td>\n",
       "      <td>0</td>\n",
       "      <td>m</td>\n",
       "      <td>сотрудник</td>\n",
       "      <td>0</td>\n",
       "      <td>144425</td>\n",
       "      <td>C</td>\n",
       "      <td>операции с недвижимостью</td>\n",
       "    </tr>\n",
       "  </tbody>\n",
       "</table>\n",
       "</div>"
      ],
      "text/plain": [
       "   children  days_employed  dob_years  education_id  family_status_id gender  \\\n",
       "0         1    8437.673028         42             0                 0      f   \n",
       "1         1    4024.803754         36             1                 0      f   \n",
       "2         0    5623.422610         33             1                 0      m   \n",
       "3         3    4124.747207         32             1                 0      m   \n",
       "4         0  340266.072047         53             1                 1      f   \n",
       "5         0     926.185831         27             0                 1      m   \n",
       "6         0    2879.202052         43             0                 0      f   \n",
       "7         0     152.779569         50             1                 0      m   \n",
       "8         2    6929.865299         35             0                 1      f   \n",
       "9         0    2188.756445         41             1                 0      m   \n",
       "\n",
       "  income_type  debt  total_income total_income_category  \\\n",
       "0   сотрудник     0        253875                     B   \n",
       "1   сотрудник     0        112080                     C   \n",
       "2   сотрудник     0        145885                     C   \n",
       "3   сотрудник     0        267628                     B   \n",
       "4   пенсионер     0        158616                     C   \n",
       "5   компаньон     0        255763                     B   \n",
       "6   компаньон     0        240525                     B   \n",
       "7   сотрудник     0        135823                     C   \n",
       "8   сотрудник     0         95856                     C   \n",
       "9   сотрудник     0        144425                     C   \n",
       "\n",
       "           purpose_category  \n",
       "0  операции с недвижимостью  \n",
       "1    операции с автомобилем  \n",
       "2  операции с недвижимостью  \n",
       "3     получение образования  \n",
       "4        проведение свадьбы  \n",
       "5  операции с недвижимостью  \n",
       "6  операции с недвижимостью  \n",
       "7     получение образования  \n",
       "8        проведение свадьбы  \n",
       "9  операции с недвижимостью  "
      ]
     },
     "execution_count": 27,
     "metadata": {},
     "output_type": "execute_result"
    }
   ],
   "source": [
    "bank_clients['purpose_category'] = bank_clients['purpose'].apply(credit_purpose) #применим функцию к датафрейму\n",
    "bank_clients = bank_clients.drop(columns=['purpose']).reset_index(drop=True) #удалим из таблицы лишнюю колонку\n",
    "bank_clients.head(10)"
   ]
  },
  {
   "cell_type": "markdown",
   "id": "7df4b5f5",
   "metadata": {},
   "source": [
    "[Содержание](#0)"
   ]
  },
  {
   "cell_type": "markdown",
   "id": "0c07f7a7",
   "metadata": {},
   "source": [
    "## Ответы на вопросы\n",
    "<a id=3> </a>"
   ]
  },
  {
   "cell_type": "markdown",
   "id": "121664f6",
   "metadata": {},
   "source": [
    "### Есть ли зависимость между количеством детей и возвратом кредита в срок?"
   ]
  },
  {
   "cell_type": "code",
   "execution_count": 28,
   "id": "e9076524",
   "metadata": {},
   "outputs": [
    {
     "data": {
      "text/html": [
       "<div>\n",
       "<style scoped>\n",
       "    .dataframe tbody tr th:only-of-type {\n",
       "        vertical-align: middle;\n",
       "    }\n",
       "\n",
       "    .dataframe tbody tr th {\n",
       "        vertical-align: top;\n",
       "    }\n",
       "\n",
       "    .dataframe thead th {\n",
       "        text-align: right;\n",
       "    }\n",
       "</style>\n",
       "<table border=\"1\" class=\"dataframe\">\n",
       "  <thead>\n",
       "    <tr style=\"text-align: right;\">\n",
       "      <th></th>\n",
       "      <th>debt</th>\n",
       "    </tr>\n",
       "    <tr>\n",
       "      <th>children</th>\n",
       "      <th></th>\n",
       "    </tr>\n",
       "  </thead>\n",
       "  <tbody>\n",
       "    <tr>\n",
       "      <th>5</th>\n",
       "      <td>0.000000</td>\n",
       "    </tr>\n",
       "    <tr>\n",
       "      <th>0</th>\n",
       "      <td>0.075444</td>\n",
       "    </tr>\n",
       "    <tr>\n",
       "      <th>3</th>\n",
       "      <td>0.081818</td>\n",
       "    </tr>\n",
       "    <tr>\n",
       "      <th>1</th>\n",
       "      <td>0.091658</td>\n",
       "    </tr>\n",
       "    <tr>\n",
       "      <th>2</th>\n",
       "      <td>0.094925</td>\n",
       "    </tr>\n",
       "    <tr>\n",
       "      <th>4</th>\n",
       "      <td>0.097561</td>\n",
       "    </tr>\n",
       "  </tbody>\n",
       "</table>\n",
       "</div>"
      ],
      "text/plain": [
       "              debt\n",
       "children          \n",
       "5         0.000000\n",
       "0         0.075444\n",
       "3         0.081818\n",
       "1         0.091658\n",
       "2         0.094925\n",
       "4         0.097561"
      ]
     },
     "execution_count": 28,
     "metadata": {},
     "output_type": "execute_result"
    }
   ],
   "source": [
    "bank_clients_children = bank_clients.pivot_table(index='children', values='debt', aggfunc='mean').sort_values(by='debt')\n",
    "#построим сводную таблицу со средним долгом относительно количества детей. Сделаем сортировку по величине долга\n",
    "bank_clients_children"
   ]
  },
  {
   "cell_type": "markdown",
   "id": "e6aa7096",
   "metadata": {},
   "source": [
    "Как видим - меньше всего долгов у бездетных. У клиентов с 5 детьми совсем нет долгов. Но прямой зависимости между количеством детей и долгом - нет, у клиентов с 1 ребенком в среднем чаще бывают долги, чем у клиентов с 3 детьми."
   ]
  },
  {
   "cell_type": "markdown",
   "id": "c6caa20d",
   "metadata": {},
   "source": [
    "### Есть ли зависимость между семейным положением и возвратом кредита в срок?"
   ]
  },
  {
   "cell_type": "code",
   "execution_count": 29,
   "id": "20e9c511",
   "metadata": {
    "scrolled": false
   },
   "outputs": [
    {
     "data": {
      "text/html": [
       "<div>\n",
       "<style scoped>\n",
       "    .dataframe tbody tr th:only-of-type {\n",
       "        vertical-align: middle;\n",
       "    }\n",
       "\n",
       "    .dataframe tbody tr th {\n",
       "        vertical-align: top;\n",
       "    }\n",
       "\n",
       "    .dataframe thead th {\n",
       "        text-align: right;\n",
       "    }\n",
       "</style>\n",
       "<table border=\"1\" class=\"dataframe\">\n",
       "  <thead>\n",
       "    <tr style=\"text-align: right;\">\n",
       "      <th></th>\n",
       "      <th>family_status_id</th>\n",
       "      <th>debt</th>\n",
       "      <th>family_status</th>\n",
       "    </tr>\n",
       "  </thead>\n",
       "  <tbody>\n",
       "    <tr>\n",
       "      <th>0</th>\n",
       "      <td>2</td>\n",
       "      <td>0.065693</td>\n",
       "      <td>вдовец / вдова</td>\n",
       "    </tr>\n",
       "    <tr>\n",
       "      <th>1</th>\n",
       "      <td>3</td>\n",
       "      <td>0.071130</td>\n",
       "      <td>в разводе</td>\n",
       "    </tr>\n",
       "    <tr>\n",
       "      <th>2</th>\n",
       "      <td>0</td>\n",
       "      <td>0.075452</td>\n",
       "      <td>женат / замужем</td>\n",
       "    </tr>\n",
       "    <tr>\n",
       "      <th>3</th>\n",
       "      <td>1</td>\n",
       "      <td>0.093494</td>\n",
       "      <td>гражданский брак</td>\n",
       "    </tr>\n",
       "    <tr>\n",
       "      <th>4</th>\n",
       "      <td>4</td>\n",
       "      <td>0.097509</td>\n",
       "      <td>не женат / не замужем</td>\n",
       "    </tr>\n",
       "  </tbody>\n",
       "</table>\n",
       "</div>"
      ],
      "text/plain": [
       "   family_status_id      debt          family_status\n",
       "0                 2  0.065693         вдовец / вдова\n",
       "1                 3  0.071130              в разводе\n",
       "2                 0  0.075452        женат / замужем\n",
       "3                 1  0.093494       гражданский брак\n",
       "4                 4  0.097509  не женат / не замужем"
      ]
     },
     "execution_count": 29,
     "metadata": {},
     "output_type": "execute_result"
    }
   ],
   "source": [
    "bank_clients_family = bank_clients.pivot_table(index='family_status_id', values='debt', aggfunc='mean').sort_values(by='debt')\n",
    "#построим сводную таблицу зависимости долга от семейного статуса\n",
    "bank_family_status['family_status']=['женат / замужем', 'гражданский брак', 'вдовец / вдова', 'в разводе', 'не женат / не замужем']\n",
    "#добавим в таблицу, в которой мы определяли семейные статусы колонку\n",
    "bank_clients_family = bank_clients_family.merge(bank_family_status, on='family_status_id', how='left')\n",
    "#объеденим 2 таблицы\n",
    "bank_clients_family\n"
   ]
  },
  {
   "cell_type": "markdown",
   "id": "fb8d80ec",
   "metadata": {},
   "source": [
    "Получается, у семейных людей, в среднем, меньше долгов по кредитам"
   ]
  },
  {
   "cell_type": "markdown",
   "id": "b706d61f",
   "metadata": {},
   "source": [
    "### Есть ли зависимость между уровнем дохода и возвратом кредита в срок?"
   ]
  },
  {
   "cell_type": "code",
   "execution_count": 30,
   "id": "f36aaedd",
   "metadata": {},
   "outputs": [
    {
     "data": {
      "text/html": [
       "<div>\n",
       "<style scoped>\n",
       "    .dataframe tbody tr th:only-of-type {\n",
       "        vertical-align: middle;\n",
       "    }\n",
       "\n",
       "    .dataframe tbody tr th {\n",
       "        vertical-align: top;\n",
       "    }\n",
       "\n",
       "    .dataframe thead th {\n",
       "        text-align: right;\n",
       "    }\n",
       "</style>\n",
       "<table border=\"1\" class=\"dataframe\">\n",
       "  <thead>\n",
       "    <tr style=\"text-align: right;\">\n",
       "      <th></th>\n",
       "      <th>debt</th>\n",
       "    </tr>\n",
       "    <tr>\n",
       "      <th>total_income_category</th>\n",
       "      <th></th>\n",
       "    </tr>\n",
       "  </thead>\n",
       "  <tbody>\n",
       "    <tr>\n",
       "      <th>D</th>\n",
       "      <td>0.060000</td>\n",
       "    </tr>\n",
       "    <tr>\n",
       "      <th>B</th>\n",
       "      <td>0.070649</td>\n",
       "    </tr>\n",
       "    <tr>\n",
       "      <th>A</th>\n",
       "      <td>0.076923</td>\n",
       "    </tr>\n",
       "    <tr>\n",
       "      <th>C</th>\n",
       "      <td>0.084915</td>\n",
       "    </tr>\n",
       "    <tr>\n",
       "      <th>E</th>\n",
       "      <td>0.090909</td>\n",
       "    </tr>\n",
       "  </tbody>\n",
       "</table>\n",
       "</div>"
      ],
      "text/plain": [
       "                           debt\n",
       "total_income_category          \n",
       "D                      0.060000\n",
       "B                      0.070649\n",
       "A                      0.076923\n",
       "C                      0.084915\n",
       "E                      0.090909"
      ]
     },
     "execution_count": 30,
     "metadata": {},
     "output_type": "execute_result"
    }
   ],
   "source": [
    "bank_clients.pivot_table(index='total_income_category', values='debt', aggfunc='mean').sort_values(by='debt')\n",
    "#построим сводную таблицу зависимости долга от среднего дохода"
   ]
  },
  {
   "cell_type": "markdown",
   "id": "fd33a7e3",
   "metadata": {},
   "source": [
    "Получается, люди с самым низким доходом - до 30 000 р в месяц - чаще всего не возвращают кредит в срок.\n",
    "Но прямой зависимости между уровнем дохода и возвратом кредита так же нет - люди с самыми высокими доходами не обязательно вернут кредит."
   ]
  },
  {
   "cell_type": "markdown",
   "id": "91cfb61a",
   "metadata": {},
   "source": [
    "### Как разные цели кредита влияют на его возврат в срок?\n"
   ]
  },
  {
   "cell_type": "code",
   "execution_count": 31,
   "id": "3671613b",
   "metadata": {
    "scrolled": true
   },
   "outputs": [
    {
     "data": {
      "text/html": [
       "<div>\n",
       "<style scoped>\n",
       "    .dataframe tbody tr th:only-of-type {\n",
       "        vertical-align: middle;\n",
       "    }\n",
       "\n",
       "    .dataframe tbody tr th {\n",
       "        vertical-align: top;\n",
       "    }\n",
       "\n",
       "    .dataframe thead th {\n",
       "        text-align: right;\n",
       "    }\n",
       "</style>\n",
       "<table border=\"1\" class=\"dataframe\">\n",
       "  <thead>\n",
       "    <tr style=\"text-align: right;\">\n",
       "      <th></th>\n",
       "      <th>debt</th>\n",
       "    </tr>\n",
       "    <tr>\n",
       "      <th>purpose_category</th>\n",
       "      <th></th>\n",
       "    </tr>\n",
       "  </thead>\n",
       "  <tbody>\n",
       "    <tr>\n",
       "      <th>операции с автомобилем</th>\n",
       "      <td>0.093590</td>\n",
       "    </tr>\n",
       "    <tr>\n",
       "      <th>получение образования</th>\n",
       "      <td>0.092200</td>\n",
       "    </tr>\n",
       "    <tr>\n",
       "      <th>проведение свадьбы</th>\n",
       "      <td>0.080034</td>\n",
       "    </tr>\n",
       "    <tr>\n",
       "      <th>операции с недвижимостью</th>\n",
       "      <td>0.072340</td>\n",
       "    </tr>\n",
       "  </tbody>\n",
       "</table>\n",
       "</div>"
      ],
      "text/plain": [
       "                              debt\n",
       "purpose_category                  \n",
       "операции с автомобилем    0.093590\n",
       "получение образования     0.092200\n",
       "проведение свадьбы        0.080034\n",
       "операции с недвижимостью  0.072340"
      ]
     },
     "execution_count": 31,
     "metadata": {},
     "output_type": "execute_result"
    }
   ],
   "source": [
    "bank_clients.pivot_table(index='purpose_category', values='debt', aggfunc='mean').sort_values(by='debt', ascending=False)\n",
    "#составим сводную таблицу распределения долгов по разным категориям, отсортируем данные по убыванию "
   ]
  },
  {
   "cell_type": "markdown",
   "id": "85fb868b",
   "metadata": {},
   "source": [
    "Можно сделать вывод, что чаще всего не возвращают кредит те, кто берет его на нужды, связанные с автомобилем, а возвращают чаще всего - при операциях с недвижимостью. "
   ]
  },
  {
   "cell_type": "markdown",
   "id": "8a0de373",
   "metadata": {},
   "source": [
    "[Содержание](#0)"
   ]
  },
  {
   "cell_type": "markdown",
   "id": "4127666f",
   "metadata": {},
   "source": [
    "##  Вывод\n",
    "<a id=4> </a>"
   ]
  },
  {
   "cell_type": "markdown",
   "id": "df94ae56",
   "metadata": {},
   "source": [
    "Мы проанализировали предоставленные данные о клиентах банка и пришли к следующим выводам:\n",
    "\n",
    "1. Клиенты без детей чаще всего возвращают кредит в срок.\n",
    "2. Клиенты с наименьшим доходом, до 30000 р в месяц, чаще всего не вернут кредит.\n",
    "3. Больше всего долгов по кредитам на нужды, связанные с автомобилем.\n",
    "4. Меньше всего долгов по кредитам, связанным с недвижимостью.\n",
    "5. У семейных людей и у тех, кто состоял в браке - меньше всего долгов по кредитам.\n",
    "6. Количество детей не влияет напрямую на возврат кредита в срок.\n",
    "7. Размер дохода не влияет напрямую на то, отдаст ли клиент кредит в срок."
   ]
  }
 ],
 "metadata": {
  "ExecuteTimeLog": [
   {
    "duration": 385,
    "start_time": "2022-05-22T14:48:02.943Z"
   },
   {
    "duration": 335,
    "start_time": "2022-05-22T14:52:03.226Z"
   },
   {
    "duration": 66,
    "start_time": "2022-05-22T14:55:24.537Z"
   },
   {
    "duration": 88,
    "start_time": "2022-05-22T14:55:41.556Z"
   },
   {
    "duration": 74,
    "start_time": "2022-05-22T14:56:02.924Z"
   },
   {
    "duration": 84,
    "start_time": "2022-05-22T14:57:31.859Z"
   },
   {
    "duration": 15,
    "start_time": "2022-05-22T14:57:35.880Z"
   },
   {
    "duration": 4,
    "start_time": "2022-05-22T15:42:18.587Z"
   },
   {
    "duration": 19,
    "start_time": "2022-05-22T15:44:10.809Z"
   },
   {
    "duration": 4,
    "start_time": "2022-05-22T15:45:04.497Z"
   },
   {
    "duration": 141,
    "start_time": "2022-05-22T16:00:03.403Z"
   },
   {
    "duration": 519,
    "start_time": "2022-05-22T16:00:28.509Z"
   },
   {
    "duration": 6,
    "start_time": "2022-05-22T16:02:49.414Z"
   },
   {
    "duration": 658,
    "start_time": "2022-05-22T16:10:19.381Z"
   },
   {
    "duration": 230,
    "start_time": "2022-05-22T16:10:38.115Z"
   },
   {
    "duration": 447,
    "start_time": "2022-05-22T16:11:22.314Z"
   },
   {
    "duration": 3,
    "start_time": "2022-05-22T16:11:42.449Z"
   },
   {
    "duration": 3,
    "start_time": "2022-05-22T16:11:46.489Z"
   },
   {
    "duration": 8,
    "start_time": "2022-05-22T16:11:56.588Z"
   },
   {
    "duration": 7,
    "start_time": "2022-05-22T16:12:03.892Z"
   },
   {
    "duration": 12,
    "start_time": "2022-05-22T16:27:17.167Z"
   },
   {
    "duration": 569,
    "start_time": "2022-05-22T16:28:05.102Z"
   },
   {
    "duration": 15,
    "start_time": "2022-05-22T16:28:05.673Z"
   },
   {
    "duration": 4,
    "start_time": "2022-05-22T16:28:05.689Z"
   },
   {
    "duration": 50,
    "start_time": "2022-05-22T16:28:05.695Z"
   },
   {
    "duration": 2,
    "start_time": "2022-05-22T16:28:05.750Z"
   },
   {
    "duration": 10,
    "start_time": "2022-05-22T16:28:05.753Z"
   },
   {
    "duration": 7,
    "start_time": "2022-05-22T16:28:05.764Z"
   },
   {
    "duration": 4,
    "start_time": "2022-05-22T16:40:17.363Z"
   },
   {
    "duration": 9,
    "start_time": "2022-05-22T16:40:26.359Z"
   },
   {
    "duration": 77,
    "start_time": "2022-05-22T16:48:23.717Z"
   },
   {
    "duration": 14,
    "start_time": "2022-05-22T16:52:00.627Z"
   },
   {
    "duration": 9,
    "start_time": "2022-05-22T16:54:40.205Z"
   },
   {
    "duration": 12,
    "start_time": "2022-05-22T16:55:14.476Z"
   },
   {
    "duration": 16,
    "start_time": "2022-05-22T16:55:45.404Z"
   },
   {
    "duration": 14,
    "start_time": "2022-05-22T16:59:51.001Z"
   },
   {
    "duration": 59,
    "start_time": "2022-05-23T17:30:17.011Z"
   },
   {
    "duration": 1073,
    "start_time": "2022-05-23T17:30:34.068Z"
   },
   {
    "duration": 18,
    "start_time": "2022-05-23T17:30:35.143Z"
   },
   {
    "duration": 9,
    "start_time": "2022-05-23T17:30:35.163Z"
   },
   {
    "duration": 6,
    "start_time": "2022-05-23T17:30:35.174Z"
   },
   {
    "duration": 5,
    "start_time": "2022-05-23T17:30:35.182Z"
   },
   {
    "duration": 11,
    "start_time": "2022-05-23T17:30:35.189Z"
   },
   {
    "duration": 8,
    "start_time": "2022-05-23T17:30:35.201Z"
   },
   {
    "duration": 17,
    "start_time": "2022-05-23T17:30:35.210Z"
   },
   {
    "duration": 80,
    "start_time": "2022-05-23T17:30:35.228Z"
   },
   {
    "duration": 12,
    "start_time": "2022-05-23T17:32:02.292Z"
   },
   {
    "duration": 4,
    "start_time": "2022-05-23T17:32:53.752Z"
   },
   {
    "duration": 5,
    "start_time": "2022-05-23T17:33:35.760Z"
   },
   {
    "duration": 4,
    "start_time": "2022-05-23T17:33:48.499Z"
   },
   {
    "duration": 4,
    "start_time": "2022-05-23T17:34:00.264Z"
   },
   {
    "duration": 7,
    "start_time": "2022-05-23T17:34:45.103Z"
   },
   {
    "duration": 23,
    "start_time": "2022-05-23T17:43:29.949Z"
   },
   {
    "duration": 19,
    "start_time": "2022-05-23T17:43:49.626Z"
   },
   {
    "duration": 24,
    "start_time": "2022-05-23T17:46:03.077Z"
   },
   {
    "duration": 33,
    "start_time": "2022-05-23T17:46:46.451Z"
   },
   {
    "duration": 30,
    "start_time": "2022-05-23T17:52:23.316Z"
   },
   {
    "duration": 33,
    "start_time": "2022-05-23T17:52:36.563Z"
   },
   {
    "duration": 497,
    "start_time": "2022-05-23T17:52:45.671Z"
   },
   {
    "duration": 18,
    "start_time": "2022-05-23T17:52:46.170Z"
   },
   {
    "duration": 4,
    "start_time": "2022-05-23T17:52:46.190Z"
   },
   {
    "duration": 6,
    "start_time": "2022-05-23T17:52:46.195Z"
   },
   {
    "duration": 2,
    "start_time": "2022-05-23T17:52:46.203Z"
   },
   {
    "duration": 6,
    "start_time": "2022-05-23T17:52:46.223Z"
   },
   {
    "duration": 7,
    "start_time": "2022-05-23T17:52:46.231Z"
   },
   {
    "duration": 11,
    "start_time": "2022-05-23T17:52:46.239Z"
   },
   {
    "duration": 13,
    "start_time": "2022-05-23T17:52:46.251Z"
   },
   {
    "duration": 20,
    "start_time": "2022-05-23T17:52:46.265Z"
   },
   {
    "duration": 57,
    "start_time": "2022-05-23T17:52:46.287Z"
   },
   {
    "duration": 89,
    "start_time": "2022-05-23T18:06:07.038Z"
   },
   {
    "duration": 9,
    "start_time": "2022-05-23T18:16:26.361Z"
   },
   {
    "duration": 3,
    "start_time": "2022-05-23T18:17:32.422Z"
   },
   {
    "duration": 19,
    "start_time": "2022-05-23T18:21:00.655Z"
   },
   {
    "duration": 60,
    "start_time": "2022-05-24T04:13:16.489Z"
   },
   {
    "duration": 570,
    "start_time": "2022-05-24T04:13:56.254Z"
   },
   {
    "duration": 27,
    "start_time": "2022-05-24T04:13:56.830Z"
   },
   {
    "duration": 6,
    "start_time": "2022-05-24T04:13:56.860Z"
   },
   {
    "duration": 13,
    "start_time": "2022-05-24T04:13:56.869Z"
   },
   {
    "duration": 7,
    "start_time": "2022-05-24T04:13:56.884Z"
   },
   {
    "duration": 11,
    "start_time": "2022-05-24T04:13:56.893Z"
   },
   {
    "duration": 8,
    "start_time": "2022-05-24T04:13:56.906Z"
   },
   {
    "duration": 5,
    "start_time": "2022-05-24T04:13:56.916Z"
   },
   {
    "duration": 21,
    "start_time": "2022-05-24T04:13:56.923Z"
   },
   {
    "duration": 27,
    "start_time": "2022-05-24T04:13:56.946Z"
   },
   {
    "duration": 38,
    "start_time": "2022-05-24T04:13:56.974Z"
   },
   {
    "duration": 77,
    "start_time": "2022-05-24T04:13:57.014Z"
   },
   {
    "duration": 20,
    "start_time": "2022-05-24T04:13:57.093Z"
   },
   {
    "duration": 15,
    "start_time": "2022-05-24T04:14:03.665Z"
   },
   {
    "duration": 37,
    "start_time": "2022-05-24T04:16:48.888Z"
   },
   {
    "duration": 23,
    "start_time": "2022-05-24T04:16:57.588Z"
   },
   {
    "duration": 529,
    "start_time": "2022-05-24T04:17:43.105Z"
   },
   {
    "duration": 16,
    "start_time": "2022-05-24T04:17:43.636Z"
   },
   {
    "duration": 5,
    "start_time": "2022-05-24T04:17:43.657Z"
   },
   {
    "duration": 6,
    "start_time": "2022-05-24T04:17:43.664Z"
   },
   {
    "duration": 21,
    "start_time": "2022-05-24T04:17:43.672Z"
   },
   {
    "duration": 13,
    "start_time": "2022-05-24T04:17:43.695Z"
   },
   {
    "duration": 6,
    "start_time": "2022-05-24T04:17:43.710Z"
   },
   {
    "duration": 6,
    "start_time": "2022-05-24T04:17:43.718Z"
   },
   {
    "duration": 9,
    "start_time": "2022-05-24T04:17:43.740Z"
   },
   {
    "duration": 19,
    "start_time": "2022-05-24T04:17:43.751Z"
   },
   {
    "duration": 29,
    "start_time": "2022-05-24T04:17:43.771Z"
   },
   {
    "duration": 65,
    "start_time": "2022-05-24T04:17:43.802Z"
   },
   {
    "duration": 17,
    "start_time": "2022-05-24T04:17:43.868Z"
   },
   {
    "duration": 15,
    "start_time": "2022-05-24T04:25:48.886Z"
   },
   {
    "duration": 29,
    "start_time": "2022-05-24T04:26:03.761Z"
   },
   {
    "duration": 565,
    "start_time": "2022-05-24T04:28:09.427Z"
   },
   {
    "duration": 19,
    "start_time": "2022-05-24T04:28:09.994Z"
   },
   {
    "duration": 9,
    "start_time": "2022-05-24T04:28:10.015Z"
   },
   {
    "duration": 11,
    "start_time": "2022-05-24T04:28:10.026Z"
   },
   {
    "duration": 21,
    "start_time": "2022-05-24T04:28:10.044Z"
   },
   {
    "duration": 11,
    "start_time": "2022-05-24T04:28:10.067Z"
   },
   {
    "duration": 12,
    "start_time": "2022-05-24T04:28:10.080Z"
   },
   {
    "duration": 16,
    "start_time": "2022-05-24T04:28:10.094Z"
   },
   {
    "duration": 7,
    "start_time": "2022-05-24T04:28:10.112Z"
   },
   {
    "duration": 31,
    "start_time": "2022-05-24T04:28:10.121Z"
   },
   {
    "duration": 32,
    "start_time": "2022-05-24T04:28:10.153Z"
   },
   {
    "duration": 2,
    "start_time": "2022-05-24T04:28:10.187Z"
   },
   {
    "duration": 23,
    "start_time": "2022-05-24T04:28:10.190Z"
   },
   {
    "duration": 6,
    "start_time": "2022-05-24T04:28:42.098Z"
   },
   {
    "duration": 48,
    "start_time": "2022-05-24T04:29:09.614Z"
   },
   {
    "duration": 16,
    "start_time": "2022-05-24T04:29:13.785Z"
   },
   {
    "duration": 5,
    "start_time": "2022-05-24T04:29:15.659Z"
   },
   {
    "duration": 46,
    "start_time": "2022-05-24T04:29:51.418Z"
   },
   {
    "duration": 6,
    "start_time": "2022-05-24T04:29:53.203Z"
   },
   {
    "duration": 51,
    "start_time": "2022-05-24T04:30:07.704Z"
   },
   {
    "duration": 11,
    "start_time": "2022-05-24T04:30:12.144Z"
   },
   {
    "duration": 53,
    "start_time": "2022-05-24T04:30:40.584Z"
   },
   {
    "duration": 8,
    "start_time": "2022-05-24T04:30:44.070Z"
   },
   {
    "duration": 30,
    "start_time": "2022-05-24T04:30:48.334Z"
   },
   {
    "duration": 525,
    "start_time": "2022-05-24T04:31:29.694Z"
   },
   {
    "duration": 19,
    "start_time": "2022-05-24T04:31:30.222Z"
   },
   {
    "duration": 9,
    "start_time": "2022-05-24T04:31:30.242Z"
   },
   {
    "duration": 20,
    "start_time": "2022-05-24T04:31:30.254Z"
   },
   {
    "duration": 25,
    "start_time": "2022-05-24T04:31:30.276Z"
   },
   {
    "duration": 27,
    "start_time": "2022-05-24T04:31:30.303Z"
   },
   {
    "duration": 21,
    "start_time": "2022-05-24T04:31:30.331Z"
   },
   {
    "duration": 11,
    "start_time": "2022-05-24T04:31:30.354Z"
   },
   {
    "duration": 21,
    "start_time": "2022-05-24T04:31:30.367Z"
   },
   {
    "duration": 30,
    "start_time": "2022-05-24T04:31:30.390Z"
   },
   {
    "duration": 30,
    "start_time": "2022-05-24T04:31:30.421Z"
   },
   {
    "duration": 45,
    "start_time": "2022-05-24T04:31:30.453Z"
   },
   {
    "duration": 25,
    "start_time": "2022-05-24T04:31:30.499Z"
   },
   {
    "duration": 20,
    "start_time": "2022-05-24T04:31:30.525Z"
   },
   {
    "duration": 33,
    "start_time": "2022-05-24T04:33:49.552Z"
   },
   {
    "duration": 10,
    "start_time": "2022-05-24T04:36:48.666Z"
   },
   {
    "duration": 20,
    "start_time": "2022-05-24T04:37:06.975Z"
   },
   {
    "duration": 26,
    "start_time": "2022-05-24T04:45:47.424Z"
   },
   {
    "duration": 27,
    "start_time": "2022-05-24T04:55:32.937Z"
   },
   {
    "duration": 3,
    "start_time": "2022-05-24T05:00:38.210Z"
   },
   {
    "duration": 6,
    "start_time": "2022-05-24T05:00:59.034Z"
   },
   {
    "duration": 6,
    "start_time": "2022-05-24T05:01:16.440Z"
   },
   {
    "duration": 5,
    "start_time": "2022-05-24T05:01:48.692Z"
   },
   {
    "duration": 503,
    "start_time": "2022-05-24T05:05:09.929Z"
   },
   {
    "duration": 13,
    "start_time": "2022-05-24T05:06:55.515Z"
   },
   {
    "duration": 42,
    "start_time": "2022-05-24T05:11:02.743Z"
   },
   {
    "duration": 5,
    "start_time": "2022-05-24T05:11:16.900Z"
   },
   {
    "duration": 137,
    "start_time": "2022-05-24T05:11:38.418Z"
   },
   {
    "duration": 27,
    "start_time": "2022-05-24T05:12:16.013Z"
   },
   {
    "duration": 6,
    "start_time": "2022-05-24T05:15:48.451Z"
   },
   {
    "duration": 14,
    "start_time": "2022-05-24T05:16:07.490Z"
   },
   {
    "duration": 588,
    "start_time": "2022-05-24T13:25:49.290Z"
   },
   {
    "duration": 16,
    "start_time": "2022-05-24T13:25:49.880Z"
   },
   {
    "duration": 5,
    "start_time": "2022-05-24T13:25:49.897Z"
   },
   {
    "duration": 6,
    "start_time": "2022-05-24T13:25:49.904Z"
   },
   {
    "duration": 4,
    "start_time": "2022-05-24T13:25:49.912Z"
   },
   {
    "duration": 8,
    "start_time": "2022-05-24T13:25:49.917Z"
   },
   {
    "duration": 5,
    "start_time": "2022-05-24T13:25:49.927Z"
   },
   {
    "duration": 6,
    "start_time": "2022-05-24T13:25:49.934Z"
   },
   {
    "duration": 6,
    "start_time": "2022-05-24T13:25:49.942Z"
   },
   {
    "duration": 53,
    "start_time": "2022-05-24T13:25:49.951Z"
   },
   {
    "duration": 41,
    "start_time": "2022-05-24T13:25:50.006Z"
   },
   {
    "duration": 61,
    "start_time": "2022-05-24T13:25:50.049Z"
   },
   {
    "duration": 25,
    "start_time": "2022-05-24T13:25:50.111Z"
   },
   {
    "duration": 35,
    "start_time": "2022-05-24T13:25:50.137Z"
   },
   {
    "duration": 4,
    "start_time": "2022-05-24T13:25:50.173Z"
   },
   {
    "duration": 0,
    "start_time": "2022-05-24T13:25:50.202Z"
   },
   {
    "duration": 0,
    "start_time": "2022-05-24T13:25:50.203Z"
   },
   {
    "duration": 0,
    "start_time": "2022-05-24T13:25:50.205Z"
   },
   {
    "duration": 0,
    "start_time": "2022-05-24T13:25:50.206Z"
   },
   {
    "duration": 506,
    "start_time": "2022-05-24T13:26:17.920Z"
   },
   {
    "duration": 21,
    "start_time": "2022-05-24T13:26:18.428Z"
   },
   {
    "duration": 8,
    "start_time": "2022-05-24T13:26:18.451Z"
   },
   {
    "duration": 8,
    "start_time": "2022-05-24T13:26:18.461Z"
   },
   {
    "duration": 8,
    "start_time": "2022-05-24T13:26:18.470Z"
   },
   {
    "duration": 24,
    "start_time": "2022-05-24T13:26:18.479Z"
   },
   {
    "duration": 5,
    "start_time": "2022-05-24T13:26:18.505Z"
   },
   {
    "duration": 8,
    "start_time": "2022-05-24T13:26:18.512Z"
   },
   {
    "duration": 11,
    "start_time": "2022-05-24T13:26:18.522Z"
   },
   {
    "duration": 18,
    "start_time": "2022-05-24T13:26:18.536Z"
   },
   {
    "duration": 51,
    "start_time": "2022-05-24T13:26:18.555Z"
   },
   {
    "duration": 46,
    "start_time": "2022-05-24T13:26:18.608Z"
   },
   {
    "duration": 25,
    "start_time": "2022-05-24T13:26:18.655Z"
   },
   {
    "duration": 34,
    "start_time": "2022-05-24T13:26:18.701Z"
   },
   {
    "duration": 68,
    "start_time": "2022-05-24T13:26:18.737Z"
   },
   {
    "duration": 9,
    "start_time": "2022-05-24T13:26:18.806Z"
   },
   {
    "duration": 14,
    "start_time": "2022-05-24T13:26:18.816Z"
   },
   {
    "duration": 12,
    "start_time": "2022-05-24T13:26:18.831Z"
   },
   {
    "duration": 599,
    "start_time": "2022-05-24T14:24:33.505Z"
   },
   {
    "duration": 20,
    "start_time": "2022-05-24T14:24:34.106Z"
   },
   {
    "duration": 5,
    "start_time": "2022-05-24T14:24:34.128Z"
   },
   {
    "duration": 23,
    "start_time": "2022-05-24T14:24:34.135Z"
   },
   {
    "duration": 5,
    "start_time": "2022-05-24T14:24:34.160Z"
   },
   {
    "duration": 8,
    "start_time": "2022-05-24T14:24:34.166Z"
   },
   {
    "duration": 6,
    "start_time": "2022-05-24T14:24:34.176Z"
   },
   {
    "duration": 21,
    "start_time": "2022-05-24T14:24:34.184Z"
   },
   {
    "duration": 9,
    "start_time": "2022-05-24T14:24:34.206Z"
   },
   {
    "duration": 24,
    "start_time": "2022-05-24T14:24:34.219Z"
   },
   {
    "duration": 63,
    "start_time": "2022-05-24T14:24:34.245Z"
   },
   {
    "duration": 68,
    "start_time": "2022-05-24T14:24:34.311Z"
   },
   {
    "duration": 52,
    "start_time": "2022-05-24T14:24:34.381Z"
   },
   {
    "duration": 36,
    "start_time": "2022-05-24T14:24:34.435Z"
   },
   {
    "duration": 54,
    "start_time": "2022-05-24T14:24:34.473Z"
   },
   {
    "duration": 10,
    "start_time": "2022-05-24T14:24:34.528Z"
   },
   {
    "duration": 30,
    "start_time": "2022-05-24T14:24:34.540Z"
   },
   {
    "duration": 35,
    "start_time": "2022-05-24T14:24:34.572Z"
   },
   {
    "duration": 7,
    "start_time": "2022-05-24T14:24:34.608Z"
   },
   {
    "duration": 72,
    "start_time": "2022-05-24T14:25:02.636Z"
   },
   {
    "duration": 20,
    "start_time": "2022-05-24T14:25:11.550Z"
   },
   {
    "duration": 9,
    "start_time": "2022-05-24T14:26:09.040Z"
   },
   {
    "duration": 5,
    "start_time": "2022-05-24T14:33:27.200Z"
   },
   {
    "duration": 15,
    "start_time": "2022-05-24T14:36:18.159Z"
   },
   {
    "duration": 21,
    "start_time": "2022-05-24T15:39:09.815Z"
   },
   {
    "duration": 19,
    "start_time": "2022-05-24T15:39:19.361Z"
   },
   {
    "duration": 38,
    "start_time": "2022-05-24T15:39:41.253Z"
   },
   {
    "duration": 37,
    "start_time": "2022-05-24T15:41:38.665Z"
   },
   {
    "duration": 30,
    "start_time": "2022-05-24T15:41:51.578Z"
   },
   {
    "duration": 41,
    "start_time": "2022-05-24T15:42:16.129Z"
   },
   {
    "duration": 27,
    "start_time": "2022-05-24T15:44:47.712Z"
   },
   {
    "duration": 558,
    "start_time": "2022-05-24T15:46:39.954Z"
   },
   {
    "duration": 7,
    "start_time": "2022-05-24T15:47:04.311Z"
   },
   {
    "duration": 7,
    "start_time": "2022-05-24T15:48:15.819Z"
   },
   {
    "duration": 420,
    "start_time": "2022-05-24T15:48:30.875Z"
   },
   {
    "duration": 5,
    "start_time": "2022-05-24T15:48:45.852Z"
   },
   {
    "duration": 8,
    "start_time": "2022-05-24T15:58:49.069Z"
   },
   {
    "duration": 13,
    "start_time": "2022-05-24T15:59:13.306Z"
   },
   {
    "duration": 21,
    "start_time": "2022-05-24T15:59:50.434Z"
   },
   {
    "duration": 20,
    "start_time": "2022-05-24T15:59:55.394Z"
   },
   {
    "duration": 15,
    "start_time": "2022-05-24T16:00:13.854Z"
   },
   {
    "duration": 37,
    "start_time": "2022-05-24T16:00:27.697Z"
   },
   {
    "duration": 13,
    "start_time": "2022-05-24T16:00:35.147Z"
   },
   {
    "duration": 26,
    "start_time": "2022-05-24T16:00:43.520Z"
   },
   {
    "duration": 15,
    "start_time": "2022-05-24T16:01:26.148Z"
   },
   {
    "duration": 17,
    "start_time": "2022-05-24T16:01:37.982Z"
   },
   {
    "duration": 18,
    "start_time": "2022-05-24T16:07:49.521Z"
   },
   {
    "duration": 15,
    "start_time": "2022-05-24T16:08:57.323Z"
   },
   {
    "duration": 21,
    "start_time": "2022-05-24T16:09:32.889Z"
   },
   {
    "duration": 12,
    "start_time": "2022-05-24T16:15:00.972Z"
   },
   {
    "duration": 10,
    "start_time": "2022-05-24T16:15:07.958Z"
   },
   {
    "duration": 11,
    "start_time": "2022-05-24T16:15:15.835Z"
   },
   {
    "duration": 11,
    "start_time": "2022-05-24T16:15:26.943Z"
   },
   {
    "duration": 8,
    "start_time": "2022-05-24T16:16:43.100Z"
   },
   {
    "duration": 11,
    "start_time": "2022-05-24T16:16:58.311Z"
   },
   {
    "duration": 481,
    "start_time": "2022-05-24T16:17:36.161Z"
   },
   {
    "duration": 16,
    "start_time": "2022-05-24T16:17:36.644Z"
   },
   {
    "duration": 4,
    "start_time": "2022-05-24T16:17:36.661Z"
   },
   {
    "duration": 7,
    "start_time": "2022-05-24T16:17:36.667Z"
   },
   {
    "duration": 2,
    "start_time": "2022-05-24T16:17:36.677Z"
   },
   {
    "duration": 24,
    "start_time": "2022-05-24T16:17:36.681Z"
   },
   {
    "duration": 5,
    "start_time": "2022-05-24T16:17:36.706Z"
   },
   {
    "duration": 4,
    "start_time": "2022-05-24T16:17:36.713Z"
   },
   {
    "duration": 8,
    "start_time": "2022-05-24T16:17:36.719Z"
   },
   {
    "duration": 18,
    "start_time": "2022-05-24T16:17:36.729Z"
   },
   {
    "duration": 55,
    "start_time": "2022-05-24T16:17:36.749Z"
   },
   {
    "duration": 46,
    "start_time": "2022-05-24T16:17:36.805Z"
   },
   {
    "duration": 26,
    "start_time": "2022-05-24T16:17:36.853Z"
   },
   {
    "duration": 52,
    "start_time": "2022-05-24T16:17:36.882Z"
   },
   {
    "duration": 29,
    "start_time": "2022-05-24T16:17:36.936Z"
   },
   {
    "duration": 42,
    "start_time": "2022-05-24T16:17:36.967Z"
   },
   {
    "duration": 12,
    "start_time": "2022-05-24T16:17:37.010Z"
   },
   {
    "duration": 9,
    "start_time": "2022-05-24T16:17:37.023Z"
   },
   {
    "duration": 9,
    "start_time": "2022-05-24T16:17:37.034Z"
   },
   {
    "duration": 12,
    "start_time": "2022-05-24T16:17:37.045Z"
   },
   {
    "duration": 49,
    "start_time": "2022-05-24T16:17:37.059Z"
   },
   {
    "duration": 15,
    "start_time": "2022-05-24T16:17:37.109Z"
   },
   {
    "duration": 16,
    "start_time": "2022-05-24T16:17:37.125Z"
   },
   {
    "duration": 477,
    "start_time": "2022-05-24T16:17:58.535Z"
   },
   {
    "duration": 16,
    "start_time": "2022-05-24T16:17:59.013Z"
   },
   {
    "duration": 4,
    "start_time": "2022-05-24T16:17:59.030Z"
   },
   {
    "duration": 5,
    "start_time": "2022-05-24T16:17:59.036Z"
   },
   {
    "duration": 5,
    "start_time": "2022-05-24T16:17:59.042Z"
   },
   {
    "duration": 11,
    "start_time": "2022-05-24T16:17:59.048Z"
   },
   {
    "duration": 6,
    "start_time": "2022-05-24T16:17:59.060Z"
   },
   {
    "duration": 4,
    "start_time": "2022-05-24T16:17:59.067Z"
   },
   {
    "duration": 30,
    "start_time": "2022-05-24T16:17:59.073Z"
   },
   {
    "duration": 17,
    "start_time": "2022-05-24T16:17:59.105Z"
   },
   {
    "duration": 31,
    "start_time": "2022-05-24T16:17:59.124Z"
   },
   {
    "duration": 76,
    "start_time": "2022-05-24T16:17:59.157Z"
   },
   {
    "duration": 36,
    "start_time": "2022-05-24T16:17:59.235Z"
   },
   {
    "duration": 54,
    "start_time": "2022-05-24T16:17:59.273Z"
   },
   {
    "duration": 28,
    "start_time": "2022-05-24T16:17:59.329Z"
   },
   {
    "duration": 7,
    "start_time": "2022-05-24T16:17:59.359Z"
   },
   {
    "duration": 45,
    "start_time": "2022-05-24T16:17:59.368Z"
   },
   {
    "duration": 10,
    "start_time": "2022-05-24T16:17:59.415Z"
   },
   {
    "duration": 10,
    "start_time": "2022-05-24T16:17:59.426Z"
   },
   {
    "duration": 14,
    "start_time": "2022-05-24T16:17:59.438Z"
   },
   {
    "duration": 16,
    "start_time": "2022-05-24T16:17:59.453Z"
   },
   {
    "duration": 15,
    "start_time": "2022-05-24T16:17:59.502Z"
   },
   {
    "duration": 16,
    "start_time": "2022-05-24T16:17:59.519Z"
   },
   {
    "duration": 80,
    "start_time": "2022-05-25T15:00:46.524Z"
   },
   {
    "duration": 53,
    "start_time": "2022-05-25T15:01:33.780Z"
   },
   {
    "duration": 664,
    "start_time": "2022-05-25T15:01:51.000Z"
   },
   {
    "duration": 24,
    "start_time": "2022-05-25T15:01:51.666Z"
   },
   {
    "duration": 12,
    "start_time": "2022-05-25T15:01:51.692Z"
   },
   {
    "duration": 9,
    "start_time": "2022-05-25T15:01:51.706Z"
   },
   {
    "duration": 6,
    "start_time": "2022-05-25T15:01:51.717Z"
   },
   {
    "duration": 29,
    "start_time": "2022-05-25T15:01:51.725Z"
   },
   {
    "duration": 35,
    "start_time": "2022-05-25T15:01:51.755Z"
   },
   {
    "duration": 7,
    "start_time": "2022-05-25T15:01:51.793Z"
   },
   {
    "duration": 10,
    "start_time": "2022-05-25T15:01:51.801Z"
   },
   {
    "duration": 19,
    "start_time": "2022-05-25T15:01:51.814Z"
   },
   {
    "duration": 57,
    "start_time": "2022-05-25T15:01:51.834Z"
   },
   {
    "duration": 71,
    "start_time": "2022-05-25T15:01:51.892Z"
   },
   {
    "duration": 33,
    "start_time": "2022-05-25T15:01:51.965Z"
   },
   {
    "duration": 36,
    "start_time": "2022-05-25T15:01:52.000Z"
   },
   {
    "duration": 67,
    "start_time": "2022-05-25T15:01:52.038Z"
   },
   {
    "duration": 9,
    "start_time": "2022-05-25T15:01:52.107Z"
   },
   {
    "duration": 39,
    "start_time": "2022-05-25T15:01:52.117Z"
   },
   {
    "duration": 28,
    "start_time": "2022-05-25T15:01:52.167Z"
   },
   {
    "duration": 13,
    "start_time": "2022-05-25T15:01:52.196Z"
   },
   {
    "duration": 18,
    "start_time": "2022-05-25T15:01:52.211Z"
   },
   {
    "duration": 37,
    "start_time": "2022-05-25T15:01:52.231Z"
   },
   {
    "duration": 38,
    "start_time": "2022-05-25T15:01:52.270Z"
   },
   {
    "duration": 19,
    "start_time": "2022-05-25T15:01:52.309Z"
   },
   {
    "duration": 98,
    "start_time": "2022-05-25T15:01:52.330Z"
   },
   {
    "duration": 5,
    "start_time": "2022-05-25T15:44:24.006Z"
   },
   {
    "duration": 4,
    "start_time": "2022-05-25T15:48:14.616Z"
   },
   {
    "duration": 8,
    "start_time": "2022-05-25T15:48:50.000Z"
   },
   {
    "duration": 7,
    "start_time": "2022-05-25T15:52:13.876Z"
   },
   {
    "duration": 10,
    "start_time": "2022-05-25T15:52:41.858Z"
   },
   {
    "duration": 19,
    "start_time": "2022-05-25T15:53:04.314Z"
   },
   {
    "duration": 43,
    "start_time": "2022-05-25T16:09:39.727Z"
   },
   {
    "duration": 26,
    "start_time": "2022-05-25T16:09:55.069Z"
   },
   {
    "duration": 78,
    "start_time": "2022-05-25T16:10:02.056Z"
   },
   {
    "duration": 11,
    "start_time": "2022-05-25T16:10:09.122Z"
   },
   {
    "duration": 3,
    "start_time": "2022-05-25T16:12:00.065Z"
   },
   {
    "duration": 3,
    "start_time": "2022-05-25T16:12:05.972Z"
   },
   {
    "duration": 5,
    "start_time": "2022-05-25T16:12:15.577Z"
   },
   {
    "duration": 4,
    "start_time": "2022-05-25T16:13:08.321Z"
   },
   {
    "duration": 4,
    "start_time": "2022-05-25T16:13:58.372Z"
   },
   {
    "duration": 7,
    "start_time": "2022-05-25T16:15:56.258Z"
   },
   {
    "duration": 8,
    "start_time": "2022-05-25T16:16:24.516Z"
   },
   {
    "duration": 10,
    "start_time": "2022-05-25T16:18:44.671Z"
   },
   {
    "duration": 27,
    "start_time": "2022-05-25T16:19:06.929Z"
   },
   {
    "duration": 30,
    "start_time": "2022-05-25T16:22:41.223Z"
   },
   {
    "duration": 21,
    "start_time": "2022-05-25T16:23:20.293Z"
   },
   {
    "duration": 609,
    "start_time": "2022-05-25T16:30:44.366Z"
   },
   {
    "duration": 19,
    "start_time": "2022-05-25T16:30:44.980Z"
   },
   {
    "duration": 4,
    "start_time": "2022-05-25T16:30:45.001Z"
   },
   {
    "duration": 13,
    "start_time": "2022-05-25T16:30:45.007Z"
   },
   {
    "duration": 7,
    "start_time": "2022-05-25T16:30:45.022Z"
   },
   {
    "duration": 15,
    "start_time": "2022-05-25T16:30:45.030Z"
   },
   {
    "duration": 46,
    "start_time": "2022-05-25T16:30:45.046Z"
   },
   {
    "duration": 5,
    "start_time": "2022-05-25T16:30:45.094Z"
   },
   {
    "duration": 8,
    "start_time": "2022-05-25T16:30:45.100Z"
   },
   {
    "duration": 31,
    "start_time": "2022-05-25T16:30:45.110Z"
   },
   {
    "duration": 42,
    "start_time": "2022-05-25T16:30:45.142Z"
   },
   {
    "duration": 56,
    "start_time": "2022-05-25T16:30:45.188Z"
   },
   {
    "duration": 43,
    "start_time": "2022-05-25T16:30:45.250Z"
   },
   {
    "duration": 33,
    "start_time": "2022-05-25T16:30:45.295Z"
   },
   {
    "duration": 65,
    "start_time": "2022-05-25T16:30:45.330Z"
   },
   {
    "duration": 8,
    "start_time": "2022-05-25T16:30:45.397Z"
   },
   {
    "duration": 15,
    "start_time": "2022-05-25T16:30:45.406Z"
   },
   {
    "duration": 17,
    "start_time": "2022-05-25T16:30:45.422Z"
   },
   {
    "duration": 26,
    "start_time": "2022-05-25T16:30:45.440Z"
   },
   {
    "duration": 35,
    "start_time": "2022-05-25T16:30:45.468Z"
   },
   {
    "duration": 26,
    "start_time": "2022-05-25T16:30:45.505Z"
   },
   {
    "duration": 24,
    "start_time": "2022-05-25T16:30:45.532Z"
   },
   {
    "duration": 43,
    "start_time": "2022-05-25T16:30:45.561Z"
   },
   {
    "duration": 6,
    "start_time": "2022-05-25T16:30:45.606Z"
   },
   {
    "duration": 24,
    "start_time": "2022-05-25T16:30:45.613Z"
   },
   {
    "duration": 47,
    "start_time": "2022-05-25T16:30:45.638Z"
   },
   {
    "duration": 28,
    "start_time": "2022-05-25T16:30:45.686Z"
   },
   {
    "duration": 14,
    "start_time": "2022-05-25T16:38:49.618Z"
   },
   {
    "duration": 34,
    "start_time": "2022-05-25T16:42:38.348Z"
   },
   {
    "duration": 24,
    "start_time": "2022-05-25T16:52:06.002Z"
   },
   {
    "duration": 73,
    "start_time": "2022-05-25T16:55:24.440Z"
   },
   {
    "duration": 4,
    "start_time": "2022-05-25T16:55:30.660Z"
   },
   {
    "duration": 4,
    "start_time": "2022-05-25T16:57:06.566Z"
   },
   {
    "duration": 8,
    "start_time": "2022-05-25T16:57:43.680Z"
   },
   {
    "duration": 5,
    "start_time": "2022-05-25T16:57:50.380Z"
   },
   {
    "duration": 6,
    "start_time": "2022-05-25T16:58:03.453Z"
   },
   {
    "duration": 14,
    "start_time": "2022-05-25T16:59:45.596Z"
   },
   {
    "duration": 16,
    "start_time": "2022-05-25T17:00:07.519Z"
   },
   {
    "duration": 5,
    "start_time": "2022-05-25T17:00:35.988Z"
   },
   {
    "duration": 6,
    "start_time": "2022-05-25T17:01:42.281Z"
   },
   {
    "duration": 59,
    "start_time": "2022-05-25T17:08:17.524Z"
   },
   {
    "duration": 32,
    "start_time": "2022-05-25T17:08:24.214Z"
   },
   {
    "duration": 48,
    "start_time": "2022-05-25T17:42:11.110Z"
   },
   {
    "duration": 39,
    "start_time": "2022-05-25T17:42:35.919Z"
   },
   {
    "duration": 22,
    "start_time": "2022-05-25T17:43:02.715Z"
   },
   {
    "duration": 22,
    "start_time": "2022-05-25T17:43:29.501Z"
   },
   {
    "duration": 511,
    "start_time": "2022-05-25T17:45:39.794Z"
   },
   {
    "duration": 20,
    "start_time": "2022-05-25T17:45:40.307Z"
   },
   {
    "duration": 14,
    "start_time": "2022-05-25T17:45:40.328Z"
   },
   {
    "duration": 7,
    "start_time": "2022-05-25T17:45:40.345Z"
   },
   {
    "duration": 14,
    "start_time": "2022-05-25T17:45:40.354Z"
   },
   {
    "duration": 9,
    "start_time": "2022-05-25T17:45:40.370Z"
   },
   {
    "duration": 19,
    "start_time": "2022-05-25T17:45:40.381Z"
   },
   {
    "duration": 8,
    "start_time": "2022-05-25T17:45:40.402Z"
   },
   {
    "duration": 8,
    "start_time": "2022-05-25T17:45:40.412Z"
   },
   {
    "duration": 34,
    "start_time": "2022-05-25T17:45:40.424Z"
   },
   {
    "duration": 31,
    "start_time": "2022-05-25T17:45:40.460Z"
   },
   {
    "duration": 76,
    "start_time": "2022-05-25T17:45:40.493Z"
   },
   {
    "duration": 26,
    "start_time": "2022-05-25T17:45:40.571Z"
   },
   {
    "duration": 51,
    "start_time": "2022-05-25T17:45:40.599Z"
   },
   {
    "duration": 28,
    "start_time": "2022-05-25T17:45:40.653Z"
   },
   {
    "duration": 8,
    "start_time": "2022-05-25T17:45:40.683Z"
   },
   {
    "duration": 70,
    "start_time": "2022-05-25T17:45:40.693Z"
   },
   {
    "duration": 12,
    "start_time": "2022-05-25T17:45:40.764Z"
   },
   {
    "duration": 10,
    "start_time": "2022-05-25T17:45:40.777Z"
   },
   {
    "duration": 13,
    "start_time": "2022-05-25T17:45:40.788Z"
   },
   {
    "duration": 40,
    "start_time": "2022-05-25T17:45:40.803Z"
   },
   {
    "duration": 21,
    "start_time": "2022-05-25T17:45:40.845Z"
   },
   {
    "duration": 19,
    "start_time": "2022-05-25T17:45:40.868Z"
   },
   {
    "duration": 15,
    "start_time": "2022-05-25T17:45:40.889Z"
   },
   {
    "duration": 5,
    "start_time": "2022-05-25T17:45:40.906Z"
   },
   {
    "duration": 23,
    "start_time": "2022-05-25T17:45:40.944Z"
   },
   {
    "duration": 13,
    "start_time": "2022-05-25T17:45:40.968Z"
   },
   {
    "duration": 24,
    "start_time": "2022-05-25T17:45:40.983Z"
   },
   {
    "duration": 60,
    "start_time": "2022-05-25T17:45:41.008Z"
   },
   {
    "duration": 3,
    "start_time": "2022-05-25T17:46:59.653Z"
   },
   {
    "duration": 93,
    "start_time": "2022-05-25T17:47:01.957Z"
   },
   {
    "duration": 571,
    "start_time": "2022-05-25T17:47:31.440Z"
   },
   {
    "duration": 18,
    "start_time": "2022-05-25T17:47:32.013Z"
   },
   {
    "duration": 6,
    "start_time": "2022-05-25T17:47:32.042Z"
   },
   {
    "duration": 25,
    "start_time": "2022-05-25T17:47:32.051Z"
   },
   {
    "duration": 6,
    "start_time": "2022-05-25T17:47:32.078Z"
   },
   {
    "duration": 9,
    "start_time": "2022-05-25T17:47:32.085Z"
   },
   {
    "duration": 7,
    "start_time": "2022-05-25T17:47:32.095Z"
   },
   {
    "duration": 7,
    "start_time": "2022-05-25T17:47:32.103Z"
   },
   {
    "duration": 9,
    "start_time": "2022-05-25T17:47:32.112Z"
   },
   {
    "duration": 41,
    "start_time": "2022-05-25T17:47:32.124Z"
   },
   {
    "duration": 29,
    "start_time": "2022-05-25T17:47:32.167Z"
   },
   {
    "duration": 71,
    "start_time": "2022-05-25T17:47:32.198Z"
   },
   {
    "duration": 26,
    "start_time": "2022-05-25T17:47:32.271Z"
   },
   {
    "duration": 52,
    "start_time": "2022-05-25T17:47:32.299Z"
   },
   {
    "duration": 28,
    "start_time": "2022-05-25T17:47:32.353Z"
   },
   {
    "duration": 3,
    "start_time": "2022-05-25T17:47:32.382Z"
   },
   {
    "duration": 57,
    "start_time": "2022-05-25T17:47:32.386Z"
   },
   {
    "duration": 19,
    "start_time": "2022-05-25T17:47:32.445Z"
   },
   {
    "duration": 14,
    "start_time": "2022-05-25T17:47:32.465Z"
   },
   {
    "duration": 10,
    "start_time": "2022-05-25T17:47:32.481Z"
   },
   {
    "duration": 14,
    "start_time": "2022-05-25T17:47:32.493Z"
   },
   {
    "duration": 49,
    "start_time": "2022-05-25T17:47:32.509Z"
   },
   {
    "duration": 15,
    "start_time": "2022-05-25T17:47:32.560Z"
   },
   {
    "duration": 18,
    "start_time": "2022-05-25T17:47:32.577Z"
   },
   {
    "duration": 5,
    "start_time": "2022-05-25T17:47:32.597Z"
   },
   {
    "duration": 53,
    "start_time": "2022-05-25T17:47:32.604Z"
   },
   {
    "duration": 10,
    "start_time": "2022-05-25T17:47:32.658Z"
   },
   {
    "duration": 26,
    "start_time": "2022-05-25T17:47:32.671Z"
   },
   {
    "duration": 60,
    "start_time": "2022-05-25T17:47:32.698Z"
   },
   {
    "duration": 68,
    "start_time": "2022-05-26T03:30:38.584Z"
   },
   {
    "duration": 796,
    "start_time": "2022-05-26T03:30:59.544Z"
   },
   {
    "duration": 19,
    "start_time": "2022-05-26T03:31:00.342Z"
   },
   {
    "duration": 10,
    "start_time": "2022-05-26T03:31:00.362Z"
   },
   {
    "duration": 19,
    "start_time": "2022-05-26T03:31:00.374Z"
   },
   {
    "duration": 99,
    "start_time": "2022-05-26T03:31:00.395Z"
   },
   {
    "duration": 0,
    "start_time": "2022-05-26T03:31:00.496Z"
   },
   {
    "duration": 0,
    "start_time": "2022-05-26T03:31:00.498Z"
   },
   {
    "duration": 0,
    "start_time": "2022-05-26T03:31:00.499Z"
   },
   {
    "duration": 0,
    "start_time": "2022-05-26T03:31:00.500Z"
   },
   {
    "duration": 0,
    "start_time": "2022-05-26T03:31:00.502Z"
   },
   {
    "duration": 0,
    "start_time": "2022-05-26T03:31:00.502Z"
   },
   {
    "duration": 0,
    "start_time": "2022-05-26T03:31:00.503Z"
   },
   {
    "duration": 0,
    "start_time": "2022-05-26T03:31:00.505Z"
   },
   {
    "duration": 0,
    "start_time": "2022-05-26T03:31:00.527Z"
   },
   {
    "duration": 0,
    "start_time": "2022-05-26T03:31:00.528Z"
   },
   {
    "duration": 0,
    "start_time": "2022-05-26T03:31:00.529Z"
   },
   {
    "duration": 0,
    "start_time": "2022-05-26T03:31:00.530Z"
   },
   {
    "duration": 0,
    "start_time": "2022-05-26T03:31:00.531Z"
   },
   {
    "duration": 1,
    "start_time": "2022-05-26T03:31:00.532Z"
   },
   {
    "duration": 0,
    "start_time": "2022-05-26T03:31:00.533Z"
   },
   {
    "duration": 0,
    "start_time": "2022-05-26T03:31:00.534Z"
   },
   {
    "duration": 0,
    "start_time": "2022-05-26T03:31:00.536Z"
   },
   {
    "duration": 0,
    "start_time": "2022-05-26T03:31:00.537Z"
   },
   {
    "duration": 0,
    "start_time": "2022-05-26T03:31:00.537Z"
   },
   {
    "duration": 0,
    "start_time": "2022-05-26T03:31:00.539Z"
   },
   {
    "duration": 0,
    "start_time": "2022-05-26T03:31:00.540Z"
   },
   {
    "duration": 0,
    "start_time": "2022-05-26T03:31:00.541Z"
   },
   {
    "duration": 0,
    "start_time": "2022-05-26T03:31:00.542Z"
   },
   {
    "duration": 6,
    "start_time": "2022-05-26T03:32:13.871Z"
   },
   {
    "duration": 10,
    "start_time": "2022-05-26T03:37:37.438Z"
   },
   {
    "duration": 24,
    "start_time": "2022-05-26T03:46:51.416Z"
   },
   {
    "duration": 10,
    "start_time": "2022-05-26T03:47:12.608Z"
   },
   {
    "duration": 519,
    "start_time": "2022-05-26T03:49:32.626Z"
   },
   {
    "duration": 16,
    "start_time": "2022-05-26T03:49:33.146Z"
   },
   {
    "duration": 4,
    "start_time": "2022-05-26T03:49:33.163Z"
   },
   {
    "duration": 7,
    "start_time": "2022-05-26T03:49:33.169Z"
   },
   {
    "duration": 9,
    "start_time": "2022-05-26T03:49:33.177Z"
   },
   {
    "duration": 11,
    "start_time": "2022-05-26T03:49:33.187Z"
   },
   {
    "duration": 6,
    "start_time": "2022-05-26T03:49:33.199Z"
   },
   {
    "duration": 20,
    "start_time": "2022-05-26T03:49:33.206Z"
   },
   {
    "duration": 6,
    "start_time": "2022-05-26T03:49:33.227Z"
   },
   {
    "duration": 21,
    "start_time": "2022-05-26T03:49:33.236Z"
   },
   {
    "duration": 29,
    "start_time": "2022-05-26T03:49:33.258Z"
   },
   {
    "duration": 61,
    "start_time": "2022-05-26T03:49:33.289Z"
   },
   {
    "duration": 24,
    "start_time": "2022-05-26T03:49:33.352Z"
   },
   {
    "duration": 51,
    "start_time": "2022-05-26T03:49:33.378Z"
   },
   {
    "duration": 27,
    "start_time": "2022-05-26T03:49:33.430Z"
   },
   {
    "duration": 7,
    "start_time": "2022-05-26T03:49:33.458Z"
   },
   {
    "duration": 15,
    "start_time": "2022-05-26T03:49:33.466Z"
   },
   {
    "duration": 10,
    "start_time": "2022-05-26T03:49:33.483Z"
   },
   {
    "duration": 38,
    "start_time": "2022-05-26T03:49:33.494Z"
   },
   {
    "duration": 12,
    "start_time": "2022-05-26T03:49:33.534Z"
   },
   {
    "duration": 19,
    "start_time": "2022-05-26T03:49:33.548Z"
   },
   {
    "duration": 14,
    "start_time": "2022-05-26T03:49:33.568Z"
   },
   {
    "duration": 43,
    "start_time": "2022-05-26T03:49:33.584Z"
   },
   {
    "duration": 5,
    "start_time": "2022-05-26T03:49:33.629Z"
   },
   {
    "duration": 21,
    "start_time": "2022-05-26T03:49:33.636Z"
   },
   {
    "duration": 7,
    "start_time": "2022-05-26T03:49:33.658Z"
   },
   {
    "duration": 34,
    "start_time": "2022-05-26T03:49:33.666Z"
   },
   {
    "duration": 44,
    "start_time": "2022-05-26T03:49:33.702Z"
   },
   {
    "duration": 22,
    "start_time": "2022-05-26T03:56:18.444Z"
   },
   {
    "duration": 4,
    "start_time": "2022-05-26T04:01:22.850Z"
   },
   {
    "duration": 2553,
    "start_time": "2022-05-26T04:01:41.903Z"
   },
   {
    "duration": 2604,
    "start_time": "2022-05-26T04:02:33.437Z"
   },
   {
    "duration": 55,
    "start_time": "2022-05-26T04:03:08.310Z"
   },
   {
    "duration": 553,
    "start_time": "2022-05-26T04:03:34.014Z"
   },
   {
    "duration": 17,
    "start_time": "2022-05-26T04:03:37.504Z"
   },
   {
    "duration": 5,
    "start_time": "2022-05-26T04:03:40.902Z"
   },
   {
    "duration": 5,
    "start_time": "2022-05-26T04:03:42.102Z"
   },
   {
    "duration": 2768,
    "start_time": "2022-05-26T04:03:45.899Z"
   },
   {
    "duration": 577,
    "start_time": "2022-05-26T04:05:31.696Z"
   },
   {
    "duration": 16,
    "start_time": "2022-05-26T04:05:32.275Z"
   },
   {
    "duration": 5,
    "start_time": "2022-05-26T04:05:32.292Z"
   },
   {
    "duration": 37,
    "start_time": "2022-05-26T04:05:32.300Z"
   },
   {
    "duration": 15,
    "start_time": "2022-05-26T04:05:32.339Z"
   },
   {
    "duration": 13,
    "start_time": "2022-05-26T04:05:32.356Z"
   },
   {
    "duration": 14,
    "start_time": "2022-05-26T04:05:32.370Z"
   },
   {
    "duration": 5,
    "start_time": "2022-05-26T04:05:32.386Z"
   },
   {
    "duration": 14,
    "start_time": "2022-05-26T04:05:32.392Z"
   },
   {
    "duration": 18,
    "start_time": "2022-05-26T04:05:32.408Z"
   },
   {
    "duration": 44,
    "start_time": "2022-05-26T04:05:32.427Z"
   },
   {
    "duration": 53,
    "start_time": "2022-05-26T04:05:32.473Z"
   },
   {
    "duration": 25,
    "start_time": "2022-05-26T04:05:32.528Z"
   },
   {
    "duration": 33,
    "start_time": "2022-05-26T04:05:32.554Z"
   },
   {
    "duration": 60,
    "start_time": "2022-05-26T04:05:32.589Z"
   },
   {
    "duration": 7,
    "start_time": "2022-05-26T04:05:32.650Z"
   },
   {
    "duration": 14,
    "start_time": "2022-05-26T04:05:32.659Z"
   },
   {
    "duration": 15,
    "start_time": "2022-05-26T04:05:32.674Z"
   },
   {
    "duration": 41,
    "start_time": "2022-05-26T04:05:32.691Z"
   },
   {
    "duration": 14,
    "start_time": "2022-05-26T04:05:32.734Z"
   },
   {
    "duration": 36,
    "start_time": "2022-05-26T04:05:32.749Z"
   },
   {
    "duration": 20,
    "start_time": "2022-05-26T04:05:32.787Z"
   },
   {
    "duration": 34,
    "start_time": "2022-05-26T04:05:32.809Z"
   },
   {
    "duration": 8,
    "start_time": "2022-05-26T04:05:32.845Z"
   },
   {
    "duration": 24,
    "start_time": "2022-05-26T04:05:32.854Z"
   },
   {
    "duration": 28,
    "start_time": "2022-05-26T04:05:32.879Z"
   },
   {
    "duration": 38,
    "start_time": "2022-05-26T04:05:32.908Z"
   },
   {
    "duration": 29,
    "start_time": "2022-05-26T04:05:32.950Z"
   },
   {
    "duration": 10,
    "start_time": "2022-05-26T04:10:18.047Z"
   },
   {
    "duration": 14,
    "start_time": "2022-05-26T04:10:25.900Z"
   },
   {
    "duration": 87,
    "start_time": "2022-05-26T04:11:26.088Z"
   },
   {
    "duration": 17,
    "start_time": "2022-05-26T04:11:34.873Z"
   },
   {
    "duration": 17,
    "start_time": "2022-05-26T04:11:44.673Z"
   },
   {
    "duration": 17,
    "start_time": "2022-05-26T04:12:16.176Z"
   },
   {
    "duration": 17,
    "start_time": "2022-05-26T04:13:07.976Z"
   },
   {
    "duration": 11,
    "start_time": "2022-05-26T04:13:42.174Z"
   },
   {
    "duration": 13,
    "start_time": "2022-05-26T04:13:48.011Z"
   },
   {
    "duration": 14,
    "start_time": "2022-05-26T04:15:20.975Z"
   },
   {
    "duration": 22,
    "start_time": "2022-05-26T04:15:41.578Z"
   },
   {
    "duration": 72,
    "start_time": "2022-05-27T14:51:42.969Z"
   },
   {
    "duration": 1076,
    "start_time": "2022-05-27T14:51:54.244Z"
   },
   {
    "duration": 30,
    "start_time": "2022-05-27T14:52:05.409Z"
   },
   {
    "duration": 5,
    "start_time": "2022-05-27T14:52:08.275Z"
   },
   {
    "duration": 7,
    "start_time": "2022-05-27T14:52:09.425Z"
   },
   {
    "duration": 6,
    "start_time": "2022-05-27T14:52:12.377Z"
   },
   {
    "duration": 28,
    "start_time": "2022-05-27T15:12:41.085Z"
   },
   {
    "duration": 4,
    "start_time": "2022-05-27T15:13:45.162Z"
   },
   {
    "duration": 8,
    "start_time": "2022-05-27T15:14:35.446Z"
   },
   {
    "duration": 7,
    "start_time": "2022-05-27T15:15:12.053Z"
   },
   {
    "duration": 17,
    "start_time": "2022-05-27T15:16:33.141Z"
   },
   {
    "duration": 9,
    "start_time": "2022-05-27T15:16:47.099Z"
   },
   {
    "duration": 13,
    "start_time": "2022-05-27T15:17:38.023Z"
   },
   {
    "duration": 15,
    "start_time": "2022-05-27T15:46:57.926Z"
   },
   {
    "duration": 516,
    "start_time": "2022-05-27T15:56:45.707Z"
   },
   {
    "duration": 329,
    "start_time": "2022-05-27T15:57:23.285Z"
   },
   {
    "duration": 270,
    "start_time": "2022-05-27T15:58:15.211Z"
   },
   {
    "duration": 21,
    "start_time": "2022-05-27T16:01:01.621Z"
   },
   {
    "duration": 11,
    "start_time": "2022-05-27T16:02:00.416Z"
   },
   {
    "duration": 6,
    "start_time": "2022-05-27T16:04:40.178Z"
   },
   {
    "duration": 13,
    "start_time": "2022-05-27T16:04:56.824Z"
   },
   {
    "duration": 461,
    "start_time": "2022-05-27T16:43:54.976Z"
   },
   {
    "duration": 15,
    "start_time": "2022-05-27T16:43:55.439Z"
   },
   {
    "duration": 4,
    "start_time": "2022-05-27T16:43:55.456Z"
   },
   {
    "duration": 10,
    "start_time": "2022-05-27T16:43:55.461Z"
   },
   {
    "duration": 8,
    "start_time": "2022-05-27T16:43:55.473Z"
   },
   {
    "duration": 15,
    "start_time": "2022-05-27T16:43:55.483Z"
   },
   {
    "duration": 7,
    "start_time": "2022-05-27T16:43:55.526Z"
   },
   {
    "duration": 5,
    "start_time": "2022-05-27T16:43:55.534Z"
   },
   {
    "duration": 9,
    "start_time": "2022-05-27T16:43:55.540Z"
   },
   {
    "duration": 18,
    "start_time": "2022-05-27T16:43:55.551Z"
   },
   {
    "duration": 62,
    "start_time": "2022-05-27T16:43:55.571Z"
   },
   {
    "duration": 51,
    "start_time": "2022-05-27T16:43:55.635Z"
   },
   {
    "duration": 49,
    "start_time": "2022-05-27T16:43:55.688Z"
   },
   {
    "duration": 40,
    "start_time": "2022-05-27T16:43:55.740Z"
   },
   {
    "duration": 56,
    "start_time": "2022-05-27T16:43:55.781Z"
   },
   {
    "duration": 6,
    "start_time": "2022-05-27T16:43:55.838Z"
   },
   {
    "duration": 22,
    "start_time": "2022-05-27T16:43:55.846Z"
   },
   {
    "duration": 15,
    "start_time": "2022-05-27T16:43:55.870Z"
   },
   {
    "duration": 15,
    "start_time": "2022-05-27T16:43:55.887Z"
   },
   {
    "duration": 34,
    "start_time": "2022-05-27T16:43:55.903Z"
   },
   {
    "duration": 16,
    "start_time": "2022-05-27T16:43:55.939Z"
   },
   {
    "duration": 15,
    "start_time": "2022-05-27T16:43:55.956Z"
   },
   {
    "duration": 57,
    "start_time": "2022-05-27T16:43:55.973Z"
   },
   {
    "duration": 7,
    "start_time": "2022-05-27T16:43:56.032Z"
   },
   {
    "duration": 22,
    "start_time": "2022-05-27T16:43:56.041Z"
   },
   {
    "duration": 8,
    "start_time": "2022-05-27T16:43:56.065Z"
   },
   {
    "duration": 59,
    "start_time": "2022-05-27T16:43:56.074Z"
   },
   {
    "duration": 26,
    "start_time": "2022-05-27T16:43:56.135Z"
   },
   {
    "duration": 20,
    "start_time": "2022-05-27T16:43:56.163Z"
   },
   {
    "duration": 508,
    "start_time": "2022-05-27T16:47:40.106Z"
   },
   {
    "duration": 18,
    "start_time": "2022-05-27T16:47:40.616Z"
   },
   {
    "duration": 12,
    "start_time": "2022-05-27T16:47:40.635Z"
   },
   {
    "duration": 8,
    "start_time": "2022-05-27T16:47:40.648Z"
   },
   {
    "duration": 11,
    "start_time": "2022-05-27T16:47:40.657Z"
   },
   {
    "duration": 6,
    "start_time": "2022-05-27T16:47:40.670Z"
   },
   {
    "duration": 6,
    "start_time": "2022-05-27T16:47:40.677Z"
   },
   {
    "duration": 7,
    "start_time": "2022-05-27T16:47:40.684Z"
   },
   {
    "duration": 8,
    "start_time": "2022-05-27T16:47:40.692Z"
   },
   {
    "duration": 40,
    "start_time": "2022-05-27T16:47:40.702Z"
   },
   {
    "duration": 29,
    "start_time": "2022-05-27T16:47:40.743Z"
   },
   {
    "duration": 68,
    "start_time": "2022-05-27T16:47:40.774Z"
   },
   {
    "duration": 22,
    "start_time": "2022-05-27T16:47:40.844Z"
   },
   {
    "duration": 31,
    "start_time": "2022-05-27T16:47:40.867Z"
   },
   {
    "duration": 47,
    "start_time": "2022-05-27T16:47:40.899Z"
   },
   {
    "duration": 6,
    "start_time": "2022-05-27T16:47:40.947Z"
   },
   {
    "duration": 11,
    "start_time": "2022-05-27T16:47:40.954Z"
   },
   {
    "duration": 14,
    "start_time": "2022-05-27T16:47:40.966Z"
   },
   {
    "duration": 50,
    "start_time": "2022-05-27T16:47:40.981Z"
   },
   {
    "duration": 15,
    "start_time": "2022-05-27T16:47:41.032Z"
   },
   {
    "duration": 13,
    "start_time": "2022-05-27T16:47:41.048Z"
   },
   {
    "duration": 13,
    "start_time": "2022-05-27T16:47:41.063Z"
   },
   {
    "duration": 50,
    "start_time": "2022-05-27T16:47:41.077Z"
   },
   {
    "duration": 7,
    "start_time": "2022-05-27T16:47:41.129Z"
   },
   {
    "duration": 19,
    "start_time": "2022-05-27T16:47:41.137Z"
   },
   {
    "duration": 7,
    "start_time": "2022-05-27T16:47:41.157Z"
   },
   {
    "duration": 25,
    "start_time": "2022-05-27T16:47:41.165Z"
   },
   {
    "duration": 57,
    "start_time": "2022-05-27T16:47:41.192Z"
   },
   {
    "duration": 18,
    "start_time": "2022-05-27T16:47:41.250Z"
   },
   {
    "duration": 12,
    "start_time": "2022-05-27T16:54:29.064Z"
   },
   {
    "duration": 12,
    "start_time": "2022-05-27T16:54:50.993Z"
   },
   {
    "duration": 11,
    "start_time": "2022-05-27T16:55:03.219Z"
   },
   {
    "duration": 519,
    "start_time": "2022-05-27T16:55:08.902Z"
   },
   {
    "duration": 15,
    "start_time": "2022-05-27T16:55:09.423Z"
   },
   {
    "duration": 5,
    "start_time": "2022-05-27T16:55:09.439Z"
   },
   {
    "duration": 5,
    "start_time": "2022-05-27T16:55:09.445Z"
   },
   {
    "duration": 7,
    "start_time": "2022-05-27T16:55:09.452Z"
   },
   {
    "duration": 5,
    "start_time": "2022-05-27T16:55:09.461Z"
   },
   {
    "duration": 7,
    "start_time": "2022-05-27T16:55:09.467Z"
   },
   {
    "duration": 8,
    "start_time": "2022-05-27T16:55:09.475Z"
   },
   {
    "duration": 13,
    "start_time": "2022-05-27T16:55:09.526Z"
   },
   {
    "duration": 20,
    "start_time": "2022-05-27T16:55:09.541Z"
   },
   {
    "duration": 28,
    "start_time": "2022-05-27T16:55:09.562Z"
   },
   {
    "duration": 67,
    "start_time": "2022-05-27T16:55:09.592Z"
   },
   {
    "duration": 23,
    "start_time": "2022-05-27T16:55:09.661Z"
   },
   {
    "duration": 50,
    "start_time": "2022-05-27T16:55:09.687Z"
   },
   {
    "duration": 27,
    "start_time": "2022-05-27T16:55:09.739Z"
   },
   {
    "duration": 6,
    "start_time": "2022-05-27T16:55:09.767Z"
   },
   {
    "duration": 55,
    "start_time": "2022-05-27T16:55:09.775Z"
   },
   {
    "duration": 8,
    "start_time": "2022-05-27T16:55:09.832Z"
   },
   {
    "duration": 9,
    "start_time": "2022-05-27T16:55:09.841Z"
   },
   {
    "duration": 12,
    "start_time": "2022-05-27T16:55:09.852Z"
   },
   {
    "duration": 14,
    "start_time": "2022-05-27T16:55:09.866Z"
   },
   {
    "duration": 56,
    "start_time": "2022-05-27T16:55:09.881Z"
   },
   {
    "duration": 15,
    "start_time": "2022-05-27T16:55:09.939Z"
   },
   {
    "duration": 6,
    "start_time": "2022-05-27T16:55:09.956Z"
   },
   {
    "duration": 24,
    "start_time": "2022-05-27T16:55:09.964Z"
   },
   {
    "duration": 6,
    "start_time": "2022-05-27T16:55:09.989Z"
   },
   {
    "duration": 27,
    "start_time": "2022-05-27T16:55:10.027Z"
   },
   {
    "duration": 3,
    "start_time": "2022-05-27T16:55:10.055Z"
   },
   {
    "duration": 0,
    "start_time": "2022-05-27T16:55:10.060Z"
   },
   {
    "duration": 69,
    "start_time": "2022-05-27T16:55:12.969Z"
   },
   {
    "duration": 480,
    "start_time": "2022-05-27T16:55:22.868Z"
   },
   {
    "duration": 15,
    "start_time": "2022-05-27T16:55:23.350Z"
   },
   {
    "duration": 5,
    "start_time": "2022-05-27T16:55:23.367Z"
   },
   {
    "duration": 15,
    "start_time": "2022-05-27T16:55:23.373Z"
   },
   {
    "duration": 17,
    "start_time": "2022-05-27T16:55:23.390Z"
   },
   {
    "duration": 18,
    "start_time": "2022-05-27T16:55:23.409Z"
   },
   {
    "duration": 5,
    "start_time": "2022-05-27T16:55:23.429Z"
   },
   {
    "duration": 7,
    "start_time": "2022-05-27T16:55:23.436Z"
   },
   {
    "duration": 14,
    "start_time": "2022-05-27T16:55:23.444Z"
   },
   {
    "duration": 17,
    "start_time": "2022-05-27T16:55:23.460Z"
   },
   {
    "duration": 62,
    "start_time": "2022-05-27T16:55:23.479Z"
   },
   {
    "duration": 45,
    "start_time": "2022-05-27T16:55:23.542Z"
   },
   {
    "duration": 43,
    "start_time": "2022-05-27T16:55:23.588Z"
   },
   {
    "duration": 32,
    "start_time": "2022-05-27T16:55:23.633Z"
   },
   {
    "duration": 61,
    "start_time": "2022-05-27T16:55:23.667Z"
   },
   {
    "duration": 7,
    "start_time": "2022-05-27T16:55:23.730Z"
   },
   {
    "duration": 15,
    "start_time": "2022-05-27T16:55:23.738Z"
   },
   {
    "duration": 10,
    "start_time": "2022-05-27T16:55:23.754Z"
   },
   {
    "duration": 9,
    "start_time": "2022-05-27T16:55:23.766Z"
   },
   {
    "duration": 13,
    "start_time": "2022-05-27T16:55:23.776Z"
   },
   {
    "duration": 14,
    "start_time": "2022-05-27T16:55:23.827Z"
   },
   {
    "duration": 13,
    "start_time": "2022-05-27T16:55:23.843Z"
   },
   {
    "duration": 15,
    "start_time": "2022-05-27T16:55:23.858Z"
   },
   {
    "duration": 6,
    "start_time": "2022-05-27T16:55:23.875Z"
   },
   {
    "duration": 58,
    "start_time": "2022-05-27T16:55:23.882Z"
   },
   {
    "duration": 7,
    "start_time": "2022-05-27T16:55:23.941Z"
   },
   {
    "duration": 25,
    "start_time": "2022-05-27T16:55:23.950Z"
   },
   {
    "duration": 4,
    "start_time": "2022-05-27T16:55:23.977Z"
   },
   {
    "duration": 0,
    "start_time": "2022-05-27T16:55:23.983Z"
   },
   {
    "duration": 12,
    "start_time": "2022-05-27T16:55:44.767Z"
   },
   {
    "duration": 14,
    "start_time": "2022-05-27T18:09:52.652Z"
   },
   {
    "duration": 73,
    "start_time": "2022-05-27T18:14:25.962Z"
   },
   {
    "duration": 7,
    "start_time": "2022-05-27T18:14:33.393Z"
   },
   {
    "duration": 22,
    "start_time": "2022-05-27T18:14:42.319Z"
   },
   {
    "duration": 19,
    "start_time": "2022-05-27T18:15:22.383Z"
   },
   {
    "duration": 22,
    "start_time": "2022-05-27T18:18:49.184Z"
   },
   {
    "duration": 9,
    "start_time": "2022-05-27T18:20:16.963Z"
   },
   {
    "duration": 13,
    "start_time": "2022-05-27T18:20:47.152Z"
   },
   {
    "duration": 68,
    "start_time": "2022-05-27T18:21:02.033Z"
   },
   {
    "duration": 8,
    "start_time": "2022-05-27T18:21:23.216Z"
   },
   {
    "duration": 8,
    "start_time": "2022-05-27T18:21:32.740Z"
   },
   {
    "duration": 30,
    "start_time": "2022-05-27T18:22:10.008Z"
   },
   {
    "duration": 26,
    "start_time": "2022-05-27T18:22:21.186Z"
   },
   {
    "duration": 33,
    "start_time": "2022-05-27T18:24:12.982Z"
   },
   {
    "duration": 70,
    "start_time": "2022-05-27T18:24:41.516Z"
   },
   {
    "duration": 66,
    "start_time": "2022-05-27T18:25:07.626Z"
   },
   {
    "duration": 10,
    "start_time": "2022-05-27T18:29:31.720Z"
   },
   {
    "duration": 14,
    "start_time": "2022-05-27T18:29:42.856Z"
   },
   {
    "duration": 14,
    "start_time": "2022-05-27T18:34:54.661Z"
   },
   {
    "duration": 14,
    "start_time": "2022-05-27T18:36:13.185Z"
   },
   {
    "duration": 16,
    "start_time": "2022-05-27T18:36:27.085Z"
   },
   {
    "duration": 14,
    "start_time": "2022-05-27T18:37:00.305Z"
   },
   {
    "duration": 14,
    "start_time": "2022-05-27T18:38:44.291Z"
   },
   {
    "duration": 17,
    "start_time": "2022-05-27T18:39:01.466Z"
   },
   {
    "duration": 15,
    "start_time": "2022-05-27T18:43:59.167Z"
   },
   {
    "duration": 12,
    "start_time": "2022-05-27T18:44:39.574Z"
   },
   {
    "duration": 14,
    "start_time": "2022-05-27T18:45:47.900Z"
   },
   {
    "duration": 19,
    "start_time": "2022-05-27T18:59:51.637Z"
   },
   {
    "duration": 17,
    "start_time": "2022-05-27T19:00:50.642Z"
   },
   {
    "duration": 21,
    "start_time": "2022-05-27T19:02:34.407Z"
   },
   {
    "duration": 16,
    "start_time": "2022-05-27T19:02:57.941Z"
   },
   {
    "duration": 16,
    "start_time": "2022-05-27T19:04:11.285Z"
   },
   {
    "duration": 22,
    "start_time": "2022-05-27T19:04:48.942Z"
   },
   {
    "duration": 18,
    "start_time": "2022-05-27T19:05:27.628Z"
   },
   {
    "duration": 18,
    "start_time": "2022-05-27T19:05:55.042Z"
   },
   {
    "duration": 17,
    "start_time": "2022-05-27T19:06:02.997Z"
   },
   {
    "duration": 7,
    "start_time": "2022-05-27T19:08:57.842Z"
   },
   {
    "duration": 7,
    "start_time": "2022-05-27T19:13:38.783Z"
   },
   {
    "duration": 4,
    "start_time": "2022-05-27T19:13:50.241Z"
   },
   {
    "duration": 3,
    "start_time": "2022-05-27T19:13:55.466Z"
   },
   {
    "duration": 7,
    "start_time": "2022-05-27T19:14:02.384Z"
   },
   {
    "duration": 17,
    "start_time": "2022-05-27T19:14:19.575Z"
   },
   {
    "duration": 20,
    "start_time": "2022-05-27T19:14:32.574Z"
   },
   {
    "duration": 579,
    "start_time": "2022-05-27T19:15:29.620Z"
   },
   {
    "duration": 16,
    "start_time": "2022-05-27T19:15:30.201Z"
   },
   {
    "duration": 5,
    "start_time": "2022-05-27T19:15:30.218Z"
   },
   {
    "duration": 10,
    "start_time": "2022-05-27T19:15:30.228Z"
   },
   {
    "duration": 15,
    "start_time": "2022-05-27T19:15:30.240Z"
   },
   {
    "duration": 8,
    "start_time": "2022-05-27T19:15:30.256Z"
   },
   {
    "duration": 8,
    "start_time": "2022-05-27T19:15:30.266Z"
   },
   {
    "duration": 7,
    "start_time": "2022-05-27T19:15:30.276Z"
   },
   {
    "duration": 14,
    "start_time": "2022-05-27T19:15:30.285Z"
   },
   {
    "duration": 21,
    "start_time": "2022-05-27T19:15:30.332Z"
   },
   {
    "duration": 30,
    "start_time": "2022-05-27T19:15:30.354Z"
   },
   {
    "duration": 78,
    "start_time": "2022-05-27T19:15:30.385Z"
   },
   {
    "duration": 26,
    "start_time": "2022-05-27T19:15:30.465Z"
   },
   {
    "duration": 55,
    "start_time": "2022-05-27T19:15:30.493Z"
   },
   {
    "duration": 27,
    "start_time": "2022-05-27T19:15:30.550Z"
   },
   {
    "duration": 52,
    "start_time": "2022-05-27T19:15:30.579Z"
   },
   {
    "duration": 17,
    "start_time": "2022-05-27T19:15:30.634Z"
   },
   {
    "duration": 36,
    "start_time": "2022-05-27T19:15:30.653Z"
   },
   {
    "duration": 18,
    "start_time": "2022-05-27T19:15:30.691Z"
   },
   {
    "duration": 17,
    "start_time": "2022-05-27T19:15:30.710Z"
   },
   {
    "duration": 27,
    "start_time": "2022-05-27T19:15:30.735Z"
   },
   {
    "duration": 32,
    "start_time": "2022-05-27T19:15:30.764Z"
   },
   {
    "duration": 85,
    "start_time": "2022-05-27T19:15:30.798Z"
   },
   {
    "duration": 13,
    "start_time": "2022-05-27T19:15:30.886Z"
   },
   {
    "duration": 46,
    "start_time": "2022-05-27T19:15:30.901Z"
   },
   {
    "duration": 11,
    "start_time": "2022-05-27T19:15:30.949Z"
   },
   {
    "duration": 36,
    "start_time": "2022-05-27T19:15:30.962Z"
   },
   {
    "duration": 47,
    "start_time": "2022-05-27T19:15:31.003Z"
   },
   {
    "duration": 11,
    "start_time": "2022-05-27T19:15:31.052Z"
   },
   {
    "duration": 24,
    "start_time": "2022-05-27T19:15:31.065Z"
   },
   {
    "duration": 4,
    "start_time": "2022-05-27T19:15:31.091Z"
   },
   {
    "duration": 17,
    "start_time": "2022-05-27T19:17:18.083Z"
   },
   {
    "duration": 8,
    "start_time": "2022-05-27T19:18:22.926Z"
   },
   {
    "duration": 4,
    "start_time": "2022-05-27T19:26:50.974Z"
   },
   {
    "duration": 5,
    "start_time": "2022-05-27T19:27:34.163Z"
   },
   {
    "duration": 4,
    "start_time": "2022-05-27T19:27:56.471Z"
   },
   {
    "duration": 21,
    "start_time": "2022-05-27T19:30:08.158Z"
   },
   {
    "duration": 21,
    "start_time": "2022-05-27T19:32:16.501Z"
   },
   {
    "duration": 35,
    "start_time": "2022-05-27T19:33:05.216Z"
   },
   {
    "duration": 75,
    "start_time": "2022-05-27T19:33:58.063Z"
   },
   {
    "duration": 18,
    "start_time": "2022-05-27T19:35:51.392Z"
   },
   {
    "duration": 20,
    "start_time": "2022-05-27T19:36:18.197Z"
   },
   {
    "duration": 18,
    "start_time": "2022-05-27T19:36:58.939Z"
   },
   {
    "duration": 15,
    "start_time": "2022-05-27T19:39:24.099Z"
   },
   {
    "duration": 13,
    "start_time": "2022-05-27T19:39:39.835Z"
   },
   {
    "duration": 19,
    "start_time": "2022-05-27T19:40:22.781Z"
   },
   {
    "duration": 19,
    "start_time": "2022-05-27T19:40:34.938Z"
   },
   {
    "duration": 29,
    "start_time": "2022-05-27T19:40:48.493Z"
   },
   {
    "duration": 25,
    "start_time": "2022-05-27T19:41:04.777Z"
   },
   {
    "duration": 27,
    "start_time": "2022-05-27T19:41:10.461Z"
   },
   {
    "duration": 28,
    "start_time": "2022-05-27T19:41:37.696Z"
   },
   {
    "duration": 16,
    "start_time": "2022-05-27T19:41:58.143Z"
   },
   {
    "duration": 61,
    "start_time": "2022-05-28T06:56:53.035Z"
   },
   {
    "duration": 735,
    "start_time": "2022-05-28T06:57:03.546Z"
   },
   {
    "duration": 16,
    "start_time": "2022-05-28T06:57:04.283Z"
   },
   {
    "duration": 4,
    "start_time": "2022-05-28T06:57:04.300Z"
   },
   {
    "duration": 7,
    "start_time": "2022-05-28T06:57:04.306Z"
   },
   {
    "duration": 9,
    "start_time": "2022-05-28T06:57:04.314Z"
   },
   {
    "duration": 6,
    "start_time": "2022-05-28T06:57:04.324Z"
   },
   {
    "duration": 6,
    "start_time": "2022-05-28T06:57:04.358Z"
   },
   {
    "duration": 8,
    "start_time": "2022-05-28T06:57:04.365Z"
   },
   {
    "duration": 10,
    "start_time": "2022-05-28T06:57:04.375Z"
   },
   {
    "duration": 17,
    "start_time": "2022-05-28T06:57:04.388Z"
   },
   {
    "duration": 27,
    "start_time": "2022-05-28T06:57:04.406Z"
   },
   {
    "duration": 62,
    "start_time": "2022-05-28T06:57:04.434Z"
   },
   {
    "duration": 22,
    "start_time": "2022-05-28T06:57:04.498Z"
   },
   {
    "duration": 42,
    "start_time": "2022-05-28T06:57:04.522Z"
   },
   {
    "duration": 24,
    "start_time": "2022-05-28T06:57:04.566Z"
   },
   {
    "duration": 6,
    "start_time": "2022-05-28T06:57:04.592Z"
   },
   {
    "duration": 12,
    "start_time": "2022-05-28T06:57:04.599Z"
   },
   {
    "duration": 46,
    "start_time": "2022-05-28T06:57:04.613Z"
   },
   {
    "duration": 9,
    "start_time": "2022-05-28T06:57:04.660Z"
   },
   {
    "duration": 14,
    "start_time": "2022-05-28T06:57:04.671Z"
   },
   {
    "duration": 14,
    "start_time": "2022-05-28T06:57:04.687Z"
   },
   {
    "duration": 14,
    "start_time": "2022-05-28T06:57:04.702Z"
   },
   {
    "duration": 49,
    "start_time": "2022-05-28T06:57:04.718Z"
   },
   {
    "duration": 5,
    "start_time": "2022-05-28T06:57:04.769Z"
   },
   {
    "duration": 21,
    "start_time": "2022-05-28T06:57:04.776Z"
   },
   {
    "duration": 9,
    "start_time": "2022-05-28T06:57:04.799Z"
   },
   {
    "duration": 52,
    "start_time": "2022-05-28T06:57:04.809Z"
   },
   {
    "duration": 13,
    "start_time": "2022-05-28T06:57:04.864Z"
   },
   {
    "duration": 18,
    "start_time": "2022-05-28T06:57:04.878Z"
   },
   {
    "duration": 15,
    "start_time": "2022-05-28T06:57:04.897Z"
   },
   {
    "duration": 76,
    "start_time": "2022-05-28T07:05:03.683Z"
   },
   {
    "duration": 8,
    "start_time": "2022-05-28T07:05:27.656Z"
   },
   {
    "duration": 19,
    "start_time": "2022-05-28T07:05:55.024Z"
   },
   {
    "duration": 12,
    "start_time": "2022-05-28T07:06:14.619Z"
   },
   {
    "duration": 7,
    "start_time": "2022-05-28T07:06:32.087Z"
   },
   {
    "duration": 19,
    "start_time": "2022-05-28T07:12:27.367Z"
   },
   {
    "duration": 14,
    "start_time": "2022-05-28T07:13:07.898Z"
   },
   {
    "duration": 13,
    "start_time": "2022-05-28T07:13:35.347Z"
   },
   {
    "duration": 10,
    "start_time": "2022-05-28T07:34:46.144Z"
   },
   {
    "duration": 12,
    "start_time": "2022-05-28T07:34:59.798Z"
   },
   {
    "duration": 23,
    "start_time": "2022-05-28T07:35:06.676Z"
   },
   {
    "duration": 7,
    "start_time": "2022-05-28T07:35:28.987Z"
   },
   {
    "duration": 21,
    "start_time": "2022-05-28T07:39:23.945Z"
   },
   {
    "duration": 500,
    "start_time": "2022-05-28T07:57:39.167Z"
   },
   {
    "duration": 15,
    "start_time": "2022-05-28T07:57:44.513Z"
   },
   {
    "duration": 3,
    "start_time": "2022-05-28T07:59:31.581Z"
   },
   {
    "duration": 5,
    "start_time": "2022-05-28T08:00:40.614Z"
   },
   {
    "duration": 61,
    "start_time": "2022-05-28T08:01:57.164Z"
   },
   {
    "duration": 25,
    "start_time": "2022-05-28T08:02:07.602Z"
   },
   {
    "duration": 70,
    "start_time": "2022-05-28T08:02:17.848Z"
   },
   {
    "duration": 132,
    "start_time": "2022-05-28T08:03:24.215Z"
   },
   {
    "duration": 75,
    "start_time": "2022-05-28T08:04:45.185Z"
   },
   {
    "duration": 3,
    "start_time": "2022-05-28T08:04:50.814Z"
   },
   {
    "duration": 10,
    "start_time": "2022-05-28T08:05:41.548Z"
   },
   {
    "duration": 27,
    "start_time": "2022-05-28T08:07:13.980Z"
   },
   {
    "duration": 21,
    "start_time": "2022-05-28T08:07:19.964Z"
   },
   {
    "duration": 66,
    "start_time": "2022-05-28T08:08:28.511Z"
   },
   {
    "duration": 68,
    "start_time": "2022-05-28T08:08:53.549Z"
   },
   {
    "duration": 70,
    "start_time": "2022-05-28T08:09:16.083Z"
   },
   {
    "duration": 82,
    "start_time": "2022-05-28T08:12:28.239Z"
   },
   {
    "duration": 775,
    "start_time": "2022-05-28T10:32:46.124Z"
   },
   {
    "duration": 15,
    "start_time": "2022-05-28T10:32:50.891Z"
   },
   {
    "duration": 71,
    "start_time": "2022-05-28T10:33:15.909Z"
   },
   {
    "duration": 5,
    "start_time": "2022-05-28T10:34:15.360Z"
   },
   {
    "duration": 78,
    "start_time": "2022-05-28T10:38:10.648Z"
   },
   {
    "duration": 96,
    "start_time": "2022-05-28T10:38:17.894Z"
   },
   {
    "duration": 81,
    "start_time": "2022-05-28T11:41:33.827Z"
   },
   {
    "duration": 72,
    "start_time": "2022-05-28T11:42:50.229Z"
   },
   {
    "duration": 703,
    "start_time": "2022-05-28T11:46:54.438Z"
   },
   {
    "duration": 18,
    "start_time": "2022-05-28T11:46:55.143Z"
   },
   {
    "duration": 78,
    "start_time": "2022-05-28T11:46:55.162Z"
   },
   {
    "duration": 5,
    "start_time": "2022-05-28T11:46:55.242Z"
   },
   {
    "duration": 17,
    "start_time": "2022-05-28T11:46:55.249Z"
   },
   {
    "duration": 6,
    "start_time": "2022-05-28T11:46:55.267Z"
   },
   {
    "duration": 9,
    "start_time": "2022-05-28T11:46:55.274Z"
   },
   {
    "duration": 9,
    "start_time": "2022-05-28T11:46:55.285Z"
   },
   {
    "duration": 29,
    "start_time": "2022-05-28T11:46:55.295Z"
   },
   {
    "duration": 21,
    "start_time": "2022-05-28T11:46:55.327Z"
   },
   {
    "duration": 32,
    "start_time": "2022-05-28T11:46:55.350Z"
   },
   {
    "duration": 80,
    "start_time": "2022-05-28T11:46:55.383Z"
   },
   {
    "duration": 26,
    "start_time": "2022-05-28T11:46:55.464Z"
   },
   {
    "duration": 48,
    "start_time": "2022-05-28T11:46:55.491Z"
   },
   {
    "duration": 26,
    "start_time": "2022-05-28T11:46:55.541Z"
   },
   {
    "duration": 7,
    "start_time": "2022-05-28T11:46:55.568Z"
   },
   {
    "duration": 47,
    "start_time": "2022-05-28T11:46:55.577Z"
   },
   {
    "duration": 7,
    "start_time": "2022-05-28T11:46:55.626Z"
   },
   {
    "duration": 10,
    "start_time": "2022-05-28T11:46:55.635Z"
   },
   {
    "duration": 14,
    "start_time": "2022-05-28T11:46:55.647Z"
   },
   {
    "duration": 16,
    "start_time": "2022-05-28T11:46:55.662Z"
   },
   {
    "duration": 55,
    "start_time": "2022-05-28T11:46:55.679Z"
   },
   {
    "duration": 16,
    "start_time": "2022-05-28T11:46:55.736Z"
   },
   {
    "duration": 6,
    "start_time": "2022-05-28T11:46:55.754Z"
   },
   {
    "duration": 19,
    "start_time": "2022-05-28T11:46:55.762Z"
   },
   {
    "duration": 41,
    "start_time": "2022-05-28T11:46:55.783Z"
   },
   {
    "duration": 24,
    "start_time": "2022-05-28T11:46:55.826Z"
   },
   {
    "duration": 13,
    "start_time": "2022-05-28T11:46:55.853Z"
   },
   {
    "duration": 19,
    "start_time": "2022-05-28T11:46:55.867Z"
   },
   {
    "duration": 47,
    "start_time": "2022-05-28T11:46:55.887Z"
   },
   {
    "duration": 22,
    "start_time": "2022-05-28T11:46:55.936Z"
   },
   {
    "duration": 539,
    "start_time": "2022-05-28T11:50:20.652Z"
   },
   {
    "duration": 19,
    "start_time": "2022-05-28T11:50:21.193Z"
   },
   {
    "duration": 87,
    "start_time": "2022-05-28T11:50:21.214Z"
   },
   {
    "duration": 21,
    "start_time": "2022-05-28T11:50:21.303Z"
   },
   {
    "duration": 8,
    "start_time": "2022-05-28T11:50:21.327Z"
   },
   {
    "duration": 7,
    "start_time": "2022-05-28T11:50:21.337Z"
   },
   {
    "duration": 7,
    "start_time": "2022-05-28T11:50:21.345Z"
   },
   {
    "duration": 5,
    "start_time": "2022-05-28T11:50:21.354Z"
   },
   {
    "duration": 8,
    "start_time": "2022-05-28T11:50:21.360Z"
   },
   {
    "duration": 18,
    "start_time": "2022-05-28T11:50:21.369Z"
   },
   {
    "duration": 68,
    "start_time": "2022-05-28T11:50:21.389Z"
   },
   {
    "duration": 69,
    "start_time": "2022-05-28T11:50:21.459Z"
   },
   {
    "duration": 28,
    "start_time": "2022-05-28T11:50:21.530Z"
   },
   {
    "duration": 35,
    "start_time": "2022-05-28T11:50:21.561Z"
   },
   {
    "duration": 53,
    "start_time": "2022-05-28T11:50:21.598Z"
   },
   {
    "duration": 6,
    "start_time": "2022-05-28T11:50:21.653Z"
   },
   {
    "duration": 14,
    "start_time": "2022-05-28T11:50:21.661Z"
   },
   {
    "duration": 48,
    "start_time": "2022-05-28T11:50:21.676Z"
   },
   {
    "duration": 11,
    "start_time": "2022-05-28T11:50:21.725Z"
   },
   {
    "duration": 15,
    "start_time": "2022-05-28T11:50:21.737Z"
   },
   {
    "duration": 16,
    "start_time": "2022-05-28T11:50:21.754Z"
   },
   {
    "duration": 14,
    "start_time": "2022-05-28T11:50:21.772Z"
   },
   {
    "duration": 50,
    "start_time": "2022-05-28T11:50:21.788Z"
   },
   {
    "duration": 8,
    "start_time": "2022-05-28T11:50:21.839Z"
   },
   {
    "duration": 31,
    "start_time": "2022-05-28T11:50:21.849Z"
   },
   {
    "duration": 41,
    "start_time": "2022-05-28T11:50:21.882Z"
   },
   {
    "duration": 26,
    "start_time": "2022-05-28T11:50:21.925Z"
   },
   {
    "duration": 15,
    "start_time": "2022-05-28T11:50:21.955Z"
   },
   {
    "duration": 17,
    "start_time": "2022-05-28T11:50:21.972Z"
   },
   {
    "duration": 45,
    "start_time": "2022-05-28T11:50:21.991Z"
   },
   {
    "duration": 22,
    "start_time": "2022-05-28T11:50:22.039Z"
   },
   {
    "duration": 526,
    "start_time": "2022-05-28T12:06:57.778Z"
   },
   {
    "duration": 17,
    "start_time": "2022-05-28T12:06:58.306Z"
   },
   {
    "duration": 70,
    "start_time": "2022-05-28T12:06:58.325Z"
   },
   {
    "duration": 6,
    "start_time": "2022-05-28T12:06:58.396Z"
   },
   {
    "duration": 23,
    "start_time": "2022-05-28T12:06:58.403Z"
   },
   {
    "duration": 10,
    "start_time": "2022-05-28T12:06:58.428Z"
   },
   {
    "duration": 8,
    "start_time": "2022-05-28T12:06:58.440Z"
   },
   {
    "duration": 7,
    "start_time": "2022-05-28T12:06:58.449Z"
   },
   {
    "duration": 11,
    "start_time": "2022-05-28T12:06:58.457Z"
   },
   {
    "duration": 19,
    "start_time": "2022-05-28T12:06:58.471Z"
   },
   {
    "duration": 58,
    "start_time": "2022-05-28T12:06:58.491Z"
   },
   {
    "duration": 44,
    "start_time": "2022-05-28T12:06:58.551Z"
   },
   {
    "duration": 47,
    "start_time": "2022-05-28T12:06:58.596Z"
   },
   {
    "duration": 32,
    "start_time": "2022-05-28T12:06:58.644Z"
   },
   {
    "duration": 56,
    "start_time": "2022-05-28T12:06:58.678Z"
   },
   {
    "duration": 8,
    "start_time": "2022-05-28T12:06:58.736Z"
   },
   {
    "duration": 24,
    "start_time": "2022-05-28T12:06:58.746Z"
   },
   {
    "duration": 10,
    "start_time": "2022-05-28T12:06:58.772Z"
   },
   {
    "duration": 47,
    "start_time": "2022-05-28T12:06:58.783Z"
   },
   {
    "duration": 22,
    "start_time": "2022-05-28T12:06:58.832Z"
   },
   {
    "duration": 18,
    "start_time": "2022-05-28T12:06:58.856Z"
   },
   {
    "duration": 15,
    "start_time": "2022-05-28T12:06:58.876Z"
   },
   {
    "duration": 53,
    "start_time": "2022-05-28T12:06:58.894Z"
   },
   {
    "duration": 29,
    "start_time": "2022-05-28T12:06:58.950Z"
   },
   {
    "duration": 25,
    "start_time": "2022-05-28T12:06:58.980Z"
   },
   {
    "duration": 27,
    "start_time": "2022-05-28T12:06:59.006Z"
   },
   {
    "duration": 31,
    "start_time": "2022-05-28T12:06:59.035Z"
   },
   {
    "duration": 15,
    "start_time": "2022-05-28T12:06:59.069Z"
   },
   {
    "duration": 40,
    "start_time": "2022-05-28T12:06:59.085Z"
   },
   {
    "duration": 20,
    "start_time": "2022-05-28T12:06:59.127Z"
   },
   {
    "duration": 21,
    "start_time": "2022-05-28T12:06:59.149Z"
   },
   {
    "duration": 587,
    "start_time": "2022-05-28T12:22:51.747Z"
   },
   {
    "duration": 24,
    "start_time": "2022-05-28T12:22:52.336Z"
   },
   {
    "duration": 86,
    "start_time": "2022-05-28T12:22:52.362Z"
   },
   {
    "duration": 5,
    "start_time": "2022-05-28T12:22:52.450Z"
   },
   {
    "duration": 29,
    "start_time": "2022-05-28T12:22:52.457Z"
   },
   {
    "duration": 13,
    "start_time": "2022-05-28T12:22:52.488Z"
   },
   {
    "duration": 15,
    "start_time": "2022-05-28T12:22:52.502Z"
   },
   {
    "duration": 7,
    "start_time": "2022-05-28T12:22:52.519Z"
   },
   {
    "duration": 10,
    "start_time": "2022-05-28T12:22:52.527Z"
   },
   {
    "duration": 20,
    "start_time": "2022-05-28T12:22:52.539Z"
   },
   {
    "duration": 64,
    "start_time": "2022-05-28T12:22:52.561Z"
   },
   {
    "duration": 62,
    "start_time": "2022-05-28T12:22:52.627Z"
   },
   {
    "duration": 28,
    "start_time": "2022-05-28T12:22:52.692Z"
   },
   {
    "duration": 39,
    "start_time": "2022-05-28T12:22:52.723Z"
   },
   {
    "duration": 58,
    "start_time": "2022-05-28T12:22:52.764Z"
   },
   {
    "duration": 7,
    "start_time": "2022-05-28T12:22:52.824Z"
   },
   {
    "duration": 64,
    "start_time": "2022-05-28T12:22:52.833Z"
   },
   {
    "duration": 17,
    "start_time": "2022-05-28T12:22:52.899Z"
   },
   {
    "duration": 15,
    "start_time": "2022-05-28T12:22:52.919Z"
   },
   {
    "duration": 15,
    "start_time": "2022-05-28T12:22:52.936Z"
   },
   {
    "duration": 56,
    "start_time": "2022-05-28T12:22:52.953Z"
   },
   {
    "duration": 16,
    "start_time": "2022-05-28T12:22:53.011Z"
   },
   {
    "duration": 16,
    "start_time": "2022-05-28T12:22:53.029Z"
   },
   {
    "duration": 7,
    "start_time": "2022-05-28T12:22:53.047Z"
   },
   {
    "duration": 50,
    "start_time": "2022-05-28T12:22:53.055Z"
   },
   {
    "duration": 18,
    "start_time": "2022-05-28T12:22:53.107Z"
   },
   {
    "duration": 28,
    "start_time": "2022-05-28T12:22:53.127Z"
   },
   {
    "duration": 51,
    "start_time": "2022-05-28T12:22:53.157Z"
   },
   {
    "duration": 19,
    "start_time": "2022-05-28T12:22:53.210Z"
   },
   {
    "duration": 15,
    "start_time": "2022-05-28T12:22:53.231Z"
   },
   {
    "duration": 60,
    "start_time": "2022-05-28T12:22:53.248Z"
   },
   {
    "duration": 34,
    "start_time": "2022-05-28T12:24:05.724Z"
   },
   {
    "duration": 16,
    "start_time": "2022-05-28T12:25:09.310Z"
   },
   {
    "duration": 1123,
    "start_time": "2022-05-28T16:22:37.969Z"
   },
   {
    "duration": 37,
    "start_time": "2022-05-28T16:22:45.236Z"
   },
   {
    "duration": 15,
    "start_time": "2022-05-28T16:23:44.673Z"
   },
   {
    "duration": 83,
    "start_time": "2022-05-28T16:24:43.016Z"
   },
   {
    "duration": 11,
    "start_time": "2022-05-28T16:25:04.491Z"
   },
   {
    "duration": 6,
    "start_time": "2022-05-28T16:25:28.058Z"
   },
   {
    "duration": 4,
    "start_time": "2022-05-28T16:26:30.309Z"
   },
   {
    "duration": 398,
    "start_time": "2022-05-28T16:35:48.412Z"
   },
   {
    "duration": 120,
    "start_time": "2022-05-28T16:35:48.812Z"
   },
   {
    "duration": 20,
    "start_time": "2022-05-28T16:35:48.934Z"
   },
   {
    "duration": 88,
    "start_time": "2022-05-28T16:35:48.956Z"
   },
   {
    "duration": 6,
    "start_time": "2022-05-28T16:35:49.046Z"
   },
   {
    "duration": 21,
    "start_time": "2022-05-28T16:35:49.053Z"
   },
   {
    "duration": 18,
    "start_time": "2022-05-28T16:35:49.077Z"
   },
   {
    "duration": 5,
    "start_time": "2022-05-28T16:35:49.097Z"
   },
   {
    "duration": 6,
    "start_time": "2022-05-28T16:35:49.104Z"
   },
   {
    "duration": 6,
    "start_time": "2022-05-28T16:35:49.113Z"
   },
   {
    "duration": 18,
    "start_time": "2022-05-28T16:35:49.121Z"
   },
   {
    "duration": 27,
    "start_time": "2022-05-28T16:35:49.140Z"
   },
   {
    "duration": 65,
    "start_time": "2022-05-28T16:35:49.169Z"
   },
   {
    "duration": 31,
    "start_time": "2022-05-28T16:35:49.236Z"
   },
   {
    "duration": 53,
    "start_time": "2022-05-28T16:35:49.269Z"
   },
   {
    "duration": 30,
    "start_time": "2022-05-28T16:35:49.324Z"
   },
   {
    "duration": 45,
    "start_time": "2022-05-28T16:35:49.356Z"
   },
   {
    "duration": 23,
    "start_time": "2022-05-28T16:35:49.402Z"
   },
   {
    "duration": 10,
    "start_time": "2022-05-28T16:35:49.426Z"
   },
   {
    "duration": 10,
    "start_time": "2022-05-28T16:35:49.438Z"
   },
   {
    "duration": 14,
    "start_time": "2022-05-28T16:35:49.450Z"
   },
   {
    "duration": 41,
    "start_time": "2022-05-28T16:35:49.465Z"
   },
   {
    "duration": 15,
    "start_time": "2022-05-28T16:35:49.507Z"
   },
   {
    "duration": 16,
    "start_time": "2022-05-28T16:35:49.523Z"
   },
   {
    "duration": 6,
    "start_time": "2022-05-28T16:35:49.540Z"
   },
   {
    "duration": 51,
    "start_time": "2022-05-28T16:35:49.547Z"
   },
   {
    "duration": 8,
    "start_time": "2022-05-28T16:35:49.600Z"
   },
   {
    "duration": 25,
    "start_time": "2022-05-28T16:35:49.611Z"
   },
   {
    "duration": 14,
    "start_time": "2022-05-28T16:35:49.638Z"
   },
   {
    "duration": 50,
    "start_time": "2022-05-28T16:35:49.654Z"
   },
   {
    "duration": 14,
    "start_time": "2022-05-28T16:35:49.706Z"
   },
   {
    "duration": 16,
    "start_time": "2022-05-28T16:35:49.721Z"
   },
   {
    "duration": 428,
    "start_time": "2022-05-28T16:50:56.489Z"
   },
   {
    "duration": 96,
    "start_time": "2022-05-28T16:50:56.919Z"
   },
   {
    "duration": 15,
    "start_time": "2022-05-28T16:50:57.016Z"
   },
   {
    "duration": 81,
    "start_time": "2022-05-28T16:50:57.033Z"
   },
   {
    "duration": 4,
    "start_time": "2022-05-28T16:50:57.117Z"
   },
   {
    "duration": 12,
    "start_time": "2022-05-28T16:50:57.122Z"
   },
   {
    "duration": 5,
    "start_time": "2022-05-28T16:50:57.135Z"
   },
   {
    "duration": 5,
    "start_time": "2022-05-28T16:50:57.141Z"
   },
   {
    "duration": 5,
    "start_time": "2022-05-28T16:50:57.148Z"
   },
   {
    "duration": 10,
    "start_time": "2022-05-28T16:50:57.154Z"
   },
   {
    "duration": 40,
    "start_time": "2022-05-28T16:50:57.165Z"
   },
   {
    "duration": 28,
    "start_time": "2022-05-28T16:50:57.207Z"
   },
   {
    "duration": 60,
    "start_time": "2022-05-28T16:50:57.237Z"
   },
   {
    "duration": 24,
    "start_time": "2022-05-28T16:50:57.300Z"
   },
   {
    "duration": 32,
    "start_time": "2022-05-28T16:50:57.325Z"
   },
   {
    "duration": 51,
    "start_time": "2022-05-28T16:50:57.359Z"
   },
   {
    "duration": 6,
    "start_time": "2022-05-28T16:50:57.412Z"
   },
   {
    "duration": 14,
    "start_time": "2022-05-28T16:50:57.419Z"
   },
   {
    "duration": 12,
    "start_time": "2022-05-28T16:50:57.434Z"
   },
   {
    "duration": 10,
    "start_time": "2022-05-28T16:50:57.447Z"
   },
   {
    "duration": 44,
    "start_time": "2022-05-28T16:50:57.458Z"
   },
   {
    "duration": 14,
    "start_time": "2022-05-28T16:50:57.503Z"
   },
   {
    "duration": 14,
    "start_time": "2022-05-28T16:50:57.518Z"
   },
   {
    "duration": 17,
    "start_time": "2022-05-28T16:50:57.533Z"
   },
   {
    "duration": 6,
    "start_time": "2022-05-28T16:50:57.551Z"
   },
   {
    "duration": 50,
    "start_time": "2022-05-28T16:50:57.559Z"
   },
   {
    "duration": 17,
    "start_time": "2022-05-28T16:50:57.610Z"
   },
   {
    "duration": 30,
    "start_time": "2022-05-28T16:50:57.628Z"
   },
   {
    "duration": 14,
    "start_time": "2022-05-28T16:50:57.660Z"
   },
   {
    "duration": 26,
    "start_time": "2022-05-28T16:50:57.676Z"
   },
   {
    "duration": 13,
    "start_time": "2022-05-28T16:50:57.704Z"
   },
   {
    "duration": 15,
    "start_time": "2022-05-28T16:50:57.718Z"
   },
   {
    "duration": 429,
    "start_time": "2022-05-28T18:45:14.457Z"
   },
   {
    "duration": 99,
    "start_time": "2022-05-28T18:45:14.889Z"
   },
   {
    "duration": 15,
    "start_time": "2022-05-28T18:45:14.990Z"
   },
   {
    "duration": 85,
    "start_time": "2022-05-28T18:45:15.007Z"
   },
   {
    "duration": 7,
    "start_time": "2022-05-28T18:45:15.094Z"
   },
   {
    "duration": 10,
    "start_time": "2022-05-28T18:45:15.102Z"
   },
   {
    "duration": 21,
    "start_time": "2022-05-28T18:45:15.114Z"
   },
   {
    "duration": 10,
    "start_time": "2022-05-28T18:45:15.137Z"
   },
   {
    "duration": 12,
    "start_time": "2022-05-28T18:45:15.149Z"
   },
   {
    "duration": 13,
    "start_time": "2022-05-28T18:45:15.165Z"
   },
   {
    "duration": 17,
    "start_time": "2022-05-28T18:45:15.180Z"
   },
   {
    "duration": 38,
    "start_time": "2022-05-28T18:45:15.199Z"
   },
   {
    "duration": 44,
    "start_time": "2022-05-28T18:45:15.239Z"
   },
   {
    "duration": 44,
    "start_time": "2022-05-28T18:45:15.285Z"
   },
   {
    "duration": 57,
    "start_time": "2022-05-28T18:45:15.331Z"
   },
   {
    "duration": 60,
    "start_time": "2022-05-28T18:45:15.390Z"
   },
   {
    "duration": 8,
    "start_time": "2022-05-28T18:45:15.453Z"
   },
   {
    "duration": 17,
    "start_time": "2022-05-28T18:45:15.463Z"
   },
   {
    "duration": 45,
    "start_time": "2022-05-28T18:45:15.482Z"
   },
   {
    "duration": 14,
    "start_time": "2022-05-28T18:45:15.529Z"
   },
   {
    "duration": 16,
    "start_time": "2022-05-28T18:45:15.547Z"
   },
   {
    "duration": 14,
    "start_time": "2022-05-28T18:45:15.565Z"
   },
   {
    "duration": 51,
    "start_time": "2022-05-28T18:45:15.582Z"
   },
   {
    "duration": 24,
    "start_time": "2022-05-28T18:45:15.635Z"
   },
   {
    "duration": 8,
    "start_time": "2022-05-28T18:45:15.661Z"
   },
   {
    "duration": 44,
    "start_time": "2022-05-28T18:45:15.671Z"
   },
   {
    "duration": 22,
    "start_time": "2022-05-28T18:45:15.716Z"
   },
   {
    "duration": 44,
    "start_time": "2022-05-28T18:45:15.748Z"
   },
   {
    "duration": 15,
    "start_time": "2022-05-28T18:45:15.794Z"
   },
   {
    "duration": 35,
    "start_time": "2022-05-28T18:45:15.810Z"
   },
   {
    "duration": 13,
    "start_time": "2022-05-28T18:45:15.847Z"
   },
   {
    "duration": 14,
    "start_time": "2022-05-28T18:45:15.862Z"
   },
   {
    "duration": 17,
    "start_time": "2022-05-28T18:48:28.482Z"
   },
   {
    "duration": 7,
    "start_time": "2022-05-28T18:48:37.243Z"
   },
   {
    "duration": 15,
    "start_time": "2022-05-28T18:48:48.686Z"
   },
   {
    "duration": 7,
    "start_time": "2022-05-28T18:48:48.998Z"
   },
   {
    "duration": 397,
    "start_time": "2022-05-28T18:49:00.959Z"
   },
   {
    "duration": 113,
    "start_time": "2022-05-28T18:49:01.357Z"
   },
   {
    "duration": 23,
    "start_time": "2022-05-28T18:49:01.472Z"
   },
   {
    "duration": 99,
    "start_time": "2022-05-28T18:49:01.497Z"
   },
   {
    "duration": 6,
    "start_time": "2022-05-28T18:49:01.598Z"
   },
   {
    "duration": 33,
    "start_time": "2022-05-28T18:49:01.606Z"
   },
   {
    "duration": 9,
    "start_time": "2022-05-28T18:49:01.641Z"
   },
   {
    "duration": 17,
    "start_time": "2022-05-28T18:49:01.652Z"
   },
   {
    "duration": 8,
    "start_time": "2022-05-28T18:49:01.671Z"
   },
   {
    "duration": 14,
    "start_time": "2022-05-28T18:49:01.683Z"
   },
   {
    "duration": 30,
    "start_time": "2022-05-28T18:49:01.699Z"
   },
   {
    "duration": 31,
    "start_time": "2022-05-28T18:49:01.731Z"
   },
   {
    "duration": 77,
    "start_time": "2022-05-28T18:49:01.764Z"
   },
   {
    "duration": 29,
    "start_time": "2022-05-28T18:49:01.843Z"
   },
   {
    "duration": 66,
    "start_time": "2022-05-28T18:49:01.874Z"
   },
   {
    "duration": 36,
    "start_time": "2022-05-28T18:49:01.942Z"
   },
   {
    "duration": 45,
    "start_time": "2022-05-28T18:49:01.981Z"
   },
   {
    "duration": 19,
    "start_time": "2022-05-28T18:49:02.029Z"
   },
   {
    "duration": 34,
    "start_time": "2022-05-28T18:49:02.050Z"
   },
   {
    "duration": 25,
    "start_time": "2022-05-28T18:49:02.086Z"
   },
   {
    "duration": 38,
    "start_time": "2022-05-28T18:49:02.112Z"
   },
   {
    "duration": 37,
    "start_time": "2022-05-28T18:49:02.151Z"
   },
   {
    "duration": 39,
    "start_time": "2022-05-28T18:49:02.190Z"
   },
   {
    "duration": 22,
    "start_time": "2022-05-28T18:49:02.231Z"
   },
   {
    "duration": 19,
    "start_time": "2022-05-28T18:49:02.255Z"
   },
   {
    "duration": 50,
    "start_time": "2022-05-28T18:49:02.275Z"
   },
   {
    "duration": 22,
    "start_time": "2022-05-28T18:49:02.327Z"
   },
   {
    "duration": 49,
    "start_time": "2022-05-28T18:49:02.354Z"
   },
   {
    "duration": 12,
    "start_time": "2022-05-28T18:49:02.405Z"
   },
   {
    "duration": 30,
    "start_time": "2022-05-28T18:49:02.419Z"
   },
   {
    "duration": 38,
    "start_time": "2022-05-28T18:49:02.452Z"
   },
   {
    "duration": 19,
    "start_time": "2022-05-28T18:49:02.492Z"
   },
   {
    "duration": 21,
    "start_time": "2022-05-28T18:49:02.513Z"
   },
   {
    "duration": 25,
    "start_time": "2022-05-28T18:49:02.536Z"
   },
   {
    "duration": 15,
    "start_time": "2022-05-28T18:49:14.720Z"
   },
   {
    "duration": 9,
    "start_time": "2022-05-28T18:49:15.324Z"
   },
   {
    "duration": 15,
    "start_time": "2022-05-28T18:49:20.865Z"
   },
   {
    "duration": 9,
    "start_time": "2022-05-28T18:49:21.910Z"
   },
   {
    "duration": 16,
    "start_time": "2022-05-28T18:49:57.016Z"
   },
   {
    "duration": 9,
    "start_time": "2022-05-28T18:49:57.535Z"
   },
   {
    "duration": 10,
    "start_time": "2022-05-28T18:51:09.958Z"
   },
   {
    "duration": 9,
    "start_time": "2022-05-28T18:51:10.391Z"
   },
   {
    "duration": 402,
    "start_time": "2022-05-28T18:51:38.258Z"
   },
   {
    "duration": 102,
    "start_time": "2022-05-28T18:51:38.662Z"
   },
   {
    "duration": 16,
    "start_time": "2022-05-28T18:51:38.766Z"
   },
   {
    "duration": 93,
    "start_time": "2022-05-28T18:51:38.783Z"
   },
   {
    "duration": 5,
    "start_time": "2022-05-28T18:51:38.878Z"
   },
   {
    "duration": 11,
    "start_time": "2022-05-28T18:51:38.884Z"
   },
   {
    "duration": 6,
    "start_time": "2022-05-28T18:51:38.897Z"
   },
   {
    "duration": 42,
    "start_time": "2022-05-28T18:51:38.905Z"
   },
   {
    "duration": 5,
    "start_time": "2022-05-28T18:51:38.948Z"
   },
   {
    "duration": 9,
    "start_time": "2022-05-28T18:51:38.955Z"
   },
   {
    "duration": 17,
    "start_time": "2022-05-28T18:51:38.966Z"
   },
   {
    "duration": 32,
    "start_time": "2022-05-28T18:51:38.986Z"
   },
   {
    "duration": 51,
    "start_time": "2022-05-28T18:51:39.026Z"
   },
   {
    "duration": 23,
    "start_time": "2022-05-28T18:51:39.080Z"
   },
   {
    "duration": 61,
    "start_time": "2022-05-28T18:51:39.104Z"
   },
   {
    "duration": 24,
    "start_time": "2022-05-28T18:51:39.166Z"
   },
   {
    "duration": 48,
    "start_time": "2022-05-28T18:51:39.192Z"
   },
   {
    "duration": 11,
    "start_time": "2022-05-28T18:51:39.243Z"
   },
   {
    "duration": 14,
    "start_time": "2022-05-28T18:51:39.256Z"
   },
   {
    "duration": 9,
    "start_time": "2022-05-28T18:51:39.271Z"
   },
   {
    "duration": 13,
    "start_time": "2022-05-28T18:51:39.282Z"
   },
   {
    "duration": 44,
    "start_time": "2022-05-28T18:51:39.296Z"
   },
   {
    "duration": 22,
    "start_time": "2022-05-28T18:51:39.341Z"
   },
   {
    "duration": 16,
    "start_time": "2022-05-28T18:51:39.364Z"
   },
   {
    "duration": 6,
    "start_time": "2022-05-28T18:51:39.381Z"
   },
   {
    "duration": 41,
    "start_time": "2022-05-28T18:51:39.389Z"
   },
   {
    "duration": 141,
    "start_time": "2022-05-28T18:51:39.432Z"
   },
   {
    "duration": 0,
    "start_time": "2022-05-28T18:51:39.575Z"
   },
   {
    "duration": 0,
    "start_time": "2022-05-28T18:51:39.576Z"
   },
   {
    "duration": 0,
    "start_time": "2022-05-28T18:51:39.577Z"
   },
   {
    "duration": 0,
    "start_time": "2022-05-28T18:51:39.578Z"
   },
   {
    "duration": 1,
    "start_time": "2022-05-28T18:51:39.578Z"
   },
   {
    "duration": 0,
    "start_time": "2022-05-28T18:51:39.580Z"
   },
   {
    "duration": 24,
    "start_time": "2022-05-28T18:52:10.420Z"
   },
   {
    "duration": 15,
    "start_time": "2022-05-28T18:52:19.398Z"
   },
   {
    "duration": 375,
    "start_time": "2022-05-28T18:52:38.981Z"
   },
   {
    "duration": 99,
    "start_time": "2022-05-28T18:52:39.358Z"
   },
   {
    "duration": 18,
    "start_time": "2022-05-28T18:52:39.459Z"
   },
   {
    "duration": 89,
    "start_time": "2022-05-28T18:52:39.483Z"
   },
   {
    "duration": 5,
    "start_time": "2022-05-28T18:52:39.574Z"
   },
   {
    "duration": 19,
    "start_time": "2022-05-28T18:52:39.580Z"
   },
   {
    "duration": 18,
    "start_time": "2022-05-28T18:52:39.601Z"
   },
   {
    "duration": 15,
    "start_time": "2022-05-28T18:52:39.621Z"
   },
   {
    "duration": 12,
    "start_time": "2022-05-28T18:52:39.638Z"
   },
   {
    "duration": 26,
    "start_time": "2022-05-28T18:52:39.652Z"
   },
   {
    "duration": 37,
    "start_time": "2022-05-28T18:52:39.680Z"
   },
   {
    "duration": 35,
    "start_time": "2022-05-28T18:52:39.719Z"
   },
   {
    "duration": 45,
    "start_time": "2022-05-28T18:52:39.756Z"
   },
   {
    "duration": 35,
    "start_time": "2022-05-28T18:52:39.802Z"
   },
   {
    "duration": 32,
    "start_time": "2022-05-28T18:52:39.839Z"
   },
   {
    "duration": 58,
    "start_time": "2022-05-28T18:52:39.873Z"
   },
   {
    "duration": 6,
    "start_time": "2022-05-28T18:52:39.933Z"
   },
   {
    "duration": 21,
    "start_time": "2022-05-28T18:52:39.941Z"
   },
   {
    "duration": 33,
    "start_time": "2022-05-28T18:52:39.964Z"
   },
   {
    "duration": 17,
    "start_time": "2022-05-28T18:52:39.999Z"
   },
   {
    "duration": 20,
    "start_time": "2022-05-28T18:52:40.018Z"
   },
   {
    "duration": 16,
    "start_time": "2022-05-28T18:52:40.039Z"
   },
   {
    "duration": 20,
    "start_time": "2022-05-28T18:52:40.057Z"
   },
   {
    "duration": 24,
    "start_time": "2022-05-28T18:52:40.078Z"
   },
   {
    "duration": 26,
    "start_time": "2022-05-28T18:52:40.104Z"
   },
   {
    "duration": 48,
    "start_time": "2022-05-28T18:52:40.132Z"
   },
   {
    "duration": 10,
    "start_time": "2022-05-28T18:52:40.182Z"
   },
   {
    "duration": 47,
    "start_time": "2022-05-28T18:52:40.195Z"
   },
   {
    "duration": 17,
    "start_time": "2022-05-28T18:52:40.244Z"
   },
   {
    "duration": 33,
    "start_time": "2022-05-28T18:52:40.263Z"
   },
   {
    "duration": 21,
    "start_time": "2022-05-28T18:52:40.298Z"
   },
   {
    "duration": 32,
    "start_time": "2022-05-28T18:52:40.320Z"
   },
   {
    "duration": 78,
    "start_time": "2022-05-28T18:53:34.692Z"
   },
   {
    "duration": 34,
    "start_time": "2022-05-28T18:53:40.134Z"
   }
  ],
  "kernelspec": {
   "display_name": "Python 3 (ipykernel)",
   "language": "python",
   "name": "python3"
  },
  "language_info": {
   "codemirror_mode": {
    "name": "ipython",
    "version": 3
   },
   "file_extension": ".py",
   "mimetype": "text/x-python",
   "name": "python",
   "nbconvert_exporter": "python",
   "pygments_lexer": "ipython3",
   "version": "3.9.13"
  },
  "latex_envs": {
   "LaTeX_envs_menu_present": true,
   "autoclose": false,
   "autocomplete": true,
   "bibliofile": "biblio.bib",
   "cite_by": "apalike",
   "current_citInitial": 1,
   "eqLabelWithNumbers": true,
   "eqNumInitial": 1,
   "hotkeys": {
    "equation": "Ctrl-E",
    "itemize": "Ctrl-I"
   },
   "labels_anchors": false,
   "latex_user_defs": false,
   "report_style_numbering": false,
   "user_envs_cfg": false
  },
  "toc": {
   "base_numbering": 1,
   "nav_menu": {},
   "number_sections": true,
   "sideBar": true,
   "skip_h1_title": true,
   "title_cell": "Table of Contents",
   "title_sidebar": "Contents",
   "toc_cell": false,
   "toc_position": {
    "height": "calc(100% - 180px)",
    "left": "10px",
    "top": "150px",
    "width": "265.594px"
   },
   "toc_section_display": true,
   "toc_window_display": true
  }
 },
 "nbformat": 4,
 "nbformat_minor": 5
}
