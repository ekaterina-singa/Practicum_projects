{
 "cells": [
  {
   "cell_type": "markdown",
   "metadata": {},
   "source": [
    "# Проверка гипотез для интернет-магазина\n"
   ]
  },
  {
   "cell_type": "markdown",
   "metadata": {},
   "source": [
    "**Содержание** \n",
    "<a id=0> </a>\n",
    "\n",
    "[Введение](#1)  \n",
    "[Приоретизация гипотез](#2)  \n",
    "[Предобработка данных](#3)   \n",
    "[Анализ А/В-теста](#4)  \n",
    "[Решение](#5)  \n",
    "[Вывод](#6)"
   ]
  },
  {
   "cell_type": "markdown",
   "metadata": {},
   "source": [
    "## Введение\n",
    "<a id=1> </a>"
   ]
  },
  {
   "cell_type": "markdown",
   "metadata": {},
   "source": [
    "Нашему интернет-магазину понадобилось срочно повысить выручку. Для этого мы разработали восесьмь гипотез, которые собираемся проверить в ходе данного исследования при помощи A/B-тестирований. Т.к. наш бюджет и время ограничены, для начала мы выполним приоретизацию гипотез."
   ]
  },
  {
   "cell_type": "code",
   "execution_count": 1,
   "metadata": {},
   "outputs": [],
   "source": [
    "# импортируем все необходимые библиотеки\n",
    "import pandas as pd\n",
    "import numpy as np\n",
    "\n",
    "import datetime as dt\n",
    "from datetime import date, time, timedelta\n",
    "\n",
    "from scipy import stats\n",
    "import math as mth\n",
    "\n",
    "import matplotlib.pyplot as plt\n",
    "import matplotlib.ticker as ticker\n",
    "import matplotlib.dates as mdates\n",
    "import seaborn as sns"
   ]
  },
  {
   "cell_type": "code",
   "execution_count": 2,
   "metadata": {},
   "outputs": [],
   "source": [
    "# загрузим файлы\n",
    "try:\n",
    "    hypothesis = pd.read_csv('/Users/09e6y/Desktop/Катькис/Практикум/Проект 7 make decision/hypothesis.csv')\n",
    "    orders = pd.read_csv('/Users/09e6y/Desktop/Катькис/Практикум/Проект 7 make decision/orders.csv')\n",
    "    visitors = pd.read_csv('/Users/09e6y/Desktop/Катькис/Практикум/Проект 7 make decision/visitors.csv')\n",
    "except FileNotFoundError:\n",
    "    hypothesis = pd.read_csv('/datasets/hypothesis.csv')\n",
    "    orders = pd.read_csv('/datasets/orders.csv')\n",
    "    visitors = pd.read_csv('/datasets/visitors.csv')"
   ]
  },
  {
   "cell_type": "markdown",
   "metadata": {},
   "source": [
    "## Приоретизация гипотез\n",
    "<a id=2> </a>"
   ]
  },
  {
   "cell_type": "markdown",
   "metadata": {},
   "source": [
    "Поскольку время и бюджет на проверку гипотез ограничены, да и не имеет смысл проверять все подряд, выполним приоретизацию гипотез, используя фреймворки ICE и RICE."
   ]
  },
  {
   "cell_type": "code",
   "execution_count": 3,
   "metadata": {
    "scrolled": false
   },
   "outputs": [
    {
     "data": {
      "text/html": [
       "<div>\n",
       "<style scoped>\n",
       "    .dataframe tbody tr th:only-of-type {\n",
       "        vertical-align: middle;\n",
       "    }\n",
       "\n",
       "    .dataframe tbody tr th {\n",
       "        vertical-align: top;\n",
       "    }\n",
       "\n",
       "    .dataframe thead th {\n",
       "        text-align: right;\n",
       "    }\n",
       "</style>\n",
       "<table border=\"1\" class=\"dataframe\">\n",
       "  <thead>\n",
       "    <tr style=\"text-align: right;\">\n",
       "      <th></th>\n",
       "      <th>Hypothesis</th>\n",
       "      <th>Reach</th>\n",
       "      <th>Impact</th>\n",
       "      <th>Confidence</th>\n",
       "      <th>Efforts</th>\n",
       "    </tr>\n",
       "  </thead>\n",
       "  <tbody>\n",
       "    <tr>\n",
       "      <th>0</th>\n",
       "      <td>Добавить два новых канала привлечения трафика, что позволит привлекать на 30% больше пользователей</td>\n",
       "      <td>3</td>\n",
       "      <td>10</td>\n",
       "      <td>8</td>\n",
       "      <td>6</td>\n",
       "    </tr>\n",
       "    <tr>\n",
       "      <th>1</th>\n",
       "      <td>Запустить собственную службу доставки, что сократит срок доставки заказов</td>\n",
       "      <td>2</td>\n",
       "      <td>5</td>\n",
       "      <td>4</td>\n",
       "      <td>10</td>\n",
       "    </tr>\n",
       "    <tr>\n",
       "      <th>2</th>\n",
       "      <td>Добавить блоки рекомендаций товаров на сайт интернет магазина, чтобы повысить конверсию и средний чек заказа</td>\n",
       "      <td>8</td>\n",
       "      <td>3</td>\n",
       "      <td>7</td>\n",
       "      <td>3</td>\n",
       "    </tr>\n",
       "    <tr>\n",
       "      <th>3</th>\n",
       "      <td>Изменить структура категорий, что увеличит конверсию, т.к. пользователи быстрее найдут нужный товар</td>\n",
       "      <td>8</td>\n",
       "      <td>3</td>\n",
       "      <td>3</td>\n",
       "      <td>8</td>\n",
       "    </tr>\n",
       "    <tr>\n",
       "      <th>4</th>\n",
       "      <td>Изменить цвет фона главной страницы, чтобы увеличить вовлеченность пользователей</td>\n",
       "      <td>3</td>\n",
       "      <td>1</td>\n",
       "      <td>1</td>\n",
       "      <td>1</td>\n",
       "    </tr>\n",
       "    <tr>\n",
       "      <th>5</th>\n",
       "      <td>Добавить страницу отзывов клиентов о магазине, что позволит увеличить количество заказов</td>\n",
       "      <td>3</td>\n",
       "      <td>2</td>\n",
       "      <td>2</td>\n",
       "      <td>3</td>\n",
       "    </tr>\n",
       "    <tr>\n",
       "      <th>6</th>\n",
       "      <td>Показать на главной странице баннеры с актуальными акциями и распродажами, чтобы увеличить конверсию</td>\n",
       "      <td>5</td>\n",
       "      <td>3</td>\n",
       "      <td>8</td>\n",
       "      <td>3</td>\n",
       "    </tr>\n",
       "    <tr>\n",
       "      <th>7</th>\n",
       "      <td>Добавить форму подписки на все основные страницы, чтобы собрать базу клиентов для email-рассылок</td>\n",
       "      <td>10</td>\n",
       "      <td>7</td>\n",
       "      <td>8</td>\n",
       "      <td>5</td>\n",
       "    </tr>\n",
       "    <tr>\n",
       "      <th>8</th>\n",
       "      <td>Запустить акцию, дающую скидку на товар в день рождения</td>\n",
       "      <td>1</td>\n",
       "      <td>9</td>\n",
       "      <td>9</td>\n",
       "      <td>5</td>\n",
       "    </tr>\n",
       "  </tbody>\n",
       "</table>\n",
       "</div>"
      ],
      "text/plain": [
       "                                                                                                     Hypothesis  \\\n",
       "0            Добавить два новых канала привлечения трафика, что позволит привлекать на 30% больше пользователей   \n",
       "1                                     Запустить собственную службу доставки, что сократит срок доставки заказов   \n",
       "2  Добавить блоки рекомендаций товаров на сайт интернет магазина, чтобы повысить конверсию и средний чек заказа   \n",
       "3           Изменить структура категорий, что увеличит конверсию, т.к. пользователи быстрее найдут нужный товар   \n",
       "4                              Изменить цвет фона главной страницы, чтобы увеличить вовлеченность пользователей   \n",
       "5                      Добавить страницу отзывов клиентов о магазине, что позволит увеличить количество заказов   \n",
       "6          Показать на главной странице баннеры с актуальными акциями и распродажами, чтобы увеличить конверсию   \n",
       "7              Добавить форму подписки на все основные страницы, чтобы собрать базу клиентов для email-рассылок   \n",
       "8                                                       Запустить акцию, дающую скидку на товар в день рождения   \n",
       "\n",
       "   Reach  Impact  Confidence  Efforts  \n",
       "0      3      10           8        6  \n",
       "1      2       5           4       10  \n",
       "2      8       3           7        3  \n",
       "3      8       3           3        8  \n",
       "4      3       1           1        1  \n",
       "5      3       2           2        3  \n",
       "6      5       3           8        3  \n",
       "7     10       7           8        5  \n",
       "8      1       9           9        5  "
      ]
     },
     "execution_count": 3,
     "metadata": {},
     "output_type": "execute_result"
    }
   ],
   "source": [
    "pd.set_option('display.max_colwidth', None) # отобразим всю строку целиком\n",
    "hypothesis\n"
   ]
  },
  {
   "cell_type": "markdown",
   "metadata": {},
   "source": [
    "Для определения приоритетных гипотез воспользуемся следующими формулами:"
   ]
  },
  {
   "cell_type": "markdown",
   "metadata": {},
   "source": [
    "$$ICE = \\frac{Impact*Confidence}{Efforts}$$"
   ]
  },
  {
   "cell_type": "markdown",
   "metadata": {},
   "source": [
    "$$RICE = \\frac{Reach*Impact*Confidence}{Efforts}$$"
   ]
  },
  {
   "cell_type": "code",
   "execution_count": 4,
   "metadata": {},
   "outputs": [
    {
     "name": "stdout",
     "output_type": "stream",
     "text": [
      "                                                                                                     Hypothesis  \\\n",
      "8                                                       Запустить акцию, дающую скидку на товар в день рождения   \n",
      "0            Добавить два новых канала привлечения трафика, что позволит привлекать на 30% больше пользователей   \n",
      "7              Добавить форму подписки на все основные страницы, чтобы собрать базу клиентов для email-рассылок   \n",
      "6          Показать на главной странице баннеры с актуальными акциями и распродажами, чтобы увеличить конверсию   \n",
      "2  Добавить блоки рекомендаций товаров на сайт интернет магазина, чтобы повысить конверсию и средний чек заказа   \n",
      "1                                     Запустить собственную службу доставки, что сократит срок доставки заказов   \n",
      "5                      Добавить страницу отзывов клиентов о магазине, что позволит увеличить количество заказов   \n",
      "3           Изменить структура категорий, что увеличит конверсию, т.к. пользователи быстрее найдут нужный товар   \n",
      "4                              Изменить цвет фона главной страницы, чтобы увеличить вовлеченность пользователей   \n",
      "\n",
      "         ICE  \n",
      "8  16.200000  \n",
      "0  13.333333  \n",
      "7  11.200000  \n",
      "6   8.000000  \n",
      "2   7.000000  \n",
      "1   2.000000  \n",
      "5   1.333333  \n",
      "3   1.125000  \n",
      "4   1.000000  \n"
     ]
    }
   ],
   "source": [
    "# добавим колонку с вычисленным значением ICE\n",
    "hypothesis['ICE'] = hypothesis['Impact']*hypothesis['Confidence']/ hypothesis['Efforts']\n",
    "# отсортируем данные по убыванию\n",
    "print(hypothesis[['Hypothesis', 'ICE']].sort_values(by= 'ICE', ascending = False))\n"
   ]
  },
  {
   "cell_type": "markdown",
   "metadata": {},
   "source": [
    "Больше всего баллов набрали гипотезы 8, 0 и 7, но пока рано приступать к анализу, нам необходимо учесть так же параметр охвата, поэтому применим так же фрэймворк RICE."
   ]
  },
  {
   "cell_type": "code",
   "execution_count": 5,
   "metadata": {},
   "outputs": [
    {
     "name": "stdout",
     "output_type": "stream",
     "text": [
      "                                                                                                     Hypothesis  \\\n",
      "7              Добавить форму подписки на все основные страницы, чтобы собрать базу клиентов для email-рассылок   \n",
      "2  Добавить блоки рекомендаций товаров на сайт интернет магазина, чтобы повысить конверсию и средний чек заказа   \n",
      "0            Добавить два новых канала привлечения трафика, что позволит привлекать на 30% больше пользователей   \n",
      "6          Показать на главной странице баннеры с актуальными акциями и распродажами, чтобы увеличить конверсию   \n",
      "8                                                       Запустить акцию, дающую скидку на товар в день рождения   \n",
      "3           Изменить структура категорий, что увеличит конверсию, т.к. пользователи быстрее найдут нужный товар   \n",
      "1                                     Запустить собственную службу доставки, что сократит срок доставки заказов   \n",
      "5                      Добавить страницу отзывов клиентов о магазине, что позволит увеличить количество заказов   \n",
      "4                              Изменить цвет фона главной страницы, чтобы увеличить вовлеченность пользователей   \n",
      "\n",
      "    RICE        ICE  \n",
      "7  112.0  11.200000  \n",
      "2   56.0   7.000000  \n",
      "0   40.0  13.333333  \n",
      "6   40.0   8.000000  \n",
      "8   16.2  16.200000  \n",
      "3    9.0   1.125000  \n",
      "1    4.0   2.000000  \n",
      "5    4.0   1.333333  \n",
      "4    3.0   1.000000  \n"
     ]
    }
   ],
   "source": [
    "# добавим к вычислениям параметр Reach\n",
    "hypothesis['RICE'] = hypothesis['ICE']* hypothesis['Reach']\n",
    "# отсортируем даннные по убыванию\n",
    "print(hypothesis[['Hypothesis', 'RICE', 'ICE']].sort_values(by= 'RICE', ascending = False))\n"
   ]
  },
  {
   "cell_type": "markdown",
   "metadata": {},
   "source": [
    "Здесь на первом месте гипотеза 7, при чем с большим отрывом, а за ней следуют 2, 0 и 6.\n",
    "7 гипотеза будет иметь больший охват (ее воплощение увидят все пользователи вообще), но при этом легка в исполнении - поэтому она получила максимальный статус. А еще ее исполнение позволит нам собрать важные данные для компании.\n"
   ]
  },
  {
   "cell_type": "markdown",
   "metadata": {},
   "source": [
    "## Предобработка данных\n",
    "<a id=3> </a>"
   ]
  },
  {
   "cell_type": "markdown",
   "metadata": {},
   "source": [
    "Посмотрим на наши данные."
   ]
  },
  {
   "cell_type": "code",
   "execution_count": 6,
   "metadata": {
    "scrolled": true
   },
   "outputs": [
    {
     "name": "stdout",
     "output_type": "stream",
     "text": [
      "<class 'pandas.core.frame.DataFrame'>\n",
      "RangeIndex: 1197 entries, 0 to 1196\n",
      "Data columns (total 5 columns):\n",
      " #   Column         Non-Null Count  Dtype \n",
      "---  ------         --------------  ----- \n",
      " 0   transactionId  1197 non-null   int64 \n",
      " 1   visitorId      1197 non-null   int64 \n",
      " 2   date           1197 non-null   object\n",
      " 3   revenue        1197 non-null   int64 \n",
      " 4   group          1197 non-null   object\n",
      "dtypes: int64(3), object(2)\n",
      "memory usage: 46.9+ KB\n"
     ]
    }
   ],
   "source": [
    "orders.info()\n"
   ]
  },
  {
   "cell_type": "markdown",
   "metadata": {},
   "source": [
    "Пропусков нет, форматы данных совпадают с заявленными, формат даты мы поменяем чуть позже. Проверим так же на наличие дубликатов."
   ]
  },
  {
   "cell_type": "code",
   "execution_count": 7,
   "metadata": {},
   "outputs": [
    {
     "data": {
      "text/plain": [
       "0"
      ]
     },
     "execution_count": 7,
     "metadata": {},
     "output_type": "execute_result"
    }
   ],
   "source": [
    "orders.duplicated().sum()\n"
   ]
  },
  {
   "cell_type": "markdown",
   "metadata": {},
   "source": [
    "Дубликатов не обнаружено. Данные готовы к тестированию."
   ]
  },
  {
   "cell_type": "markdown",
   "metadata": {},
   "source": [
    "[Содержание](#0)"
   ]
  },
  {
   "cell_type": "markdown",
   "metadata": {},
   "source": [
    "## Анализ А/В-теста\n",
    "<a id=4> </a>"
   ]
  },
  {
   "cell_type": "markdown",
   "metadata": {},
   "source": [
    "Согласно выбранным ранее гипотезам мы провели А/В-тест и теперь должны проанализировать его результаты.\n",
    "\n",
    "Для начала посмотрим, не было ли среди наших данных пользоватлей, которые случайно попали в обе группы теста."
   ]
  },
  {
   "cell_type": "code",
   "execution_count": 8,
   "metadata": {},
   "outputs": [
    {
     "data": {
      "text/html": [
       "<div>\n",
       "<style scoped>\n",
       "    .dataframe tbody tr th:only-of-type {\n",
       "        vertical-align: middle;\n",
       "    }\n",
       "\n",
       "    .dataframe tbody tr th {\n",
       "        vertical-align: top;\n",
       "    }\n",
       "\n",
       "    .dataframe thead th {\n",
       "        text-align: right;\n",
       "    }\n",
       "</style>\n",
       "<table border=\"1\" class=\"dataframe\">\n",
       "  <thead>\n",
       "    <tr style=\"text-align: right;\">\n",
       "      <th></th>\n",
       "      <th>transactionId</th>\n",
       "      <th>visitorId</th>\n",
       "      <th>date</th>\n",
       "      <th>revenue</th>\n",
       "      <th>group</th>\n",
       "    </tr>\n",
       "  </thead>\n",
       "  <tbody>\n",
       "    <tr>\n",
       "      <th>0</th>\n",
       "      <td>3667963787</td>\n",
       "      <td>3312258926</td>\n",
       "      <td>2019-08-15</td>\n",
       "      <td>1650</td>\n",
       "      <td>B</td>\n",
       "    </tr>\n",
       "    <tr>\n",
       "      <th>1</th>\n",
       "      <td>2804400009</td>\n",
       "      <td>3642806036</td>\n",
       "      <td>2019-08-15</td>\n",
       "      <td>730</td>\n",
       "      <td>B</td>\n",
       "    </tr>\n",
       "    <tr>\n",
       "      <th>2</th>\n",
       "      <td>2961555356</td>\n",
       "      <td>4069496402</td>\n",
       "      <td>2019-08-15</td>\n",
       "      <td>400</td>\n",
       "      <td>A</td>\n",
       "    </tr>\n",
       "    <tr>\n",
       "      <th>3</th>\n",
       "      <td>3797467345</td>\n",
       "      <td>1196621759</td>\n",
       "      <td>2019-08-15</td>\n",
       "      <td>9759</td>\n",
       "      <td>B</td>\n",
       "    </tr>\n",
       "    <tr>\n",
       "      <th>4</th>\n",
       "      <td>2282983706</td>\n",
       "      <td>2322279887</td>\n",
       "      <td>2019-08-15</td>\n",
       "      <td>2308</td>\n",
       "      <td>B</td>\n",
       "    </tr>\n",
       "    <tr>\n",
       "      <th>...</th>\n",
       "      <td>...</td>\n",
       "      <td>...</td>\n",
       "      <td>...</td>\n",
       "      <td>...</td>\n",
       "      <td>...</td>\n",
       "    </tr>\n",
       "    <tr>\n",
       "      <th>1192</th>\n",
       "      <td>2662137336</td>\n",
       "      <td>3733762160</td>\n",
       "      <td>2019-08-14</td>\n",
       "      <td>6490</td>\n",
       "      <td>B</td>\n",
       "    </tr>\n",
       "    <tr>\n",
       "      <th>1193</th>\n",
       "      <td>2203539145</td>\n",
       "      <td>370388673</td>\n",
       "      <td>2019-08-14</td>\n",
       "      <td>3190</td>\n",
       "      <td>A</td>\n",
       "    </tr>\n",
       "    <tr>\n",
       "      <th>1194</th>\n",
       "      <td>1807773912</td>\n",
       "      <td>573423106</td>\n",
       "      <td>2019-08-14</td>\n",
       "      <td>10550</td>\n",
       "      <td>A</td>\n",
       "    </tr>\n",
       "    <tr>\n",
       "      <th>1195</th>\n",
       "      <td>1947021204</td>\n",
       "      <td>1614305549</td>\n",
       "      <td>2019-08-14</td>\n",
       "      <td>100</td>\n",
       "      <td>A</td>\n",
       "    </tr>\n",
       "    <tr>\n",
       "      <th>1196</th>\n",
       "      <td>3936777065</td>\n",
       "      <td>2108080724</td>\n",
       "      <td>2019-08-15</td>\n",
       "      <td>202740</td>\n",
       "      <td>B</td>\n",
       "    </tr>\n",
       "  </tbody>\n",
       "</table>\n",
       "<p>1197 rows × 5 columns</p>\n",
       "</div>"
      ],
      "text/plain": [
       "      transactionId   visitorId        date  revenue group\n",
       "0        3667963787  3312258926  2019-08-15     1650     B\n",
       "1        2804400009  3642806036  2019-08-15      730     B\n",
       "2        2961555356  4069496402  2019-08-15      400     A\n",
       "3        3797467345  1196621759  2019-08-15     9759     B\n",
       "4        2282983706  2322279887  2019-08-15     2308     B\n",
       "...             ...         ...         ...      ...   ...\n",
       "1192     2662137336  3733762160  2019-08-14     6490     B\n",
       "1193     2203539145   370388673  2019-08-14     3190     A\n",
       "1194     1807773912   573423106  2019-08-14    10550     A\n",
       "1195     1947021204  1614305549  2019-08-14      100     A\n",
       "1196     3936777065  2108080724  2019-08-15   202740     B\n",
       "\n",
       "[1197 rows x 5 columns]"
      ]
     },
     "execution_count": 8,
     "metadata": {},
     "output_type": "execute_result"
    }
   ],
   "source": [
    "orders\n"
   ]
  },
  {
   "cell_type": "code",
   "execution_count": 9,
   "metadata": {
    "scrolled": true
   },
   "outputs": [
    {
     "data": {
      "text/html": [
       "<div>\n",
       "<style scoped>\n",
       "    .dataframe tbody tr th:only-of-type {\n",
       "        vertical-align: middle;\n",
       "    }\n",
       "\n",
       "    .dataframe tbody tr th {\n",
       "        vertical-align: top;\n",
       "    }\n",
       "\n",
       "    .dataframe thead th {\n",
       "        text-align: right;\n",
       "    }\n",
       "</style>\n",
       "<table border=\"1\" class=\"dataframe\">\n",
       "  <thead>\n",
       "    <tr style=\"text-align: right;\">\n",
       "      <th></th>\n",
       "      <th>transactionId_x</th>\n",
       "      <th>visitorId</th>\n",
       "      <th>date_x</th>\n",
       "      <th>revenue_x</th>\n",
       "      <th>group_x</th>\n",
       "      <th>transactionId_y</th>\n",
       "      <th>date_y</th>\n",
       "      <th>revenue_y</th>\n",
       "      <th>group_y</th>\n",
       "    </tr>\n",
       "  </thead>\n",
       "  <tbody>\n",
       "    <tr>\n",
       "      <th>0</th>\n",
       "      <td>2961555356</td>\n",
       "      <td>4069496402</td>\n",
       "      <td>2019-08-15</td>\n",
       "      <td>400</td>\n",
       "      <td>A</td>\n",
       "      <td>1473132782</td>\n",
       "      <td>2019-08-12</td>\n",
       "      <td>640</td>\n",
       "      <td>B</td>\n",
       "    </tr>\n",
       "    <tr>\n",
       "      <th>1</th>\n",
       "      <td>2223239646</td>\n",
       "      <td>199603092</td>\n",
       "      <td>2019-08-15</td>\n",
       "      <td>3488</td>\n",
       "      <td>A</td>\n",
       "      <td>437656952</td>\n",
       "      <td>2019-08-02</td>\n",
       "      <td>3488</td>\n",
       "      <td>B</td>\n",
       "    </tr>\n",
       "    <tr>\n",
       "      <th>2</th>\n",
       "      <td>62794304</td>\n",
       "      <td>199603092</td>\n",
       "      <td>2019-08-22</td>\n",
       "      <td>6976</td>\n",
       "      <td>A</td>\n",
       "      <td>437656952</td>\n",
       "      <td>2019-08-02</td>\n",
       "      <td>3488</td>\n",
       "      <td>B</td>\n",
       "    </tr>\n",
       "    <tr>\n",
       "      <th>3</th>\n",
       "      <td>2971973105</td>\n",
       "      <td>199603092</td>\n",
       "      <td>2019-08-27</td>\n",
       "      <td>2790</td>\n",
       "      <td>A</td>\n",
       "      <td>437656952</td>\n",
       "      <td>2019-08-02</td>\n",
       "      <td>3488</td>\n",
       "      <td>B</td>\n",
       "    </tr>\n",
       "    <tr>\n",
       "      <th>4</th>\n",
       "      <td>1941707234</td>\n",
       "      <td>199603092</td>\n",
       "      <td>2019-08-12</td>\n",
       "      <td>6438</td>\n",
       "      <td>A</td>\n",
       "      <td>437656952</td>\n",
       "      <td>2019-08-02</td>\n",
       "      <td>3488</td>\n",
       "      <td>B</td>\n",
       "    </tr>\n",
       "    <tr>\n",
       "      <th>...</th>\n",
       "      <td>...</td>\n",
       "      <td>...</td>\n",
       "      <td>...</td>\n",
       "      <td>...</td>\n",
       "      <td>...</td>\n",
       "      <td>...</td>\n",
       "      <td>...</td>\n",
       "      <td>...</td>\n",
       "      <td>...</td>\n",
       "    </tr>\n",
       "    <tr>\n",
       "      <th>178</th>\n",
       "      <td>3757656646</td>\n",
       "      <td>4186807279</td>\n",
       "      <td>2019-08-14</td>\n",
       "      <td>4990</td>\n",
       "      <td>A</td>\n",
       "      <td>1759418862</td>\n",
       "      <td>2019-08-21</td>\n",
       "      <td>18560</td>\n",
       "      <td>B</td>\n",
       "    </tr>\n",
       "    <tr>\n",
       "      <th>179</th>\n",
       "      <td>3757656646</td>\n",
       "      <td>4186807279</td>\n",
       "      <td>2019-08-14</td>\n",
       "      <td>4990</td>\n",
       "      <td>A</td>\n",
       "      <td>380064637</td>\n",
       "      <td>2019-08-27</td>\n",
       "      <td>13740</td>\n",
       "      <td>B</td>\n",
       "    </tr>\n",
       "    <tr>\n",
       "      <th>180</th>\n",
       "      <td>3612788481</td>\n",
       "      <td>2712142231</td>\n",
       "      <td>2019-08-14</td>\n",
       "      <td>2490</td>\n",
       "      <td>A</td>\n",
       "      <td>1251767592</td>\n",
       "      <td>2019-08-16</td>\n",
       "      <td>790</td>\n",
       "      <td>B</td>\n",
       "    </tr>\n",
       "    <tr>\n",
       "      <th>181</th>\n",
       "      <td>4052155355</td>\n",
       "      <td>2949041841</td>\n",
       "      <td>2019-08-14</td>\n",
       "      <td>190</td>\n",
       "      <td>A</td>\n",
       "      <td>1329499668</td>\n",
       "      <td>2019-08-14</td>\n",
       "      <td>10380</td>\n",
       "      <td>B</td>\n",
       "    </tr>\n",
       "    <tr>\n",
       "      <th>182</th>\n",
       "      <td>1458356232</td>\n",
       "      <td>963407295</td>\n",
       "      <td>2019-08-14</td>\n",
       "      <td>4940</td>\n",
       "      <td>A</td>\n",
       "      <td>2904772834</td>\n",
       "      <td>2019-08-15</td>\n",
       "      <td>300</td>\n",
       "      <td>B</td>\n",
       "    </tr>\n",
       "  </tbody>\n",
       "</table>\n",
       "<p>183 rows × 9 columns</p>\n",
       "</div>"
      ],
      "text/plain": [
       "     transactionId_x   visitorId      date_x  revenue_x group_x  \\\n",
       "0         2961555356  4069496402  2019-08-15        400       A   \n",
       "1         2223239646   199603092  2019-08-15       3488       A   \n",
       "2           62794304   199603092  2019-08-22       6976       A   \n",
       "3         2971973105   199603092  2019-08-27       2790       A   \n",
       "4         1941707234   199603092  2019-08-12       6438       A   \n",
       "..               ...         ...         ...        ...     ...   \n",
       "178       3757656646  4186807279  2019-08-14       4990       A   \n",
       "179       3757656646  4186807279  2019-08-14       4990       A   \n",
       "180       3612788481  2712142231  2019-08-14       2490       A   \n",
       "181       4052155355  2949041841  2019-08-14        190       A   \n",
       "182       1458356232   963407295  2019-08-14       4940       A   \n",
       "\n",
       "     transactionId_y      date_y  revenue_y group_y  \n",
       "0         1473132782  2019-08-12        640       B  \n",
       "1          437656952  2019-08-02       3488       B  \n",
       "2          437656952  2019-08-02       3488       B  \n",
       "3          437656952  2019-08-02       3488       B  \n",
       "4          437656952  2019-08-02       3488       B  \n",
       "..               ...         ...        ...     ...  \n",
       "178       1759418862  2019-08-21      18560       B  \n",
       "179        380064637  2019-08-27      13740       B  \n",
       "180       1251767592  2019-08-16        790       B  \n",
       "181       1329499668  2019-08-14      10380       B  \n",
       "182       2904772834  2019-08-15        300       B  \n",
       "\n",
       "[183 rows x 9 columns]"
      ]
     },
     "execution_count": 9,
     "metadata": {},
     "output_type": "execute_result"
    }
   ],
   "source": [
    "# разделим датафрейм на две части по группе и смерджим обратно, используя visitorId\n",
    "orders_a = orders.query('group == \"A\"')\n",
    "orders_b = orders.query('group == \"B\"')\n",
    "# используем тип объединения inner, чтобы в объединенный датасет попали только id, которые есть в обеих группах. \n",
    "orders_id = orders_a.merge(orders_b, on='visitorId', how='inner') \n",
    "\n",
    "orders_id\n"
   ]
  },
  {
   "cell_type": "code",
   "execution_count": 10,
   "metadata": {
    "scrolled": true
   },
   "outputs": [
    {
     "data": {
      "text/plain": [
       "array([4069496402,  199603092, 3803269165, 2378935119,  237748145,\n",
       "       4256040402, 2038680547, 1738359350, 2458001652, 3891541246,\n",
       "       2716752286, 3656415546, 2686716486, 2954449915, 2927087541,\n",
       "       3234906277,  457167155, 2579882178, 3957174400, 1648269707,\n",
       "       2780786433,  818047933, 2044997962, 1959144690, 3202540741,\n",
       "       1333886533,  351125977, 3951559397,  393266494, 3984495233,\n",
       "       4120364173, 4266935830, 1230306981, 1294878855, 1614305549,\n",
       "          8300375,  477780734, 1668030113, 3717692402, 3766097110,\n",
       "       3941795274,  471551937, 1316129916, 1801183820, 1602967004,\n",
       "       2587333274, 2600415354,  232979603, 3972127743, 1404934699,\n",
       "        276558944, 3062433592, 2654030115, 3963646447, 4186807279,\n",
       "       2712142231, 2949041841,  963407295])"
      ]
     },
     "metadata": {},
     "output_type": "display_data"
    },
    {
     "data": {
      "text/plain": [
       "58"
      ]
     },
     "execution_count": 10,
     "metadata": {},
     "output_type": "execute_result"
    }
   ],
   "source": [
    "# выберем уникальные id\n",
    "id_list = orders_id['visitorId'].unique()\n",
    "display(id_list)\n",
    "len(id_list)\n"
   ]
  },
  {
   "cell_type": "markdown",
   "metadata": {},
   "source": [
    "Таки id - 58. Удалим таких пользователей из наших данных - они будут искажать результаты исследования."
   ]
  },
  {
   "cell_type": "code",
   "execution_count": 11,
   "metadata": {},
   "outputs": [
    {
     "data": {
      "text/html": [
       "<div>\n",
       "<style scoped>\n",
       "    .dataframe tbody tr th:only-of-type {\n",
       "        vertical-align: middle;\n",
       "    }\n",
       "\n",
       "    .dataframe tbody tr th {\n",
       "        vertical-align: top;\n",
       "    }\n",
       "\n",
       "    .dataframe thead th {\n",
       "        text-align: right;\n",
       "    }\n",
       "</style>\n",
       "<table border=\"1\" class=\"dataframe\">\n",
       "  <thead>\n",
       "    <tr style=\"text-align: right;\">\n",
       "      <th></th>\n",
       "      <th>transactionId</th>\n",
       "      <th>visitorId</th>\n",
       "      <th>date</th>\n",
       "      <th>revenue</th>\n",
       "      <th>group</th>\n",
       "    </tr>\n",
       "  </thead>\n",
       "  <tbody>\n",
       "    <tr>\n",
       "      <th>0</th>\n",
       "      <td>3667963787</td>\n",
       "      <td>3312258926</td>\n",
       "      <td>2019-08-15</td>\n",
       "      <td>1650</td>\n",
       "      <td>B</td>\n",
       "    </tr>\n",
       "    <tr>\n",
       "      <th>1</th>\n",
       "      <td>2804400009</td>\n",
       "      <td>3642806036</td>\n",
       "      <td>2019-08-15</td>\n",
       "      <td>730</td>\n",
       "      <td>B</td>\n",
       "    </tr>\n",
       "    <tr>\n",
       "      <th>3</th>\n",
       "      <td>3797467345</td>\n",
       "      <td>1196621759</td>\n",
       "      <td>2019-08-15</td>\n",
       "      <td>9759</td>\n",
       "      <td>B</td>\n",
       "    </tr>\n",
       "    <tr>\n",
       "      <th>4</th>\n",
       "      <td>2282983706</td>\n",
       "      <td>2322279887</td>\n",
       "      <td>2019-08-15</td>\n",
       "      <td>2308</td>\n",
       "      <td>B</td>\n",
       "    </tr>\n",
       "    <tr>\n",
       "      <th>5</th>\n",
       "      <td>182168103</td>\n",
       "      <td>935554773</td>\n",
       "      <td>2019-08-15</td>\n",
       "      <td>2210</td>\n",
       "      <td>B</td>\n",
       "    </tr>\n",
       "    <tr>\n",
       "      <th>...</th>\n",
       "      <td>...</td>\n",
       "      <td>...</td>\n",
       "      <td>...</td>\n",
       "      <td>...</td>\n",
       "      <td>...</td>\n",
       "    </tr>\n",
       "    <tr>\n",
       "      <th>1191</th>\n",
       "      <td>3592955527</td>\n",
       "      <td>608641596</td>\n",
       "      <td>2019-08-14</td>\n",
       "      <td>16490</td>\n",
       "      <td>B</td>\n",
       "    </tr>\n",
       "    <tr>\n",
       "      <th>1192</th>\n",
       "      <td>2662137336</td>\n",
       "      <td>3733762160</td>\n",
       "      <td>2019-08-14</td>\n",
       "      <td>6490</td>\n",
       "      <td>B</td>\n",
       "    </tr>\n",
       "    <tr>\n",
       "      <th>1193</th>\n",
       "      <td>2203539145</td>\n",
       "      <td>370388673</td>\n",
       "      <td>2019-08-14</td>\n",
       "      <td>3190</td>\n",
       "      <td>A</td>\n",
       "    </tr>\n",
       "    <tr>\n",
       "      <th>1194</th>\n",
       "      <td>1807773912</td>\n",
       "      <td>573423106</td>\n",
       "      <td>2019-08-14</td>\n",
       "      <td>10550</td>\n",
       "      <td>A</td>\n",
       "    </tr>\n",
       "    <tr>\n",
       "      <th>1196</th>\n",
       "      <td>3936777065</td>\n",
       "      <td>2108080724</td>\n",
       "      <td>2019-08-15</td>\n",
       "      <td>202740</td>\n",
       "      <td>B</td>\n",
       "    </tr>\n",
       "  </tbody>\n",
       "</table>\n",
       "<p>1016 rows × 5 columns</p>\n",
       "</div>"
      ],
      "text/plain": [
       "      transactionId   visitorId        date  revenue group\n",
       "0        3667963787  3312258926  2019-08-15     1650     B\n",
       "1        2804400009  3642806036  2019-08-15      730     B\n",
       "3        3797467345  1196621759  2019-08-15     9759     B\n",
       "4        2282983706  2322279887  2019-08-15     2308     B\n",
       "5         182168103   935554773  2019-08-15     2210     B\n",
       "...             ...         ...         ...      ...   ...\n",
       "1191     3592955527   608641596  2019-08-14    16490     B\n",
       "1192     2662137336  3733762160  2019-08-14     6490     B\n",
       "1193     2203539145   370388673  2019-08-14     3190     A\n",
       "1194     1807773912   573423106  2019-08-14    10550     A\n",
       "1196     3936777065  2108080724  2019-08-15   202740     B\n",
       "\n",
       "[1016 rows x 5 columns]"
      ]
     },
     "execution_count": 11,
     "metadata": {},
     "output_type": "execute_result"
    }
   ],
   "source": [
    "# отфильтруем исходный датафрем по id\n",
    "orders = orders[~orders['visitorId'].isin(id_list)]\n",
    "orders\n"
   ]
  },
  {
   "cell_type": "markdown",
   "metadata": {},
   "source": [
    "Для того чтобы визуализировать наши данные, нужно посчитать кумулятивные метрики ARPU, ARPPU и конверсию (CR). Данные для метрик возьмем из датафрейма orders."
   ]
  },
  {
   "cell_type": "code",
   "execution_count": 12,
   "metadata": {
    "scrolled": true
   },
   "outputs": [
    {
     "data": {
      "text/html": [
       "<div>\n",
       "<style scoped>\n",
       "    .dataframe tbody tr th:only-of-type {\n",
       "        vertical-align: middle;\n",
       "    }\n",
       "\n",
       "    .dataframe tbody tr th {\n",
       "        vertical-align: top;\n",
       "    }\n",
       "\n",
       "    .dataframe thead th {\n",
       "        text-align: right;\n",
       "    }\n",
       "</style>\n",
       "<table border=\"1\" class=\"dataframe\">\n",
       "  <thead>\n",
       "    <tr style=\"text-align: right;\">\n",
       "      <th></th>\n",
       "      <th>transactionId</th>\n",
       "      <th>visitorId</th>\n",
       "      <th>date</th>\n",
       "      <th>revenue</th>\n",
       "      <th>group</th>\n",
       "    </tr>\n",
       "  </thead>\n",
       "  <tbody>\n",
       "    <tr>\n",
       "      <th>0</th>\n",
       "      <td>3667963787</td>\n",
       "      <td>3312258926</td>\n",
       "      <td>2019-08-15</td>\n",
       "      <td>1650</td>\n",
       "      <td>B</td>\n",
       "    </tr>\n",
       "    <tr>\n",
       "      <th>1</th>\n",
       "      <td>2804400009</td>\n",
       "      <td>3642806036</td>\n",
       "      <td>2019-08-15</td>\n",
       "      <td>730</td>\n",
       "      <td>B</td>\n",
       "    </tr>\n",
       "    <tr>\n",
       "      <th>3</th>\n",
       "      <td>3797467345</td>\n",
       "      <td>1196621759</td>\n",
       "      <td>2019-08-15</td>\n",
       "      <td>9759</td>\n",
       "      <td>B</td>\n",
       "    </tr>\n",
       "    <tr>\n",
       "      <th>4</th>\n",
       "      <td>2282983706</td>\n",
       "      <td>2322279887</td>\n",
       "      <td>2019-08-15</td>\n",
       "      <td>2308</td>\n",
       "      <td>B</td>\n",
       "    </tr>\n",
       "    <tr>\n",
       "      <th>5</th>\n",
       "      <td>182168103</td>\n",
       "      <td>935554773</td>\n",
       "      <td>2019-08-15</td>\n",
       "      <td>2210</td>\n",
       "      <td>B</td>\n",
       "    </tr>\n",
       "    <tr>\n",
       "      <th>...</th>\n",
       "      <td>...</td>\n",
       "      <td>...</td>\n",
       "      <td>...</td>\n",
       "      <td>...</td>\n",
       "      <td>...</td>\n",
       "    </tr>\n",
       "    <tr>\n",
       "      <th>1191</th>\n",
       "      <td>3592955527</td>\n",
       "      <td>608641596</td>\n",
       "      <td>2019-08-14</td>\n",
       "      <td>16490</td>\n",
       "      <td>B</td>\n",
       "    </tr>\n",
       "    <tr>\n",
       "      <th>1192</th>\n",
       "      <td>2662137336</td>\n",
       "      <td>3733762160</td>\n",
       "      <td>2019-08-14</td>\n",
       "      <td>6490</td>\n",
       "      <td>B</td>\n",
       "    </tr>\n",
       "    <tr>\n",
       "      <th>1193</th>\n",
       "      <td>2203539145</td>\n",
       "      <td>370388673</td>\n",
       "      <td>2019-08-14</td>\n",
       "      <td>3190</td>\n",
       "      <td>A</td>\n",
       "    </tr>\n",
       "    <tr>\n",
       "      <th>1194</th>\n",
       "      <td>1807773912</td>\n",
       "      <td>573423106</td>\n",
       "      <td>2019-08-14</td>\n",
       "      <td>10550</td>\n",
       "      <td>A</td>\n",
       "    </tr>\n",
       "    <tr>\n",
       "      <th>1196</th>\n",
       "      <td>3936777065</td>\n",
       "      <td>2108080724</td>\n",
       "      <td>2019-08-15</td>\n",
       "      <td>202740</td>\n",
       "      <td>B</td>\n",
       "    </tr>\n",
       "  </tbody>\n",
       "</table>\n",
       "<p>1016 rows × 5 columns</p>\n",
       "</div>"
      ],
      "text/plain": [
       "      transactionId   visitorId        date  revenue group\n",
       "0        3667963787  3312258926  2019-08-15     1650     B\n",
       "1        2804400009  3642806036  2019-08-15      730     B\n",
       "3        3797467345  1196621759  2019-08-15     9759     B\n",
       "4        2282983706  2322279887  2019-08-15     2308     B\n",
       "5         182168103   935554773  2019-08-15     2210     B\n",
       "...             ...         ...         ...      ...   ...\n",
       "1191     3592955527   608641596  2019-08-14    16490     B\n",
       "1192     2662137336  3733762160  2019-08-14     6490     B\n",
       "1193     2203539145   370388673  2019-08-14     3190     A\n",
       "1194     1807773912   573423106  2019-08-14    10550     A\n",
       "1196     3936777065  2108080724  2019-08-15   202740     B\n",
       "\n",
       "[1016 rows x 5 columns]"
      ]
     },
     "execution_count": 12,
     "metadata": {},
     "output_type": "execute_result"
    }
   ],
   "source": [
    "orders\n"
   ]
  },
  {
   "cell_type": "markdown",
   "metadata": {},
   "source": [
    "Посмотрим, сколько человек в каждой группе."
   ]
  },
  {
   "cell_type": "code",
   "execution_count": 13,
   "metadata": {
    "scrolled": true
   },
   "outputs": [
    {
     "data": {
      "text/html": [
       "<div>\n",
       "<style scoped>\n",
       "    .dataframe tbody tr th:only-of-type {\n",
       "        vertical-align: middle;\n",
       "    }\n",
       "\n",
       "    .dataframe tbody tr th {\n",
       "        vertical-align: top;\n",
       "    }\n",
       "\n",
       "    .dataframe thead th {\n",
       "        text-align: right;\n",
       "    }\n",
       "</style>\n",
       "<table border=\"1\" class=\"dataframe\">\n",
       "  <thead>\n",
       "    <tr style=\"text-align: right;\">\n",
       "      <th></th>\n",
       "      <th>group</th>\n",
       "      <th>total_users</th>\n",
       "    </tr>\n",
       "  </thead>\n",
       "  <tbody>\n",
       "    <tr>\n",
       "      <th>0</th>\n",
       "      <td>A</td>\n",
       "      <td>445</td>\n",
       "    </tr>\n",
       "    <tr>\n",
       "      <th>1</th>\n",
       "      <td>B</td>\n",
       "      <td>528</td>\n",
       "    </tr>\n",
       "  </tbody>\n",
       "</table>\n",
       "</div>"
      ],
      "text/plain": [
       "  group  total_users\n",
       "0     A          445\n",
       "1     B          528"
      ]
     },
     "execution_count": 13,
     "metadata": {},
     "output_type": "execute_result"
    }
   ],
   "source": [
    "ab_totals = orders.groupby('group', as_index=False)['visitorId'].agg({'visitorId' : 'nunique'})\n",
    "ab_totals.rename(columns={'visitorId': 'total_users'}, inplace=True)\n",
    "ab_totals\n"
   ]
  },
  {
   "cell_type": "code",
   "execution_count": 14,
   "metadata": {
    "scrolled": false
   },
   "outputs": [
    {
     "data": {
      "text/html": [
       "<div>\n",
       "<style scoped>\n",
       "    .dataframe tbody tr th:only-of-type {\n",
       "        vertical-align: middle;\n",
       "    }\n",
       "\n",
       "    .dataframe tbody tr th {\n",
       "        vertical-align: top;\n",
       "    }\n",
       "\n",
       "    .dataframe thead th {\n",
       "        text-align: right;\n",
       "    }\n",
       "</style>\n",
       "<table border=\"1\" class=\"dataframe\">\n",
       "  <thead>\n",
       "    <tr style=\"text-align: right;\">\n",
       "      <th></th>\n",
       "      <th>group</th>\n",
       "      <th>total_users</th>\n",
       "    </tr>\n",
       "  </thead>\n",
       "  <tbody>\n",
       "    <tr>\n",
       "      <th>0</th>\n",
       "      <td>A</td>\n",
       "      <td>18736</td>\n",
       "    </tr>\n",
       "    <tr>\n",
       "      <th>1</th>\n",
       "      <td>B</td>\n",
       "      <td>18916</td>\n",
       "    </tr>\n",
       "  </tbody>\n",
       "</table>\n",
       "</div>"
      ],
      "text/plain": [
       "  group  total_users\n",
       "0     A        18736\n",
       "1     B        18916"
      ]
     },
     "execution_count": 14,
     "metadata": {},
     "output_type": "execute_result"
    }
   ],
   "source": [
    "ab_totals = visitors.groupby('group', as_index=False)['visitors'].agg({'visitors' : 'sum'})\n",
    "ab_totals.rename(columns={'visitors': 'total_users'}, inplace=True)\n",
    "ab_totals\n"
   ]
  },
  {
   "cell_type": "code",
   "execution_count": 15,
   "metadata": {},
   "outputs": [
    {
     "data": {
      "text/html": [
       "<div>\n",
       "<style scoped>\n",
       "    .dataframe tbody tr th:only-of-type {\n",
       "        vertical-align: middle;\n",
       "    }\n",
       "\n",
       "    .dataframe tbody tr th {\n",
       "        vertical-align: top;\n",
       "    }\n",
       "\n",
       "    .dataframe thead th {\n",
       "        text-align: right;\n",
       "    }\n",
       "</style>\n",
       "<table border=\"1\" class=\"dataframe\">\n",
       "  <thead>\n",
       "    <tr style=\"text-align: right;\">\n",
       "      <th></th>\n",
       "      <th>date</th>\n",
       "      <th>group</th>\n",
       "    </tr>\n",
       "  </thead>\n",
       "  <tbody>\n",
       "    <tr>\n",
       "      <th>0</th>\n",
       "      <td>2019-08-01</td>\n",
       "      <td>A</td>\n",
       "    </tr>\n",
       "    <tr>\n",
       "      <th>1</th>\n",
       "      <td>2019-08-01</td>\n",
       "      <td>B</td>\n",
       "    </tr>\n",
       "    <tr>\n",
       "      <th>2</th>\n",
       "      <td>2019-08-02</td>\n",
       "      <td>A</td>\n",
       "    </tr>\n",
       "    <tr>\n",
       "      <th>3</th>\n",
       "      <td>2019-08-02</td>\n",
       "      <td>B</td>\n",
       "    </tr>\n",
       "    <tr>\n",
       "      <th>4</th>\n",
       "      <td>2019-08-03</td>\n",
       "      <td>A</td>\n",
       "    </tr>\n",
       "  </tbody>\n",
       "</table>\n",
       "</div>"
      ],
      "text/plain": [
       "         date group\n",
       "0  2019-08-01     A\n",
       "1  2019-08-01     B\n",
       "2  2019-08-02     A\n",
       "3  2019-08-02     B\n",
       "4  2019-08-03     A"
      ]
     },
     "metadata": {},
     "output_type": "display_data"
    },
    {
     "data": {
      "text/plain": [
       "(62, 2)"
      ]
     },
     "execution_count": 15,
     "metadata": {},
     "output_type": "execute_result"
    }
   ],
   "source": [
    "# создадим техническую таблицу, в которой будут только даты и названия группы\n",
    "dates_groups = (\n",
    "    orders[['date', 'group']]\n",
    "    .drop_duplicates() # удалим дубликаты\n",
    "    .dropna() # удалим пропуски\n",
    "    .sort_values(by = ['date', 'group']) # отсортируем по дате\n",
    "    .reset_index(drop=True) # сбросим индексы\n",
    ")\n",
    "display(dates_groups.head())\n",
    "dates_groups.shape # проверим размер таблицы\n"
   ]
  },
  {
   "cell_type": "markdown",
   "metadata": {},
   "source": [
    "В таблице 62 строки - что соответствует сроку с 1 по 31 августа *2 (у нас 2 группы)."
   ]
  },
  {
   "cell_type": "code",
   "execution_count": 16,
   "metadata": {},
   "outputs": [
    {
     "data": {
      "text/html": [
       "<div>\n",
       "<style scoped>\n",
       "    .dataframe tbody tr th:only-of-type {\n",
       "        vertical-align: middle;\n",
       "    }\n",
       "\n",
       "    .dataframe tbody tr th {\n",
       "        vertical-align: top;\n",
       "    }\n",
       "\n",
       "    .dataframe thead th {\n",
       "        text-align: right;\n",
       "    }\n",
       "</style>\n",
       "<table border=\"1\" class=\"dataframe\">\n",
       "  <thead>\n",
       "    <tr style=\"text-align: right;\">\n",
       "      <th></th>\n",
       "      <th>date</th>\n",
       "      <th>group</th>\n",
       "      <th>paid_users</th>\n",
       "      <th>revenue</th>\n",
       "    </tr>\n",
       "  </thead>\n",
       "  <tbody>\n",
       "    <tr>\n",
       "      <th>0</th>\n",
       "      <td>2019-08-01</td>\n",
       "      <td>A</td>\n",
       "      <td>19</td>\n",
       "      <td>142779</td>\n",
       "    </tr>\n",
       "    <tr>\n",
       "      <th>1</th>\n",
       "      <td>2019-08-01</td>\n",
       "      <td>B</td>\n",
       "      <td>17</td>\n",
       "      <td>59758</td>\n",
       "    </tr>\n",
       "    <tr>\n",
       "      <th>2</th>\n",
       "      <td>2019-08-02</td>\n",
       "      <td>A</td>\n",
       "      <td>36</td>\n",
       "      <td>234381</td>\n",
       "    </tr>\n",
       "    <tr>\n",
       "      <th>3</th>\n",
       "      <td>2019-08-02</td>\n",
       "      <td>B</td>\n",
       "      <td>39</td>\n",
       "      <td>221801</td>\n",
       "    </tr>\n",
       "    <tr>\n",
       "      <th>4</th>\n",
       "      <td>2019-08-03</td>\n",
       "      <td>A</td>\n",
       "      <td>60</td>\n",
       "      <td>346854</td>\n",
       "    </tr>\n",
       "  </tbody>\n",
       "</table>\n",
       "</div>"
      ],
      "text/plain": [
       "         date group  paid_users  revenue\n",
       "0  2019-08-01     A          19   142779\n",
       "1  2019-08-01     B          17    59758\n",
       "2  2019-08-02     A          36   234381\n",
       "3  2019-08-02     B          39   221801\n",
       "4  2019-08-03     A          60   346854"
      ]
     },
     "execution_count": 16,
     "metadata": {},
     "output_type": "execute_result"
    }
   ],
   "source": [
    "# напишем функцию, которая соберет куммулятивное ревеню по всем пользователям, участвующим в тесте\n",
    "def cum_data(x):\n",
    "    data = orders[\n",
    "        np.logical_and(\n",
    "            orders['date'] <= x['date'], \n",
    "            orders['group'] == x['group']\n",
    "        )\n",
    "    ]\n",
    "    data = data.agg(\n",
    "        {'date': 'max',\n",
    "        'group': 'min',\n",
    "        'visitorId': 'nunique',\n",
    "        'revenue': 'sum'\n",
    "        }\n",
    "    )\n",
    "    return data\n",
    "cumulative = dates_groups.apply(cum_data, axis=1) # применим функцию к заготовленной таблице\n",
    "cumulative.rename(columns={'visitorId': 'paid_users'}, inplace=True) # переименуем колонки\n",
    "cumulative.head()"
   ]
  },
  {
   "cell_type": "markdown",
   "metadata": {},
   "source": [
    "Добавим к нашему датафрейму общее количество пользователей, которое мы нашли ранее.\n"
   ]
  },
  {
   "cell_type": "code",
   "execution_count": 17,
   "metadata": {
    "scrolled": false
   },
   "outputs": [
    {
     "data": {
      "text/html": [
       "<div>\n",
       "<style scoped>\n",
       "    .dataframe tbody tr th:only-of-type {\n",
       "        vertical-align: middle;\n",
       "    }\n",
       "\n",
       "    .dataframe tbody tr th {\n",
       "        vertical-align: top;\n",
       "    }\n",
       "\n",
       "    .dataframe thead th {\n",
       "        text-align: right;\n",
       "    }\n",
       "</style>\n",
       "<table border=\"1\" class=\"dataframe\">\n",
       "  <thead>\n",
       "    <tr style=\"text-align: right;\">\n",
       "      <th></th>\n",
       "      <th>date</th>\n",
       "      <th>group</th>\n",
       "      <th>paid_users</th>\n",
       "      <th>revenue</th>\n",
       "      <th>total_users</th>\n",
       "    </tr>\n",
       "  </thead>\n",
       "  <tbody>\n",
       "    <tr>\n",
       "      <th>0</th>\n",
       "      <td>2019-08-01</td>\n",
       "      <td>A</td>\n",
       "      <td>19</td>\n",
       "      <td>142779</td>\n",
       "      <td>18736</td>\n",
       "    </tr>\n",
       "    <tr>\n",
       "      <th>1</th>\n",
       "      <td>2019-08-02</td>\n",
       "      <td>A</td>\n",
       "      <td>36</td>\n",
       "      <td>234381</td>\n",
       "      <td>18736</td>\n",
       "    </tr>\n",
       "    <tr>\n",
       "      <th>2</th>\n",
       "      <td>2019-08-03</td>\n",
       "      <td>A</td>\n",
       "      <td>60</td>\n",
       "      <td>346854</td>\n",
       "      <td>18736</td>\n",
       "    </tr>\n",
       "    <tr>\n",
       "      <th>3</th>\n",
       "      <td>2019-08-04</td>\n",
       "      <td>A</td>\n",
       "      <td>71</td>\n",
       "      <td>388030</td>\n",
       "      <td>18736</td>\n",
       "    </tr>\n",
       "    <tr>\n",
       "      <th>4</th>\n",
       "      <td>2019-08-05</td>\n",
       "      <td>A</td>\n",
       "      <td>92</td>\n",
       "      <td>474413</td>\n",
       "      <td>18736</td>\n",
       "    </tr>\n",
       "  </tbody>\n",
       "</table>\n",
       "</div>"
      ],
      "text/plain": [
       "         date group  paid_users  revenue  total_users\n",
       "0  2019-08-01     A          19   142779        18736\n",
       "1  2019-08-02     A          36   234381        18736\n",
       "2  2019-08-03     A          60   346854        18736\n",
       "3  2019-08-04     A          71   388030        18736\n",
       "4  2019-08-05     A          92   474413        18736"
      ]
     },
     "execution_count": 17,
     "metadata": {},
     "output_type": "execute_result"
    }
   ],
   "source": [
    "cumulative = cumulative.merge(ab_totals, on='group')\n",
    "cumulative.head()\n"
   ]
  },
  {
   "cell_type": "markdown",
   "metadata": {},
   "source": [
    "### Кумулятивная выручка"
   ]
  },
  {
   "cell_type": "markdown",
   "metadata": {},
   "source": [
    "Теперь мы можем рассчитать кумулятивные метрики ARPU, ARPPU и конверсию."
   ]
  },
  {
   "cell_type": "code",
   "execution_count": 18,
   "metadata": {},
   "outputs": [
    {
     "data": {
      "text/html": [
       "<div>\n",
       "<style scoped>\n",
       "    .dataframe tbody tr th:only-of-type {\n",
       "        vertical-align: middle;\n",
       "    }\n",
       "\n",
       "    .dataframe tbody tr th {\n",
       "        vertical-align: top;\n",
       "    }\n",
       "\n",
       "    .dataframe thead th {\n",
       "        text-align: right;\n",
       "    }\n",
       "</style>\n",
       "<table border=\"1\" class=\"dataframe\">\n",
       "  <thead>\n",
       "    <tr style=\"text-align: right;\">\n",
       "      <th></th>\n",
       "      <th>date</th>\n",
       "      <th>group</th>\n",
       "      <th>paid_users</th>\n",
       "      <th>revenue</th>\n",
       "      <th>total_users</th>\n",
       "      <th>arpu</th>\n",
       "      <th>arppu</th>\n",
       "      <th>cr</th>\n",
       "    </tr>\n",
       "  </thead>\n",
       "  <tbody>\n",
       "    <tr>\n",
       "      <th>0</th>\n",
       "      <td>2019-08-01</td>\n",
       "      <td>A</td>\n",
       "      <td>19</td>\n",
       "      <td>142779</td>\n",
       "      <td>18736</td>\n",
       "      <td>7.620570</td>\n",
       "      <td>7514.684211</td>\n",
       "      <td>0.001014</td>\n",
       "    </tr>\n",
       "    <tr>\n",
       "      <th>1</th>\n",
       "      <td>2019-08-02</td>\n",
       "      <td>A</td>\n",
       "      <td>36</td>\n",
       "      <td>234381</td>\n",
       "      <td>18736</td>\n",
       "      <td>12.509661</td>\n",
       "      <td>6510.583333</td>\n",
       "      <td>0.001921</td>\n",
       "    </tr>\n",
       "    <tr>\n",
       "      <th>2</th>\n",
       "      <td>2019-08-03</td>\n",
       "      <td>A</td>\n",
       "      <td>60</td>\n",
       "      <td>346854</td>\n",
       "      <td>18736</td>\n",
       "      <td>18.512703</td>\n",
       "      <td>5780.900000</td>\n",
       "      <td>0.003202</td>\n",
       "    </tr>\n",
       "    <tr>\n",
       "      <th>3</th>\n",
       "      <td>2019-08-04</td>\n",
       "      <td>A</td>\n",
       "      <td>71</td>\n",
       "      <td>388030</td>\n",
       "      <td>18736</td>\n",
       "      <td>20.710397</td>\n",
       "      <td>5465.211268</td>\n",
       "      <td>0.003789</td>\n",
       "    </tr>\n",
       "    <tr>\n",
       "      <th>4</th>\n",
       "      <td>2019-08-05</td>\n",
       "      <td>A</td>\n",
       "      <td>92</td>\n",
       "      <td>474413</td>\n",
       "      <td>18736</td>\n",
       "      <td>25.320933</td>\n",
       "      <td>5156.663043</td>\n",
       "      <td>0.004910</td>\n",
       "    </tr>\n",
       "  </tbody>\n",
       "</table>\n",
       "</div>"
      ],
      "text/plain": [
       "         date group  paid_users  revenue  total_users       arpu        arppu  \\\n",
       "0  2019-08-01     A          19   142779        18736   7.620570  7514.684211   \n",
       "1  2019-08-02     A          36   234381        18736  12.509661  6510.583333   \n",
       "2  2019-08-03     A          60   346854        18736  18.512703  5780.900000   \n",
       "3  2019-08-04     A          71   388030        18736  20.710397  5465.211268   \n",
       "4  2019-08-05     A          92   474413        18736  25.320933  5156.663043   \n",
       "\n",
       "         cr  \n",
       "0  0.001014  \n",
       "1  0.001921  \n",
       "2  0.003202  \n",
       "3  0.003789  \n",
       "4  0.004910  "
      ]
     },
     "execution_count": 18,
     "metadata": {},
     "output_type": "execute_result"
    }
   ],
   "source": [
    "cumulative['arpu'] = cumulative['revenue']/cumulative['total_users']\n",
    "cumulative['arppu'] = cumulative['revenue']/ cumulative['paid_users']\n",
    "cumulative['cr'] = cumulative['paid_users']/ cumulative['total_users']\n",
    "cumulative.head()\n"
   ]
  },
  {
   "cell_type": "code",
   "execution_count": 19,
   "metadata": {},
   "outputs": [
    {
     "data": {
      "text/html": [
       "<div>\n",
       "<style scoped>\n",
       "    .dataframe tbody tr th:only-of-type {\n",
       "        vertical-align: middle;\n",
       "    }\n",
       "\n",
       "    .dataframe tbody tr th {\n",
       "        vertical-align: top;\n",
       "    }\n",
       "\n",
       "    .dataframe thead th {\n",
       "        text-align: right;\n",
       "    }\n",
       "</style>\n",
       "<table border=\"1\" class=\"dataframe\">\n",
       "  <thead>\n",
       "    <tr style=\"text-align: right;\">\n",
       "      <th></th>\n",
       "      <th>transactionId</th>\n",
       "      <th>visitorId</th>\n",
       "      <th>date</th>\n",
       "      <th>revenue</th>\n",
       "      <th>group</th>\n",
       "    </tr>\n",
       "  </thead>\n",
       "  <tbody>\n",
       "    <tr>\n",
       "      <th>0</th>\n",
       "      <td>3667963787</td>\n",
       "      <td>3312258926</td>\n",
       "      <td>2019-08-15</td>\n",
       "      <td>1650</td>\n",
       "      <td>B</td>\n",
       "    </tr>\n",
       "    <tr>\n",
       "      <th>1</th>\n",
       "      <td>2804400009</td>\n",
       "      <td>3642806036</td>\n",
       "      <td>2019-08-15</td>\n",
       "      <td>730</td>\n",
       "      <td>B</td>\n",
       "    </tr>\n",
       "    <tr>\n",
       "      <th>3</th>\n",
       "      <td>3797467345</td>\n",
       "      <td>1196621759</td>\n",
       "      <td>2019-08-15</td>\n",
       "      <td>9759</td>\n",
       "      <td>B</td>\n",
       "    </tr>\n",
       "    <tr>\n",
       "      <th>4</th>\n",
       "      <td>2282983706</td>\n",
       "      <td>2322279887</td>\n",
       "      <td>2019-08-15</td>\n",
       "      <td>2308</td>\n",
       "      <td>B</td>\n",
       "    </tr>\n",
       "    <tr>\n",
       "      <th>5</th>\n",
       "      <td>182168103</td>\n",
       "      <td>935554773</td>\n",
       "      <td>2019-08-15</td>\n",
       "      <td>2210</td>\n",
       "      <td>B</td>\n",
       "    </tr>\n",
       "    <tr>\n",
       "      <th>...</th>\n",
       "      <td>...</td>\n",
       "      <td>...</td>\n",
       "      <td>...</td>\n",
       "      <td>...</td>\n",
       "      <td>...</td>\n",
       "    </tr>\n",
       "    <tr>\n",
       "      <th>1191</th>\n",
       "      <td>3592955527</td>\n",
       "      <td>608641596</td>\n",
       "      <td>2019-08-14</td>\n",
       "      <td>16490</td>\n",
       "      <td>B</td>\n",
       "    </tr>\n",
       "    <tr>\n",
       "      <th>1192</th>\n",
       "      <td>2662137336</td>\n",
       "      <td>3733762160</td>\n",
       "      <td>2019-08-14</td>\n",
       "      <td>6490</td>\n",
       "      <td>B</td>\n",
       "    </tr>\n",
       "    <tr>\n",
       "      <th>1193</th>\n",
       "      <td>2203539145</td>\n",
       "      <td>370388673</td>\n",
       "      <td>2019-08-14</td>\n",
       "      <td>3190</td>\n",
       "      <td>A</td>\n",
       "    </tr>\n",
       "    <tr>\n",
       "      <th>1194</th>\n",
       "      <td>1807773912</td>\n",
       "      <td>573423106</td>\n",
       "      <td>2019-08-14</td>\n",
       "      <td>10550</td>\n",
       "      <td>A</td>\n",
       "    </tr>\n",
       "    <tr>\n",
       "      <th>1196</th>\n",
       "      <td>3936777065</td>\n",
       "      <td>2108080724</td>\n",
       "      <td>2019-08-15</td>\n",
       "      <td>202740</td>\n",
       "      <td>B</td>\n",
       "    </tr>\n",
       "  </tbody>\n",
       "</table>\n",
       "<p>1016 rows × 5 columns</p>\n",
       "</div>"
      ],
      "text/plain": [
       "      transactionId   visitorId        date  revenue group\n",
       "0        3667963787  3312258926  2019-08-15     1650     B\n",
       "1        2804400009  3642806036  2019-08-15      730     B\n",
       "3        3797467345  1196621759  2019-08-15     9759     B\n",
       "4        2282983706  2322279887  2019-08-15     2308     B\n",
       "5         182168103   935554773  2019-08-15     2210     B\n",
       "...             ...         ...         ...      ...   ...\n",
       "1191     3592955527   608641596  2019-08-14    16490     B\n",
       "1192     2662137336  3733762160  2019-08-14     6490     B\n",
       "1193     2203539145   370388673  2019-08-14     3190     A\n",
       "1194     1807773912   573423106  2019-08-14    10550     A\n",
       "1196     3936777065  2108080724  2019-08-15   202740     B\n",
       "\n",
       "[1016 rows x 5 columns]"
      ]
     },
     "execution_count": 19,
     "metadata": {},
     "output_type": "execute_result"
    }
   ],
   "source": [
    "orders\n"
   ]
  },
  {
   "cell_type": "markdown",
   "metadata": {},
   "source": [
    "Немного обработаем наш датафрейм, чтобы потом нарисовать графики."
   ]
  },
  {
   "cell_type": "code",
   "execution_count": 20,
   "metadata": {},
   "outputs": [
    {
     "data": {
      "text/html": [
       "<div>\n",
       "<style scoped>\n",
       "    .dataframe tbody tr th:only-of-type {\n",
       "        vertical-align: middle;\n",
       "    }\n",
       "\n",
       "    .dataframe tbody tr th {\n",
       "        vertical-align: top;\n",
       "    }\n",
       "\n",
       "    .dataframe thead th {\n",
       "        text-align: right;\n",
       "    }\n",
       "</style>\n",
       "<table border=\"1\" class=\"dataframe\">\n",
       "  <thead>\n",
       "    <tr style=\"text-align: right;\">\n",
       "      <th></th>\n",
       "      <th>date</th>\n",
       "      <th>group_a</th>\n",
       "      <th>paid_users_a</th>\n",
       "      <th>revenue_a</th>\n",
       "      <th>total_users_a</th>\n",
       "      <th>arpu_a</th>\n",
       "      <th>arppu_a</th>\n",
       "      <th>cr_a</th>\n",
       "      <th>group_b</th>\n",
       "      <th>paid_users_b</th>\n",
       "      <th>revenue_b</th>\n",
       "      <th>total_users_b</th>\n",
       "      <th>arpu_b</th>\n",
       "      <th>arppu_b</th>\n",
       "      <th>cr_b</th>\n",
       "    </tr>\n",
       "  </thead>\n",
       "  <tbody>\n",
       "    <tr>\n",
       "      <th>0</th>\n",
       "      <td>2019-08-01</td>\n",
       "      <td>A</td>\n",
       "      <td>19</td>\n",
       "      <td>142779</td>\n",
       "      <td>18736</td>\n",
       "      <td>7.620570</td>\n",
       "      <td>7514.684211</td>\n",
       "      <td>0.001014</td>\n",
       "      <td>B</td>\n",
       "      <td>17</td>\n",
       "      <td>59758</td>\n",
       "      <td>18916</td>\n",
       "      <td>3.159125</td>\n",
       "      <td>3515.176471</td>\n",
       "      <td>0.000899</td>\n",
       "    </tr>\n",
       "    <tr>\n",
       "      <th>1</th>\n",
       "      <td>2019-08-02</td>\n",
       "      <td>A</td>\n",
       "      <td>36</td>\n",
       "      <td>234381</td>\n",
       "      <td>18736</td>\n",
       "      <td>12.509661</td>\n",
       "      <td>6510.583333</td>\n",
       "      <td>0.001921</td>\n",
       "      <td>B</td>\n",
       "      <td>39</td>\n",
       "      <td>221801</td>\n",
       "      <td>18916</td>\n",
       "      <td>11.725576</td>\n",
       "      <td>5687.205128</td>\n",
       "      <td>0.002062</td>\n",
       "    </tr>\n",
       "    <tr>\n",
       "      <th>2</th>\n",
       "      <td>2019-08-03</td>\n",
       "      <td>A</td>\n",
       "      <td>60</td>\n",
       "      <td>346854</td>\n",
       "      <td>18736</td>\n",
       "      <td>18.512703</td>\n",
       "      <td>5780.900000</td>\n",
       "      <td>0.003202</td>\n",
       "      <td>B</td>\n",
       "      <td>53</td>\n",
       "      <td>288850</td>\n",
       "      <td>18916</td>\n",
       "      <td>15.270142</td>\n",
       "      <td>5450.000000</td>\n",
       "      <td>0.002802</td>\n",
       "    </tr>\n",
       "    <tr>\n",
       "      <th>3</th>\n",
       "      <td>2019-08-04</td>\n",
       "      <td>A</td>\n",
       "      <td>71</td>\n",
       "      <td>388030</td>\n",
       "      <td>18736</td>\n",
       "      <td>20.710397</td>\n",
       "      <td>5465.211268</td>\n",
       "      <td>0.003789</td>\n",
       "      <td>B</td>\n",
       "      <td>66</td>\n",
       "      <td>385740</td>\n",
       "      <td>18916</td>\n",
       "      <td>20.392261</td>\n",
       "      <td>5844.545455</td>\n",
       "      <td>0.003489</td>\n",
       "    </tr>\n",
       "    <tr>\n",
       "      <th>4</th>\n",
       "      <td>2019-08-05</td>\n",
       "      <td>A</td>\n",
       "      <td>92</td>\n",
       "      <td>474413</td>\n",
       "      <td>18736</td>\n",
       "      <td>25.320933</td>\n",
       "      <td>5156.663043</td>\n",
       "      <td>0.004910</td>\n",
       "      <td>B</td>\n",
       "      <td>87</td>\n",
       "      <td>475648</td>\n",
       "      <td>18916</td>\n",
       "      <td>25.145274</td>\n",
       "      <td>5467.218391</td>\n",
       "      <td>0.004599</td>\n",
       "    </tr>\n",
       "  </tbody>\n",
       "</table>\n",
       "</div>"
      ],
      "text/plain": [
       "        date group_a  paid_users_a  revenue_a  total_users_a     arpu_a  \\\n",
       "0 2019-08-01       A            19     142779          18736   7.620570   \n",
       "1 2019-08-02       A            36     234381          18736  12.509661   \n",
       "2 2019-08-03       A            60     346854          18736  18.512703   \n",
       "3 2019-08-04       A            71     388030          18736  20.710397   \n",
       "4 2019-08-05       A            92     474413          18736  25.320933   \n",
       "\n",
       "       arppu_a      cr_a group_b  paid_users_b  revenue_b  total_users_b  \\\n",
       "0  7514.684211  0.001014       B            17      59758          18916   \n",
       "1  6510.583333  0.001921       B            39     221801          18916   \n",
       "2  5780.900000  0.003202       B            53     288850          18916   \n",
       "3  5465.211268  0.003789       B            66     385740          18916   \n",
       "4  5156.663043  0.004910       B            87     475648          18916   \n",
       "\n",
       "      arpu_b      arppu_b      cr_b  \n",
       "0   3.159125  3515.176471  0.000899  \n",
       "1  11.725576  5687.205128  0.002062  \n",
       "2  15.270142  5450.000000  0.002802  \n",
       "3  20.392261  5844.545455  0.003489  \n",
       "4  25.145274  5467.218391  0.004599  "
      ]
     },
     "execution_count": 20,
     "metadata": {},
     "output_type": "execute_result"
    }
   ],
   "source": [
    "# разделим датафрейм на 2 части по группе, и потом соединим вместе, но чтобы a и b в итоге оказались в одной стоке\n",
    "cumulative_a = cumulative[cumulative['group'] == 'A']\n",
    "cumulative_b = cumulative[cumulative['group'] == 'B']\n",
    "cumulative_new = cumulative_a.merge(\n",
    "    cumulative_b, \n",
    "    on='date',\n",
    "    suffixes = ('_a', '_b')\n",
    ")\n",
    "cumulative_new['date'] = pd.to_datetime(cumulative_new['date']) # поменяем формат времени\n",
    "cumulative_new.head()\n"
   ]
  },
  {
   "cell_type": "code",
   "execution_count": 21,
   "metadata": {},
   "outputs": [
    {
     "data": {
      "image/png": "[encoded data removed]",
      "text/plain": [
       "<Figure size 1080x396 with 2 Axes>"
      ]
     },
     "metadata": {
      "needs_background": "light"
     },
     "output_type": "display_data"
    }
   ],
   "source": [
    "pd.plotting.register_matplotlib_converters()\n",
    "\n",
    "locator = ticker.AutoLocator()\n",
    "formatter = mdates.DateFormatter('%Y-%m-%d')\n",
    "colors = ['tab:blue', 'tab:orange']\n",
    "\n",
    "fig, ax=plt.subplots(nrows=1, ncols=2, figsize=(15,5.5))\n",
    "\n",
    "ax[0].set_title('ARPU')\n",
    "ax[0].plot('date', 'arpu_a', data=cumulative_new, label='a')\n",
    "ax[0].plot('date', 'arpu_b', data=cumulative_new, label='b')\n",
    "ax[0].xaxis.set_major_locator(locator)\n",
    "ax[0].xaxis.set_major_formatter(formatter)\n",
    "ax[0].xaxis.set_tick_params(rotation=30)\n",
    "ax[0].legend()\n",
    "\n",
    "ax[1].set_title('ARPPU')\n",
    "ax[1].plot('date', 'arppu_a', data=cumulative_new, label='a')\n",
    "ax[1].plot('date', 'arppu_b', data=cumulative_new, label='b')\n",
    "ax[1].xaxis.set_major_locator(locator)\n",
    "ax[1].xaxis.set_major_formatter(formatter)\n",
    "ax[1].xaxis.set_tick_params(rotation=30)\n",
    "ax[1].legend()\n",
    "\n",
    "fig.suptitle('Куммулятивная выручка', fontsize=15)\n",
    "fig.tight_layout(rect=[0, 0, 1, 0.95])\n"
   ]
  },
  {
   "cell_type": "markdown",
   "metadata": {},
   "source": [
    "Средняя выручка у группы B ощутимо выше, особенно когда мы смотрим на платящих пользователей. Особенно большой прирост виден в середине месяца. Возможно, тестируемая фича отлично сказалась на желании пользователей покупать наши продукты, но с другой стороны, мы видим резкий всплеск, так что возможно в данных просто были выбросы с экстремально длорогими заказами, что могло исказить данные."
   ]
  },
  {
   "cell_type": "markdown",
   "metadata": {},
   "source": [
    "### Кумулятивная конверсия"
   ]
  },
  {
   "cell_type": "code",
   "execution_count": 22,
   "metadata": {},
   "outputs": [
    {
     "data": {
      "image/png": "[encoded data removed]",
      "text/plain": [
       "<Figure size 1080x396 with 1 Axes>"
      ]
     },
     "metadata": {
      "needs_background": "light"
     },
     "output_type": "display_data"
    }
   ],
   "source": [
    "pd.plotting.register_matplotlib_converters()\n",
    "\n",
    "locator = ticker.AutoLocator()\n",
    "formatter = mdates.DateFormatter('%Y-%m-%d')\n",
    "colors = ['tab:blue', 'tab:orange']\n",
    "\n",
    "fig, ax=plt.subplots(nrows=1, ncols=1, figsize=(15,5.5))\n",
    "ax.set_title('Кумулятивная конверсия')\n",
    "ax.plot('date', 'cr_a', data=cumulative_new, label='a')\n",
    "ax.plot('date', 'cr_b', data=cumulative_new, label='b')\n",
    "ax.xaxis.set_major_locator(locator)\n",
    "ax.xaxis.set_major_formatter(formatter)\n",
    "ax.xaxis.set_tick_params(rotation=30)\n",
    "ax.legend();"
   ]
  },
  {
   "cell_type": "markdown",
   "metadata": {},
   "source": [
    "<a class=\"anchor\" id=\"23-bullet\"></a>"
   ]
  },
  {
   "cell_type": "markdown",
   "metadata": {},
   "source": [
    "Конверсия в группе В видимым образом превышает конверсию группы А.\n",
    "\n",
    "Посмотрим на относительное изменение конверсии. \n"
   ]
  },
  {
   "cell_type": "code",
   "execution_count": 23,
   "metadata": {
    "scrolled": true
   },
   "outputs": [
    {
     "data": {
      "image/png": "[encoded data removed]",
      "text/plain": [
       "<Figure size 432x288 with 1 Axes>"
      ]
     },
     "metadata": {
      "needs_background": "light"
     },
     "output_type": "display_data"
    }
   ],
   "source": [
    "# cтроим отношение конверсии\n",
    "plt.plot(cumulative_new['cr_b']/cumulative_new['cr_a']-1)\n",
    "\n",
    "# добавляем ось X\n",
    "plt.axhline(y=0, color='black', linestyle='--')\n",
    "plt.title('Относительное различие конверсии');\n"
   ]
  },
  {
   "cell_type": "markdown",
   "metadata": {},
   "source": [
    "Здесь так же конверсия группы B стабильно выше группы А."
   ]
  },
  {
   "cell_type": "markdown",
   "metadata": {},
   "source": [
    "### Кумулятивный средний чек\n"
   ]
  },
  {
   "cell_type": "code",
   "execution_count": 24,
   "metadata": {},
   "outputs": [
    {
     "data": {
      "text/html": [
       "<div>\n",
       "<style scoped>\n",
       "    .dataframe tbody tr th:only-of-type {\n",
       "        vertical-align: middle;\n",
       "    }\n",
       "\n",
       "    .dataframe tbody tr th {\n",
       "        vertical-align: top;\n",
       "    }\n",
       "\n",
       "    .dataframe thead th {\n",
       "        text-align: right;\n",
       "    }\n",
       "</style>\n",
       "<table border=\"1\" class=\"dataframe\">\n",
       "  <thead>\n",
       "    <tr style=\"text-align: right;\">\n",
       "      <th></th>\n",
       "      <th>transactionId</th>\n",
       "      <th>visitorId</th>\n",
       "      <th>date</th>\n",
       "      <th>revenue</th>\n",
       "      <th>group</th>\n",
       "    </tr>\n",
       "  </thead>\n",
       "  <tbody>\n",
       "    <tr>\n",
       "      <th>0</th>\n",
       "      <td>3667963787</td>\n",
       "      <td>3312258926</td>\n",
       "      <td>2019-08-15</td>\n",
       "      <td>1650</td>\n",
       "      <td>B</td>\n",
       "    </tr>\n",
       "    <tr>\n",
       "      <th>1</th>\n",
       "      <td>2804400009</td>\n",
       "      <td>3642806036</td>\n",
       "      <td>2019-08-15</td>\n",
       "      <td>730</td>\n",
       "      <td>B</td>\n",
       "    </tr>\n",
       "    <tr>\n",
       "      <th>3</th>\n",
       "      <td>3797467345</td>\n",
       "      <td>1196621759</td>\n",
       "      <td>2019-08-15</td>\n",
       "      <td>9759</td>\n",
       "      <td>B</td>\n",
       "    </tr>\n",
       "    <tr>\n",
       "      <th>4</th>\n",
       "      <td>2282983706</td>\n",
       "      <td>2322279887</td>\n",
       "      <td>2019-08-15</td>\n",
       "      <td>2308</td>\n",
       "      <td>B</td>\n",
       "    </tr>\n",
       "    <tr>\n",
       "      <th>5</th>\n",
       "      <td>182168103</td>\n",
       "      <td>935554773</td>\n",
       "      <td>2019-08-15</td>\n",
       "      <td>2210</td>\n",
       "      <td>B</td>\n",
       "    </tr>\n",
       "    <tr>\n",
       "      <th>...</th>\n",
       "      <td>...</td>\n",
       "      <td>...</td>\n",
       "      <td>...</td>\n",
       "      <td>...</td>\n",
       "      <td>...</td>\n",
       "    </tr>\n",
       "    <tr>\n",
       "      <th>1191</th>\n",
       "      <td>3592955527</td>\n",
       "      <td>608641596</td>\n",
       "      <td>2019-08-14</td>\n",
       "      <td>16490</td>\n",
       "      <td>B</td>\n",
       "    </tr>\n",
       "    <tr>\n",
       "      <th>1192</th>\n",
       "      <td>2662137336</td>\n",
       "      <td>3733762160</td>\n",
       "      <td>2019-08-14</td>\n",
       "      <td>6490</td>\n",
       "      <td>B</td>\n",
       "    </tr>\n",
       "    <tr>\n",
       "      <th>1193</th>\n",
       "      <td>2203539145</td>\n",
       "      <td>370388673</td>\n",
       "      <td>2019-08-14</td>\n",
       "      <td>3190</td>\n",
       "      <td>A</td>\n",
       "    </tr>\n",
       "    <tr>\n",
       "      <th>1194</th>\n",
       "      <td>1807773912</td>\n",
       "      <td>573423106</td>\n",
       "      <td>2019-08-14</td>\n",
       "      <td>10550</td>\n",
       "      <td>A</td>\n",
       "    </tr>\n",
       "    <tr>\n",
       "      <th>1196</th>\n",
       "      <td>3936777065</td>\n",
       "      <td>2108080724</td>\n",
       "      <td>2019-08-15</td>\n",
       "      <td>202740</td>\n",
       "      <td>B</td>\n",
       "    </tr>\n",
       "  </tbody>\n",
       "</table>\n",
       "<p>1016 rows × 5 columns</p>\n",
       "</div>"
      ],
      "text/plain": [
       "      transactionId   visitorId        date  revenue group\n",
       "0        3667963787  3312258926  2019-08-15     1650     B\n",
       "1        2804400009  3642806036  2019-08-15      730     B\n",
       "3        3797467345  1196621759  2019-08-15     9759     B\n",
       "4        2282983706  2322279887  2019-08-15     2308     B\n",
       "5         182168103   935554773  2019-08-15     2210     B\n",
       "...             ...         ...         ...      ...   ...\n",
       "1191     3592955527   608641596  2019-08-14    16490     B\n",
       "1192     2662137336  3733762160  2019-08-14     6490     B\n",
       "1193     2203539145   370388673  2019-08-14     3190     A\n",
       "1194     1807773912   573423106  2019-08-14    10550     A\n",
       "1196     3936777065  2108080724  2019-08-15   202740     B\n",
       "\n",
       "[1016 rows x 5 columns]"
      ]
     },
     "execution_count": 24,
     "metadata": {},
     "output_type": "execute_result"
    }
   ],
   "source": [
    "orders\n"
   ]
  },
  {
   "cell_type": "code",
   "execution_count": 25,
   "metadata": {},
   "outputs": [
    {
     "data": {
      "text/html": [
       "<div>\n",
       "<style scoped>\n",
       "    .dataframe tbody tr th:only-of-type {\n",
       "        vertical-align: middle;\n",
       "    }\n",
       "\n",
       "    .dataframe tbody tr th {\n",
       "        vertical-align: top;\n",
       "    }\n",
       "\n",
       "    .dataframe thead th {\n",
       "        text-align: right;\n",
       "    }\n",
       "</style>\n",
       "<table border=\"1\" class=\"dataframe\">\n",
       "  <thead>\n",
       "    <tr style=\"text-align: right;\">\n",
       "      <th></th>\n",
       "      <th>date</th>\n",
       "      <th>group</th>\n",
       "      <th>paid_users</th>\n",
       "      <th>revenue</th>\n",
       "      <th>transactionId</th>\n",
       "      <th>avg_revenue</th>\n",
       "    </tr>\n",
       "  </thead>\n",
       "  <tbody>\n",
       "    <tr>\n",
       "      <th>0</th>\n",
       "      <td>2019-08-01</td>\n",
       "      <td>A</td>\n",
       "      <td>19</td>\n",
       "      <td>142779</td>\n",
       "      <td>23</td>\n",
       "      <td>6207.782609</td>\n",
       "    </tr>\n",
       "    <tr>\n",
       "      <th>1</th>\n",
       "      <td>2019-08-01</td>\n",
       "      <td>B</td>\n",
       "      <td>17</td>\n",
       "      <td>59758</td>\n",
       "      <td>17</td>\n",
       "      <td>3515.176471</td>\n",
       "    </tr>\n",
       "    <tr>\n",
       "      <th>2</th>\n",
       "      <td>2019-08-02</td>\n",
       "      <td>A</td>\n",
       "      <td>36</td>\n",
       "      <td>234381</td>\n",
       "      <td>42</td>\n",
       "      <td>5580.500000</td>\n",
       "    </tr>\n",
       "    <tr>\n",
       "      <th>3</th>\n",
       "      <td>2019-08-02</td>\n",
       "      <td>B</td>\n",
       "      <td>39</td>\n",
       "      <td>221801</td>\n",
       "      <td>40</td>\n",
       "      <td>5545.025000</td>\n",
       "    </tr>\n",
       "    <tr>\n",
       "      <th>4</th>\n",
       "      <td>2019-08-03</td>\n",
       "      <td>A</td>\n",
       "      <td>60</td>\n",
       "      <td>346854</td>\n",
       "      <td>66</td>\n",
       "      <td>5255.363636</td>\n",
       "    </tr>\n",
       "  </tbody>\n",
       "</table>\n",
       "</div>"
      ],
      "text/plain": [
       "         date group  paid_users  revenue  transactionId  avg_revenue\n",
       "0  2019-08-01     A          19   142779             23  6207.782609\n",
       "1  2019-08-01     B          17    59758             17  3515.176471\n",
       "2  2019-08-02     A          36   234381             42  5580.500000\n",
       "3  2019-08-02     B          39   221801             40  5545.025000\n",
       "4  2019-08-03     A          60   346854             66  5255.363636"
      ]
     },
     "execution_count": 25,
     "metadata": {},
     "output_type": "execute_result"
    }
   ],
   "source": [
    "# напишем функцию, которая соберет куммулятивный средний чек по всем пользователям, участвующим в тесте\n",
    "def cum_data(x):\n",
    "    data = orders[\n",
    "        np.logical_and(\n",
    "            orders['date'] <= x['date'], \n",
    "            orders['group'] == x['group']\n",
    "        )\n",
    "    ]\n",
    "    data = data.agg(\n",
    "        {'date': 'max',\n",
    "        'group': 'min',\n",
    "        'visitorId': 'nunique',\n",
    "        'revenue': 'sum',\n",
    "        'transactionId': 'count'\n",
    "        }\n",
    "    )\n",
    "    return data\n",
    "cumulative_avg = dates_groups.apply(cum_data, axis=1) # применим функцию к заготовленной таблице\n",
    "cumulative_avg.rename(columns={'visitorId': 'paid_users'}, inplace=True) # переименуем колонки\n",
    "# добавим колонку с кумулятивным средним чеком\n",
    "cumulative_avg['avg_revenue'] = cumulative_avg['revenue']/cumulative_avg['transactionId']\n",
    "cumulative_avg.head()\n"
   ]
  },
  {
   "cell_type": "code",
   "execution_count": 26,
   "metadata": {
    "scrolled": false
   },
   "outputs": [
    {
     "data": {
      "image/png": "[encoded data removed]",
      "text/plain": [
       "<Figure size 1080x396 with 1 Axes>"
      ]
     },
     "metadata": {
      "needs_background": "light"
     },
     "output_type": "display_data"
    }
   ],
   "source": [
    "# нарисуем график кумулятивного среднего чека\n",
    "# обработаем данные как делали ранее\n",
    "\n",
    "# разделим датафрейм на 2 части по группе, и потом соединим вместе, но чтобы a и b в итоге оказались в одной стоке\n",
    "cumulative_a = cumulative_avg[cumulative_avg['group'] == 'A']\n",
    "cumulative_b = cumulative_avg[cumulative_avg['group'] == 'B']\n",
    "cumulative_new = cumulative_a.merge(\n",
    "    cumulative_b, \n",
    "    on='date',\n",
    "    suffixes = ('_a', '_b')\n",
    ")\n",
    "cumulative_new['date'] = pd.to_datetime(cumulative_new['date']) # поменяем формат времени\n",
    "cumulative_new.head()\n",
    "\n",
    "pd.plotting.register_matplotlib_converters()\n",
    "\n",
    "locator = ticker.AutoLocator()\n",
    "formatter = mdates.DateFormatter('%Y-%m-%d')\n",
    "colors = ['tab:blue', 'tab:orange']\n",
    "\n",
    "fig, ax=plt.subplots(nrows=1, ncols=1, figsize=(15,5.5))\n",
    "ax.set_title('Кумулятивный средний чек')\n",
    "ax.plot('date', 'avg_revenue_a', data=cumulative_new, label='a')\n",
    "ax.plot('date', 'avg_revenue_b', data=cumulative_new, label='b')\n",
    "ax.xaxis.set_major_locator(locator)\n",
    "ax.xaxis.set_major_formatter(formatter)\n",
    "ax.xaxis.set_tick_params(rotation=30)\n",
    "ax.legend();"
   ]
  },
  {
   "cell_type": "markdown",
   "metadata": {},
   "source": [
    "Средний чек в группе В так же стабильно выше.\n",
    "И опять мы видим резкий скачок в районе середины месяца - видимо там были какие-то крупные заказы, которые сильно повдияли на результат. \n",
    "\n",
    "Посмотрим на относительные различия среднего чека между группами A и В. \n"
   ]
  },
  {
   "cell_type": "code",
   "execution_count": 27,
   "metadata": {
    "scrolled": true
   },
   "outputs": [
    {
     "data": {
      "image/png": "[encoded data removed]",
      "text/plain": [
       "<Figure size 432x288 with 1 Axes>"
      ]
     },
     "metadata": {
      "needs_background": "light"
     },
     "output_type": "display_data"
    }
   ],
   "source": [
    "# cтроим отношение средних чеков\n",
    "plt.plot(cumulative_new['avg_revenue_b']/cumulative_new['avg_revenue_a']-1)\n",
    "\n",
    "# добавляем ось X\n",
    "plt.axhline(y=0, color='black', linestyle='--')\n",
    "plt.title('Относительное различие среднего чека');"
   ]
  },
  {
   "cell_type": "markdown",
   "metadata": {},
   "source": [
    "B и по этой метрике выходит вперед, но до середины месяца данные нестабильные. "
   ]
  },
  {
   "cell_type": "code",
   "execution_count": 28,
   "metadata": {
    "scrolled": false
   },
   "outputs": [
    {
     "data": {
      "text/html": [
       "<div>\n",
       "<style scoped>\n",
       "    .dataframe tbody tr th:only-of-type {\n",
       "        vertical-align: middle;\n",
       "    }\n",
       "\n",
       "    .dataframe tbody tr th {\n",
       "        vertical-align: top;\n",
       "    }\n",
       "\n",
       "    .dataframe thead th {\n",
       "        text-align: right;\n",
       "    }\n",
       "</style>\n",
       "<table border=\"1\" class=\"dataframe\">\n",
       "  <thead>\n",
       "    <tr style=\"text-align: right;\">\n",
       "      <th></th>\n",
       "      <th>transactionId</th>\n",
       "      <th>visitorId</th>\n",
       "      <th>date</th>\n",
       "      <th>revenue</th>\n",
       "      <th>group</th>\n",
       "    </tr>\n",
       "  </thead>\n",
       "  <tbody>\n",
       "    <tr>\n",
       "      <th>0</th>\n",
       "      <td>3667963787</td>\n",
       "      <td>3312258926</td>\n",
       "      <td>2019-08-15</td>\n",
       "      <td>1650</td>\n",
       "      <td>B</td>\n",
       "    </tr>\n",
       "    <tr>\n",
       "      <th>1</th>\n",
       "      <td>2804400009</td>\n",
       "      <td>3642806036</td>\n",
       "      <td>2019-08-15</td>\n",
       "      <td>730</td>\n",
       "      <td>B</td>\n",
       "    </tr>\n",
       "    <tr>\n",
       "      <th>3</th>\n",
       "      <td>3797467345</td>\n",
       "      <td>1196621759</td>\n",
       "      <td>2019-08-15</td>\n",
       "      <td>9759</td>\n",
       "      <td>B</td>\n",
       "    </tr>\n",
       "    <tr>\n",
       "      <th>4</th>\n",
       "      <td>2282983706</td>\n",
       "      <td>2322279887</td>\n",
       "      <td>2019-08-15</td>\n",
       "      <td>2308</td>\n",
       "      <td>B</td>\n",
       "    </tr>\n",
       "    <tr>\n",
       "      <th>5</th>\n",
       "      <td>182168103</td>\n",
       "      <td>935554773</td>\n",
       "      <td>2019-08-15</td>\n",
       "      <td>2210</td>\n",
       "      <td>B</td>\n",
       "    </tr>\n",
       "    <tr>\n",
       "      <th>...</th>\n",
       "      <td>...</td>\n",
       "      <td>...</td>\n",
       "      <td>...</td>\n",
       "      <td>...</td>\n",
       "      <td>...</td>\n",
       "    </tr>\n",
       "    <tr>\n",
       "      <th>1191</th>\n",
       "      <td>3592955527</td>\n",
       "      <td>608641596</td>\n",
       "      <td>2019-08-14</td>\n",
       "      <td>16490</td>\n",
       "      <td>B</td>\n",
       "    </tr>\n",
       "    <tr>\n",
       "      <th>1192</th>\n",
       "      <td>2662137336</td>\n",
       "      <td>3733762160</td>\n",
       "      <td>2019-08-14</td>\n",
       "      <td>6490</td>\n",
       "      <td>B</td>\n",
       "    </tr>\n",
       "    <tr>\n",
       "      <th>1193</th>\n",
       "      <td>2203539145</td>\n",
       "      <td>370388673</td>\n",
       "      <td>2019-08-14</td>\n",
       "      <td>3190</td>\n",
       "      <td>A</td>\n",
       "    </tr>\n",
       "    <tr>\n",
       "      <th>1194</th>\n",
       "      <td>1807773912</td>\n",
       "      <td>573423106</td>\n",
       "      <td>2019-08-14</td>\n",
       "      <td>10550</td>\n",
       "      <td>A</td>\n",
       "    </tr>\n",
       "    <tr>\n",
       "      <th>1196</th>\n",
       "      <td>3936777065</td>\n",
       "      <td>2108080724</td>\n",
       "      <td>2019-08-15</td>\n",
       "      <td>202740</td>\n",
       "      <td>B</td>\n",
       "    </tr>\n",
       "  </tbody>\n",
       "</table>\n",
       "<p>1016 rows × 5 columns</p>\n",
       "</div>"
      ],
      "text/plain": [
       "      transactionId   visitorId        date  revenue group\n",
       "0        3667963787  3312258926  2019-08-15     1650     B\n",
       "1        2804400009  3642806036  2019-08-15      730     B\n",
       "3        3797467345  1196621759  2019-08-15     9759     B\n",
       "4        2282983706  2322279887  2019-08-15     2308     B\n",
       "5         182168103   935554773  2019-08-15     2210     B\n",
       "...             ...         ...         ...      ...   ...\n",
       "1191     3592955527   608641596  2019-08-14    16490     B\n",
       "1192     2662137336  3733762160  2019-08-14     6490     B\n",
       "1193     2203539145   370388673  2019-08-14     3190     A\n",
       "1194     1807773912   573423106  2019-08-14    10550     A\n",
       "1196     3936777065  2108080724  2019-08-15   202740     B\n",
       "\n",
       "[1016 rows x 5 columns]"
      ]
     },
     "execution_count": 28,
     "metadata": {},
     "output_type": "execute_result"
    }
   ],
   "source": [
    "orders\n"
   ]
  },
  {
   "cell_type": "markdown",
   "metadata": {},
   "source": [
    "[Содержание](#0)"
   ]
  },
  {
   "cell_type": "markdown",
   "metadata": {},
   "source": [
    "### Крайние значения данных"
   ]
  },
  {
   "cell_type": "markdown",
   "metadata": {},
   "source": [
    "Проанализируем выбросы и крайние значения. Возможно среди наших данных есть слишком дорогие заказы и они могут искажать данные."
   ]
  },
  {
   "cell_type": "markdown",
   "metadata": {},
   "source": [
    "#### Количество заказов на пользователя. Выбросы"
   ]
  },
  {
   "cell_type": "code",
   "execution_count": 29,
   "metadata": {
    "scrolled": true
   },
   "outputs": [
    {
     "data": {
      "text/html": [
       "<div>\n",
       "<style scoped>\n",
       "    .dataframe tbody tr th:only-of-type {\n",
       "        vertical-align: middle;\n",
       "    }\n",
       "\n",
       "    .dataframe tbody tr th {\n",
       "        vertical-align: top;\n",
       "    }\n",
       "\n",
       "    .dataframe thead th {\n",
       "        text-align: right;\n",
       "    }\n",
       "</style>\n",
       "<table border=\"1\" class=\"dataframe\">\n",
       "  <thead>\n",
       "    <tr style=\"text-align: right;\">\n",
       "      <th></th>\n",
       "      <th>transactionId</th>\n",
       "    </tr>\n",
       "    <tr>\n",
       "      <th>visitorId</th>\n",
       "      <th></th>\n",
       "    </tr>\n",
       "  </thead>\n",
       "  <tbody>\n",
       "    <tr>\n",
       "      <th>5114589</th>\n",
       "      <td>1</td>\n",
       "    </tr>\n",
       "    <tr>\n",
       "      <th>6958315</th>\n",
       "      <td>1</td>\n",
       "    </tr>\n",
       "    <tr>\n",
       "      <th>11685486</th>\n",
       "      <td>1</td>\n",
       "    </tr>\n",
       "    <tr>\n",
       "      <th>39475350</th>\n",
       "      <td>1</td>\n",
       "    </tr>\n",
       "    <tr>\n",
       "      <th>47206413</th>\n",
       "      <td>1</td>\n",
       "    </tr>\n",
       "  </tbody>\n",
       "</table>\n",
       "</div>"
      ],
      "text/plain": [
       "           transactionId\n",
       "visitorId               \n",
       "5114589                1\n",
       "6958315                1\n",
       "11685486               1\n",
       "39475350               1\n",
       "47206413               1"
      ]
     },
     "execution_count": 29,
     "metadata": {},
     "output_type": "execute_result"
    }
   ],
   "source": [
    "# сгруппируем датасет по количеству заказов на пользователя\n",
    "orders_user = orders.groupby('visitorId').agg({'transactionId':'count'})\n",
    "orders_user.head()\n"
   ]
  },
  {
   "cell_type": "code",
   "execution_count": 30,
   "metadata": {},
   "outputs": [
    {
     "data": {
      "image/png": "[encoded data removed]",
      "text/plain": [
       "<Figure size 432x288 with 1 Axes>"
      ]
     },
     "metadata": {
      "needs_background": "light"
     },
     "output_type": "display_data"
    }
   ],
   "source": [
    "plt.plot(orders_user, 'ro')\n",
    "plt.title('Точечный график распределения количества заказов');\n"
   ]
  },
  {
   "cell_type": "code",
   "execution_count": 31,
   "metadata": {
    "scrolled": true
   },
   "outputs": [
    {
     "name": "stdout",
     "output_type": "stream",
     "text": [
      "[1. 2.]\n"
     ]
    }
   ],
   "source": [
    "# посчитаем 95 и 99 персентили\n",
    "print(np.percentile(orders_user['transactionId'], [95, 99]))\n"
   ]
  },
  {
   "cell_type": "markdown",
   "metadata": {},
   "source": [
    "Почти все пользователи сделали не более 1 заказа и не более 1% - по 2 заказа. Если смотреть на график - есть пользователи, которые сделали 3 заказа - и такие данные можно считать выбросами, т.к. они еще меньше 1%."
   ]
  },
  {
   "cell_type": "markdown",
   "metadata": {},
   "source": [
    "#### Стоимость заказов на пользователя. Выбросы"
   ]
  },
  {
   "cell_type": "code",
   "execution_count": 32,
   "metadata": {
    "scrolled": true
   },
   "outputs": [
    {
     "data": {
      "text/html": [
       "<div>\n",
       "<style scoped>\n",
       "    .dataframe tbody tr th:only-of-type {\n",
       "        vertical-align: middle;\n",
       "    }\n",
       "\n",
       "    .dataframe tbody tr th {\n",
       "        vertical-align: top;\n",
       "    }\n",
       "\n",
       "    .dataframe thead th {\n",
       "        text-align: right;\n",
       "    }\n",
       "</style>\n",
       "<table border=\"1\" class=\"dataframe\">\n",
       "  <thead>\n",
       "    <tr style=\"text-align: right;\">\n",
       "      <th></th>\n",
       "      <th>revenue</th>\n",
       "    </tr>\n",
       "    <tr>\n",
       "      <th>visitorId</th>\n",
       "      <th></th>\n",
       "    </tr>\n",
       "  </thead>\n",
       "  <tbody>\n",
       "    <tr>\n",
       "      <th>5114589</th>\n",
       "      <td>570</td>\n",
       "    </tr>\n",
       "    <tr>\n",
       "      <th>6958315</th>\n",
       "      <td>1490</td>\n",
       "    </tr>\n",
       "    <tr>\n",
       "      <th>11685486</th>\n",
       "      <td>6201</td>\n",
       "    </tr>\n",
       "    <tr>\n",
       "      <th>39475350</th>\n",
       "      <td>3990</td>\n",
       "    </tr>\n",
       "    <tr>\n",
       "      <th>47206413</th>\n",
       "      <td>730</td>\n",
       "    </tr>\n",
       "  </tbody>\n",
       "</table>\n",
       "</div>"
      ],
      "text/plain": [
       "           revenue\n",
       "visitorId         \n",
       "5114589        570\n",
       "6958315       1490\n",
       "11685486      6201\n",
       "39475350      3990\n",
       "47206413       730"
      ]
     },
     "execution_count": 32,
     "metadata": {},
     "output_type": "execute_result"
    }
   ],
   "source": [
    "revenue_user = orders.groupby('visitorId').agg({'revenue':'sum'})\n",
    "revenue_user.head()\n"
   ]
  },
  {
   "cell_type": "code",
   "execution_count": 33,
   "metadata": {
    "scrolled": true
   },
   "outputs": [
    {
     "data": {
      "image/png": "[encoded data removed]",
      "text/plain": [
       "<Figure size 432x288 with 1 Axes>"
      ]
     },
     "metadata": {
      "needs_background": "light"
     },
     "output_type": "display_data"
    }
   ],
   "source": [
    "plt.plot(revenue_user, 'go')\n",
    "plt.title('Точечный график распределения стоимости заказов');\n"
   ]
  },
  {
   "cell_type": "code",
   "execution_count": 34,
   "metadata": {
    "scrolled": true
   },
   "outputs": [
    {
     "name": "stdout",
     "output_type": "stream",
     "text": [
      "[28910. 59082.]\n"
     ]
    }
   ],
   "source": [
    "# посчитаем 95 и 99 персентили\n",
    "print(np.percentile(revenue_user['revenue'], [95, 99]))\n"
   ]
  },
  {
   "cell_type": "markdown",
   "metadata": {},
   "source": [
    "95% заказов не превышают 28910, и есть экстремально-дорогие заказы на сумму более 59000. Будем считать границей выбросов 28000.\n",
    "\n"
   ]
  },
  {
   "cell_type": "markdown",
   "metadata": {},
   "source": [
    "### Подсчет статистической значимости. \"Сырые\" данные"
   ]
  },
  {
   "cell_type": "markdown",
   "metadata": {},
   "source": [
    "Прежде чем сделать выводы, прошел ли А/В-тест удачно, посчитаем статистическую значимость."
   ]
  },
  {
   "cell_type": "markdown",
   "metadata": {},
   "source": [
    " Обработаем заново данные для того, чтобы получить 2 выборки."
   ]
  },
  {
   "cell_type": "code",
   "execution_count": 35,
   "metadata": {},
   "outputs": [
    {
     "name": "stdout",
     "output_type": "stream",
     "text": [
      "         date  ordersPerDateA  revenuePerDateA  ordersPerDateB  \\\n",
      "0  2019-08-01              23           142779              17   \n",
      "1  2019-08-02              19            91602              23   \n",
      "2  2019-08-03              24           112473              14   \n",
      "3  2019-08-04              11            41176              14   \n",
      "4  2019-08-05              22            86383              21   \n",
      "\n",
      "   revenuePerDateB  ordersCummulativeA  revenueCummulativeA  \\\n",
      "0            59758                  23               142779   \n",
      "1           162043                  42               234381   \n",
      "2            67049                  66               346854   \n",
      "3            96890                  77               388030   \n",
      "4            89908                  99               474413   \n",
      "\n",
      "   ordersCummulativeB  revenueCummulativeB  visitorsPerDateA  \\\n",
      "0                  17                59758               719   \n",
      "1                  40               221801               619   \n",
      "2                  54               288850               507   \n",
      "3                  68               385740               717   \n",
      "4                  89               475648               756   \n",
      "\n",
      "   visitorsPerDateB  visitorsCummulativeA  visitorsCummulativeB  \n",
      "0               713                   719                   713  \n",
      "1               581                  1338                  1294  \n",
      "2               509                  1845                  1803  \n",
      "3               770                  2562                  2573  \n",
      "4               707                  3318                  3280  \n"
     ]
    }
   ],
   "source": [
    "#visitors['date'] = visitors['date'].map(\n",
    "    #lambda x: dt.datetime.strptime(x, '%Y/%m/%d') # поменяем формат времени\n",
    "#)\n",
    "\n",
    "#orders['date'] = orders['date'].map(\n",
    "   # lambda x: dt.datetime.strptime(x, '%Y/%m/%d') # поменяем формат времени\n",
    "#)\n",
    "\n",
    "visitorsADaily = visitors[visitors['group'] == 'A'][['date', 'visitors']] # посчитаем количество посетителей за каждый день\n",
    "visitorsADaily.columns = ['date', 'visitorsPerDateA']\n",
    "\n",
    "visitorsACummulative = visitorsADaily.apply( # кумулятивные посетители за каждый день\n",
    "    lambda x: visitorsADaily[visitorsADaily['date'] <= x['date']].agg(\n",
    "        {'date': 'max', 'visitorsPerDateA': 'sum'}\n",
    "    ),\n",
    "    axis=1,\n",
    ")\n",
    "visitorsACummulative.columns = ['date', 'visitorsCummulativeA'] # переименуем колонки\n",
    "\n",
    "visitorsBDaily = visitors[visitors['group'] == 'B'][['date', 'visitors']] # то же для группы В\n",
    "visitorsBDaily.columns = ['date', 'visitorsPerDateB']\n",
    "\n",
    "visitorsBCummulative = visitorsBDaily.apply(\n",
    "    lambda x: visitorsBDaily[visitorsBDaily['date'] <= x['date']].agg(\n",
    "        {'date': 'max', 'visitorsPerDateB': 'sum'}\n",
    "    ),\n",
    "    axis=1,\n",
    ")\n",
    "visitorsBCummulative.columns = ['date', 'visitorsCummulativeB']\n",
    "\n",
    "ordersADaily = ( # количество транзакций за день\n",
    "    orders[orders['group'] == 'A'][['date', 'transactionId', 'visitorId', 'revenue']]\n",
    "    .groupby('date', as_index=False)\n",
    "    .agg({'transactionId': pd.Series.nunique, 'revenue': 'sum'})\n",
    ")\n",
    "ordersADaily.columns = ['date', 'ordersPerDateA', 'revenuePerDateA'] # переименуем колонки\n",
    "\n",
    "ordersACummulative = ordersADaily.apply( # кумулятивные покупки\n",
    "    lambda x: ordersADaily[ordersADaily['date'] <= x['date']].agg(\n",
    "        {'date': 'max', 'ordersPerDateA': 'sum', 'revenuePerDateA': 'sum'}\n",
    "    ),\n",
    "    axis=1,\n",
    ").sort_values(by=['date']) # отсортируем по дате, переименуем колонки\n",
    "ordersACummulative.columns = [\n",
    "    'date',\n",
    "    'ordersCummulativeA',\n",
    "    'revenueCummulativeA',\n",
    "]\n",
    "\n",
    "ordersBDaily = ( # повторим тот же код для группы В\n",
    "    orders[orders['group'] == 'B'][['date', 'transactionId', 'visitorId', 'revenue']]\n",
    "    .groupby('date', as_index=False)\n",
    "    .agg({'transactionId': pd.Series.nunique, 'revenue': 'sum'})\n",
    ")\n",
    "ordersBDaily.columns = ['date', 'ordersPerDateB', 'revenuePerDateB'] # переименуем колонки\n",
    "\n",
    "ordersBCummulative = ordersBDaily.apply(\n",
    "    lambda x: ordersBDaily[ordersBDaily['date'] <= x['date']].agg(\n",
    "        {'date': 'max', 'ordersPerDateB': 'sum', 'revenuePerDateB': 'sum'}\n",
    "    ),\n",
    "    axis=1,\n",
    ").sort_values(by=['date'])\n",
    "ordersBCummulative.columns = [\n",
    "    'date',\n",
    "    'ordersCummulativeB',\n",
    "    'revenueCummulativeB',\n",
    "]\n",
    "\n",
    "data = ( # объединим все в один датасет\n",
    "    ordersADaily.merge(\n",
    "        ordersBDaily, left_on='date', right_on='date', how='left'\n",
    "    )\n",
    "    .merge(ordersACummulative, on='date', how='left')\n",
    "    .merge(ordersBCummulative, on='date', how='left')\n",
    "    .merge(visitorsADaily, on='date', how='left')\n",
    "    .merge(visitorsBDaily, on='date', how='left')\n",
    "    .merge(visitorsACummulative, on='date', how='left')\n",
    "    .merge(visitorsBCummulative, on='date', how='left')\n",
    ")\n",
    "\n",
    "print(data.head(5))"
   ]
  },
  {
   "cell_type": "code",
   "execution_count": 36,
   "metadata": {},
   "outputs": [],
   "source": [
    "# создадим 2 переменные, в которые попадет количество заказов для каждого пользователя по 2 группам\n",
    "ordersByUsersA = (\n",
    "    orders[orders['group'] == 'A']\n",
    "    .groupby('visitorId', as_index=False)\n",
    "    .agg({'transactionId': pd.Series.nunique})\n",
    ")\n",
    "ordersByUsersA.columns = ['userId', 'orders']\n",
    "\n",
    "ordersByUsersB = (\n",
    "    orders[orders['group'] == 'B']\n",
    "    .groupby('visitorId', as_index=False)\n",
    "    .agg({'transactionId': pd.Series.nunique})\n",
    ")\n",
    "ordersByUsersB.columns = ['userId', 'orders']\n"
   ]
  },
  {
   "cell_type": "markdown",
   "metadata": {},
   "source": [
    "#### Различие конверсии"
   ]
  },
  {
   "cell_type": "markdown",
   "metadata": {},
   "source": [
    "Сформулируем нулевую гипотезу: значимого различия между конверсиями групп А и В нет. Альтернативная гипотеза: конверсии отличаются."
   ]
  },
  {
   "cell_type": "markdown",
   "metadata": {},
   "source": [
    "Объявим переменные sampleA и sampleB, в которых пользователям из разных групп будет соответствовать количество заказов. Тем, кто ничего не заказал, будут соответствовать нули. Это нужно, чтобы подготовить выборки к проверке критерием Манна-Уитни."
   ]
  },
  {
   "cell_type": "code",
   "execution_count": 37,
   "metadata": {},
   "outputs": [],
   "source": [
    "\n",
    "sampleA = pd.concat([ordersByUsersA['orders'],pd.Series(0, index=np.arange(data['visitorsPerDateA'].sum() - len(ordersByUsersA['orders'])), name='orders')],axis=0)\n",
    "\n",
    "sampleB = pd.concat([ordersByUsersB['orders'],pd.Series(0, index=np.arange(data['visitorsPerDateB'].sum() - len(ordersByUsersB['orders'])), name='orders')],axis=0)"
   ]
  },
  {
   "cell_type": "markdown",
   "metadata": {},
   "source": [
    "<a class=\"anchor\" id=\"21-bullet\"></a>"
   ]
  },
  {
   "cell_type": "code",
   "execution_count": 38,
   "metadata": {},
   "outputs": [
    {
     "name": "stdout",
     "output_type": "stream",
     "text": [
      "0.011\n",
      "0.160\n"
     ]
    }
   ],
   "source": [
    "print(\"{0:.3f}\".format(stats.mannwhitneyu(sampleA, sampleB)[1]))\n",
    "\n",
    "print(\"{0:.3f}\".format(sampleB.mean() / sampleA.mean() - 1))\n"
   ]
  },
  {
   "cell_type": "markdown",
   "metadata": {},
   "source": [
    "На \"сырых\" данныx p-value 1%, это значит что у нас уже есть основание отвергруть нулевую гипотезу, результаты по конверсии группы B c большой вероятностью выше. Среднее значение конверсии в группе В выше на 16%."
   ]
  },
  {
   "cell_type": "markdown",
   "metadata": {},
   "source": [
    "#### Различие среднего чека"
   ]
  },
  {
   "cell_type": "markdown",
   "metadata": {},
   "source": [
    "Нулевая гипотеза: средний чек в группах А и В не отличается, альтернативная: средние чеки в двух группах различаются."
   ]
  },
  {
   "cell_type": "code",
   "execution_count": 39,
   "metadata": {
    "scrolled": false
   },
   "outputs": [
    {
     "name": "stdout",
     "output_type": "stream",
     "text": [
      "0.829\n",
      "0.287\n"
     ]
    }
   ],
   "source": [
    "print('{0:.3f}'.format(stats.mannwhitneyu(orders[orders['group']=='A']['revenue'], orders[orders['group']=='B']['revenue'])[1]))\n",
    "print('{0:.3f}'.format(orders[orders['group']=='B']['revenue'].mean()/orders[orders['group']=='A']['revenue'].mean()-1))\n"
   ]
  },
  {
   "cell_type": "markdown",
   "metadata": {},
   "source": [
    "p-value больше 80% - нет оснований отвергать нулевую гипотезу, средние чеки в группах А и В не отличаются, согласно тесту, но средний чек группы B выше среднего чека почти на 30%. Возможно, благодаря дорогим заказам."
   ]
  },
  {
   "cell_type": "markdown",
   "metadata": {},
   "source": [
    "[Содержание](#0)"
   ]
  },
  {
   "cell_type": "markdown",
   "metadata": {},
   "source": [
    "### Подсчет статистической значимости. Очищенные данные"
   ]
  },
  {
   "cell_type": "markdown",
   "metadata": {},
   "source": [
    "На предыдущем шаге мы зафиксировали выбросы в сумме заказа более 28000 и в количестве заказов больше 3 на человека. Удалим данные этих пользователей из исходного датасета, чтобы посчитать статистическую значимость по-новому.\n",
    "\n",
    "Нулевая и альтернативная гипотезы останутся теми же."
   ]
  },
  {
   "cell_type": "code",
   "execution_count": 40,
   "metadata": {
    "scrolled": true
   },
   "outputs": [],
   "source": [
    "orders = orders.query('revenue <= 28000') # отфильтруем по сумме заказа \n"
   ]
  },
  {
   "cell_type": "code",
   "execution_count": 41,
   "metadata": {},
   "outputs": [
    {
     "data": {
      "text/html": [
       "<div>\n",
       "<style scoped>\n",
       "    .dataframe tbody tr th:only-of-type {\n",
       "        vertical-align: middle;\n",
       "    }\n",
       "\n",
       "    .dataframe tbody tr th {\n",
       "        vertical-align: top;\n",
       "    }\n",
       "\n",
       "    .dataframe thead th {\n",
       "        text-align: right;\n",
       "    }\n",
       "</style>\n",
       "<table border=\"1\" class=\"dataframe\">\n",
       "  <thead>\n",
       "    <tr style=\"text-align: right;\">\n",
       "      <th></th>\n",
       "      <th>transactionId</th>\n",
       "    </tr>\n",
       "    <tr>\n",
       "      <th>visitorId</th>\n",
       "      <th></th>\n",
       "    </tr>\n",
       "  </thead>\n",
       "  <tbody>\n",
       "    <tr>\n",
       "      <th>5114589</th>\n",
       "      <td>1</td>\n",
       "    </tr>\n",
       "    <tr>\n",
       "      <th>6958315</th>\n",
       "      <td>1</td>\n",
       "    </tr>\n",
       "    <tr>\n",
       "      <th>11685486</th>\n",
       "      <td>1</td>\n",
       "    </tr>\n",
       "    <tr>\n",
       "      <th>39475350</th>\n",
       "      <td>1</td>\n",
       "    </tr>\n",
       "    <tr>\n",
       "      <th>47206413</th>\n",
       "      <td>1</td>\n",
       "    </tr>\n",
       "    <tr>\n",
       "      <th>...</th>\n",
       "      <td>...</td>\n",
       "    </tr>\n",
       "    <tr>\n",
       "      <th>4259830713</th>\n",
       "      <td>1</td>\n",
       "    </tr>\n",
       "    <tr>\n",
       "      <th>4278982564</th>\n",
       "      <td>1</td>\n",
       "    </tr>\n",
       "    <tr>\n",
       "      <th>4279090005</th>\n",
       "      <td>1</td>\n",
       "    </tr>\n",
       "    <tr>\n",
       "      <th>4281247801</th>\n",
       "      <td>1</td>\n",
       "    </tr>\n",
       "    <tr>\n",
       "      <th>4283872382</th>\n",
       "      <td>1</td>\n",
       "    </tr>\n",
       "  </tbody>\n",
       "</table>\n",
       "<p>973 rows × 1 columns</p>\n",
       "</div>"
      ],
      "text/plain": [
       "            transactionId\n",
       "visitorId                \n",
       "5114589                 1\n",
       "6958315                 1\n",
       "11685486                1\n",
       "39475350                1\n",
       "47206413                1\n",
       "...                   ...\n",
       "4259830713              1\n",
       "4278982564              1\n",
       "4279090005              1\n",
       "4281247801              1\n",
       "4283872382              1\n",
       "\n",
       "[973 rows x 1 columns]"
      ]
     },
     "execution_count": 41,
     "metadata": {},
     "output_type": "execute_result"
    }
   ],
   "source": [
    "orders_user\n"
   ]
  },
  {
   "cell_type": "code",
   "execution_count": 42,
   "metadata": {},
   "outputs": [
    {
     "data": {
      "text/plain": [
       "array([ 249864742,  611059232, 2108163459, 2742574263, 2988190573,\n",
       "       3908431265, 3967698036])"
      ]
     },
     "execution_count": 42,
     "metadata": {},
     "output_type": "execute_result"
    }
   ],
   "source": [
    "# найдем id пользователей, которые совершили больше 2 заказов\n",
    "orders_user = orders_user.reset_index()\n",
    "# отфильтруем по количеству транзакций и соберем уникальные значения в отдельный список\n",
    "extrem_user = orders_user.query('transactionId > 2')['visitorId'].unique()  \n",
    "extrem_user\n"
   ]
  },
  {
   "cell_type": "code",
   "execution_count": 43,
   "metadata": {},
   "outputs": [],
   "source": [
    "# удалим эти id\n",
    "orders = orders[~orders['visitorId'].isin(extrem_user)]\n"
   ]
  },
  {
   "cell_type": "markdown",
   "metadata": {},
   "source": [
    "#### Различие конверсии"
   ]
  },
  {
   "cell_type": "markdown",
   "metadata": {},
   "source": [
    "Сформулируем нулевую гипотезу: значимого различия между конверсиями групп А и В нет. Альтернативная гипотеза: конверсии отличаются."
   ]
  },
  {
   "cell_type": "code",
   "execution_count": 44,
   "metadata": {},
   "outputs": [],
   "source": [
    "# заново создадим переменные уже по очищенным данным\n",
    "ordersByUsersA = (\n",
    "    orders[orders['group'] == 'A']\n",
    "    .groupby('visitorId', as_index=False)\n",
    "    .agg({'transactionId': pd.Series.nunique})\n",
    ")\n",
    "ordersByUsersA.columns = ['userId', 'orders']\n",
    "\n",
    "ordersByUsersB = (\n",
    "    orders[orders['group'] == 'B']\n",
    "    .groupby('visitorId', as_index=False)\n",
    "    .agg({'transactionId': pd.Series.nunique})\n",
    ")\n",
    "ordersByUsersB.columns = ['userId', 'orders']\n"
   ]
  },
  {
   "cell_type": "code",
   "execution_count": 45,
   "metadata": {},
   "outputs": [],
   "source": [
    "\n",
    "sampleA = pd.concat([ordersByUsersA['orders'],pd.Series(0, index=np.arange(data['visitorsPerDateA'].sum() - len(ordersByUsersA['orders'])), name='orders')],axis=0)\n",
    "\n",
    "sampleB = pd.concat([ordersByUsersB['orders'],pd.Series(0, index=np.arange(data['visitorsPerDateB'].sum() - len(ordersByUsersB['orders'])), name='orders')],axis=0)"
   ]
  },
  {
   "cell_type": "markdown",
   "metadata": {},
   "source": [
    "<a class=\"anchor\" id=\"22-bullet\"></a>"
   ]
  },
  {
   "cell_type": "code",
   "execution_count": 46,
   "metadata": {},
   "outputs": [
    {
     "name": "stdout",
     "output_type": "stream",
     "text": [
      "0.010\n",
      "0.186\n"
     ]
    }
   ],
   "source": [
    "print(\"{0:.3f}\".format(stats.mannwhitneyu(sampleA, sampleB)[1]))\n",
    "\n",
    "print(\"{0:.3f}\".format(sampleB.mean() / sampleA.mean() - 1))\n"
   ]
  },
  {
   "cell_type": "markdown",
   "metadata": {},
   "source": [
    "P-value еще чуть меньше - вероятность того, что данные выборки A и В идетничны еще меньше. "
   ]
  },
  {
   "cell_type": "markdown",
   "metadata": {},
   "source": [
    "#### Различие среднего чека "
   ]
  },
  {
   "cell_type": "code",
   "execution_count": 47,
   "metadata": {
    "scrolled": true
   },
   "outputs": [
    {
     "name": "stdout",
     "output_type": "stream",
     "text": [
      "0.718\n",
      "-0.029\n"
     ]
    }
   ],
   "source": [
    "print('{0:.3f}'.format(stats.mannwhitneyu(orders[orders['group']=='A']['revenue'], orders[orders['group']=='B']['revenue'])[1]))\n",
    "print('{0:.3f}'.format(orders[orders['group']=='B']['revenue'].mean()/orders[orders['group']=='A']['revenue'].mean()-1))\n"
   ]
  },
  {
   "cell_type": "markdown",
   "metadata": {},
   "source": [
    "И опять тест не позволяет нам отвергнуть нулевую гипотезу - p-value слишком большой, 72%. Средние чеки в группах практически идентичны."
   ]
  },
  {
   "cell_type": "markdown",
   "metadata": {},
   "source": [
    "[Содержание](#0)"
   ]
  },
  {
   "cell_type": "markdown",
   "metadata": {},
   "source": [
    "## Решение\n",
    "<a id=5> </a>"
   ]
  },
  {
   "cell_type": "markdown",
   "metadata": {},
   "source": [
    "На основе статистических тестов мы определили, что с высокой долей вероятности:\n",
    "- конверсия в группе В выше;\n",
    "- средний чек примерно одинаковый.\n",
    "\n"
   ]
  },
  {
   "cell_type": "markdown",
   "metadata": {},
   "source": [
    "## Вывод \n",
    "<a id=6> </a>"
   ]
  },
  {
   "cell_type": "markdown",
   "metadata": {},
   "source": [
    "В ходе исследования мы проверили приоретизацию гипотез, чтобы понять какие именно изменения тестировать в первую очередь, чтобы увидеть максимальный результат на максимально большом охвате аудитории.  \n",
    "Самое большое количество балллов получила гипотеза 7: Добавить форму подписки на все основные страницы, чтобы собрать базу клиентов для email-рассылок. Возможно, ее мы и тестировали.  \n",
    "Следующие после нее по значимости гипотезы:  \n",
    "- 2  Добавить блоки рекомендаций товаров на сайт интернет магазина, чтобы повысить конверсию и средний чек заказа;\n",
    "- 0 Добавить два новых канала привлечения трафика, что позволит привлекать на 30% больше пользователей;\n",
    "- 6 Показать на главной странице баннеры с актуальными акциями и распродажами, чтобы увеличить конверсию. \n",
    "\n",
    "Далее было проведено A/B-тестирование. Мы выяснили что выборки равны и пользователи в группах разделены на равные доли. Так же очистили данные от пользователей, которые случайно попали в обе группы.\n",
    "\n",
    "На основе обработанных данных мы построили графики ARPU, ARPPU и конверсии и сравнили динамику распределения по группам. Судя по визуализации, можем сказать, что группа В лидирует, мы проверили это при помощи статистических тестов на следующем этапе исследования. \n",
    "\n",
    "На следующем этапе мы проверили статистическую значимость обнаруженных ранее различий, сначала на \"сырых\" данных, а потом - на очищенных. Проверяли значимость в разнице конверсий и средних чеков. Мы обнаружили значимый рост конверсии в группе В, а средний чек не показал статистически значимого роста.\n"
   ]
  }
 ],
 "metadata": {
  "ExecuteTimeLog": [
   {
    "duration": 1270,
    "start_time": "2022-08-22T04:45:27.272Z"
   },
   {
    "duration": 211,
    "start_time": "2022-08-22T04:45:28.544Z"
   },
   {
    "duration": 15,
    "start_time": "2022-08-22T04:45:28.757Z"
   },
   {
    "duration": 10,
    "start_time": "2022-08-22T04:45:28.775Z"
   },
   {
    "duration": 9,
    "start_time": "2022-08-22T04:45:28.787Z"
   },
   {
    "duration": 42,
    "start_time": "2022-08-22T04:45:28.797Z"
   },
   {
    "duration": 31,
    "start_time": "2022-08-22T04:45:28.841Z"
   },
   {
    "duration": 6,
    "start_time": "2022-08-22T04:45:28.873Z"
   },
   {
    "duration": 11,
    "start_time": "2022-08-22T04:45:28.880Z"
   },
   {
    "duration": 14,
    "start_time": "2022-08-22T04:45:28.893Z"
   },
   {
    "duration": 9,
    "start_time": "2022-08-22T04:45:28.908Z"
   },
   {
    "duration": 11,
    "start_time": "2022-08-22T04:45:28.918Z"
   },
   {
    "duration": 169,
    "start_time": "2022-08-22T04:45:28.930Z"
   },
   {
    "duration": 9,
    "start_time": "2022-08-22T04:45:29.100Z"
   },
   {
    "duration": 11,
    "start_time": "2022-08-22T04:45:29.110Z"
   },
   {
    "duration": 9,
    "start_time": "2022-08-22T04:45:29.123Z"
   },
   {
    "duration": 18,
    "start_time": "2022-08-22T04:45:29.133Z"
   },
   {
    "duration": 577,
    "start_time": "2022-08-22T04:45:29.153Z"
   },
   {
    "duration": 192,
    "start_time": "2022-08-22T04:45:29.732Z"
   },
   {
    "duration": 226,
    "start_time": "2022-08-22T04:45:29.926Z"
   },
   {
    "duration": 11,
    "start_time": "2022-08-22T04:45:30.153Z"
   },
   {
    "duration": 161,
    "start_time": "2022-08-22T04:45:30.166Z"
   },
   {
    "duration": 192,
    "start_time": "2022-08-22T04:45:30.328Z"
   },
   {
    "duration": 217,
    "start_time": "2022-08-22T04:45:30.522Z"
   },
   {
    "duration": 10,
    "start_time": "2022-08-22T04:45:30.741Z"
   },
   {
    "duration": 19,
    "start_time": "2022-08-22T04:45:30.753Z"
   },
   {
    "duration": 124,
    "start_time": "2022-08-22T04:45:30.774Z"
   },
   {
    "duration": 4,
    "start_time": "2022-08-22T04:45:30.902Z"
   },
   {
    "duration": 15,
    "start_time": "2022-08-22T04:45:30.907Z"
   },
   {
    "duration": 115,
    "start_time": "2022-08-22T04:45:30.923Z"
   },
   {
    "duration": 4,
    "start_time": "2022-08-22T04:45:31.040Z"
   },
   {
    "duration": 21,
    "start_time": "2022-08-22T04:45:31.045Z"
   },
   {
    "duration": 12,
    "start_time": "2022-08-22T04:45:31.068Z"
   },
   {
    "duration": 17,
    "start_time": "2022-08-22T04:45:31.081Z"
   },
   {
    "duration": 4,
    "start_time": "2022-08-22T04:45:31.100Z"
   },
   {
    "duration": 15,
    "start_time": "2022-08-22T04:45:31.105Z"
   },
   {
    "duration": 69,
    "start_time": "2022-08-22T04:45:31.121Z"
   },
   {
    "duration": 9,
    "start_time": "2022-08-22T04:45:31.191Z"
   },
   {
    "duration": 156,
    "start_time": "2022-08-22T04:45:31.202Z"
   },
   {
    "duration": 9,
    "start_time": "2022-08-22T04:45:31.359Z"
   },
   {
    "duration": 12,
    "start_time": "2022-08-22T04:45:31.369Z"
   },
   {
    "duration": 4,
    "start_time": "2022-08-22T05:13:49.429Z"
   },
   {
    "duration": 100,
    "start_time": "2022-08-22T05:25:51.130Z"
   },
   {
    "duration": 8,
    "start_time": "2022-08-22T05:25:54.266Z"
   },
   {
    "duration": 4,
    "start_time": "2022-08-22T05:26:06.450Z"
   },
   {
    "duration": 12,
    "start_time": "2022-08-22T05:26:19.135Z"
   },
   {
    "duration": 5,
    "start_time": "2022-08-22T05:26:21.821Z"
   },
   {
    "duration": 4,
    "start_time": "2022-08-22T05:26:32.319Z"
   },
   {
    "duration": 9,
    "start_time": "2022-08-22T05:26:49.600Z"
   },
   {
    "duration": 10,
    "start_time": "2022-08-22T05:26:51.970Z"
   },
   {
    "duration": 9,
    "start_time": "2022-08-22T05:26:53.094Z"
   },
   {
    "duration": 4,
    "start_time": "2022-08-22T05:26:57.122Z"
   },
   {
    "duration": 4,
    "start_time": "2022-08-22T05:27:28.006Z"
   },
   {
    "duration": 4,
    "start_time": "2022-08-22T05:27:38.181Z"
   },
   {
    "duration": 10,
    "start_time": "2022-08-22T05:28:04.612Z"
   },
   {
    "duration": 5,
    "start_time": "2022-08-22T05:28:14.595Z"
   },
   {
    "duration": 4,
    "start_time": "2022-08-22T05:28:34.999Z"
   },
   {
    "duration": 3,
    "start_time": "2022-08-22T05:30:21.601Z"
   },
   {
    "duration": 3,
    "start_time": "2022-08-22T05:30:21.834Z"
   },
   {
    "duration": 4,
    "start_time": "2022-08-22T05:30:44.733Z"
   },
   {
    "duration": 4,
    "start_time": "2022-08-22T05:30:48.930Z"
   },
   {
    "duration": 5,
    "start_time": "2022-08-22T05:30:52.811Z"
   },
   {
    "duration": 10,
    "start_time": "2022-08-22T05:30:59.421Z"
   },
   {
    "duration": 3,
    "start_time": "2022-08-22T05:31:01.884Z"
   },
   {
    "duration": 5,
    "start_time": "2022-08-22T05:31:04.892Z"
   },
   {
    "duration": 4,
    "start_time": "2022-08-22T05:31:11.457Z"
   },
   {
    "duration": 14,
    "start_time": "2022-08-22T05:40:50.742Z"
   },
   {
    "duration": 1264,
    "start_time": "2022-08-23T03:33:35.340Z"
   },
   {
    "duration": 74,
    "start_time": "2022-08-23T03:33:36.606Z"
   },
   {
    "duration": 13,
    "start_time": "2022-08-23T03:33:36.682Z"
   },
   {
    "duration": 10,
    "start_time": "2022-08-23T03:33:36.698Z"
   },
   {
    "duration": 10,
    "start_time": "2022-08-23T03:33:36.709Z"
   },
   {
    "duration": 16,
    "start_time": "2022-08-23T03:33:36.721Z"
   },
   {
    "duration": 7,
    "start_time": "2022-08-23T03:33:36.739Z"
   },
   {
    "duration": 47,
    "start_time": "2022-08-23T03:33:36.747Z"
   },
   {
    "duration": 38,
    "start_time": "2022-08-23T03:33:36.796Z"
   },
   {
    "duration": 8,
    "start_time": "2022-08-23T03:33:36.838Z"
   },
   {
    "duration": 21,
    "start_time": "2022-08-23T03:33:36.849Z"
   },
   {
    "duration": 22,
    "start_time": "2022-08-23T03:33:36.891Z"
   },
   {
    "duration": 14,
    "start_time": "2022-08-23T03:33:36.914Z"
   },
   {
    "duration": 11,
    "start_time": "2022-08-23T03:33:36.929Z"
   },
   {
    "duration": 16,
    "start_time": "2022-08-23T03:33:36.942Z"
   },
   {
    "duration": 180,
    "start_time": "2022-08-23T03:33:36.960Z"
   },
   {
    "duration": 13,
    "start_time": "2022-08-23T03:33:37.142Z"
   },
   {
    "duration": 17,
    "start_time": "2022-08-23T03:33:37.157Z"
   },
   {
    "duration": 2713,
    "start_time": "2022-08-23T03:33:37.176Z"
   },
   {
    "duration": 5,
    "start_time": "2022-08-23T03:33:39.891Z"
   },
   {
    "duration": 16,
    "start_time": "2022-08-23T03:33:39.898Z"
   },
   {
    "duration": 19,
    "start_time": "2022-08-23T03:33:39.916Z"
   },
   {
    "duration": 35,
    "start_time": "2022-08-23T03:33:39.937Z"
   },
   {
    "duration": 701,
    "start_time": "2022-08-23T03:33:39.974Z"
   },
   {
    "duration": 201,
    "start_time": "2022-08-23T03:33:40.676Z"
   },
   {
    "duration": 261,
    "start_time": "2022-08-23T03:33:40.879Z"
   },
   {
    "duration": 12,
    "start_time": "2022-08-23T03:33:41.142Z"
   },
   {
    "duration": 178,
    "start_time": "2022-08-23T03:33:41.157Z"
   },
   {
    "duration": 203,
    "start_time": "2022-08-23T03:33:41.337Z"
   },
   {
    "duration": 203,
    "start_time": "2022-08-23T03:33:41.541Z"
   },
   {
    "duration": 12,
    "start_time": "2022-08-23T03:33:41.746Z"
   },
   {
    "duration": 11,
    "start_time": "2022-08-23T03:33:41.760Z"
   },
   {
    "duration": 193,
    "start_time": "2022-08-23T03:33:41.772Z"
   },
   {
    "duration": 6,
    "start_time": "2022-08-23T03:33:41.967Z"
   },
   {
    "duration": 40,
    "start_time": "2022-08-23T03:33:41.978Z"
   },
   {
    "duration": 153,
    "start_time": "2022-08-23T03:33:42.019Z"
   },
   {
    "duration": 4,
    "start_time": "2022-08-23T03:33:42.174Z"
   },
   {
    "duration": 306,
    "start_time": "2022-08-23T03:33:42.180Z"
   },
   {
    "duration": 140,
    "start_time": "2022-08-23T03:33:42.491Z"
   },
   {
    "duration": 6,
    "start_time": "2022-08-23T03:33:42.633Z"
   },
   {
    "duration": 34,
    "start_time": "2022-08-23T03:33:42.640Z"
   },
   {
    "duration": 18,
    "start_time": "2022-08-23T03:33:42.676Z"
   },
   {
    "duration": 5,
    "start_time": "2022-08-23T03:33:42.695Z"
   },
   {
    "duration": 13,
    "start_time": "2022-08-23T03:33:42.702Z"
   },
   {
    "duration": 13,
    "start_time": "2022-08-23T03:33:42.717Z"
   },
   {
    "duration": 5,
    "start_time": "2022-08-23T03:33:42.731Z"
   },
   {
    "duration": 16,
    "start_time": "2022-08-23T03:33:42.738Z"
   },
   {
    "duration": 39,
    "start_time": "2022-08-23T03:33:42.755Z"
   },
   {
    "duration": 10,
    "start_time": "2022-08-23T03:33:42.795Z"
   },
   {
    "duration": 4,
    "start_time": "2022-08-23T03:45:32.556Z"
   },
   {
    "duration": 4,
    "start_time": "2022-08-23T03:45:48.332Z"
   },
   {
    "duration": 106,
    "start_time": "2022-08-23T03:53:00.299Z"
   },
   {
    "duration": 13,
    "start_time": "2022-08-23T03:53:03.642Z"
   },
   {
    "duration": 17,
    "start_time": "2022-08-23T03:53:55.191Z"
   },
   {
    "duration": 20,
    "start_time": "2022-08-23T03:54:22.639Z"
   },
   {
    "duration": 11,
    "start_time": "2022-08-23T03:54:42.912Z"
   },
   {
    "duration": 12,
    "start_time": "2022-08-23T03:54:53.243Z"
   },
   {
    "duration": 17,
    "start_time": "2022-08-23T03:54:56.942Z"
   },
   {
    "duration": 30,
    "start_time": "2022-08-23T03:55:06.209Z"
   },
   {
    "duration": 28,
    "start_time": "2022-08-23T03:55:26.570Z"
   },
   {
    "duration": 123,
    "start_time": "2022-08-23T03:55:38.974Z"
   },
   {
    "duration": 27,
    "start_time": "2022-08-23T03:55:42.599Z"
   },
   {
    "duration": 19,
    "start_time": "2022-08-23T03:55:50.678Z"
   },
   {
    "duration": 22,
    "start_time": "2022-08-23T03:56:24.965Z"
   },
   {
    "duration": 21,
    "start_time": "2022-08-23T03:56:38.355Z"
   },
   {
    "duration": 17,
    "start_time": "2022-08-23T03:56:47.595Z"
   },
   {
    "duration": 19,
    "start_time": "2022-08-23T03:56:54.176Z"
   },
   {
    "duration": 20,
    "start_time": "2022-08-23T03:57:01.293Z"
   },
   {
    "duration": 21,
    "start_time": "2022-08-23T03:57:29.226Z"
   },
   {
    "duration": 14,
    "start_time": "2022-08-23T03:57:46.953Z"
   },
   {
    "duration": 13,
    "start_time": "2022-08-23T03:57:54.130Z"
   },
   {
    "duration": 28,
    "start_time": "2022-08-23T03:58:34.545Z"
   },
   {
    "duration": 16,
    "start_time": "2022-08-23T03:59:02.474Z"
   },
   {
    "duration": 268,
    "start_time": "2022-08-23T04:00:08.095Z"
   },
   {
    "duration": 15,
    "start_time": "2022-08-23T04:01:59.176Z"
   },
   {
    "duration": 272,
    "start_time": "2022-08-23T04:02:10.722Z"
   },
   {
    "duration": 204,
    "start_time": "2022-08-23T04:02:48.436Z"
   },
   {
    "duration": 210,
    "start_time": "2022-08-23T04:03:42.203Z"
   },
   {
    "duration": 198,
    "start_time": "2022-08-23T04:04:11.414Z"
   },
   {
    "duration": 1317,
    "start_time": "2022-08-24T08:25:22.876Z"
   },
   {
    "duration": 224,
    "start_time": "2022-08-24T08:25:24.196Z"
   },
   {
    "duration": 14,
    "start_time": "2022-08-24T08:25:24.421Z"
   },
   {
    "duration": 12,
    "start_time": "2022-08-24T08:25:24.438Z"
   },
   {
    "duration": 9,
    "start_time": "2022-08-24T08:25:24.452Z"
   },
   {
    "duration": 19,
    "start_time": "2022-08-24T08:25:24.463Z"
   },
   {
    "duration": 13,
    "start_time": "2022-08-24T08:25:24.484Z"
   },
   {
    "duration": 12,
    "start_time": "2022-08-24T08:25:24.498Z"
   },
   {
    "duration": 27,
    "start_time": "2022-08-24T08:25:24.512Z"
   },
   {
    "duration": 5,
    "start_time": "2022-08-24T08:25:24.543Z"
   },
   {
    "duration": 14,
    "start_time": "2022-08-24T08:25:24.549Z"
   },
   {
    "duration": 27,
    "start_time": "2022-08-24T08:25:24.565Z"
   },
   {
    "duration": 12,
    "start_time": "2022-08-24T08:25:24.593Z"
   },
   {
    "duration": 8,
    "start_time": "2022-08-24T08:25:24.606Z"
   },
   {
    "duration": 13,
    "start_time": "2022-08-24T08:25:24.615Z"
   },
   {
    "duration": 163,
    "start_time": "2022-08-24T08:25:24.629Z"
   },
   {
    "duration": 8,
    "start_time": "2022-08-24T08:25:24.793Z"
   },
   {
    "duration": 13,
    "start_time": "2022-08-24T08:25:24.803Z"
   },
   {
    "duration": 2056,
    "start_time": "2022-08-24T08:25:24.817Z"
   },
   {
    "duration": 4,
    "start_time": "2022-08-24T08:25:26.874Z"
   },
   {
    "duration": 9,
    "start_time": "2022-08-24T08:25:26.880Z"
   },
   {
    "duration": 4,
    "start_time": "2022-08-24T08:25:26.890Z"
   },
   {
    "duration": 12,
    "start_time": "2022-08-24T08:25:26.895Z"
   },
   {
    "duration": 24,
    "start_time": "2022-08-24T08:25:26.908Z"
   },
   {
    "duration": 571,
    "start_time": "2022-08-24T08:25:26.934Z"
   },
   {
    "duration": 174,
    "start_time": "2022-08-24T08:25:27.506Z"
   },
   {
    "duration": 18,
    "start_time": "2022-08-24T08:25:27.684Z"
   },
   {
    "duration": 18,
    "start_time": "2022-08-24T08:25:27.705Z"
   },
   {
    "duration": 12,
    "start_time": "2022-08-24T08:25:27.724Z"
   },
   {
    "duration": 200,
    "start_time": "2022-08-24T08:25:27.738Z"
   },
   {
    "duration": 217,
    "start_time": "2022-08-24T08:25:27.940Z"
   },
   {
    "duration": 27,
    "start_time": "2022-08-24T08:25:28.159Z"
   },
   {
    "duration": 154,
    "start_time": "2022-08-24T08:25:28.187Z"
   },
   {
    "duration": 184,
    "start_time": "2022-08-24T08:25:28.343Z"
   },
   {
    "duration": 204,
    "start_time": "2022-08-24T08:25:28.528Z"
   },
   {
    "duration": 10,
    "start_time": "2022-08-24T08:25:28.734Z"
   },
   {
    "duration": 8,
    "start_time": "2022-08-24T08:25:28.746Z"
   },
   {
    "duration": 145,
    "start_time": "2022-08-24T08:25:28.756Z"
   },
   {
    "duration": 4,
    "start_time": "2022-08-24T08:25:28.903Z"
   },
   {
    "duration": 13,
    "start_time": "2022-08-24T08:25:28.909Z"
   },
   {
    "duration": 212,
    "start_time": "2022-08-24T08:25:28.923Z"
   },
   {
    "duration": 4,
    "start_time": "2022-08-24T08:25:29.136Z"
   },
   {
    "duration": 212,
    "start_time": "2022-08-24T08:25:29.141Z"
   },
   {
    "duration": 130,
    "start_time": "2022-08-24T08:25:29.355Z"
   },
   {
    "duration": 5,
    "start_time": "2022-08-24T08:25:29.487Z"
   },
   {
    "duration": 18,
    "start_time": "2022-08-24T08:25:29.493Z"
   },
   {
    "duration": 7,
    "start_time": "2022-08-24T08:25:29.513Z"
   },
   {
    "duration": 5,
    "start_time": "2022-08-24T08:25:29.521Z"
   },
   {
    "duration": 11,
    "start_time": "2022-08-24T08:25:29.527Z"
   },
   {
    "duration": 10,
    "start_time": "2022-08-24T08:25:29.539Z"
   },
   {
    "duration": 9,
    "start_time": "2022-08-24T08:25:29.550Z"
   },
   {
    "duration": 124,
    "start_time": "2022-08-24T08:25:29.561Z"
   },
   {
    "duration": 6,
    "start_time": "2022-08-24T08:25:29.686Z"
   },
   {
    "duration": 22,
    "start_time": "2022-08-24T08:25:29.694Z"
   },
   {
    "duration": 9,
    "start_time": "2022-08-24T08:25:29.718Z"
   }
  ],
  "kernelspec": {
   "display_name": "Python 3 (ipykernel)",
   "language": "python",
   "name": "python3"
  },
  "language_info": {
   "codemirror_mode": {
    "name": "ipython",
    "version": 3
   },
   "file_extension": ".py",
   "mimetype": "text/x-python",
   "name": "python",
   "nbconvert_exporter": "python",
   "pygments_lexer": "ipython3",
   "version": "3.9.13"
  },
  "latex_envs": {
   "LaTeX_envs_menu_present": true,
   "autoclose": false,
   "autocomplete": true,
   "bibliofile": "biblio.bib",
   "cite_by": "apalike",
   "current_citInitial": 1,
   "eqLabelWithNumbers": true,
   "eqNumInitial": 1,
   "hotkeys": {
    "equation": "Ctrl-E",
    "itemize": "Ctrl-I"
   },
   "labels_anchors": false,
   "latex_user_defs": false,
   "report_style_numbering": false,
   "user_envs_cfg": false
  },
  "toc": {
   "base_numbering": 1,
   "nav_menu": {},
   "number_sections": true,
   "sideBar": true,
   "skip_h1_title": true,
   "title_cell": "Table of Contents",
   "title_sidebar": "Contents",
   "toc_cell": false,
   "toc_position": {
    "height": "calc(100% - 180px)",
    "left": "10px",
    "top": "150px",
    "width": "240.188px"
   },
   "toc_section_display": true,
   "toc_window_display": true
  }
 },
 "nbformat": 4,
 "nbformat_minor": 2
}
