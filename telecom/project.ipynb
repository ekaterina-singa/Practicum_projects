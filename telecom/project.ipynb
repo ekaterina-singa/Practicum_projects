{
 "cells": [
  {
   "cell_type": "markdown",
   "metadata": {},
   "source": [
    "# Исследование тарифов телеком компании"
   ]
  },
  {
   "cell_type": "markdown",
   "metadata": {},
   "source": [
    "**Содержание** \n",
    "<a id=0> </a>\n",
    "\n",
    "[Введение](#1)  \n",
    "[Предобработка данных](#2)  \n",
    "[Исследование пользователей](#3)   \n",
    "[Анализ и визуализация](#4)  \n",
    "[Выдвижение гипотез](#5)  \n",
    "[Вывод](#6)"
   ]
  },
  {
   "cell_type": "markdown",
   "metadata": {},
   "source": [
    "## Введение \n",
    "<a id=1> </a>"
   ]
  },
  {
   "cell_type": "markdown",
   "metadata": {},
   "source": [
    "В нашем распоряжении данные компании «Мегалайн» — федерального оператора сотовой связи. Клиентам предлагают два тарифных плана: «Смарт» и «Ультра». Чтобы скорректировать рекламный бюджет, коммерческий департамент хочет понять, какой тариф приносит больше денег. И наша адача: проанализировать данные и предложить решение.  \n",
    "Мы будем проводить анализ тарифов на небольшой выборке клиентов. В нашем распоряжении данные 500 пользователей «Мегалайна»: кто они, откуда, каким тарифом пользуются, сколько звонков и сообщений каждый отправил за 2018 год. Нужно проанализировать поведение клиентов и сделать вывод — какой тариф приносит больше денег компании."
   ]
  },
  {
   "cell_type": "code",
   "execution_count": 1,
   "metadata": {},
   "outputs": [],
   "source": [
    "# имортируем необходимые библиотеки\n",
    "import pandas as pd \n",
    "import numpy as np \n",
    "\n",
    "import seaborn as sns \n",
    "import matplotlib.pyplot as plt \n",
    "\n",
    "from scipy import stats as st \n",
    "\n",
    "import math\n",
    "from datetime import datetime "
   ]
  },
  {
   "cell_type": "markdown",
   "metadata": {},
   "source": [
    "## Предварительная обработка данных\n",
    "<a id=2> </a>"
   ]
  },
  {
   "cell_type": "code",
   "execution_count": 2,
   "metadata": {
    "scrolled": true
   },
   "outputs": [
    {
     "data": {
      "text/html": [
       "<div>\n",
       "<style scoped>\n",
       "    .dataframe tbody tr th:only-of-type {\n",
       "        vertical-align: middle;\n",
       "    }\n",
       "\n",
       "    .dataframe tbody tr th {\n",
       "        vertical-align: top;\n",
       "    }\n",
       "\n",
       "    .dataframe thead th {\n",
       "        text-align: right;\n",
       "    }\n",
       "</style>\n",
       "<table border=\"1\" class=\"dataframe\">\n",
       "  <thead>\n",
       "    <tr style=\"text-align: right;\">\n",
       "      <th></th>\n",
       "      <th>id</th>\n",
       "      <th>call_date</th>\n",
       "      <th>duration</th>\n",
       "      <th>user_id</th>\n",
       "    </tr>\n",
       "  </thead>\n",
       "  <tbody>\n",
       "    <tr>\n",
       "      <th>0</th>\n",
       "      <td>1000_0</td>\n",
       "      <td>2018-07-25</td>\n",
       "      <td>0.00</td>\n",
       "      <td>1000</td>\n",
       "    </tr>\n",
       "    <tr>\n",
       "      <th>1</th>\n",
       "      <td>1000_1</td>\n",
       "      <td>2018-08-17</td>\n",
       "      <td>0.00</td>\n",
       "      <td>1000</td>\n",
       "    </tr>\n",
       "    <tr>\n",
       "      <th>2</th>\n",
       "      <td>1000_2</td>\n",
       "      <td>2018-06-11</td>\n",
       "      <td>2.85</td>\n",
       "      <td>1000</td>\n",
       "    </tr>\n",
       "    <tr>\n",
       "      <th>3</th>\n",
       "      <td>1000_3</td>\n",
       "      <td>2018-09-21</td>\n",
       "      <td>13.80</td>\n",
       "      <td>1000</td>\n",
       "    </tr>\n",
       "    <tr>\n",
       "      <th>4</th>\n",
       "      <td>1000_4</td>\n",
       "      <td>2018-12-15</td>\n",
       "      <td>5.18</td>\n",
       "      <td>1000</td>\n",
       "    </tr>\n",
       "    <tr>\n",
       "      <th>...</th>\n",
       "      <td>...</td>\n",
       "      <td>...</td>\n",
       "      <td>...</td>\n",
       "      <td>...</td>\n",
       "    </tr>\n",
       "    <tr>\n",
       "      <th>202602</th>\n",
       "      <td>1499_215</td>\n",
       "      <td>2018-12-26</td>\n",
       "      <td>0.76</td>\n",
       "      <td>1499</td>\n",
       "    </tr>\n",
       "    <tr>\n",
       "      <th>202603</th>\n",
       "      <td>1499_216</td>\n",
       "      <td>2018-10-18</td>\n",
       "      <td>18.83</td>\n",
       "      <td>1499</td>\n",
       "    </tr>\n",
       "    <tr>\n",
       "      <th>202604</th>\n",
       "      <td>1499_217</td>\n",
       "      <td>2018-11-10</td>\n",
       "      <td>10.81</td>\n",
       "      <td>1499</td>\n",
       "    </tr>\n",
       "    <tr>\n",
       "      <th>202605</th>\n",
       "      <td>1499_218</td>\n",
       "      <td>2018-10-06</td>\n",
       "      <td>4.27</td>\n",
       "      <td>1499</td>\n",
       "    </tr>\n",
       "    <tr>\n",
       "      <th>202606</th>\n",
       "      <td>1499_219</td>\n",
       "      <td>2018-12-14</td>\n",
       "      <td>19.62</td>\n",
       "      <td>1499</td>\n",
       "    </tr>\n",
       "  </tbody>\n",
       "</table>\n",
       "<p>202607 rows × 4 columns</p>\n",
       "</div>"
      ],
      "text/plain": [
       "              id   call_date  duration  user_id\n",
       "0         1000_0  2018-07-25      0.00     1000\n",
       "1         1000_1  2018-08-17      0.00     1000\n",
       "2         1000_2  2018-06-11      2.85     1000\n",
       "3         1000_3  2018-09-21     13.80     1000\n",
       "4         1000_4  2018-12-15      5.18     1000\n",
       "...          ...         ...       ...      ...\n",
       "202602  1499_215  2018-12-26      0.76     1499\n",
       "202603  1499_216  2018-10-18     18.83     1499\n",
       "202604  1499_217  2018-11-10     10.81     1499\n",
       "202605  1499_218  2018-10-06      4.27     1499\n",
       "202606  1499_219  2018-12-14     19.62     1499\n",
       "\n",
       "[202607 rows x 4 columns]"
      ]
     },
     "metadata": {},
     "output_type": "display_data"
    },
    {
     "name": "stdout",
     "output_type": "stream",
     "text": [
      "<class 'pandas.core.frame.DataFrame'>\n",
      "RangeIndex: 202607 entries, 0 to 202606\n",
      "Data columns (total 4 columns):\n",
      " #   Column     Non-Null Count   Dtype  \n",
      "---  ------     --------------   -----  \n",
      " 0   id         202607 non-null  object \n",
      " 1   call_date  202607 non-null  object \n",
      " 2   duration   202607 non-null  float64\n",
      " 3   user_id    202607 non-null  int64  \n",
      "dtypes: float64(1), int64(1), object(2)\n",
      "memory usage: 6.2+ MB\n"
     ]
    }
   ],
   "source": [
    "# прочтем данные\n",
    "try:\n",
    "    calls = pd.read_csv('/datasets/calls.csv') \n",
    "    internet = pd.read_csv('/datasets/internet.csv', index_col=[0]) \n",
    "    messages = pd.read_csv('/datasets/messages.csv') \n",
    "    tariffs = pd.read_csv('/datasets/tariffs.csv')\n",
    "    users = pd.read_csv('/datasets/users.csv') \n",
    "except FileNotFoundError:\n",
    "    calls = pd.read_csv('/Users/09e6y/Desktop/Катькис/Практикум/Проект 4 telecom tariffs/calls.csv') \n",
    "    internet = pd.read_csv('/Users/09e6y/Desktop/Катькис/Практикум/Проект 4 telecom tariffs/internet.csv', index_col=[0]) \n",
    "    messages = pd.read_csv('/Users/09e6y/Desktop/Катькис/Практикум/Проект 4 telecom tariffs/messages.csv') \n",
    "    tariffs = pd.read_csv('/Users/09e6y/Desktop/Катькис/Практикум/Проект 4 telecom tariffs/tariffs.csv')\n",
    "    users = pd.read_csv('/Users/09e6y/Desktop/Катькис/Практикум/Проект 4 telecom tariffs/users.csv')\n",
    "    \n",
    "display(calls)\n",
    "calls.info() # изучим информацию о данных"
   ]
  },
  {
   "cell_type": "markdown",
   "metadata": {},
   "source": [
    "Видим, что в данных нет пропусков. В колонке 'duration' есть значение 0.00 - это не ошибка: нулями обозначены пропущенные звонки, поэтому их не нужно удалять.\n",
    "Данные о дате и времени переведем в формат datetime для удобства работы."
   ]
  },
  {
   "cell_type": "code",
   "execution_count": 3,
   "metadata": {},
   "outputs": [
    {
     "data": {
      "text/plain": [
       "dtype('<M8[ns]')"
      ]
     },
     "execution_count": 3,
     "metadata": {},
     "output_type": "execute_result"
    }
   ],
   "source": [
    "calls['call_date'] = pd.to_datetime(calls['call_date'], format='%Y-%m-%d') # изменим формат даты-времени\n",
    "calls['call_date'].dtype # проверим, что получилось"
   ]
  },
  {
   "cell_type": "markdown",
   "metadata": {},
   "source": [
    "Длительность разговора записана с точностью до секунд, но, согласно условиям тарифов компании, секунды округляются до минут. Каждый звонок округляется отдельно: даже если он длился всего 1 секунду, будет засчитан как 1 минута. Поэтому округлим минуты разговора до целого в бОльшую сторону."
   ]
  },
  {
   "cell_type": "code",
   "execution_count": 4,
   "metadata": {},
   "outputs": [
    {
     "data": {
      "text/html": [
       "<div>\n",
       "<style scoped>\n",
       "    .dataframe tbody tr th:only-of-type {\n",
       "        vertical-align: middle;\n",
       "    }\n",
       "\n",
       "    .dataframe tbody tr th {\n",
       "        vertical-align: top;\n",
       "    }\n",
       "\n",
       "    .dataframe thead th {\n",
       "        text-align: right;\n",
       "    }\n",
       "</style>\n",
       "<table border=\"1\" class=\"dataframe\">\n",
       "  <thead>\n",
       "    <tr style=\"text-align: right;\">\n",
       "      <th></th>\n",
       "      <th>id</th>\n",
       "      <th>call_date</th>\n",
       "      <th>duration</th>\n",
       "      <th>user_id</th>\n",
       "    </tr>\n",
       "  </thead>\n",
       "  <tbody>\n",
       "    <tr>\n",
       "      <th>0</th>\n",
       "      <td>1000_0</td>\n",
       "      <td>2018-07-25</td>\n",
       "      <td>0</td>\n",
       "      <td>1000</td>\n",
       "    </tr>\n",
       "    <tr>\n",
       "      <th>1</th>\n",
       "      <td>1000_1</td>\n",
       "      <td>2018-08-17</td>\n",
       "      <td>0</td>\n",
       "      <td>1000</td>\n",
       "    </tr>\n",
       "    <tr>\n",
       "      <th>2</th>\n",
       "      <td>1000_2</td>\n",
       "      <td>2018-06-11</td>\n",
       "      <td>3</td>\n",
       "      <td>1000</td>\n",
       "    </tr>\n",
       "    <tr>\n",
       "      <th>3</th>\n",
       "      <td>1000_3</td>\n",
       "      <td>2018-09-21</td>\n",
       "      <td>14</td>\n",
       "      <td>1000</td>\n",
       "    </tr>\n",
       "    <tr>\n",
       "      <th>4</th>\n",
       "      <td>1000_4</td>\n",
       "      <td>2018-12-15</td>\n",
       "      <td>6</td>\n",
       "      <td>1000</td>\n",
       "    </tr>\n",
       "    <tr>\n",
       "      <th>...</th>\n",
       "      <td>...</td>\n",
       "      <td>...</td>\n",
       "      <td>...</td>\n",
       "      <td>...</td>\n",
       "    </tr>\n",
       "    <tr>\n",
       "      <th>202602</th>\n",
       "      <td>1499_215</td>\n",
       "      <td>2018-12-26</td>\n",
       "      <td>1</td>\n",
       "      <td>1499</td>\n",
       "    </tr>\n",
       "    <tr>\n",
       "      <th>202603</th>\n",
       "      <td>1499_216</td>\n",
       "      <td>2018-10-18</td>\n",
       "      <td>19</td>\n",
       "      <td>1499</td>\n",
       "    </tr>\n",
       "    <tr>\n",
       "      <th>202604</th>\n",
       "      <td>1499_217</td>\n",
       "      <td>2018-11-10</td>\n",
       "      <td>11</td>\n",
       "      <td>1499</td>\n",
       "    </tr>\n",
       "    <tr>\n",
       "      <th>202605</th>\n",
       "      <td>1499_218</td>\n",
       "      <td>2018-10-06</td>\n",
       "      <td>5</td>\n",
       "      <td>1499</td>\n",
       "    </tr>\n",
       "    <tr>\n",
       "      <th>202606</th>\n",
       "      <td>1499_219</td>\n",
       "      <td>2018-12-14</td>\n",
       "      <td>20</td>\n",
       "      <td>1499</td>\n",
       "    </tr>\n",
       "  </tbody>\n",
       "</table>\n",
       "<p>202607 rows × 4 columns</p>\n",
       "</div>"
      ],
      "text/plain": [
       "              id  call_date  duration  user_id\n",
       "0         1000_0 2018-07-25         0     1000\n",
       "1         1000_1 2018-08-17         0     1000\n",
       "2         1000_2 2018-06-11         3     1000\n",
       "3         1000_3 2018-09-21        14     1000\n",
       "4         1000_4 2018-12-15         6     1000\n",
       "...          ...        ...       ...      ...\n",
       "202602  1499_215 2018-12-26         1     1499\n",
       "202603  1499_216 2018-10-18        19     1499\n",
       "202604  1499_217 2018-11-10        11     1499\n",
       "202605  1499_218 2018-10-06         5     1499\n",
       "202606  1499_219 2018-12-14        20     1499\n",
       "\n",
       "[202607 rows x 4 columns]"
      ]
     },
     "execution_count": 4,
     "metadata": {},
     "output_type": "execute_result"
    }
   ],
   "source": [
    "calls['duration'] = calls['duration'].apply(math.ceil) # округлим до минут в бОльшую сторону, используя list comprehension\n",
    " \n",
    "calls # выведем результат на экран"
   ]
  },
  {
   "cell_type": "code",
   "execution_count": 5,
   "metadata": {
    "scrolled": true
   },
   "outputs": [
    {
     "data": {
      "text/html": [
       "<div>\n",
       "<style scoped>\n",
       "    .dataframe tbody tr th:only-of-type {\n",
       "        vertical-align: middle;\n",
       "    }\n",
       "\n",
       "    .dataframe tbody tr th {\n",
       "        vertical-align: top;\n",
       "    }\n",
       "\n",
       "    .dataframe thead th {\n",
       "        text-align: right;\n",
       "    }\n",
       "</style>\n",
       "<table border=\"1\" class=\"dataframe\">\n",
       "  <thead>\n",
       "    <tr style=\"text-align: right;\">\n",
       "      <th></th>\n",
       "      <th>id</th>\n",
       "      <th>mb_used</th>\n",
       "      <th>session_date</th>\n",
       "      <th>user_id</th>\n",
       "    </tr>\n",
       "  </thead>\n",
       "  <tbody>\n",
       "    <tr>\n",
       "      <th>0</th>\n",
       "      <td>1000_0</td>\n",
       "      <td>112.95</td>\n",
       "      <td>2018-11-25</td>\n",
       "      <td>1000</td>\n",
       "    </tr>\n",
       "    <tr>\n",
       "      <th>1</th>\n",
       "      <td>1000_1</td>\n",
       "      <td>1052.81</td>\n",
       "      <td>2018-09-07</td>\n",
       "      <td>1000</td>\n",
       "    </tr>\n",
       "    <tr>\n",
       "      <th>2</th>\n",
       "      <td>1000_2</td>\n",
       "      <td>1197.26</td>\n",
       "      <td>2018-06-25</td>\n",
       "      <td>1000</td>\n",
       "    </tr>\n",
       "    <tr>\n",
       "      <th>3</th>\n",
       "      <td>1000_3</td>\n",
       "      <td>550.27</td>\n",
       "      <td>2018-08-22</td>\n",
       "      <td>1000</td>\n",
       "    </tr>\n",
       "    <tr>\n",
       "      <th>4</th>\n",
       "      <td>1000_4</td>\n",
       "      <td>302.56</td>\n",
       "      <td>2018-09-24</td>\n",
       "      <td>1000</td>\n",
       "    </tr>\n",
       "    <tr>\n",
       "      <th>...</th>\n",
       "      <td>...</td>\n",
       "      <td>...</td>\n",
       "      <td>...</td>\n",
       "      <td>...</td>\n",
       "    </tr>\n",
       "    <tr>\n",
       "      <th>149391</th>\n",
       "      <td>1499_152</td>\n",
       "      <td>318.90</td>\n",
       "      <td>2018-10-03</td>\n",
       "      <td>1499</td>\n",
       "    </tr>\n",
       "    <tr>\n",
       "      <th>149392</th>\n",
       "      <td>1499_153</td>\n",
       "      <td>490.13</td>\n",
       "      <td>2018-12-14</td>\n",
       "      <td>1499</td>\n",
       "    </tr>\n",
       "    <tr>\n",
       "      <th>149393</th>\n",
       "      <td>1499_154</td>\n",
       "      <td>0.00</td>\n",
       "      <td>2018-10-27</td>\n",
       "      <td>1499</td>\n",
       "    </tr>\n",
       "    <tr>\n",
       "      <th>149394</th>\n",
       "      <td>1499_155</td>\n",
       "      <td>1246.32</td>\n",
       "      <td>2018-11-26</td>\n",
       "      <td>1499</td>\n",
       "    </tr>\n",
       "    <tr>\n",
       "      <th>149395</th>\n",
       "      <td>1499_156</td>\n",
       "      <td>544.37</td>\n",
       "      <td>2018-10-26</td>\n",
       "      <td>1499</td>\n",
       "    </tr>\n",
       "  </tbody>\n",
       "</table>\n",
       "<p>149396 rows × 4 columns</p>\n",
       "</div>"
      ],
      "text/plain": [
       "              id  mb_used session_date  user_id\n",
       "0         1000_0   112.95   2018-11-25     1000\n",
       "1         1000_1  1052.81   2018-09-07     1000\n",
       "2         1000_2  1197.26   2018-06-25     1000\n",
       "3         1000_3   550.27   2018-08-22     1000\n",
       "4         1000_4   302.56   2018-09-24     1000\n",
       "...          ...      ...          ...      ...\n",
       "149391  1499_152   318.90   2018-10-03     1499\n",
       "149392  1499_153   490.13   2018-12-14     1499\n",
       "149393  1499_154     0.00   2018-10-27     1499\n",
       "149394  1499_155  1246.32   2018-11-26     1499\n",
       "149395  1499_156   544.37   2018-10-26     1499\n",
       "\n",
       "[149396 rows x 4 columns]"
      ]
     },
     "metadata": {},
     "output_type": "display_data"
    },
    {
     "name": "stdout",
     "output_type": "stream",
     "text": [
      "<class 'pandas.core.frame.DataFrame'>\n",
      "Int64Index: 149396 entries, 0 to 149395\n",
      "Data columns (total 4 columns):\n",
      " #   Column        Non-Null Count   Dtype  \n",
      "---  ------        --------------   -----  \n",
      " 0   id            149396 non-null  object \n",
      " 1   mb_used       149396 non-null  float64\n",
      " 2   session_date  149396 non-null  object \n",
      " 3   user_id       149396 non-null  int64  \n",
      "dtypes: float64(1), int64(1), object(2)\n",
      "memory usage: 5.7+ MB\n"
     ]
    }
   ],
   "source": [
    "display(internet)\n",
    "internet.info()"
   ]
  },
  {
   "cell_type": "markdown",
   "metadata": {},
   "source": [
    "Дату так же как и в прошлой таблице поменяем на удобный формат. "
   ]
  },
  {
   "cell_type": "code",
   "execution_count": 6,
   "metadata": {},
   "outputs": [
    {
     "data": {
      "text/html": [
       "<div>\n",
       "<style scoped>\n",
       "    .dataframe tbody tr th:only-of-type {\n",
       "        vertical-align: middle;\n",
       "    }\n",
       "\n",
       "    .dataframe tbody tr th {\n",
       "        vertical-align: top;\n",
       "    }\n",
       "\n",
       "    .dataframe thead th {\n",
       "        text-align: right;\n",
       "    }\n",
       "</style>\n",
       "<table border=\"1\" class=\"dataframe\">\n",
       "  <thead>\n",
       "    <tr style=\"text-align: right;\">\n",
       "      <th></th>\n",
       "      <th>id</th>\n",
       "      <th>mb_used</th>\n",
       "      <th>session_date</th>\n",
       "      <th>user_id</th>\n",
       "    </tr>\n",
       "  </thead>\n",
       "  <tbody>\n",
       "    <tr>\n",
       "      <th>0</th>\n",
       "      <td>1000_0</td>\n",
       "      <td>112.95</td>\n",
       "      <td>2018-11-25</td>\n",
       "      <td>1000</td>\n",
       "    </tr>\n",
       "    <tr>\n",
       "      <th>1</th>\n",
       "      <td>1000_1</td>\n",
       "      <td>1052.81</td>\n",
       "      <td>2018-09-07</td>\n",
       "      <td>1000</td>\n",
       "    </tr>\n",
       "    <tr>\n",
       "      <th>2</th>\n",
       "      <td>1000_2</td>\n",
       "      <td>1197.26</td>\n",
       "      <td>2018-06-25</td>\n",
       "      <td>1000</td>\n",
       "    </tr>\n",
       "    <tr>\n",
       "      <th>3</th>\n",
       "      <td>1000_3</td>\n",
       "      <td>550.27</td>\n",
       "      <td>2018-08-22</td>\n",
       "      <td>1000</td>\n",
       "    </tr>\n",
       "    <tr>\n",
       "      <th>4</th>\n",
       "      <td>1000_4</td>\n",
       "      <td>302.56</td>\n",
       "      <td>2018-09-24</td>\n",
       "      <td>1000</td>\n",
       "    </tr>\n",
       "    <tr>\n",
       "      <th>...</th>\n",
       "      <td>...</td>\n",
       "      <td>...</td>\n",
       "      <td>...</td>\n",
       "      <td>...</td>\n",
       "    </tr>\n",
       "    <tr>\n",
       "      <th>149391</th>\n",
       "      <td>1499_152</td>\n",
       "      <td>318.90</td>\n",
       "      <td>2018-10-03</td>\n",
       "      <td>1499</td>\n",
       "    </tr>\n",
       "    <tr>\n",
       "      <th>149392</th>\n",
       "      <td>1499_153</td>\n",
       "      <td>490.13</td>\n",
       "      <td>2018-12-14</td>\n",
       "      <td>1499</td>\n",
       "    </tr>\n",
       "    <tr>\n",
       "      <th>149393</th>\n",
       "      <td>1499_154</td>\n",
       "      <td>0.00</td>\n",
       "      <td>2018-10-27</td>\n",
       "      <td>1499</td>\n",
       "    </tr>\n",
       "    <tr>\n",
       "      <th>149394</th>\n",
       "      <td>1499_155</td>\n",
       "      <td>1246.32</td>\n",
       "      <td>2018-11-26</td>\n",
       "      <td>1499</td>\n",
       "    </tr>\n",
       "    <tr>\n",
       "      <th>149395</th>\n",
       "      <td>1499_156</td>\n",
       "      <td>544.37</td>\n",
       "      <td>2018-10-26</td>\n",
       "      <td>1499</td>\n",
       "    </tr>\n",
       "  </tbody>\n",
       "</table>\n",
       "<p>149396 rows × 4 columns</p>\n",
       "</div>"
      ],
      "text/plain": [
       "              id  mb_used session_date  user_id\n",
       "0         1000_0   112.95   2018-11-25     1000\n",
       "1         1000_1  1052.81   2018-09-07     1000\n",
       "2         1000_2  1197.26   2018-06-25     1000\n",
       "3         1000_3   550.27   2018-08-22     1000\n",
       "4         1000_4   302.56   2018-09-24     1000\n",
       "...          ...      ...          ...      ...\n",
       "149391  1499_152   318.90   2018-10-03     1499\n",
       "149392  1499_153   490.13   2018-12-14     1499\n",
       "149393  1499_154     0.00   2018-10-27     1499\n",
       "149394  1499_155  1246.32   2018-11-26     1499\n",
       "149395  1499_156   544.37   2018-10-26     1499\n",
       "\n",
       "[149396 rows x 4 columns]"
      ]
     },
     "execution_count": 6,
     "metadata": {},
     "output_type": "execute_result"
    }
   ],
   "source": [
    "internet['session_date'] = pd.to_datetime(internet['session_date'], format='%Y-%m-%d')\n",
    "# изменим формат даты-времени\n",
    "\n",
    "internet "
   ]
  },
  {
   "cell_type": "markdown",
   "metadata": {},
   "source": [
    "Все хорошо."
   ]
  },
  {
   "cell_type": "code",
   "execution_count": 7,
   "metadata": {
    "scrolled": true
   },
   "outputs": [
    {
     "data": {
      "text/html": [
       "<div>\n",
       "<style scoped>\n",
       "    .dataframe tbody tr th:only-of-type {\n",
       "        vertical-align: middle;\n",
       "    }\n",
       "\n",
       "    .dataframe tbody tr th {\n",
       "        vertical-align: top;\n",
       "    }\n",
       "\n",
       "    .dataframe thead th {\n",
       "        text-align: right;\n",
       "    }\n",
       "</style>\n",
       "<table border=\"1\" class=\"dataframe\">\n",
       "  <thead>\n",
       "    <tr style=\"text-align: right;\">\n",
       "      <th></th>\n",
       "      <th>id</th>\n",
       "      <th>message_date</th>\n",
       "      <th>user_id</th>\n",
       "    </tr>\n",
       "  </thead>\n",
       "  <tbody>\n",
       "    <tr>\n",
       "      <th>0</th>\n",
       "      <td>1000_0</td>\n",
       "      <td>2018-06-27</td>\n",
       "      <td>1000</td>\n",
       "    </tr>\n",
       "    <tr>\n",
       "      <th>1</th>\n",
       "      <td>1000_1</td>\n",
       "      <td>2018-10-08</td>\n",
       "      <td>1000</td>\n",
       "    </tr>\n",
       "    <tr>\n",
       "      <th>2</th>\n",
       "      <td>1000_2</td>\n",
       "      <td>2018-08-04</td>\n",
       "      <td>1000</td>\n",
       "    </tr>\n",
       "    <tr>\n",
       "      <th>3</th>\n",
       "      <td>1000_3</td>\n",
       "      <td>2018-06-16</td>\n",
       "      <td>1000</td>\n",
       "    </tr>\n",
       "    <tr>\n",
       "      <th>4</th>\n",
       "      <td>1000_4</td>\n",
       "      <td>2018-12-05</td>\n",
       "      <td>1000</td>\n",
       "    </tr>\n",
       "    <tr>\n",
       "      <th>...</th>\n",
       "      <td>...</td>\n",
       "      <td>...</td>\n",
       "      <td>...</td>\n",
       "    </tr>\n",
       "    <tr>\n",
       "      <th>123031</th>\n",
       "      <td>1499_179</td>\n",
       "      <td>2018-12-12</td>\n",
       "      <td>1499</td>\n",
       "    </tr>\n",
       "    <tr>\n",
       "      <th>123032</th>\n",
       "      <td>1499_180</td>\n",
       "      <td>2018-09-28</td>\n",
       "      <td>1499</td>\n",
       "    </tr>\n",
       "    <tr>\n",
       "      <th>123033</th>\n",
       "      <td>1499_181</td>\n",
       "      <td>2018-09-27</td>\n",
       "      <td>1499</td>\n",
       "    </tr>\n",
       "    <tr>\n",
       "      <th>123034</th>\n",
       "      <td>1499_182</td>\n",
       "      <td>2018-11-15</td>\n",
       "      <td>1499</td>\n",
       "    </tr>\n",
       "    <tr>\n",
       "      <th>123035</th>\n",
       "      <td>1499_183</td>\n",
       "      <td>2018-11-16</td>\n",
       "      <td>1499</td>\n",
       "    </tr>\n",
       "  </tbody>\n",
       "</table>\n",
       "<p>123036 rows × 3 columns</p>\n",
       "</div>"
      ],
      "text/plain": [
       "              id message_date  user_id\n",
       "0         1000_0   2018-06-27     1000\n",
       "1         1000_1   2018-10-08     1000\n",
       "2         1000_2   2018-08-04     1000\n",
       "3         1000_3   2018-06-16     1000\n",
       "4         1000_4   2018-12-05     1000\n",
       "...          ...          ...      ...\n",
       "123031  1499_179   2018-12-12     1499\n",
       "123032  1499_180   2018-09-28     1499\n",
       "123033  1499_181   2018-09-27     1499\n",
       "123034  1499_182   2018-11-15     1499\n",
       "123035  1499_183   2018-11-16     1499\n",
       "\n",
       "[123036 rows x 3 columns]"
      ]
     },
     "metadata": {},
     "output_type": "display_data"
    },
    {
     "name": "stdout",
     "output_type": "stream",
     "text": [
      "<class 'pandas.core.frame.DataFrame'>\n",
      "RangeIndex: 123036 entries, 0 to 123035\n",
      "Data columns (total 3 columns):\n",
      " #   Column        Non-Null Count   Dtype \n",
      "---  ------        --------------   ----- \n",
      " 0   id            123036 non-null  object\n",
      " 1   message_date  123036 non-null  object\n",
      " 2   user_id       123036 non-null  int64 \n",
      "dtypes: int64(1), object(2)\n",
      "memory usage: 2.8+ MB\n"
     ]
    }
   ],
   "source": [
    "display(messages)\n",
    "messages.info()"
   ]
  },
  {
   "cell_type": "markdown",
   "metadata": {},
   "source": [
    "Та же история с датой."
   ]
  },
  {
   "cell_type": "code",
   "execution_count": 8,
   "metadata": {},
   "outputs": [
    {
     "data": {
      "text/plain": [
       "dtype('<M8[ns]')"
      ]
     },
     "execution_count": 8,
     "metadata": {},
     "output_type": "execute_result"
    }
   ],
   "source": [
    "messages['message_date'] = pd.to_datetime(messages['message_date'], format='%Y-%m-%d') # изменим формат даты-времени\n",
    "messages['message_date'].dtype # проверим, что получилось"
   ]
  },
  {
   "cell_type": "code",
   "execution_count": 9,
   "metadata": {
    "scrolled": true
   },
   "outputs": [
    {
     "data": {
      "text/html": [
       "<div>\n",
       "<style scoped>\n",
       "    .dataframe tbody tr th:only-of-type {\n",
       "        vertical-align: middle;\n",
       "    }\n",
       "\n",
       "    .dataframe tbody tr th {\n",
       "        vertical-align: top;\n",
       "    }\n",
       "\n",
       "    .dataframe thead th {\n",
       "        text-align: right;\n",
       "    }\n",
       "</style>\n",
       "<table border=\"1\" class=\"dataframe\">\n",
       "  <thead>\n",
       "    <tr style=\"text-align: right;\">\n",
       "      <th></th>\n",
       "      <th>messages_included</th>\n",
       "      <th>mb_per_month_included</th>\n",
       "      <th>minutes_included</th>\n",
       "      <th>rub_monthly_fee</th>\n",
       "      <th>rub_per_gb</th>\n",
       "      <th>rub_per_message</th>\n",
       "      <th>rub_per_minute</th>\n",
       "      <th>tariff_name</th>\n",
       "    </tr>\n",
       "  </thead>\n",
       "  <tbody>\n",
       "    <tr>\n",
       "      <th>0</th>\n",
       "      <td>50</td>\n",
       "      <td>15360</td>\n",
       "      <td>500</td>\n",
       "      <td>550</td>\n",
       "      <td>200</td>\n",
       "      <td>3</td>\n",
       "      <td>3</td>\n",
       "      <td>smart</td>\n",
       "    </tr>\n",
       "    <tr>\n",
       "      <th>1</th>\n",
       "      <td>1000</td>\n",
       "      <td>30720</td>\n",
       "      <td>3000</td>\n",
       "      <td>1950</td>\n",
       "      <td>150</td>\n",
       "      <td>1</td>\n",
       "      <td>1</td>\n",
       "      <td>ultra</td>\n",
       "    </tr>\n",
       "  </tbody>\n",
       "</table>\n",
       "</div>"
      ],
      "text/plain": [
       "   messages_included  mb_per_month_included  minutes_included  \\\n",
       "0                 50                  15360               500   \n",
       "1               1000                  30720              3000   \n",
       "\n",
       "   rub_monthly_fee  rub_per_gb  rub_per_message  rub_per_minute tariff_name  \n",
       "0              550         200                3               3       smart  \n",
       "1             1950         150                1               1       ultra  "
      ]
     },
     "metadata": {},
     "output_type": "display_data"
    },
    {
     "data": {
      "text/html": [
       "<div>\n",
       "<style scoped>\n",
       "    .dataframe tbody tr th:only-of-type {\n",
       "        vertical-align: middle;\n",
       "    }\n",
       "\n",
       "    .dataframe tbody tr th {\n",
       "        vertical-align: top;\n",
       "    }\n",
       "\n",
       "    .dataframe thead th {\n",
       "        text-align: right;\n",
       "    }\n",
       "</style>\n",
       "<table border=\"1\" class=\"dataframe\">\n",
       "  <thead>\n",
       "    <tr style=\"text-align: right;\">\n",
       "      <th></th>\n",
       "      <th>messages_included</th>\n",
       "      <th>gb_per_month_included</th>\n",
       "      <th>minutes_included</th>\n",
       "      <th>rub_monthly_fee</th>\n",
       "      <th>rub_per_gb</th>\n",
       "      <th>rub_per_message</th>\n",
       "      <th>rub_per_minute</th>\n",
       "      <th>tariff</th>\n",
       "    </tr>\n",
       "  </thead>\n",
       "  <tbody>\n",
       "    <tr>\n",
       "      <th>0</th>\n",
       "      <td>50</td>\n",
       "      <td>15.0</td>\n",
       "      <td>500</td>\n",
       "      <td>550</td>\n",
       "      <td>200</td>\n",
       "      <td>3</td>\n",
       "      <td>3</td>\n",
       "      <td>smart</td>\n",
       "    </tr>\n",
       "    <tr>\n",
       "      <th>1</th>\n",
       "      <td>1000</td>\n",
       "      <td>30.0</td>\n",
       "      <td>3000</td>\n",
       "      <td>1950</td>\n",
       "      <td>150</td>\n",
       "      <td>1</td>\n",
       "      <td>1</td>\n",
       "      <td>ultra</td>\n",
       "    </tr>\n",
       "  </tbody>\n",
       "</table>\n",
       "</div>"
      ],
      "text/plain": [
       "   messages_included  gb_per_month_included  minutes_included  \\\n",
       "0                 50                   15.0               500   \n",
       "1               1000                   30.0              3000   \n",
       "\n",
       "   rub_monthly_fee  rub_per_gb  rub_per_message  rub_per_minute tariff  \n",
       "0              550         200                3               3  smart  \n",
       "1             1950         150                1               1  ultra  "
      ]
     },
     "execution_count": 9,
     "metadata": {},
     "output_type": "execute_result"
    }
   ],
   "source": [
    "display(tariffs) # данные до обработки\n",
    "tariffs['mb_per_month_included'] = tariffs['mb_per_month_included']/1024\n",
    "tariffs.rename(columns={'tariff_name': 'tariff', 'mb_per_month_included': 'gb_per_month_included'}, inplace = True) # переименуем колонку с названием тарифа\n",
    "\n",
    "tariffs # данные после обработки"
   ]
  },
  {
   "cell_type": "code",
   "execution_count": 10,
   "metadata": {
    "scrolled": false
   },
   "outputs": [
    {
     "data": {
      "text/html": [
       "<div>\n",
       "<style scoped>\n",
       "    .dataframe tbody tr th:only-of-type {\n",
       "        vertical-align: middle;\n",
       "    }\n",
       "\n",
       "    .dataframe tbody tr th {\n",
       "        vertical-align: top;\n",
       "    }\n",
       "\n",
       "    .dataframe thead th {\n",
       "        text-align: right;\n",
       "    }\n",
       "</style>\n",
       "<table border=\"1\" class=\"dataframe\">\n",
       "  <thead>\n",
       "    <tr style=\"text-align: right;\">\n",
       "      <th></th>\n",
       "      <th>user_id</th>\n",
       "      <th>age</th>\n",
       "      <th>churn_date</th>\n",
       "      <th>city</th>\n",
       "      <th>first_name</th>\n",
       "      <th>last_name</th>\n",
       "      <th>reg_date</th>\n",
       "      <th>tariff</th>\n",
       "    </tr>\n",
       "  </thead>\n",
       "  <tbody>\n",
       "    <tr>\n",
       "      <th>0</th>\n",
       "      <td>1000</td>\n",
       "      <td>52</td>\n",
       "      <td>NaN</td>\n",
       "      <td>Краснодар</td>\n",
       "      <td>Рафаил</td>\n",
       "      <td>Верещагин</td>\n",
       "      <td>2018-05-25</td>\n",
       "      <td>ultra</td>\n",
       "    </tr>\n",
       "    <tr>\n",
       "      <th>1</th>\n",
       "      <td>1001</td>\n",
       "      <td>41</td>\n",
       "      <td>NaN</td>\n",
       "      <td>Москва</td>\n",
       "      <td>Иван</td>\n",
       "      <td>Ежов</td>\n",
       "      <td>2018-11-01</td>\n",
       "      <td>smart</td>\n",
       "    </tr>\n",
       "    <tr>\n",
       "      <th>2</th>\n",
       "      <td>1002</td>\n",
       "      <td>59</td>\n",
       "      <td>NaN</td>\n",
       "      <td>Стерлитамак</td>\n",
       "      <td>Евгений</td>\n",
       "      <td>Абрамович</td>\n",
       "      <td>2018-06-17</td>\n",
       "      <td>smart</td>\n",
       "    </tr>\n",
       "    <tr>\n",
       "      <th>3</th>\n",
       "      <td>1003</td>\n",
       "      <td>23</td>\n",
       "      <td>NaN</td>\n",
       "      <td>Москва</td>\n",
       "      <td>Белла</td>\n",
       "      <td>Белякова</td>\n",
       "      <td>2018-08-17</td>\n",
       "      <td>ultra</td>\n",
       "    </tr>\n",
       "    <tr>\n",
       "      <th>4</th>\n",
       "      <td>1004</td>\n",
       "      <td>68</td>\n",
       "      <td>NaN</td>\n",
       "      <td>Новокузнецк</td>\n",
       "      <td>Татьяна</td>\n",
       "      <td>Авдеенко</td>\n",
       "      <td>2018-05-14</td>\n",
       "      <td>ultra</td>\n",
       "    </tr>\n",
       "    <tr>\n",
       "      <th>...</th>\n",
       "      <td>...</td>\n",
       "      <td>...</td>\n",
       "      <td>...</td>\n",
       "      <td>...</td>\n",
       "      <td>...</td>\n",
       "      <td>...</td>\n",
       "      <td>...</td>\n",
       "      <td>...</td>\n",
       "    </tr>\n",
       "    <tr>\n",
       "      <th>495</th>\n",
       "      <td>1495</td>\n",
       "      <td>65</td>\n",
       "      <td>NaN</td>\n",
       "      <td>Иркутск</td>\n",
       "      <td>Авксентий</td>\n",
       "      <td>Фокин</td>\n",
       "      <td>2018-08-28</td>\n",
       "      <td>ultra</td>\n",
       "    </tr>\n",
       "    <tr>\n",
       "      <th>496</th>\n",
       "      <td>1496</td>\n",
       "      <td>36</td>\n",
       "      <td>NaN</td>\n",
       "      <td>Вологда</td>\n",
       "      <td>Трифон</td>\n",
       "      <td>Блохин</td>\n",
       "      <td>2018-01-27</td>\n",
       "      <td>smart</td>\n",
       "    </tr>\n",
       "    <tr>\n",
       "      <th>497</th>\n",
       "      <td>1497</td>\n",
       "      <td>32</td>\n",
       "      <td>NaN</td>\n",
       "      <td>Челябинск</td>\n",
       "      <td>Каролина</td>\n",
       "      <td>Агеева</td>\n",
       "      <td>2018-10-09</td>\n",
       "      <td>smart</td>\n",
       "    </tr>\n",
       "    <tr>\n",
       "      <th>498</th>\n",
       "      <td>1498</td>\n",
       "      <td>68</td>\n",
       "      <td>2018-10-25</td>\n",
       "      <td>Владикавказ</td>\n",
       "      <td>Всеволод</td>\n",
       "      <td>Акимчин</td>\n",
       "      <td>2018-07-19</td>\n",
       "      <td>smart</td>\n",
       "    </tr>\n",
       "    <tr>\n",
       "      <th>499</th>\n",
       "      <td>1499</td>\n",
       "      <td>35</td>\n",
       "      <td>NaN</td>\n",
       "      <td>Пермь</td>\n",
       "      <td>Гектор</td>\n",
       "      <td>Корнилов</td>\n",
       "      <td>2018-09-27</td>\n",
       "      <td>smart</td>\n",
       "    </tr>\n",
       "  </tbody>\n",
       "</table>\n",
       "<p>500 rows × 8 columns</p>\n",
       "</div>"
      ],
      "text/plain": [
       "     user_id  age  churn_date         city first_name  last_name    reg_date  \\\n",
       "0       1000   52         NaN    Краснодар     Рафаил  Верещагин  2018-05-25   \n",
       "1       1001   41         NaN       Москва       Иван       Ежов  2018-11-01   \n",
       "2       1002   59         NaN  Стерлитамак    Евгений  Абрамович  2018-06-17   \n",
       "3       1003   23         NaN       Москва      Белла   Белякова  2018-08-17   \n",
       "4       1004   68         NaN  Новокузнецк    Татьяна   Авдеенко  2018-05-14   \n",
       "..       ...  ...         ...          ...        ...        ...         ...   \n",
       "495     1495   65         NaN      Иркутск  Авксентий      Фокин  2018-08-28   \n",
       "496     1496   36         NaN      Вологда     Трифон     Блохин  2018-01-27   \n",
       "497     1497   32         NaN    Челябинск   Каролина     Агеева  2018-10-09   \n",
       "498     1498   68  2018-10-25  Владикавказ   Всеволод    Акимчин  2018-07-19   \n",
       "499     1499   35         NaN        Пермь     Гектор   Корнилов  2018-09-27   \n",
       "\n",
       "    tariff  \n",
       "0    ultra  \n",
       "1    smart  \n",
       "2    smart  \n",
       "3    ultra  \n",
       "4    ultra  \n",
       "..     ...  \n",
       "495  ultra  \n",
       "496  smart  \n",
       "497  smart  \n",
       "498  smart  \n",
       "499  smart  \n",
       "\n",
       "[500 rows x 8 columns]"
      ]
     },
     "execution_count": 10,
     "metadata": {},
     "output_type": "execute_result"
    }
   ],
   "source": [
    "users"
   ]
  },
  {
   "cell_type": "code",
   "execution_count": 11,
   "metadata": {
    "scrolled": true
   },
   "outputs": [
    {
     "data": {
      "text/plain": [
       "user_id         0\n",
       "age             0\n",
       "churn_date    462\n",
       "city            0\n",
       "first_name      0\n",
       "last_name       0\n",
       "reg_date        0\n",
       "tariff          0\n",
       "dtype: int64"
      ]
     },
     "execution_count": 11,
     "metadata": {},
     "output_type": "execute_result"
    }
   ],
   "source": [
    "users.isna().sum() # проверим наличие пропусков"
   ]
  },
  {
   "cell_type": "markdown",
   "metadata": {},
   "source": [
    " В этой таблице пропуски наблюдаются только в столбце с прекращением пользования тарифом, а из условия мы знаем, что если значение пропущено, то тариф ещё действовал на момент выгрузки данных, поэтому мы можем просто оставить эти пропуски."
   ]
  },
  {
   "cell_type": "markdown",
   "metadata": {},
   "source": [
    "[Содержание](#0)"
   ]
  },
  {
   "cell_type": "markdown",
   "metadata": {},
   "source": [
    "## Исследование пользователей\n",
    "<a id=3> </a>"
   ]
  },
  {
   "cell_type": "markdown",
   "metadata": {},
   "source": [
    "Для каждого пользователя посчитаем:\n",
    "\n",
    "1. количество сделанных звонков и израсходованных минут разговора по месяцам;\n",
    "2. количество отправленных сообщений по месяцам;\n",
    "3. объем израсходованного интернет-трафика по месяцам;\n",
    "4. помесячную выручку с каждого пользователя."
   ]
  },
  {
   "cell_type": "markdown",
   "metadata": {},
   "source": [
    "### Исследуем звонки"
   ]
  },
  {
   "cell_type": "markdown",
   "metadata": {},
   "source": [
    "Посчитаем количество сделанных звонков и израсходованных минут разговора по месяцам. Для этого создадим 2 сводные таблицы."
   ]
  },
  {
   "cell_type": "code",
   "execution_count": 12,
   "metadata": {},
   "outputs": [
    {
     "data": {
      "text/html": [
       "<div>\n",
       "<style scoped>\n",
       "    .dataframe tbody tr th:only-of-type {\n",
       "        vertical-align: middle;\n",
       "    }\n",
       "\n",
       "    .dataframe tbody tr th {\n",
       "        vertical-align: top;\n",
       "    }\n",
       "\n",
       "    .dataframe thead th {\n",
       "        text-align: right;\n",
       "    }\n",
       "</style>\n",
       "<table border=\"1\" class=\"dataframe\">\n",
       "  <thead>\n",
       "    <tr style=\"text-align: right;\">\n",
       "      <th></th>\n",
       "      <th></th>\n",
       "      <th>calls</th>\n",
       "      <th>duration</th>\n",
       "    </tr>\n",
       "    <tr>\n",
       "      <th>user_id</th>\n",
       "      <th>month</th>\n",
       "      <th></th>\n",
       "      <th></th>\n",
       "    </tr>\n",
       "  </thead>\n",
       "  <tbody>\n",
       "    <tr>\n",
       "      <th rowspan=\"5\" valign=\"top\">1000</th>\n",
       "      <th>5</th>\n",
       "      <td>22</td>\n",
       "      <td>159</td>\n",
       "    </tr>\n",
       "    <tr>\n",
       "      <th>6</th>\n",
       "      <td>43</td>\n",
       "      <td>172</td>\n",
       "    </tr>\n",
       "    <tr>\n",
       "      <th>7</th>\n",
       "      <td>47</td>\n",
       "      <td>340</td>\n",
       "    </tr>\n",
       "    <tr>\n",
       "      <th>8</th>\n",
       "      <td>52</td>\n",
       "      <td>408</td>\n",
       "    </tr>\n",
       "    <tr>\n",
       "      <th>9</th>\n",
       "      <td>58</td>\n",
       "      <td>466</td>\n",
       "    </tr>\n",
       "    <tr>\n",
       "      <th>...</th>\n",
       "      <th>...</th>\n",
       "      <td>...</td>\n",
       "      <td>...</td>\n",
       "    </tr>\n",
       "    <tr>\n",
       "      <th>1498</th>\n",
       "      <th>10</th>\n",
       "      <td>41</td>\n",
       "      <td>247</td>\n",
       "    </tr>\n",
       "    <tr>\n",
       "      <th rowspan=\"4\" valign=\"top\">1499</th>\n",
       "      <th>9</th>\n",
       "      <td>9</td>\n",
       "      <td>70</td>\n",
       "    </tr>\n",
       "    <tr>\n",
       "      <th>10</th>\n",
       "      <td>68</td>\n",
       "      <td>449</td>\n",
       "    </tr>\n",
       "    <tr>\n",
       "      <th>11</th>\n",
       "      <td>74</td>\n",
       "      <td>612</td>\n",
       "    </tr>\n",
       "    <tr>\n",
       "      <th>12</th>\n",
       "      <td>69</td>\n",
       "      <td>492</td>\n",
       "    </tr>\n",
       "  </tbody>\n",
       "</table>\n",
       "<p>3174 rows × 2 columns</p>\n",
       "</div>"
      ],
      "text/plain": [
       "               calls  duration\n",
       "user_id month                 \n",
       "1000    5         22       159\n",
       "        6         43       172\n",
       "        7         47       340\n",
       "        8         52       408\n",
       "        9         58       466\n",
       "...              ...       ...\n",
       "1498    10        41       247\n",
       "1499    9          9        70\n",
       "        10        68       449\n",
       "        11        74       612\n",
       "        12        69       492\n",
       "\n",
       "[3174 rows x 2 columns]"
      ]
     },
     "metadata": {},
     "output_type": "display_data"
    }
   ],
   "source": [
    "calls['month'] = calls['call_date'].dt.month # добавим колонку с месяцем\n",
    "calls_stat = (calls.pivot_table(index = ['user_id', 'month'], values = 'duration', aggfunc=['count', 'sum'])) \n",
    "# посчитаем количесвто звонков для каждого пользователя по месяцам и продолжительность разговоров в минутах.\n",
    "calls_stat = calls_stat.rename(columns={'count': 'calls', 'sum': 'duration'}) # поменяем названия столбцов\n",
    "calls_stat = calls_stat.droplevel(1, axis=1) # избавимся от лишних индексов\n",
    "display(calls_stat)"
   ]
  },
  {
   "cell_type": "markdown",
   "metadata": {},
   "source": [
    "### Исследуем сообщения"
   ]
  },
  {
   "cell_type": "markdown",
   "metadata": {},
   "source": [
    "Посчитаем количество отправленных сообщений по месяцам."
   ]
  },
  {
   "cell_type": "code",
   "execution_count": 13,
   "metadata": {
    "scrolled": true
   },
   "outputs": [
    {
     "data": {
      "text/html": [
       "<div>\n",
       "<style scoped>\n",
       "    .dataframe tbody tr th:only-of-type {\n",
       "        vertical-align: middle;\n",
       "    }\n",
       "\n",
       "    .dataframe tbody tr th {\n",
       "        vertical-align: top;\n",
       "    }\n",
       "\n",
       "    .dataframe thead th {\n",
       "        text-align: right;\n",
       "    }\n",
       "</style>\n",
       "<table border=\"1\" class=\"dataframe\">\n",
       "  <thead>\n",
       "    <tr style=\"text-align: right;\">\n",
       "      <th></th>\n",
       "      <th></th>\n",
       "      <th>messages</th>\n",
       "    </tr>\n",
       "    <tr>\n",
       "      <th>user_id</th>\n",
       "      <th>month</th>\n",
       "      <th></th>\n",
       "    </tr>\n",
       "  </thead>\n",
       "  <tbody>\n",
       "    <tr>\n",
       "      <th rowspan=\"5\" valign=\"top\">1000</th>\n",
       "      <th>5</th>\n",
       "      <td>22</td>\n",
       "    </tr>\n",
       "    <tr>\n",
       "      <th>6</th>\n",
       "      <td>60</td>\n",
       "    </tr>\n",
       "    <tr>\n",
       "      <th>7</th>\n",
       "      <td>75</td>\n",
       "    </tr>\n",
       "    <tr>\n",
       "      <th>8</th>\n",
       "      <td>81</td>\n",
       "    </tr>\n",
       "    <tr>\n",
       "      <th>9</th>\n",
       "      <td>57</td>\n",
       "    </tr>\n",
       "    <tr>\n",
       "      <th>...</th>\n",
       "      <th>...</th>\n",
       "      <td>...</td>\n",
       "    </tr>\n",
       "    <tr>\n",
       "      <th>1498</th>\n",
       "      <th>10</th>\n",
       "      <td>42</td>\n",
       "    </tr>\n",
       "    <tr>\n",
       "      <th rowspan=\"4\" valign=\"top\">1499</th>\n",
       "      <th>9</th>\n",
       "      <td>11</td>\n",
       "    </tr>\n",
       "    <tr>\n",
       "      <th>10</th>\n",
       "      <td>48</td>\n",
       "    </tr>\n",
       "    <tr>\n",
       "      <th>11</th>\n",
       "      <td>59</td>\n",
       "    </tr>\n",
       "    <tr>\n",
       "      <th>12</th>\n",
       "      <td>66</td>\n",
       "    </tr>\n",
       "  </tbody>\n",
       "</table>\n",
       "<p>2717 rows × 1 columns</p>\n",
       "</div>"
      ],
      "text/plain": [
       "               messages\n",
       "user_id month          \n",
       "1000    5            22\n",
       "        6            60\n",
       "        7            75\n",
       "        8            81\n",
       "        9            57\n",
       "...                 ...\n",
       "1498    10           42\n",
       "1499    9            11\n",
       "        10           48\n",
       "        11           59\n",
       "        12           66\n",
       "\n",
       "[2717 rows x 1 columns]"
      ]
     },
     "execution_count": 13,
     "metadata": {},
     "output_type": "execute_result"
    }
   ],
   "source": [
    "messages['month'] = messages['message_date'].dt.month\n",
    "mess_stat = messages.pivot_table(index=['user_id', 'month'], values='id', aggfunc='count')\n",
    "mess_stat = mess_stat.rename(columns={'id':'messages'})\n",
    "mess_stat"
   ]
  },
  {
   "cell_type": "markdown",
   "metadata": {},
   "source": [
    "### Исследуем интернет-трафик"
   ]
  },
  {
   "cell_type": "markdown",
   "metadata": {},
   "source": [
    "Посчитаем объем израсходованного интернет-трафика по месяцам.\n",
    "По условиям оператора, для веб-трафика отдельные сессии не считаются. Вместо этого общая сумма за месяц округляется в бо́льшую сторону. Если абонент использует 1025 мегабайт в этом месяце, с него возьмут плату за 2 гигабайта. \n",
    "\n",
    "Для начала сделаем группировку трафика по месяцам для каждого пользователя и округлим объем их месячного трафика до гигабайт."
   ]
  },
  {
   "cell_type": "code",
   "execution_count": 14,
   "metadata": {},
   "outputs": [
    {
     "data": {
      "text/html": [
       "<div>\n",
       "<style scoped>\n",
       "    .dataframe tbody tr th:only-of-type {\n",
       "        vertical-align: middle;\n",
       "    }\n",
       "\n",
       "    .dataframe tbody tr th {\n",
       "        vertical-align: top;\n",
       "    }\n",
       "\n",
       "    .dataframe thead th {\n",
       "        text-align: right;\n",
       "    }\n",
       "</style>\n",
       "<table border=\"1\" class=\"dataframe\">\n",
       "  <thead>\n",
       "    <tr style=\"text-align: right;\">\n",
       "      <th></th>\n",
       "      <th></th>\n",
       "      <th>gb_used</th>\n",
       "    </tr>\n",
       "    <tr>\n",
       "      <th>user_id</th>\n",
       "      <th>month</th>\n",
       "      <th></th>\n",
       "    </tr>\n",
       "  </thead>\n",
       "  <tbody>\n",
       "    <tr>\n",
       "      <th rowspan=\"5\" valign=\"top\">1000</th>\n",
       "      <th>5</th>\n",
       "      <td>3</td>\n",
       "    </tr>\n",
       "    <tr>\n",
       "      <th>6</th>\n",
       "      <td>23</td>\n",
       "    </tr>\n",
       "    <tr>\n",
       "      <th>7</th>\n",
       "      <td>14</td>\n",
       "    </tr>\n",
       "    <tr>\n",
       "      <th>8</th>\n",
       "      <td>14</td>\n",
       "    </tr>\n",
       "    <tr>\n",
       "      <th>9</th>\n",
       "      <td>15</td>\n",
       "    </tr>\n",
       "    <tr>\n",
       "      <th>...</th>\n",
       "      <th>...</th>\n",
       "      <td>...</td>\n",
       "    </tr>\n",
       "    <tr>\n",
       "      <th>1498</th>\n",
       "      <th>10</th>\n",
       "      <td>21</td>\n",
       "    </tr>\n",
       "    <tr>\n",
       "      <th rowspan=\"4\" valign=\"top\">1499</th>\n",
       "      <th>9</th>\n",
       "      <td>2</td>\n",
       "    </tr>\n",
       "    <tr>\n",
       "      <th>10</th>\n",
       "      <td>18</td>\n",
       "    </tr>\n",
       "    <tr>\n",
       "      <th>11</th>\n",
       "      <td>18</td>\n",
       "    </tr>\n",
       "    <tr>\n",
       "      <th>12</th>\n",
       "      <td>13</td>\n",
       "    </tr>\n",
       "  </tbody>\n",
       "</table>\n",
       "<p>3203 rows × 1 columns</p>\n",
       "</div>"
      ],
      "text/plain": [
       "               gb_used\n",
       "user_id month         \n",
       "1000    5            3\n",
       "        6           23\n",
       "        7           14\n",
       "        8           14\n",
       "        9           15\n",
       "...                ...\n",
       "1498    10          21\n",
       "1499    9            2\n",
       "        10          18\n",
       "        11          18\n",
       "        12          13\n",
       "\n",
       "[3203 rows x 1 columns]"
      ]
     },
     "execution_count": 14,
     "metadata": {},
     "output_type": "execute_result"
    }
   ],
   "source": [
    "internet['month'] = internet['session_date'].dt.month # добавим колонку с месяцем\n",
    "internet_stat = internet.pivot_table(index = ['user_id', 'month'], values='mb_used', aggfunc='sum')\n",
    "calls['duration'] = [math.ceil(i) for i in calls['duration']] # округлим до минут в бОльшую сторону, используя list comprehension\n",
    "internet_stat['mb_used']/=1024 # переведем в гигабайты\n",
    "internet_stat['mb_used'] = [math.ceil(i) for i in internet_stat['mb_used']] #округлим до целого в бОльшую сторону\n",
    "internet_stat = internet_stat.rename(columns={ 'mb_used': 'gb_used'}) # поменяем название колонки на Gb\n",
    "internet_stat # выведем результат на экран"
   ]
  },
  {
   "cell_type": "markdown",
   "metadata": {},
   "source": [
    "### Исследуем выручку"
   ]
  },
  {
   "cell_type": "markdown",
   "metadata": {},
   "source": [
    "Соберем все полученные данные в 1 таблицу. Добавим в нее так же названия и описание тарифов."
   ]
  },
  {
   "cell_type": "code",
   "execution_count": 15,
   "metadata": {
    "scrolled": true
   },
   "outputs": [
    {
     "data": {
      "text/html": [
       "<div>\n",
       "<style scoped>\n",
       "    .dataframe tbody tr th:only-of-type {\n",
       "        vertical-align: middle;\n",
       "    }\n",
       "\n",
       "    .dataframe tbody tr th {\n",
       "        vertical-align: top;\n",
       "    }\n",
       "\n",
       "    .dataframe thead th {\n",
       "        text-align: right;\n",
       "    }\n",
       "</style>\n",
       "<table border=\"1\" class=\"dataframe\">\n",
       "  <thead>\n",
       "    <tr style=\"text-align: right;\">\n",
       "      <th></th>\n",
       "      <th>user_id</th>\n",
       "      <th>month</th>\n",
       "      <th>gb_used</th>\n",
       "      <th>calls</th>\n",
       "      <th>duration</th>\n",
       "      <th>messages</th>\n",
       "      <th>tariff</th>\n",
       "      <th>city</th>\n",
       "    </tr>\n",
       "  </thead>\n",
       "  <tbody>\n",
       "    <tr>\n",
       "      <th>0</th>\n",
       "      <td>1000</td>\n",
       "      <td>5.0</td>\n",
       "      <td>3.0</td>\n",
       "      <td>22.0</td>\n",
       "      <td>159.0</td>\n",
       "      <td>22.0</td>\n",
       "      <td>ultra</td>\n",
       "      <td>Краснодар</td>\n",
       "    </tr>\n",
       "    <tr>\n",
       "      <th>1</th>\n",
       "      <td>1000</td>\n",
       "      <td>6.0</td>\n",
       "      <td>23.0</td>\n",
       "      <td>43.0</td>\n",
       "      <td>172.0</td>\n",
       "      <td>60.0</td>\n",
       "      <td>ultra</td>\n",
       "      <td>Краснодар</td>\n",
       "    </tr>\n",
       "    <tr>\n",
       "      <th>2</th>\n",
       "      <td>1000</td>\n",
       "      <td>7.0</td>\n",
       "      <td>14.0</td>\n",
       "      <td>47.0</td>\n",
       "      <td>340.0</td>\n",
       "      <td>75.0</td>\n",
       "      <td>ultra</td>\n",
       "      <td>Краснодар</td>\n",
       "    </tr>\n",
       "    <tr>\n",
       "      <th>3</th>\n",
       "      <td>1000</td>\n",
       "      <td>8.0</td>\n",
       "      <td>14.0</td>\n",
       "      <td>52.0</td>\n",
       "      <td>408.0</td>\n",
       "      <td>81.0</td>\n",
       "      <td>ultra</td>\n",
       "      <td>Краснодар</td>\n",
       "    </tr>\n",
       "    <tr>\n",
       "      <th>4</th>\n",
       "      <td>1000</td>\n",
       "      <td>9.0</td>\n",
       "      <td>15.0</td>\n",
       "      <td>58.0</td>\n",
       "      <td>466.0</td>\n",
       "      <td>57.0</td>\n",
       "      <td>ultra</td>\n",
       "      <td>Краснодар</td>\n",
       "    </tr>\n",
       "    <tr>\n",
       "      <th>...</th>\n",
       "      <td>...</td>\n",
       "      <td>...</td>\n",
       "      <td>...</td>\n",
       "      <td>...</td>\n",
       "      <td>...</td>\n",
       "      <td>...</td>\n",
       "      <td>...</td>\n",
       "      <td>...</td>\n",
       "    </tr>\n",
       "    <tr>\n",
       "      <th>3211</th>\n",
       "      <td>1273</td>\n",
       "      <td>10.0</td>\n",
       "      <td>NaN</td>\n",
       "      <td>40.0</td>\n",
       "      <td>315.0</td>\n",
       "      <td>35.0</td>\n",
       "      <td>ultra</td>\n",
       "      <td>Курган</td>\n",
       "    </tr>\n",
       "    <tr>\n",
       "      <th>3212</th>\n",
       "      <td>1273</td>\n",
       "      <td>11.0</td>\n",
       "      <td>NaN</td>\n",
       "      <td>45.0</td>\n",
       "      <td>272.0</td>\n",
       "      <td>29.0</td>\n",
       "      <td>ultra</td>\n",
       "      <td>Курган</td>\n",
       "    </tr>\n",
       "    <tr>\n",
       "      <th>3213</th>\n",
       "      <td>1273</td>\n",
       "      <td>12.0</td>\n",
       "      <td>NaN</td>\n",
       "      <td>41.0</td>\n",
       "      <td>260.0</td>\n",
       "      <td>39.0</td>\n",
       "      <td>ultra</td>\n",
       "      <td>Курган</td>\n",
       "    </tr>\n",
       "    <tr>\n",
       "      <th>3214</th>\n",
       "      <td>1128</td>\n",
       "      <td>NaN</td>\n",
       "      <td>NaN</td>\n",
       "      <td>NaN</td>\n",
       "      <td>NaN</td>\n",
       "      <td>NaN</td>\n",
       "      <td>ultra</td>\n",
       "      <td>Волжский</td>\n",
       "    </tr>\n",
       "    <tr>\n",
       "      <th>3215</th>\n",
       "      <td>1371</td>\n",
       "      <td>NaN</td>\n",
       "      <td>NaN</td>\n",
       "      <td>NaN</td>\n",
       "      <td>NaN</td>\n",
       "      <td>NaN</td>\n",
       "      <td>smart</td>\n",
       "      <td>Омск</td>\n",
       "    </tr>\n",
       "  </tbody>\n",
       "</table>\n",
       "<p>3216 rows × 8 columns</p>\n",
       "</div>"
      ],
      "text/plain": [
       "      user_id  month  gb_used  calls  duration  messages tariff       city\n",
       "0        1000    5.0      3.0   22.0     159.0      22.0  ultra  Краснодар\n",
       "1        1000    6.0     23.0   43.0     172.0      60.0  ultra  Краснодар\n",
       "2        1000    7.0     14.0   47.0     340.0      75.0  ultra  Краснодар\n",
       "3        1000    8.0     14.0   52.0     408.0      81.0  ultra  Краснодар\n",
       "4        1000    9.0     15.0   58.0     466.0      57.0  ultra  Краснодар\n",
       "...       ...    ...      ...    ...       ...       ...    ...        ...\n",
       "3211     1273   10.0      NaN   40.0     315.0      35.0  ultra     Курган\n",
       "3212     1273   11.0      NaN   45.0     272.0      29.0  ultra     Курган\n",
       "3213     1273   12.0      NaN   41.0     260.0      39.0  ultra     Курган\n",
       "3214     1128    NaN      NaN    NaN       NaN       NaN  ultra   Волжский\n",
       "3215     1371    NaN      NaN    NaN       NaN       NaN  smart       Омск\n",
       "\n",
       "[3216 rows x 8 columns]"
      ]
     },
     "execution_count": 15,
     "metadata": {},
     "output_type": "execute_result"
    }
   ],
   "source": [
    "# соединим таблицы методом merge(), используя для слияния колонки с уникальным 'user_id' и месяцем\n",
    "data = internet_stat.merge(calls_stat, on=['user_id', 'month'], how='outer')\n",
    "data = data.merge(mess_stat, on=['user_id', 'month'], how='outer')\n",
    "\n",
    "data = data.reset_index() # сбросим индексы, чтобы 'user_id' и 'month' стали полноценными колонками\n",
    "\n",
    "data = data.merge(users[['tariff', 'user_id', 'city']], on='user_id',  how='outer') # присоединим колонку с названием тарифа\n",
    "\n",
    "data"
   ]
  },
  {
   "cell_type": "code",
   "execution_count": 16,
   "metadata": {},
   "outputs": [
    {
     "data": {
      "text/plain": [
       "user_id       0\n",
       "month         2\n",
       "gb_used      13\n",
       "calls        42\n",
       "duration     42\n",
       "messages    499\n",
       "tariff        0\n",
       "city          0\n",
       "dtype: int64"
      ]
     },
     "metadata": {},
     "output_type": "display_data"
    }
   ],
   "source": [
    "display(data.isna().sum()) # проверим на наличие пропусков\n"
   ]
  },
  {
   "cell_type": "markdown",
   "metadata": {},
   "source": [
    "Скорее всего, эти пропуски не являются ошибкой, а появились из-за того, что кто-то не писал смс и не совершал звонки, что не удивительно - сейчас это можно удобно делать через мессенджеры. Поэтому просто заменим эти пропуски нулями. После чего приведем к нужному цельночисленному формату."
   ]
  },
  {
   "cell_type": "code",
   "execution_count": 17,
   "metadata": {
    "scrolled": true
   },
   "outputs": [
    {
     "data": {
      "text/html": [
       "<div>\n",
       "<style scoped>\n",
       "    .dataframe tbody tr th:only-of-type {\n",
       "        vertical-align: middle;\n",
       "    }\n",
       "\n",
       "    .dataframe tbody tr th {\n",
       "        vertical-align: top;\n",
       "    }\n",
       "\n",
       "    .dataframe thead th {\n",
       "        text-align: right;\n",
       "    }\n",
       "</style>\n",
       "<table border=\"1\" class=\"dataframe\">\n",
       "  <thead>\n",
       "    <tr style=\"text-align: right;\">\n",
       "      <th></th>\n",
       "      <th>user_id</th>\n",
       "      <th>month</th>\n",
       "      <th>gb_used</th>\n",
       "      <th>calls</th>\n",
       "      <th>duration</th>\n",
       "      <th>messages</th>\n",
       "      <th>tariff</th>\n",
       "      <th>city</th>\n",
       "    </tr>\n",
       "  </thead>\n",
       "  <tbody>\n",
       "    <tr>\n",
       "      <th>0</th>\n",
       "      <td>1000</td>\n",
       "      <td>5</td>\n",
       "      <td>3</td>\n",
       "      <td>22</td>\n",
       "      <td>159</td>\n",
       "      <td>22</td>\n",
       "      <td>ultra</td>\n",
       "      <td>Краснодар</td>\n",
       "    </tr>\n",
       "    <tr>\n",
       "      <th>1</th>\n",
       "      <td>1000</td>\n",
       "      <td>6</td>\n",
       "      <td>23</td>\n",
       "      <td>43</td>\n",
       "      <td>172</td>\n",
       "      <td>60</td>\n",
       "      <td>ultra</td>\n",
       "      <td>Краснодар</td>\n",
       "    </tr>\n",
       "    <tr>\n",
       "      <th>2</th>\n",
       "      <td>1000</td>\n",
       "      <td>7</td>\n",
       "      <td>14</td>\n",
       "      <td>47</td>\n",
       "      <td>340</td>\n",
       "      <td>75</td>\n",
       "      <td>ultra</td>\n",
       "      <td>Краснодар</td>\n",
       "    </tr>\n",
       "    <tr>\n",
       "      <th>3</th>\n",
       "      <td>1000</td>\n",
       "      <td>8</td>\n",
       "      <td>14</td>\n",
       "      <td>52</td>\n",
       "      <td>408</td>\n",
       "      <td>81</td>\n",
       "      <td>ultra</td>\n",
       "      <td>Краснодар</td>\n",
       "    </tr>\n",
       "    <tr>\n",
       "      <th>4</th>\n",
       "      <td>1000</td>\n",
       "      <td>9</td>\n",
       "      <td>15</td>\n",
       "      <td>58</td>\n",
       "      <td>466</td>\n",
       "      <td>57</td>\n",
       "      <td>ultra</td>\n",
       "      <td>Краснодар</td>\n",
       "    </tr>\n",
       "    <tr>\n",
       "      <th>...</th>\n",
       "      <td>...</td>\n",
       "      <td>...</td>\n",
       "      <td>...</td>\n",
       "      <td>...</td>\n",
       "      <td>...</td>\n",
       "      <td>...</td>\n",
       "      <td>...</td>\n",
       "      <td>...</td>\n",
       "    </tr>\n",
       "    <tr>\n",
       "      <th>3211</th>\n",
       "      <td>1273</td>\n",
       "      <td>10</td>\n",
       "      <td>0</td>\n",
       "      <td>40</td>\n",
       "      <td>315</td>\n",
       "      <td>35</td>\n",
       "      <td>ultra</td>\n",
       "      <td>Курган</td>\n",
       "    </tr>\n",
       "    <tr>\n",
       "      <th>3212</th>\n",
       "      <td>1273</td>\n",
       "      <td>11</td>\n",
       "      <td>0</td>\n",
       "      <td>45</td>\n",
       "      <td>272</td>\n",
       "      <td>29</td>\n",
       "      <td>ultra</td>\n",
       "      <td>Курган</td>\n",
       "    </tr>\n",
       "    <tr>\n",
       "      <th>3213</th>\n",
       "      <td>1273</td>\n",
       "      <td>12</td>\n",
       "      <td>0</td>\n",
       "      <td>41</td>\n",
       "      <td>260</td>\n",
       "      <td>39</td>\n",
       "      <td>ultra</td>\n",
       "      <td>Курган</td>\n",
       "    </tr>\n",
       "    <tr>\n",
       "      <th>3214</th>\n",
       "      <td>1128</td>\n",
       "      <td>0</td>\n",
       "      <td>0</td>\n",
       "      <td>0</td>\n",
       "      <td>0</td>\n",
       "      <td>0</td>\n",
       "      <td>ultra</td>\n",
       "      <td>Волжский</td>\n",
       "    </tr>\n",
       "    <tr>\n",
       "      <th>3215</th>\n",
       "      <td>1371</td>\n",
       "      <td>0</td>\n",
       "      <td>0</td>\n",
       "      <td>0</td>\n",
       "      <td>0</td>\n",
       "      <td>0</td>\n",
       "      <td>smart</td>\n",
       "      <td>Омск</td>\n",
       "    </tr>\n",
       "  </tbody>\n",
       "</table>\n",
       "<p>3216 rows × 8 columns</p>\n",
       "</div>"
      ],
      "text/plain": [
       "      user_id  month  gb_used  calls  duration  messages tariff       city\n",
       "0        1000      5        3     22       159        22  ultra  Краснодар\n",
       "1        1000      6       23     43       172        60  ultra  Краснодар\n",
       "2        1000      7       14     47       340        75  ultra  Краснодар\n",
       "3        1000      8       14     52       408        81  ultra  Краснодар\n",
       "4        1000      9       15     58       466        57  ultra  Краснодар\n",
       "...       ...    ...      ...    ...       ...       ...    ...        ...\n",
       "3211     1273     10        0     40       315        35  ultra     Курган\n",
       "3212     1273     11        0     45       272        29  ultra     Курган\n",
       "3213     1273     12        0     41       260        39  ultra     Курган\n",
       "3214     1128      0        0      0         0         0  ultra   Волжский\n",
       "3215     1371      0        0      0         0         0  smart       Омск\n",
       "\n",
       "[3216 rows x 8 columns]"
      ]
     },
     "execution_count": 17,
     "metadata": {},
     "output_type": "execute_result"
    }
   ],
   "source": [
    "data = data.fillna(0)\n",
    "data[['month', 'calls', 'duration', 'messages', 'gb_used']]= np.int64(np.ceil(data[['month', 'calls', 'duration', 'messages', 'gb_used']]))\n",
    "# переведем в цельночисленный формат все данные \n",
    "data"
   ]
  },
  {
   "cell_type": "code",
   "execution_count": 18,
   "metadata": {},
   "outputs": [
    {
     "data": {
      "text/plain": [
       "0"
      ]
     },
     "execution_count": 18,
     "metadata": {},
     "output_type": "execute_result"
    }
   ],
   "source": [
    "data.duplicated().sum() # проверим на наличие дубликатов"
   ]
  },
  {
   "cell_type": "code",
   "execution_count": 19,
   "metadata": {
    "scrolled": true
   },
   "outputs": [
    {
     "data": {
      "text/plain": [
       "1673"
      ]
     },
     "metadata": {},
     "output_type": "display_data"
    },
    {
     "data": {
      "text/plain": [
       "224"
      ]
     },
     "metadata": {},
     "output_type": "display_data"
    },
    {
     "data": {
      "text/plain": [
       "49"
      ]
     },
     "execution_count": 19,
     "metadata": {},
     "output_type": "execute_result"
    }
   ],
   "source": [
    "display(data['duration'].max()) # максимальное количество израсходованных минут\n",
    "display(data['messages'].max()) # максимальное количество израсходованнах смс сообщениц\n",
    "data['gb_used'].max() # максимальное количество гигабайт трафика "
   ]
  },
  {
   "cell_type": "markdown",
   "metadata": {},
   "source": [
    "Создадим столбец с остатком неоплаченных минут. Т.к. в тарифный план 'Ultra' входит 3000 минут и никто их пользователей их не израсходовал, мы не будем включать эту ветвь в функцию."
   ]
  },
  {
   "cell_type": "code",
   "execution_count": 20,
   "metadata": {},
   "outputs": [
    {
     "data": {
      "text/html": [
       "<div>\n",
       "<style scoped>\n",
       "    .dataframe tbody tr th:only-of-type {\n",
       "        vertical-align: middle;\n",
       "    }\n",
       "\n",
       "    .dataframe tbody tr th {\n",
       "        vertical-align: top;\n",
       "    }\n",
       "\n",
       "    .dataframe thead th {\n",
       "        text-align: right;\n",
       "    }\n",
       "</style>\n",
       "<table border=\"1\" class=\"dataframe\">\n",
       "  <thead>\n",
       "    <tr style=\"text-align: right;\">\n",
       "      <th></th>\n",
       "      <th>user_id</th>\n",
       "      <th>month</th>\n",
       "      <th>gb_used</th>\n",
       "      <th>calls</th>\n",
       "      <th>duration</th>\n",
       "      <th>messages</th>\n",
       "      <th>tariff</th>\n",
       "      <th>city</th>\n",
       "      <th>rest_minutes</th>\n",
       "    </tr>\n",
       "  </thead>\n",
       "  <tbody>\n",
       "    <tr>\n",
       "      <th>0</th>\n",
       "      <td>1000</td>\n",
       "      <td>5</td>\n",
       "      <td>3</td>\n",
       "      <td>22</td>\n",
       "      <td>159</td>\n",
       "      <td>22</td>\n",
       "      <td>ultra</td>\n",
       "      <td>Краснодар</td>\n",
       "      <td>0</td>\n",
       "    </tr>\n",
       "    <tr>\n",
       "      <th>1</th>\n",
       "      <td>1000</td>\n",
       "      <td>6</td>\n",
       "      <td>23</td>\n",
       "      <td>43</td>\n",
       "      <td>172</td>\n",
       "      <td>60</td>\n",
       "      <td>ultra</td>\n",
       "      <td>Краснодар</td>\n",
       "      <td>0</td>\n",
       "    </tr>\n",
       "    <tr>\n",
       "      <th>2</th>\n",
       "      <td>1000</td>\n",
       "      <td>7</td>\n",
       "      <td>14</td>\n",
       "      <td>47</td>\n",
       "      <td>340</td>\n",
       "      <td>75</td>\n",
       "      <td>ultra</td>\n",
       "      <td>Краснодар</td>\n",
       "      <td>0</td>\n",
       "    </tr>\n",
       "    <tr>\n",
       "      <th>3</th>\n",
       "      <td>1000</td>\n",
       "      <td>8</td>\n",
       "      <td>14</td>\n",
       "      <td>52</td>\n",
       "      <td>408</td>\n",
       "      <td>81</td>\n",
       "      <td>ultra</td>\n",
       "      <td>Краснодар</td>\n",
       "      <td>0</td>\n",
       "    </tr>\n",
       "    <tr>\n",
       "      <th>4</th>\n",
       "      <td>1000</td>\n",
       "      <td>9</td>\n",
       "      <td>15</td>\n",
       "      <td>58</td>\n",
       "      <td>466</td>\n",
       "      <td>57</td>\n",
       "      <td>ultra</td>\n",
       "      <td>Краснодар</td>\n",
       "      <td>0</td>\n",
       "    </tr>\n",
       "    <tr>\n",
       "      <th>...</th>\n",
       "      <td>...</td>\n",
       "      <td>...</td>\n",
       "      <td>...</td>\n",
       "      <td>...</td>\n",
       "      <td>...</td>\n",
       "      <td>...</td>\n",
       "      <td>...</td>\n",
       "      <td>...</td>\n",
       "      <td>...</td>\n",
       "    </tr>\n",
       "    <tr>\n",
       "      <th>3211</th>\n",
       "      <td>1273</td>\n",
       "      <td>10</td>\n",
       "      <td>0</td>\n",
       "      <td>40</td>\n",
       "      <td>315</td>\n",
       "      <td>35</td>\n",
       "      <td>ultra</td>\n",
       "      <td>Курган</td>\n",
       "      <td>0</td>\n",
       "    </tr>\n",
       "    <tr>\n",
       "      <th>3212</th>\n",
       "      <td>1273</td>\n",
       "      <td>11</td>\n",
       "      <td>0</td>\n",
       "      <td>45</td>\n",
       "      <td>272</td>\n",
       "      <td>29</td>\n",
       "      <td>ultra</td>\n",
       "      <td>Курган</td>\n",
       "      <td>0</td>\n",
       "    </tr>\n",
       "    <tr>\n",
       "      <th>3213</th>\n",
       "      <td>1273</td>\n",
       "      <td>12</td>\n",
       "      <td>0</td>\n",
       "      <td>41</td>\n",
       "      <td>260</td>\n",
       "      <td>39</td>\n",
       "      <td>ultra</td>\n",
       "      <td>Курган</td>\n",
       "      <td>0</td>\n",
       "    </tr>\n",
       "    <tr>\n",
       "      <th>3214</th>\n",
       "      <td>1128</td>\n",
       "      <td>0</td>\n",
       "      <td>0</td>\n",
       "      <td>0</td>\n",
       "      <td>0</td>\n",
       "      <td>0</td>\n",
       "      <td>ultra</td>\n",
       "      <td>Волжский</td>\n",
       "      <td>0</td>\n",
       "    </tr>\n",
       "    <tr>\n",
       "      <th>3215</th>\n",
       "      <td>1371</td>\n",
       "      <td>0</td>\n",
       "      <td>0</td>\n",
       "      <td>0</td>\n",
       "      <td>0</td>\n",
       "      <td>0</td>\n",
       "      <td>smart</td>\n",
       "      <td>Омск</td>\n",
       "      <td>0</td>\n",
       "    </tr>\n",
       "  </tbody>\n",
       "</table>\n",
       "<p>3216 rows × 9 columns</p>\n",
       "</div>"
      ],
      "text/plain": [
       "      user_id  month  gb_used  calls  duration  messages tariff       city  \\\n",
       "0        1000      5        3     22       159        22  ultra  Краснодар   \n",
       "1        1000      6       23     43       172        60  ultra  Краснодар   \n",
       "2        1000      7       14     47       340        75  ultra  Краснодар   \n",
       "3        1000      8       14     52       408        81  ultra  Краснодар   \n",
       "4        1000      9       15     58       466        57  ultra  Краснодар   \n",
       "...       ...    ...      ...    ...       ...       ...    ...        ...   \n",
       "3211     1273     10        0     40       315        35  ultra     Курган   \n",
       "3212     1273     11        0     45       272        29  ultra     Курган   \n",
       "3213     1273     12        0     41       260        39  ultra     Курган   \n",
       "3214     1128      0        0      0         0         0  ultra   Волжский   \n",
       "3215     1371      0        0      0         0         0  smart       Омск   \n",
       "\n",
       "      rest_minutes  \n",
       "0                0  \n",
       "1                0  \n",
       "2                0  \n",
       "3                0  \n",
       "4                0  \n",
       "...            ...  \n",
       "3211             0  \n",
       "3212             0  \n",
       "3213             0  \n",
       "3214             0  \n",
       "3215             0  \n",
       "\n",
       "[3216 rows x 9 columns]"
      ]
     },
     "execution_count": 20,
     "metadata": {},
     "output_type": "execute_result"
    }
   ],
   "source": [
    "def rest_minutes(row): # напишем функцию для подсчета неоплаченных минут сверх тарифа\n",
    "    duration = row['duration']\n",
    "    tariff = row['tariff']\n",
    "    \n",
    "    minutes_limit = tariffs[tariffs['tariff']== tariff]['minutes_included'].values[0]\n",
    "    if tariff =='smart':\n",
    "        if duration > minutes_limit:\n",
    "            return (duration-minutes_limit)\n",
    "        return 0\n",
    "    else:\n",
    "        return 0\n",
    "data['rest_minutes'] = data.apply(rest_minutes, axis=1) # применим функцию к датасету\n",
    "data "
   ]
  },
  {
   "cell_type": "markdown",
   "metadata": {},
   "source": [
    "Проделаем то же самое с сообщениями. И опять же, количество sms, включенныx в тариф 'Ultra' никому не удалось израсходовать."
   ]
  },
  {
   "cell_type": "code",
   "execution_count": 21,
   "metadata": {},
   "outputs": [
    {
     "data": {
      "text/html": [
       "<div>\n",
       "<style scoped>\n",
       "    .dataframe tbody tr th:only-of-type {\n",
       "        vertical-align: middle;\n",
       "    }\n",
       "\n",
       "    .dataframe tbody tr th {\n",
       "        vertical-align: top;\n",
       "    }\n",
       "\n",
       "    .dataframe thead th {\n",
       "        text-align: right;\n",
       "    }\n",
       "</style>\n",
       "<table border=\"1\" class=\"dataframe\">\n",
       "  <thead>\n",
       "    <tr style=\"text-align: right;\">\n",
       "      <th></th>\n",
       "      <th>user_id</th>\n",
       "      <th>month</th>\n",
       "      <th>gb_used</th>\n",
       "      <th>calls</th>\n",
       "      <th>duration</th>\n",
       "      <th>messages</th>\n",
       "      <th>tariff</th>\n",
       "      <th>city</th>\n",
       "      <th>rest_minutes</th>\n",
       "      <th>rest_sms</th>\n",
       "    </tr>\n",
       "  </thead>\n",
       "  <tbody>\n",
       "    <tr>\n",
       "      <th>0</th>\n",
       "      <td>1000</td>\n",
       "      <td>5</td>\n",
       "      <td>3</td>\n",
       "      <td>22</td>\n",
       "      <td>159</td>\n",
       "      <td>22</td>\n",
       "      <td>ultra</td>\n",
       "      <td>Краснодар</td>\n",
       "      <td>0</td>\n",
       "      <td>0</td>\n",
       "    </tr>\n",
       "    <tr>\n",
       "      <th>1</th>\n",
       "      <td>1000</td>\n",
       "      <td>6</td>\n",
       "      <td>23</td>\n",
       "      <td>43</td>\n",
       "      <td>172</td>\n",
       "      <td>60</td>\n",
       "      <td>ultra</td>\n",
       "      <td>Краснодар</td>\n",
       "      <td>0</td>\n",
       "      <td>0</td>\n",
       "    </tr>\n",
       "    <tr>\n",
       "      <th>2</th>\n",
       "      <td>1000</td>\n",
       "      <td>7</td>\n",
       "      <td>14</td>\n",
       "      <td>47</td>\n",
       "      <td>340</td>\n",
       "      <td>75</td>\n",
       "      <td>ultra</td>\n",
       "      <td>Краснодар</td>\n",
       "      <td>0</td>\n",
       "      <td>0</td>\n",
       "    </tr>\n",
       "    <tr>\n",
       "      <th>3</th>\n",
       "      <td>1000</td>\n",
       "      <td>8</td>\n",
       "      <td>14</td>\n",
       "      <td>52</td>\n",
       "      <td>408</td>\n",
       "      <td>81</td>\n",
       "      <td>ultra</td>\n",
       "      <td>Краснодар</td>\n",
       "      <td>0</td>\n",
       "      <td>0</td>\n",
       "    </tr>\n",
       "    <tr>\n",
       "      <th>4</th>\n",
       "      <td>1000</td>\n",
       "      <td>9</td>\n",
       "      <td>15</td>\n",
       "      <td>58</td>\n",
       "      <td>466</td>\n",
       "      <td>57</td>\n",
       "      <td>ultra</td>\n",
       "      <td>Краснодар</td>\n",
       "      <td>0</td>\n",
       "      <td>0</td>\n",
       "    </tr>\n",
       "    <tr>\n",
       "      <th>...</th>\n",
       "      <td>...</td>\n",
       "      <td>...</td>\n",
       "      <td>...</td>\n",
       "      <td>...</td>\n",
       "      <td>...</td>\n",
       "      <td>...</td>\n",
       "      <td>...</td>\n",
       "      <td>...</td>\n",
       "      <td>...</td>\n",
       "      <td>...</td>\n",
       "    </tr>\n",
       "    <tr>\n",
       "      <th>3211</th>\n",
       "      <td>1273</td>\n",
       "      <td>10</td>\n",
       "      <td>0</td>\n",
       "      <td>40</td>\n",
       "      <td>315</td>\n",
       "      <td>35</td>\n",
       "      <td>ultra</td>\n",
       "      <td>Курган</td>\n",
       "      <td>0</td>\n",
       "      <td>0</td>\n",
       "    </tr>\n",
       "    <tr>\n",
       "      <th>3212</th>\n",
       "      <td>1273</td>\n",
       "      <td>11</td>\n",
       "      <td>0</td>\n",
       "      <td>45</td>\n",
       "      <td>272</td>\n",
       "      <td>29</td>\n",
       "      <td>ultra</td>\n",
       "      <td>Курган</td>\n",
       "      <td>0</td>\n",
       "      <td>0</td>\n",
       "    </tr>\n",
       "    <tr>\n",
       "      <th>3213</th>\n",
       "      <td>1273</td>\n",
       "      <td>12</td>\n",
       "      <td>0</td>\n",
       "      <td>41</td>\n",
       "      <td>260</td>\n",
       "      <td>39</td>\n",
       "      <td>ultra</td>\n",
       "      <td>Курган</td>\n",
       "      <td>0</td>\n",
       "      <td>0</td>\n",
       "    </tr>\n",
       "    <tr>\n",
       "      <th>3214</th>\n",
       "      <td>1128</td>\n",
       "      <td>0</td>\n",
       "      <td>0</td>\n",
       "      <td>0</td>\n",
       "      <td>0</td>\n",
       "      <td>0</td>\n",
       "      <td>ultra</td>\n",
       "      <td>Волжский</td>\n",
       "      <td>0</td>\n",
       "      <td>0</td>\n",
       "    </tr>\n",
       "    <tr>\n",
       "      <th>3215</th>\n",
       "      <td>1371</td>\n",
       "      <td>0</td>\n",
       "      <td>0</td>\n",
       "      <td>0</td>\n",
       "      <td>0</td>\n",
       "      <td>0</td>\n",
       "      <td>smart</td>\n",
       "      <td>Омск</td>\n",
       "      <td>0</td>\n",
       "      <td>0</td>\n",
       "    </tr>\n",
       "  </tbody>\n",
       "</table>\n",
       "<p>3216 rows × 10 columns</p>\n",
       "</div>"
      ],
      "text/plain": [
       "      user_id  month  gb_used  calls  duration  messages tariff       city  \\\n",
       "0        1000      5        3     22       159        22  ultra  Краснодар   \n",
       "1        1000      6       23     43       172        60  ultra  Краснодар   \n",
       "2        1000      7       14     47       340        75  ultra  Краснодар   \n",
       "3        1000      8       14     52       408        81  ultra  Краснодар   \n",
       "4        1000      9       15     58       466        57  ultra  Краснодар   \n",
       "...       ...    ...      ...    ...       ...       ...    ...        ...   \n",
       "3211     1273     10        0     40       315        35  ultra     Курган   \n",
       "3212     1273     11        0     45       272        29  ultra     Курган   \n",
       "3213     1273     12        0     41       260        39  ultra     Курган   \n",
       "3214     1128      0        0      0         0         0  ultra   Волжский   \n",
       "3215     1371      0        0      0         0         0  smart       Омск   \n",
       "\n",
       "      rest_minutes  rest_sms  \n",
       "0                0         0  \n",
       "1                0         0  \n",
       "2                0         0  \n",
       "3                0         0  \n",
       "4                0         0  \n",
       "...            ...       ...  \n",
       "3211             0         0  \n",
       "3212             0         0  \n",
       "3213             0         0  \n",
       "3214             0         0  \n",
       "3215             0         0  \n",
       "\n",
       "[3216 rows x 10 columns]"
      ]
     },
     "execution_count": 21,
     "metadata": {},
     "output_type": "execute_result"
    }
   ],
   "source": [
    "def rest_sms(row): # напишем функцию для подсчета неоплаченных sms сверх тарифа\n",
    "    messages = row['messages']\n",
    "    tariff = row['tariff']\n",
    "    \n",
    "    messages_limit = tariffs[tariffs['tariff']== tariff]['messages_included'].values[0]\n",
    "    if tariff =='smart':\n",
    "        if messages > messages_limit:\n",
    "            return (messages-messages_limit)\n",
    "        return 0\n",
    "    return 0\n",
    "        \n",
    "data['rest_sms'] = data.apply(rest_sms, axis=1) # применим функцию к датасету\n",
    "data "
   ]
  },
  {
   "cell_type": "markdown",
   "metadata": {},
   "source": [
    "Повторим для интернет-трафика. Тут уже и некоторым владельцам тарифа 'Ultra' не повезло и придется заплатить за перерасход трафика."
   ]
  },
  {
   "cell_type": "code",
   "execution_count": 22,
   "metadata": {
    "scrolled": false
   },
   "outputs": [
    {
     "data": {
      "text/html": [
       "<div>\n",
       "<style scoped>\n",
       "    .dataframe tbody tr th:only-of-type {\n",
       "        vertical-align: middle;\n",
       "    }\n",
       "\n",
       "    .dataframe tbody tr th {\n",
       "        vertical-align: top;\n",
       "    }\n",
       "\n",
       "    .dataframe thead th {\n",
       "        text-align: right;\n",
       "    }\n",
       "</style>\n",
       "<table border=\"1\" class=\"dataframe\">\n",
       "  <thead>\n",
       "    <tr style=\"text-align: right;\">\n",
       "      <th></th>\n",
       "      <th>user_id</th>\n",
       "      <th>month</th>\n",
       "      <th>gb_used</th>\n",
       "      <th>calls</th>\n",
       "      <th>duration</th>\n",
       "      <th>messages</th>\n",
       "      <th>tariff</th>\n",
       "      <th>city</th>\n",
       "      <th>rest_minutes</th>\n",
       "      <th>rest_sms</th>\n",
       "      <th>rest_gb</th>\n",
       "    </tr>\n",
       "  </thead>\n",
       "  <tbody>\n",
       "    <tr>\n",
       "      <th>0</th>\n",
       "      <td>1000</td>\n",
       "      <td>5</td>\n",
       "      <td>3</td>\n",
       "      <td>22</td>\n",
       "      <td>159</td>\n",
       "      <td>22</td>\n",
       "      <td>ultra</td>\n",
       "      <td>Краснодар</td>\n",
       "      <td>0</td>\n",
       "      <td>0</td>\n",
       "      <td>0.0</td>\n",
       "    </tr>\n",
       "    <tr>\n",
       "      <th>1</th>\n",
       "      <td>1000</td>\n",
       "      <td>6</td>\n",
       "      <td>23</td>\n",
       "      <td>43</td>\n",
       "      <td>172</td>\n",
       "      <td>60</td>\n",
       "      <td>ultra</td>\n",
       "      <td>Краснодар</td>\n",
       "      <td>0</td>\n",
       "      <td>0</td>\n",
       "      <td>0.0</td>\n",
       "    </tr>\n",
       "    <tr>\n",
       "      <th>2</th>\n",
       "      <td>1000</td>\n",
       "      <td>7</td>\n",
       "      <td>14</td>\n",
       "      <td>47</td>\n",
       "      <td>340</td>\n",
       "      <td>75</td>\n",
       "      <td>ultra</td>\n",
       "      <td>Краснодар</td>\n",
       "      <td>0</td>\n",
       "      <td>0</td>\n",
       "      <td>0.0</td>\n",
       "    </tr>\n",
       "    <tr>\n",
       "      <th>3</th>\n",
       "      <td>1000</td>\n",
       "      <td>8</td>\n",
       "      <td>14</td>\n",
       "      <td>52</td>\n",
       "      <td>408</td>\n",
       "      <td>81</td>\n",
       "      <td>ultra</td>\n",
       "      <td>Краснодар</td>\n",
       "      <td>0</td>\n",
       "      <td>0</td>\n",
       "      <td>0.0</td>\n",
       "    </tr>\n",
       "    <tr>\n",
       "      <th>4</th>\n",
       "      <td>1000</td>\n",
       "      <td>9</td>\n",
       "      <td>15</td>\n",
       "      <td>58</td>\n",
       "      <td>466</td>\n",
       "      <td>57</td>\n",
       "      <td>ultra</td>\n",
       "      <td>Краснодар</td>\n",
       "      <td>0</td>\n",
       "      <td>0</td>\n",
       "      <td>0.0</td>\n",
       "    </tr>\n",
       "    <tr>\n",
       "      <th>...</th>\n",
       "      <td>...</td>\n",
       "      <td>...</td>\n",
       "      <td>...</td>\n",
       "      <td>...</td>\n",
       "      <td>...</td>\n",
       "      <td>...</td>\n",
       "      <td>...</td>\n",
       "      <td>...</td>\n",
       "      <td>...</td>\n",
       "      <td>...</td>\n",
       "      <td>...</td>\n",
       "    </tr>\n",
       "    <tr>\n",
       "      <th>3211</th>\n",
       "      <td>1273</td>\n",
       "      <td>10</td>\n",
       "      <td>0</td>\n",
       "      <td>40</td>\n",
       "      <td>315</td>\n",
       "      <td>35</td>\n",
       "      <td>ultra</td>\n",
       "      <td>Курган</td>\n",
       "      <td>0</td>\n",
       "      <td>0</td>\n",
       "      <td>0.0</td>\n",
       "    </tr>\n",
       "    <tr>\n",
       "      <th>3212</th>\n",
       "      <td>1273</td>\n",
       "      <td>11</td>\n",
       "      <td>0</td>\n",
       "      <td>45</td>\n",
       "      <td>272</td>\n",
       "      <td>29</td>\n",
       "      <td>ultra</td>\n",
       "      <td>Курган</td>\n",
       "      <td>0</td>\n",
       "      <td>0</td>\n",
       "      <td>0.0</td>\n",
       "    </tr>\n",
       "    <tr>\n",
       "      <th>3213</th>\n",
       "      <td>1273</td>\n",
       "      <td>12</td>\n",
       "      <td>0</td>\n",
       "      <td>41</td>\n",
       "      <td>260</td>\n",
       "      <td>39</td>\n",
       "      <td>ultra</td>\n",
       "      <td>Курган</td>\n",
       "      <td>0</td>\n",
       "      <td>0</td>\n",
       "      <td>0.0</td>\n",
       "    </tr>\n",
       "    <tr>\n",
       "      <th>3214</th>\n",
       "      <td>1128</td>\n",
       "      <td>0</td>\n",
       "      <td>0</td>\n",
       "      <td>0</td>\n",
       "      <td>0</td>\n",
       "      <td>0</td>\n",
       "      <td>ultra</td>\n",
       "      <td>Волжский</td>\n",
       "      <td>0</td>\n",
       "      <td>0</td>\n",
       "      <td>0.0</td>\n",
       "    </tr>\n",
       "    <tr>\n",
       "      <th>3215</th>\n",
       "      <td>1371</td>\n",
       "      <td>0</td>\n",
       "      <td>0</td>\n",
       "      <td>0</td>\n",
       "      <td>0</td>\n",
       "      <td>0</td>\n",
       "      <td>smart</td>\n",
       "      <td>Омск</td>\n",
       "      <td>0</td>\n",
       "      <td>0</td>\n",
       "      <td>0.0</td>\n",
       "    </tr>\n",
       "  </tbody>\n",
       "</table>\n",
       "<p>3216 rows × 11 columns</p>\n",
       "</div>"
      ],
      "text/plain": [
       "      user_id  month  gb_used  calls  duration  messages tariff       city  \\\n",
       "0        1000      5        3     22       159        22  ultra  Краснодар   \n",
       "1        1000      6       23     43       172        60  ultra  Краснодар   \n",
       "2        1000      7       14     47       340        75  ultra  Краснодар   \n",
       "3        1000      8       14     52       408        81  ultra  Краснодар   \n",
       "4        1000      9       15     58       466        57  ultra  Краснодар   \n",
       "...       ...    ...      ...    ...       ...       ...    ...        ...   \n",
       "3211     1273     10        0     40       315        35  ultra     Курган   \n",
       "3212     1273     11        0     45       272        29  ultra     Курган   \n",
       "3213     1273     12        0     41       260        39  ultra     Курган   \n",
       "3214     1128      0        0      0         0         0  ultra   Волжский   \n",
       "3215     1371      0        0      0         0         0  smart       Омск   \n",
       "\n",
       "      rest_minutes  rest_sms  rest_gb  \n",
       "0                0         0      0.0  \n",
       "1                0         0      0.0  \n",
       "2                0         0      0.0  \n",
       "3                0         0      0.0  \n",
       "4                0         0      0.0  \n",
       "...            ...       ...      ...  \n",
       "3211             0         0      0.0  \n",
       "3212             0         0      0.0  \n",
       "3213             0         0      0.0  \n",
       "3214             0         0      0.0  \n",
       "3215             0         0      0.0  \n",
       "\n",
       "[3216 rows x 11 columns]"
      ]
     },
     "execution_count": 22,
     "metadata": {},
     "output_type": "execute_result"
    }
   ],
   "source": [
    "def rest_gb(row): # напишем функцию для подсчета неоплаченного трафика сверх тарифа\n",
    "    mb_used = row['gb_used']\n",
    "    tariff = row['tariff']\n",
    "    \n",
    "    mb_limit = tariffs[tariffs['tariff']== tariff]['gb_per_month_included'].values[0]\n",
    "    \n",
    "    if mb_used > mb_limit:\n",
    "        return (mb_used-mb_limit)\n",
    "    return 0\n",
    "    \n",
    "data['rest_gb'] = data.apply(rest_gb, axis=1) # применим функцию к датасету\n",
    "data "
   ]
  },
  {
   "cell_type": "markdown",
   "metadata": {},
   "source": [
    "Теперь у нас есть таблица со всеми данными, необходимыми для анализа."
   ]
  },
  {
   "cell_type": "markdown",
   "metadata": {},
   "source": [
    "Посчитаем общую абонентскую плату каждого пользователя по месяцам."
   ]
  },
  {
   "cell_type": "code",
   "execution_count": 23,
   "metadata": {
    "scrolled": true
   },
   "outputs": [
    {
     "data": {
      "text/html": [
       "<div>\n",
       "<style scoped>\n",
       "    .dataframe tbody tr th:only-of-type {\n",
       "        vertical-align: middle;\n",
       "    }\n",
       "\n",
       "    .dataframe tbody tr th {\n",
       "        vertical-align: top;\n",
       "    }\n",
       "\n",
       "    .dataframe thead th {\n",
       "        text-align: right;\n",
       "    }\n",
       "</style>\n",
       "<table border=\"1\" class=\"dataframe\">\n",
       "  <thead>\n",
       "    <tr style=\"text-align: right;\">\n",
       "      <th></th>\n",
       "      <th>user_id</th>\n",
       "      <th>month</th>\n",
       "      <th>gb_used</th>\n",
       "      <th>calls</th>\n",
       "      <th>duration</th>\n",
       "      <th>messages</th>\n",
       "      <th>tariff</th>\n",
       "      <th>city</th>\n",
       "      <th>rest_minutes</th>\n",
       "      <th>rest_sms</th>\n",
       "      <th>rest_gb</th>\n",
       "      <th>income</th>\n",
       "    </tr>\n",
       "  </thead>\n",
       "  <tbody>\n",
       "    <tr>\n",
       "      <th>0</th>\n",
       "      <td>1000</td>\n",
       "      <td>5</td>\n",
       "      <td>3</td>\n",
       "      <td>22</td>\n",
       "      <td>159</td>\n",
       "      <td>22</td>\n",
       "      <td>ultra</td>\n",
       "      <td>Краснодар</td>\n",
       "      <td>0</td>\n",
       "      <td>0</td>\n",
       "      <td>0.0</td>\n",
       "      <td>1950.0</td>\n",
       "    </tr>\n",
       "    <tr>\n",
       "      <th>1</th>\n",
       "      <td>1000</td>\n",
       "      <td>6</td>\n",
       "      <td>23</td>\n",
       "      <td>43</td>\n",
       "      <td>172</td>\n",
       "      <td>60</td>\n",
       "      <td>ultra</td>\n",
       "      <td>Краснодар</td>\n",
       "      <td>0</td>\n",
       "      <td>0</td>\n",
       "      <td>0.0</td>\n",
       "      <td>1950.0</td>\n",
       "    </tr>\n",
       "    <tr>\n",
       "      <th>2</th>\n",
       "      <td>1000</td>\n",
       "      <td>7</td>\n",
       "      <td>14</td>\n",
       "      <td>47</td>\n",
       "      <td>340</td>\n",
       "      <td>75</td>\n",
       "      <td>ultra</td>\n",
       "      <td>Краснодар</td>\n",
       "      <td>0</td>\n",
       "      <td>0</td>\n",
       "      <td>0.0</td>\n",
       "      <td>1950.0</td>\n",
       "    </tr>\n",
       "    <tr>\n",
       "      <th>3</th>\n",
       "      <td>1000</td>\n",
       "      <td>8</td>\n",
       "      <td>14</td>\n",
       "      <td>52</td>\n",
       "      <td>408</td>\n",
       "      <td>81</td>\n",
       "      <td>ultra</td>\n",
       "      <td>Краснодар</td>\n",
       "      <td>0</td>\n",
       "      <td>0</td>\n",
       "      <td>0.0</td>\n",
       "      <td>1950.0</td>\n",
       "    </tr>\n",
       "    <tr>\n",
       "      <th>4</th>\n",
       "      <td>1000</td>\n",
       "      <td>9</td>\n",
       "      <td>15</td>\n",
       "      <td>58</td>\n",
       "      <td>466</td>\n",
       "      <td>57</td>\n",
       "      <td>ultra</td>\n",
       "      <td>Краснодар</td>\n",
       "      <td>0</td>\n",
       "      <td>0</td>\n",
       "      <td>0.0</td>\n",
       "      <td>1950.0</td>\n",
       "    </tr>\n",
       "    <tr>\n",
       "      <th>...</th>\n",
       "      <td>...</td>\n",
       "      <td>...</td>\n",
       "      <td>...</td>\n",
       "      <td>...</td>\n",
       "      <td>...</td>\n",
       "      <td>...</td>\n",
       "      <td>...</td>\n",
       "      <td>...</td>\n",
       "      <td>...</td>\n",
       "      <td>...</td>\n",
       "      <td>...</td>\n",
       "      <td>...</td>\n",
       "    </tr>\n",
       "    <tr>\n",
       "      <th>3211</th>\n",
       "      <td>1273</td>\n",
       "      <td>10</td>\n",
       "      <td>0</td>\n",
       "      <td>40</td>\n",
       "      <td>315</td>\n",
       "      <td>35</td>\n",
       "      <td>ultra</td>\n",
       "      <td>Курган</td>\n",
       "      <td>0</td>\n",
       "      <td>0</td>\n",
       "      <td>0.0</td>\n",
       "      <td>1950.0</td>\n",
       "    </tr>\n",
       "    <tr>\n",
       "      <th>3212</th>\n",
       "      <td>1273</td>\n",
       "      <td>11</td>\n",
       "      <td>0</td>\n",
       "      <td>45</td>\n",
       "      <td>272</td>\n",
       "      <td>29</td>\n",
       "      <td>ultra</td>\n",
       "      <td>Курган</td>\n",
       "      <td>0</td>\n",
       "      <td>0</td>\n",
       "      <td>0.0</td>\n",
       "      <td>1950.0</td>\n",
       "    </tr>\n",
       "    <tr>\n",
       "      <th>3213</th>\n",
       "      <td>1273</td>\n",
       "      <td>12</td>\n",
       "      <td>0</td>\n",
       "      <td>41</td>\n",
       "      <td>260</td>\n",
       "      <td>39</td>\n",
       "      <td>ultra</td>\n",
       "      <td>Курган</td>\n",
       "      <td>0</td>\n",
       "      <td>0</td>\n",
       "      <td>0.0</td>\n",
       "      <td>1950.0</td>\n",
       "    </tr>\n",
       "    <tr>\n",
       "      <th>3214</th>\n",
       "      <td>1128</td>\n",
       "      <td>0</td>\n",
       "      <td>0</td>\n",
       "      <td>0</td>\n",
       "      <td>0</td>\n",
       "      <td>0</td>\n",
       "      <td>ultra</td>\n",
       "      <td>Волжский</td>\n",
       "      <td>0</td>\n",
       "      <td>0</td>\n",
       "      <td>0.0</td>\n",
       "      <td>1950.0</td>\n",
       "    </tr>\n",
       "    <tr>\n",
       "      <th>3215</th>\n",
       "      <td>1371</td>\n",
       "      <td>0</td>\n",
       "      <td>0</td>\n",
       "      <td>0</td>\n",
       "      <td>0</td>\n",
       "      <td>0</td>\n",
       "      <td>smart</td>\n",
       "      <td>Омск</td>\n",
       "      <td>0</td>\n",
       "      <td>0</td>\n",
       "      <td>0.0</td>\n",
       "      <td>550.0</td>\n",
       "    </tr>\n",
       "  </tbody>\n",
       "</table>\n",
       "<p>3216 rows × 12 columns</p>\n",
       "</div>"
      ],
      "text/plain": [
       "      user_id  month  gb_used  calls  duration  messages tariff       city  \\\n",
       "0        1000      5        3     22       159        22  ultra  Краснодар   \n",
       "1        1000      6       23     43       172        60  ultra  Краснодар   \n",
       "2        1000      7       14     47       340        75  ultra  Краснодар   \n",
       "3        1000      8       14     52       408        81  ultra  Краснодар   \n",
       "4        1000      9       15     58       466        57  ultra  Краснодар   \n",
       "...       ...    ...      ...    ...       ...       ...    ...        ...   \n",
       "3211     1273     10        0     40       315        35  ultra     Курган   \n",
       "3212     1273     11        0     45       272        29  ultra     Курган   \n",
       "3213     1273     12        0     41       260        39  ultra     Курган   \n",
       "3214     1128      0        0      0         0         0  ultra   Волжский   \n",
       "3215     1371      0        0      0         0         0  smart       Омск   \n",
       "\n",
       "      rest_minutes  rest_sms  rest_gb  income  \n",
       "0                0         0      0.0  1950.0  \n",
       "1                0         0      0.0  1950.0  \n",
       "2                0         0      0.0  1950.0  \n",
       "3                0         0      0.0  1950.0  \n",
       "4                0         0      0.0  1950.0  \n",
       "...            ...       ...      ...     ...  \n",
       "3211             0         0      0.0  1950.0  \n",
       "3212             0         0      0.0  1950.0  \n",
       "3213             0         0      0.0  1950.0  \n",
       "3214             0         0      0.0  1950.0  \n",
       "3215             0         0      0.0   550.0  \n",
       "\n",
       "[3216 rows x 12 columns]"
      ]
     },
     "execution_count": 23,
     "metadata": {},
     "output_type": "execute_result"
    }
   ],
   "source": [
    "def money(row):\n",
    "    tariff = row['tariff']\n",
    "    rest_minutes = row['rest_minutes']\n",
    "    rest_sms = row['rest_sms']\n",
    "    rest_gb = row['rest_gb']\n",
    "    if tariff == 'smart':\n",
    "        return rest_minutes*3 + rest_sms*3 + rest_gb*200 + 550\n",
    "    return rest_minutes*1 + rest_sms*1 + rest_gb*150 + 1950\n",
    "data['income'] = data.apply(money, axis=1)\n",
    "data"
   ]
  },
  {
   "cell_type": "markdown",
   "metadata": {},
   "source": [
    "Добравим в таблицу дополниьельный столбец в котором будет либо Москва либо другой регион. Это понадобится нам в дальнейшем исследовании."
   ]
  },
  {
   "cell_type": "code",
   "execution_count": 24,
   "metadata": {
    "scrolled": true
   },
   "outputs": [
    {
     "data": {
      "text/html": [
       "<div>\n",
       "<style scoped>\n",
       "    .dataframe tbody tr th:only-of-type {\n",
       "        vertical-align: middle;\n",
       "    }\n",
       "\n",
       "    .dataframe tbody tr th {\n",
       "        vertical-align: top;\n",
       "    }\n",
       "\n",
       "    .dataframe thead th {\n",
       "        text-align: right;\n",
       "    }\n",
       "</style>\n",
       "<table border=\"1\" class=\"dataframe\">\n",
       "  <thead>\n",
       "    <tr style=\"text-align: right;\">\n",
       "      <th></th>\n",
       "      <th>user_id</th>\n",
       "      <th>month</th>\n",
       "      <th>gb_used</th>\n",
       "      <th>calls</th>\n",
       "      <th>duration</th>\n",
       "      <th>messages</th>\n",
       "      <th>tariff</th>\n",
       "      <th>city</th>\n",
       "      <th>rest_minutes</th>\n",
       "      <th>rest_sms</th>\n",
       "      <th>rest_gb</th>\n",
       "      <th>income</th>\n",
       "      <th>moscow_or_not</th>\n",
       "    </tr>\n",
       "  </thead>\n",
       "  <tbody>\n",
       "    <tr>\n",
       "      <th>0</th>\n",
       "      <td>1000</td>\n",
       "      <td>5</td>\n",
       "      <td>3</td>\n",
       "      <td>22</td>\n",
       "      <td>159</td>\n",
       "      <td>22</td>\n",
       "      <td>ultra</td>\n",
       "      <td>Краснодар</td>\n",
       "      <td>0</td>\n",
       "      <td>0</td>\n",
       "      <td>0.0</td>\n",
       "      <td>1950.0</td>\n",
       "      <td>Другой регион</td>\n",
       "    </tr>\n",
       "    <tr>\n",
       "      <th>1</th>\n",
       "      <td>1000</td>\n",
       "      <td>6</td>\n",
       "      <td>23</td>\n",
       "      <td>43</td>\n",
       "      <td>172</td>\n",
       "      <td>60</td>\n",
       "      <td>ultra</td>\n",
       "      <td>Краснодар</td>\n",
       "      <td>0</td>\n",
       "      <td>0</td>\n",
       "      <td>0.0</td>\n",
       "      <td>1950.0</td>\n",
       "      <td>Другой регион</td>\n",
       "    </tr>\n",
       "    <tr>\n",
       "      <th>2</th>\n",
       "      <td>1000</td>\n",
       "      <td>7</td>\n",
       "      <td>14</td>\n",
       "      <td>47</td>\n",
       "      <td>340</td>\n",
       "      <td>75</td>\n",
       "      <td>ultra</td>\n",
       "      <td>Краснодар</td>\n",
       "      <td>0</td>\n",
       "      <td>0</td>\n",
       "      <td>0.0</td>\n",
       "      <td>1950.0</td>\n",
       "      <td>Другой регион</td>\n",
       "    </tr>\n",
       "    <tr>\n",
       "      <th>3</th>\n",
       "      <td>1000</td>\n",
       "      <td>8</td>\n",
       "      <td>14</td>\n",
       "      <td>52</td>\n",
       "      <td>408</td>\n",
       "      <td>81</td>\n",
       "      <td>ultra</td>\n",
       "      <td>Краснодар</td>\n",
       "      <td>0</td>\n",
       "      <td>0</td>\n",
       "      <td>0.0</td>\n",
       "      <td>1950.0</td>\n",
       "      <td>Другой регион</td>\n",
       "    </tr>\n",
       "    <tr>\n",
       "      <th>4</th>\n",
       "      <td>1000</td>\n",
       "      <td>9</td>\n",
       "      <td>15</td>\n",
       "      <td>58</td>\n",
       "      <td>466</td>\n",
       "      <td>57</td>\n",
       "      <td>ultra</td>\n",
       "      <td>Краснодар</td>\n",
       "      <td>0</td>\n",
       "      <td>0</td>\n",
       "      <td>0.0</td>\n",
       "      <td>1950.0</td>\n",
       "      <td>Другой регион</td>\n",
       "    </tr>\n",
       "    <tr>\n",
       "      <th>...</th>\n",
       "      <td>...</td>\n",
       "      <td>...</td>\n",
       "      <td>...</td>\n",
       "      <td>...</td>\n",
       "      <td>...</td>\n",
       "      <td>...</td>\n",
       "      <td>...</td>\n",
       "      <td>...</td>\n",
       "      <td>...</td>\n",
       "      <td>...</td>\n",
       "      <td>...</td>\n",
       "      <td>...</td>\n",
       "      <td>...</td>\n",
       "    </tr>\n",
       "    <tr>\n",
       "      <th>3211</th>\n",
       "      <td>1273</td>\n",
       "      <td>10</td>\n",
       "      <td>0</td>\n",
       "      <td>40</td>\n",
       "      <td>315</td>\n",
       "      <td>35</td>\n",
       "      <td>ultra</td>\n",
       "      <td>Курган</td>\n",
       "      <td>0</td>\n",
       "      <td>0</td>\n",
       "      <td>0.0</td>\n",
       "      <td>1950.0</td>\n",
       "      <td>Другой регион</td>\n",
       "    </tr>\n",
       "    <tr>\n",
       "      <th>3212</th>\n",
       "      <td>1273</td>\n",
       "      <td>11</td>\n",
       "      <td>0</td>\n",
       "      <td>45</td>\n",
       "      <td>272</td>\n",
       "      <td>29</td>\n",
       "      <td>ultra</td>\n",
       "      <td>Курган</td>\n",
       "      <td>0</td>\n",
       "      <td>0</td>\n",
       "      <td>0.0</td>\n",
       "      <td>1950.0</td>\n",
       "      <td>Другой регион</td>\n",
       "    </tr>\n",
       "    <tr>\n",
       "      <th>3213</th>\n",
       "      <td>1273</td>\n",
       "      <td>12</td>\n",
       "      <td>0</td>\n",
       "      <td>41</td>\n",
       "      <td>260</td>\n",
       "      <td>39</td>\n",
       "      <td>ultra</td>\n",
       "      <td>Курган</td>\n",
       "      <td>0</td>\n",
       "      <td>0</td>\n",
       "      <td>0.0</td>\n",
       "      <td>1950.0</td>\n",
       "      <td>Другой регион</td>\n",
       "    </tr>\n",
       "    <tr>\n",
       "      <th>3214</th>\n",
       "      <td>1128</td>\n",
       "      <td>0</td>\n",
       "      <td>0</td>\n",
       "      <td>0</td>\n",
       "      <td>0</td>\n",
       "      <td>0</td>\n",
       "      <td>ultra</td>\n",
       "      <td>Волжский</td>\n",
       "      <td>0</td>\n",
       "      <td>0</td>\n",
       "      <td>0.0</td>\n",
       "      <td>1950.0</td>\n",
       "      <td>Другой регион</td>\n",
       "    </tr>\n",
       "    <tr>\n",
       "      <th>3215</th>\n",
       "      <td>1371</td>\n",
       "      <td>0</td>\n",
       "      <td>0</td>\n",
       "      <td>0</td>\n",
       "      <td>0</td>\n",
       "      <td>0</td>\n",
       "      <td>smart</td>\n",
       "      <td>Омск</td>\n",
       "      <td>0</td>\n",
       "      <td>0</td>\n",
       "      <td>0.0</td>\n",
       "      <td>550.0</td>\n",
       "      <td>Другой регион</td>\n",
       "    </tr>\n",
       "  </tbody>\n",
       "</table>\n",
       "<p>3216 rows × 13 columns</p>\n",
       "</div>"
      ],
      "text/plain": [
       "      user_id  month  gb_used  calls  duration  messages tariff       city  \\\n",
       "0        1000      5        3     22       159        22  ultra  Краснодар   \n",
       "1        1000      6       23     43       172        60  ultra  Краснодар   \n",
       "2        1000      7       14     47       340        75  ultra  Краснодар   \n",
       "3        1000      8       14     52       408        81  ultra  Краснодар   \n",
       "4        1000      9       15     58       466        57  ultra  Краснодар   \n",
       "...       ...    ...      ...    ...       ...       ...    ...        ...   \n",
       "3211     1273     10        0     40       315        35  ultra     Курган   \n",
       "3212     1273     11        0     45       272        29  ultra     Курган   \n",
       "3213     1273     12        0     41       260        39  ultra     Курган   \n",
       "3214     1128      0        0      0         0         0  ultra   Волжский   \n",
       "3215     1371      0        0      0         0         0  smart       Омск   \n",
       "\n",
       "      rest_minutes  rest_sms  rest_gb  income  moscow_or_not  \n",
       "0                0         0      0.0  1950.0  Другой регион  \n",
       "1                0         0      0.0  1950.0  Другой регион  \n",
       "2                0         0      0.0  1950.0  Другой регион  \n",
       "3                0         0      0.0  1950.0  Другой регион  \n",
       "4                0         0      0.0  1950.0  Другой регион  \n",
       "...            ...       ...      ...     ...            ...  \n",
       "3211             0         0      0.0  1950.0  Другой регион  \n",
       "3212             0         0      0.0  1950.0  Другой регион  \n",
       "3213             0         0      0.0  1950.0  Другой регион  \n",
       "3214             0         0      0.0  1950.0  Другой регион  \n",
       "3215             0         0      0.0   550.0  Другой регион  \n",
       "\n",
       "[3216 rows x 13 columns]"
      ]
     },
     "execution_count": 24,
     "metadata": {},
     "output_type": "execute_result"
    }
   ],
   "source": [
    "def moscow(row): # напишем функцию\n",
    "    city = row['city']\n",
    "    if city == 'Москва':\n",
    "        return 'Москва'\n",
    "    return 'Другой регион'\n",
    "data['moscow_or_not'] = data.apply(moscow, axis=1)\n",
    "data"
   ]
  },
  {
   "cell_type": "markdown",
   "metadata": {},
   "source": [
    "[Содержание](#0)"
   ]
  },
  {
   "cell_type": "markdown",
   "metadata": {},
   "source": [
    "## Анализ и визуализация полученных данных\n",
    "<a id=4> </a>"
   ]
  },
  {
   "cell_type": "markdown",
   "metadata": {},
   "source": [
    "Посмотрим на общее описание данных."
   ]
  },
  {
   "cell_type": "code",
   "execution_count": 25,
   "metadata": {},
   "outputs": [
    {
     "data": {
      "text/plain": [
       "count    3216.000000\n",
       "mean     1528.902674\n",
       "std       798.224060\n",
       "min       550.000000\n",
       "25%       750.000000\n",
       "50%      1653.500000\n",
       "75%      1950.000000\n",
       "max      6770.000000\n",
       "Name: income, dtype: float64"
      ]
     },
     "execution_count": 25,
     "metadata": {},
     "output_type": "execute_result"
    }
   ],
   "source": [
    "data['income'].describe() # выведем информацию о столбце с прибылью от каждого пользователя"
   ]
  },
  {
   "cell_type": "markdown",
   "metadata": {},
   "source": [
    "В среднем пользователи тратят на связь 1456 р в месяц, минимум - наш тириф 'Smart' или 550 р, а максимум - 6617 р. Для кого-то связь очень важна. Медианное значение близко к среднему - 1550, величина стандартного отклонения - 777 р, что говорит нам о том, что поведение одних пользователей очень сильно отличается от поведения других. Так же найдем дисперсию."
   ]
  },
  {
   "cell_type": "code",
   "execution_count": 26,
   "metadata": {},
   "outputs": [
    {
     "data": {
      "text/plain": [
       "637161.6505558328"
      ]
     },
     "metadata": {},
     "output_type": "display_data"
    },
    {
     "data": {
      "text/plain": [
       "798.0999487232492"
      ]
     },
     "execution_count": 26,
     "metadata": {},
     "output_type": "execute_result"
    }
   ],
   "source": [
    "display(np.var(data['income'], ddof=1)) # найдем дисперсию\n",
    "np.sqrt(np.var(data['income'])) # корень из дисперсии = стандартному отклонению"
   ]
  },
  {
   "cell_type": "markdown",
   "metadata": {},
   "source": [
    "Для отображения наших данных нарисуем диаграмму ящика с усами, которая покажет нам все те же данные. Но по ней видно, что например значения больше 4000 - можно признать выбросами."
   ]
  },
  {
   "cell_type": "code",
   "execution_count": 45,
   "metadata": {},
   "outputs": [
    {
     "data": {
      "image/png": "[encoded data removed]",
      "text/plain": [
       "<Figure size 432x288 with 1 Axes>"
      ]
     },
     "metadata": {
      "needs_background": "light"
     },
     "output_type": "display_data"
    }
   ],
   "source": [
    "sns.boxplot(x=data['income'])\n",
    "plt.title('Средняя прибыль')\n",
    "plt.xlabel('');"
   ]
  },
  {
   "cell_type": "markdown",
   "metadata": {},
   "source": [
    "А еще можно нарисовать тот же график с распределением прибыли по месяцам, и судя по нему - в декабре люди тратят больше всего денег на связь, а в январе - меньше всего. По всей видимости это связано с предновогодней лихорадкой и сезоном отпусков."
   ]
  },
  {
   "cell_type": "code",
   "execution_count": 46,
   "metadata": {
    "scrolled": true
   },
   "outputs": [
    {
     "data": {
      "image/png": "[encoded data removed]",
      "text/plain": [
       "<Figure size 432x288 with 1 Axes>"
      ]
     },
     "metadata": {
      "needs_background": "light"
     },
     "output_type": "display_data"
    }
   ],
   "source": [
    "sns.boxplot(x=\"month\", y=\"income\", data=data)\n",
    "plt.title('Средняя прибыль с разбивкой по месяцам')\n",
    "plt.xlabel('Месяц')\n",
    "plt.ylabel('');"
   ]
  },
  {
   "cell_type": "code",
   "execution_count": 29,
   "metadata": {
    "scrolled": true
   },
   "outputs": [
    {
     "data": {
      "text/html": [
       "<div>\n",
       "<style scoped>\n",
       "    .dataframe tbody tr th:only-of-type {\n",
       "        vertical-align: middle;\n",
       "    }\n",
       "\n",
       "    .dataframe tbody tr th {\n",
       "        vertical-align: top;\n",
       "    }\n",
       "\n",
       "    .dataframe thead th {\n",
       "        text-align: right;\n",
       "    }\n",
       "</style>\n",
       "<table border=\"1\" class=\"dataframe\">\n",
       "  <thead>\n",
       "    <tr style=\"text-align: right;\">\n",
       "      <th></th>\n",
       "      <th>user_id</th>\n",
       "      <th>month</th>\n",
       "      <th>tariff</th>\n",
       "      <th>city</th>\n",
       "      <th>duration</th>\n",
       "      <th>gb_used</th>\n",
       "      <th>income</th>\n",
       "      <th>messages</th>\n",
       "    </tr>\n",
       "  </thead>\n",
       "  <tbody>\n",
       "    <tr>\n",
       "      <th>0</th>\n",
       "      <td>1000</td>\n",
       "      <td>5</td>\n",
       "      <td>ultra</td>\n",
       "      <td>Краснодар</td>\n",
       "      <td>159</td>\n",
       "      <td>3</td>\n",
       "      <td>1950.0</td>\n",
       "      <td>22</td>\n",
       "    </tr>\n",
       "    <tr>\n",
       "      <th>1</th>\n",
       "      <td>1000</td>\n",
       "      <td>6</td>\n",
       "      <td>ultra</td>\n",
       "      <td>Краснодар</td>\n",
       "      <td>172</td>\n",
       "      <td>23</td>\n",
       "      <td>1950.0</td>\n",
       "      <td>60</td>\n",
       "    </tr>\n",
       "    <tr>\n",
       "      <th>2</th>\n",
       "      <td>1000</td>\n",
       "      <td>7</td>\n",
       "      <td>ultra</td>\n",
       "      <td>Краснодар</td>\n",
       "      <td>340</td>\n",
       "      <td>14</td>\n",
       "      <td>1950.0</td>\n",
       "      <td>75</td>\n",
       "    </tr>\n",
       "    <tr>\n",
       "      <th>3</th>\n",
       "      <td>1000</td>\n",
       "      <td>8</td>\n",
       "      <td>ultra</td>\n",
       "      <td>Краснодар</td>\n",
       "      <td>408</td>\n",
       "      <td>14</td>\n",
       "      <td>1950.0</td>\n",
       "      <td>81</td>\n",
       "    </tr>\n",
       "    <tr>\n",
       "      <th>4</th>\n",
       "      <td>1000</td>\n",
       "      <td>9</td>\n",
       "      <td>ultra</td>\n",
       "      <td>Краснодар</td>\n",
       "      <td>466</td>\n",
       "      <td>15</td>\n",
       "      <td>1950.0</td>\n",
       "      <td>57</td>\n",
       "    </tr>\n",
       "    <tr>\n",
       "      <th>...</th>\n",
       "      <td>...</td>\n",
       "      <td>...</td>\n",
       "      <td>...</td>\n",
       "      <td>...</td>\n",
       "      <td>...</td>\n",
       "      <td>...</td>\n",
       "      <td>...</td>\n",
       "      <td>...</td>\n",
       "    </tr>\n",
       "    <tr>\n",
       "      <th>3211</th>\n",
       "      <td>1498</td>\n",
       "      <td>10</td>\n",
       "      <td>smart</td>\n",
       "      <td>Владикавказ</td>\n",
       "      <td>247</td>\n",
       "      <td>21</td>\n",
       "      <td>1750.0</td>\n",
       "      <td>42</td>\n",
       "    </tr>\n",
       "    <tr>\n",
       "      <th>3212</th>\n",
       "      <td>1499</td>\n",
       "      <td>9</td>\n",
       "      <td>smart</td>\n",
       "      <td>Пермь</td>\n",
       "      <td>70</td>\n",
       "      <td>2</td>\n",
       "      <td>550.0</td>\n",
       "      <td>11</td>\n",
       "    </tr>\n",
       "    <tr>\n",
       "      <th>3213</th>\n",
       "      <td>1499</td>\n",
       "      <td>10</td>\n",
       "      <td>smart</td>\n",
       "      <td>Пермь</td>\n",
       "      <td>449</td>\n",
       "      <td>18</td>\n",
       "      <td>1150.0</td>\n",
       "      <td>48</td>\n",
       "    </tr>\n",
       "    <tr>\n",
       "      <th>3214</th>\n",
       "      <td>1499</td>\n",
       "      <td>11</td>\n",
       "      <td>smart</td>\n",
       "      <td>Пермь</td>\n",
       "      <td>612</td>\n",
       "      <td>18</td>\n",
       "      <td>1513.0</td>\n",
       "      <td>59</td>\n",
       "    </tr>\n",
       "    <tr>\n",
       "      <th>3215</th>\n",
       "      <td>1499</td>\n",
       "      <td>12</td>\n",
       "      <td>smart</td>\n",
       "      <td>Пермь</td>\n",
       "      <td>492</td>\n",
       "      <td>13</td>\n",
       "      <td>598.0</td>\n",
       "      <td>66</td>\n",
       "    </tr>\n",
       "  </tbody>\n",
       "</table>\n",
       "<p>3216 rows × 8 columns</p>\n",
       "</div>"
      ],
      "text/plain": [
       "      user_id  month tariff         city  duration  gb_used  income  messages\n",
       "0        1000      5  ultra    Краснодар       159        3  1950.0        22\n",
       "1        1000      6  ultra    Краснодар       172       23  1950.0        60\n",
       "2        1000      7  ultra    Краснодар       340       14  1950.0        75\n",
       "3        1000      8  ultra    Краснодар       408       14  1950.0        81\n",
       "4        1000      9  ultra    Краснодар       466       15  1950.0        57\n",
       "...       ...    ...    ...          ...       ...      ...     ...       ...\n",
       "3211     1498     10  smart  Владикавказ       247       21  1750.0        42\n",
       "3212     1499      9  smart        Пермь        70        2   550.0        11\n",
       "3213     1499     10  smart        Пермь       449       18  1150.0        48\n",
       "3214     1499     11  smart        Пермь       612       18  1513.0        59\n",
       "3215     1499     12  smart        Пермь       492       13   598.0        66\n",
       "\n",
       "[3216 rows x 8 columns]"
      ]
     },
     "execution_count": 29,
     "metadata": {},
     "output_type": "execute_result"
    }
   ],
   "source": [
    "data_pivot = data.pivot_table(index=['user_id', 'month', 'tariff', 'city'], values = ['duration', 'messages', 'gb_used', 'income'], aggfunc='mean').reset_index()\n",
    "data_pivot"
   ]
  },
  {
   "cell_type": "code",
   "execution_count": 30,
   "metadata": {
    "scrolled": false
   },
   "outputs": [
    {
     "data": {
      "image/png": "[encoded data removed]",
      "text/plain": [
       "<Figure size 432x288 with 1 Axes>"
      ]
     },
     "metadata": {
      "needs_background": "light"
     },
     "output_type": "display_data"
    }
   ],
   "source": [
    "sns.histplot(data=data, x='income', hue= 'tariff', bins=30)\n",
    "plt.title('Средняя прибыль от продаж двух тарифов')\n",
    "plt.show()"
   ]
  },
  {
   "cell_type": "markdown",
   "metadata": {},
   "source": [
    "Видим, что в среднем люди не выходят за пределы своего тарифа - большая часть выбросов в районе стоимости тарифа. То есть это и не выбросы вовсе - большой чести пользователей хватает их тарифов и они не тратят больше минут, смс и интернета.  \n",
    "По гистограмме распределения так же видно, что владельцы тарифа Smart в целом \"объемнее\", то есть приносят компании много небольших прибылей, но владельцы Ultra берут абанентской платой и большим объемом интернет-трафика, за счет чего среднее все-таки на стороне Ultra."
   ]
  },
  {
   "cell_type": "markdown",
   "metadata": {},
   "source": [
    "Разделим изначальную таблицу data, в которую мы собирали все даннве на две по тарифам."
   ]
  },
  {
   "cell_type": "code",
   "execution_count": 31,
   "metadata": {
    "scrolled": true
   },
   "outputs": [
    {
     "data": {
      "text/html": [
       "<div>\n",
       "<style scoped>\n",
       "    .dataframe tbody tr th:only-of-type {\n",
       "        vertical-align: middle;\n",
       "    }\n",
       "\n",
       "    .dataframe tbody tr th {\n",
       "        vertical-align: top;\n",
       "    }\n",
       "\n",
       "    .dataframe thead th {\n",
       "        text-align: right;\n",
       "    }\n",
       "</style>\n",
       "<table border=\"1\" class=\"dataframe\">\n",
       "  <thead>\n",
       "    <tr style=\"text-align: right;\">\n",
       "      <th></th>\n",
       "      <th>user_id</th>\n",
       "      <th>month</th>\n",
       "      <th>gb_used</th>\n",
       "      <th>calls</th>\n",
       "      <th>duration</th>\n",
       "      <th>messages</th>\n",
       "      <th>tariff</th>\n",
       "      <th>city</th>\n",
       "      <th>rest_minutes</th>\n",
       "      <th>rest_sms</th>\n",
       "      <th>rest_gb</th>\n",
       "      <th>income</th>\n",
       "      <th>moscow_or_not</th>\n",
       "    </tr>\n",
       "  </thead>\n",
       "  <tbody>\n",
       "    <tr>\n",
       "      <th>8</th>\n",
       "      <td>1001</td>\n",
       "      <td>11</td>\n",
       "      <td>18</td>\n",
       "      <td>59</td>\n",
       "      <td>430</td>\n",
       "      <td>0</td>\n",
       "      <td>smart</td>\n",
       "      <td>Москва</td>\n",
       "      <td>0</td>\n",
       "      <td>0</td>\n",
       "      <td>3.0</td>\n",
       "      <td>1150.0</td>\n",
       "      <td>Москва</td>\n",
       "    </tr>\n",
       "    <tr>\n",
       "      <th>9</th>\n",
       "      <td>1001</td>\n",
       "      <td>12</td>\n",
       "      <td>14</td>\n",
       "      <td>63</td>\n",
       "      <td>414</td>\n",
       "      <td>0</td>\n",
       "      <td>smart</td>\n",
       "      <td>Москва</td>\n",
       "      <td>0</td>\n",
       "      <td>0</td>\n",
       "      <td>0.0</td>\n",
       "      <td>550.0</td>\n",
       "      <td>Москва</td>\n",
       "    </tr>\n",
       "    <tr>\n",
       "      <th>10</th>\n",
       "      <td>1002</td>\n",
       "      <td>6</td>\n",
       "      <td>11</td>\n",
       "      <td>15</td>\n",
       "      <td>117</td>\n",
       "      <td>4</td>\n",
       "      <td>smart</td>\n",
       "      <td>Стерлитамак</td>\n",
       "      <td>0</td>\n",
       "      <td>0</td>\n",
       "      <td>0.0</td>\n",
       "      <td>550.0</td>\n",
       "      <td>Другой регион</td>\n",
       "    </tr>\n",
       "    <tr>\n",
       "      <th>11</th>\n",
       "      <td>1002</td>\n",
       "      <td>7</td>\n",
       "      <td>18</td>\n",
       "      <td>26</td>\n",
       "      <td>214</td>\n",
       "      <td>11</td>\n",
       "      <td>smart</td>\n",
       "      <td>Стерлитамак</td>\n",
       "      <td>0</td>\n",
       "      <td>0</td>\n",
       "      <td>3.0</td>\n",
       "      <td>1150.0</td>\n",
       "      <td>Другой регион</td>\n",
       "    </tr>\n",
       "    <tr>\n",
       "      <th>12</th>\n",
       "      <td>1002</td>\n",
       "      <td>8</td>\n",
       "      <td>20</td>\n",
       "      <td>42</td>\n",
       "      <td>289</td>\n",
       "      <td>13</td>\n",
       "      <td>smart</td>\n",
       "      <td>Стерлитамак</td>\n",
       "      <td>0</td>\n",
       "      <td>0</td>\n",
       "      <td>5.0</td>\n",
       "      <td>1550.0</td>\n",
       "      <td>Другой регион</td>\n",
       "    </tr>\n",
       "    <tr>\n",
       "      <th>...</th>\n",
       "      <td>...</td>\n",
       "      <td>...</td>\n",
       "      <td>...</td>\n",
       "      <td>...</td>\n",
       "      <td>...</td>\n",
       "      <td>...</td>\n",
       "      <td>...</td>\n",
       "      <td>...</td>\n",
       "      <td>...</td>\n",
       "      <td>...</td>\n",
       "      <td>...</td>\n",
       "      <td>...</td>\n",
       "      <td>...</td>\n",
       "    </tr>\n",
       "    <tr>\n",
       "      <th>3202</th>\n",
       "      <td>1499</td>\n",
       "      <td>9</td>\n",
       "      <td>2</td>\n",
       "      <td>9</td>\n",
       "      <td>70</td>\n",
       "      <td>11</td>\n",
       "      <td>smart</td>\n",
       "      <td>Пермь</td>\n",
       "      <td>0</td>\n",
       "      <td>0</td>\n",
       "      <td>0.0</td>\n",
       "      <td>550.0</td>\n",
       "      <td>Другой регион</td>\n",
       "    </tr>\n",
       "    <tr>\n",
       "      <th>3203</th>\n",
       "      <td>1499</td>\n",
       "      <td>10</td>\n",
       "      <td>18</td>\n",
       "      <td>68</td>\n",
       "      <td>449</td>\n",
       "      <td>48</td>\n",
       "      <td>smart</td>\n",
       "      <td>Пермь</td>\n",
       "      <td>0</td>\n",
       "      <td>0</td>\n",
       "      <td>3.0</td>\n",
       "      <td>1150.0</td>\n",
       "      <td>Другой регион</td>\n",
       "    </tr>\n",
       "    <tr>\n",
       "      <th>3204</th>\n",
       "      <td>1499</td>\n",
       "      <td>11</td>\n",
       "      <td>18</td>\n",
       "      <td>74</td>\n",
       "      <td>612</td>\n",
       "      <td>59</td>\n",
       "      <td>smart</td>\n",
       "      <td>Пермь</td>\n",
       "      <td>112</td>\n",
       "      <td>9</td>\n",
       "      <td>3.0</td>\n",
       "      <td>1513.0</td>\n",
       "      <td>Другой регион</td>\n",
       "    </tr>\n",
       "    <tr>\n",
       "      <th>3205</th>\n",
       "      <td>1499</td>\n",
       "      <td>12</td>\n",
       "      <td>13</td>\n",
       "      <td>69</td>\n",
       "      <td>492</td>\n",
       "      <td>66</td>\n",
       "      <td>smart</td>\n",
       "      <td>Пермь</td>\n",
       "      <td>0</td>\n",
       "      <td>16</td>\n",
       "      <td>0.0</td>\n",
       "      <td>598.0</td>\n",
       "      <td>Другой регион</td>\n",
       "    </tr>\n",
       "    <tr>\n",
       "      <th>3215</th>\n",
       "      <td>1371</td>\n",
       "      <td>0</td>\n",
       "      <td>0</td>\n",
       "      <td>0</td>\n",
       "      <td>0</td>\n",
       "      <td>0</td>\n",
       "      <td>smart</td>\n",
       "      <td>Омск</td>\n",
       "      <td>0</td>\n",
       "      <td>0</td>\n",
       "      <td>0.0</td>\n",
       "      <td>550.0</td>\n",
       "      <td>Другой регион</td>\n",
       "    </tr>\n",
       "  </tbody>\n",
       "</table>\n",
       "<p>2230 rows × 13 columns</p>\n",
       "</div>"
      ],
      "text/plain": [
       "      user_id  month  gb_used  calls  duration  messages tariff         city  \\\n",
       "8        1001     11       18     59       430         0  smart       Москва   \n",
       "9        1001     12       14     63       414         0  smart       Москва   \n",
       "10       1002      6       11     15       117         4  smart  Стерлитамак   \n",
       "11       1002      7       18     26       214        11  smart  Стерлитамак   \n",
       "12       1002      8       20     42       289        13  smart  Стерлитамак   \n",
       "...       ...    ...      ...    ...       ...       ...    ...          ...   \n",
       "3202     1499      9        2      9        70        11  smart        Пермь   \n",
       "3203     1499     10       18     68       449        48  smart        Пермь   \n",
       "3204     1499     11       18     74       612        59  smart        Пермь   \n",
       "3205     1499     12       13     69       492        66  smart        Пермь   \n",
       "3215     1371      0        0      0         0         0  smart         Омск   \n",
       "\n",
       "      rest_minutes  rest_sms  rest_gb  income  moscow_or_not  \n",
       "8                0         0      3.0  1150.0         Москва  \n",
       "9                0         0      0.0   550.0         Москва  \n",
       "10               0         0      0.0   550.0  Другой регион  \n",
       "11               0         0      3.0  1150.0  Другой регион  \n",
       "12               0         0      5.0  1550.0  Другой регион  \n",
       "...            ...       ...      ...     ...            ...  \n",
       "3202             0         0      0.0   550.0  Другой регион  \n",
       "3203             0         0      3.0  1150.0  Другой регион  \n",
       "3204           112         9      3.0  1513.0  Другой регион  \n",
       "3205             0        16      0.0   598.0  Другой регион  \n",
       "3215             0         0      0.0   550.0  Другой регион  \n",
       "\n",
       "[2230 rows x 13 columns]"
      ]
     },
     "execution_count": 31,
     "metadata": {},
     "output_type": "execute_result"
    }
   ],
   "source": [
    "data_smart = data.query('tariff == \"smart\"') # отфильтруем по названию тарифа\n",
    "\n",
    "data_smart"
   ]
  },
  {
   "cell_type": "code",
   "execution_count": 32,
   "metadata": {
    "scrolled": true
   },
   "outputs": [
    {
     "data": {
      "text/html": [
       "<div>\n",
       "<style scoped>\n",
       "    .dataframe tbody tr th:only-of-type {\n",
       "        vertical-align: middle;\n",
       "    }\n",
       "\n",
       "    .dataframe tbody tr th {\n",
       "        vertical-align: top;\n",
       "    }\n",
       "\n",
       "    .dataframe thead th {\n",
       "        text-align: right;\n",
       "    }\n",
       "</style>\n",
       "<table border=\"1\" class=\"dataframe\">\n",
       "  <thead>\n",
       "    <tr style=\"text-align: right;\">\n",
       "      <th></th>\n",
       "      <th>user_id</th>\n",
       "      <th>month</th>\n",
       "      <th>gb_used</th>\n",
       "      <th>calls</th>\n",
       "      <th>duration</th>\n",
       "      <th>messages</th>\n",
       "      <th>tariff</th>\n",
       "      <th>city</th>\n",
       "      <th>rest_minutes</th>\n",
       "      <th>rest_sms</th>\n",
       "      <th>rest_gb</th>\n",
       "      <th>income</th>\n",
       "      <th>moscow_or_not</th>\n",
       "    </tr>\n",
       "  </thead>\n",
       "  <tbody>\n",
       "    <tr>\n",
       "      <th>0</th>\n",
       "      <td>1000</td>\n",
       "      <td>5</td>\n",
       "      <td>3</td>\n",
       "      <td>22</td>\n",
       "      <td>159</td>\n",
       "      <td>22</td>\n",
       "      <td>ultra</td>\n",
       "      <td>Краснодар</td>\n",
       "      <td>0</td>\n",
       "      <td>0</td>\n",
       "      <td>0.0</td>\n",
       "      <td>1950.0</td>\n",
       "      <td>Другой регион</td>\n",
       "    </tr>\n",
       "    <tr>\n",
       "      <th>1</th>\n",
       "      <td>1000</td>\n",
       "      <td>6</td>\n",
       "      <td>23</td>\n",
       "      <td>43</td>\n",
       "      <td>172</td>\n",
       "      <td>60</td>\n",
       "      <td>ultra</td>\n",
       "      <td>Краснодар</td>\n",
       "      <td>0</td>\n",
       "      <td>0</td>\n",
       "      <td>0.0</td>\n",
       "      <td>1950.0</td>\n",
       "      <td>Другой регион</td>\n",
       "    </tr>\n",
       "    <tr>\n",
       "      <th>2</th>\n",
       "      <td>1000</td>\n",
       "      <td>7</td>\n",
       "      <td>14</td>\n",
       "      <td>47</td>\n",
       "      <td>340</td>\n",
       "      <td>75</td>\n",
       "      <td>ultra</td>\n",
       "      <td>Краснодар</td>\n",
       "      <td>0</td>\n",
       "      <td>0</td>\n",
       "      <td>0.0</td>\n",
       "      <td>1950.0</td>\n",
       "      <td>Другой регион</td>\n",
       "    </tr>\n",
       "    <tr>\n",
       "      <th>3</th>\n",
       "      <td>1000</td>\n",
       "      <td>8</td>\n",
       "      <td>14</td>\n",
       "      <td>52</td>\n",
       "      <td>408</td>\n",
       "      <td>81</td>\n",
       "      <td>ultra</td>\n",
       "      <td>Краснодар</td>\n",
       "      <td>0</td>\n",
       "      <td>0</td>\n",
       "      <td>0.0</td>\n",
       "      <td>1950.0</td>\n",
       "      <td>Другой регион</td>\n",
       "    </tr>\n",
       "    <tr>\n",
       "      <th>4</th>\n",
       "      <td>1000</td>\n",
       "      <td>9</td>\n",
       "      <td>15</td>\n",
       "      <td>58</td>\n",
       "      <td>466</td>\n",
       "      <td>57</td>\n",
       "      <td>ultra</td>\n",
       "      <td>Краснодар</td>\n",
       "      <td>0</td>\n",
       "      <td>0</td>\n",
       "      <td>0.0</td>\n",
       "      <td>1950.0</td>\n",
       "      <td>Другой регион</td>\n",
       "    </tr>\n",
       "    <tr>\n",
       "      <th>...</th>\n",
       "      <td>...</td>\n",
       "      <td>...</td>\n",
       "      <td>...</td>\n",
       "      <td>...</td>\n",
       "      <td>...</td>\n",
       "      <td>...</td>\n",
       "      <td>...</td>\n",
       "      <td>...</td>\n",
       "      <td>...</td>\n",
       "      <td>...</td>\n",
       "      <td>...</td>\n",
       "      <td>...</td>\n",
       "      <td>...</td>\n",
       "    </tr>\n",
       "    <tr>\n",
       "      <th>3210</th>\n",
       "      <td>1273</td>\n",
       "      <td>9</td>\n",
       "      <td>0</td>\n",
       "      <td>33</td>\n",
       "      <td>223</td>\n",
       "      <td>32</td>\n",
       "      <td>ultra</td>\n",
       "      <td>Курган</td>\n",
       "      <td>0</td>\n",
       "      <td>0</td>\n",
       "      <td>0.0</td>\n",
       "      <td>1950.0</td>\n",
       "      <td>Другой регион</td>\n",
       "    </tr>\n",
       "    <tr>\n",
       "      <th>3211</th>\n",
       "      <td>1273</td>\n",
       "      <td>10</td>\n",
       "      <td>0</td>\n",
       "      <td>40</td>\n",
       "      <td>315</td>\n",
       "      <td>35</td>\n",
       "      <td>ultra</td>\n",
       "      <td>Курган</td>\n",
       "      <td>0</td>\n",
       "      <td>0</td>\n",
       "      <td>0.0</td>\n",
       "      <td>1950.0</td>\n",
       "      <td>Другой регион</td>\n",
       "    </tr>\n",
       "    <tr>\n",
       "      <th>3212</th>\n",
       "      <td>1273</td>\n",
       "      <td>11</td>\n",
       "      <td>0</td>\n",
       "      <td>45</td>\n",
       "      <td>272</td>\n",
       "      <td>29</td>\n",
       "      <td>ultra</td>\n",
       "      <td>Курган</td>\n",
       "      <td>0</td>\n",
       "      <td>0</td>\n",
       "      <td>0.0</td>\n",
       "      <td>1950.0</td>\n",
       "      <td>Другой регион</td>\n",
       "    </tr>\n",
       "    <tr>\n",
       "      <th>3213</th>\n",
       "      <td>1273</td>\n",
       "      <td>12</td>\n",
       "      <td>0</td>\n",
       "      <td>41</td>\n",
       "      <td>260</td>\n",
       "      <td>39</td>\n",
       "      <td>ultra</td>\n",
       "      <td>Курган</td>\n",
       "      <td>0</td>\n",
       "      <td>0</td>\n",
       "      <td>0.0</td>\n",
       "      <td>1950.0</td>\n",
       "      <td>Другой регион</td>\n",
       "    </tr>\n",
       "    <tr>\n",
       "      <th>3214</th>\n",
       "      <td>1128</td>\n",
       "      <td>0</td>\n",
       "      <td>0</td>\n",
       "      <td>0</td>\n",
       "      <td>0</td>\n",
       "      <td>0</td>\n",
       "      <td>ultra</td>\n",
       "      <td>Волжский</td>\n",
       "      <td>0</td>\n",
       "      <td>0</td>\n",
       "      <td>0.0</td>\n",
       "      <td>1950.0</td>\n",
       "      <td>Другой регион</td>\n",
       "    </tr>\n",
       "  </tbody>\n",
       "</table>\n",
       "<p>986 rows × 13 columns</p>\n",
       "</div>"
      ],
      "text/plain": [
       "      user_id  month  gb_used  calls  duration  messages tariff       city  \\\n",
       "0        1000      5        3     22       159        22  ultra  Краснодар   \n",
       "1        1000      6       23     43       172        60  ultra  Краснодар   \n",
       "2        1000      7       14     47       340        75  ultra  Краснодар   \n",
       "3        1000      8       14     52       408        81  ultra  Краснодар   \n",
       "4        1000      9       15     58       466        57  ultra  Краснодар   \n",
       "...       ...    ...      ...    ...       ...       ...    ...        ...   \n",
       "3210     1273      9        0     33       223        32  ultra     Курган   \n",
       "3211     1273     10        0     40       315        35  ultra     Курган   \n",
       "3212     1273     11        0     45       272        29  ultra     Курган   \n",
       "3213     1273     12        0     41       260        39  ultra     Курган   \n",
       "3214     1128      0        0      0         0         0  ultra   Волжский   \n",
       "\n",
       "      rest_minutes  rest_sms  rest_gb  income  moscow_or_not  \n",
       "0                0         0      0.0  1950.0  Другой регион  \n",
       "1                0         0      0.0  1950.0  Другой регион  \n",
       "2                0         0      0.0  1950.0  Другой регион  \n",
       "3                0         0      0.0  1950.0  Другой регион  \n",
       "4                0         0      0.0  1950.0  Другой регион  \n",
       "...            ...       ...      ...     ...            ...  \n",
       "3210             0         0      0.0  1950.0  Другой регион  \n",
       "3211             0         0      0.0  1950.0  Другой регион  \n",
       "3212             0         0      0.0  1950.0  Другой регион  \n",
       "3213             0         0      0.0  1950.0  Другой регион  \n",
       "3214             0         0      0.0  1950.0  Другой регион  \n",
       "\n",
       "[986 rows x 13 columns]"
      ]
     },
     "execution_count": 32,
     "metadata": {},
     "output_type": "execute_result"
    }
   ],
   "source": [
    "data_ultra = data.query('tariff == \"ultra\"') # отфильтруем по названию тарифа\n",
    "data_ultra"
   ]
  },
  {
   "cell_type": "markdown",
   "metadata": {},
   "source": [
    "Интересно проверить, много ли людей пользуются тарифом Smart, но при этом платят за него столько же как за тариф Ultra."
   ]
  },
  {
   "cell_type": "code",
   "execution_count": 33,
   "metadata": {
    "scrolled": true
   },
   "outputs": [
    {
     "data": {
      "text/plain": [
       "471"
      ]
     },
     "execution_count": 33,
     "metadata": {},
     "output_type": "execute_result"
    }
   ],
   "source": [
    "more_then_ultra = 0 # создадим переменную-счетчик\n",
    "for i in data_smart['income']: # напишем цикл, который посчитает значения больше стоимости тарифа ultra\n",
    "    if i >= 1950:\n",
    "        more_then_ultra +=1\n",
    "more_then_ultra"
   ]
  },
  {
   "cell_type": "markdown",
   "metadata": {},
   "source": [
    "Данные уже отфильтрованы по месяцам и пользователем, поэтому здесь 471 месяц, когда кто-то из пользователей тарифа Smart тратил больше денег на связь, чем стоит тариф Ultra. Возможно службе по работе с клиентам стоит заняться этим вопросам и продать этим пользователям более дорогой тариф."
   ]
  },
  {
   "cell_type": "markdown",
   "metadata": {},
   "source": [
    "Построим графики сравнения 2 тарифов по потраченным минутам, смс и интернет-трафику."
   ]
  },
  {
   "cell_type": "code",
   "execution_count": 48,
   "metadata": {
    "scrolled": false
   },
   "outputs": [
    {
     "data": {
      "image/png": "[encoded data removed]",
      "text/plain": [
       "<Figure size 432x288 with 1 Axes>"
      ]
     },
     "metadata": {
      "needs_background": "light"
     },
     "output_type": "display_data"
    }
   ],
   "source": [
    "sns.barplot(x=\"month\", y=\"duration\", hue = 'tariff', data=data_pivot)\n",
    "plt.title('Минуты разговора')\n",
    "plt.ylabel('Длительность')\n",
    "plt.xlabel('Месяц');"
   ]
  },
  {
   "cell_type": "code",
   "execution_count": 49,
   "metadata": {},
   "outputs": [
    {
     "data": {
      "image/png": "[encoded data removed]",
      "text/plain": [
       "<Figure size 432x288 with 1 Axes>"
      ]
     },
     "metadata": {
      "needs_background": "light"
     },
     "output_type": "display_data"
    }
   ],
   "source": [
    "sns.barplot(x=\"month\", y=\"gb_used\", hue = 'tariff', data=data_pivot)\n",
    "plt.title('Интернет-траффик')\n",
    "plt.ylabel('Gb использовано')\n",
    "plt.xlabel('Месяц');"
   ]
  },
  {
   "cell_type": "code",
   "execution_count": 50,
   "metadata": {
    "scrolled": false
   },
   "outputs": [
    {
     "data": {
      "image/png": "[encoded data removed]",
      "text/plain": [
       "<Figure size 432x288 with 1 Axes>"
      ]
     },
     "metadata": {
      "needs_background": "light"
     },
     "output_type": "display_data"
    }
   ],
   "source": [
    "sns.barplot(x=\"month\", y=\"messages\", hue = 'tariff', data=data_pivot)\n",
    "plt.title('SMS')\n",
    "plt.ylabel('sms')\n",
    "plt.xlabel('Месяц');"
   ]
  },
  {
   "cell_type": "markdown",
   "metadata": {},
   "source": [
    "Теперь посмотрим на разницу в прибыли."
   ]
  },
  {
   "cell_type": "code",
   "execution_count": 51,
   "metadata": {},
   "outputs": [
    {
     "data": {
      "image/png": "[encoded data removed]",
      "text/plain": [
       "<Figure size 432x288 with 1 Axes>"
      ]
     },
     "metadata": {
      "needs_background": "light"
     },
     "output_type": "display_data"
    }
   ],
   "source": [
    "sns.barplot(x='month', y='income', hue = 'tariff', data=data_pivot)\n",
    "plt.title('Прибыль')\n",
    "plt.ylabel('')\n",
    "plt.xlabel('Месяц');"
   ]
  },
  {
   "cell_type": "markdown",
   "metadata": {},
   "source": [
    "Исходя из предоставленной нам выборки можно сделать вывод, что пользователи тарифа Ultra используют больше услуг всех аспектов связи: и смс, и звонков, и интернета. И прибыли компании пользователи этого тарифа приносят значительно больше."
   ]
  },
  {
   "cell_type": "code",
   "execution_count": 38,
   "metadata": {
    "scrolled": true
   },
   "outputs": [
    {
     "name": "stdout",
     "output_type": "stream",
     "text": [
      "Для тарифа Smart\n",
      "\n",
      "Среднее количество звонков = 58.437219730941706\n",
      "Дисперсия = 674.1070932087625\n",
      "Стандартное отклонение = 25.963572427706527\n",
      "Среднее количество  использованных Гб = 16.32152466367713\n",
      "Дисперсия = 33.133453035506285\n",
      "Стандартное отклонение = 5.7561665225657155\n",
      "Среднее количество  sms = 33.36905829596412\n",
      "Дисперсия = 796.9552557301128\n",
      "Стандартное отклонение = 28.23039595418585\n",
      "\n",
      "Для тарифа Ultra\n",
      "\n",
      "Среднее количество звонков = 73.3184584178499\n",
      "Дисперсия = 1932.1949279764417\n",
      "Стандартное отклонение = 43.956739278254496\n",
      "Среднее количество  использованных Гб = 19.474645030425965\n",
      "Дисперсия = 97.37854429011234\n",
      "Стандартное отклонение = 9.868056763624352\n",
      "Среднее количество  sms = 49.31338742393509\n",
      "Дисперсия = 2285.4174246558414\n",
      "Стандартное отклонение = 47.80603962530092\n",
      "\n"
     ]
    }
   ],
   "source": [
    "# для тарифа Smart\n",
    "calls_var_smart = np.var(data_smart['calls'], ddof=1)\n",
    "calls_std_smart = np.sqrt(calls_var_smart)\n",
    "gb_var_smart = np.var(data_smart['gb_used'], ddof=1)\n",
    "gb_std_smart = np.sqrt(gb_var_smart)\n",
    "messages_var_smart = np.var(data_smart['messages'], ddof=1)\n",
    "messages_std_smart = np.sqrt(messages_var_smart)\n",
    "\n",
    "#для тарифа Ultra\n",
    "calls_var_ultra = np.var(data_ultra['calls'], ddof=1)\n",
    "calls_std_ultra = np.sqrt(calls_var_ultra)\n",
    "gb_var_ultra = np.var(data_ultra['gb_used'], ddof=1)\n",
    "gb_std_ultra = np.sqrt(gb_var_ultra)\n",
    "messages_var_ultra = np.var(data_ultra['messages'], ddof=1)\n",
    "messages_std_ultra = np.sqrt(messages_var_ultra)\n",
    "print('Для тарифа Smart')\n",
    "print()\n",
    "print('Среднее количество звонков =', data_smart['calls'].mean())\n",
    "print(\"Дисперсия =\", calls_var_smart)\n",
    "print(\"Стандартное отклонение =\" , calls_std_smart)\n",
    "print('Среднее количество  использованных Гб =', data_smart['gb_used'].mean())\n",
    "print(\"Дисперсия =\", gb_var_smart)\n",
    "print(\"Стандартное отклонение =\" , gb_std_smart)\n",
    "print('Среднее количество  sms =', data_smart['messages'].mean())\n",
    "print(\"Дисперсия =\", messages_var_smart)\n",
    "print(\"Стандартное отклонение =\" , messages_std_smart)\n",
    "print()\n",
    "print('Для тарифа Ultra')\n",
    "print()\n",
    "print('Среднее количество звонков =', data_ultra['calls'].mean())\n",
    "print(\"Дисперсия =\", calls_var_ultra)\n",
    "print(\"Стандартное отклонение =\" , calls_std_ultra)\n",
    "print('Среднее количество  использованных Гб =', data_ultra['gb_used'].mean())\n",
    "print(\"Дисперсия =\", gb_var_ultra)\n",
    "print(\"Стандартное отклонение =\" , gb_std_ultra)\n",
    "print('Среднее количество  sms =', data_ultra['messages'].mean())\n",
    "print(\"Дисперсия =\", messages_var_ultra)\n",
    "print(\"Стандартное отклонение =\" , messages_std_ultra)\n",
    "print()\n"
   ]
  },
  {
   "cell_type": "code",
   "execution_count": 53,
   "metadata": {
    "scrolled": true
   },
   "outputs": [
    {
     "data": {
      "image/png": "[encoded data removed]",
      "text/plain": [
       "<Figure size 432x288 with 1 Axes>"
      ]
     },
     "metadata": {
      "needs_background": "light"
     },
     "output_type": "display_data"
    }
   ],
   "source": [
    "sns.histplot(data=data, x='duration', hue= 'tariff', bins=30)\n",
    "plt.title('Распределение длительности звонков')\n",
    "plt.xlabel('')\n",
    "plt.ylabel('');"
   ]
  },
  {
   "cell_type": "code",
   "execution_count": 54,
   "metadata": {
    "scrolled": true
   },
   "outputs": [
    {
     "data": {
      "image/png": "[encoded data removed]",
      "text/plain": [
       "<Figure size 432x288 with 1 Axes>"
      ]
     },
     "metadata": {
      "needs_background": "light"
     },
     "output_type": "display_data"
    }
   ],
   "source": [
    "sns.histplot(data=data, x='gb_used', hue= 'tariff', bins=30)\n",
    "plt.title('Распределение  интернет-трафика')\n",
    "plt.xlabel('Израсходовано Gb')\n",
    "plt.ylabel('');"
   ]
  },
  {
   "cell_type": "code",
   "execution_count": 55,
   "metadata": {
    "scrolled": true
   },
   "outputs": [
    {
     "data": {
      "image/png": "[encoded data removed]",
      "text/plain": [
       "<Figure size 432x288 with 1 Axes>"
      ]
     },
     "metadata": {
      "needs_background": "light"
     },
     "output_type": "display_data"
    }
   ],
   "source": [
    "sns.histplot(data=data, x='messages', hue= 'tariff', bins=30)\n",
    "plt.title('Распределение количества sms-сообщений')\n",
    "plt.xlabel('sms')\n",
    "plt.ylabel('');"
   ]
  },
  {
   "cell_type": "markdown",
   "metadata": {},
   "source": [
    "Из гистрограмм распределения видно то же что мы уже увидели на гистограмме с прибылью - много звонков, смс и Гб у пользователей Smart, но \"хвосты\" от Ultra вытягивают среднюю прибыль. "
   ]
  },
  {
   "cell_type": "markdown",
   "metadata": {},
   "source": [
    "[Содержание](#0)"
   ]
  },
  {
   "cell_type": "markdown",
   "metadata": {},
   "source": [
    "## Выдвижение гипотез\n",
    "<a id=5> </a>"
   ]
  },
  {
   "cell_type": "markdown",
   "metadata": {},
   "source": [
    "### Гипотеза 1"
   ]
  },
  {
   "cell_type": "markdown",
   "metadata": {},
   "source": [
    "На данном этапе наши данные готовы к тому, чтобы мы могли выдвинуть ряд гипотез, которые интересуют нашего заказчика.\n"
   ]
  },
  {
   "cell_type": "markdown",
   "metadata": {},
   "source": [
    "Первой проверим гипотезу о том, что средняя выручка от пользователей тарифов «Ультра» и «Смарт» различаются. Примем за нулевую гипотезу, что выручки от тарифов равны, тогда нашей альтернативной гипотезой будет - выручка от тарифа 'Ultra' больше чем от 'Smart'. Это односторонняя гипотеза. "
   ]
  },
  {
   "cell_type": "markdown",
   "metadata": {},
   "source": [
    "Есть подозрение, что пользователи двух тарифов сильно отличаются друг от друга и соответвтвенно дисперсия в первом и во втором случае могут так же сильно отличаться, поэтому мы укажем это как дополнительный параметр при проведении  t-теста."
   ]
  },
  {
   "cell_type": "code",
   "execution_count": 42,
   "metadata": {
    "scrolled": true
   },
   "outputs": [
    {
     "name": "stdout",
     "output_type": "stream",
     "text": [
      "p-value = 1.927011394420941e-250\n",
      "Отвергаем нулевую гипотезу\n",
      "Прибыль Ultra больше, чем Smart\n"
     ]
    }
   ],
   "source": [
    "alpha = .05 # зададим уровень статистической значимости в 5%\n",
    "# если p-value окажется меньше него - отвергнем гипотезу\n",
    "results = st.ttest_ind( # проведем t-test, сравним среднее двух тарифов, добавим допольнительный параметр equal_var = False \n",
    "    data_ultra['income'], \n",
    "    data_smart['income'], equal_var = False) \n",
    "print('p-value =', results.pvalue)\n",
    "\n",
    "if (results.pvalue/2) < alpha: # гипотеза односторонняя - результат p/value разделим на 2\n",
    "    print(\"Отвергаем нулевую гипотезу\")\n",
    "else:\n",
    "    print(\"Не получилось отвергнуть нулевую гипотезу\") \n",
    "# сравним среднее двух выборок\n",
    "if data_ultra['income'].mean() < data_smart['income'].mean():\n",
    "    print ('Прибыль Ultra меньше, чем Smart')\n",
    "else:\n",
    "    print ('Прибыль Ultra больше, чем Smart')"
   ]
  },
  {
   "cell_type": "markdown",
   "metadata": {},
   "source": [
    "Мы получили значение p-value сильно ниже уровня статистической значимости, что означает что вероятность того, что средний уровень дохода от пользователей двух тарифов одинаковый - ничтожно мала, и мы можем смело отвергуть нулевую гипотезу."
   ]
  },
  {
   "cell_type": "markdown",
   "metadata": {},
   "source": [
    "### Гипотеза 2"
   ]
  },
  {
   "cell_type": "markdown",
   "metadata": {},
   "source": [
    "Сформулируем вторую гипотезу: средняя выручка от пользователей из Москвы отличается от выручки пользователей из других регионов. Здесь нулевой гипотезой будет: средняя выручка от пользователей из Москвы равна средней выручке от всех остальных пользователей. Альтернативная гипотеза: средняя выручка от москвичей отличается от остальных. Это двустороняя гипотеза."
   ]
  },
  {
   "cell_type": "code",
   "execution_count": 43,
   "metadata": {},
   "outputs": [],
   "source": [
    "data_moscow = data.query('moscow_or_not == \"Москва\"') # создадим 2 датасета для того, чтобы загразить их \n",
    "data_regions = data.query('moscow_or_not == \"Другой регион\"') # в функцию ttest_ind"
   ]
  },
  {
   "cell_type": "code",
   "execution_count": 44,
   "metadata": {},
   "outputs": [
    {
     "name": "stdout",
     "output_type": "stream",
     "text": [
      "p-value = 0.5216952110000278\n",
      "Не получилось отвергнуть нулевую гипотезу\n"
     ]
    }
   ],
   "source": [
    "alpha = .05 # зададим уровень статистической значимости в 5%\n",
    "# если p-value окажется меньше него - отвергнем гипотезу\n",
    "results = st.ttest_ind( # проведем t-test, сравним среднее двух тарифов, добавим допольнительный параметр equal_var = False \n",
    "    data_moscow['income'], \n",
    "    data_regions['income'], equal_var = False) \n",
    "print('p-value =', results.pvalue)\n",
    "\n",
    "if results.pvalue < alpha: # сравним p-value с уровнем статистической значимости\n",
    "    print(\"Отвергаем нулевую гипотезу\")\n",
    "else:\n",
    "    print(\"Не получилось отвергнуть нулевую гипотезу\") "
   ]
  },
  {
   "cell_type": "markdown",
   "metadata": {},
   "source": [
    "А вот тут похоже данные выборки очень близки. С 40% вероятностью средняя выручка по Москве будет такой же как и в регионах."
   ]
  },
  {
   "cell_type": "markdown",
   "metadata": {},
   "source": [
    "[Содержание](#0)"
   ]
  },
  {
   "cell_type": "markdown",
   "metadata": {},
   "source": [
    "## Вывод\n",
    "<a id=6> </a>"
   ]
  },
  {
   "cell_type": "markdown",
   "metadata": {},
   "source": [
    "Мы проанализировали данные 500 клиентов \"Мегалайн\", предоставленные нам компанией, очистили предоставленные данные от пропусков и ошибок, посчитали общую прибыль от каждого клиента по месяцам, а так же среднюю прибыль от каждого тарифа.\n",
    "Выборка кажется нам достаточно репрезентативной и охватывает разные регионы страны.\n",
    "\n",
    "Во-первых, можно сказать, что в тариф Ultra входит так много смс и звонков, что никому из пользователей не удалось привысить этот бесплатный лимит. Возможно этот лимит можно чуть уменьшить. \n",
    "Во-вторых, людям в тарифе Smart часто наоборот не хватало включенных минут и трафика - возможно можно было бы чуть расширить тарифный план за счет увеличения его стоимости. \n",
    "\n",
    "В то же время мы зафиксировали более 400 случаев, когда клиенты, пользователи тарифа Ultra переплачивали за свой тариф, хотя могли бы переключиться на более выгодный. В частности клиент из данной выборки, потративший больше всех денег - пользователь тарифа Ultra. \n",
    "\n",
    "В ходе визуализации данных, мы обнаружили интереснцю особенность: небольшое количество клиентов тарифа Ultra, не жалеющих денег на связь, - делают среднюю выручку от этого тарифа больше. С одной стороны, это хорошо для компании, а с другой стороны - не очень, потому что потеря любого такого клиента будет означать ощутимое падение прибыли для компании.\n",
    "\n",
    "Мы провели 2 статистических исследования на основе предоставленной нам выборки и исходя из полученных нами данных, можно сказать что тариф Ultra приносит компании значительно больше денег, но он явно не всем по-карману.\n",
    "\n",
    "Так же мы выдвинули гипотезу, что люди в регионах тратят меньше денег на связь и она не подтвердилась - с 40% вероятностью данные по Москве и регионах не сильно отличаются.\n",
    "\n",
    "В целом результаты исследования достаточно предсказуемые: более дорогой тариф приносит компании больше денег. \n",
    "Возможно стоит продолжить исследование, и посмотреть как много людей вообще не пользуется звонками и смс, но интернет для них более актуален? Или насколько люди в регионах меньше пользуются интернетом чем в Москве и так ли это? "
   ]
  }
 ],
 "metadata": {
  "ExecuteTimeLog": [
   {
    "duration": 406,
    "start_time": "2022-06-24T04:06:35.917Z"
   },
   {
    "duration": 72,
    "start_time": "2022-06-24T04:07:00.977Z"
   },
   {
    "duration": 269,
    "start_time": "2022-06-24T04:07:07.100Z"
   },
   {
    "duration": 178,
    "start_time": "2022-06-24T04:09:44.562Z"
   },
   {
    "duration": 196,
    "start_time": "2022-06-24T04:09:55.486Z"
   },
   {
    "duration": 396,
    "start_time": "2022-06-24T04:10:25.368Z"
   },
   {
    "duration": 192,
    "start_time": "2022-06-24T04:10:31.373Z"
   },
   {
    "duration": 456,
    "start_time": "2022-06-24T04:11:39.524Z"
   },
   {
    "duration": 62,
    "start_time": "2022-06-24T04:12:07.112Z"
   },
   {
    "duration": 51,
    "start_time": "2022-06-24T04:12:21.246Z"
   },
   {
    "duration": 79,
    "start_time": "2022-06-24T04:12:44.255Z"
   },
   {
    "duration": 96,
    "start_time": "2022-06-24T04:13:14.354Z"
   },
   {
    "duration": 185,
    "start_time": "2022-06-24T04:13:54.812Z"
   },
   {
    "duration": 195,
    "start_time": "2022-06-24T04:15:24.145Z"
   },
   {
    "duration": 225,
    "start_time": "2022-06-24T04:17:43.438Z"
   },
   {
    "duration": 220,
    "start_time": "2022-06-24T04:22:58.115Z"
   },
   {
    "duration": 35,
    "start_time": "2022-06-24T04:38:21.289Z"
   },
   {
    "duration": 59,
    "start_time": "2022-06-24T04:38:49.355Z"
   },
   {
    "duration": 18,
    "start_time": "2022-06-24T04:38:59.861Z"
   },
   {
    "duration": 32,
    "start_time": "2022-06-24T04:39:08.096Z"
   },
   {
    "duration": 45,
    "start_time": "2022-06-24T04:42:02.365Z"
   },
   {
    "duration": 51,
    "start_time": "2022-06-24T04:42:24.851Z"
   },
   {
    "duration": 21,
    "start_time": "2022-06-24T04:42:29.787Z"
   },
   {
    "duration": 25,
    "start_time": "2022-06-24T04:42:38.722Z"
   },
   {
    "duration": 18,
    "start_time": "2022-06-24T04:42:52.087Z"
   },
   {
    "duration": 19,
    "start_time": "2022-06-24T04:43:41.465Z"
   },
   {
    "duration": 55,
    "start_time": "2022-06-24T13:27:31.676Z"
   },
   {
    "duration": 457,
    "start_time": "2022-06-24T13:27:37.639Z"
   },
   {
    "duration": 301,
    "start_time": "2022-06-24T13:27:38.099Z"
   },
   {
    "duration": 38,
    "start_time": "2022-06-24T13:27:38.402Z"
   },
   {
    "duration": 374,
    "start_time": "2022-06-24T13:27:38.441Z"
   },
   {
    "duration": 337,
    "start_time": "2022-06-24T13:27:38.817Z"
   },
   {
    "duration": 71,
    "start_time": "2022-06-24T13:27:39.156Z"
   },
   {
    "duration": 62,
    "start_time": "2022-06-24T13:27:39.229Z"
   },
   {
    "duration": 879,
    "start_time": "2022-06-24T13:32:35.819Z"
   },
   {
    "duration": 760,
    "start_time": "2022-06-24T13:32:55.384Z"
   },
   {
    "duration": 16,
    "start_time": "2022-06-24T13:35:46.175Z"
   },
   {
    "duration": 33,
    "start_time": "2022-06-24T13:37:18.779Z"
   },
   {
    "duration": 9,
    "start_time": "2022-06-24T13:38:38.918Z"
   },
   {
    "duration": 9,
    "start_time": "2022-06-24T13:38:47.740Z"
   },
   {
    "duration": 17,
    "start_time": "2022-06-24T13:39:00.020Z"
   },
   {
    "duration": 18,
    "start_time": "2022-06-24T13:39:26.878Z"
   },
   {
    "duration": 26,
    "start_time": "2022-06-24T13:50:22.719Z"
   },
   {
    "duration": 158,
    "start_time": "2022-06-24T13:56:22.693Z"
   },
   {
    "duration": 129,
    "start_time": "2022-06-24T13:56:50.741Z"
   },
   {
    "duration": 827,
    "start_time": "2022-06-24T13:58:41.519Z"
   },
   {
    "duration": 786,
    "start_time": "2022-06-24T13:58:52.959Z"
   },
   {
    "duration": 25,
    "start_time": "2022-06-24T13:59:10.098Z"
   },
   {
    "duration": 40,
    "start_time": "2022-06-24T14:00:33.500Z"
   },
   {
    "duration": 46,
    "start_time": "2022-06-24T14:01:25.419Z"
   },
   {
    "duration": 440,
    "start_time": "2022-06-24T17:59:22.342Z"
   },
   {
    "duration": 329,
    "start_time": "2022-06-24T17:59:22.784Z"
   },
   {
    "duration": 55,
    "start_time": "2022-06-24T17:59:23.114Z"
   },
   {
    "duration": 409,
    "start_time": "2022-06-24T17:59:23.170Z"
   },
   {
    "duration": 19,
    "start_time": "2022-06-24T17:59:23.582Z"
   },
   {
    "duration": 32,
    "start_time": "2022-06-24T17:59:23.602Z"
   },
   {
    "duration": 792,
    "start_time": "2022-06-24T17:59:23.642Z"
   },
   {
    "duration": 36,
    "start_time": "2022-06-24T17:59:24.436Z"
   },
   {
    "duration": 105,
    "start_time": "2022-06-24T17:59:24.474Z"
   },
   {
    "duration": 76,
    "start_time": "2022-06-24T17:59:24.582Z"
   },
   {
    "duration": 485,
    "start_time": "2022-06-24T18:06:32.450Z"
   },
   {
    "duration": 279,
    "start_time": "2022-06-24T18:06:32.939Z"
   },
   {
    "duration": 80,
    "start_time": "2022-06-24T18:06:33.220Z"
   },
   {
    "duration": 229,
    "start_time": "2022-06-24T18:06:33.301Z"
   },
   {
    "duration": 29,
    "start_time": "2022-06-24T18:06:33.533Z"
   },
   {
    "duration": 46,
    "start_time": "2022-06-24T18:06:33.564Z"
   },
   {
    "duration": 166,
    "start_time": "2022-06-24T18:06:33.612Z"
   },
   {
    "duration": 24,
    "start_time": "2022-06-24T18:06:33.779Z"
   },
   {
    "duration": 33,
    "start_time": "2022-06-24T18:06:33.805Z"
   },
   {
    "duration": 50,
    "start_time": "2022-06-24T18:06:33.840Z"
   },
   {
    "duration": 370,
    "start_time": "2022-06-25T06:01:27.178Z"
   },
   {
    "duration": 258,
    "start_time": "2022-06-25T06:01:27.550Z"
   },
   {
    "duration": 36,
    "start_time": "2022-06-25T06:01:27.809Z"
   },
   {
    "duration": 325,
    "start_time": "2022-06-25T06:01:27.847Z"
   },
   {
    "duration": 16,
    "start_time": "2022-06-25T06:01:28.174Z"
   },
   {
    "duration": 24,
    "start_time": "2022-06-25T06:01:28.192Z"
   },
   {
    "duration": 328,
    "start_time": "2022-06-25T06:01:28.218Z"
   },
   {
    "duration": 20,
    "start_time": "2022-06-25T06:01:28.547Z"
   },
   {
    "duration": 81,
    "start_time": "2022-06-25T06:01:28.569Z"
   },
   {
    "duration": 61,
    "start_time": "2022-06-25T06:01:28.653Z"
   },
   {
    "duration": 99,
    "start_time": "2022-06-25T06:03:41.567Z"
   },
   {
    "duration": 36,
    "start_time": "2022-06-25T06:04:02.324Z"
   },
   {
    "duration": 37,
    "start_time": "2022-06-25T06:04:14.265Z"
   },
   {
    "duration": 36,
    "start_time": "2022-06-25T06:04:29.095Z"
   },
   {
    "duration": 39,
    "start_time": "2022-06-25T06:05:59.639Z"
   },
   {
    "duration": 38,
    "start_time": "2022-06-25T06:06:36.987Z"
   },
   {
    "duration": 8,
    "start_time": "2022-06-25T06:08:29.704Z"
   },
   {
    "duration": 20,
    "start_time": "2022-06-25T06:08:35.104Z"
   },
   {
    "duration": 6,
    "start_time": "2022-06-25T06:09:06.448Z"
   },
   {
    "duration": 19,
    "start_time": "2022-06-25T06:09:14.897Z"
   },
   {
    "duration": 56,
    "start_time": "2022-06-25T06:10:31.619Z"
   },
   {
    "duration": 15,
    "start_time": "2022-06-25T06:18:46.351Z"
   },
   {
    "duration": 15,
    "start_time": "2022-06-25T06:20:13.188Z"
   },
   {
    "duration": 16,
    "start_time": "2022-06-25T06:20:20.113Z"
   },
   {
    "duration": 22,
    "start_time": "2022-06-25T06:22:20.170Z"
   },
   {
    "duration": 116,
    "start_time": "2022-06-25T06:22:41.870Z"
   },
   {
    "duration": 410,
    "start_time": "2022-06-25T06:29:38.243Z"
   },
   {
    "duration": 197,
    "start_time": "2022-06-25T06:29:38.655Z"
   },
   {
    "duration": 42,
    "start_time": "2022-06-25T06:29:38.854Z"
   },
   {
    "duration": 162,
    "start_time": "2022-06-25T06:29:38.898Z"
   },
   {
    "duration": 22,
    "start_time": "2022-06-25T06:29:39.063Z"
   },
   {
    "duration": 25,
    "start_time": "2022-06-25T06:29:39.087Z"
   },
   {
    "duration": 117,
    "start_time": "2022-06-25T06:29:39.114Z"
   },
   {
    "duration": 30,
    "start_time": "2022-06-25T06:29:39.232Z"
   },
   {
    "duration": 37,
    "start_time": "2022-06-25T06:29:39.264Z"
   },
   {
    "duration": 41,
    "start_time": "2022-06-25T06:29:39.303Z"
   },
   {
    "duration": 2,
    "start_time": "2022-06-25T06:29:39.347Z"
   },
   {
    "duration": 53,
    "start_time": "2022-06-25T06:29:39.351Z"
   },
   {
    "duration": 447,
    "start_time": "2022-06-25T06:55:53.943Z"
   },
   {
    "duration": 219,
    "start_time": "2022-06-25T06:55:54.392Z"
   },
   {
    "duration": 52,
    "start_time": "2022-06-25T06:55:54.613Z"
   },
   {
    "duration": 159,
    "start_time": "2022-06-25T06:55:54.670Z"
   },
   {
    "duration": 27,
    "start_time": "2022-06-25T06:55:54.831Z"
   },
   {
    "duration": 32,
    "start_time": "2022-06-25T06:55:54.861Z"
   },
   {
    "duration": 111,
    "start_time": "2022-06-25T06:55:54.895Z"
   },
   {
    "duration": 19,
    "start_time": "2022-06-25T06:55:55.008Z"
   },
   {
    "duration": 37,
    "start_time": "2022-06-25T06:55:55.029Z"
   },
   {
    "duration": 45,
    "start_time": "2022-06-25T06:55:55.068Z"
   },
   {
    "duration": 2,
    "start_time": "2022-06-25T06:55:55.115Z"
   },
   {
    "duration": 77,
    "start_time": "2022-06-25T06:55:55.119Z"
   },
   {
    "duration": 443,
    "start_time": "2022-06-25T06:57:06.027Z"
   },
   {
    "duration": 216,
    "start_time": "2022-06-25T06:57:06.472Z"
   },
   {
    "duration": 37,
    "start_time": "2022-06-25T06:57:06.694Z"
   },
   {
    "duration": 177,
    "start_time": "2022-06-25T06:57:06.733Z"
   },
   {
    "duration": 15,
    "start_time": "2022-06-25T06:57:06.913Z"
   },
   {
    "duration": 59,
    "start_time": "2022-06-25T06:57:06.930Z"
   },
   {
    "duration": 127,
    "start_time": "2022-06-25T06:57:06.991Z"
   },
   {
    "duration": 24,
    "start_time": "2022-06-25T06:57:07.120Z"
   },
   {
    "duration": 34,
    "start_time": "2022-06-25T06:57:07.155Z"
   },
   {
    "duration": 49,
    "start_time": "2022-06-25T06:57:07.191Z"
   },
   {
    "duration": 3,
    "start_time": "2022-06-25T06:57:07.241Z"
   },
   {
    "duration": 76,
    "start_time": "2022-06-25T06:57:07.245Z"
   },
   {
    "duration": 166,
    "start_time": "2022-06-25T07:02:39.828Z"
   },
   {
    "duration": 70,
    "start_time": "2022-06-25T07:03:11.474Z"
   },
   {
    "duration": 438,
    "start_time": "2022-06-25T07:03:18.268Z"
   },
   {
    "duration": 328,
    "start_time": "2022-06-25T07:03:18.707Z"
   },
   {
    "duration": 51,
    "start_time": "2022-06-25T07:03:19.037Z"
   },
   {
    "duration": 476,
    "start_time": "2022-06-25T07:03:19.094Z"
   },
   {
    "duration": 25,
    "start_time": "2022-06-25T07:03:19.574Z"
   },
   {
    "duration": 26,
    "start_time": "2022-06-25T07:03:19.605Z"
   },
   {
    "duration": 451,
    "start_time": "2022-06-25T07:03:19.632Z"
   },
   {
    "duration": 24,
    "start_time": "2022-06-25T07:03:20.090Z"
   },
   {
    "duration": 119,
    "start_time": "2022-06-25T07:03:20.116Z"
   },
   {
    "duration": 95,
    "start_time": "2022-06-25T07:03:20.237Z"
   },
   {
    "duration": 50,
    "start_time": "2022-06-25T07:03:48.697Z"
   },
   {
    "duration": 434,
    "start_time": "2022-06-25T07:03:53.633Z"
   },
   {
    "duration": 373,
    "start_time": "2022-06-25T07:03:54.069Z"
   },
   {
    "duration": 52,
    "start_time": "2022-06-25T07:03:54.444Z"
   },
   {
    "duration": 498,
    "start_time": "2022-06-25T07:03:54.500Z"
   },
   {
    "duration": 21,
    "start_time": "2022-06-25T07:03:55.001Z"
   },
   {
    "duration": 25,
    "start_time": "2022-06-25T07:03:55.023Z"
   },
   {
    "duration": 523,
    "start_time": "2022-06-25T07:03:55.050Z"
   },
   {
    "duration": 44,
    "start_time": "2022-06-25T07:03:55.582Z"
   },
   {
    "duration": 108,
    "start_time": "2022-06-25T07:03:55.628Z"
   },
   {
    "duration": 86,
    "start_time": "2022-06-25T07:03:55.739Z"
   },
   {
    "duration": 80,
    "start_time": "2022-06-25T07:03:55.827Z"
   },
   {
    "duration": 0,
    "start_time": "2022-06-25T07:03:55.909Z"
   },
   {
    "duration": 417,
    "start_time": "2022-06-25T07:06:06.081Z"
   },
   {
    "duration": 331,
    "start_time": "2022-06-25T07:06:06.502Z"
   },
   {
    "duration": 43,
    "start_time": "2022-06-25T07:06:06.835Z"
   },
   {
    "duration": 421,
    "start_time": "2022-06-25T07:06:06.879Z"
   },
   {
    "duration": 24,
    "start_time": "2022-06-25T07:06:07.306Z"
   },
   {
    "duration": 35,
    "start_time": "2022-06-25T07:06:07.331Z"
   },
   {
    "duration": 441,
    "start_time": "2022-06-25T07:06:07.373Z"
   },
   {
    "duration": 20,
    "start_time": "2022-06-25T07:06:07.815Z"
   },
   {
    "duration": 108,
    "start_time": "2022-06-25T07:06:07.838Z"
   },
   {
    "duration": 80,
    "start_time": "2022-06-25T07:06:07.948Z"
   },
   {
    "duration": 3,
    "start_time": "2022-06-25T07:06:08.029Z"
   },
   {
    "duration": 6,
    "start_time": "2022-06-25T07:06:08.033Z"
   },
   {
    "duration": 404,
    "start_time": "2022-06-25T07:09:14.489Z"
   },
   {
    "duration": 198,
    "start_time": "2022-06-25T07:09:14.897Z"
   },
   {
    "duration": 35,
    "start_time": "2022-06-25T07:09:15.096Z"
   },
   {
    "duration": 192,
    "start_time": "2022-06-25T07:09:15.133Z"
   },
   {
    "duration": 31,
    "start_time": "2022-06-25T07:09:15.328Z"
   },
   {
    "duration": 31,
    "start_time": "2022-06-25T07:09:15.362Z"
   },
   {
    "duration": 150,
    "start_time": "2022-06-25T07:09:15.395Z"
   },
   {
    "duration": 24,
    "start_time": "2022-06-25T07:09:15.546Z"
   },
   {
    "duration": 39,
    "start_time": "2022-06-25T07:09:15.572Z"
   },
   {
    "duration": 43,
    "start_time": "2022-06-25T07:09:15.613Z"
   },
   {
    "duration": 13,
    "start_time": "2022-06-25T07:09:15.660Z"
   },
   {
    "duration": 12,
    "start_time": "2022-06-25T07:09:15.675Z"
   },
   {
    "duration": 52,
    "start_time": "2022-06-25T07:27:37.249Z"
   },
   {
    "duration": 19,
    "start_time": "2022-06-25T07:27:45.989Z"
   },
   {
    "duration": 25,
    "start_time": "2022-06-25T07:28:58.189Z"
   },
   {
    "duration": 31,
    "start_time": "2022-06-25T07:30:51.479Z"
   },
   {
    "duration": 33,
    "start_time": "2022-06-25T07:32:40.377Z"
   },
   {
    "duration": 28,
    "start_time": "2022-06-25T07:33:09.212Z"
   },
   {
    "duration": 44,
    "start_time": "2022-06-25T07:33:24.548Z"
   },
   {
    "duration": 96,
    "start_time": "2022-06-25T07:36:42.494Z"
   },
   {
    "duration": 10,
    "start_time": "2022-06-25T07:37:38.403Z"
   },
   {
    "duration": 402,
    "start_time": "2022-06-25T07:37:49.817Z"
   },
   {
    "duration": 212,
    "start_time": "2022-06-25T07:37:50.221Z"
   },
   {
    "duration": 48,
    "start_time": "2022-06-25T07:37:50.434Z"
   },
   {
    "duration": 169,
    "start_time": "2022-06-25T07:37:50.487Z"
   },
   {
    "duration": 21,
    "start_time": "2022-06-25T07:37:50.659Z"
   },
   {
    "duration": 39,
    "start_time": "2022-06-25T07:37:50.685Z"
   },
   {
    "duration": 130,
    "start_time": "2022-06-25T07:37:50.727Z"
   },
   {
    "duration": 31,
    "start_time": "2022-06-25T07:37:50.859Z"
   },
   {
    "duration": 35,
    "start_time": "2022-06-25T07:37:50.892Z"
   },
   {
    "duration": 37,
    "start_time": "2022-06-25T07:37:50.929Z"
   },
   {
    "duration": 2,
    "start_time": "2022-06-25T07:37:50.968Z"
   },
   {
    "duration": 35,
    "start_time": "2022-06-25T07:37:50.972Z"
   },
   {
    "duration": 98,
    "start_time": "2022-06-25T07:37:51.009Z"
   },
   {
    "duration": 0,
    "start_time": "2022-06-25T07:37:51.109Z"
   },
   {
    "duration": 33,
    "start_time": "2022-06-25T07:38:04.783Z"
   },
   {
    "duration": 39,
    "start_time": "2022-06-25T07:38:15.569Z"
   },
   {
    "duration": 30,
    "start_time": "2022-06-25T07:38:50.736Z"
   },
   {
    "duration": 176,
    "start_time": "2022-06-25T07:39:21.180Z"
   },
   {
    "duration": 70,
    "start_time": "2022-06-25T07:39:43.843Z"
   },
   {
    "duration": 82,
    "start_time": "2022-06-25T07:40:05.173Z"
   },
   {
    "duration": 67,
    "start_time": "2022-06-25T07:40:18.446Z"
   },
   {
    "duration": 55,
    "start_time": "2022-06-25T07:41:04.994Z"
   },
   {
    "duration": 53,
    "start_time": "2022-06-25T07:41:24.904Z"
   },
   {
    "duration": 99,
    "start_time": "2022-06-25T07:42:21.677Z"
   },
   {
    "duration": 80,
    "start_time": "2022-06-25T07:42:43.324Z"
   },
   {
    "duration": 20,
    "start_time": "2022-06-25T07:44:00.279Z"
   },
   {
    "duration": 22,
    "start_time": "2022-06-25T07:49:48.489Z"
   },
   {
    "duration": 11,
    "start_time": "2022-06-25T07:52:02.095Z"
   },
   {
    "duration": 22,
    "start_time": "2022-06-25T07:55:16.544Z"
   },
   {
    "duration": 39,
    "start_time": "2022-06-25T07:55:33.039Z"
   },
   {
    "duration": 27,
    "start_time": "2022-06-25T07:55:44.609Z"
   },
   {
    "duration": 527,
    "start_time": "2022-06-25T07:56:17.048Z"
   },
   {
    "duration": 236,
    "start_time": "2022-06-25T07:56:17.577Z"
   },
   {
    "duration": 34,
    "start_time": "2022-06-25T07:56:17.816Z"
   },
   {
    "duration": 184,
    "start_time": "2022-06-25T07:56:17.861Z"
   },
   {
    "duration": 32,
    "start_time": "2022-06-25T07:56:18.047Z"
   },
   {
    "duration": 54,
    "start_time": "2022-06-25T07:56:18.081Z"
   },
   {
    "duration": 160,
    "start_time": "2022-06-25T07:56:18.137Z"
   },
   {
    "duration": 26,
    "start_time": "2022-06-25T07:56:18.299Z"
   },
   {
    "duration": 39,
    "start_time": "2022-06-25T07:56:18.326Z"
   },
   {
    "duration": 51,
    "start_time": "2022-06-25T07:56:18.368Z"
   },
   {
    "duration": 4,
    "start_time": "2022-06-25T07:56:18.421Z"
   },
   {
    "duration": 22,
    "start_time": "2022-06-25T07:56:18.427Z"
   },
   {
    "duration": 107,
    "start_time": "2022-06-25T07:56:18.450Z"
   },
   {
    "duration": 0,
    "start_time": "2022-06-25T07:56:18.560Z"
   },
   {
    "duration": 0,
    "start_time": "2022-06-25T07:56:18.561Z"
   },
   {
    "duration": 0,
    "start_time": "2022-06-25T07:56:18.565Z"
   },
   {
    "duration": 7,
    "start_time": "2022-06-25T08:43:07.210Z"
   },
   {
    "duration": 7,
    "start_time": "2022-06-25T08:43:12.138Z"
   },
   {
    "duration": 27,
    "start_time": "2022-06-25T08:43:26.474Z"
   },
   {
    "duration": 3,
    "start_time": "2022-06-25T08:43:57.804Z"
   },
   {
    "duration": 12,
    "start_time": "2022-06-25T08:44:05.356Z"
   },
   {
    "duration": 400,
    "start_time": "2022-06-25T08:44:37.436Z"
   },
   {
    "duration": 215,
    "start_time": "2022-06-25T08:44:37.838Z"
   },
   {
    "duration": 47,
    "start_time": "2022-06-25T08:44:38.056Z"
   },
   {
    "duration": 172,
    "start_time": "2022-06-25T08:44:38.105Z"
   },
   {
    "duration": 16,
    "start_time": "2022-06-25T08:44:38.280Z"
   },
   {
    "duration": 28,
    "start_time": "2022-06-25T08:44:38.298Z"
   },
   {
    "duration": 148,
    "start_time": "2022-06-25T08:44:38.328Z"
   },
   {
    "duration": 28,
    "start_time": "2022-06-25T08:44:38.477Z"
   },
   {
    "duration": 27,
    "start_time": "2022-06-25T08:44:38.507Z"
   },
   {
    "duration": 50,
    "start_time": "2022-06-25T08:44:38.536Z"
   },
   {
    "duration": 3,
    "start_time": "2022-06-25T08:44:38.588Z"
   },
   {
    "duration": 42,
    "start_time": "2022-06-25T08:44:38.593Z"
   },
   {
    "duration": 13,
    "start_time": "2022-06-25T08:44:38.636Z"
   },
   {
    "duration": 131,
    "start_time": "2022-06-25T08:44:38.653Z"
   },
   {
    "duration": 92,
    "start_time": "2022-06-25T08:44:38.787Z"
   },
   {
    "duration": 0,
    "start_time": "2022-06-25T08:44:38.882Z"
   },
   {
    "duration": 14,
    "start_time": "2022-06-25T08:47:14.104Z"
   },
   {
    "duration": 7,
    "start_time": "2022-06-25T08:48:49.415Z"
   },
   {
    "duration": 22,
    "start_time": "2022-06-25T08:48:56.944Z"
   },
   {
    "duration": 15,
    "start_time": "2022-06-25T08:53:42.012Z"
   },
   {
    "duration": 76,
    "start_time": "2022-06-25T08:55:45.947Z"
   },
   {
    "duration": 58,
    "start_time": "2022-06-25T08:56:02.992Z"
   },
   {
    "duration": 49,
    "start_time": "2022-06-25T08:56:31.766Z"
   },
   {
    "duration": 86,
    "start_time": "2022-06-25T08:56:59.992Z"
   },
   {
    "duration": 94,
    "start_time": "2022-06-25T08:57:13.130Z"
   },
   {
    "duration": 14,
    "start_time": "2022-06-25T09:01:47.731Z"
   },
   {
    "duration": 76,
    "start_time": "2022-06-25T09:13:24.239Z"
   },
   {
    "duration": 305,
    "start_time": "2022-06-25T09:13:30.091Z"
   },
   {
    "duration": 49,
    "start_time": "2022-06-25T09:13:36.848Z"
   },
   {
    "duration": 15,
    "start_time": "2022-06-25T09:20:21.320Z"
   },
   {
    "duration": 434,
    "start_time": "2022-06-25T09:20:27.138Z"
   },
   {
    "duration": 193,
    "start_time": "2022-06-25T09:20:27.574Z"
   },
   {
    "duration": 34,
    "start_time": "2022-06-25T09:20:27.769Z"
   },
   {
    "duration": 17,
    "start_time": "2022-06-25T09:20:27.806Z"
   },
   {
    "duration": 200,
    "start_time": "2022-06-25T09:20:27.825Z"
   },
   {
    "duration": 61,
    "start_time": "2022-06-25T09:20:28.027Z"
   },
   {
    "duration": 138,
    "start_time": "2022-06-25T09:20:28.090Z"
   },
   {
    "duration": 21,
    "start_time": "2022-06-25T09:20:28.230Z"
   },
   {
    "duration": 36,
    "start_time": "2022-06-25T09:20:28.254Z"
   },
   {
    "duration": 36,
    "start_time": "2022-06-25T09:20:28.293Z"
   },
   {
    "duration": 3,
    "start_time": "2022-06-25T09:20:28.331Z"
   },
   {
    "duration": 48,
    "start_time": "2022-06-25T09:20:28.336Z"
   },
   {
    "duration": 100,
    "start_time": "2022-06-25T09:20:28.386Z"
   },
   {
    "duration": 41,
    "start_time": "2022-06-25T09:20:28.488Z"
   },
   {
    "duration": 2,
    "start_time": "2022-06-25T09:20:52.320Z"
   },
   {
    "duration": 17,
    "start_time": "2022-06-25T09:25:02.756Z"
   },
   {
    "duration": 20,
    "start_time": "2022-06-25T09:25:42.371Z"
   },
   {
    "duration": 31,
    "start_time": "2022-06-25T09:29:11.384Z"
   },
   {
    "duration": 42,
    "start_time": "2022-06-25T09:35:07.917Z"
   },
   {
    "duration": 55,
    "start_time": "2022-06-25T09:35:37.880Z"
   },
   {
    "duration": 97,
    "start_time": "2022-06-25T09:38:43.271Z"
   },
   {
    "duration": 37,
    "start_time": "2022-06-25T09:38:51.391Z"
   },
   {
    "duration": 34,
    "start_time": "2022-06-25T09:39:17.225Z"
   },
   {
    "duration": 43,
    "start_time": "2022-06-25T09:39:26.194Z"
   },
   {
    "duration": 41,
    "start_time": "2022-06-25T09:41:01.544Z"
   },
   {
    "duration": 45,
    "start_time": "2022-06-25T09:41:17.038Z"
   },
   {
    "duration": 39,
    "start_time": "2022-06-25T09:41:57.314Z"
   },
   {
    "duration": 44,
    "start_time": "2022-06-25T09:42:06.217Z"
   },
   {
    "duration": 41,
    "start_time": "2022-06-25T09:52:25.781Z"
   },
   {
    "duration": 67,
    "start_time": "2022-06-25T09:53:42.630Z"
   },
   {
    "duration": 76,
    "start_time": "2022-06-25T09:53:56.668Z"
   },
   {
    "duration": 77,
    "start_time": "2022-06-25T09:54:07.079Z"
   },
   {
    "duration": 88,
    "start_time": "2022-06-25T09:54:26.178Z"
   },
   {
    "duration": 92,
    "start_time": "2022-06-25T09:55:12.991Z"
   },
   {
    "duration": 6,
    "start_time": "2022-06-25T09:56:59.881Z"
   },
   {
    "duration": 8,
    "start_time": "2022-06-25T09:57:23.524Z"
   },
   {
    "duration": 61,
    "start_time": "2022-06-25T09:58:22.126Z"
   },
   {
    "duration": 54,
    "start_time": "2022-06-25T09:58:32.456Z"
   },
   {
    "duration": 88,
    "start_time": "2022-06-25T11:09:36.681Z"
   },
   {
    "duration": 41,
    "start_time": "2022-06-25T11:10:01.504Z"
   },
   {
    "duration": 41,
    "start_time": "2022-06-25T11:10:05.436Z"
   },
   {
    "duration": 43,
    "start_time": "2022-06-25T11:10:31.088Z"
   },
   {
    "duration": 66,
    "start_time": "2022-06-25T11:12:57.341Z"
   },
   {
    "duration": 6,
    "start_time": "2022-06-25T11:13:11.699Z"
   },
   {
    "duration": 46,
    "start_time": "2022-06-25T11:13:28.221Z"
   },
   {
    "duration": 13,
    "start_time": "2022-06-25T11:16:22.271Z"
   },
   {
    "duration": 11,
    "start_time": "2022-06-25T11:23:43.801Z"
   },
   {
    "duration": 46,
    "start_time": "2022-06-25T16:41:54.262Z"
   },
   {
    "duration": 396,
    "start_time": "2022-06-25T16:41:59.755Z"
   },
   {
    "duration": 287,
    "start_time": "2022-06-25T16:42:00.153Z"
   },
   {
    "duration": 40,
    "start_time": "2022-06-25T16:42:00.442Z"
   },
   {
    "duration": 13,
    "start_time": "2022-06-25T16:42:00.484Z"
   },
   {
    "duration": 383,
    "start_time": "2022-06-25T16:42:00.498Z"
   },
   {
    "duration": 39,
    "start_time": "2022-06-25T16:42:00.884Z"
   },
   {
    "duration": 362,
    "start_time": "2022-06-25T16:42:00.924Z"
   },
   {
    "duration": 22,
    "start_time": "2022-06-25T16:42:01.287Z"
   },
   {
    "duration": 83,
    "start_time": "2022-06-25T16:42:01.311Z"
   },
   {
    "duration": 72,
    "start_time": "2022-06-25T16:42:01.397Z"
   },
   {
    "duration": 2,
    "start_time": "2022-06-25T16:42:01.471Z"
   },
   {
    "duration": 58,
    "start_time": "2022-06-25T16:42:01.475Z"
   },
   {
    "duration": 182,
    "start_time": "2022-06-25T16:42:01.541Z"
   },
   {
    "duration": 0,
    "start_time": "2022-06-25T16:42:01.724Z"
   },
   {
    "duration": 0,
    "start_time": "2022-06-25T16:42:01.726Z"
   },
   {
    "duration": 0,
    "start_time": "2022-06-25T16:42:01.728Z"
   },
   {
    "duration": 109,
    "start_time": "2022-06-25T16:42:31.315Z"
   },
   {
    "duration": 42,
    "start_time": "2022-06-25T16:42:40.457Z"
   },
   {
    "duration": 46,
    "start_time": "2022-06-25T16:42:43.865Z"
   },
   {
    "duration": 8,
    "start_time": "2022-06-25T16:42:47.008Z"
   },
   {
    "duration": 6,
    "start_time": "2022-06-25T16:43:16.001Z"
   },
   {
    "duration": 14,
    "start_time": "2022-06-25T16:43:20.252Z"
   },
   {
    "duration": 29,
    "start_time": "2022-06-25T16:44:57.157Z"
   },
   {
    "duration": 204,
    "start_time": "2022-06-25T16:46:22.604Z"
   },
   {
    "duration": 395,
    "start_time": "2022-06-25T16:46:58.845Z"
   },
   {
    "duration": 200,
    "start_time": "2022-06-25T16:46:59.242Z"
   },
   {
    "duration": 34,
    "start_time": "2022-06-25T16:46:59.443Z"
   },
   {
    "duration": 12,
    "start_time": "2022-06-25T16:46:59.480Z"
   },
   {
    "duration": 162,
    "start_time": "2022-06-25T16:46:59.493Z"
   },
   {
    "duration": 37,
    "start_time": "2022-06-25T16:46:59.657Z"
   },
   {
    "duration": 121,
    "start_time": "2022-06-25T16:46:59.696Z"
   },
   {
    "duration": 38,
    "start_time": "2022-06-25T16:46:59.818Z"
   },
   {
    "duration": 27,
    "start_time": "2022-06-25T16:46:59.857Z"
   },
   {
    "duration": 34,
    "start_time": "2022-06-25T16:46:59.886Z"
   },
   {
    "duration": 3,
    "start_time": "2022-06-25T16:46:59.921Z"
   },
   {
    "duration": 37,
    "start_time": "2022-06-25T16:46:59.925Z"
   },
   {
    "duration": 100,
    "start_time": "2022-06-25T16:46:59.963Z"
   },
   {
    "duration": 40,
    "start_time": "2022-06-25T16:47:00.065Z"
   },
   {
    "duration": 54,
    "start_time": "2022-06-25T16:47:00.107Z"
   },
   {
    "duration": 27,
    "start_time": "2022-06-25T16:47:00.163Z"
   },
   {
    "duration": 38,
    "start_time": "2022-06-25T16:55:34.857Z"
   },
   {
    "duration": 362,
    "start_time": "2022-06-25T16:56:32.876Z"
   },
   {
    "duration": 195,
    "start_time": "2022-06-25T16:56:33.240Z"
   },
   {
    "duration": 37,
    "start_time": "2022-06-25T16:56:33.437Z"
   },
   {
    "duration": 11,
    "start_time": "2022-06-25T16:56:33.476Z"
   },
   {
    "duration": 169,
    "start_time": "2022-06-25T16:56:33.489Z"
   },
   {
    "duration": 38,
    "start_time": "2022-06-25T16:56:33.660Z"
   },
   {
    "duration": 142,
    "start_time": "2022-06-25T16:56:33.700Z"
   },
   {
    "duration": 24,
    "start_time": "2022-06-25T16:56:33.843Z"
   },
   {
    "duration": 29,
    "start_time": "2022-06-25T16:56:33.868Z"
   },
   {
    "duration": 41,
    "start_time": "2022-06-25T16:56:33.899Z"
   },
   {
    "duration": 3,
    "start_time": "2022-06-25T16:56:33.941Z"
   },
   {
    "duration": 20,
    "start_time": "2022-06-25T16:56:33.945Z"
   },
   {
    "duration": 106,
    "start_time": "2022-06-25T16:56:33.967Z"
   },
   {
    "duration": 42,
    "start_time": "2022-06-25T16:56:34.075Z"
   },
   {
    "duration": 44,
    "start_time": "2022-06-25T16:56:34.131Z"
   },
   {
    "duration": 46,
    "start_time": "2022-06-25T16:56:34.177Z"
   },
   {
    "duration": 17,
    "start_time": "2022-06-25T16:56:43.579Z"
   },
   {
    "duration": 91,
    "start_time": "2022-06-25T16:58:05.892Z"
   },
   {
    "duration": 16,
    "start_time": "2022-06-25T16:58:19.459Z"
   },
   {
    "duration": 23,
    "start_time": "2022-06-25T16:59:06.498Z"
   },
   {
    "duration": 37,
    "start_time": "2022-06-25T17:00:06.318Z"
   },
   {
    "duration": 81,
    "start_time": "2022-06-25T17:06:34.277Z"
   },
   {
    "duration": 28,
    "start_time": "2022-06-25T17:07:07.399Z"
   },
   {
    "duration": 28,
    "start_time": "2022-06-25T17:14:08.967Z"
   },
   {
    "duration": 28,
    "start_time": "2022-06-25T17:18:39.236Z"
   },
   {
    "duration": 740,
    "start_time": "2022-06-25T17:20:06.288Z"
   },
   {
    "duration": 26,
    "start_time": "2022-06-25T17:20:36.393Z"
   },
   {
    "duration": 35,
    "start_time": "2022-06-25T17:20:41.932Z"
   },
   {
    "duration": 25,
    "start_time": "2022-06-25T17:21:29.204Z"
   },
   {
    "duration": 32,
    "start_time": "2022-06-25T17:21:33.965Z"
   },
   {
    "duration": 14,
    "start_time": "2022-06-25T17:23:13.218Z"
   },
   {
    "duration": 405,
    "start_time": "2022-06-25T17:23:25.325Z"
   },
   {
    "duration": 184,
    "start_time": "2022-06-25T17:23:25.732Z"
   },
   {
    "duration": 40,
    "start_time": "2022-06-25T17:23:25.917Z"
   },
   {
    "duration": 13,
    "start_time": "2022-06-25T17:23:25.960Z"
   },
   {
    "duration": 156,
    "start_time": "2022-06-25T17:23:25.974Z"
   },
   {
    "duration": 37,
    "start_time": "2022-06-25T17:23:26.132Z"
   },
   {
    "duration": 138,
    "start_time": "2022-06-25T17:23:26.170Z"
   },
   {
    "duration": 33,
    "start_time": "2022-06-25T17:23:26.310Z"
   },
   {
    "duration": 31,
    "start_time": "2022-06-25T17:23:26.345Z"
   },
   {
    "duration": 42,
    "start_time": "2022-06-25T17:23:26.379Z"
   },
   {
    "duration": 3,
    "start_time": "2022-06-25T17:23:26.423Z"
   },
   {
    "duration": 28,
    "start_time": "2022-06-25T17:23:26.428Z"
   },
   {
    "duration": 101,
    "start_time": "2022-06-25T17:23:26.457Z"
   },
   {
    "duration": 40,
    "start_time": "2022-06-25T17:23:26.560Z"
   },
   {
    "duration": 54,
    "start_time": "2022-06-25T17:23:26.602Z"
   },
   {
    "duration": 2,
    "start_time": "2022-06-25T17:23:26.658Z"
   },
   {
    "duration": 8,
    "start_time": "2022-06-25T17:23:32.235Z"
   },
   {
    "duration": 17,
    "start_time": "2022-06-25T17:23:35.292Z"
   },
   {
    "duration": 24,
    "start_time": "2022-06-25T17:23:42.387Z"
   },
   {
    "duration": 30,
    "start_time": "2022-06-25T17:23:51.588Z"
   },
   {
    "duration": 83,
    "start_time": "2022-06-25T17:24:24.117Z"
   },
   {
    "duration": 31,
    "start_time": "2022-06-25T17:24:56.620Z"
   },
   {
    "duration": 761,
    "start_time": "2022-06-25T17:28:22.422Z"
   },
   {
    "duration": 21,
    "start_time": "2022-06-25T17:28:49.165Z"
   },
   {
    "duration": 523,
    "start_time": "2022-06-25T17:29:32.395Z"
   },
   {
    "duration": 25,
    "start_time": "2022-06-25T17:30:40.587Z"
   },
   {
    "duration": 26,
    "start_time": "2022-06-25T17:30:54.686Z"
   },
   {
    "duration": 22,
    "start_time": "2022-06-25T17:33:44.927Z"
   },
   {
    "duration": 33,
    "start_time": "2022-06-25T17:33:49.604Z"
   },
   {
    "duration": 47,
    "start_time": "2022-06-25T17:34:04.862Z"
   },
   {
    "duration": 35,
    "start_time": "2022-06-25T17:34:13.849Z"
   },
   {
    "duration": 437,
    "start_time": "2022-06-25T17:34:50.112Z"
   },
   {
    "duration": 192,
    "start_time": "2022-06-25T17:34:50.550Z"
   },
   {
    "duration": 36,
    "start_time": "2022-06-25T17:34:50.743Z"
   },
   {
    "duration": 13,
    "start_time": "2022-06-25T17:34:50.780Z"
   },
   {
    "duration": 159,
    "start_time": "2022-06-25T17:34:50.794Z"
   },
   {
    "duration": 38,
    "start_time": "2022-06-25T17:34:50.955Z"
   },
   {
    "duration": 122,
    "start_time": "2022-06-25T17:34:50.995Z"
   },
   {
    "duration": 26,
    "start_time": "2022-06-25T17:34:51.118Z"
   },
   {
    "duration": 68,
    "start_time": "2022-06-25T17:34:51.146Z"
   },
   {
    "duration": 1226,
    "start_time": "2022-06-25T17:34:51.218Z"
   },
   {
    "duration": 0,
    "start_time": "2022-06-25T17:34:52.446Z"
   },
   {
    "duration": 0,
    "start_time": "2022-06-25T17:34:52.448Z"
   },
   {
    "duration": 0,
    "start_time": "2022-06-25T17:34:52.450Z"
   },
   {
    "duration": 0,
    "start_time": "2022-06-25T17:34:52.451Z"
   },
   {
    "duration": 0,
    "start_time": "2022-06-25T17:34:52.453Z"
   },
   {
    "duration": 0,
    "start_time": "2022-06-25T17:34:52.454Z"
   },
   {
    "duration": 9,
    "start_time": "2022-06-25T17:36:17.843Z"
   },
   {
    "duration": 411,
    "start_time": "2022-06-25T17:36:42.526Z"
   },
   {
    "duration": 194,
    "start_time": "2022-06-25T17:36:42.939Z"
   },
   {
    "duration": 38,
    "start_time": "2022-06-25T17:36:43.135Z"
   },
   {
    "duration": 12,
    "start_time": "2022-06-25T17:36:43.176Z"
   },
   {
    "duration": 189,
    "start_time": "2022-06-25T17:36:43.189Z"
   },
   {
    "duration": 53,
    "start_time": "2022-06-25T17:36:43.379Z"
   },
   {
    "duration": 110,
    "start_time": "2022-06-25T17:36:43.434Z"
   },
   {
    "duration": 23,
    "start_time": "2022-06-25T17:36:43.546Z"
   },
   {
    "duration": 29,
    "start_time": "2022-06-25T17:36:43.571Z"
   },
   {
    "duration": 997,
    "start_time": "2022-06-25T17:36:43.603Z"
   },
   {
    "duration": 0,
    "start_time": "2022-06-25T17:36:44.602Z"
   },
   {
    "duration": 0,
    "start_time": "2022-06-25T17:36:44.603Z"
   },
   {
    "duration": 0,
    "start_time": "2022-06-25T17:36:44.604Z"
   },
   {
    "duration": 0,
    "start_time": "2022-06-25T17:36:44.606Z"
   },
   {
    "duration": 0,
    "start_time": "2022-06-25T17:36:44.607Z"
   },
   {
    "duration": 0,
    "start_time": "2022-06-25T17:36:44.608Z"
   },
   {
    "duration": 425,
    "start_time": "2022-06-25T17:37:15.543Z"
   },
   {
    "duration": 191,
    "start_time": "2022-06-25T17:37:15.970Z"
   },
   {
    "duration": 36,
    "start_time": "2022-06-25T17:37:16.163Z"
   },
   {
    "duration": 30,
    "start_time": "2022-06-25T17:37:16.201Z"
   },
   {
    "duration": 205,
    "start_time": "2022-06-25T17:37:16.232Z"
   },
   {
    "duration": 45,
    "start_time": "2022-06-25T17:37:16.439Z"
   },
   {
    "duration": 133,
    "start_time": "2022-06-25T17:37:16.486Z"
   },
   {
    "duration": 26,
    "start_time": "2022-06-25T17:37:16.620Z"
   },
   {
    "duration": 44,
    "start_time": "2022-06-25T17:37:16.648Z"
   },
   {
    "duration": 34,
    "start_time": "2022-06-25T17:37:16.695Z"
   },
   {
    "duration": 2,
    "start_time": "2022-06-25T17:37:16.731Z"
   },
   {
    "duration": 20,
    "start_time": "2022-06-25T17:37:16.735Z"
   },
   {
    "duration": 111,
    "start_time": "2022-06-25T17:37:16.756Z"
   },
   {
    "duration": 39,
    "start_time": "2022-06-25T17:37:16.868Z"
   },
   {
    "duration": 56,
    "start_time": "2022-06-25T17:37:16.909Z"
   },
   {
    "duration": 29,
    "start_time": "2022-06-25T17:37:16.966Z"
   },
   {
    "duration": 33,
    "start_time": "2022-06-25T17:38:34.023Z"
   },
   {
    "duration": 34,
    "start_time": "2022-06-25T17:38:53.621Z"
   },
   {
    "duration": 33,
    "start_time": "2022-06-25T17:40:05.587Z"
   },
   {
    "duration": 395,
    "start_time": "2022-06-25T18:45:01.070Z"
   },
   {
    "duration": 203,
    "start_time": "2022-06-25T18:45:01.467Z"
   },
   {
    "duration": 39,
    "start_time": "2022-06-25T18:45:01.671Z"
   },
   {
    "duration": 24,
    "start_time": "2022-06-25T18:45:01.712Z"
   },
   {
    "duration": 177,
    "start_time": "2022-06-25T18:45:01.737Z"
   },
   {
    "duration": 50,
    "start_time": "2022-06-25T18:45:01.916Z"
   },
   {
    "duration": 116,
    "start_time": "2022-06-25T18:45:01.968Z"
   },
   {
    "duration": 22,
    "start_time": "2022-06-25T18:45:02.085Z"
   },
   {
    "duration": 35,
    "start_time": "2022-06-25T18:45:02.109Z"
   },
   {
    "duration": 34,
    "start_time": "2022-06-25T18:45:02.147Z"
   },
   {
    "duration": 2,
    "start_time": "2022-06-25T18:45:02.183Z"
   },
   {
    "duration": 22,
    "start_time": "2022-06-25T18:45:02.186Z"
   },
   {
    "duration": 102,
    "start_time": "2022-06-25T18:45:02.210Z"
   },
   {
    "duration": 53,
    "start_time": "2022-06-25T18:45:02.314Z"
   },
   {
    "duration": 43,
    "start_time": "2022-06-25T18:45:02.369Z"
   },
   {
    "duration": 48,
    "start_time": "2022-06-25T18:45:02.414Z"
   },
   {
    "duration": 7,
    "start_time": "2022-06-25T18:46:10.262Z"
   },
   {
    "duration": 98,
    "start_time": "2022-06-25T18:56:37.330Z"
   },
   {
    "duration": 823,
    "start_time": "2022-06-25T18:58:43.840Z"
   },
   {
    "duration": 33,
    "start_time": "2022-06-25T18:58:57.776Z"
   },
   {
    "duration": 384,
    "start_time": "2022-06-25T19:00:10.460Z"
   },
   {
    "duration": 197,
    "start_time": "2022-06-25T19:00:10.846Z"
   },
   {
    "duration": 38,
    "start_time": "2022-06-25T19:00:11.045Z"
   },
   {
    "duration": 12,
    "start_time": "2022-06-25T19:00:11.086Z"
   },
   {
    "duration": 170,
    "start_time": "2022-06-25T19:00:11.100Z"
   },
   {
    "duration": 40,
    "start_time": "2022-06-25T19:00:11.272Z"
   },
   {
    "duration": 112,
    "start_time": "2022-06-25T19:00:11.328Z"
   },
   {
    "duration": 23,
    "start_time": "2022-06-25T19:00:11.443Z"
   },
   {
    "duration": 28,
    "start_time": "2022-06-25T19:00:11.468Z"
   },
   {
    "duration": 34,
    "start_time": "2022-06-25T19:00:11.499Z"
   },
   {
    "duration": 2,
    "start_time": "2022-06-25T19:00:11.535Z"
   },
   {
    "duration": 21,
    "start_time": "2022-06-25T19:00:11.539Z"
   },
   {
    "duration": 111,
    "start_time": "2022-06-25T19:00:11.562Z"
   },
   {
    "duration": 54,
    "start_time": "2022-06-25T19:00:11.675Z"
   },
   {
    "duration": 44,
    "start_time": "2022-06-25T19:00:11.731Z"
   },
   {
    "duration": 99,
    "start_time": "2022-06-25T19:00:11.777Z"
   },
   {
    "duration": 0,
    "start_time": "2022-06-25T19:00:11.878Z"
   },
   {
    "duration": 0,
    "start_time": "2022-06-25T19:00:11.880Z"
   },
   {
    "duration": 35,
    "start_time": "2022-06-25T19:00:45.109Z"
   },
   {
    "duration": 8,
    "start_time": "2022-06-25T19:02:00.555Z"
   },
   {
    "duration": 5,
    "start_time": "2022-06-25T19:14:27.315Z"
   },
   {
    "duration": 49,
    "start_time": "2022-06-25T19:24:04.603Z"
   },
   {
    "duration": 843,
    "start_time": "2022-06-25T19:24:16.905Z"
   },
   {
    "duration": 32,
    "start_time": "2022-06-25T19:24:33.589Z"
   },
   {
    "duration": 48,
    "start_time": "2022-06-25T19:24:45.656Z"
   },
   {
    "duration": 403,
    "start_time": "2022-06-25T19:25:01.347Z"
   },
   {
    "duration": 212,
    "start_time": "2022-06-25T19:25:01.752Z"
   },
   {
    "duration": 38,
    "start_time": "2022-06-25T19:25:01.966Z"
   },
   {
    "duration": 31,
    "start_time": "2022-06-25T19:25:02.007Z"
   },
   {
    "duration": 172,
    "start_time": "2022-06-25T19:25:02.040Z"
   },
   {
    "duration": 41,
    "start_time": "2022-06-25T19:25:02.213Z"
   },
   {
    "duration": 122,
    "start_time": "2022-06-25T19:25:02.256Z"
   },
   {
    "duration": 22,
    "start_time": "2022-06-25T19:25:02.380Z"
   },
   {
    "duration": 38,
    "start_time": "2022-06-25T19:25:02.403Z"
   },
   {
    "duration": 35,
    "start_time": "2022-06-25T19:25:02.443Z"
   },
   {
    "duration": 3,
    "start_time": "2022-06-25T19:25:02.479Z"
   },
   {
    "duration": 42,
    "start_time": "2022-06-25T19:25:02.483Z"
   },
   {
    "duration": 115,
    "start_time": "2022-06-25T19:25:02.527Z"
   },
   {
    "duration": 44,
    "start_time": "2022-06-25T19:25:02.643Z"
   },
   {
    "duration": 57,
    "start_time": "2022-06-25T19:25:02.689Z"
   },
   {
    "duration": 37,
    "start_time": "2022-06-25T19:25:02.747Z"
   },
   {
    "duration": 7,
    "start_time": "2022-06-25T19:25:02.785Z"
   },
   {
    "duration": 6,
    "start_time": "2022-06-25T19:25:02.794Z"
   },
   {
    "duration": 1421,
    "start_time": "2022-06-25T19:25:02.801Z"
   },
   {
    "duration": 0,
    "start_time": "2022-06-25T19:25:04.224Z"
   },
   {
    "duration": 41,
    "start_time": "2022-06-25T19:25:24.624Z"
   },
   {
    "duration": 5,
    "start_time": "2022-06-25T19:26:10.468Z"
   },
   {
    "duration": 7,
    "start_time": "2022-06-25T19:31:11.955Z"
   },
   {
    "duration": 44,
    "start_time": "2022-06-25T19:33:54.100Z"
   },
   {
    "duration": 353,
    "start_time": "2022-06-25T19:50:32.882Z"
   },
   {
    "duration": 192,
    "start_time": "2022-06-25T19:50:33.237Z"
   },
   {
    "duration": 36,
    "start_time": "2022-06-25T19:50:33.431Z"
   },
   {
    "duration": 12,
    "start_time": "2022-06-25T19:50:33.470Z"
   },
   {
    "duration": 163,
    "start_time": "2022-06-25T19:50:33.484Z"
   },
   {
    "duration": 41,
    "start_time": "2022-06-25T19:50:33.649Z"
   },
   {
    "duration": 118,
    "start_time": "2022-06-25T19:50:33.692Z"
   },
   {
    "duration": 33,
    "start_time": "2022-06-25T19:50:33.812Z"
   },
   {
    "duration": 34,
    "start_time": "2022-06-25T19:50:33.847Z"
   },
   {
    "duration": 35,
    "start_time": "2022-06-25T19:50:33.885Z"
   },
   {
    "duration": 17,
    "start_time": "2022-06-25T19:50:33.922Z"
   },
   {
    "duration": 105,
    "start_time": "2022-06-25T19:50:33.940Z"
   },
   {
    "duration": 41,
    "start_time": "2022-06-25T19:50:34.046Z"
   },
   {
    "duration": 62,
    "start_time": "2022-06-25T19:50:34.089Z"
   },
   {
    "duration": 33,
    "start_time": "2022-06-25T19:50:34.152Z"
   },
   {
    "duration": 7,
    "start_time": "2022-06-25T19:50:34.187Z"
   },
   {
    "duration": 7,
    "start_time": "2022-06-25T19:50:34.196Z"
   },
   {
    "duration": 42,
    "start_time": "2022-06-25T19:50:34.227Z"
   },
   {
    "duration": 40,
    "start_time": "2022-06-25T19:50:34.271Z"
   },
   {
    "duration": 68,
    "start_time": "2022-06-25T19:52:57.484Z"
   },
   {
    "duration": 427,
    "start_time": "2022-06-25T19:53:14.008Z"
   },
   {
    "duration": 200,
    "start_time": "2022-06-25T19:53:14.436Z"
   },
   {
    "duration": 36,
    "start_time": "2022-06-25T19:53:14.637Z"
   },
   {
    "duration": 12,
    "start_time": "2022-06-25T19:53:14.675Z"
   },
   {
    "duration": 191,
    "start_time": "2022-06-25T19:53:14.689Z"
   },
   {
    "duration": 104,
    "start_time": "2022-06-25T19:53:14.884Z"
   },
   {
    "duration": 0,
    "start_time": "2022-06-25T19:53:14.990Z"
   },
   {
    "duration": 0,
    "start_time": "2022-06-25T19:53:14.991Z"
   },
   {
    "duration": 0,
    "start_time": "2022-06-25T19:53:14.992Z"
   },
   {
    "duration": 0,
    "start_time": "2022-06-25T19:53:14.993Z"
   },
   {
    "duration": 1,
    "start_time": "2022-06-25T19:53:14.993Z"
   },
   {
    "duration": 0,
    "start_time": "2022-06-25T19:53:14.994Z"
   },
   {
    "duration": 0,
    "start_time": "2022-06-25T19:53:14.995Z"
   },
   {
    "duration": 0,
    "start_time": "2022-06-25T19:53:14.996Z"
   },
   {
    "duration": 0,
    "start_time": "2022-06-25T19:53:14.998Z"
   },
   {
    "duration": 0,
    "start_time": "2022-06-25T19:53:14.999Z"
   },
   {
    "duration": 0,
    "start_time": "2022-06-25T19:53:14.999Z"
   },
   {
    "duration": 0,
    "start_time": "2022-06-25T19:53:15.000Z"
   },
   {
    "duration": 0,
    "start_time": "2022-06-25T19:53:15.001Z"
   },
   {
    "duration": 15,
    "start_time": "2022-06-25T19:53:38.182Z"
   },
   {
    "duration": 404,
    "start_time": "2022-06-25T19:53:52.425Z"
   },
   {
    "duration": 186,
    "start_time": "2022-06-25T19:53:52.830Z"
   },
   {
    "duration": 40,
    "start_time": "2022-06-25T19:53:53.020Z"
   },
   {
    "duration": 12,
    "start_time": "2022-06-25T19:53:53.062Z"
   },
   {
    "duration": 159,
    "start_time": "2022-06-25T19:53:53.075Z"
   },
   {
    "duration": 51,
    "start_time": "2022-06-25T19:53:53.235Z"
   },
   {
    "duration": 118,
    "start_time": "2022-06-25T19:53:53.288Z"
   },
   {
    "duration": 27,
    "start_time": "2022-06-25T19:53:53.407Z"
   },
   {
    "duration": 26,
    "start_time": "2022-06-25T19:53:53.436Z"
   },
   {
    "duration": 33,
    "start_time": "2022-06-25T19:53:53.464Z"
   },
   {
    "duration": 18,
    "start_time": "2022-06-25T19:53:53.499Z"
   },
   {
    "duration": 109,
    "start_time": "2022-06-25T19:53:53.518Z"
   },
   {
    "duration": 42,
    "start_time": "2022-06-25T19:53:53.628Z"
   },
   {
    "duration": 62,
    "start_time": "2022-06-25T19:53:53.671Z"
   },
   {
    "duration": 33,
    "start_time": "2022-06-25T19:53:53.735Z"
   },
   {
    "duration": 7,
    "start_time": "2022-06-25T19:53:53.769Z"
   },
   {
    "duration": 12,
    "start_time": "2022-06-25T19:53:53.778Z"
   },
   {
    "duration": 54,
    "start_time": "2022-06-25T19:53:53.792Z"
   },
   {
    "duration": 45,
    "start_time": "2022-06-25T19:53:53.849Z"
   },
   {
    "duration": 388,
    "start_time": "2022-06-25T19:57:11.959Z"
   },
   {
    "duration": 212,
    "start_time": "2022-06-25T19:57:12.348Z"
   },
   {
    "duration": 38,
    "start_time": "2022-06-25T19:57:12.562Z"
   },
   {
    "duration": 26,
    "start_time": "2022-06-25T19:57:12.602Z"
   },
   {
    "duration": 181,
    "start_time": "2022-06-25T19:57:12.630Z"
   },
   {
    "duration": 822,
    "start_time": "2022-06-25T19:57:12.812Z"
   },
   {
    "duration": 0,
    "start_time": "2022-06-25T19:57:13.635Z"
   },
   {
    "duration": 0,
    "start_time": "2022-06-25T19:57:13.638Z"
   },
   {
    "duration": 0,
    "start_time": "2022-06-25T19:57:13.640Z"
   },
   {
    "duration": 0,
    "start_time": "2022-06-25T19:57:13.641Z"
   },
   {
    "duration": 0,
    "start_time": "2022-06-25T19:57:13.642Z"
   },
   {
    "duration": 0,
    "start_time": "2022-06-25T19:57:13.643Z"
   },
   {
    "duration": 0,
    "start_time": "2022-06-25T19:57:13.645Z"
   },
   {
    "duration": 0,
    "start_time": "2022-06-25T19:57:13.646Z"
   },
   {
    "duration": 0,
    "start_time": "2022-06-25T19:57:13.646Z"
   },
   {
    "duration": 0,
    "start_time": "2022-06-25T19:57:13.648Z"
   },
   {
    "duration": 0,
    "start_time": "2022-06-25T19:57:13.649Z"
   },
   {
    "duration": 0,
    "start_time": "2022-06-25T19:57:13.650Z"
   },
   {
    "duration": 0,
    "start_time": "2022-06-25T19:57:13.651Z"
   },
   {
    "duration": 14,
    "start_time": "2022-06-25T19:57:43.115Z"
   },
   {
    "duration": 378,
    "start_time": "2022-06-25T19:57:58.657Z"
   },
   {
    "duration": 194,
    "start_time": "2022-06-25T19:57:59.037Z"
   },
   {
    "duration": 36,
    "start_time": "2022-06-25T19:57:59.233Z"
   },
   {
    "duration": 13,
    "start_time": "2022-06-25T19:57:59.271Z"
   },
   {
    "duration": 165,
    "start_time": "2022-06-25T19:57:59.286Z"
   },
   {
    "duration": 42,
    "start_time": "2022-06-25T19:57:59.452Z"
   },
   {
    "duration": 116,
    "start_time": "2022-06-25T19:57:59.495Z"
   },
   {
    "duration": 26,
    "start_time": "2022-06-25T19:57:59.613Z"
   },
   {
    "duration": 27,
    "start_time": "2022-06-25T19:57:59.641Z"
   },
   {
    "duration": 33,
    "start_time": "2022-06-25T19:57:59.670Z"
   },
   {
    "duration": 17,
    "start_time": "2022-06-25T19:57:59.705Z"
   },
   {
    "duration": 105,
    "start_time": "2022-06-25T19:57:59.723Z"
   },
   {
    "duration": 42,
    "start_time": "2022-06-25T19:57:59.829Z"
   },
   {
    "duration": 58,
    "start_time": "2022-06-25T19:57:59.872Z"
   },
   {
    "duration": 37,
    "start_time": "2022-06-25T19:57:59.931Z"
   },
   {
    "duration": 7,
    "start_time": "2022-06-25T19:57:59.970Z"
   },
   {
    "duration": 10,
    "start_time": "2022-06-25T19:57:59.978Z"
   },
   {
    "duration": 97,
    "start_time": "2022-06-25T19:57:59.989Z"
   },
   {
    "duration": 76,
    "start_time": "2022-06-25T19:58:00.087Z"
   },
   {
    "duration": 435,
    "start_time": "2022-06-25T19:58:45.512Z"
   },
   {
    "duration": 221,
    "start_time": "2022-06-25T19:58:45.949Z"
   },
   {
    "duration": 58,
    "start_time": "2022-06-25T19:58:46.172Z"
   },
   {
    "duration": 15,
    "start_time": "2022-06-25T19:58:46.233Z"
   },
   {
    "duration": 197,
    "start_time": "2022-06-25T19:58:46.250Z"
   },
   {
    "duration": 50,
    "start_time": "2022-06-25T19:58:46.449Z"
   },
   {
    "duration": 0,
    "start_time": "2022-06-25T19:58:46.500Z"
   },
   {
    "duration": 0,
    "start_time": "2022-06-25T19:58:46.502Z"
   },
   {
    "duration": 0,
    "start_time": "2022-06-25T19:58:46.504Z"
   },
   {
    "duration": 0,
    "start_time": "2022-06-25T19:58:46.505Z"
   },
   {
    "duration": 0,
    "start_time": "2022-06-25T19:58:46.507Z"
   },
   {
    "duration": 0,
    "start_time": "2022-06-25T19:58:46.508Z"
   },
   {
    "duration": 0,
    "start_time": "2022-06-25T19:58:46.509Z"
   },
   {
    "duration": 0,
    "start_time": "2022-06-25T19:58:46.510Z"
   },
   {
    "duration": 0,
    "start_time": "2022-06-25T19:58:46.511Z"
   },
   {
    "duration": 0,
    "start_time": "2022-06-25T19:58:46.512Z"
   },
   {
    "duration": 0,
    "start_time": "2022-06-25T19:58:46.513Z"
   },
   {
    "duration": 0,
    "start_time": "2022-06-25T19:58:46.514Z"
   },
   {
    "duration": 0,
    "start_time": "2022-06-25T19:58:46.514Z"
   },
   {
    "duration": 87,
    "start_time": "2022-06-25T19:59:22.657Z"
   },
   {
    "duration": 16,
    "start_time": "2022-06-25T20:01:05.516Z"
   },
   {
    "duration": 447,
    "start_time": "2022-06-25T20:01:13.210Z"
   },
   {
    "duration": 200,
    "start_time": "2022-06-25T20:01:13.659Z"
   },
   {
    "duration": 43,
    "start_time": "2022-06-25T20:01:13.861Z"
   },
   {
    "duration": 27,
    "start_time": "2022-06-25T20:01:13.906Z"
   },
   {
    "duration": 161,
    "start_time": "2022-06-25T20:01:13.934Z"
   },
   {
    "duration": 49,
    "start_time": "2022-06-25T20:01:14.097Z"
   },
   {
    "duration": 110,
    "start_time": "2022-06-25T20:01:14.148Z"
   },
   {
    "duration": 20,
    "start_time": "2022-06-25T20:01:14.260Z"
   },
   {
    "duration": 38,
    "start_time": "2022-06-25T20:01:14.282Z"
   },
   {
    "duration": 41,
    "start_time": "2022-06-25T20:01:14.322Z"
   },
   {
    "duration": 19,
    "start_time": "2022-06-25T20:01:14.365Z"
   },
   {
    "duration": 114,
    "start_time": "2022-06-25T20:01:14.387Z"
   },
   {
    "duration": 48,
    "start_time": "2022-06-25T20:01:14.502Z"
   },
   {
    "duration": 45,
    "start_time": "2022-06-25T20:01:14.552Z"
   },
   {
    "duration": 50,
    "start_time": "2022-06-25T20:01:14.599Z"
   },
   {
    "duration": 7,
    "start_time": "2022-06-25T20:01:14.651Z"
   },
   {
    "duration": 33,
    "start_time": "2022-06-25T20:01:14.659Z"
   },
   {
    "duration": 86,
    "start_time": "2022-06-25T20:01:14.693Z"
   },
   {
    "duration": 84,
    "start_time": "2022-06-25T20:01:14.781Z"
   },
   {
    "duration": 38,
    "start_time": "2022-06-25T20:02:30.688Z"
   },
   {
    "duration": 34,
    "start_time": "2022-06-25T20:02:50.720Z"
   },
   {
    "duration": 392,
    "start_time": "2022-06-26T07:46:28.498Z"
   },
   {
    "duration": 292,
    "start_time": "2022-06-26T07:46:28.891Z"
   },
   {
    "duration": 35,
    "start_time": "2022-06-26T07:46:29.185Z"
   },
   {
    "duration": 20,
    "start_time": "2022-06-26T07:46:29.222Z"
   },
   {
    "duration": 352,
    "start_time": "2022-06-26T07:46:29.244Z"
   },
   {
    "duration": 42,
    "start_time": "2022-06-26T07:46:29.598Z"
   },
   {
    "duration": 667,
    "start_time": "2022-06-26T07:46:29.642Z"
   },
   {
    "duration": 20,
    "start_time": "2022-06-26T07:46:30.311Z"
   },
   {
    "duration": 86,
    "start_time": "2022-06-26T07:46:30.333Z"
   },
   {
    "duration": 73,
    "start_time": "2022-06-26T07:46:30.422Z"
   },
   {
    "duration": 19,
    "start_time": "2022-06-26T07:46:30.497Z"
   },
   {
    "duration": 104,
    "start_time": "2022-06-26T07:46:30.518Z"
   },
   {
    "duration": 60,
    "start_time": "2022-06-26T07:46:30.624Z"
   },
   {
    "duration": 48,
    "start_time": "2022-06-26T07:46:30.685Z"
   },
   {
    "duration": 55,
    "start_time": "2022-06-26T07:46:30.734Z"
   },
   {
    "duration": 8,
    "start_time": "2022-06-26T07:46:30.790Z"
   },
   {
    "duration": 10,
    "start_time": "2022-06-26T07:46:30.799Z"
   },
   {
    "duration": 64,
    "start_time": "2022-06-26T07:46:30.811Z"
   },
   {
    "duration": 40,
    "start_time": "2022-06-26T07:46:30.877Z"
   },
   {
    "duration": 8,
    "start_time": "2022-06-26T07:48:37.004Z"
   },
   {
    "duration": 49,
    "start_time": "2022-06-26T07:54:15.530Z"
   },
   {
    "duration": 4,
    "start_time": "2022-06-26T07:54:20.699Z"
   },
   {
    "duration": 3,
    "start_time": "2022-06-26T07:54:37.429Z"
   },
   {
    "duration": 72,
    "start_time": "2022-06-26T07:54:51.545Z"
   },
   {
    "duration": 389,
    "start_time": "2022-06-26T07:54:58.640Z"
   },
   {
    "duration": 358,
    "start_time": "2022-06-26T07:55:31.290Z"
   },
   {
    "duration": 409,
    "start_time": "2022-06-26T07:55:39.008Z"
   },
   {
    "duration": 911,
    "start_time": "2022-06-26T08:00:51.922Z"
   },
   {
    "duration": 43,
    "start_time": "2022-06-26T08:05:07.135Z"
   },
   {
    "duration": 4,
    "start_time": "2022-06-26T08:07:53.392Z"
   },
   {
    "duration": 16,
    "start_time": "2022-06-26T08:08:07.718Z"
   },
   {
    "duration": 21,
    "start_time": "2022-06-26T08:08:50.170Z"
   },
   {
    "duration": 934,
    "start_time": "2022-06-26T08:09:09.922Z"
   },
   {
    "duration": 752,
    "start_time": "2022-06-26T08:09:25.181Z"
   },
   {
    "duration": 4,
    "start_time": "2022-06-26T08:15:05.914Z"
   },
   {
    "duration": 16,
    "start_time": "2022-06-26T08:16:17.471Z"
   },
   {
    "duration": 21,
    "start_time": "2022-06-26T08:20:28.557Z"
   },
   {
    "duration": 1015,
    "start_time": "2022-06-26T08:21:02.317Z"
   },
   {
    "duration": 412,
    "start_time": "2022-06-26T08:21:12.817Z"
   },
   {
    "duration": 198,
    "start_time": "2022-06-26T08:21:13.230Z"
   },
   {
    "duration": 39,
    "start_time": "2022-06-26T08:21:13.431Z"
   },
   {
    "duration": 13,
    "start_time": "2022-06-26T08:21:13.472Z"
   },
   {
    "duration": 158,
    "start_time": "2022-06-26T08:21:13.487Z"
   },
   {
    "duration": 51,
    "start_time": "2022-06-26T08:21:13.646Z"
   },
   {
    "duration": 113,
    "start_time": "2022-06-26T08:21:13.699Z"
   },
   {
    "duration": 20,
    "start_time": "2022-06-26T08:21:13.814Z"
   },
   {
    "duration": 34,
    "start_time": "2022-06-26T08:21:13.836Z"
   },
   {
    "duration": 34,
    "start_time": "2022-06-26T08:21:13.874Z"
   },
   {
    "duration": 19,
    "start_time": "2022-06-26T08:21:13.910Z"
   },
   {
    "duration": 105,
    "start_time": "2022-06-26T08:21:13.931Z"
   },
   {
    "duration": 57,
    "start_time": "2022-06-26T08:21:14.038Z"
   },
   {
    "duration": 44,
    "start_time": "2022-06-26T08:21:14.097Z"
   },
   {
    "duration": 46,
    "start_time": "2022-06-26T08:21:14.143Z"
   },
   {
    "duration": 796,
    "start_time": "2022-06-26T08:21:14.191Z"
   },
   {
    "duration": 0,
    "start_time": "2022-06-26T08:21:14.989Z"
   },
   {
    "duration": 0,
    "start_time": "2022-06-26T08:21:14.990Z"
   },
   {
    "duration": 0,
    "start_time": "2022-06-26T08:21:14.991Z"
   },
   {
    "duration": 0,
    "start_time": "2022-06-26T08:21:14.992Z"
   },
   {
    "duration": 0,
    "start_time": "2022-06-26T08:21:14.993Z"
   },
   {
    "duration": 0,
    "start_time": "2022-06-26T08:21:14.994Z"
   },
   {
    "duration": 399,
    "start_time": "2022-06-26T08:21:32.476Z"
   },
   {
    "duration": 227,
    "start_time": "2022-06-26T08:21:32.877Z"
   },
   {
    "duration": 53,
    "start_time": "2022-06-26T08:21:33.106Z"
   },
   {
    "duration": 14,
    "start_time": "2022-06-26T08:21:33.161Z"
   },
   {
    "duration": 169,
    "start_time": "2022-06-26T08:21:33.177Z"
   },
   {
    "duration": 51,
    "start_time": "2022-06-26T08:21:33.348Z"
   },
   {
    "duration": 115,
    "start_time": "2022-06-26T08:21:33.401Z"
   },
   {
    "duration": 21,
    "start_time": "2022-06-26T08:21:33.518Z"
   },
   {
    "duration": 31,
    "start_time": "2022-06-26T08:21:33.541Z"
   },
   {
    "duration": 34,
    "start_time": "2022-06-26T08:21:33.575Z"
   },
   {
    "duration": 17,
    "start_time": "2022-06-26T08:21:33.611Z"
   },
   {
    "duration": 103,
    "start_time": "2022-06-26T08:21:33.630Z"
   },
   {
    "duration": 53,
    "start_time": "2022-06-26T08:21:33.734Z"
   },
   {
    "duration": 46,
    "start_time": "2022-06-26T08:21:33.789Z"
   },
   {
    "duration": 50,
    "start_time": "2022-06-26T08:21:33.836Z"
   },
   {
    "duration": 3,
    "start_time": "2022-06-26T08:21:33.888Z"
   },
   {
    "duration": 12,
    "start_time": "2022-06-26T08:21:33.892Z"
   },
   {
    "duration": 55,
    "start_time": "2022-06-26T08:21:33.905Z"
   },
   {
    "duration": 39,
    "start_time": "2022-06-26T08:21:33.962Z"
   },
   {
    "duration": 56,
    "start_time": "2022-06-26T08:21:34.003Z"
   },
   {
    "duration": 16,
    "start_time": "2022-06-26T08:21:34.060Z"
   },
   {
    "duration": 6,
    "start_time": "2022-06-26T08:21:34.078Z"
   },
   {
    "duration": 814,
    "start_time": "2022-06-26T08:22:12.709Z"
   },
   {
    "duration": 404,
    "start_time": "2022-06-26T08:22:18.480Z"
   },
   {
    "duration": 189,
    "start_time": "2022-06-26T08:22:18.887Z"
   },
   {
    "duration": 35,
    "start_time": "2022-06-26T08:22:19.077Z"
   },
   {
    "duration": 12,
    "start_time": "2022-06-26T08:22:19.115Z"
   },
   {
    "duration": 167,
    "start_time": "2022-06-26T08:22:19.128Z"
   },
   {
    "duration": 40,
    "start_time": "2022-06-26T08:22:19.297Z"
   },
   {
    "duration": 120,
    "start_time": "2022-06-26T08:22:19.339Z"
   },
   {
    "duration": 21,
    "start_time": "2022-06-26T08:22:19.460Z"
   },
   {
    "duration": 27,
    "start_time": "2022-06-26T08:22:19.482Z"
   },
   {
    "duration": 36,
    "start_time": "2022-06-26T08:22:19.511Z"
   },
   {
    "duration": 17,
    "start_time": "2022-06-26T08:22:19.549Z"
   },
   {
    "duration": 113,
    "start_time": "2022-06-26T08:22:19.568Z"
   },
   {
    "duration": 40,
    "start_time": "2022-06-26T08:22:19.683Z"
   },
   {
    "duration": 61,
    "start_time": "2022-06-26T08:22:19.725Z"
   },
   {
    "duration": 38,
    "start_time": "2022-06-26T08:22:19.788Z"
   },
   {
    "duration": 5,
    "start_time": "2022-06-26T08:22:19.828Z"
   },
   {
    "duration": 45,
    "start_time": "2022-06-26T08:22:19.835Z"
   },
   {
    "duration": 53,
    "start_time": "2022-06-26T08:22:19.881Z"
   },
   {
    "duration": 44,
    "start_time": "2022-06-26T08:22:19.935Z"
   },
   {
    "duration": 42,
    "start_time": "2022-06-26T08:22:19.981Z"
   },
   {
    "duration": 38,
    "start_time": "2022-06-26T08:22:20.025Z"
   },
   {
    "duration": 8,
    "start_time": "2022-06-26T08:22:20.065Z"
   },
   {
    "duration": 55,
    "start_time": "2022-06-26T08:32:38.135Z"
   },
   {
    "duration": 4,
    "start_time": "2022-06-26T08:43:36.824Z"
   },
   {
    "duration": 490,
    "start_time": "2022-06-26T08:44:10.019Z"
   },
   {
    "duration": 226,
    "start_time": "2022-06-26T08:44:37.802Z"
   },
   {
    "duration": 37,
    "start_time": "2022-06-26T08:47:05.202Z"
   },
   {
    "duration": 8,
    "start_time": "2022-06-26T08:47:23.543Z"
   },
   {
    "duration": 369,
    "start_time": "2022-06-26T09:28:44.615Z"
   },
   {
    "duration": 192,
    "start_time": "2022-06-26T09:28:44.985Z"
   },
   {
    "duration": 35,
    "start_time": "2022-06-26T09:28:45.178Z"
   },
   {
    "duration": 13,
    "start_time": "2022-06-26T09:28:45.216Z"
   },
   {
    "duration": 172,
    "start_time": "2022-06-26T09:28:45.231Z"
   },
   {
    "duration": 55,
    "start_time": "2022-06-26T09:28:45.404Z"
   },
   {
    "duration": 110,
    "start_time": "2022-06-26T09:28:45.460Z"
   },
   {
    "duration": 20,
    "start_time": "2022-06-26T09:28:45.572Z"
   },
   {
    "duration": 26,
    "start_time": "2022-06-26T09:28:45.594Z"
   },
   {
    "duration": 33,
    "start_time": "2022-06-26T09:28:45.622Z"
   },
   {
    "duration": 18,
    "start_time": "2022-06-26T09:28:45.657Z"
   },
   {
    "duration": 112,
    "start_time": "2022-06-26T09:28:45.677Z"
   },
   {
    "duration": 41,
    "start_time": "2022-06-26T09:28:45.791Z"
   },
   {
    "duration": 62,
    "start_time": "2022-06-26T09:28:45.834Z"
   },
   {
    "duration": 34,
    "start_time": "2022-06-26T09:28:45.897Z"
   },
   {
    "duration": 798,
    "start_time": "2022-06-26T09:28:45.932Z"
   },
   {
    "duration": 0,
    "start_time": "2022-06-26T09:28:46.732Z"
   },
   {
    "duration": 0,
    "start_time": "2022-06-26T09:28:46.733Z"
   },
   {
    "duration": 0,
    "start_time": "2022-06-26T09:28:46.734Z"
   },
   {
    "duration": 0,
    "start_time": "2022-06-26T09:28:46.735Z"
   },
   {
    "duration": 0,
    "start_time": "2022-06-26T09:28:46.736Z"
   },
   {
    "duration": 0,
    "start_time": "2022-06-26T09:28:46.738Z"
   },
   {
    "duration": 0,
    "start_time": "2022-06-26T09:28:46.739Z"
   },
   {
    "duration": 0,
    "start_time": "2022-06-26T09:28:46.740Z"
   },
   {
    "duration": 0,
    "start_time": "2022-06-26T09:28:46.741Z"
   },
   {
    "duration": 3,
    "start_time": "2022-06-26T09:30:45.508Z"
   },
   {
    "duration": 5,
    "start_time": "2022-06-26T09:31:21.747Z"
   },
   {
    "duration": 356,
    "start_time": "2022-06-26T09:33:16.303Z"
   },
   {
    "duration": 190,
    "start_time": "2022-06-26T09:33:16.660Z"
   },
   {
    "duration": 38,
    "start_time": "2022-06-26T09:33:16.851Z"
   },
   {
    "duration": 11,
    "start_time": "2022-06-26T09:33:16.891Z"
   },
   {
    "duration": 162,
    "start_time": "2022-06-26T09:33:16.904Z"
   },
   {
    "duration": 41,
    "start_time": "2022-06-26T09:33:17.067Z"
   },
   {
    "duration": 150,
    "start_time": "2022-06-26T09:33:17.109Z"
   },
   {
    "duration": 24,
    "start_time": "2022-06-26T09:33:17.261Z"
   },
   {
    "duration": 34,
    "start_time": "2022-06-26T09:33:17.287Z"
   },
   {
    "duration": 37,
    "start_time": "2022-06-26T09:33:17.323Z"
   },
   {
    "duration": 23,
    "start_time": "2022-06-26T09:33:17.363Z"
   },
   {
    "duration": 114,
    "start_time": "2022-06-26T09:33:17.388Z"
   },
   {
    "duration": 40,
    "start_time": "2022-06-26T09:33:17.504Z"
   },
   {
    "duration": 53,
    "start_time": "2022-06-26T09:33:17.546Z"
   },
   {
    "duration": 33,
    "start_time": "2022-06-26T09:33:17.601Z"
   },
   {
    "duration": 25,
    "start_time": "2022-06-26T09:33:17.636Z"
   },
   {
    "duration": 12,
    "start_time": "2022-06-26T09:33:17.662Z"
   },
   {
    "duration": 43,
    "start_time": "2022-06-26T09:33:17.676Z"
   },
   {
    "duration": 51,
    "start_time": "2022-06-26T09:33:17.721Z"
   },
   {
    "duration": 49,
    "start_time": "2022-06-26T09:33:17.774Z"
   },
   {
    "duration": 0,
    "start_time": "2022-06-26T09:33:17.824Z"
   },
   {
    "duration": 0,
    "start_time": "2022-06-26T09:33:17.825Z"
   },
   {
    "duration": 0,
    "start_time": "2022-06-26T09:33:17.826Z"
   },
   {
    "duration": 0,
    "start_time": "2022-06-26T09:33:17.828Z"
   },
   {
    "duration": 0,
    "start_time": "2022-06-26T09:33:17.829Z"
   },
   {
    "duration": 43,
    "start_time": "2022-06-26T09:33:48.119Z"
   },
   {
    "duration": 1299,
    "start_time": "2022-06-26T09:34:26.519Z"
   },
   {
    "duration": 68,
    "start_time": "2022-06-26T09:35:12.088Z"
   },
   {
    "duration": 417,
    "start_time": "2022-06-26T09:35:16.829Z"
   },
   {
    "duration": 234,
    "start_time": "2022-06-26T09:35:17.248Z"
   },
   {
    "duration": 39,
    "start_time": "2022-06-26T09:35:17.487Z"
   },
   {
    "duration": 36,
    "start_time": "2022-06-26T09:35:17.528Z"
   },
   {
    "duration": 150,
    "start_time": "2022-06-26T09:35:17.565Z"
   },
   {
    "duration": 55,
    "start_time": "2022-06-26T09:35:17.717Z"
   },
   {
    "duration": 108,
    "start_time": "2022-06-26T09:35:17.773Z"
   },
   {
    "duration": 22,
    "start_time": "2022-06-26T09:35:17.883Z"
   },
   {
    "duration": 26,
    "start_time": "2022-06-26T09:35:17.907Z"
   },
   {
    "duration": 33,
    "start_time": "2022-06-26T09:35:17.935Z"
   },
   {
    "duration": 17,
    "start_time": "2022-06-26T09:35:17.969Z"
   },
   {
    "duration": 106,
    "start_time": "2022-06-26T09:35:17.987Z"
   },
   {
    "duration": 39,
    "start_time": "2022-06-26T09:35:18.096Z"
   },
   {
    "duration": 63,
    "start_time": "2022-06-26T09:35:18.136Z"
   },
   {
    "duration": 32,
    "start_time": "2022-06-26T09:35:18.201Z"
   },
   {
    "duration": 5,
    "start_time": "2022-06-26T09:35:18.234Z"
   },
   {
    "duration": 22,
    "start_time": "2022-06-26T09:35:18.240Z"
   },
   {
    "duration": 40,
    "start_time": "2022-06-26T09:35:18.264Z"
   },
   {
    "duration": 59,
    "start_time": "2022-06-26T09:35:18.305Z"
   },
   {
    "duration": 67,
    "start_time": "2022-06-26T09:35:18.365Z"
   },
   {
    "duration": 0,
    "start_time": "2022-06-26T09:35:18.433Z"
   },
   {
    "duration": 0,
    "start_time": "2022-06-26T09:35:18.434Z"
   },
   {
    "duration": 0,
    "start_time": "2022-06-26T09:35:18.436Z"
   },
   {
    "duration": 0,
    "start_time": "2022-06-26T09:35:18.436Z"
   },
   {
    "duration": 0,
    "start_time": "2022-06-26T09:35:18.437Z"
   },
   {
    "duration": 17,
    "start_time": "2022-06-26T09:35:59.089Z"
   },
   {
    "duration": 16,
    "start_time": "2022-06-26T09:36:10.668Z"
   },
   {
    "duration": 8,
    "start_time": "2022-06-26T09:36:50.174Z"
   },
   {
    "duration": 5,
    "start_time": "2022-06-26T09:36:56.510Z"
   },
   {
    "duration": 1592,
    "start_time": "2022-06-26T09:37:10.367Z"
   },
   {
    "duration": 365,
    "start_time": "2022-06-26T09:37:20.188Z"
   },
   {
    "duration": 189,
    "start_time": "2022-06-26T09:37:20.554Z"
   },
   {
    "duration": 50,
    "start_time": "2022-06-26T09:37:20.745Z"
   },
   {
    "duration": 13,
    "start_time": "2022-06-26T09:37:20.797Z"
   },
   {
    "duration": 163,
    "start_time": "2022-06-26T09:37:20.812Z"
   },
   {
    "duration": 43,
    "start_time": "2022-06-26T09:37:20.977Z"
   },
   {
    "duration": 121,
    "start_time": "2022-06-26T09:37:21.022Z"
   },
   {
    "duration": 39,
    "start_time": "2022-06-26T09:37:21.144Z"
   },
   {
    "duration": 27,
    "start_time": "2022-06-26T09:37:21.185Z"
   },
   {
    "duration": 35,
    "start_time": "2022-06-26T09:37:21.214Z"
   },
   {
    "duration": 18,
    "start_time": "2022-06-26T09:37:21.250Z"
   },
   {
    "duration": 108,
    "start_time": "2022-06-26T09:37:21.269Z"
   },
   {
    "duration": 60,
    "start_time": "2022-06-26T09:37:21.380Z"
   },
   {
    "duration": 57,
    "start_time": "2022-06-26T09:37:21.442Z"
   },
   {
    "duration": 37,
    "start_time": "2022-06-26T09:37:21.501Z"
   },
   {
    "duration": 22,
    "start_time": "2022-06-26T09:37:21.539Z"
   },
   {
    "duration": 10,
    "start_time": "2022-06-26T09:37:21.562Z"
   },
   {
    "duration": 40,
    "start_time": "2022-06-26T09:37:21.573Z"
   },
   {
    "duration": 61,
    "start_time": "2022-06-26T09:37:21.614Z"
   },
   {
    "duration": 1630,
    "start_time": "2022-06-26T09:37:21.677Z"
   },
   {
    "duration": 14,
    "start_time": "2022-06-26T09:37:23.309Z"
   },
   {
    "duration": 6,
    "start_time": "2022-06-26T09:37:23.325Z"
   },
   {
    "duration": 71,
    "start_time": "2022-06-26T09:37:23.333Z"
   },
   {
    "duration": 3,
    "start_time": "2022-06-26T09:37:23.406Z"
   },
   {
    "duration": 11,
    "start_time": "2022-06-26T09:37:23.411Z"
   },
   {
    "duration": 5,
    "start_time": "2022-06-26T10:26:06.947Z"
   },
   {
    "duration": 6,
    "start_time": "2022-06-26T10:26:40.532Z"
   },
   {
    "duration": 4,
    "start_time": "2022-06-26T10:27:23.858Z"
   },
   {
    "duration": 5,
    "start_time": "2022-06-26T10:28:18.098Z"
   },
   {
    "duration": 5,
    "start_time": "2022-06-26T10:33:41.572Z"
   },
   {
    "duration": 49,
    "start_time": "2022-06-26T10:34:30.399Z"
   },
   {
    "duration": 5,
    "start_time": "2022-06-26T10:34:37.603Z"
   },
   {
    "duration": 4,
    "start_time": "2022-06-26T10:35:37.806Z"
   },
   {
    "duration": 723,
    "start_time": "2022-06-26T11:09:09.399Z"
   },
   {
    "duration": 3,
    "start_time": "2022-06-26T11:10:11.088Z"
   },
   {
    "duration": 1337,
    "start_time": "2022-06-26T12:03:42.363Z"
   },
   {
    "duration": 284,
    "start_time": "2022-06-26T12:03:43.702Z"
   },
   {
    "duration": 36,
    "start_time": "2022-06-26T12:03:43.988Z"
   },
   {
    "duration": 14,
    "start_time": "2022-06-26T12:03:44.027Z"
   },
   {
    "duration": 343,
    "start_time": "2022-06-26T12:03:44.042Z"
   },
   {
    "duration": 47,
    "start_time": "2022-06-26T12:03:44.387Z"
   },
   {
    "duration": 364,
    "start_time": "2022-06-26T12:03:44.436Z"
   },
   {
    "duration": 35,
    "start_time": "2022-06-26T12:03:44.802Z"
   },
   {
    "duration": 88,
    "start_time": "2022-06-26T12:03:44.840Z"
   },
   {
    "duration": 110,
    "start_time": "2022-06-26T12:03:44.931Z"
   },
   {
    "duration": 21,
    "start_time": "2022-06-26T12:03:45.042Z"
   },
   {
    "duration": 106,
    "start_time": "2022-06-26T12:03:45.065Z"
   },
   {
    "duration": 52,
    "start_time": "2022-06-26T12:03:45.173Z"
   },
   {
    "duration": 50,
    "start_time": "2022-06-26T12:03:45.227Z"
   },
   {
    "duration": 49,
    "start_time": "2022-06-26T12:03:45.279Z"
   },
   {
    "duration": 4,
    "start_time": "2022-06-26T12:03:45.330Z"
   },
   {
    "duration": 10,
    "start_time": "2022-06-26T12:03:45.336Z"
   },
   {
    "duration": 74,
    "start_time": "2022-06-26T12:03:45.348Z"
   },
   {
    "duration": 43,
    "start_time": "2022-06-26T12:03:45.423Z"
   },
   {
    "duration": 1704,
    "start_time": "2022-06-26T12:03:45.468Z"
   },
   {
    "duration": 21,
    "start_time": "2022-06-26T12:03:47.174Z"
   },
   {
    "duration": 8,
    "start_time": "2022-06-26T12:03:47.196Z"
   },
   {
    "duration": 59,
    "start_time": "2022-06-26T12:03:47.206Z"
   },
   {
    "duration": 3,
    "start_time": "2022-06-26T12:03:47.268Z"
   },
   {
    "duration": 27,
    "start_time": "2022-06-26T12:03:47.273Z"
   },
   {
    "duration": 3,
    "start_time": "2022-06-26T12:03:47.302Z"
   },
   {
    "duration": 6,
    "start_time": "2022-06-26T12:03:47.306Z"
   },
   {
    "duration": 17,
    "start_time": "2022-06-26T12:03:47.315Z"
   },
   {
    "duration": 69,
    "start_time": "2022-06-26T12:06:57.114Z"
   },
   {
    "duration": 45,
    "start_time": "2022-06-26T12:07:17.529Z"
   },
   {
    "duration": 98,
    "start_time": "2022-06-26T12:07:37.135Z"
   },
   {
    "duration": 22,
    "start_time": "2022-06-26T12:07:58.597Z"
   },
   {
    "duration": 11,
    "start_time": "2022-06-26T12:08:38.123Z"
   },
   {
    "duration": 25,
    "start_time": "2022-06-26T12:08:51.150Z"
   },
   {
    "duration": 19,
    "start_time": "2022-06-26T12:13:29.202Z"
   },
   {
    "duration": 13,
    "start_time": "2022-06-26T12:14:11.104Z"
   },
   {
    "duration": 70,
    "start_time": "2022-06-26T12:15:33.118Z"
   },
   {
    "duration": 4,
    "start_time": "2022-06-26T12:15:42.973Z"
   },
   {
    "duration": 23,
    "start_time": "2022-06-26T12:15:48.292Z"
   },
   {
    "duration": 10,
    "start_time": "2022-06-26T12:23:38.261Z"
   },
   {
    "duration": 9,
    "start_time": "2022-06-26T12:48:08.200Z"
   },
   {
    "duration": 9,
    "start_time": "2022-06-26T12:48:18.031Z"
   },
   {
    "duration": 8,
    "start_time": "2022-06-26T12:57:53.195Z"
   },
   {
    "duration": 15,
    "start_time": "2022-06-26T12:58:22.123Z"
   },
   {
    "duration": 11,
    "start_time": "2022-06-26T13:02:19.034Z"
   },
   {
    "duration": 1082,
    "start_time": "2022-06-26T14:00:17.624Z"
   },
   {
    "duration": 214,
    "start_time": "2022-06-26T14:00:18.708Z"
   },
   {
    "duration": 47,
    "start_time": "2022-06-26T14:00:18.924Z"
   },
   {
    "duration": 29,
    "start_time": "2022-06-26T14:00:18.974Z"
   },
   {
    "duration": 182,
    "start_time": "2022-06-26T14:00:19.005Z"
   },
   {
    "duration": 50,
    "start_time": "2022-06-26T14:00:19.188Z"
   },
   {
    "duration": 116,
    "start_time": "2022-06-26T14:00:19.240Z"
   },
   {
    "duration": 22,
    "start_time": "2022-06-26T14:00:19.357Z"
   },
   {
    "duration": 28,
    "start_time": "2022-06-26T14:00:19.395Z"
   },
   {
    "duration": 35,
    "start_time": "2022-06-26T14:00:19.426Z"
   },
   {
    "duration": 20,
    "start_time": "2022-06-26T14:00:19.463Z"
   },
   {
    "duration": 102,
    "start_time": "2022-06-26T14:00:19.485Z"
   },
   {
    "duration": 45,
    "start_time": "2022-06-26T14:00:19.595Z"
   },
   {
    "duration": 62,
    "start_time": "2022-06-26T14:00:19.642Z"
   },
   {
    "duration": 37,
    "start_time": "2022-06-26T14:00:19.705Z"
   },
   {
    "duration": 5,
    "start_time": "2022-06-26T14:00:19.743Z"
   },
   {
    "duration": 12,
    "start_time": "2022-06-26T14:00:19.750Z"
   },
   {
    "duration": 73,
    "start_time": "2022-06-26T14:00:19.763Z"
   },
   {
    "duration": 64,
    "start_time": "2022-06-26T14:00:19.839Z"
   },
   {
    "duration": 2801,
    "start_time": "2022-06-26T14:00:19.905Z"
   },
   {
    "duration": 15,
    "start_time": "2022-06-26T14:00:22.708Z"
   },
   {
    "duration": 16,
    "start_time": "2022-06-26T14:00:22.724Z"
   },
   {
    "duration": 153,
    "start_time": "2022-06-26T14:00:22.742Z"
   },
   {
    "duration": 5,
    "start_time": "2022-06-26T14:00:22.897Z"
   },
   {
    "duration": 9,
    "start_time": "2022-06-26T14:00:22.904Z"
   },
   {
    "duration": 20,
    "start_time": "2022-06-26T14:00:22.915Z"
   },
   {
    "duration": 83,
    "start_time": "2022-06-26T14:00:22.936Z"
   },
   {
    "duration": 0,
    "start_time": "2022-06-26T14:00:23.021Z"
   },
   {
    "duration": 0,
    "start_time": "2022-06-26T14:00:23.022Z"
   },
   {
    "duration": 103,
    "start_time": "2022-06-26T14:06:10.745Z"
   },
   {
    "duration": 1109,
    "start_time": "2022-06-26T14:06:23.021Z"
   },
   {
    "duration": 199,
    "start_time": "2022-06-26T14:06:24.132Z"
   },
   {
    "duration": 38,
    "start_time": "2022-06-26T14:06:24.333Z"
   },
   {
    "duration": 29,
    "start_time": "2022-06-26T14:06:24.373Z"
   },
   {
    "duration": 162,
    "start_time": "2022-06-26T14:06:24.404Z"
   },
   {
    "duration": 54,
    "start_time": "2022-06-26T14:06:24.568Z"
   },
   {
    "duration": 114,
    "start_time": "2022-06-26T14:06:24.623Z"
   },
   {
    "duration": 27,
    "start_time": "2022-06-26T14:06:24.739Z"
   },
   {
    "duration": 34,
    "start_time": "2022-06-26T14:06:24.768Z"
   },
   {
    "duration": 33,
    "start_time": "2022-06-26T14:06:24.806Z"
   },
   {
    "duration": 19,
    "start_time": "2022-06-26T14:06:24.840Z"
   },
   {
    "duration": 102,
    "start_time": "2022-06-26T14:06:24.861Z"
   },
   {
    "duration": 67,
    "start_time": "2022-06-26T14:06:24.965Z"
   },
   {
    "duration": 48,
    "start_time": "2022-06-26T14:06:25.034Z"
   },
   {
    "duration": 37,
    "start_time": "2022-06-26T14:06:25.093Z"
   },
   {
    "duration": 5,
    "start_time": "2022-06-26T14:06:25.131Z"
   },
   {
    "duration": 11,
    "start_time": "2022-06-26T14:06:25.137Z"
   },
   {
    "duration": 82,
    "start_time": "2022-06-26T14:06:25.150Z"
   },
   {
    "duration": 44,
    "start_time": "2022-06-26T14:06:25.234Z"
   },
   {
    "duration": 1668,
    "start_time": "2022-06-26T14:06:25.294Z"
   },
   {
    "duration": 15,
    "start_time": "2022-06-26T14:06:26.964Z"
   },
   {
    "duration": 19,
    "start_time": "2022-06-26T14:06:26.981Z"
   },
   {
    "duration": 63,
    "start_time": "2022-06-26T14:06:27.001Z"
   },
   {
    "duration": 4,
    "start_time": "2022-06-26T14:06:27.066Z"
   },
   {
    "duration": 28,
    "start_time": "2022-06-26T14:06:27.072Z"
   },
   {
    "duration": 128,
    "start_time": "2022-06-26T14:06:27.102Z"
   },
   {
    "duration": 0,
    "start_time": "2022-06-26T14:06:27.232Z"
   },
   {
    "duration": 0,
    "start_time": "2022-06-26T14:06:27.233Z"
   },
   {
    "duration": 0,
    "start_time": "2022-06-26T14:06:27.234Z"
   },
   {
    "duration": 0,
    "start_time": "2022-06-26T14:06:27.235Z"
   },
   {
    "duration": 0,
    "start_time": "2022-06-26T14:06:27.235Z"
   },
   {
    "duration": 26,
    "start_time": "2022-06-26T14:08:06.444Z"
   },
   {
    "duration": 24,
    "start_time": "2022-06-26T14:09:17.072Z"
   },
   {
    "duration": 26,
    "start_time": "2022-06-26T14:10:03.084Z"
   },
   {
    "duration": 11,
    "start_time": "2022-06-26T14:12:23.340Z"
   },
   {
    "duration": 16,
    "start_time": "2022-06-26T14:15:13.049Z"
   },
   {
    "duration": 9,
    "start_time": "2022-06-26T14:16:23.536Z"
   },
   {
    "duration": 5,
    "start_time": "2022-06-26T14:17:31.860Z"
   },
   {
    "duration": 15,
    "start_time": "2022-06-26T14:17:45.556Z"
   },
   {
    "duration": 5,
    "start_time": "2022-06-26T14:18:01.376Z"
   },
   {
    "duration": 6,
    "start_time": "2022-06-26T14:18:23.859Z"
   },
   {
    "duration": 22,
    "start_time": "2022-06-26T14:18:56.661Z"
   },
   {
    "duration": 8,
    "start_time": "2022-06-26T14:22:10.252Z"
   },
   {
    "duration": 9,
    "start_time": "2022-06-26T14:25:14.429Z"
   },
   {
    "duration": 8,
    "start_time": "2022-06-26T14:25:22.591Z"
   },
   {
    "duration": 7,
    "start_time": "2022-06-26T14:25:34.534Z"
   },
   {
    "duration": 6,
    "start_time": "2022-06-26T14:26:51.303Z"
   },
   {
    "duration": 6,
    "start_time": "2022-06-26T14:28:28.637Z"
   },
   {
    "duration": 8,
    "start_time": "2022-06-26T14:34:45.796Z"
   },
   {
    "duration": 1169,
    "start_time": "2022-06-26T14:36:14.062Z"
   },
   {
    "duration": 196,
    "start_time": "2022-06-26T14:36:18.107Z"
   },
   {
    "duration": 36,
    "start_time": "2022-06-26T14:36:24.852Z"
   },
   {
    "duration": 14,
    "start_time": "2022-06-26T14:36:28.274Z"
   },
   {
    "duration": 168,
    "start_time": "2022-06-26T14:36:33.873Z"
   },
   {
    "duration": 43,
    "start_time": "2022-06-26T14:36:59.655Z"
   },
   {
    "duration": 125,
    "start_time": "2022-06-26T14:37:05.393Z"
   },
   {
    "duration": 24,
    "start_time": "2022-06-26T14:37:24.264Z"
   },
   {
    "duration": 12,
    "start_time": "2022-06-26T14:37:54.949Z"
   },
   {
    "duration": 11,
    "start_time": "2022-06-26T14:38:11.204Z"
   },
   {
    "duration": 16,
    "start_time": "2022-06-26T14:47:13.746Z"
   },
   {
    "duration": 15,
    "start_time": "2022-06-26T14:47:18.001Z"
   },
   {
    "duration": 98,
    "start_time": "2022-06-26T14:58:17.154Z"
   },
   {
    "duration": 17,
    "start_time": "2022-06-26T14:58:51.181Z"
   },
   {
    "duration": 25,
    "start_time": "2022-06-26T14:58:54.621Z"
   },
   {
    "duration": 38,
    "start_time": "2022-06-26T14:58:57.032Z"
   },
   {
    "duration": 46,
    "start_time": "2022-06-26T14:58:58.737Z"
   },
   {
    "duration": 18,
    "start_time": "2022-06-26T14:59:03.194Z"
   },
   {
    "duration": 97,
    "start_time": "2022-06-26T14:59:06.750Z"
   },
   {
    "duration": 49,
    "start_time": "2022-06-26T14:59:10.107Z"
   },
   {
    "duration": 4,
    "start_time": "2022-06-26T14:59:12.394Z"
   },
   {
    "duration": 4,
    "start_time": "2022-06-26T14:59:17.493Z"
   },
   {
    "duration": 68,
    "start_time": "2022-06-26T14:59:26.002Z"
   },
   {
    "duration": 22,
    "start_time": "2022-06-26T14:59:38.904Z"
   },
   {
    "duration": 19,
    "start_time": "2022-06-26T14:59:53.519Z"
   },
   {
    "duration": 27,
    "start_time": "2022-06-26T15:00:02.390Z"
   },
   {
    "duration": 1220,
    "start_time": "2022-06-26T15:00:34.907Z"
   },
   {
    "duration": 7,
    "start_time": "2022-06-26T15:00:55.827Z"
   },
   {
    "duration": 34,
    "start_time": "2022-06-26T15:01:07.516Z"
   },
   {
    "duration": 9,
    "start_time": "2022-06-26T15:01:15.021Z"
   },
   {
    "duration": 32,
    "start_time": "2022-06-26T15:01:29.138Z"
   },
   {
    "duration": 9,
    "start_time": "2022-06-26T15:01:41.193Z"
   },
   {
    "duration": 40,
    "start_time": "2022-06-26T15:01:50.580Z"
   },
   {
    "duration": 8,
    "start_time": "2022-06-26T15:01:56.345Z"
   },
   {
    "duration": 37,
    "start_time": "2022-06-26T15:02:10.555Z"
   },
   {
    "duration": 9,
    "start_time": "2022-06-26T15:02:15.178Z"
   },
   {
    "duration": 1122,
    "start_time": "2022-06-26T15:06:19.212Z"
   },
   {
    "duration": 195,
    "start_time": "2022-06-26T15:06:20.337Z"
   },
   {
    "duration": 37,
    "start_time": "2022-06-26T15:06:20.534Z"
   },
   {
    "duration": 29,
    "start_time": "2022-06-26T15:06:20.572Z"
   },
   {
    "duration": 167,
    "start_time": "2022-06-26T15:06:20.603Z"
   },
   {
    "duration": 51,
    "start_time": "2022-06-26T15:06:20.772Z"
   },
   {
    "duration": 117,
    "start_time": "2022-06-26T15:06:20.825Z"
   },
   {
    "duration": 14,
    "start_time": "2022-06-26T15:06:20.944Z"
   },
   {
    "duration": 38,
    "start_time": "2022-06-26T15:06:20.959Z"
   },
   {
    "duration": 28,
    "start_time": "2022-06-26T15:06:20.999Z"
   },
   {
    "duration": 36,
    "start_time": "2022-06-26T15:06:21.028Z"
   },
   {
    "duration": 17,
    "start_time": "2022-06-26T15:06:21.066Z"
   },
   {
    "duration": 97,
    "start_time": "2022-06-26T15:06:21.084Z"
   },
   {
    "duration": 51,
    "start_time": "2022-06-26T15:06:21.184Z"
   },
   {
    "duration": 64,
    "start_time": "2022-06-26T15:06:21.237Z"
   },
   {
    "duration": 41,
    "start_time": "2022-06-26T15:06:21.303Z"
   },
   {
    "duration": 8,
    "start_time": "2022-06-26T15:06:21.345Z"
   },
   {
    "duration": 66,
    "start_time": "2022-06-26T15:06:21.355Z"
   },
   {
    "duration": 42,
    "start_time": "2022-06-26T15:06:21.423Z"
   },
   {
    "duration": 1695,
    "start_time": "2022-06-26T15:06:21.467Z"
   },
   {
    "duration": 30,
    "start_time": "2022-06-26T15:06:23.164Z"
   },
   {
    "duration": 8,
    "start_time": "2022-06-26T15:06:23.196Z"
   },
   {
    "duration": 69,
    "start_time": "2022-06-26T15:06:23.205Z"
   },
   {
    "duration": 20,
    "start_time": "2022-06-26T15:06:23.275Z"
   },
   {
    "duration": 8,
    "start_time": "2022-06-26T15:06:23.297Z"
   },
   {
    "duration": 32,
    "start_time": "2022-06-26T15:06:23.307Z"
   },
   {
    "duration": 34,
    "start_time": "2022-06-26T15:06:23.341Z"
   },
   {
    "duration": 18,
    "start_time": "2022-06-26T15:06:23.377Z"
   },
   {
    "duration": 6,
    "start_time": "2022-06-26T15:06:23.397Z"
   },
   {
    "duration": 97,
    "start_time": "2022-06-26T15:06:23.404Z"
   },
   {
    "duration": 0,
    "start_time": "2022-06-26T15:06:23.503Z"
   },
   {
    "duration": 0,
    "start_time": "2022-06-26T15:06:23.504Z"
   },
   {
    "duration": 0,
    "start_time": "2022-06-26T15:06:23.505Z"
   },
   {
    "duration": 1149,
    "start_time": "2022-06-26T15:06:57.304Z"
   },
   {
    "duration": 212,
    "start_time": "2022-06-26T15:06:58.456Z"
   },
   {
    "duration": 45,
    "start_time": "2022-06-26T15:06:58.670Z"
   },
   {
    "duration": 15,
    "start_time": "2022-06-26T15:06:58.717Z"
   },
   {
    "duration": 201,
    "start_time": "2022-06-26T15:06:58.735Z"
   },
   {
    "duration": 74,
    "start_time": "2022-06-26T15:06:58.938Z"
   },
   {
    "duration": 126,
    "start_time": "2022-06-26T15:06:59.014Z"
   },
   {
    "duration": 15,
    "start_time": "2022-06-26T15:06:59.142Z"
   },
   {
    "duration": 36,
    "start_time": "2022-06-26T15:06:59.159Z"
   },
   {
    "duration": 29,
    "start_time": "2022-06-26T15:06:59.197Z"
   },
   {
    "duration": 34,
    "start_time": "2022-06-26T15:06:59.228Z"
   },
   {
    "duration": 17,
    "start_time": "2022-06-26T15:06:59.264Z"
   },
   {
    "duration": 106,
    "start_time": "2022-06-26T15:06:59.283Z"
   },
   {
    "duration": 45,
    "start_time": "2022-06-26T15:06:59.395Z"
   },
   {
    "duration": 62,
    "start_time": "2022-06-26T15:06:59.441Z"
   },
   {
    "duration": 38,
    "start_time": "2022-06-26T15:06:59.505Z"
   },
   {
    "duration": 7,
    "start_time": "2022-06-26T15:06:59.545Z"
   },
   {
    "duration": 72,
    "start_time": "2022-06-26T15:06:59.553Z"
   },
   {
    "duration": 51,
    "start_time": "2022-06-26T15:06:59.626Z"
   },
   {
    "duration": 1668,
    "start_time": "2022-06-26T15:06:59.678Z"
   },
   {
    "duration": 20,
    "start_time": "2022-06-26T15:07:01.348Z"
   },
   {
    "duration": 19,
    "start_time": "2022-06-26T15:07:01.370Z"
   },
   {
    "duration": 77,
    "start_time": "2022-06-26T15:07:01.394Z"
   },
   {
    "duration": 4,
    "start_time": "2022-06-26T15:07:01.473Z"
   },
   {
    "duration": 21,
    "start_time": "2022-06-26T15:07:01.479Z"
   },
   {
    "duration": 34,
    "start_time": "2022-06-26T15:07:01.502Z"
   },
   {
    "duration": 29,
    "start_time": "2022-06-26T15:07:01.537Z"
   },
   {
    "duration": 27,
    "start_time": "2022-06-26T15:07:01.567Z"
   },
   {
    "duration": 7,
    "start_time": "2022-06-26T15:07:01.596Z"
   },
   {
    "duration": 108,
    "start_time": "2022-06-26T15:07:01.605Z"
   },
   {
    "duration": 0,
    "start_time": "2022-06-26T15:07:01.715Z"
   },
   {
    "duration": 0,
    "start_time": "2022-06-26T15:07:01.716Z"
   },
   {
    "duration": 0,
    "start_time": "2022-06-26T15:07:01.718Z"
   },
   {
    "duration": 37,
    "start_time": "2022-06-26T15:08:21.314Z"
   },
   {
    "duration": 8,
    "start_time": "2022-06-26T15:08:27.714Z"
   },
   {
    "duration": 1181,
    "start_time": "2022-06-26T15:08:59.261Z"
   },
   {
    "duration": 200,
    "start_time": "2022-06-26T15:09:00.444Z"
   },
   {
    "duration": 55,
    "start_time": "2022-06-26T15:09:00.646Z"
   },
   {
    "duration": 16,
    "start_time": "2022-06-26T15:09:00.704Z"
   },
   {
    "duration": 172,
    "start_time": "2022-06-26T15:09:00.722Z"
   },
   {
    "duration": 46,
    "start_time": "2022-06-26T15:09:00.896Z"
   },
   {
    "duration": 129,
    "start_time": "2022-06-26T15:09:00.943Z"
   },
   {
    "duration": 21,
    "start_time": "2022-06-26T15:09:01.074Z"
   },
   {
    "duration": 29,
    "start_time": "2022-06-26T15:09:01.097Z"
   },
   {
    "duration": 49,
    "start_time": "2022-06-26T15:09:01.129Z"
   },
   {
    "duration": 36,
    "start_time": "2022-06-26T15:09:01.180Z"
   },
   {
    "duration": 24,
    "start_time": "2022-06-26T15:09:01.217Z"
   },
   {
    "duration": 120,
    "start_time": "2022-06-26T15:09:01.242Z"
   },
   {
    "duration": 55,
    "start_time": "2022-06-26T15:09:01.364Z"
   },
   {
    "duration": 47,
    "start_time": "2022-06-26T15:09:01.421Z"
   },
   {
    "duration": 59,
    "start_time": "2022-06-26T15:09:01.469Z"
   },
   {
    "duration": 8,
    "start_time": "2022-06-26T15:09:01.529Z"
   },
   {
    "duration": 65,
    "start_time": "2022-06-26T15:09:01.539Z"
   },
   {
    "duration": 47,
    "start_time": "2022-06-26T15:09:01.606Z"
   },
   {
    "duration": 1694,
    "start_time": "2022-06-26T15:09:01.655Z"
   },
   {
    "duration": 19,
    "start_time": "2022-06-26T15:09:03.350Z"
   },
   {
    "duration": 23,
    "start_time": "2022-06-26T15:09:03.371Z"
   },
   {
    "duration": 65,
    "start_time": "2022-06-26T15:09:03.396Z"
   },
   {
    "duration": 5,
    "start_time": "2022-06-26T15:09:03.462Z"
   },
   {
    "duration": 30,
    "start_time": "2022-06-26T15:09:03.469Z"
   },
   {
    "duration": 25,
    "start_time": "2022-06-26T15:09:03.501Z"
   },
   {
    "duration": 25,
    "start_time": "2022-06-26T15:09:03.527Z"
   },
   {
    "duration": 13,
    "start_time": "2022-06-26T15:09:03.554Z"
   },
   {
    "duration": 2,
    "start_time": "2022-06-26T15:09:03.595Z"
   },
   {
    "duration": 104,
    "start_time": "2022-06-26T15:09:03.599Z"
   },
   {
    "duration": 0,
    "start_time": "2022-06-26T15:09:03.705Z"
   },
   {
    "duration": 0,
    "start_time": "2022-06-26T15:09:03.706Z"
   },
   {
    "duration": 0,
    "start_time": "2022-06-26T15:09:03.708Z"
   },
   {
    "duration": 54,
    "start_time": "2022-06-26T15:14:20.056Z"
   },
   {
    "duration": 26,
    "start_time": "2022-06-26T15:17:40.743Z"
   },
   {
    "duration": 57,
    "start_time": "2022-06-26T15:19:26.113Z"
   },
   {
    "duration": 20,
    "start_time": "2022-06-26T15:19:31.512Z"
   },
   {
    "duration": 13,
    "start_time": "2022-06-26T15:19:57.802Z"
   },
   {
    "duration": 11,
    "start_time": "2022-06-26T15:23:02.666Z"
   },
   {
    "duration": 26,
    "start_time": "2022-06-26T15:25:53.134Z"
   },
   {
    "duration": 12,
    "start_time": "2022-06-26T15:26:00.318Z"
   },
   {
    "duration": 20,
    "start_time": "2022-06-26T15:26:59.348Z"
   },
   {
    "duration": 13,
    "start_time": "2022-06-26T15:27:22.362Z"
   },
   {
    "duration": 9,
    "start_time": "2022-06-26T15:31:39.130Z"
   },
   {
    "duration": 9,
    "start_time": "2022-06-26T15:31:56.820Z"
   },
   {
    "duration": 9,
    "start_time": "2022-06-26T15:45:03.559Z"
   },
   {
    "duration": 1116,
    "start_time": "2022-06-26T16:57:02.633Z"
   },
   {
    "duration": 201,
    "start_time": "2022-06-26T16:57:03.751Z"
   },
   {
    "duration": 47,
    "start_time": "2022-06-26T16:57:03.953Z"
   },
   {
    "duration": 15,
    "start_time": "2022-06-26T16:57:04.002Z"
   },
   {
    "duration": 188,
    "start_time": "2022-06-26T16:57:04.018Z"
   },
   {
    "duration": 46,
    "start_time": "2022-06-26T16:57:04.207Z"
   },
   {
    "duration": 125,
    "start_time": "2022-06-26T16:57:04.254Z"
   },
   {
    "duration": 22,
    "start_time": "2022-06-26T16:57:04.381Z"
   },
   {
    "duration": 22,
    "start_time": "2022-06-26T16:57:04.405Z"
   },
   {
    "duration": 28,
    "start_time": "2022-06-26T16:57:04.429Z"
   },
   {
    "duration": 35,
    "start_time": "2022-06-26T16:57:04.458Z"
   },
   {
    "duration": 19,
    "start_time": "2022-06-26T16:57:04.495Z"
   },
   {
    "duration": 114,
    "start_time": "2022-06-26T16:57:04.515Z"
   },
   {
    "duration": 44,
    "start_time": "2022-06-26T16:57:04.630Z"
   },
   {
    "duration": 62,
    "start_time": "2022-06-26T16:57:04.675Z"
   },
   {
    "duration": 57,
    "start_time": "2022-06-26T16:57:04.739Z"
   },
   {
    "duration": 8,
    "start_time": "2022-06-26T16:57:04.798Z"
   },
   {
    "duration": 49,
    "start_time": "2022-06-26T16:57:04.808Z"
   },
   {
    "duration": 74,
    "start_time": "2022-06-26T16:57:04.858Z"
   },
   {
    "duration": 1735,
    "start_time": "2022-06-26T16:57:04.934Z"
   },
   {
    "duration": 28,
    "start_time": "2022-06-26T16:57:06.670Z"
   },
   {
    "duration": 8,
    "start_time": "2022-06-26T16:57:06.699Z"
   },
   {
    "duration": 69,
    "start_time": "2022-06-26T16:57:06.709Z"
   },
   {
    "duration": 14,
    "start_time": "2022-06-26T16:57:06.780Z"
   },
   {
    "duration": 13,
    "start_time": "2022-06-26T16:57:06.796Z"
   },
   {
    "duration": 19,
    "start_time": "2022-06-26T16:57:06.811Z"
   },
   {
    "duration": 118,
    "start_time": "2022-06-26T16:57:06.831Z"
   },
   {
    "duration": 0,
    "start_time": "2022-06-26T16:57:06.951Z"
   },
   {
    "duration": 0,
    "start_time": "2022-06-26T16:57:06.952Z"
   },
   {
    "duration": 0,
    "start_time": "2022-06-26T16:57:06.954Z"
   },
   {
    "duration": 37206,
    "start_time": "2022-06-26T17:10:52.821Z"
   },
   {
    "duration": 21,
    "start_time": "2022-06-26T17:11:47.412Z"
   },
   {
    "duration": 13,
    "start_time": "2022-06-26T17:12:02.054Z"
   },
   {
    "duration": 9,
    "start_time": "2022-06-26T17:12:48.141Z"
   },
   {
    "duration": 26,
    "start_time": "2022-06-26T17:13:11.339Z"
   },
   {
    "duration": 744,
    "start_time": "2022-06-26T17:13:46.987Z"
   },
   {
    "duration": 185,
    "start_time": "2022-06-26T17:14:01.603Z"
   },
   {
    "duration": 186,
    "start_time": "2022-06-26T17:14:07.551Z"
   },
   {
    "duration": 23,
    "start_time": "2022-06-26T17:14:28.314Z"
   },
   {
    "duration": 10,
    "start_time": "2022-06-26T17:14:31.815Z"
   },
   {
    "duration": 26,
    "start_time": "2022-06-26T17:14:41.898Z"
   },
   {
    "duration": 26,
    "start_time": "2022-06-26T17:15:24.383Z"
   },
   {
    "duration": 781,
    "start_time": "2022-06-26T17:15:30.856Z"
   },
   {
    "duration": 736,
    "start_time": "2022-06-26T17:17:29.790Z"
   },
   {
    "duration": 725,
    "start_time": "2022-06-26T17:17:49.656Z"
   },
   {
    "duration": 4,
    "start_time": "2022-06-26T17:18:31.896Z"
   },
   {
    "duration": 701,
    "start_time": "2022-06-26T17:18:41.245Z"
   },
   {
    "duration": 693,
    "start_time": "2022-06-26T17:22:11.262Z"
   },
   {
    "duration": 11,
    "start_time": "2022-06-26T17:31:19.269Z"
   },
   {
    "duration": 8454,
    "start_time": "2022-06-26T17:31:41.523Z"
   },
   {
    "duration": 8282,
    "start_time": "2022-06-26T17:32:20.855Z"
   },
   {
    "duration": 687,
    "start_time": "2022-06-26T17:34:24.436Z"
   },
   {
    "duration": 757,
    "start_time": "2022-06-26T17:39:52.802Z"
   },
   {
    "duration": 711,
    "start_time": "2022-06-26T17:40:06.425Z"
   },
   {
    "duration": 773,
    "start_time": "2022-06-26T17:41:28.809Z"
   },
   {
    "duration": 640,
    "start_time": "2022-06-26T17:41:51.315Z"
   },
   {
    "duration": 9,
    "start_time": "2022-06-26T17:45:42.706Z"
   },
   {
    "duration": 5,
    "start_time": "2022-06-26T17:48:49.152Z"
   },
   {
    "duration": 4,
    "start_time": "2022-06-26T17:49:15.833Z"
   },
   {
    "duration": 8,
    "start_time": "2022-06-26T17:50:20.663Z"
   },
   {
    "duration": 8,
    "start_time": "2022-06-26T17:53:23.893Z"
   },
   {
    "duration": 176,
    "start_time": "2022-06-26T18:00:13.174Z"
   },
   {
    "duration": 176,
    "start_time": "2022-06-26T18:00:46.425Z"
   },
   {
    "duration": 195,
    "start_time": "2022-06-26T18:00:56.913Z"
   },
   {
    "duration": 518,
    "start_time": "2022-06-26T18:01:04.805Z"
   },
   {
    "duration": 99,
    "start_time": "2022-06-26T18:02:52.205Z"
   },
   {
    "duration": 88,
    "start_time": "2022-06-26T18:03:12.213Z"
   },
   {
    "duration": 14,
    "start_time": "2022-06-26T18:04:18.425Z"
   },
   {
    "duration": 4281,
    "start_time": "2022-06-26T18:12:06.200Z"
   },
   {
    "duration": 4127,
    "start_time": "2022-06-26T18:12:41.947Z"
   },
   {
    "duration": 233,
    "start_time": "2022-06-26T18:12:54.949Z"
   },
   {
    "duration": 89,
    "start_time": "2022-06-26T18:14:07.866Z"
   },
   {
    "duration": 83,
    "start_time": "2022-06-26T18:15:07.775Z"
   },
   {
    "duration": 89,
    "start_time": "2022-06-26T18:18:49.571Z"
   },
   {
    "duration": 229,
    "start_time": "2022-06-26T18:19:11.083Z"
   },
   {
    "duration": 13,
    "start_time": "2022-06-26T18:24:47.256Z"
   },
   {
    "duration": 31,
    "start_time": "2022-06-26T18:25:19.928Z"
   },
   {
    "duration": 747,
    "start_time": "2022-06-26T18:25:29.410Z"
   },
   {
    "duration": 771,
    "start_time": "2022-06-26T18:26:18.551Z"
   },
   {
    "duration": 1364,
    "start_time": "2022-06-27T17:04:17.344Z"
   },
   {
    "duration": 682,
    "start_time": "2022-06-27T17:04:18.711Z"
   },
   {
    "duration": 41,
    "start_time": "2022-06-27T17:04:19.395Z"
   },
   {
    "duration": 19,
    "start_time": "2022-06-27T17:04:19.439Z"
   },
   {
    "duration": 522,
    "start_time": "2022-06-27T17:04:19.461Z"
   },
   {
    "duration": 62,
    "start_time": "2022-06-27T17:04:19.985Z"
   },
   {
    "duration": 349,
    "start_time": "2022-06-27T17:04:20.049Z"
   },
   {
    "duration": 13,
    "start_time": "2022-06-27T17:04:20.400Z"
   },
   {
    "duration": 61,
    "start_time": "2022-06-27T17:04:20.414Z"
   },
   {
    "duration": 112,
    "start_time": "2022-06-27T17:04:20.477Z"
   },
   {
    "duration": 92,
    "start_time": "2022-06-27T17:04:20.591Z"
   },
   {
    "duration": 16,
    "start_time": "2022-06-27T17:04:20.684Z"
   },
   {
    "duration": 107,
    "start_time": "2022-06-27T17:04:20.702Z"
   },
   {
    "duration": 53,
    "start_time": "2022-06-27T17:04:20.812Z"
   },
   {
    "duration": 68,
    "start_time": "2022-06-27T17:04:20.866Z"
   },
   {
    "duration": 48,
    "start_time": "2022-06-27T17:04:20.936Z"
   },
   {
    "duration": 7,
    "start_time": "2022-06-27T17:04:20.986Z"
   },
   {
    "duration": 80,
    "start_time": "2022-06-27T17:04:20.994Z"
   },
   {
    "duration": 59,
    "start_time": "2022-06-27T17:04:21.076Z"
   },
   {
    "duration": 1876,
    "start_time": "2022-06-27T17:04:21.136Z"
   },
   {
    "duration": 35,
    "start_time": "2022-06-27T17:04:23.014Z"
   },
   {
    "duration": 24,
    "start_time": "2022-06-27T17:04:23.050Z"
   },
   {
    "duration": 90,
    "start_time": "2022-06-27T17:04:23.076Z"
   },
   {
    "duration": 4,
    "start_time": "2022-06-27T17:04:23.168Z"
   },
   {
    "duration": 16,
    "start_time": "2022-06-27T17:04:23.173Z"
   },
   {
    "duration": 17,
    "start_time": "2022-06-27T17:04:23.191Z"
   },
   {
    "duration": 141,
    "start_time": "2022-06-27T17:04:23.210Z"
   },
   {
    "duration": 293,
    "start_time": "2022-06-27T17:04:23.355Z"
   },
   {
    "duration": 37,
    "start_time": "2022-06-27T17:04:23.654Z"
   },
   {
    "duration": 871,
    "start_time": "2022-06-27T17:04:23.693Z"
   },
   {
    "duration": 850,
    "start_time": "2022-06-27T17:04:24.565Z"
   },
   {
    "duration": 819,
    "start_time": "2022-06-27T17:04:25.417Z"
   },
   {
    "duration": 958,
    "start_time": "2022-06-27T17:04:26.237Z"
   },
   {
    "duration": 125,
    "start_time": "2022-06-27T17:11:12.645Z"
   },
   {
    "duration": 32,
    "start_time": "2022-06-27T17:11:19.546Z"
   },
   {
    "duration": 21,
    "start_time": "2022-06-27T17:11:26.214Z"
   },
   {
    "duration": 30,
    "start_time": "2022-06-27T17:11:57.719Z"
   },
   {
    "duration": 5,
    "start_time": "2022-06-27T17:14:02.203Z"
   },
   {
    "duration": 4,
    "start_time": "2022-06-27T17:14:24.280Z"
   },
   {
    "duration": 4,
    "start_time": "2022-06-27T17:17:16.784Z"
   },
   {
    "duration": 135,
    "start_time": "2022-06-27T17:23:04.038Z"
   },
   {
    "duration": 12,
    "start_time": "2022-06-27T17:25:49.745Z"
   },
   {
    "duration": 4,
    "start_time": "2022-06-27T17:26:26.403Z"
   },
   {
    "duration": 8,
    "start_time": "2022-06-27T17:26:35.119Z"
   },
   {
    "duration": 6,
    "start_time": "2022-06-27T17:27:11.395Z"
   },
   {
    "duration": 6,
    "start_time": "2022-06-27T17:27:44.052Z"
   },
   {
    "duration": 6,
    "start_time": "2022-06-27T17:29:25.066Z"
   },
   {
    "duration": 6,
    "start_time": "2022-06-27T17:29:29.054Z"
   },
   {
    "duration": 6,
    "start_time": "2022-06-27T17:33:23.286Z"
   },
   {
    "duration": 6,
    "start_time": "2022-06-27T17:33:44.686Z"
   },
   {
    "duration": 6,
    "start_time": "2022-06-27T17:33:49.906Z"
   },
   {
    "duration": 5,
    "start_time": "2022-06-27T17:35:53.375Z"
   },
   {
    "duration": 11,
    "start_time": "2022-06-27T17:38:19.024Z"
   },
   {
    "duration": 11,
    "start_time": "2022-06-27T17:41:15.722Z"
   },
   {
    "duration": 54,
    "start_time": "2022-06-27T17:48:28.850Z"
   },
   {
    "duration": 11,
    "start_time": "2022-06-27T17:49:18.970Z"
   },
   {
    "duration": 15,
    "start_time": "2022-06-27T17:49:45.600Z"
   },
   {
    "duration": 1319,
    "start_time": "2022-06-27T17:50:04.024Z"
   },
   {
    "duration": 242,
    "start_time": "2022-06-27T17:50:05.346Z"
   },
   {
    "duration": 45,
    "start_time": "2022-06-27T17:50:05.590Z"
   },
   {
    "duration": 28,
    "start_time": "2022-06-27T17:50:05.637Z"
   },
   {
    "duration": 213,
    "start_time": "2022-06-27T17:50:05.668Z"
   },
   {
    "duration": 56,
    "start_time": "2022-06-27T17:50:05.883Z"
   },
   {
    "duration": 140,
    "start_time": "2022-06-27T17:50:05.944Z"
   },
   {
    "duration": 13,
    "start_time": "2022-06-27T17:50:06.085Z"
   },
   {
    "duration": 40,
    "start_time": "2022-06-27T17:50:06.100Z"
   },
   {
    "duration": 78,
    "start_time": "2022-06-27T17:50:06.143Z"
   },
   {
    "duration": 53,
    "start_time": "2022-06-27T17:50:06.223Z"
   },
   {
    "duration": 19,
    "start_time": "2022-06-27T17:50:06.278Z"
   },
   {
    "duration": 115,
    "start_time": "2022-06-27T17:50:06.298Z"
   },
   {
    "duration": 64,
    "start_time": "2022-06-27T17:50:06.416Z"
   },
   {
    "duration": 74,
    "start_time": "2022-06-27T17:50:06.482Z"
   },
   {
    "duration": 60,
    "start_time": "2022-06-27T17:50:06.565Z"
   },
   {
    "duration": 13,
    "start_time": "2022-06-27T17:50:06.631Z"
   },
   {
    "duration": 108,
    "start_time": "2022-06-27T17:50:06.648Z"
   },
   {
    "duration": 92,
    "start_time": "2022-06-27T17:50:06.757Z"
   },
   {
    "duration": 2212,
    "start_time": "2022-06-27T17:50:06.858Z"
   },
   {
    "duration": 25,
    "start_time": "2022-06-27T17:50:09.072Z"
   },
   {
    "duration": 32,
    "start_time": "2022-06-27T17:50:09.098Z"
   },
   {
    "duration": 133,
    "start_time": "2022-06-27T17:50:09.132Z"
   },
   {
    "duration": 6,
    "start_time": "2022-06-27T17:50:09.271Z"
   },
   {
    "duration": 19,
    "start_time": "2022-06-27T17:50:09.278Z"
   },
   {
    "duration": 16,
    "start_time": "2022-06-27T17:50:09.299Z"
   },
   {
    "duration": 139,
    "start_time": "2022-06-27T17:50:09.317Z"
   },
   {
    "duration": 313,
    "start_time": "2022-06-27T17:50:09.461Z"
   },
   {
    "duration": 58,
    "start_time": "2022-06-27T17:50:09.781Z"
   },
   {
    "duration": 876,
    "start_time": "2022-06-27T17:50:09.841Z"
   },
   {
    "duration": 916,
    "start_time": "2022-06-27T17:50:10.726Z"
   },
   {
    "duration": 812,
    "start_time": "2022-06-27T17:50:11.647Z"
   },
   {
    "duration": 942,
    "start_time": "2022-06-27T17:50:12.460Z"
   },
   {
    "duration": 22,
    "start_time": "2022-06-27T17:50:13.404Z"
   },
   {
    "duration": 22,
    "start_time": "2022-06-27T17:50:13.428Z"
   },
   {
    "duration": 15,
    "start_time": "2022-06-27T17:50:13.451Z"
   },
   {
    "duration": 25,
    "start_time": "2022-06-27T18:02:17.876Z"
   },
   {
    "duration": 27,
    "start_time": "2022-06-27T18:03:16.360Z"
   },
   {
    "duration": 7,
    "start_time": "2022-06-27T18:03:29.525Z"
   },
   {
    "duration": 26,
    "start_time": "2022-06-27T18:07:54.693Z"
   },
   {
    "duration": 70,
    "start_time": "2022-06-27T18:08:00.024Z"
   },
   {
    "duration": 69,
    "start_time": "2022-06-27T18:14:16.876Z"
   },
   {
    "duration": 38,
    "start_time": "2022-06-27T18:15:01.713Z"
   },
   {
    "duration": 1543,
    "start_time": "2022-06-27T18:18:28.278Z"
   },
   {
    "duration": 312,
    "start_time": "2022-06-27T18:18:29.823Z"
   },
   {
    "duration": 54,
    "start_time": "2022-06-27T18:18:30.137Z"
   },
   {
    "duration": 56,
    "start_time": "2022-06-27T18:18:30.193Z"
   },
   {
    "duration": 315,
    "start_time": "2022-06-27T18:18:30.252Z"
   },
   {
    "duration": 80,
    "start_time": "2022-06-27T18:18:30.574Z"
   },
   {
    "duration": 193,
    "start_time": "2022-06-27T18:18:30.661Z"
   },
   {
    "duration": 28,
    "start_time": "2022-06-27T18:18:30.861Z"
   },
   {
    "duration": 64,
    "start_time": "2022-06-27T18:18:30.896Z"
   },
   {
    "duration": 84,
    "start_time": "2022-06-27T18:18:30.967Z"
   },
   {
    "duration": 44,
    "start_time": "2022-06-27T18:18:31.052Z"
   },
   {
    "duration": 17,
    "start_time": "2022-06-27T18:18:31.098Z"
   },
   {
    "duration": 155,
    "start_time": "2022-06-27T18:18:31.118Z"
   },
   {
    "duration": 46,
    "start_time": "2022-06-27T18:18:31.275Z"
   },
   {
    "duration": 56,
    "start_time": "2022-06-27T18:18:31.323Z"
   },
   {
    "duration": 50,
    "start_time": "2022-06-27T18:18:31.383Z"
   },
   {
    "duration": 32,
    "start_time": "2022-06-27T18:18:31.439Z"
   },
   {
    "duration": 51,
    "start_time": "2022-06-27T18:18:31.473Z"
   },
   {
    "duration": 73,
    "start_time": "2022-06-27T18:18:31.536Z"
   },
   {
    "duration": 2007,
    "start_time": "2022-06-27T18:18:31.610Z"
   },
   {
    "duration": 40,
    "start_time": "2022-06-27T18:18:33.618Z"
   },
   {
    "duration": 24,
    "start_time": "2022-06-27T18:18:33.660Z"
   },
   {
    "duration": 102,
    "start_time": "2022-06-27T18:18:33.686Z"
   },
   {
    "duration": 50,
    "start_time": "2022-06-27T18:18:33.790Z"
   },
   {
    "duration": 14,
    "start_time": "2022-06-27T18:18:33.841Z"
   },
   {
    "duration": 24,
    "start_time": "2022-06-27T18:18:33.857Z"
   },
   {
    "duration": 129,
    "start_time": "2022-06-27T18:18:33.882Z"
   },
   {
    "duration": 305,
    "start_time": "2022-06-27T18:18:34.015Z"
   },
   {
    "duration": 38,
    "start_time": "2022-06-27T18:18:34.325Z"
   },
   {
    "duration": 875,
    "start_time": "2022-06-27T18:18:34.364Z"
   },
   {
    "duration": 844,
    "start_time": "2022-06-27T18:18:35.240Z"
   },
   {
    "duration": 859,
    "start_time": "2022-06-27T18:18:36.086Z"
   },
   {
    "duration": 1019,
    "start_time": "2022-06-27T18:18:36.947Z"
   },
   {
    "duration": 28,
    "start_time": "2022-06-27T18:18:37.969Z"
   },
   {
    "duration": 34,
    "start_time": "2022-06-27T18:18:37.999Z"
   },
   {
    "duration": 8,
    "start_time": "2022-06-27T18:18:38.035Z"
   },
   {
    "duration": 48,
    "start_time": "2022-06-27T18:18:38.045Z"
   },
   {
    "duration": 143,
    "start_time": "2022-06-27T18:21:58.400Z"
   },
   {
    "duration": 30,
    "start_time": "2022-06-27T18:22:10.959Z"
   },
   {
    "duration": 14,
    "start_time": "2022-06-27T18:22:44.361Z"
   },
   {
    "duration": 6,
    "start_time": "2022-06-27T18:23:14.610Z"
   },
   {
    "duration": 7,
    "start_time": "2022-06-27T18:24:47.927Z"
   },
   {
    "duration": 5,
    "start_time": "2022-06-27T18:25:02.898Z"
   },
   {
    "duration": 5,
    "start_time": "2022-06-27T18:25:16.088Z"
   },
   {
    "duration": 93,
    "start_time": "2022-06-27T18:33:27.898Z"
   },
   {
    "duration": 11,
    "start_time": "2022-06-27T18:33:32.455Z"
   },
   {
    "duration": 5,
    "start_time": "2022-06-27T18:35:11.965Z"
   },
   {
    "duration": 5,
    "start_time": "2022-06-27T18:35:53.210Z"
   },
   {
    "duration": 12,
    "start_time": "2022-06-27T18:36:19.875Z"
   },
   {
    "duration": 6,
    "start_time": "2022-06-27T18:36:25.818Z"
   },
   {
    "duration": 11,
    "start_time": "2022-06-27T18:36:43.651Z"
   },
   {
    "duration": 41,
    "start_time": "2022-06-27T18:38:41.499Z"
   },
   {
    "duration": 11,
    "start_time": "2022-06-27T18:40:51.221Z"
   },
   {
    "duration": 9,
    "start_time": "2022-06-27T18:41:01.480Z"
   },
   {
    "duration": 31,
    "start_time": "2022-06-27T18:41:06.016Z"
   },
   {
    "duration": 1135,
    "start_time": "2022-06-27T18:41:28.162Z"
   },
   {
    "duration": 206,
    "start_time": "2022-06-27T18:41:29.299Z"
   },
   {
    "duration": 65,
    "start_time": "2022-06-27T18:41:29.509Z"
   },
   {
    "duration": 17,
    "start_time": "2022-06-27T18:41:29.576Z"
   },
   {
    "duration": 181,
    "start_time": "2022-06-27T18:41:29.594Z"
   },
   {
    "duration": 60,
    "start_time": "2022-06-27T18:41:29.777Z"
   },
   {
    "duration": 128,
    "start_time": "2022-06-27T18:41:29.838Z"
   },
   {
    "duration": 14,
    "start_time": "2022-06-27T18:41:29.970Z"
   },
   {
    "duration": 43,
    "start_time": "2022-06-27T18:41:29.986Z"
   },
   {
    "duration": 41,
    "start_time": "2022-06-27T18:41:30.038Z"
   },
   {
    "duration": 34,
    "start_time": "2022-06-27T18:41:30.080Z"
   },
   {
    "duration": 21,
    "start_time": "2022-06-27T18:41:30.116Z"
   },
   {
    "duration": 132,
    "start_time": "2022-06-27T18:41:30.142Z"
   },
   {
    "duration": 57,
    "start_time": "2022-06-27T18:41:30.276Z"
   },
   {
    "duration": 54,
    "start_time": "2022-06-27T18:41:30.338Z"
   },
   {
    "duration": 55,
    "start_time": "2022-06-27T18:41:30.394Z"
   },
   {
    "duration": 6,
    "start_time": "2022-06-27T18:41:30.456Z"
   },
   {
    "duration": 21,
    "start_time": "2022-06-27T18:41:30.464Z"
   },
   {
    "duration": 8,
    "start_time": "2022-06-27T18:41:30.487Z"
   },
   {
    "duration": 74,
    "start_time": "2022-06-27T18:41:30.497Z"
   },
   {
    "duration": 72,
    "start_time": "2022-06-27T18:41:30.573Z"
   },
   {
    "duration": 1814,
    "start_time": "2022-06-27T18:41:30.647Z"
   },
   {
    "duration": 14,
    "start_time": "2022-06-27T18:41:32.463Z"
   },
   {
    "duration": 8,
    "start_time": "2022-06-27T18:41:32.479Z"
   },
   {
    "duration": 90,
    "start_time": "2022-06-27T18:41:32.489Z"
   },
   {
    "duration": 59,
    "start_time": "2022-06-27T18:41:32.580Z"
   },
   {
    "duration": 11,
    "start_time": "2022-06-27T18:41:32.643Z"
   },
   {
    "duration": 68,
    "start_time": "2022-06-27T18:41:32.659Z"
   },
   {
    "duration": 141,
    "start_time": "2022-06-27T18:41:32.729Z"
   },
   {
    "duration": 274,
    "start_time": "2022-06-27T18:41:32.871Z"
   },
   {
    "duration": 29,
    "start_time": "2022-06-27T18:41:33.147Z"
   },
   {
    "duration": 823,
    "start_time": "2022-06-27T18:41:33.177Z"
   },
   {
    "duration": 1666,
    "start_time": "2022-06-27T18:41:34.001Z"
   },
   {
    "duration": 1319,
    "start_time": "2022-06-27T18:41:35.668Z"
   },
   {
    "duration": 884,
    "start_time": "2022-06-27T18:41:36.989Z"
   },
   {
    "duration": 18,
    "start_time": "2022-06-27T18:41:37.875Z"
   },
   {
    "duration": 36,
    "start_time": "2022-06-27T18:41:37.895Z"
   },
   {
    "duration": 27,
    "start_time": "2022-06-27T18:41:37.933Z"
   },
   {
    "duration": 12,
    "start_time": "2022-06-27T18:41:37.963Z"
   },
   {
    "duration": 6,
    "start_time": "2022-06-27T18:41:37.978Z"
   },
   {
    "duration": 8,
    "start_time": "2022-06-27T18:42:13.461Z"
   },
   {
    "duration": 122,
    "start_time": "2022-06-27T18:45:18.053Z"
   },
   {
    "duration": 9,
    "start_time": "2022-06-27T18:45:40.609Z"
   },
   {
    "duration": 111,
    "start_time": "2022-06-27T18:45:48.244Z"
   },
   {
    "duration": 17,
    "start_time": "2022-06-27T18:45:51.956Z"
   },
   {
    "duration": 9,
    "start_time": "2022-06-27T18:46:36.744Z"
   },
   {
    "duration": 90,
    "start_time": "2022-06-27T18:48:33.998Z"
   },
   {
    "duration": 7,
    "start_time": "2022-06-27T18:48:37.679Z"
   },
   {
    "duration": 6,
    "start_time": "2022-06-27T18:48:41.490Z"
   },
   {
    "duration": 1320,
    "start_time": "2022-06-28T10:27:13.128Z"
   },
   {
    "duration": 254,
    "start_time": "2022-06-28T10:27:14.450Z"
   },
   {
    "duration": 40,
    "start_time": "2022-06-28T10:27:14.706Z"
   },
   {
    "duration": 16,
    "start_time": "2022-06-28T10:27:14.748Z"
   },
   {
    "duration": 480,
    "start_time": "2022-06-28T10:27:14.765Z"
   },
   {
    "duration": 51,
    "start_time": "2022-06-28T10:27:15.247Z"
   },
   {
    "duration": 146,
    "start_time": "2022-06-28T10:27:15.300Z"
   },
   {
    "duration": 21,
    "start_time": "2022-06-28T10:27:15.448Z"
   },
   {
    "duration": 57,
    "start_time": "2022-06-28T10:27:15.470Z"
   },
   {
    "duration": 45,
    "start_time": "2022-06-28T10:27:15.530Z"
   },
   {
    "duration": 7,
    "start_time": "2022-06-28T10:27:15.577Z"
   },
   {
    "duration": 22,
    "start_time": "2022-06-28T10:27:15.586Z"
   },
   {
    "duration": 93,
    "start_time": "2022-06-28T10:27:15.610Z"
   },
   {
    "duration": 46,
    "start_time": "2022-06-28T10:27:15.704Z"
   },
   {
    "duration": 42,
    "start_time": "2022-06-28T10:27:15.752Z"
   },
   {
    "duration": 54,
    "start_time": "2022-06-28T10:27:15.796Z"
   },
   {
    "duration": 6,
    "start_time": "2022-06-28T10:27:15.851Z"
   },
   {
    "duration": 18,
    "start_time": "2022-06-28T10:27:15.858Z"
   },
   {
    "duration": 6,
    "start_time": "2022-06-28T10:27:15.878Z"
   },
   {
    "duration": 8,
    "start_time": "2022-06-28T10:27:15.886Z"
   },
   {
    "duration": 43,
    "start_time": "2022-06-28T10:27:15.928Z"
   },
   {
    "duration": 61,
    "start_time": "2022-06-28T10:27:15.973Z"
   },
   {
    "duration": 1782,
    "start_time": "2022-06-28T10:27:16.036Z"
   },
   {
    "duration": 20,
    "start_time": "2022-06-28T10:27:17.820Z"
   },
   {
    "duration": 58,
    "start_time": "2022-06-28T10:27:17.841Z"
   },
   {
    "duration": 47,
    "start_time": "2022-06-28T10:27:17.900Z"
   },
   {
    "duration": 7,
    "start_time": "2022-06-28T10:27:17.948Z"
   },
   {
    "duration": 6,
    "start_time": "2022-06-28T10:27:17.958Z"
   },
   {
    "duration": 111,
    "start_time": "2022-06-28T10:27:17.966Z"
   },
   {
    "duration": 232,
    "start_time": "2022-06-28T10:27:18.079Z"
   },
   {
    "duration": 27,
    "start_time": "2022-06-28T10:27:18.313Z"
   },
   {
    "duration": 680,
    "start_time": "2022-06-28T10:27:18.342Z"
   },
   {
    "duration": 669,
    "start_time": "2022-06-28T10:27:19.024Z"
   },
   {
    "duration": 637,
    "start_time": "2022-06-28T10:27:19.694Z"
   },
   {
    "duration": 745,
    "start_time": "2022-06-28T10:27:20.332Z"
   },
   {
    "duration": 17,
    "start_time": "2022-06-28T10:27:21.079Z"
   },
   {
    "duration": 30,
    "start_time": "2022-06-28T10:27:21.098Z"
   },
   {
    "duration": 5,
    "start_time": "2022-06-28T10:27:21.130Z"
   },
   {
    "duration": 14,
    "start_time": "2022-06-28T10:27:21.136Z"
   },
   {
    "duration": 8,
    "start_time": "2022-06-28T10:27:21.151Z"
   },
   {
    "duration": 91,
    "start_time": "2022-06-28T10:28:49.149Z"
   },
   {
    "duration": 1000,
    "start_time": "2022-06-28T10:29:02.936Z"
   },
   {
    "duration": 1112,
    "start_time": "2022-06-28T10:29:31.470Z"
   },
   {
    "duration": 329,
    "start_time": "2022-06-28T10:30:24.092Z"
   },
   {
    "duration": 259,
    "start_time": "2022-06-28T10:31:49.737Z"
   },
   {
    "duration": 248,
    "start_time": "2022-06-28T10:32:00.052Z"
   },
   {
    "duration": 178,
    "start_time": "2022-06-28T10:32:18.357Z"
   },
   {
    "duration": 156,
    "start_time": "2022-06-28T10:33:14.345Z"
   },
   {
    "duration": 173,
    "start_time": "2022-06-28T10:33:27.150Z"
   },
   {
    "duration": 154,
    "start_time": "2022-06-28T10:33:55.804Z"
   },
   {
    "duration": 163,
    "start_time": "2022-06-28T10:34:04.360Z"
   },
   {
    "duration": 261,
    "start_time": "2022-06-28T10:34:13.032Z"
   },
   {
    "duration": 337,
    "start_time": "2022-06-28T10:36:00.643Z"
   },
   {
    "duration": 238,
    "start_time": "2022-06-28T10:36:56.349Z"
   },
   {
    "duration": 180,
    "start_time": "2022-06-28T10:37:17.047Z"
   },
   {
    "duration": 188,
    "start_time": "2022-06-28T10:37:28.935Z"
   },
   {
    "duration": 255,
    "start_time": "2022-06-28T10:37:50.928Z"
   },
   {
    "duration": 255,
    "start_time": "2022-06-28T10:37:57.219Z"
   },
   {
    "duration": 278,
    "start_time": "2022-06-28T10:38:03.973Z"
   },
   {
    "duration": 375,
    "start_time": "2022-06-28T10:38:14.264Z"
   },
   {
    "duration": 374,
    "start_time": "2022-06-28T10:38:51.700Z"
   },
   {
    "duration": 265,
    "start_time": "2022-06-28T10:40:14.536Z"
   },
   {
    "duration": 250,
    "start_time": "2022-06-28T10:40:23.860Z"
   },
   {
    "duration": 6,
    "start_time": "2022-06-28T10:46:17.671Z"
   },
   {
    "duration": 158,
    "start_time": "2022-06-28T10:46:29.243Z"
   },
   {
    "duration": 189,
    "start_time": "2022-06-28T10:47:33.179Z"
   },
   {
    "duration": 4,
    "start_time": "2022-06-28T11:10:12.394Z"
   },
   {
    "duration": 10,
    "start_time": "2022-06-28T11:11:25.299Z"
   },
   {
    "duration": 8,
    "start_time": "2022-06-28T11:11:30.066Z"
   },
   {
    "duration": 10,
    "start_time": "2022-06-28T11:11:42.654Z"
   },
   {
    "duration": 11,
    "start_time": "2022-06-28T11:11:49.520Z"
   },
   {
    "duration": 15,
    "start_time": "2022-06-28T11:12:15.343Z"
   },
   {
    "duration": 5,
    "start_time": "2022-06-28T11:14:38.080Z"
   },
   {
    "duration": 4,
    "start_time": "2022-06-28T11:15:30.810Z"
   },
   {
    "duration": 1070,
    "start_time": "2022-06-28T12:14:11.075Z"
   },
   {
    "duration": 179,
    "start_time": "2022-06-28T12:14:12.147Z"
   },
   {
    "duration": 34,
    "start_time": "2022-06-28T12:14:12.328Z"
   },
   {
    "duration": 12,
    "start_time": "2022-06-28T12:14:12.364Z"
   },
   {
    "duration": 164,
    "start_time": "2022-06-28T12:14:12.378Z"
   },
   {
    "duration": 43,
    "start_time": "2022-06-28T12:14:12.544Z"
   },
   {
    "duration": 121,
    "start_time": "2022-06-28T12:14:12.588Z"
   },
   {
    "duration": 32,
    "start_time": "2022-06-28T12:14:12.710Z"
   },
   {
    "duration": 21,
    "start_time": "2022-06-28T12:14:12.744Z"
   },
   {
    "duration": 24,
    "start_time": "2022-06-28T12:14:12.766Z"
   },
   {
    "duration": 6,
    "start_time": "2022-06-28T12:14:12.791Z"
   },
   {
    "duration": 32,
    "start_time": "2022-06-28T12:14:12.799Z"
   },
   {
    "duration": 100,
    "start_time": "2022-06-28T12:14:12.833Z"
   },
   {
    "duration": 43,
    "start_time": "2022-06-28T12:14:12.936Z"
   },
   {
    "duration": 64,
    "start_time": "2022-06-28T12:14:12.981Z"
   },
   {
    "duration": 37,
    "start_time": "2022-06-28T12:14:13.047Z"
   },
   {
    "duration": 6,
    "start_time": "2022-06-28T12:14:13.085Z"
   },
   {
    "duration": 39,
    "start_time": "2022-06-28T12:14:13.093Z"
   },
   {
    "duration": 8,
    "start_time": "2022-06-28T12:14:13.133Z"
   },
   {
    "duration": 11,
    "start_time": "2022-06-28T12:14:13.142Z"
   },
   {
    "duration": 55,
    "start_time": "2022-06-28T12:14:13.155Z"
   },
   {
    "duration": 65,
    "start_time": "2022-06-28T12:14:13.211Z"
   },
   {
    "duration": 1829,
    "start_time": "2022-06-28T12:14:13.277Z"
   },
   {
    "duration": 26,
    "start_time": "2022-06-28T12:14:15.108Z"
   },
   {
    "duration": 64,
    "start_time": "2022-06-28T12:14:15.135Z"
   },
   {
    "duration": 50,
    "start_time": "2022-06-28T12:14:15.201Z"
   },
   {
    "duration": 8,
    "start_time": "2022-06-28T12:14:15.253Z"
   },
   {
    "duration": 10,
    "start_time": "2022-06-28T12:14:15.263Z"
   },
   {
    "duration": 116,
    "start_time": "2022-06-28T12:14:15.275Z"
   },
   {
    "duration": 260,
    "start_time": "2022-06-28T12:14:15.392Z"
   },
   {
    "duration": 26,
    "start_time": "2022-06-28T12:14:15.653Z"
   },
   {
    "duration": 288,
    "start_time": "2022-06-28T12:14:15.681Z"
   },
   {
    "duration": 104,
    "start_time": "2022-06-28T12:14:15.970Z"
   },
   {
    "duration": 0,
    "start_time": "2022-06-28T12:14:16.076Z"
   },
   {
    "duration": 0,
    "start_time": "2022-06-28T12:14:16.077Z"
   },
   {
    "duration": 0,
    "start_time": "2022-06-28T12:14:16.078Z"
   },
   {
    "duration": 0,
    "start_time": "2022-06-28T12:14:16.079Z"
   },
   {
    "duration": 0,
    "start_time": "2022-06-28T12:14:16.080Z"
   },
   {
    "duration": 0,
    "start_time": "2022-06-28T12:14:16.081Z"
   },
   {
    "duration": 0,
    "start_time": "2022-06-28T12:14:16.082Z"
   },
   {
    "duration": 0,
    "start_time": "2022-06-28T12:14:16.083Z"
   },
   {
    "duration": 0,
    "start_time": "2022-06-28T12:14:16.084Z"
   },
   {
    "duration": 309,
    "start_time": "2022-06-28T12:14:30.112Z"
   },
   {
    "duration": 257,
    "start_time": "2022-06-28T12:14:42.882Z"
   },
   {
    "duration": 1097,
    "start_time": "2022-06-28T12:17:17.161Z"
   },
   {
    "duration": 173,
    "start_time": "2022-06-28T12:17:18.260Z"
   },
   {
    "duration": 33,
    "start_time": "2022-06-28T12:17:18.434Z"
   },
   {
    "duration": 11,
    "start_time": "2022-06-28T12:17:18.470Z"
   },
   {
    "duration": 161,
    "start_time": "2022-06-28T12:17:18.483Z"
   },
   {
    "duration": 41,
    "start_time": "2022-06-28T12:17:18.646Z"
   },
   {
    "duration": 114,
    "start_time": "2022-06-28T12:17:18.688Z"
   },
   {
    "duration": 29,
    "start_time": "2022-06-28T12:17:18.803Z"
   },
   {
    "duration": 22,
    "start_time": "2022-06-28T12:17:18.834Z"
   },
   {
    "duration": 25,
    "start_time": "2022-06-28T12:17:18.858Z"
   },
   {
    "duration": 5,
    "start_time": "2022-06-28T12:17:18.884Z"
   },
   {
    "duration": 20,
    "start_time": "2022-06-28T12:17:18.891Z"
   },
   {
    "duration": 116,
    "start_time": "2022-06-28T12:17:18.913Z"
   },
   {
    "duration": 40,
    "start_time": "2022-06-28T12:17:19.030Z"
   },
   {
    "duration": 58,
    "start_time": "2022-06-28T12:17:19.072Z"
   },
   {
    "duration": 37,
    "start_time": "2022-06-28T12:17:19.132Z"
   },
   {
    "duration": 6,
    "start_time": "2022-06-28T12:17:19.171Z"
   },
   {
    "duration": 22,
    "start_time": "2022-06-28T12:17:19.179Z"
   },
   {
    "duration": 29,
    "start_time": "2022-06-28T12:17:19.203Z"
   },
   {
    "duration": 6,
    "start_time": "2022-06-28T12:17:19.234Z"
   },
   {
    "duration": 55,
    "start_time": "2022-06-28T12:17:19.242Z"
   },
   {
    "duration": 63,
    "start_time": "2022-06-28T12:17:19.298Z"
   },
   {
    "duration": 1675,
    "start_time": "2022-06-28T12:17:19.362Z"
   },
   {
    "duration": 14,
    "start_time": "2022-06-28T12:17:21.038Z"
   },
   {
    "duration": 57,
    "start_time": "2022-06-28T12:17:21.054Z"
   },
   {
    "duration": 33,
    "start_time": "2022-06-28T12:17:21.128Z"
   },
   {
    "duration": 7,
    "start_time": "2022-06-28T12:17:21.162Z"
   },
   {
    "duration": 7,
    "start_time": "2022-06-28T12:17:21.171Z"
   },
   {
    "duration": 122,
    "start_time": "2022-06-28T12:17:21.179Z"
   },
   {
    "duration": 235,
    "start_time": "2022-06-28T12:17:21.302Z"
   },
   {
    "duration": 23,
    "start_time": "2022-06-28T12:17:21.538Z"
   },
   {
    "duration": 250,
    "start_time": "2022-06-28T12:17:21.562Z"
   },
   {
    "duration": 22,
    "start_time": "2022-06-28T12:17:21.814Z"
   },
   {
    "duration": 21,
    "start_time": "2022-06-28T12:17:21.838Z"
   },
   {
    "duration": 8,
    "start_time": "2022-06-28T12:17:21.860Z"
   },
   {
    "duration": 697,
    "start_time": "2022-06-28T12:17:21.869Z"
   },
   {
    "duration": 665,
    "start_time": "2022-06-28T12:17:22.567Z"
   },
   {
    "duration": 752,
    "start_time": "2022-06-28T12:17:23.234Z"
   },
   {
    "duration": 719,
    "start_time": "2022-06-28T12:17:23.987Z"
   },
   {
    "duration": 6,
    "start_time": "2022-06-28T12:17:24.707Z"
   },
   {
    "duration": 32,
    "start_time": "2022-06-28T12:17:24.714Z"
   },
   {
    "duration": 30,
    "start_time": "2022-06-28T12:17:24.748Z"
   },
   {
    "duration": 1215,
    "start_time": "2022-06-28T18:44:45.710Z"
   },
   {
    "duration": 237,
    "start_time": "2022-06-28T18:44:46.926Z"
   },
   {
    "duration": 43,
    "start_time": "2022-06-28T18:44:47.166Z"
   },
   {
    "duration": 16,
    "start_time": "2022-06-28T18:44:47.212Z"
   },
   {
    "duration": 468,
    "start_time": "2022-06-28T18:44:47.229Z"
   },
   {
    "duration": 42,
    "start_time": "2022-06-28T18:44:47.699Z"
   },
   {
    "duration": 142,
    "start_time": "2022-06-28T18:44:47.743Z"
   },
   {
    "duration": 20,
    "start_time": "2022-06-28T18:44:47.887Z"
   },
   {
    "duration": 41,
    "start_time": "2022-06-28T18:44:47.908Z"
   },
   {
    "duration": 48,
    "start_time": "2022-06-28T18:44:47.951Z"
   },
   {
    "duration": 6,
    "start_time": "2022-06-28T18:44:48.000Z"
   },
   {
    "duration": 99,
    "start_time": "2022-06-28T18:44:48.007Z"
   },
   {
    "duration": 40,
    "start_time": "2022-06-28T18:44:48.107Z"
   },
   {
    "duration": 51,
    "start_time": "2022-06-28T18:44:48.149Z"
   },
   {
    "duration": 37,
    "start_time": "2022-06-28T18:44:48.201Z"
   },
   {
    "duration": 23,
    "start_time": "2022-06-28T18:44:48.240Z"
   },
   {
    "duration": 24,
    "start_time": "2022-06-28T18:44:48.265Z"
   },
   {
    "duration": 7,
    "start_time": "2022-06-28T18:44:48.291Z"
   },
   {
    "duration": 10,
    "start_time": "2022-06-28T18:44:48.299Z"
   },
   {
    "duration": 62,
    "start_time": "2022-06-28T18:44:48.310Z"
   },
   {
    "duration": 39,
    "start_time": "2022-06-28T18:44:48.374Z"
   },
   {
    "duration": 1662,
    "start_time": "2022-06-28T18:44:48.415Z"
   },
   {
    "duration": 15,
    "start_time": "2022-06-28T18:44:50.079Z"
   },
   {
    "duration": 69,
    "start_time": "2022-06-28T18:44:50.096Z"
   },
   {
    "duration": 34,
    "start_time": "2022-06-28T18:44:50.166Z"
   },
   {
    "duration": 7,
    "start_time": "2022-06-28T18:44:50.202Z"
   },
   {
    "duration": 18,
    "start_time": "2022-06-28T18:44:50.210Z"
   },
   {
    "duration": 114,
    "start_time": "2022-06-28T18:44:50.230Z"
   },
   {
    "duration": 223,
    "start_time": "2022-06-28T18:44:50.346Z"
   },
   {
    "duration": 23,
    "start_time": "2022-06-28T18:44:50.571Z"
   },
   {
    "duration": 249,
    "start_time": "2022-06-28T18:44:50.595Z"
   },
   {
    "duration": 23,
    "start_time": "2022-06-28T18:44:50.846Z"
   },
   {
    "duration": 40,
    "start_time": "2022-06-28T18:44:50.870Z"
   },
   {
    "duration": 18,
    "start_time": "2022-06-28T18:44:50.911Z"
   },
   {
    "duration": 688,
    "start_time": "2022-06-28T18:44:50.930Z"
   },
   {
    "duration": 664,
    "start_time": "2022-06-28T18:44:51.620Z"
   },
   {
    "duration": 757,
    "start_time": "2022-06-28T18:44:52.286Z"
   },
   {
    "duration": 719,
    "start_time": "2022-06-28T18:44:53.045Z"
   },
   {
    "duration": 5,
    "start_time": "2022-06-28T18:44:53.766Z"
   },
   {
    "duration": 21,
    "start_time": "2022-06-28T18:44:53.773Z"
   },
   {
    "duration": 12,
    "start_time": "2022-06-28T18:44:53.795Z"
   },
   {
    "duration": 54,
    "start_time": "2022-06-28T18:50:51.857Z"
   },
   {
    "duration": 11,
    "start_time": "2022-06-28T18:59:11.296Z"
   },
   {
    "duration": 7,
    "start_time": "2022-06-28T19:03:24.791Z"
   },
   {
    "duration": 13,
    "start_time": "2022-06-28T19:08:31.535Z"
   },
   {
    "duration": 1340,
    "start_time": "2022-06-29T12:12:48.553Z"
   },
   {
    "duration": 590,
    "start_time": "2022-06-29T12:12:52.740Z"
   },
   {
    "duration": 48,
    "start_time": "2022-06-29T12:12:59.848Z"
   },
   {
    "duration": 5,
    "start_time": "2022-06-29T12:30:36.877Z"
   },
   {
    "duration": 114,
    "start_time": "2022-06-29T12:32:48.073Z"
   },
   {
    "duration": 135,
    "start_time": "2022-06-29T12:36:13.542Z"
   },
   {
    "duration": 53,
    "start_time": "2022-06-29T12:38:19.357Z"
   },
   {
    "duration": 51,
    "start_time": "2022-06-29T12:39:05.475Z"
   },
   {
    "duration": 34,
    "start_time": "2022-06-29T12:40:35.397Z"
   },
   {
    "duration": 10,
    "start_time": "2022-06-29T12:48:13.114Z"
   },
   {
    "duration": 75,
    "start_time": "2022-06-29T12:48:21.270Z"
   },
   {
    "duration": 70,
    "start_time": "2022-06-29T12:48:45.476Z"
   },
   {
    "duration": 45,
    "start_time": "2022-06-29T12:48:52.885Z"
   },
   {
    "duration": 14,
    "start_time": "2022-06-29T12:55:23.005Z"
   },
   {
    "duration": 21,
    "start_time": "2022-06-29T12:56:03.543Z"
   },
   {
    "duration": 540,
    "start_time": "2022-06-29T12:58:56.479Z"
   },
   {
    "duration": 63,
    "start_time": "2022-06-29T13:01:31.249Z"
   },
   {
    "duration": 1234,
    "start_time": "2022-06-29T13:09:50.880Z"
   },
   {
    "duration": 220,
    "start_time": "2022-06-29T13:09:52.115Z"
   },
   {
    "duration": 58,
    "start_time": "2022-06-29T13:09:52.337Z"
   },
   {
    "duration": 122,
    "start_time": "2022-06-29T13:09:52.396Z"
   },
   {
    "duration": 0,
    "start_time": "2022-06-29T13:09:52.521Z"
   },
   {
    "duration": 0,
    "start_time": "2022-06-29T13:09:52.522Z"
   },
   {
    "duration": 0,
    "start_time": "2022-06-29T13:09:52.523Z"
   },
   {
    "duration": 0,
    "start_time": "2022-06-29T13:09:52.524Z"
   },
   {
    "duration": 0,
    "start_time": "2022-06-29T13:09:52.525Z"
   },
   {
    "duration": 0,
    "start_time": "2022-06-29T13:09:52.526Z"
   },
   {
    "duration": 0,
    "start_time": "2022-06-29T13:09:52.527Z"
   },
   {
    "duration": 0,
    "start_time": "2022-06-29T13:09:52.528Z"
   },
   {
    "duration": 0,
    "start_time": "2022-06-29T13:09:52.529Z"
   },
   {
    "duration": 0,
    "start_time": "2022-06-29T13:09:52.530Z"
   },
   {
    "duration": 0,
    "start_time": "2022-06-29T13:09:52.531Z"
   },
   {
    "duration": 0,
    "start_time": "2022-06-29T13:09:52.532Z"
   },
   {
    "duration": 0,
    "start_time": "2022-06-29T13:09:52.533Z"
   },
   {
    "duration": 0,
    "start_time": "2022-06-29T13:09:52.534Z"
   },
   {
    "duration": 0,
    "start_time": "2022-06-29T13:09:52.535Z"
   },
   {
    "duration": 0,
    "start_time": "2022-06-29T13:09:52.536Z"
   },
   {
    "duration": 0,
    "start_time": "2022-06-29T13:09:52.537Z"
   },
   {
    "duration": 0,
    "start_time": "2022-06-29T13:09:52.538Z"
   },
   {
    "duration": 0,
    "start_time": "2022-06-29T13:09:52.539Z"
   },
   {
    "duration": 0,
    "start_time": "2022-06-29T13:09:52.540Z"
   },
   {
    "duration": 0,
    "start_time": "2022-06-29T13:09:52.541Z"
   },
   {
    "duration": 0,
    "start_time": "2022-06-29T13:09:52.542Z"
   },
   {
    "duration": 0,
    "start_time": "2022-06-29T13:09:52.543Z"
   },
   {
    "duration": 0,
    "start_time": "2022-06-29T13:09:52.544Z"
   },
   {
    "duration": 0,
    "start_time": "2022-06-29T13:09:52.545Z"
   },
   {
    "duration": 0,
    "start_time": "2022-06-29T13:09:52.546Z"
   },
   {
    "duration": 0,
    "start_time": "2022-06-29T13:09:52.546Z"
   },
   {
    "duration": 0,
    "start_time": "2022-06-29T13:09:52.547Z"
   },
   {
    "duration": 0,
    "start_time": "2022-06-29T13:09:52.549Z"
   },
   {
    "duration": 0,
    "start_time": "2022-06-29T13:09:52.550Z"
   },
   {
    "duration": 0,
    "start_time": "2022-06-29T13:09:52.551Z"
   },
   {
    "duration": 0,
    "start_time": "2022-06-29T13:09:52.554Z"
   },
   {
    "duration": 0,
    "start_time": "2022-06-29T13:09:52.559Z"
   },
   {
    "duration": 0,
    "start_time": "2022-06-29T13:09:52.561Z"
   },
   {
    "duration": 0,
    "start_time": "2022-06-29T13:09:52.562Z"
   },
   {
    "duration": 0,
    "start_time": "2022-06-29T13:09:52.563Z"
   },
   {
    "duration": 0,
    "start_time": "2022-06-29T13:09:52.563Z"
   },
   {
    "duration": 108,
    "start_time": "2022-06-29T13:10:22.674Z"
   },
   {
    "duration": 94,
    "start_time": "2022-06-29T13:11:32.953Z"
   },
   {
    "duration": 216,
    "start_time": "2022-06-29T13:12:59.628Z"
   },
   {
    "duration": 412,
    "start_time": "2022-06-29T13:15:15.680Z"
   },
   {
    "duration": 1194,
    "start_time": "2022-06-29T13:15:20.719Z"
   },
   {
    "duration": 216,
    "start_time": "2022-06-29T13:15:21.915Z"
   },
   {
    "duration": 61,
    "start_time": "2022-06-29T13:15:22.132Z"
   },
   {
    "duration": 101,
    "start_time": "2022-06-29T13:15:22.195Z"
   },
   {
    "duration": 189,
    "start_time": "2022-06-29T13:15:22.298Z"
   },
   {
    "duration": 32,
    "start_time": "2022-06-29T13:15:22.489Z"
   },
   {
    "duration": 147,
    "start_time": "2022-06-29T13:15:22.524Z"
   },
   {
    "duration": 31,
    "start_time": "2022-06-29T13:15:22.673Z"
   },
   {
    "duration": 93,
    "start_time": "2022-06-29T13:15:22.706Z"
   },
   {
    "duration": 102,
    "start_time": "2022-06-29T13:15:22.801Z"
   },
   {
    "duration": 7,
    "start_time": "2022-06-29T13:15:22.904Z"
   },
   {
    "duration": 103,
    "start_time": "2022-06-29T13:15:22.913Z"
   },
   {
    "duration": 63,
    "start_time": "2022-06-29T13:15:23.018Z"
   },
   {
    "duration": 126,
    "start_time": "2022-06-29T13:15:23.087Z"
   },
   {
    "duration": 0,
    "start_time": "2022-06-29T13:15:23.216Z"
   },
   {
    "duration": 0,
    "start_time": "2022-06-29T13:15:23.217Z"
   },
   {
    "duration": 0,
    "start_time": "2022-06-29T13:15:23.219Z"
   },
   {
    "duration": 0,
    "start_time": "2022-06-29T13:15:23.220Z"
   },
   {
    "duration": 0,
    "start_time": "2022-06-29T13:15:23.221Z"
   },
   {
    "duration": 0,
    "start_time": "2022-06-29T13:15:23.223Z"
   },
   {
    "duration": 0,
    "start_time": "2022-06-29T13:15:23.224Z"
   },
   {
    "duration": 0,
    "start_time": "2022-06-29T13:15:23.225Z"
   },
   {
    "duration": 0,
    "start_time": "2022-06-29T13:15:23.226Z"
   },
   {
    "duration": 0,
    "start_time": "2022-06-29T13:15:23.227Z"
   },
   {
    "duration": 0,
    "start_time": "2022-06-29T13:15:23.228Z"
   },
   {
    "duration": 0,
    "start_time": "2022-06-29T13:15:23.229Z"
   },
   {
    "duration": 0,
    "start_time": "2022-06-29T13:15:23.231Z"
   },
   {
    "duration": 0,
    "start_time": "2022-06-29T13:15:23.233Z"
   },
   {
    "duration": 0,
    "start_time": "2022-06-29T13:15:23.254Z"
   },
   {
    "duration": 0,
    "start_time": "2022-06-29T13:15:23.255Z"
   },
   {
    "duration": 0,
    "start_time": "2022-06-29T13:15:23.262Z"
   },
   {
    "duration": 0,
    "start_time": "2022-06-29T13:15:23.267Z"
   },
   {
    "duration": 0,
    "start_time": "2022-06-29T13:15:23.268Z"
   },
   {
    "duration": 0,
    "start_time": "2022-06-29T13:15:23.275Z"
   },
   {
    "duration": 0,
    "start_time": "2022-06-29T13:15:23.276Z"
   },
   {
    "duration": 0,
    "start_time": "2022-06-29T13:15:23.281Z"
   },
   {
    "duration": 0,
    "start_time": "2022-06-29T13:15:23.282Z"
   },
   {
    "duration": 0,
    "start_time": "2022-06-29T13:15:23.283Z"
   },
   {
    "duration": 0,
    "start_time": "2022-06-29T13:15:23.291Z"
   },
   {
    "duration": 0,
    "start_time": "2022-06-29T13:15:23.291Z"
   },
   {
    "duration": 0,
    "start_time": "2022-06-29T13:15:23.292Z"
   },
   {
    "duration": 438,
    "start_time": "2022-06-29T13:18:50.790Z"
   },
   {
    "duration": 390,
    "start_time": "2022-06-29T13:19:25.586Z"
   },
   {
    "duration": 75,
    "start_time": "2022-06-29T13:20:50.653Z"
   },
   {
    "duration": 68,
    "start_time": "2022-06-29T13:21:59.044Z"
   },
   {
    "duration": 83,
    "start_time": "2022-06-29T13:22:20.855Z"
   },
   {
    "duration": 73,
    "start_time": "2022-06-29T13:22:46.832Z"
   },
   {
    "duration": 57,
    "start_time": "2022-06-29T13:24:29.392Z"
   },
   {
    "duration": 71,
    "start_time": "2022-06-29T13:25:16.242Z"
   },
   {
    "duration": 69,
    "start_time": "2022-06-29T13:30:35.080Z"
   },
   {
    "duration": 70,
    "start_time": "2022-06-29T13:34:11.600Z"
   },
   {
    "duration": 79,
    "start_time": "2022-06-29T13:34:45.970Z"
   },
   {
    "duration": 61,
    "start_time": "2022-06-29T13:34:54.874Z"
   },
   {
    "duration": 1550,
    "start_time": "2022-06-29T13:35:26.440Z"
   },
   {
    "duration": 211,
    "start_time": "2022-06-29T13:35:27.992Z"
   },
   {
    "duration": 60,
    "start_time": "2022-06-29T13:35:28.205Z"
   },
   {
    "duration": 114,
    "start_time": "2022-06-29T13:35:28.269Z"
   },
   {
    "duration": 204,
    "start_time": "2022-06-29T13:35:28.385Z"
   },
   {
    "duration": 34,
    "start_time": "2022-06-29T13:35:28.590Z"
   },
   {
    "duration": 116,
    "start_time": "2022-06-29T13:35:28.626Z"
   },
   {
    "duration": 39,
    "start_time": "2022-06-29T13:35:28.744Z"
   },
   {
    "duration": 25,
    "start_time": "2022-06-29T13:35:28.784Z"
   },
   {
    "duration": 32,
    "start_time": "2022-06-29T13:35:28.812Z"
   },
   {
    "duration": 6,
    "start_time": "2022-06-29T13:35:28.846Z"
   },
   {
    "duration": 114,
    "start_time": "2022-06-29T13:35:28.858Z"
   },
   {
    "duration": 45,
    "start_time": "2022-06-29T13:35:28.976Z"
   },
   {
    "duration": 122,
    "start_time": "2022-06-29T13:35:29.022Z"
   },
   {
    "duration": 0,
    "start_time": "2022-06-29T13:35:29.146Z"
   },
   {
    "duration": 0,
    "start_time": "2022-06-29T13:35:29.147Z"
   },
   {
    "duration": 0,
    "start_time": "2022-06-29T13:35:29.148Z"
   },
   {
    "duration": 0,
    "start_time": "2022-06-29T13:35:29.149Z"
   },
   {
    "duration": 0,
    "start_time": "2022-06-29T13:35:29.152Z"
   },
   {
    "duration": 0,
    "start_time": "2022-06-29T13:35:29.153Z"
   },
   {
    "duration": 0,
    "start_time": "2022-06-29T13:35:29.153Z"
   },
   {
    "duration": 0,
    "start_time": "2022-06-29T13:35:29.155Z"
   },
   {
    "duration": 0,
    "start_time": "2022-06-29T13:35:29.158Z"
   },
   {
    "duration": 0,
    "start_time": "2022-06-29T13:35:29.159Z"
   },
   {
    "duration": 0,
    "start_time": "2022-06-29T13:35:29.161Z"
   },
   {
    "duration": 0,
    "start_time": "2022-06-29T13:35:29.162Z"
   },
   {
    "duration": 0,
    "start_time": "2022-06-29T13:35:29.163Z"
   },
   {
    "duration": 0,
    "start_time": "2022-06-29T13:35:29.163Z"
   },
   {
    "duration": 0,
    "start_time": "2022-06-29T13:35:29.164Z"
   },
   {
    "duration": 0,
    "start_time": "2022-06-29T13:35:29.165Z"
   },
   {
    "duration": 0,
    "start_time": "2022-06-29T13:35:29.171Z"
   },
   {
    "duration": 0,
    "start_time": "2022-06-29T13:35:29.172Z"
   },
   {
    "duration": 0,
    "start_time": "2022-06-29T13:35:29.172Z"
   },
   {
    "duration": 0,
    "start_time": "2022-06-29T13:35:29.174Z"
   },
   {
    "duration": 0,
    "start_time": "2022-06-29T13:35:29.175Z"
   },
   {
    "duration": 1,
    "start_time": "2022-06-29T13:35:29.175Z"
   },
   {
    "duration": 0,
    "start_time": "2022-06-29T13:35:29.176Z"
   },
   {
    "duration": 0,
    "start_time": "2022-06-29T13:35:29.177Z"
   },
   {
    "duration": 0,
    "start_time": "2022-06-29T13:35:29.177Z"
   },
   {
    "duration": 0,
    "start_time": "2022-06-29T13:35:29.178Z"
   },
   {
    "duration": 0,
    "start_time": "2022-06-29T13:35:29.178Z"
   },
   {
    "duration": 98,
    "start_time": "2022-06-29T13:39:54.381Z"
   },
   {
    "duration": 117,
    "start_time": "2022-06-29T13:40:08.266Z"
   },
   {
    "duration": 81,
    "start_time": "2022-06-29T13:40:23.929Z"
   },
   {
    "duration": 88,
    "start_time": "2022-06-29T13:40:41.792Z"
   },
   {
    "duration": 92,
    "start_time": "2022-06-29T13:40:52.025Z"
   },
   {
    "duration": 1213,
    "start_time": "2022-06-29T13:41:08.168Z"
   },
   {
    "duration": 200,
    "start_time": "2022-06-29T13:41:09.383Z"
   },
   {
    "duration": 35,
    "start_time": "2022-06-29T13:41:09.584Z"
   },
   {
    "duration": 97,
    "start_time": "2022-06-29T13:41:09.621Z"
   },
   {
    "duration": 169,
    "start_time": "2022-06-29T13:41:09.720Z"
   },
   {
    "duration": 33,
    "start_time": "2022-06-29T13:41:09.891Z"
   },
   {
    "duration": 121,
    "start_time": "2022-06-29T13:41:09.925Z"
   },
   {
    "duration": 30,
    "start_time": "2022-06-29T13:41:10.052Z"
   },
   {
    "duration": 27,
    "start_time": "2022-06-29T13:41:10.084Z"
   },
   {
    "duration": 33,
    "start_time": "2022-06-29T13:41:10.113Z"
   },
   {
    "duration": 16,
    "start_time": "2022-06-29T13:41:10.147Z"
   },
   {
    "duration": 176,
    "start_time": "2022-06-29T13:41:10.168Z"
   },
   {
    "duration": 0,
    "start_time": "2022-06-29T13:41:10.347Z"
   },
   {
    "duration": 0,
    "start_time": "2022-06-29T13:41:10.348Z"
   },
   {
    "duration": 0,
    "start_time": "2022-06-29T13:41:10.349Z"
   },
   {
    "duration": 0,
    "start_time": "2022-06-29T13:41:10.352Z"
   },
   {
    "duration": 0,
    "start_time": "2022-06-29T13:41:10.353Z"
   },
   {
    "duration": 0,
    "start_time": "2022-06-29T13:41:10.353Z"
   },
   {
    "duration": 0,
    "start_time": "2022-06-29T13:41:10.354Z"
   },
   {
    "duration": 0,
    "start_time": "2022-06-29T13:41:10.355Z"
   },
   {
    "duration": 0,
    "start_time": "2022-06-29T13:41:10.355Z"
   },
   {
    "duration": 0,
    "start_time": "2022-06-29T13:41:10.356Z"
   },
   {
    "duration": 0,
    "start_time": "2022-06-29T13:41:10.356Z"
   },
   {
    "duration": 0,
    "start_time": "2022-06-29T13:41:10.357Z"
   },
   {
    "duration": 0,
    "start_time": "2022-06-29T13:41:10.358Z"
   },
   {
    "duration": 0,
    "start_time": "2022-06-29T13:41:10.358Z"
   },
   {
    "duration": 0,
    "start_time": "2022-06-29T13:41:10.359Z"
   },
   {
    "duration": 0,
    "start_time": "2022-06-29T13:41:10.359Z"
   },
   {
    "duration": 0,
    "start_time": "2022-06-29T13:41:10.360Z"
   },
   {
    "duration": 0,
    "start_time": "2022-06-29T13:41:10.360Z"
   },
   {
    "duration": 0,
    "start_time": "2022-06-29T13:41:10.361Z"
   },
   {
    "duration": 0,
    "start_time": "2022-06-29T13:41:10.362Z"
   },
   {
    "duration": 0,
    "start_time": "2022-06-29T13:41:10.362Z"
   },
   {
    "duration": 0,
    "start_time": "2022-06-29T13:41:10.363Z"
   },
   {
    "duration": 0,
    "start_time": "2022-06-29T13:41:10.364Z"
   },
   {
    "duration": 0,
    "start_time": "2022-06-29T13:41:10.364Z"
   },
   {
    "duration": 0,
    "start_time": "2022-06-29T13:41:10.365Z"
   },
   {
    "duration": 0,
    "start_time": "2022-06-29T13:41:10.365Z"
   },
   {
    "duration": 0,
    "start_time": "2022-06-29T13:41:10.366Z"
   },
   {
    "duration": 0,
    "start_time": "2022-06-29T13:41:10.366Z"
   },
   {
    "duration": 0,
    "start_time": "2022-06-29T13:41:10.367Z"
   },
   {
    "duration": 78,
    "start_time": "2022-06-29T13:42:05.739Z"
   },
   {
    "duration": 77,
    "start_time": "2022-06-29T13:42:12.050Z"
   },
   {
    "duration": 94,
    "start_time": "2022-06-29T13:42:15.617Z"
   },
   {
    "duration": 71,
    "start_time": "2022-06-29T13:42:35.677Z"
   },
   {
    "duration": 76,
    "start_time": "2022-06-29T13:42:42.278Z"
   },
   {
    "duration": 87,
    "start_time": "2022-06-29T13:43:48.410Z"
   },
   {
    "duration": 70,
    "start_time": "2022-06-29T13:45:29.902Z"
   },
   {
    "duration": 78,
    "start_time": "2022-06-29T13:45:42.732Z"
   },
   {
    "duration": 53,
    "start_time": "2022-06-29T13:49:07.373Z"
   },
   {
    "duration": 135,
    "start_time": "2022-06-29T13:52:50.039Z"
   },
   {
    "duration": 126,
    "start_time": "2022-06-29T13:53:32.377Z"
   },
   {
    "duration": 140,
    "start_time": "2022-06-29T13:54:25.394Z"
   },
   {
    "duration": 75,
    "start_time": "2022-06-29T13:56:18.990Z"
   },
   {
    "duration": 148,
    "start_time": "2022-06-29T13:58:51.079Z"
   },
   {
    "duration": 119,
    "start_time": "2022-06-29T13:59:06.497Z"
   },
   {
    "duration": 22,
    "start_time": "2022-06-29T14:06:43.402Z"
   },
   {
    "duration": 1187,
    "start_time": "2022-06-29T14:06:58.504Z"
   },
   {
    "duration": 231,
    "start_time": "2022-06-29T14:06:59.697Z"
   },
   {
    "duration": 63,
    "start_time": "2022-06-29T14:06:59.930Z"
   },
   {
    "duration": 107,
    "start_time": "2022-06-29T14:06:59.995Z"
   },
   {
    "duration": 183,
    "start_time": "2022-06-29T14:07:00.107Z"
   },
   {
    "duration": 35,
    "start_time": "2022-06-29T14:07:00.292Z"
   },
   {
    "duration": 159,
    "start_time": "2022-06-29T14:07:00.329Z"
   },
   {
    "duration": 34,
    "start_time": "2022-06-29T14:07:00.490Z"
   },
   {
    "duration": 39,
    "start_time": "2022-06-29T14:07:00.526Z"
   },
   {
    "duration": 40,
    "start_time": "2022-06-29T14:07:00.569Z"
   },
   {
    "duration": 7,
    "start_time": "2022-06-29T14:07:00.611Z"
   },
   {
    "duration": 141,
    "start_time": "2022-06-29T14:07:00.620Z"
   },
   {
    "duration": 47,
    "start_time": "2022-06-29T14:07:00.764Z"
   },
   {
    "duration": 142,
    "start_time": "2022-06-29T14:07:00.813Z"
   },
   {
    "duration": 49,
    "start_time": "2022-06-29T14:07:00.958Z"
   },
   {
    "duration": 16,
    "start_time": "2022-06-29T14:07:01.008Z"
   },
   {
    "duration": 54,
    "start_time": "2022-06-29T14:07:01.026Z"
   },
   {
    "duration": 10,
    "start_time": "2022-06-29T14:07:01.083Z"
   },
   {
    "duration": 2379,
    "start_time": "2022-06-29T14:07:01.095Z"
   },
   {
    "duration": 0,
    "start_time": "2022-06-29T14:07:03.477Z"
   },
   {
    "duration": 0,
    "start_time": "2022-06-29T14:07:03.478Z"
   },
   {
    "duration": 0,
    "start_time": "2022-06-29T14:07:03.479Z"
   },
   {
    "duration": 0,
    "start_time": "2022-06-29T14:07:03.480Z"
   },
   {
    "duration": 0,
    "start_time": "2022-06-29T14:07:03.481Z"
   },
   {
    "duration": 0,
    "start_time": "2022-06-29T14:07:03.484Z"
   },
   {
    "duration": 0,
    "start_time": "2022-06-29T14:07:03.485Z"
   },
   {
    "duration": 0,
    "start_time": "2022-06-29T14:07:03.485Z"
   },
   {
    "duration": 0,
    "start_time": "2022-06-29T14:07:03.487Z"
   },
   {
    "duration": 0,
    "start_time": "2022-06-29T14:07:03.488Z"
   },
   {
    "duration": 0,
    "start_time": "2022-06-29T14:07:03.489Z"
   },
   {
    "duration": 0,
    "start_time": "2022-06-29T14:07:03.490Z"
   },
   {
    "duration": 0,
    "start_time": "2022-06-29T14:07:03.492Z"
   },
   {
    "duration": 0,
    "start_time": "2022-06-29T14:07:03.493Z"
   },
   {
    "duration": 0,
    "start_time": "2022-06-29T14:07:03.494Z"
   },
   {
    "duration": 0,
    "start_time": "2022-06-29T14:07:03.495Z"
   },
   {
    "duration": 0,
    "start_time": "2022-06-29T14:07:03.496Z"
   },
   {
    "duration": 0,
    "start_time": "2022-06-29T14:07:03.498Z"
   },
   {
    "duration": 0,
    "start_time": "2022-06-29T14:07:03.499Z"
   },
   {
    "duration": 0,
    "start_time": "2022-06-29T14:07:03.500Z"
   },
   {
    "duration": 0,
    "start_time": "2022-06-29T14:07:03.501Z"
   },
   {
    "duration": 0,
    "start_time": "2022-06-29T14:07:03.504Z"
   },
   {
    "duration": 35,
    "start_time": "2022-06-29T14:07:40.072Z"
   },
   {
    "duration": 51,
    "start_time": "2022-06-29T14:08:12.680Z"
   },
   {
    "duration": 175,
    "start_time": "2022-06-29T14:12:04.427Z"
   },
   {
    "duration": 37,
    "start_time": "2022-06-29T14:13:11.041Z"
   },
   {
    "duration": 1234,
    "start_time": "2022-06-29T14:13:22.026Z"
   },
   {
    "duration": 251,
    "start_time": "2022-06-29T14:13:23.263Z"
   },
   {
    "duration": 50,
    "start_time": "2022-06-29T14:13:23.516Z"
   },
   {
    "duration": 116,
    "start_time": "2022-06-29T14:13:23.573Z"
   },
   {
    "duration": 190,
    "start_time": "2022-06-29T14:13:23.692Z"
   },
   {
    "duration": 70,
    "start_time": "2022-06-29T14:13:23.885Z"
   },
   {
    "duration": 147,
    "start_time": "2022-06-29T14:13:23.961Z"
   },
   {
    "duration": 21,
    "start_time": "2022-06-29T14:13:24.110Z"
   },
   {
    "duration": 32,
    "start_time": "2022-06-29T14:13:24.133Z"
   },
   {
    "duration": 43,
    "start_time": "2022-06-29T14:13:24.169Z"
   },
   {
    "duration": 6,
    "start_time": "2022-06-29T14:13:24.213Z"
   },
   {
    "duration": 91,
    "start_time": "2022-06-29T14:13:24.220Z"
   },
   {
    "duration": 52,
    "start_time": "2022-06-29T14:13:24.312Z"
   },
   {
    "duration": 137,
    "start_time": "2022-06-29T14:13:24.366Z"
   },
   {
    "duration": 64,
    "start_time": "2022-06-29T14:13:24.505Z"
   },
   {
    "duration": 9,
    "start_time": "2022-06-29T14:13:24.575Z"
   },
   {
    "duration": 119,
    "start_time": "2022-06-29T14:13:24.587Z"
   },
   {
    "duration": 0,
    "start_time": "2022-06-29T14:13:24.708Z"
   },
   {
    "duration": 0,
    "start_time": "2022-06-29T14:13:24.710Z"
   },
   {
    "duration": 0,
    "start_time": "2022-06-29T14:13:24.711Z"
   },
   {
    "duration": 0,
    "start_time": "2022-06-29T14:13:24.712Z"
   },
   {
    "duration": 0,
    "start_time": "2022-06-29T14:13:24.713Z"
   },
   {
    "duration": 0,
    "start_time": "2022-06-29T14:13:24.714Z"
   },
   {
    "duration": 0,
    "start_time": "2022-06-29T14:13:24.715Z"
   },
   {
    "duration": 0,
    "start_time": "2022-06-29T14:13:24.716Z"
   },
   {
    "duration": 0,
    "start_time": "2022-06-29T14:13:24.717Z"
   },
   {
    "duration": 0,
    "start_time": "2022-06-29T14:13:24.718Z"
   },
   {
    "duration": 0,
    "start_time": "2022-06-29T14:13:24.719Z"
   },
   {
    "duration": 0,
    "start_time": "2022-06-29T14:13:24.720Z"
   },
   {
    "duration": 0,
    "start_time": "2022-06-29T14:13:24.721Z"
   },
   {
    "duration": 0,
    "start_time": "2022-06-29T14:13:24.722Z"
   },
   {
    "duration": 0,
    "start_time": "2022-06-29T14:13:24.723Z"
   },
   {
    "duration": 0,
    "start_time": "2022-06-29T14:13:24.724Z"
   },
   {
    "duration": 0,
    "start_time": "2022-06-29T14:13:24.754Z"
   },
   {
    "duration": 0,
    "start_time": "2022-06-29T14:13:24.754Z"
   },
   {
    "duration": 0,
    "start_time": "2022-06-29T14:13:24.755Z"
   },
   {
    "duration": 0,
    "start_time": "2022-06-29T14:13:24.755Z"
   },
   {
    "duration": 0,
    "start_time": "2022-06-29T14:13:24.757Z"
   },
   {
    "duration": 0,
    "start_time": "2022-06-29T14:13:24.758Z"
   },
   {
    "duration": 0,
    "start_time": "2022-06-29T14:13:24.759Z"
   },
   {
    "duration": 0,
    "start_time": "2022-06-29T14:13:24.760Z"
   },
   {
    "duration": 163,
    "start_time": "2022-06-29T14:14:11.792Z"
   },
   {
    "duration": 19,
    "start_time": "2022-06-29T14:14:22.689Z"
   },
   {
    "duration": 28,
    "start_time": "2022-06-29T14:14:52.471Z"
   },
   {
    "duration": 19,
    "start_time": "2022-06-29T14:16:02.104Z"
   },
   {
    "duration": 7,
    "start_time": "2022-06-29T14:16:09.399Z"
   },
   {
    "duration": 1670,
    "start_time": "2022-06-29T14:16:15.783Z"
   },
   {
    "duration": 7,
    "start_time": "2022-06-29T14:16:22.654Z"
   },
   {
    "duration": 46,
    "start_time": "2022-06-29T14:20:41.981Z"
   },
   {
    "duration": 38,
    "start_time": "2022-06-29T14:25:51.855Z"
   },
   {
    "duration": 42,
    "start_time": "2022-06-29T14:27:45.841Z"
   },
   {
    "duration": 36,
    "start_time": "2022-06-29T14:28:44.569Z"
   },
   {
    "duration": 55,
    "start_time": "2022-06-29T14:31:26.849Z"
   },
   {
    "duration": 45,
    "start_time": "2022-06-29T14:32:23.295Z"
   },
   {
    "duration": 47,
    "start_time": "2022-06-29T14:32:28.673Z"
   },
   {
    "duration": 1314,
    "start_time": "2022-06-29T14:33:09.182Z"
   },
   {
    "duration": 1962,
    "start_time": "2022-06-29T14:33:18.684Z"
   },
   {
    "duration": 1994,
    "start_time": "2022-06-29T14:33:35.833Z"
   },
   {
    "duration": 19,
    "start_time": "2022-06-29T14:35:35.885Z"
   },
   {
    "duration": 73,
    "start_time": "2022-06-29T14:35:51.066Z"
   },
   {
    "duration": 1210,
    "start_time": "2022-06-29T14:36:18.286Z"
   },
   {
    "duration": 203,
    "start_time": "2022-06-29T14:36:19.498Z"
   },
   {
    "duration": 37,
    "start_time": "2022-06-29T14:36:19.703Z"
   },
   {
    "duration": 82,
    "start_time": "2022-06-29T14:36:19.754Z"
   },
   {
    "duration": 178,
    "start_time": "2022-06-29T14:36:19.838Z"
   },
   {
    "duration": 50,
    "start_time": "2022-06-29T14:36:20.018Z"
   },
   {
    "duration": 124,
    "start_time": "2022-06-29T14:36:20.070Z"
   },
   {
    "duration": 23,
    "start_time": "2022-06-29T14:36:20.196Z"
   },
   {
    "duration": 42,
    "start_time": "2022-06-29T14:36:20.221Z"
   },
   {
    "duration": 34,
    "start_time": "2022-06-29T14:36:20.267Z"
   },
   {
    "duration": 7,
    "start_time": "2022-06-29T14:36:20.303Z"
   },
   {
    "duration": 85,
    "start_time": "2022-06-29T14:36:20.311Z"
   },
   {
    "duration": 63,
    "start_time": "2022-06-29T14:36:20.399Z"
   },
   {
    "duration": 128,
    "start_time": "2022-06-29T14:36:20.464Z"
   },
   {
    "duration": 35,
    "start_time": "2022-06-29T14:36:20.593Z"
   },
   {
    "duration": 24,
    "start_time": "2022-06-29T14:36:20.630Z"
   },
   {
    "duration": 22,
    "start_time": "2022-06-29T14:36:20.657Z"
   },
   {
    "duration": 7,
    "start_time": "2022-06-29T14:36:20.681Z"
   },
   {
    "duration": 8,
    "start_time": "2022-06-29T14:36:20.690Z"
   },
   {
    "duration": 93,
    "start_time": "2022-06-29T14:36:20.700Z"
   },
   {
    "duration": 44,
    "start_time": "2022-06-29T14:36:20.795Z"
   },
   {
    "duration": 2082,
    "start_time": "2022-06-29T14:36:20.854Z"
   },
   {
    "duration": 64,
    "start_time": "2022-06-29T14:36:22.938Z"
   },
   {
    "duration": 56,
    "start_time": "2022-06-29T14:36:23.004Z"
   },
   {
    "duration": 9,
    "start_time": "2022-06-29T14:36:23.063Z"
   },
   {
    "duration": 7,
    "start_time": "2022-06-29T14:36:23.074Z"
   },
   {
    "duration": 127,
    "start_time": "2022-06-29T14:36:23.083Z"
   },
   {
    "duration": 299,
    "start_time": "2022-06-29T14:36:23.213Z"
   },
   {
    "duration": 40,
    "start_time": "2022-06-29T14:36:23.513Z"
   },
   {
    "duration": 307,
    "start_time": "2022-06-29T14:36:23.555Z"
   },
   {
    "duration": 25,
    "start_time": "2022-06-29T14:36:23.863Z"
   },
   {
    "duration": 22,
    "start_time": "2022-06-29T14:36:23.890Z"
   },
   {
    "duration": 11,
    "start_time": "2022-06-29T14:36:23.914Z"
   },
   {
    "duration": 777,
    "start_time": "2022-06-29T14:36:23.927Z"
   },
   {
    "duration": 686,
    "start_time": "2022-06-29T14:36:24.706Z"
   },
   {
    "duration": 774,
    "start_time": "2022-06-29T14:36:25.394Z"
   },
   {
    "duration": 723,
    "start_time": "2022-06-29T14:36:26.170Z"
   },
   {
    "duration": 7,
    "start_time": "2022-06-29T14:36:26.895Z"
   },
   {
    "duration": 14,
    "start_time": "2022-06-29T14:36:26.904Z"
   },
   {
    "duration": 10,
    "start_time": "2022-06-29T14:36:26.920Z"
   },
   {
    "duration": 9,
    "start_time": "2022-06-29T14:41:07.531Z"
   },
   {
    "duration": 10,
    "start_time": "2022-06-29T14:41:27.833Z"
   },
   {
    "duration": 9,
    "start_time": "2022-06-29T14:42:54.622Z"
   },
   {
    "duration": 10,
    "start_time": "2022-06-29T14:43:51.937Z"
   },
   {
    "duration": 11,
    "start_time": "2022-06-29T14:52:54.494Z"
   },
   {
    "duration": 9,
    "start_time": "2022-06-29T14:54:54.583Z"
   },
   {
    "duration": 6,
    "start_time": "2022-06-29T14:57:39.489Z"
   },
   {
    "duration": 9,
    "start_time": "2022-06-29T15:02:52.596Z"
   },
   {
    "duration": 12,
    "start_time": "2022-06-29T15:03:43.551Z"
   },
   {
    "duration": 9,
    "start_time": "2022-06-29T15:04:11.416Z"
   },
   {
    "duration": 14,
    "start_time": "2022-06-29T15:06:19.179Z"
   },
   {
    "duration": 12,
    "start_time": "2022-06-29T15:07:40.279Z"
   },
   {
    "duration": 1699,
    "start_time": "2022-06-29T15:10:29.687Z"
   },
   {
    "duration": 27,
    "start_time": "2022-06-29T15:10:46.898Z"
   },
   {
    "duration": 17,
    "start_time": "2022-06-29T15:11:56.635Z"
   },
   {
    "duration": 281,
    "start_time": "2022-06-29T15:14:39.810Z"
   },
   {
    "duration": 314,
    "start_time": "2022-06-29T15:15:23.451Z"
   },
   {
    "duration": 270,
    "start_time": "2022-06-29T15:15:59.376Z"
   },
   {
    "duration": 365,
    "start_time": "2022-06-29T15:16:46.481Z"
   },
   {
    "duration": 259,
    "start_time": "2022-06-29T15:17:16.962Z"
   },
   {
    "duration": 286,
    "start_time": "2022-06-29T15:18:03.545Z"
   },
   {
    "duration": 293,
    "start_time": "2022-06-29T15:18:16.139Z"
   },
   {
    "duration": 19,
    "start_time": "2022-06-29T15:35:36.663Z"
   },
   {
    "duration": 13,
    "start_time": "2022-06-29T15:35:56.107Z"
   },
   {
    "duration": 7,
    "start_time": "2022-06-29T15:36:12.812Z"
   },
   {
    "duration": 284,
    "start_time": "2022-06-29T15:38:09.646Z"
   },
   {
    "duration": 120,
    "start_time": "2022-06-29T15:39:50.328Z"
   },
   {
    "duration": 374,
    "start_time": "2022-06-29T17:03:20.006Z"
   },
   {
    "duration": 81,
    "start_time": "2022-06-29T17:12:37.869Z"
   },
   {
    "duration": 240,
    "start_time": "2022-06-29T17:12:44.390Z"
   },
   {
    "duration": 374,
    "start_time": "2022-06-29T18:03:26.566Z"
   },
   {
    "duration": 363,
    "start_time": "2022-06-29T18:03:53.720Z"
   },
   {
    "duration": 319,
    "start_time": "2022-06-29T18:26:22.557Z"
   },
   {
    "duration": 484,
    "start_time": "2022-06-29T18:26:37.912Z"
   },
   {
    "duration": 193,
    "start_time": "2022-06-29T18:26:43.742Z"
   },
   {
    "duration": 366,
    "start_time": "2022-06-29T18:31:39.407Z"
   },
   {
    "duration": 1104,
    "start_time": "2022-06-29T18:44:35.681Z"
   },
   {
    "duration": 203,
    "start_time": "2022-06-29T18:44:36.787Z"
   },
   {
    "duration": 35,
    "start_time": "2022-06-29T18:44:36.992Z"
   },
   {
    "duration": 90,
    "start_time": "2022-06-29T18:44:37.029Z"
   },
   {
    "duration": 168,
    "start_time": "2022-06-29T18:44:37.121Z"
   },
   {
    "duration": 41,
    "start_time": "2022-06-29T18:44:37.291Z"
   },
   {
    "duration": 126,
    "start_time": "2022-06-29T18:44:37.334Z"
   },
   {
    "duration": 21,
    "start_time": "2022-06-29T18:44:37.462Z"
   },
   {
    "duration": 27,
    "start_time": "2022-06-29T18:44:37.485Z"
   },
   {
    "duration": 35,
    "start_time": "2022-06-29T18:44:37.514Z"
   },
   {
    "duration": 6,
    "start_time": "2022-06-29T18:44:37.550Z"
   },
   {
    "duration": 81,
    "start_time": "2022-06-29T18:44:37.557Z"
   },
   {
    "duration": 52,
    "start_time": "2022-06-29T18:44:37.639Z"
   },
   {
    "duration": 119,
    "start_time": "2022-06-29T18:44:37.692Z"
   },
   {
    "duration": 31,
    "start_time": "2022-06-29T18:44:37.813Z"
   },
   {
    "duration": 6,
    "start_time": "2022-06-29T18:44:37.853Z"
   },
   {
    "duration": 20,
    "start_time": "2022-06-29T18:44:37.860Z"
   },
   {
    "duration": 6,
    "start_time": "2022-06-29T18:44:37.881Z"
   },
   {
    "duration": 6,
    "start_time": "2022-06-29T18:44:37.889Z"
   },
   {
    "duration": 73,
    "start_time": "2022-06-29T18:44:37.896Z"
   },
   {
    "duration": 39,
    "start_time": "2022-06-29T18:44:37.970Z"
   },
   {
    "duration": 1986,
    "start_time": "2022-06-29T18:44:38.011Z"
   },
   {
    "duration": 69,
    "start_time": "2022-06-29T18:44:39.998Z"
   },
   {
    "duration": 39,
    "start_time": "2022-06-29T18:44:40.069Z"
   },
   {
    "duration": 8,
    "start_time": "2022-06-29T18:44:40.110Z"
   },
   {
    "duration": 7,
    "start_time": "2022-06-29T18:44:40.120Z"
   },
   {
    "duration": 110,
    "start_time": "2022-06-29T18:44:40.153Z"
   },
   {
    "duration": 260,
    "start_time": "2022-06-29T18:44:40.268Z"
   },
   {
    "duration": 36,
    "start_time": "2022-06-29T18:44:40.530Z"
   },
   {
    "duration": 262,
    "start_time": "2022-06-29T18:44:40.568Z"
   },
   {
    "duration": 29,
    "start_time": "2022-06-29T18:44:40.831Z"
   },
   {
    "duration": 17,
    "start_time": "2022-06-29T18:44:40.862Z"
   },
   {
    "duration": 4,
    "start_time": "2022-06-29T18:44:40.880Z"
   },
   {
    "duration": 710,
    "start_time": "2022-06-29T18:44:40.886Z"
   },
   {
    "duration": 626,
    "start_time": "2022-06-29T18:44:41.597Z"
   },
   {
    "duration": 751,
    "start_time": "2022-06-29T18:44:42.224Z"
   },
   {
    "duration": 752,
    "start_time": "2022-06-29T18:44:42.976Z"
   },
   {
    "duration": 25,
    "start_time": "2022-06-29T18:44:43.730Z"
   },
   {
    "duration": 239,
    "start_time": "2022-06-29T18:44:43.757Z"
   },
   {
    "duration": 231,
    "start_time": "2022-06-29T18:44:43.997Z"
   },
   {
    "duration": 237,
    "start_time": "2022-06-29T18:44:44.229Z"
   },
   {
    "duration": 6,
    "start_time": "2022-06-29T18:44:44.468Z"
   },
   {
    "duration": 10,
    "start_time": "2022-06-29T18:44:44.475Z"
   },
   {
    "duration": 5,
    "start_time": "2022-06-29T18:44:44.487Z"
   },
   {
    "duration": 36,
    "start_time": "2022-06-29T18:46:33.980Z"
   },
   {
    "duration": 81,
    "start_time": "2022-06-29T18:47:43.167Z"
   },
   {
    "duration": 1064,
    "start_time": "2022-06-29T18:56:33.794Z"
   },
   {
    "duration": 194,
    "start_time": "2022-06-29T18:56:34.860Z"
   },
   {
    "duration": 34,
    "start_time": "2022-06-29T18:56:35.056Z"
   },
   {
    "duration": 91,
    "start_time": "2022-06-29T18:56:35.092Z"
   },
   {
    "duration": 164,
    "start_time": "2022-06-29T18:56:35.184Z"
   },
   {
    "duration": 34,
    "start_time": "2022-06-29T18:56:35.352Z"
   },
   {
    "duration": 109,
    "start_time": "2022-06-29T18:56:35.387Z"
   },
   {
    "duration": 20,
    "start_time": "2022-06-29T18:56:35.497Z"
   },
   {
    "duration": 35,
    "start_time": "2022-06-29T18:56:35.518Z"
   },
   {
    "duration": 33,
    "start_time": "2022-06-29T18:56:35.555Z"
   },
   {
    "duration": 5,
    "start_time": "2022-06-29T18:56:35.590Z"
   },
   {
    "duration": 73,
    "start_time": "2022-06-29T18:56:35.596Z"
   },
   {
    "duration": 40,
    "start_time": "2022-06-29T18:56:35.670Z"
   },
   {
    "duration": 119,
    "start_time": "2022-06-29T18:56:35.712Z"
   },
   {
    "duration": 39,
    "start_time": "2022-06-29T18:56:35.833Z"
   },
   {
    "duration": 7,
    "start_time": "2022-06-29T18:56:35.873Z"
   },
   {
    "duration": 21,
    "start_time": "2022-06-29T18:56:35.881Z"
   },
   {
    "duration": 7,
    "start_time": "2022-06-29T18:56:35.903Z"
   },
   {
    "duration": 7,
    "start_time": "2022-06-29T18:56:35.912Z"
   },
   {
    "duration": 73,
    "start_time": "2022-06-29T18:56:35.920Z"
   },
   {
    "duration": 40,
    "start_time": "2022-06-29T18:56:35.995Z"
   },
   {
    "duration": 1914,
    "start_time": "2022-06-29T18:56:36.037Z"
   },
   {
    "duration": 61,
    "start_time": "2022-06-29T18:56:37.953Z"
   },
   {
    "duration": 52,
    "start_time": "2022-06-29T18:56:38.016Z"
   },
   {
    "duration": 8,
    "start_time": "2022-06-29T18:56:38.070Z"
   },
   {
    "duration": 7,
    "start_time": "2022-06-29T18:56:38.079Z"
   },
   {
    "duration": 150,
    "start_time": "2022-06-29T18:56:38.088Z"
   },
   {
    "duration": 279,
    "start_time": "2022-06-29T18:56:38.242Z"
   },
   {
    "duration": 36,
    "start_time": "2022-06-29T18:56:38.523Z"
   },
   {
    "duration": 255,
    "start_time": "2022-06-29T18:56:38.560Z"
   },
   {
    "duration": 17,
    "start_time": "2022-06-29T18:56:38.817Z"
   },
   {
    "duration": 29,
    "start_time": "2022-06-29T18:56:38.836Z"
   },
   {
    "duration": 4,
    "start_time": "2022-06-29T18:56:38.867Z"
   },
   {
    "duration": 745,
    "start_time": "2022-06-29T18:56:38.873Z"
   },
   {
    "duration": 689,
    "start_time": "2022-06-29T18:56:39.619Z"
   },
   {
    "duration": 775,
    "start_time": "2022-06-29T18:56:40.309Z"
   },
   {
    "duration": 725,
    "start_time": "2022-06-29T18:56:41.086Z"
   },
   {
    "duration": 17,
    "start_time": "2022-06-29T18:56:41.813Z"
   },
   {
    "duration": 286,
    "start_time": "2022-06-29T18:56:41.832Z"
   },
   {
    "duration": 259,
    "start_time": "2022-06-29T18:56:42.120Z"
   },
   {
    "duration": 261,
    "start_time": "2022-06-29T18:56:42.381Z"
   },
   {
    "duration": 12,
    "start_time": "2022-06-29T18:56:42.643Z"
   },
   {
    "duration": 12,
    "start_time": "2022-06-29T18:56:42.656Z"
   },
   {
    "duration": 6,
    "start_time": "2022-06-29T18:56:42.670Z"
   },
   {
    "duration": 1232,
    "start_time": "2022-06-29T20:22:28.043Z"
   },
   {
    "duration": 229,
    "start_time": "2022-06-29T20:22:29.280Z"
   },
   {
    "duration": 63,
    "start_time": "2022-06-29T20:22:29.512Z"
   },
   {
    "duration": 136,
    "start_time": "2022-06-29T20:22:29.578Z"
   },
   {
    "duration": 217,
    "start_time": "2022-06-29T20:22:29.716Z"
   },
   {
    "duration": 37,
    "start_time": "2022-06-29T20:22:29.935Z"
   },
   {
    "duration": 177,
    "start_time": "2022-06-29T20:22:29.974Z"
   },
   {
    "duration": 37,
    "start_time": "2022-06-29T20:22:30.153Z"
   },
   {
    "duration": 60,
    "start_time": "2022-06-29T20:22:30.192Z"
   },
   {
    "duration": 59,
    "start_time": "2022-06-29T20:22:30.255Z"
   },
   {
    "duration": 8,
    "start_time": "2022-06-29T20:22:30.317Z"
   },
   {
    "duration": 125,
    "start_time": "2022-06-29T20:22:30.327Z"
   },
   {
    "duration": 58,
    "start_time": "2022-06-29T20:22:30.454Z"
   },
   {
    "duration": 162,
    "start_time": "2022-06-29T20:22:30.513Z"
   },
   {
    "duration": 48,
    "start_time": "2022-06-29T20:22:30.677Z"
   },
   {
    "duration": 42,
    "start_time": "2022-06-29T20:22:30.727Z"
   },
   {
    "duration": 77,
    "start_time": "2022-06-29T20:22:30.771Z"
   },
   {
    "duration": 9,
    "start_time": "2022-06-29T20:22:30.850Z"
   },
   {
    "duration": 53,
    "start_time": "2022-06-29T20:22:30.860Z"
   },
   {
    "duration": 63,
    "start_time": "2022-06-29T20:22:30.915Z"
   },
   {
    "duration": 64,
    "start_time": "2022-06-29T20:22:30.984Z"
   },
   {
    "duration": 2403,
    "start_time": "2022-06-29T20:22:31.050Z"
   },
   {
    "duration": 97,
    "start_time": "2022-06-29T20:22:33.455Z"
   },
   {
    "duration": 63,
    "start_time": "2022-06-29T20:22:33.562Z"
   },
   {
    "duration": 11,
    "start_time": "2022-06-29T20:22:33.627Z"
   },
   {
    "duration": 9,
    "start_time": "2022-06-29T20:22:33.642Z"
   },
   {
    "duration": 203,
    "start_time": "2022-06-29T20:22:33.663Z"
   },
   {
    "duration": 351,
    "start_time": "2022-06-29T20:22:33.870Z"
   },
   {
    "duration": 59,
    "start_time": "2022-06-29T20:22:34.224Z"
   },
   {
    "duration": 344,
    "start_time": "2022-06-29T20:22:34.285Z"
   },
   {
    "duration": 46,
    "start_time": "2022-06-29T20:22:34.631Z"
   },
   {
    "duration": 24,
    "start_time": "2022-06-29T20:22:34.679Z"
   },
   {
    "duration": 14,
    "start_time": "2022-06-29T20:22:34.705Z"
   },
   {
    "duration": 928,
    "start_time": "2022-06-29T20:22:34.721Z"
   },
   {
    "duration": 846,
    "start_time": "2022-06-29T20:22:35.650Z"
   },
   {
    "duration": 1093,
    "start_time": "2022-06-29T20:22:36.503Z"
   },
   {
    "duration": 992,
    "start_time": "2022-06-29T20:22:37.602Z"
   },
   {
    "duration": 23,
    "start_time": "2022-06-29T20:22:38.599Z"
   },
   {
    "duration": 380,
    "start_time": "2022-06-29T20:22:38.625Z"
   },
   {
    "duration": 340,
    "start_time": "2022-06-29T20:22:39.008Z"
   },
   {
    "duration": 360,
    "start_time": "2022-06-29T20:22:39.350Z"
   },
   {
    "duration": 11,
    "start_time": "2022-06-29T20:22:39.715Z"
   },
   {
    "duration": 18,
    "start_time": "2022-06-29T20:22:39.728Z"
   },
   {
    "duration": 14,
    "start_time": "2022-06-29T20:22:39.748Z"
   },
   {
    "duration": 5,
    "start_time": "2022-06-29T20:25:20.420Z"
   },
   {
    "duration": 55,
    "start_time": "2022-06-29T20:25:31.016Z"
   },
   {
    "duration": 82,
    "start_time": "2022-06-29T20:27:34.087Z"
   },
   {
    "duration": 5,
    "start_time": "2022-06-29T20:35:42.904Z"
   },
   {
    "duration": 26,
    "start_time": "2022-06-29T20:35:48.842Z"
   },
   {
    "duration": 2169,
    "start_time": "2022-06-29T20:36:02.372Z"
   },
   {
    "duration": 34,
    "start_time": "2022-06-29T20:36:23.223Z"
   },
   {
    "duration": 14,
    "start_time": "2022-06-29T20:36:27.850Z"
   },
   {
    "duration": 2912,
    "start_time": "2022-06-29T20:36:47.513Z"
   },
   {
    "duration": 18,
    "start_time": "2022-06-29T20:42:25.551Z"
   },
   {
    "duration": 32,
    "start_time": "2022-06-29T20:43:06.430Z"
   },
   {
    "duration": 36,
    "start_time": "2022-06-29T20:43:11.235Z"
   },
   {
    "duration": 55,
    "start_time": "2022-06-29T20:43:56.596Z"
   },
   {
    "duration": 35,
    "start_time": "2022-06-29T20:44:01.591Z"
   },
   {
    "duration": 25,
    "start_time": "2022-06-29T20:44:16.251Z"
   },
   {
    "duration": 51,
    "start_time": "2022-06-29T20:44:31.626Z"
   },
   {
    "duration": 42,
    "start_time": "2022-06-29T20:45:51.821Z"
   },
   {
    "duration": 236,
    "start_time": "2022-06-29T20:48:20.101Z"
   },
   {
    "duration": 15,
    "start_time": "2022-06-29T20:48:37.590Z"
   },
   {
    "duration": 557,
    "start_time": "2022-06-29T20:48:42.985Z"
   },
   {
    "duration": 174,
    "start_time": "2022-06-29T20:48:56.750Z"
   },
   {
    "duration": 337,
    "start_time": "2022-06-29T20:49:11.296Z"
   }
  ],
  "kernelspec": {
   "display_name": "Python 3 (ipykernel)",
   "language": "python",
   "name": "python3"
  },
  "language_info": {
   "codemirror_mode": {
    "name": "ipython",
    "version": 3
   },
   "file_extension": ".py",
   "mimetype": "text/x-python",
   "name": "python",
   "nbconvert_exporter": "python",
   "pygments_lexer": "ipython3",
   "version": "3.9.13"
  },
  "latex_envs": {
   "LaTeX_envs_menu_present": true,
   "autoclose": false,
   "autocomplete": true,
   "bibliofile": "biblio.bib",
   "cite_by": "apalike",
   "current_citInitial": 1,
   "eqLabelWithNumbers": true,
   "eqNumInitial": 1,
   "hotkeys": {
    "equation": "Ctrl-E",
    "itemize": "Ctrl-I"
   },
   "labels_anchors": false,
   "latex_user_defs": false,
   "report_style_numbering": false,
   "user_envs_cfg": false
  },
  "toc": {
   "base_numbering": 1,
   "nav_menu": {},
   "number_sections": true,
   "sideBar": true,
   "skip_h1_title": true,
   "title_cell": "Table of Contents",
   "title_sidebar": "Contents",
   "toc_cell": false,
   "toc_position": {
    "height": "calc(100% - 180px)",
    "left": "10px",
    "top": "150px",
    "width": "252.391px"
   },
   "toc_section_display": true,
   "toc_window_display": true
  }
 },
 "nbformat": 4,
 "nbformat_minor": 2
}
